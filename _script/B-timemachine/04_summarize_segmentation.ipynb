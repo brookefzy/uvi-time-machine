{
 "cells": [
  {
   "cell_type": "code",
   "execution_count": 1,
   "id": "12391a2c-69a1-4df3-889a-40fa6e5b1356",
   "metadata": {},
   "outputs": [],
   "source": [
    "import numpy as np\n",
    "import os\n",
    "import pandas as pd\n",
    "import glob\n"
   ]
  },
  {
   "cell_type": "code",
   "execution_count": 3,
   "id": "d82c5ae5-47b0-4f8b-b418-c9db0533dae0",
   "metadata": {},
   "outputs": [],
   "source": [
    "def get_result(cityabbr, curated_folder, f_suffixes = \"*panoptic.csv\"):\n",
    "    outfolder = f\"{curated_folder}/{cityabbr}\"\n",
    "    seg_file = glob.glob(os.path.join(outfolder, f_suffixes))\n",
    "    panoptic_df = []\n",
    "    for p in seg_file:\n",
    "        temp = pd.read_csv(p)\n",
    "        panoptic_df.append(temp)\n",
    "    panoptic_df = pd.concat(panoptic_df).reset_index(drop = True)\n",
    "    return panoptic_df"
   ]
  },
  {
   "cell_type": "code",
   "execution_count": 6,
   "id": "913c523c-9ded-4b9f-be78-c45dbd67674e",
   "metadata": {},
   "outputs": [],
   "source": [
    "cityabbr = \"london\"\n",
    "curated_folder = \"/lustre1/g/geog_pyloo/05_timemachine/_curated\"\n",
    "panoptic_df = get_result(cityabbr,curated_folder, f_suffixes = \"*panoptic.csv\")\n",
    "seg_df = get_result(cityabbr, curated_folder, f_suffixes = \"*seg.csv\")"
   ]
  },
  {
   "cell_type": "markdown",
   "id": "fe003aa9-1edf-4766-8aae-9f9ebd0fd74f",
   "metadata": {},
   "source": [
    "# Tasks:\n",
    "1. Comapre the pixel level changes between iamges aggregated to hexagon level (focusing on increase)\n",
    "2. Main changes to identify: building, greenery, sidewalk, all kinds of furniture\n",
    "3. Aggregate the changes to h3 level 9 and plot the variation in map"
   ]
  },
  {
   "cell_type": "code",
   "execution_count": null,
   "id": "e3f5c18e-220c-436b-abb4-dc23be47be26",
   "metadata": {},
   "outputs": [],
   "source": []
  }
 ],
 "metadata": {
  "kernelspec": {
   "display_name": "oneformer",
   "language": "python",
   "name": "oneformer"
  },
  "language_info": {
   "codemirror_mode": {
    "name": "ipython",
    "version": 3
   },
   "file_extension": ".py",
   "mimetype": "text/x-python",
   "name": "python",
   "nbconvert_exporter": "python",
   "pygments_lexer": "ipython3",
   "version": "3.8.18"
  }
 },
 "nbformat": 4,
 "nbformat_minor": 5
}
