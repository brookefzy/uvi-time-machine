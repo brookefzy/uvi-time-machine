{
 "cells": [
  {
   "cell_type": "code",
   "execution_count": 1,
   "metadata": {},
   "outputs": [],
   "source": [
    "import pandas as pd\n",
    "import numpy as np\n",
    "import matplotlib.pyplot as plt\n",
    "import os \n",
    "\n",
    "from tqdm import tqdm\n",
    "import glob\n",
    "import sys\n",
    "\n",
    "ROOT_DIR = os.path.abspath(\"../\")\n",
    "sys.path.append(ROOT_DIR)\n",
    "import h3\n",
    "import geopandas as gpd\n",
    "import shapely"
   ]
  },
  {
   "cell_type": "code",
   "execution_count": 2,
   "metadata": {},
   "outputs": [
    {
     "name": "stdout",
     "output_type": "stream",
     "text": [
      "Total files:  762\n"
     ]
    }
   ],
   "source": [
    "ROOTFOLDER = \"/lustre1/g/geog_pyloo/05_timemachine\"\n",
    "PANO_PATH = \"{ROOTFOLDER}/GSV/gsv_rgb/{cityabbr}/gsvmeta/gsv_pano.csv\"\n",
    "PATH_PATH = \"{ROOTFOLDER}/GSV/gsv_rgb/{cityabbr}/gsvmeta/gsv_path.csv\"\n",
    "CURATED_FOLDER = f\"{ROOTFOLDER}/_curated\"\n",
    "VITALITY_FOLDER = os.path.join(CURATED_FOLDER, \"c_object_longitudinal\")\n",
    "VITALITY_HEX_FOLDER = os.path.join(CURATED_FOLDER, \"c_object_hex\")\n",
    "if not os.path.exists(VITALITY_HEX_FOLDER):\n",
    "    os.makedirs(VITALITY_HEX_FOLDER)\n",
    "VITALITY_FILE_NAME = \"c_object_res={res}_{cityabbr}.csv\"\n",
    "files = glob.glob(f\"{VITALITY_FOLDER}/*.csv\")\n",
    "print(\"Total files: \", len(files))"
   ]
  },
  {
   "cell_type": "code",
   "execution_count": 3,
   "metadata": {},
   "outputs": [],
   "source": [
    "YEAR_GROUP = ['<2014','2014-2015','2016-2017','2018-2019', '2020-2021','2022-2023']\n",
    "column_map = {\n",
    "    \"<2014\":[2007,   2008,   2009,   2010,   2011,   2012,   2013,],\n",
    "    \"2014-2015\":[2014, 2015],\n",
    "    \"2016-2017\":[2016, 2017],\n",
    "    \"2018-2019\":[2018, 2019],\n",
    "    \"2020-2021\":[2020, 2021],\n",
    "    \"2022-2023\":[2022, 2023, 2024]\n",
    "    \n",
    "}"
   ]
  },
  {
   "cell_type": "code",
   "execution_count": 4,
   "metadata": {},
   "outputs": [],
   "source": [
    "city_meta = pd.read_csv(\"../city_meta.csv\")\n",
    "city_meta['cityabbr'] = city_meta['City'].str.lower().str.replace(\" \", \"\")"
   ]
  },
  {
   "cell_type": "code",
   "execution_count": 5,
   "metadata": {},
   "outputs": [
    {
     "name": "stdout",
     "output_type": "stream",
     "text": [
      "Total files:  127\n"
     ]
    }
   ],
   "source": [
    "files = glob.glob(f\"{VITALITY_FOLDER}/c_object_res=9_*.csv\")\n",
    "print(\"Total files: \", len(files))"
   ]
  },
  {
   "cell_type": "code",
   "execution_count": 6,
   "metadata": {},
   "outputs": [],
   "source": [
    "def merge_vitality_data(res=8):\n",
    "    df_v = []\n",
    "    for cityabbr in city_meta['cityabbr']:\n",
    "\n",
    "        try:\n",
    "            file_name = VITALITY_FILE_NAME.format(res=res, cityabbr=cityabbr)\n",
    "            df = pd.read_csv(os.path.join(VITALITY_FOLDER, file_name))  \n",
    "            df['cityabbr'] = cityabbr\n",
    "            df['res'] = res\n",
    "            if df.shape[0] == 0:\n",
    "                print(f\"Empty {cityabbr}\")\n",
    "            else:\n",
    "                df_v.append(df)\n",
    "        except:\n",
    "            print(f\"Error reading {cityabbr} res={res}\")\n",
    "            continue\n",
    "    df_v = pd.concat(df_v, axis = 0).reset_index(drop=True)\n",
    "    df_v.to_parquet(f\"{VITALITY_FOLDER}/c_object_res={res}_all.parquet\")\n",
    "    return df_v"
   ]
  },
  {
   "cell_type": "code",
   "execution_count": 7,
   "metadata": {},
   "outputs": [
    {
     "name": "stdout",
     "output_type": "stream",
     "text": [
      "Empty gaborone\n",
      "Empty gaborone\n",
      "Empty gaborone\n"
     ]
    }
   ],
   "source": [
    "for res in [8,9,12]:\n",
    "    merge_vitality_data(res) # run later"
   ]
  },
  {
   "cell_type": "code",
   "execution_count": 19,
   "metadata": {},
   "outputs": [
    {
     "data": {
      "text/html": [
       "<div>\n",
       "<style scoped>\n",
       "    .dataframe tbody tr th:only-of-type {\n",
       "        vertical-align: middle;\n",
       "    }\n",
       "\n",
       "    .dataframe tbody tr th {\n",
       "        vertical-align: top;\n",
       "    }\n",
       "\n",
       "    .dataframe thead th {\n",
       "        text-align: right;\n",
       "    }\n",
       "</style>\n",
       "<table border=\"1\" class=\"dataframe\">\n",
       "  <thead>\n",
       "    <tr style=\"text-align: right;\">\n",
       "      <th></th>\n",
       "      <th>year_group</th>\n",
       "      <th>cityabbr</th>\n",
       "      <th>hex_id</th>\n",
       "      <th>object_name</th>\n",
       "      <th>n</th>\n",
       "      <th>panoid_n</th>\n",
       "    </tr>\n",
       "  </thead>\n",
       "  <tbody>\n",
       "    <tr>\n",
       "      <th>0</th>\n",
       "      <td>2014-2015</td>\n",
       "      <td>amsterdam</td>\n",
       "      <td>8c19682080033ff</td>\n",
       "      <td>car</td>\n",
       "      <td>19.0</td>\n",
       "      <td>1</td>\n",
       "    </tr>\n",
       "    <tr>\n",
       "      <th>1</th>\n",
       "      <td>2014-2015</td>\n",
       "      <td>amsterdam</td>\n",
       "      <td>8c19682080093ff</td>\n",
       "      <td>car</td>\n",
       "      <td>11.0</td>\n",
       "      <td>1</td>\n",
       "    </tr>\n",
       "    <tr>\n",
       "      <th>2</th>\n",
       "      <td>2014-2015</td>\n",
       "      <td>amsterdam</td>\n",
       "      <td>8c19682080093ff</td>\n",
       "      <td>motorcycle</td>\n",
       "      <td>2.0</td>\n",
       "      <td>1</td>\n",
       "    </tr>\n",
       "    <tr>\n",
       "      <th>3</th>\n",
       "      <td>2014-2015</td>\n",
       "      <td>amsterdam</td>\n",
       "      <td>8c19682080093ff</td>\n",
       "      <td>person</td>\n",
       "      <td>2.0</td>\n",
       "      <td>1</td>\n",
       "    </tr>\n",
       "    <tr>\n",
       "      <th>4</th>\n",
       "      <td>2014-2015</td>\n",
       "      <td>amsterdam</td>\n",
       "      <td>8c19682080167ff</td>\n",
       "      <td>bicycle</td>\n",
       "      <td>1.0</td>\n",
       "      <td>1</td>\n",
       "    </tr>\n",
       "  </tbody>\n",
       "</table>\n",
       "</div>"
      ],
      "text/plain": [
       "  year_group   cityabbr           hex_id object_name     n  panoid_n\n",
       "0  2014-2015  amsterdam  8c19682080033ff         car  19.0         1\n",
       "1  2014-2015  amsterdam  8c19682080093ff         car  11.0         1\n",
       "2  2014-2015  amsterdam  8c19682080093ff  motorcycle   2.0         1\n",
       "3  2014-2015  amsterdam  8c19682080093ff      person   2.0         1\n",
       "4  2014-2015  amsterdam  8c19682080167ff     bicycle   1.0         1"
      ]
     },
     "execution_count": 19,
     "metadata": {},
     "output_type": "execute_result"
    }
   ],
   "source": [
    "res = 12\n",
    "df_v =pd.read_parquet(f\"{VITALITY_FOLDER}/c_object_res={res}_all.parquet\")\n",
    "df_v['year'] = df_v['year'].astype(int)\n",
    "# create year group\n",
    "for k,v in column_map.items():\n",
    "    df_v.loc[df_v['year'].isin(v), 'year_group'] = k\n",
    "\n",
    "\n",
    "df_v_group  = df_v.groupby(['year_group','cityabbr','hex_id','object_name']).agg({\n",
    "    'n':'sum',\n",
    "    'panoid_n':'sum',\n",
    "}).reset_index()\n",
    "df_v_group.head()"
   ]
  },
  {
   "cell_type": "code",
   "execution_count": 20,
   "metadata": {},
   "outputs": [
    {
     "data": {
      "text/plain": [
       "142"
      ]
     },
     "execution_count": 20,
     "metadata": {},
     "output_type": "execute_result"
    }
   ],
   "source": [
    "import gc\n",
    "gc.collect()"
   ]
  },
  {
   "cell_type": "code",
   "execution_count": 21,
   "metadata": {},
   "outputs": [
    {
     "name": "stdout",
     "output_type": "stream",
     "text": [
      "Number of cities available:  121\n"
     ]
    }
   ],
   "source": [
    "# experiment 1: only keep the hex_id that have images in all years\n",
    "year_group_included = YEAR_GROUP[2:]\n",
    "df_v_group_filtered = df_v_group[df_v_group['year_group'].isin(year_group_included)].reset_index(drop = True)\n",
    "all_hex_df = df_v_group_filtered[['hex_id','cityabbr','year_group','panoid_n']].drop_duplicates().reset_index(drop = True)\n",
    "\n",
    "all_hex_df['n_year_group'] = all_hex_df.groupby(['cityabbr','hex_id'])['year_group'].transform('nunique')\n",
    "all_hex_df['keep'] = all_hex_df['n_year_group'] == len(year_group_included)\n",
    "\n",
    "full_hex_df = all_hex_df[['year_group','cityabbr','hex_id','panoid_n','keep']].copy()\n",
    "print(\"Number of cities available: \", full_hex_df['cityabbr'].nunique())"
   ]
  },
  {
   "cell_type": "code",
   "execution_count": 22,
   "metadata": {},
   "outputs": [
    {
     "name": "stdout",
     "output_type": "stream",
     "text": [
      "Saved car to /lustre1/g/geog_pyloo/05_timemachine/_curated/c_object_hex/c_object_res=12_car.parquet\n",
      "Saved motorcycle to /lustre1/g/geog_pyloo/05_timemachine/_curated/c_object_hex/c_object_res=12_motorcycle.parquet\n",
      "Saved person to /lustre1/g/geog_pyloo/05_timemachine/_curated/c_object_hex/c_object_res=12_person.parquet\n",
      "Saved bicycle to /lustre1/g/geog_pyloo/05_timemachine/_curated/c_object_hex/c_object_res=12_bicycle.parquet\n",
      "Saved truck to /lustre1/g/geog_pyloo/05_timemachine/_curated/c_object_hex/c_object_res=12_truck.parquet\n",
      "Saved bench to /lustre1/g/geog_pyloo/05_timemachine/_curated/c_object_hex/c_object_res=12_bench.parquet\n",
      "Saved bus to /lustre1/g/geog_pyloo/05_timemachine/_curated/c_object_hex/c_object_res=12_bus.parquet\n",
      "Saved stop sign to /lustre1/g/geog_pyloo/05_timemachine/_curated/c_object_hex/c_object_res=12_stop sign.parquet\n",
      "Saved traffic light to /lustre1/g/geog_pyloo/05_timemachine/_curated/c_object_hex/c_object_res=12_traffic light.parquet\n",
      "Saved fire hydrant to /lustre1/g/geog_pyloo/05_timemachine/_curated/c_object_hex/c_object_res=12_fire hydrant.parquet\n",
      "Saved chair to /lustre1/g/geog_pyloo/05_timemachine/_curated/c_object_hex/c_object_res=12_chair.parquet\n",
      "Saved train to /lustre1/g/geog_pyloo/05_timemachine/_curated/c_object_hex/c_object_res=12_train.parquet\n"
     ]
    }
   ],
   "source": [
    "for object_name in df_v_group['object_name'].unique():\n",
    "    if object_name in [0, '0']:\n",
    "        continue\n",
    "    df_object = full_hex_df.merge(df_v_group[df_v_group['object_name'] == object_name][['n','cityabbr','hex_id','year_group']], \n",
    "                                on = ['cityabbr','hex_id','year_group'], how = 'left').fillna(0)\n",
    "    # step 1. without balancing the hex_id. simply plot the change of number of person observed per hex_id per city\n",
    "    df_object['n_per_pano'] = df_object['n']/df_object['panoid_n']\n",
    "    df_object.to_parquet(f\"{VITALITY_HEX_FOLDER}/c_object_res={res}_{object_name}.parquet\")\n",
    "    print(f\"Saved {object_name} to {VITALITY_HEX_FOLDER}/c_object_res={res}_{object_name}.parquet\")"
   ]
  },
  {
   "cell_type": "code",
   "execution_count": 18,
   "metadata": {},
   "outputs": [
    {
     "data": {
      "image/png": "[encoded data removed]",
      "text/plain": [
       "<Figure size 1000x600 with 1 Axes>"
      ]
     },
     "metadata": {},
     "output_type": "display_data"
    }
   ],
   "source": [
    "import seaborn as sns\n",
    "fig, ax = plt.subplots(figsize=(10, 6))\n",
    "sns.set_theme(style=\"whitegrid\")\n",
    "sns.pointplot(data=df_object, \n",
    "              x='year_group', \n",
    "              y='n_per_pano', \n",
    "            #   hue='cityabbr', \n",
    "              # dodge=True, ci='sd'\n",
    "              )\n",
    "sns.despine()"
   ]
  },
  {
   "cell_type": "code",
   "execution_count": null,
   "metadata": {},
   "outputs": [],
   "source": []
  }
 ],
 "metadata": {
  "kernelspec": {
   "display_name": "py312",
   "language": "python",
   "name": "python3"
  },
  "language_info": {
   "codemirror_mode": {
    "name": "ipython",
    "version": 3
   },
   "file_extension": ".py",
   "mimetype": "text/x-python",
   "name": "python",
   "nbconvert_exporter": "python",
   "pygments_lexer": "ipython3",
   "version": "3.12.6"
  }
 },
 "nbformat": 4,
 "nbformat_minor": 2
}
