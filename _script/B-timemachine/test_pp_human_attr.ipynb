{
 "cells": [
  {
   "cell_type": "code",
   "execution_count": 1,
   "id": "f9321072-88bf-48ba-bd10-c4b74f332e50",
   "metadata": {},
   "outputs": [],
   "source": [
    "import pandas as pd\n",
    "import numpy as np\n",
    "import matplotlib.pyplot as plt\n",
    "import os\n",
    "\n",
    "from tqdm import tqdm\n",
    "import glob\n",
    "import sys\n",
    "ROOT_DIR = os.path.abspath(\"../\")\n",
    "sys.path.append(ROOT_DIR)"
   ]
  },
  {
   "cell_type": "code",
   "execution_count": null,
   "id": "c734139a-46a5-456b-8f32-39039a570099",
   "metadata": {},
   "outputs": [],
   "source": [
    "# INSTALLATION:\n"
   ]
  },
  {
   "cell_type": "code",
   "execution_count": 5,
   "id": "426e4578-309f-40cf-a218-83ff2c824dd3",
   "metadata": {},
   "outputs": [
    {
     "name": "stdout",
     "output_type": "stream",
     "text": [
      "python deploy/pipeline/pipeline_no_viz.py --config deploy/pipeline/config/infer_cfg_pphuman.yml                                                    --image_file=/lustre1/g/geog_pyloo/05_timemachine/GSV/gsv_rgb/milan/img_rgb/0_1/4/b/wg61GguhDldInl4uzO-8WQ_270.jpg                                                    --device=gpu                                                    --output_dir=/home/yuanzf/uvi-time-machine/_script                                                    --visual=False                                                    --save_result=True\n",
      "                                                   \n"
     ]
    }
   ],
   "source": [
    "test_img_path = '/lustre1/g/geog_pyloo/05_timemachine/GSV/gsv_rgb/milan/img_rgb/0_1/4/b/wg61GguhDldInl4uzO-8WQ_270.jpg'\n",
    "lines = f\"\"\"python deploy/pipeline/pipeline_no_viz.py --config deploy/pipeline/config/infer_cfg_pphuman.yml \\\n",
    "                                                   --image_file={test_img_path} \\\n",
    "                                                   --device=gpu \\\n",
    "                                                   --output_dir=/lustre1/g/geog_pyloo/05_timemachine/_curated/c_human_attr/hongkong \\\n",
    "                                                   --visual=False \\\n",
    "                                                   --save_result=True\n",
    "                                                   \"\"\"\n",
    "print(lines)"
   ]
  },
  {
   "cell_type": "code",
   "execution_count": 2,
   "id": "da79560f-e10d-425d-b104-feee5c5bdd17",
   "metadata": {},
   "outputs": [
    {
     "name": "stdout",
     "output_type": "stream",
     "text": [
      "python deploy/pipeline/pipeline_no_viz.py --config deploy/pipeline/config/infer_cfg_pphuman.yml                                                    --image_path=/lustre1/g/geog_pyloo/05_timemachine/_transformed/t_human_attr/sel_path/hongkong.csv                                                    --device=gpu                                                    --output_dir=/lustre1/g/geog_pyloo/05_timemachine/_curated/c_human_attr/hongkong_r2                                                    --visual=False                                                    --save_result=True\n",
      "                                                   \n"
     ]
    }
   ],
   "source": [
    "cityabbr = \"hongkong\"\n",
    "test_img_path = f\"/lustre1/g/geog_pyloo/05_timemachine/_transformed/t_human_attr/sel_path/{cityabbr}.csv\"\n",
    "lines = f\"\"\"python deploy/pipeline/pipeline_no_viz.py --config deploy/pipeline/config/infer_cfg_pphuman.yml \\\n",
    "                                                   --image_path={test_img_path} \\\n",
    "                                                   --device=gpu \\\n",
    "                                                   --output_dir=/lustre1/g/geog_pyloo/05_timemachine/_curated/c_human_attr/{cityabbr}_r2 \\\n",
    "                                                   --visual=False \\\n",
    "                                                   --save_result=True\n",
    "                                                   \"\"\"\n",
    "print(lines)"
   ]
  },
  {
   "cell_type": "code",
   "execution_count": null,
   "id": "f6cffd6c-b01a-4e74-b3f7-4330d902ed64",
   "metadata": {},
   "outputs": [],
   "source": [
    "\"\"\"python tools/infer.py -c configs/ppyolo/ppyolo_r50vd_dcn_1x_coco.yml -o \\\n",
    "                        use_gpu=true weights=https://paddledet.bj.bcebos.com/models/ppyolo_r50vd_dcn_1x_coco.pdparams \\\n",
    "                        --infer_img=/lustre1/g/geog_pyloo/05_timemachine/GSV/gsv_rgb/milan/img_rgb/0_1/4/b/wg61GguhDldInl4uzO-8WQ_270.jpg\"\"\""
   ]
  },
  {
   "cell_type": "code",
   "execution_count": null,
   "id": "f52606c6-085b-4d38-b271-388e82d6c5fd",
   "metadata": {},
   "outputs": [],
   "source": [
    "\"\"\"python deploy/pipeline/pipeline_no_video_output.py \\\n",
    "--config deploy/pipeline/config/infer_cfg_pphuman.yml \\\n",
    "-o ATTR.model_dir=/scr/u/yuanzf/PaddleDetection/output_inference/PPLCNet_x1_0_person_attribute_945_infer/ \\\n",
    "--image_file=\"/lustre1/g/geog_pyloo/05_timemachine/GSV/gsv_rgb/milan/img_rgb/0_1/4/b/wg61GguhDldInl4uzO-8WQ_270.jpg\" \\\n",
    "--device=gpu\"\"\""
   ]
  },
  {
   "cell_type": "code",
   "execution_count": null,
   "id": "4c970e4f-840a-4f39-8d56-5db3ad704ee9",
   "metadata": {},
   "outputs": [],
   "source": [
    "\"\"\"python deploy/pipeline/pipeline_no_video_output.py \\\n",
    "--config deploy/pipeline/config/infer_cfg_pphuman.yml \\\n",
    "-o ATTR.model_dir=output_inference/PPLCNet_x1_0_person_attribute_945_infer/ \\\n",
    "--video_file=\"/lustre1/u/yuanzf/05_WW/_raw/videos_current/Downtown Crossing videos (NEW)/VID1/20100521-074701b14.avi\" \\\n",
    "--device=gpu\"\"\""
   ]
  }
 ],
 "metadata": {
  "kernelspec": {
   "display_name": "paddle117",
   "language": "python",
   "name": "paddle117"
  },
  "language_info": {
   "codemirror_mode": {
    "name": "ipython",
    "version": 3
   },
   "file_extension": ".py",
   "mimetype": "text/x-python",
   "name": "python",
   "nbconvert_exporter": "python",
   "pygments_lexer": "ipython3",
   "version": "3.10.15"
  }
 },
 "nbformat": 4,
 "nbformat_minor": 5
}
