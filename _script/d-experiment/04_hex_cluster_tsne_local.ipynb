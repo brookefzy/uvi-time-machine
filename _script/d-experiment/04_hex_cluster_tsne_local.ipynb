{
 "cells": [
  {
   "cell_type": "code",
   "execution_count": null,
   "metadata": {},
   "outputs": [],
   "source": [
    "import os\n",
    "import pandas as pd\n",
    "import numpy as np\n",
    "from glob import glob\n",
    "import gspread\n",
    "import h3\n",
    "from tqdm import tqdm\n",
    "# from fcmeans import FCM\n",
    "import matplotlib.pyplot as plt\n",
    "from sklearn import manifold\n",
    "from sklearn.preprocessing import StandardScaler, MinMaxScaler\n",
    "from sklearn.decomposition import NMF\n",
    "from sklearn.metrics import silhouette_score, silhouette_samples\n",
    "import seaborn as sns\n",
    "# import kmean\n",
    "from sklearn.cluster import KMeans\n",
    "from scipy.spatial import distance\n",
    "import os"
   ]
  },
  {
   "cell_type": "code",
   "execution_count": null,
   "metadata": {},
   "outputs": [],
   "source": [
    "# load tsne data\n",
    "ROOTFOLDER = \"/Users/yuan/Dropbox (Personal)/Personal Work/_Projects2023/01_city-never-was\"\n",
    "DATA_FOLDER = f\"{ROOTFOLDER}/_data/_curated/c_seg_hex\"\n",
    "DATA_EXPORT = f\"{ROOTFOLDER}/_data/_curated/c_hex_cluster\"\n",
    "if not os.path.exists(DATA_EXPORT):\n",
    "    os.makedirs(DATA_EXPORT)\n",
    "BOUND_FOLDER = f\"{ROOTFOLDER}/_data/_raw/r_boundary_osm\"\n",
    "\n",
    "# GRAPHIC_PATH = \"/group/geog_pyloo/08_GSV/_graphic/cluster/allcities\"\n",
    "GRAPHIC_PATH = f\"{ROOTFOLDER}/_graphic/cluster_within_city\"\n",
    "if not os.path.exists(GRAPHIC_PATH):\n",
    "    os.makedirs(GRAPHIC_PATH)\n",
    "res = 9\n",
    "\n",
    "FILENAME = \"c_seg_cat=31_res={res}_tsne.parquet\"\n",
    "df = pd.read_parquet(os.path.join(DATA_FOLDER, FILENAME.format(res = res)))\n",
    "FILENAME_ORI = \"c_seg_cat=31_res={res}.parquet\"\n",
    "df_ori = pd.read_parquet(os.path.join(DATA_FOLDER, FILENAME_ORI.format(res = res)))"
   ]
  },
  {
   "cell_type": "code",
   "execution_count": null,
   "metadata": {},
   "outputs": [],
   "source": [
    "def plot_wss_kmean(data, N, comment):\n",
    "    \"\"\"Try Kmean instead\"\"\"\n",
    "    wss = []\n",
    "    distorsions = []\n",
    "    for i in range(2,N):\n",
    "        print(\"cluster: \", i)\n",
    "        # fcm_vol = FCM(n_clusters=i, random_state=0)\n",
    "        km = KMeans(n_clusters=i, random_state=0)\n",
    "        km.fit(data)\n",
    "        wss.append(km.inertia_)\n",
    "        distorsions.append(sum(np.min(distance.cdist(data,\n",
    "        km.cluster_centers_, 'euclidean'),axis=1)) /\n",
    "        data.shape[0])\n",
    "        \n",
    "    sns.set(style=\"whitegrid\")\n",
    "    sns.set_context(\"paper\", rc={\"font.size\":10,\"axes.titlesize\":12,\"axes.labelsize\":12})\n",
    "\n",
    "    plt.figure(figsize=(6,4))\n",
    "    plt.plot(range(2,N), wss, 'bx-', color='black')\n",
    "    # plt.grid(True,alpha=.3)\n",
    "    # plt.legend(framealpha=.3)\n",
    "    plt.xlabel('Number of clusters $c$')\n",
    "    plt.ylabel('Inertia')\n",
    "    plt.title('The Elbow Method showing the optimal $c$')\n",
    "    plt.savefig(os.path.join(GRAPHIC_PATH,f\"elbow_volume_{N}_{comment}.png\"), dpi=200, bbox_inches = 'tight')\n",
    "    plt.show()\n",
    "    return wss, distorsions"
   ]
  },
  {
   "cell_type": "code",
   "execution_count": null,
   "metadata": {},
   "outputs": [],
   "source": [
    "data = df[['tsne_1', 'tsne_2']].copy()\n",
    "# wss, distorsions = plot_wss_kmean(data, 30, \"tsne-2d\")"
   ]
  },
  {
   "cell_type": "code",
   "execution_count": null,
   "metadata": {},
   "outputs": [],
   "source": [
    "# plt.figure(figsize=(6,4))\n",
    "# plt.plot(range(2,30), distorsions, 'bx-', color='black')\n",
    "# # plt.grid(True,alpha=.3)\n",
    "# # plt.legend(framealpha=.3)\n",
    "# plt.xlabel('Number of clusters $k$')\n",
    "# plt.ylabel('Inertia')\n",
    "# plt.title('The Elbow Method showing the optimal $k$')\n",
    "# plt.savefig(os.path.join(GRAPHIC_PATH,f\"elbow_volume_30_tsn-distorsion.png\"), dpi=200, bbox_inches = 'tight')\n",
    "# plt.show()"
   ]
  },
  {
   "cell_type": "code",
   "execution_count": null,
   "metadata": {},
   "outputs": [],
   "source": [
    "N = 8\n",
    "km = KMeans(n_clusters=N, random_state=0)\n",
    "km.fit(data)\n",
    "df[f'cluster_{N}'] = km.labels_\n",
    "df_ori[f'cluster_{N}'] = km.labels_"
   ]
  },
  {
   "cell_type": "code",
   "execution_count": null,
   "metadata": {},
   "outputs": [],
   "source": [
    "df.to_csv(os.path.join(DATA_FOLDER, \"c_seg_cat=31_res={res}_tsne_cluster={n}.csv\".format(res = res, n = N)), index=False)"
   ]
  },
  {
   "cell_type": "code",
   "execution_count": null,
   "metadata": {},
   "outputs": [],
   "source": [
    "# N = 13\n",
    "N = 8\n",
    "df = pd.read_csv(os.path.join(DATA_FOLDER, \"c_seg_cat=31_res={res}_tsne_cluster={n}.csv\".format(res = res, n = N)))\n",
    "df_ori[f'cluster_{N}'] = df[f'cluster_{N}']"
   ]
  },
  {
   "cell_type": "code",
   "execution_count": null,
   "metadata": {},
   "outputs": [],
   "source": [
    "variables_sel_top1 = [\n",
    "    'bike', \n",
    "             'building', \n",
    "             'bus', \n",
    "             'car',\n",
    "       'grass', \n",
    "       'house', \n",
    "       'installation', \n",
    "       'lake+waterboday', \n",
    "       'light',\n",
    "       'mountain+hill', \n",
    "       'person', \n",
    "       'pole', \n",
    "       'railing', \n",
    "       'road',\n",
    "       'shrub', \n",
    "       'sidewalk', \n",
    "       'signage', \n",
    "       'sky',  \n",
    "       'sportsfield',\n",
    "       'table+chair', \n",
    "       'tower', \n",
    "       'traffic light', \n",
    "       'trashcan', \n",
    "       'tree', \n",
    "       'truck',\n",
    "       'van', \n",
    "       'wall',\n",
    "       'skyscraper',\n",
    "       'window'\n",
    "       ]\n",
    "\n",
    "variable_mapping_2 = dict(zip(\n",
    "       ['bike', \n",
    "             'building', \n",
    "             'bus', \n",
    "             'car',\n",
    "       'grass', \n",
    "       'house', \n",
    "       'installation', \n",
    "       'lake+waterboday', \n",
    "       'light',\n",
    "       'mountain+hill', \n",
    "       'person', \n",
    "       'pole', \n",
    "       'railing', \n",
    "       'road',\n",
    "       'shrub', \n",
    "       'sidewalk', \n",
    "       'signage', \n",
    "       'sky',  \n",
    "       'sportsfield',\n",
    "       'table+chair', \n",
    "       'tower', \n",
    "       'traffic light', \n",
    "       'trashcan', \n",
    "       'tree', \n",
    "       'truck',\n",
    "       'van', \n",
    "       'wall',\n",
    "       'ground',\n",
    "       'other',\n",
    "       'skyscraper',\n",
    "       'window'],\n",
    "       ['bike', \n",
    "             'building', \n",
    "             'bus', \n",
    "             'car',\n",
    "       'grass', \n",
    "       'house', \n",
    "       'furniture', \n",
    "       'nature', \n",
    "       'furniture', \n",
    "       'nature',  \n",
    "       'person', \n",
    "       'furniture', \n",
    "       'railing', \n",
    "       'road',\n",
    "       'shrub', \n",
    "       'sidewalk', \n",
    "       'signage', \n",
    "       'sky',  \n",
    "       'sportsfield',\n",
    "       'furniture', \n",
    "       'tower', \n",
    "       'furniture', \n",
    "       'furniture', \n",
    "       'tree', \n",
    "       'truck',\n",
    "       'van', \n",
    "       'wall',\n",
    "       'other',\n",
    "       'other',\n",
    "       'skyscraper',\n",
    "       'building',])\n",
    ")"
   ]
  },
  {
   "cell_type": "code",
   "execution_count": null,
   "metadata": {},
   "outputs": [],
   "source": [
    "variables_sel_top2 = [\n",
    "    'bike',\n",
    " 'bus',\n",
    " 'car',\n",
    " 'house',\n",
    " 'person',\n",
    " 'railing',\n",
    " 'road',\n",
    " 'sidewalk',\n",
    " 'truck',\n",
    " 'van']"
   ]
  },
  {
   "cell_type": "code",
   "execution_count": null,
   "metadata": {},
   "outputs": [],
   "source": [
    "variables_sel_top1_order = [\n",
    "    'skyscraper',\n",
    "     \"bus\",\n",
    " \"road\",'light','sidewalk', \n",
    "     \n",
    "   \n",
    " \"car\", \"van\", \n",
    "        \n",
    "       \n",
    "    \n",
    "     # nature and open space\n",
    "     \n",
    "      \"building\",\n",
    "      \"railing\",\n",
    "       \n",
    "    'trashcan',\n",
    "    'grass',\n",
    "    'shrub', \n",
    "    'tree',\n",
    "    \n",
    "     'mountain+hill',\n",
    "    # small scale building\n",
    "        'house',\n",
    "    \n",
    "    # rural \n",
    "    \n",
    "   \n",
    "        \n",
    "        \n",
    "        # slow speed activities\n",
    "         'bike',\n",
    "         \n",
    "         'installation', \n",
    "         'truck',\n",
    "          'pole',\n",
    "          'wall',\n",
    "          \n",
    "         \n",
    "         \n",
    "        'traffic light',\n",
    "           \n",
    "    'signage',\n",
    "    'table+chair',\n",
    "    'person',\n",
    "    \n",
    "    'window',\n",
    "    'sportsfield',\n",
    "    \n",
    "    'sky',\n",
    "    'lake+waterboday',\n",
    "    \n",
    "     \n",
    "    \n",
    "]"
   ]
  },
  {
   "cell_type": "code",
   "execution_count": null,
   "metadata": {},
   "outputs": [],
   "source": [
    "# summarize the cluster type\n",
    "df_summary = df_ori[variables_sel_top1_order+[f\"cluster_{N}\"]].groupby(f\"cluster_{N}\").mean().stack().reset_index()\\\n",
    ".rename(columns = {\"level_1\":\"variable\", 0:\"std_value\"})\n",
    "\n",
    "\n",
    "df_summary_update = []\n",
    "for v in df_summary[\"category\"].unique():\n",
    "    temp = df_summary[df_summary[\"category\"]==v].reset_index(drop = True)\n",
    "    temp[\"norm_value\"] = (temp[\"std_value\"] - temp[\"std_value\"].min())/(temp[\"std_value\"].max() - temp[\"std_value\"].min())\n",
    "    df_summary_update.append(temp)\n",
    "    \n",
    "df_summary_update = pd.concat(df_summary_update).reset_index()\n",
    "\n",
    "df_heat = df_summary_update.pivot(\n",
    "    columns= \"category\", values = \"norm_value\", index = f\"cluster_{N}\"\n",
    ")[variables_sel_top1_order].sort_values('skyscraper', ascending = False)\n",
    "df_heat\n",
    "\n"
   ]
  },
  {
   "cell_type": "code",
   "execution_count": null,
   "metadata": {},
   "outputs": [],
   "source": [
    "# df_summary_update['category_mean'] = df_summary_update.groupby('category')['norm_value'].transform('median') \n",
    "# df_summary_update.sort_values('category_mean').drop_duplicates(subset = ['category'], keep = 'first')\n",
    "# category_common_order = df_summary_update.sort_values('category_mean', ascending = False).drop_duplicates(subset = ['category'], keep = 'first')['category'].tolist()\n",
    "# category_nature_to_build_order = {\n",
    "#     \"sky\":1,\n",
    "#     \"lake+waterboday\":1,\n",
    "#     \"mountain+hill\":1,\n",
    "#     \"tree\":2,\n",
    "#     \"grass\":2,\n",
    "#     \"shrub\":2,\n",
    "#     \"sportsfield\":3,\n",
    "    \n",
    "#     \"truck\":4,\n",
    "#     \"van\":4,\n",
    "#     \"car\":4,\n",
    "#     \"bus\":4,\n",
    "#     \"bike\":5,\n",
    "#     \"person\":5,\n",
    "#     \"trashcan\":6,\n",
    "#     \"signage\":6,\n",
    "#     'traffic light':6,\n",
    "#     \"pole\":6,\n",
    "#     \"light\":6,\n",
    "#     \"table+chair\":6,\n",
    "#     \"installation\":6,\n",
    "#     \"wall\":6,\n",
    "#     \"sidewalk\":6,\n",
    "    \n",
    "#     \"road\":6,\n",
    "#     \"railing\":6,\n",
    "#     \"building\":6,\n",
    "#     \"house\":6,\n",
    "#     \"window\":6,\n",
    "#     \"skyscraper\":6\n",
    "# }\n",
    "\n",
    "# df_summary_update['nature_order'] = df_summary_update['category'].map(category_nature_to_build_order)\n",
    "# df_summary_update['common_order'] = df_summary_update['category'].map(dict(zip(category_common_order, range(len(category_common_order)))))\n",
    "# df_summary_update"
   ]
  },
  {
   "cell_type": "code",
   "execution_count": null,
   "metadata": {},
   "outputs": [],
   "source": [
    "# category_order_mix = df_summary_update.drop_duplicates(['category']).sort_values(['nature_order','common_order',], ascending = True)['category'].tolist()\n",
    "# category_order_mix"
   ]
  },
  {
   "cell_type": "code",
   "execution_count": null,
   "metadata": {},
   "outputs": [],
   "source": [
    "df_heat = df_summary_update.pivot(\n",
    "    columns= \"category\", values = \"norm_value\", index = f\"cluster_{N}\"\n",
    ")[variables_sel_top1_order].sort_values(variables_sel_top1_order[:5], ascending = False)\n",
    "df_heat"
   ]
  },
  {
   "cell_type": "code",
   "execution_count": null,
   "metadata": {},
   "outputs": [],
   "source": [
    "# use heatmap to visualize the cluster\n",
    "fig, ax = plt.subplots(figsize = (22,4.5))\n",
    "# use a gradient color\n",
    "cluster_order = [0,5,3,6,2,1,7,4]\n",
    "sns.heatmap(df_heat.loc[cluster_order], \n",
    "            cmap = \"coolwarm\", annot = True, fmt=\".2f\", \n",
    "            ax = ax)\n",
    "# show axis annotation larger\n",
    "ax.tick_params(axis='both', which='major', labelsize=12)\n",
    "# show ticks to the left\n",
    "ax.yaxis.tick_left()\n",
    "# show ticks to the bottom\n",
    "ax.xaxis.tick_top()\n",
    "# rotate the x axis\n",
    "plt.xticks(rotation=45)"
   ]
  },
  {
   "cell_type": "code",
   "execution_count": null,
   "metadata": {},
   "outputs": [],
   "source": [
    "# cluster_order = [0,5,6,3,4,2,1,7,]\n",
    "cluster_name = {\n",
    "    0:\"multi-modal dense urban center\",\n",
    "    5: \"walkable dense urban center\",\n",
    "    3: \"car-oriented urban center\",\n",
    "    6: \"major connector infrastructure\",\n",
    "    2: \"open space + built up\",\n",
    "    1: \"park adjacent community\",\n",
    "    7:\"human-scale park and open space\",\n",
    "    4: \"bridge and tunnel\"\n",
    "} # need to find some example images to check the results"
   ]
  },
  {
   "cell_type": "markdown",
   "metadata": {},
   "source": [
    "# Save geojson"
   ]
  },
  {
   "cell_type": "code",
   "execution_count": null,
   "metadata": {},
   "outputs": [],
   "source": [
    "# use the husl color to map to each cluster\n",
    "import seaborn as sns\n",
    "color_palette = sns.color_palette(\"husl\", N)\n",
    "color_dict = dict(zip(range(N), color_palette))\n",
    "color_palette"
   ]
  },
  {
   "cell_type": "code",
   "execution_count": null,
   "metadata": {},
   "outputs": [],
   "source": [
    "# visualize one city\n",
    "# get the geometry\n",
    "from shapely.geometry import Polygon\n",
    "import geopandas as gpd\n",
    "\n",
    "def cell_to_shapely(cell):\n",
    "    coords = h3.h3_to_geo_boundary(cell)\n",
    "    flipped = tuple(coord[::-1] for coord in coords)\n",
    "    return Polygon(flipped)\n",
    "\n",
    "\n",
    "# loop through all cities and save the graphic and data\n",
    "def get_result(city, N = N):\n",
    "    cityabbr = city.lower().replace(\" \", \"\")\n",
    "    sample = df[df[\"city_lower\"]==cityabbr].reset_index(drop = True)\n",
    "    h3_geoms = sample['hex_id'].apply(lambda x: cell_to_shapely(x))\n",
    "    df_sel_gdf = gpd.GeoDataFrame(sample[['hex_id',f\"cluster_{N}\"]], geometry = h3_geoms)\n",
    "    df_sel_gdf.crs = \"EPSG:4326\"\n",
    "    df_sel_gdf[f\"cluster_{N}\"] = df_sel_gdf[f\"cluster_{N}\"].astype(str)\n",
    "    # use the color palette to map the cluster consistently\n",
    "    fig, ax = plt.subplots(figsize = (8,8))\n",
    "    for c in range(N):\n",
    "        df_sel_gdf[df_sel_gdf[f\"cluster_{N}\"]==str(c)].plot(ax = ax, \n",
    "                                                            color = color_dict[c], \n",
    "                                                            linewidth = 0.5,\n",
    "                                                            label = f\"cluster_{c}\",\n",
    "                                                            legend = True)\n",
    "\n",
    "    plt.title(city)\n",
    "    # add the legend\n",
    "    plt.legend(loc='upper left', bbox_to_anchor=(1, 1))\n",
    "    exportfolder = os.path.join(GRAPHIC_PATH, \"cluster=\"+str(N))\n",
    "    if not os.path.exists(exportfolder):\n",
    "        os.makedirs(exportfolder)\n",
    "    plt.savefig(os.path.join(exportfolder, f\"{city}_cluster={N}-tsn-res=9.png\"), dpi=200, bbox_inches = 'tight')\n",
    "    \n",
    "    # df_sel_gdf.to_file(os.path.join(exportfolder,f\"{city}_cluster={N}-tsn-res=9.geojson\"), driver = \"GeoJSON\")\n",
    "    return df_sel_gdf\n",
    "\n",
    "# loop through all cities and save the graphic and data\n",
    "def get_result_within(city, N = N):\n",
    "    cityabbr = city.lower().replace(\" \", \"\")\n",
    "    sample = df[df[\"city_lower\"]==cityabbr].reset_index(drop = True)\n",
    "    h3_geoms = sample['hex_id'].apply(lambda x: cell_to_shapely(x))\n",
    "    df_sel_gdf = gpd.GeoDataFrame(sample[['hex_id',f\"cluster_{N}\"]], geometry = h3_geoms)\n",
    "    df_sel_gdf.crs = \"EPSG:4326\"\n",
    "    df_sel_gdf[f\"cluster_{N}\"] = df_sel_gdf[f\"cluster_{N}\"].astype(str)\n",
    "    # select the geometry within the boundary\n",
    "    if \",\" in cityabbr:\n",
    "        city_short = cityabbr.split(\",\")[0]\n",
    "    else:\n",
    "        city_short = cityabbr\n",
    "    bound = gpd.read_file(os.path.join(BOUND_FOLDER, f\"{city_short}.geojson\"))\n",
    "    assert bound.crs == df_sel_gdf.crs\n",
    "    df_sel_gdf_within = gpd.sjoin(df_sel_gdf, bound[['geometry']])\n",
    "    # use the color palette to map the cluster consistently\n",
    "    fig, ax = plt.subplots(figsize = (8,8))\n",
    "    for c in range(N):\n",
    "        to_plot = df_sel_gdf_within[df_sel_gdf_within[f\"cluster_{N}\"]==str(c)]\n",
    "        if to_plot.shape[0]>0:\n",
    "            to_plot.plot(ax = ax, \n",
    "                                color = color_dict[c], \n",
    "                                linewidth = 0.5,\n",
    "                                label = f\"cluster_{c}\",\n",
    "                                legend = True)\n",
    "        else:\n",
    "            continue\n",
    "\n",
    "    plt.title(city)\n",
    "    # hide the axis\n",
    "    plt.axis('off')\n",
    "    # add the legend\n",
    "    plt.legend(loc='upper left', bbox_to_anchor=(1, 1))\n",
    "    exportfolder = os.path.join(GRAPHIC_PATH, \"cluster=\"+str(N))\n",
    "    data_export_folder = os.path.join(DATA_EXPORT, \"cluster=\"+str(N))\n",
    "    if not os.path.exists(data_export_folder):\n",
    "        os.makedirs(data_export_folder)\n",
    "    if not os.path.exists(exportfolder):\n",
    "        os.makedirs(exportfolder)\n",
    "    plt.savefig(os.path.join(exportfolder, f\"{city}_cluster={N}-tsn-res=9.png\"), \n",
    "                dpi=200, bbox_inches = 'tight')\n",
    "    df_sel_gdf.to_file(os.path.join(data_export_folder,f\"{city}_cluster={N}-tsn-res=9.geojson\"), driver = \"GeoJSON\")\n",
    "    return df_sel_gdf_within\n",
    "\n",
    "# loop through all cities and save the graphic and data\n",
    "def get_result_within_noplot(city, N = N):\n",
    "    cityabbr = city.lower().replace(\" \", \"\")\n",
    "    sample = df[df[\"city_lower\"]==cityabbr].reset_index(drop = True)\n",
    "    h3_geoms = sample['hex_id'].apply(lambda x: cell_to_shapely(x))\n",
    "    df_sel_gdf = gpd.GeoDataFrame(sample[['hex_id',f\"cluster_{N}\"]], geometry = h3_geoms)\n",
    "    df_sel_gdf.crs = \"EPSG:4326\"\n",
    "    df_sel_gdf[f\"cluster_{N}\"] = df_sel_gdf[f\"cluster_{N}\"].astype(str)\n",
    "    # select the geometry within the boundary\n",
    "    if \",\" in cityabbr:\n",
    "        city_short = cityabbr.split(\",\")[0]\n",
    "    else:\n",
    "        city_short = cityabbr\n",
    "    bound = gpd.read_file(os.path.join(BOUND_FOLDER, f\"{city_short}.geojson\"))\n",
    "    assert bound.crs == df_sel_gdf.crs\n",
    "    df_sel_gdf_within = gpd.sjoin(df_sel_gdf, bound[['geometry']])\n",
    "    return df_sel_gdf_within"
   ]
  },
  {
   "cell_type": "code",
   "execution_count": null,
   "metadata": {},
   "outputs": [],
   "source": [
    "fullcity = df[\"city_lower\"].unique().tolist()\n",
    "fullcity"
   ]
  },
  {
   "cell_type": "code",
   "execution_count": null,
   "metadata": {},
   "outputs": [],
   "source": [
    "# allgdf = []\n",
    "# for city in df[\"city_lower\"].unique():\n",
    "#     try:\n",
    "#         df_sel_gdf = get_result(city)\n",
    "#         allgdf.append(df_sel_gdf)\n",
    "#     except:\n",
    "#         print(f\"Error in {city}\")\n",
    "# # allgdf = pd.concat(allgdf).reset_index(drop = True)"
   ]
  },
  {
   "cell_type": "code",
   "execution_count": null,
   "metadata": {},
   "outputs": [],
   "source": [
    "allgdf = []\n",
    "for city in fullcity:\n",
    "    print(city)\n",
    "    df_sel_gdf = get_result_within(city)\n",
    "    df_sel_gdf['city_lower'] = city.split(\",\")[0]\n",
    "    allgdf.append(df_sel_gdf)\n",
    "allgdf = pd.concat(allgdf)\\\n",
    "    .reset_index(drop = True)"
   ]
  },
  {
   "cell_type": "code",
   "execution_count": null,
   "metadata": {},
   "outputs": [],
   "source": [
    "allgdf.drop(\"geometry\", axis = 1).to_csv(\n",
    "    os.path.join(DATA_EXPORT, f\"allcity_cluster={N}.csv\"), index = False\n",
    ")"
   ]
  },
  {
   "cell_type": "code",
   "execution_count": null,
   "metadata": {},
   "outputs": [],
   "source": [
    "allgdf = []\n",
    "for city in fullcity[:]:\n",
    "    print(city)\n",
    "    df_sel_gdf = get_result_within_noplot(city)\n",
    "    df_sel_gdf['city_lower'] = city.split(\",\")[0]\n",
    "    allgdf.append(df_sel_gdf)\n",
    "allgdf = pd.concat(allgdf).reset_index(drop = True)\n",
    "allgdf.head()"
   ]
  },
  {
   "cell_type": "code",
   "execution_count": null,
   "metadata": {},
   "outputs": [],
   "source": [
    "allgdf.drop(columns = 'index_right', axis = 1, inplace = True)"
   ]
  },
  {
   "cell_type": "code",
   "execution_count": null,
   "metadata": {},
   "outputs": [],
   "source": [
    "# allgdf.to_file(os.path.join(DATA_FOLDER, f\"all_city_res=9_cluster={N}.geojson\"), driver = \"GeoJSON\")\n",
    "allgdf.drop('geometry', axis = 1).to_parquet(os.path.join(DATA_FOLDER, f\"all_city_within_boundary_res=9_cluster={N}.parquet\"))\n",
    "allgdf.drop('geometry', axis = 1).to_csv(os.path.join(DATA_FOLDER, f\"all_city_within_boundary_res=9_cluster={N}.csv\"), index = False)"
   ]
  },
  {
   "cell_type": "code",
   "execution_count": null,
   "metadata": {},
   "outputs": [],
   "source": [
    "df_sel_gdf = get_result_within(\"Hong Kong\", N = N)"
   ]
  },
  {
   "cell_type": "code",
   "execution_count": null,
   "metadata": {},
   "outputs": [],
   "source": [
    "df_sel_gdf = get_result_within(\"Singapore\", N = N)\n",
    "# df_sel_gdf.plot(figsize = (10,10), column = f\"cluster_{N}\", legend = True, linewidth = 0.1)"
   ]
  },
  {
   "cell_type": "code",
   "execution_count": null,
   "metadata": {},
   "outputs": [],
   "source": [
    "df_sel_gdf = get_result_within(\"Paris\", N = N)"
   ]
  },
  {
   "cell_type": "code",
   "execution_count": null,
   "metadata": {},
   "outputs": [],
   "source": [
    "df_sel_gdf = get_result_within(\"London\", N = N)"
   ]
  },
  {
   "cell_type": "code",
   "execution_count": null,
   "metadata": {},
   "outputs": [],
   "source": [
    "get_result_within(\"Nairobi\", N = N)"
   ]
  },
  {
   "cell_type": "code",
   "execution_count": null,
   "metadata": {},
   "outputs": [],
   "source": [
    "get_result_within(\"hongkong\", N = N)"
   ]
  },
  {
   "cell_type": "code",
   "execution_count": null,
   "metadata": {},
   "outputs": [],
   "source": [
    "# check why singapore is so generic\n",
    "df_ori[df_ori['city_lower']=='singapore'][['building', 'bus','person','sky', 'tree','skyscraper','road','car']].describe()"
   ]
  },
  {
   "cell_type": "code",
   "execution_count": null,
   "metadata": {},
   "outputs": [],
   "source": [
    "df_ori[df_ori['city_lower']=='hongkong'][['building', 'bus','person','sky', 'tree','skyscraper','road','car']].describe()"
   ]
  },
  {
   "cell_type": "code",
   "execution_count": null,
   "metadata": {},
   "outputs": [],
   "source": [
    "df[df['city_lower']=='london'].describe()"
   ]
  },
  {
   "cell_type": "code",
   "execution_count": null,
   "metadata": {},
   "outputs": [],
   "source": [
    "df[df['city_lower']=='singapore'].describe()"
   ]
  },
  {
   "cell_type": "code",
   "execution_count": null,
   "metadata": {},
   "outputs": [],
   "source": [
    "df[df['city_lower']=='hongkong'].describe()"
   ]
  },
  {
   "cell_type": "code",
   "execution_count": null,
   "metadata": {},
   "outputs": [],
   "source": [
    "df_sel_gdf = get_result(\"Johannesburg\", N = N)"
   ]
  },
  {
   "cell_type": "markdown",
   "metadata": {},
   "source": [
    "## 2. Summarize the results across cities"
   ]
  },
  {
   "cell_type": "code",
   "execution_count": null,
   "metadata": {},
   "outputs": [],
   "source": [
    "df_summary= pd.read_csv(os.path.join(DATA_FOLDER, \"allcity_cluster=7-tsn-res=9.csv\")).groupby([\"city_lower\",\"cluster\"])\\\n",
    "    .size().reset_index().rename(columns = {0:\"count\"}).pivot(\n",
    "    columns = \"cluster\", values = \"count\", index = \"city_lower\").fillna(0)\n",
    "df_summary['total'] = df_summary.sum(axis = 1)\n",
    "df_summary_prop = df_summary.copy()\n",
    "for i in range(N):\n",
    "    df_summary_prop[i] = df_summary_prop[i]/df_summary_prop['total']\n",
    "df_summary_prop.to_csv(os.path.join(DATA_FOLDER, \"allcity_cluster=7-tsn-res=9_city-level_summary.csv\"))\n",
    "df_summary_prop.sort_values(6, ascending = False).head(40)"
   ]
  },
  {
   "cell_type": "code",
   "execution_count": null,
   "metadata": {},
   "outputs": [],
   "source": [
    "df_summary_prop.to_csv(os.path.join(DATA_FOLDER, \"allcity_cluster=7-tsn-res=9_city-level_summary.csv\"))"
   ]
  },
  {
   "cell_type": "code",
   "execution_count": null,
   "metadata": {},
   "outputs": [],
   "source": []
  }
 ],
 "metadata": {
  "kernelspec": {
   "display_name": "geo38",
   "language": "python",
   "name": "python3"
  },
  "language_info": {
   "codemirror_mode": {
    "name": "ipython",
    "version": 3
   },
   "file_extension": ".py",
   "mimetype": "text/x-python",
   "name": "python",
   "nbconvert_exporter": "python",
   "pygments_lexer": "ipython3",
   "version": "3.8.13"
  }
 },
 "nbformat": 4,
 "nbformat_minor": 2
}
