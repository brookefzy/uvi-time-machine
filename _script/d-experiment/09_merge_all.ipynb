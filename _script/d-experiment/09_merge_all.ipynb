{
 "cells": [
  {
   "cell_type": "code",
   "execution_count": 1,
   "metadata": {},
   "outputs": [],
   "source": [
    "import geopandas as gpd\n",
    "import pandas as pd\n",
    "import numpy as np\n",
    "import os"
   ]
  },
  {
   "cell_type": "markdown",
   "metadata": {},
   "source": [
    "# 1. Merge city level all information"
   ]
  },
  {
   "cell_type": "code",
   "execution_count": 18,
   "metadata": {},
   "outputs": [
    {
     "name": "stdout",
     "output_type": "stream",
     "text": [
      "127  city profiles found\n"
     ]
    }
   ],
   "source": [
    "CURATED_FOLDER = \"D:/Dropbox (Personal)/Personal Work/_Projects2023/01_city-never-was/_data/_curated\"\n",
    "TRANSFORM_FOLDER = \"D:/Dropbox (Personal)/Personal Work/_Projects2023/01_city-never-was/_data/_transformed/t_city_profiles\"\n",
    "\n",
    "gdp = pd.read_csv(os.path.join(CURATED_FOLDER,\"c_city_profiles\", \"c_city_gdp.csv\"))\n",
    "flux = pd.read_csv(os.path.join(TRANSFORM_FOLDER, \"t_ffdas_flux_2015.csv\"))\n",
    "gdp['city_lower'] = gdp['City'].apply(lambda x: x.lower().replace(\" \", \"\").split(\",\")[0])\n",
    "profiledf = flux.merge(gdp, on = 'city_lower', how = 'inner')\n",
    "print(profiledf['city_lower'].nunique(), \" city profiles found\")\n",
    "# gdp['city_lower'].nunique()"
   ]
  },
  {
   "cell_type": "code",
   "execution_count": 19,
   "metadata": {},
   "outputs": [
    {
     "data": {
      "text/plain": [
       "Index(['city_lower', 'total_flux', 'mean_flux', 'flux_n_points', 'City',\n",
       "       'country_clean', 'State/Province', 'urban_pop', 'Metro',\n",
       "       'gdp_billion_metro', 'gdp_pop_metro', 'source_year', 'gdp_per_cap',\n",
       "       'gdp_per_cap_country_2022'],\n",
       "      dtype='object')"
      ]
     },
     "execution_count": 19,
     "metadata": {},
     "output_type": "execute_result"
    }
   ],
   "source": [
    "profiledf.columns"
   ]
  },
  {
   "cell_type": "code",
   "execution_count": 22,
   "metadata": {},
   "outputs": [
    {
     "data": {
      "text/plain": [
       "<matplotlib.collections.PathCollection at 0x1c21523ef70>"
      ]
     },
     "execution_count": 22,
     "metadata": {},
     "output_type": "execute_result"
    },
    {
     "data": {
      "image/png": "[encoded data removed]",
      "text/plain": [
       "<Figure size 432x288 with 1 Axes>"
      ]
     },
     "metadata": {
      "needs_background": "light"
     },
     "output_type": "display_data"
    }
   ],
   "source": [
    "# check relationship betwen gdp and flux\n",
    "import matplotlib.pyplot as plt\n",
    "plt.scatter(profiledf['gdp_per_cap'], profiledf['total_flux'])"
   ]
  },
  {
   "cell_type": "code",
   "execution_count": 13,
   "metadata": {},
   "outputs": [
    {
     "data": {
      "text/plain": [
       "[]"
      ]
     },
     "execution_count": 13,
     "metadata": {},
     "output_type": "execute_result"
    }
   ],
   "source": [
    "remain = [x for x in gdp['city_lower'] if x not in profiledf['city_lower'].tolist()]\n",
    "remain"
   ]
  },
  {
   "cell_type": "code",
   "execution_count": 33,
   "metadata": {},
   "outputs": [
    {
     "name": "stdout",
     "output_type": "stream",
     "text": [
      "127\n"
     ]
    }
   ],
   "source": [
    "FILENAME_CROSS = \"01_seg_dalys_cross.csv\"\n",
    "y = ['diabetes_mellitus_cap', 'mental_and_substance_use_disorders_cap',\n",
    "       'cardiovascular_diseases_cap', 'road_injury_cap','num_person_killed_per_lakh']\n",
    "\n",
    "crossdf = pd.read_csv(os.path.join(CURATED_FOLDER, \"c_analysis\", FILENAME_CROSS)).drop([\"urban_pop\"], axis = 1)\n",
    "crossdf['city_lower'] = crossdf['city_lower'].apply(lambda x: x.lower().replace(\" \", \"\").split(\",\")[0])\n",
    "mergedf = profiledf.merge(crossdf, on = ['city_lower','country_clean'], how = 'inner')\n",
    "print(mergedf['city_lower'].nunique())"
   ]
  },
  {
   "cell_type": "code",
   "execution_count": 34,
   "metadata": {},
   "outputs": [
    {
     "data": {
      "text/plain": [
       "Index(['city_lower', 'total_flux', 'mean_flux', 'flux_n_points', 'City',\n",
       "       'country_clean', 'State/Province', 'urban_pop', 'Metro',\n",
       "       'gdp_billion_metro', 'gdp_pop_metro', 'source_year', 'gdp_per_cap',\n",
       "       'gdp_per_cap_country_2022', 'hex_id', 'res', 'img_count', 'building',\n",
       "       'greenery', 'street_furniture', 'sidewalk', 'car', 'person', 'bike',\n",
       "       'sky', 'road', 'res_count', 'street_furniture_count', 'car_count',\n",
       "       'person_count', 'bike_count', 'pop_country', 'diabetes_mellitus_cap',\n",
       "       'mental_and_substance_use_disorders_cap', 'cardiovascular_diseases_cap',\n",
       "       'road_injury_cap', 'num_person_killed_per_lakh', 'num_person_killed',\n",
       "       'log_building', 'log_greenery', 'log_street_furniture', 'log_sidewalk',\n",
       "       'log_car', 'log_person', 'log_bike', 'log_sky', 'log_road',\n",
       "       'log_diabetes_mellitus_cap',\n",
       "       'log_mental_and_substance_use_disorders_cap',\n",
       "       'log_cardiovascular_diseases_cap', 'log_road_injury_cap'],\n",
       "      dtype='object')"
      ]
     },
     "execution_count": 34,
     "metadata": {},
     "output_type": "execute_result"
    }
   ],
   "source": [
    "mergedf.columns"
   ]
  },
  {
   "cell_type": "code",
   "execution_count": 35,
   "metadata": {},
   "outputs": [],
   "source": [
    "for res in [6,9]:\n",
    "    temp = mergedf[mergedf['res'] == res].drop(['res','City'], axis = 1)\n",
    "    temp.to_csv(os.path.join(CURATED_FOLDER, \"c_analysis\", f\"c_cross_res={res}.csv\"), \n",
    "                index = False)"
   ]
  },
  {
   "cell_type": "markdown",
   "metadata": {},
   "source": [
    "# 2. Add Hex level information"
   ]
  },
  {
   "cell_type": "markdown",
   "metadata": {},
   "source": []
  }
 ],
 "metadata": {
  "kernelspec": {
   "display_name": "geo38",
   "language": "python",
   "name": "python3"
  },
  "language_info": {
   "codemirror_mode": {
    "name": "ipython",
    "version": 3
   },
   "file_extension": ".py",
   "mimetype": "text/x-python",
   "name": "python",
   "nbconvert_exporter": "python",
   "pygments_lexer": "ipython3",
   "version": "3.8.13"
  }
 },
 "nbformat": 4,
 "nbformat_minor": 2
}
