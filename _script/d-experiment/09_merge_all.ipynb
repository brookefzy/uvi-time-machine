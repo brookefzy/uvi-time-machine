{
 "cells": [
  {
   "cell_type": "code",
   "execution_count": 1,
   "metadata": {},
   "outputs": [],
   "source": [
    "import geopandas as gpd\n",
    "import pandas as pd\n",
    "import numpy as np\n",
    "import os"
   ]
  },
  {
   "cell_type": "markdown",
   "metadata": {},
   "source": [
    "# 1. Merge city level all information"
   ]
  },
  {
   "cell_type": "code",
   "execution_count": 18,
   "metadata": {},
   "outputs": [
    {
     "name": "stdout",
     "output_type": "stream",
     "text": [
      "127  city profiles found\n"
     ]
    }
   ],
   "source": [
    "CURATED_FOLDER = \"D:/Dropbox (Personal)/Personal Work/_Projects2023/01_city-never-was/_data/_curated\"\n",
    "TRANSFORM_FOLDER = \"D:/Dropbox (Personal)/Personal Work/_Projects2023/01_city-never-was/_data/_transformed/t_city_profiles\"\n",
    "\n",
    "gdp = pd.read_csv(os.path.join(CURATED_FOLDER,\"c_city_profiles\", \"c_city_gdp.csv\"))\n",
    "flux = pd.read_csv(os.path.join(TRANSFORM_FOLDER, \"t_ffdas_flux_2015.csv\"))\n",
    "gdp['city_lower'] = gdp['City'].apply(lambda x: x.lower().replace(\" \", \"\").split(\",\")[0])\n",
    "profiledf = flux.merge(gdp, on = 'city_lower', how = 'inner')\n",
    "print(profiledf['city_lower'].nunique(), \" city profiles found\")\n",
    "# gdp['city_lower'].nunique()"
   ]
  },
  {
   "cell_type": "code",
   "execution_count": 19,
   "metadata": {},
   "outputs": [
    {
     "data": {
      "text/plain": [
       "Index(['city_lower', 'total_flux', 'mean_flux', 'flux_n_points', 'City',\n",
       "       'country_clean', 'State/Province', 'urban_pop', 'Metro',\n",
       "       'gdp_billion_metro', 'gdp_pop_metro', 'source_year', 'gdp_per_cap',\n",
       "       'gdp_per_cap_country_2022'],\n",
       "      dtype='object')"
      ]
     },
     "execution_count": 19,
     "metadata": {},
     "output_type": "execute_result"
    }
   ],
   "source": [
    "profiledf.columns"
   ]
  },
  {
   "cell_type": "code",
   "execution_count": 22,
   "metadata": {},
   "outputs": [
    {
     "data": {
      "text/plain": [
       "<matplotlib.collections.PathCollection at 0x1c21523ef70>"
      ]
     },
     "execution_count": 22,
     "metadata": {},
     "output_type": "execute_result"
    },
    {
     "data": {
      "image/png": "[encoded data removed]",
      "text/plain": [
       "<Figure size 432x288 with 1 Axes>"
      ]
     },
     "metadata": {
      "needs_background": "light"
     },
     "output_type": "display_data"
    }
   ],
   "source": [
    "# check relationship betwen gdp and flux\n",
    "import matplotlib.pyplot as plt\n",
    "plt.scatter(profiledf['gdp_per_cap'], profiledf['total_flux'])"
   ]
  },
  {
   "cell_type": "code",
   "execution_count": 13,
   "metadata": {},
   "outputs": [
    {
     "data": {
      "text/plain": [
       "[]"
      ]
     },
     "execution_count": 13,
     "metadata": {},
     "output_type": "execute_result"
    }
   ],
   "source": [
    "remain = [x for x in gdp['city_lower'] if x not in profiledf['city_lower'].tolist()]\n",
    "remain"
   ]
  },
  {
   "cell_type": "code",
   "execution_count": 16,
   "metadata": {},
   "outputs": [
    {
     "data": {
      "text/html": [
       "<div>\n",
       "<style scoped>\n",
       "    .dataframe tbody tr th:only-of-type {\n",
       "        vertical-align: middle;\n",
       "    }\n",
       "\n",
       "    .dataframe tbody tr th {\n",
       "        vertical-align: top;\n",
       "    }\n",
       "\n",
       "    .dataframe thead th {\n",
       "        text-align: right;\n",
       "    }\n",
       "</style>\n",
       "<table border=\"1\" class=\"dataframe\">\n",
       "  <thead>\n",
       "    <tr style=\"text-align: right;\">\n",
       "      <th></th>\n",
       "      <th>hex_id</th>\n",
       "      <th>res</th>\n",
       "      <th>city_lower</th>\n",
       "      <th>img_count</th>\n",
       "      <th>building</th>\n",
       "      <th>greenery</th>\n",
       "      <th>street_furniture</th>\n",
       "      <th>sidewalk</th>\n",
       "      <th>car</th>\n",
       "      <th>person</th>\n",
       "      <th>...</th>\n",
       "      <th>log_sidewalk</th>\n",
       "      <th>log_car</th>\n",
       "      <th>log_person</th>\n",
       "      <th>log_bike</th>\n",
       "      <th>log_sky</th>\n",
       "      <th>log_road</th>\n",
       "      <th>log_diabetes_mellitus_cap</th>\n",
       "      <th>log_mental_and_substance_use_disorders_cap</th>\n",
       "      <th>log_cardiovascular_diseases_cap</th>\n",
       "      <th>log_road_injury_cap</th>\n",
       "    </tr>\n",
       "  </thead>\n",
       "  <tbody>\n",
       "    <tr>\n",
       "      <th>0</th>\n",
       "      <td>860886607ffffff</td>\n",
       "      <td>6</td>\n",
       "      <td>stockholm</td>\n",
       "      <td>25140.0</td>\n",
       "      <td>20683.653500</td>\n",
       "      <td>32740.644352</td>\n",
       "      <td>89.822832</td>\n",
       "      <td>5402.286754</td>\n",
       "      <td>3871.875259</td>\n",
       "      <td>54.029356</td>\n",
       "      <td>...</td>\n",
       "      <td>8.594763</td>\n",
       "      <td>8.261752</td>\n",
       "      <td>4.007867</td>\n",
       "      <td>4.007606</td>\n",
       "      <td>10.656016</td>\n",
       "      <td>10.653376</td>\n",
       "      <td>6.70856</td>\n",
       "      <td>7.984735</td>\n",
       "      <td>8.397782</td>\n",
       "      <td>5.340462</td>\n",
       "    </tr>\n",
       "    <tr>\n",
       "      <th>1</th>\n",
       "      <td>86088660fffffff</td>\n",
       "      <td>6</td>\n",
       "      <td>stockholm</td>\n",
       "      <td>11408.0</td>\n",
       "      <td>19912.077840</td>\n",
       "      <td>41209.597475</td>\n",
       "      <td>110.845898</td>\n",
       "      <td>3831.753769</td>\n",
       "      <td>2141.873159</td>\n",
       "      <td>47.378769</td>\n",
       "      <td>...</td>\n",
       "      <td>8.251339</td>\n",
       "      <td>7.669903</td>\n",
       "      <td>3.879061</td>\n",
       "      <td>4.214157</td>\n",
       "      <td>10.458029</td>\n",
       "      <td>10.509015</td>\n",
       "      <td>6.70856</td>\n",
       "      <td>7.984735</td>\n",
       "      <td>8.397782</td>\n",
       "      <td>5.340462</td>\n",
       "    </tr>\n",
       "    <tr>\n",
       "      <th>2</th>\n",
       "      <td>860886617ffffff</td>\n",
       "      <td>6</td>\n",
       "      <td>stockholm</td>\n",
       "      <td>35324.0</td>\n",
       "      <td>16986.277092</td>\n",
       "      <td>32533.815338</td>\n",
       "      <td>82.755803</td>\n",
       "      <td>5628.616720</td>\n",
       "      <td>3290.653890</td>\n",
       "      <td>41.019052</td>\n",
       "      <td>...</td>\n",
       "      <td>8.635797</td>\n",
       "      <td>8.099145</td>\n",
       "      <td>3.738123</td>\n",
       "      <td>3.633673</td>\n",
       "      <td>10.716014</td>\n",
       "      <td>10.700944</td>\n",
       "      <td>6.70856</td>\n",
       "      <td>7.984735</td>\n",
       "      <td>8.397782</td>\n",
       "      <td>5.340462</td>\n",
       "    </tr>\n",
       "    <tr>\n",
       "      <th>3</th>\n",
       "      <td>86088661fffffff</td>\n",
       "      <td>6</td>\n",
       "      <td>stockholm</td>\n",
       "      <td>31210.0</td>\n",
       "      <td>33944.695258</td>\n",
       "      <td>28048.278340</td>\n",
       "      <td>141.890900</td>\n",
       "      <td>7571.070907</td>\n",
       "      <td>4539.449407</td>\n",
       "      <td>177.622749</td>\n",
       "      <td>...</td>\n",
       "      <td>8.932222</td>\n",
       "      <td>8.420781</td>\n",
       "      <td>5.185276</td>\n",
       "      <td>4.860873</td>\n",
       "      <td>10.341950</td>\n",
       "      <td>10.633157</td>\n",
       "      <td>6.70856</td>\n",
       "      <td>7.984735</td>\n",
       "      <td>8.397782</td>\n",
       "      <td>5.340462</td>\n",
       "    </tr>\n",
       "    <tr>\n",
       "      <th>4</th>\n",
       "      <td>860886627ffffff</td>\n",
       "      <td>6</td>\n",
       "      <td>stockholm</td>\n",
       "      <td>21408.0</td>\n",
       "      <td>13033.272188</td>\n",
       "      <td>42192.955484</td>\n",
       "      <td>94.775364</td>\n",
       "      <td>4809.206605</td>\n",
       "      <td>2582.209735</td>\n",
       "      <td>33.416433</td>\n",
       "      <td>...</td>\n",
       "      <td>8.478495</td>\n",
       "      <td>7.856788</td>\n",
       "      <td>3.538534</td>\n",
       "      <td>3.435490</td>\n",
       "      <td>10.703875</td>\n",
       "      <td>10.629470</td>\n",
       "      <td>6.70856</td>\n",
       "      <td>7.984735</td>\n",
       "      <td>8.397782</td>\n",
       "      <td>5.340462</td>\n",
       "    </tr>\n",
       "  </tbody>\n",
       "</table>\n",
       "<p>5 rows × 40 columns</p>\n",
       "</div>"
      ],
      "text/plain": [
       "            hex_id  res city_lower  img_count      building      greenery  \\\n",
       "0  860886607ffffff    6  stockholm    25140.0  20683.653500  32740.644352   \n",
       "1  86088660fffffff    6  stockholm    11408.0  19912.077840  41209.597475   \n",
       "2  860886617ffffff    6  stockholm    35324.0  16986.277092  32533.815338   \n",
       "3  86088661fffffff    6  stockholm    31210.0  33944.695258  28048.278340   \n",
       "4  860886627ffffff    6  stockholm    21408.0  13033.272188  42192.955484   \n",
       "\n",
       "   street_furniture     sidewalk          car      person  ...  log_sidewalk  \\\n",
       "0         89.822832  5402.286754  3871.875259   54.029356  ...      8.594763   \n",
       "1        110.845898  3831.753769  2141.873159   47.378769  ...      8.251339   \n",
       "2         82.755803  5628.616720  3290.653890   41.019052  ...      8.635797   \n",
       "3        141.890900  7571.070907  4539.449407  177.622749  ...      8.932222   \n",
       "4         94.775364  4809.206605  2582.209735   33.416433  ...      8.478495   \n",
       "\n",
       "    log_car  log_person  log_bike    log_sky   log_road  \\\n",
       "0  8.261752    4.007867  4.007606  10.656016  10.653376   \n",
       "1  7.669903    3.879061  4.214157  10.458029  10.509015   \n",
       "2  8.099145    3.738123  3.633673  10.716014  10.700944   \n",
       "3  8.420781    5.185276  4.860873  10.341950  10.633157   \n",
       "4  7.856788    3.538534  3.435490  10.703875  10.629470   \n",
       "\n",
       "   log_diabetes_mellitus_cap  log_mental_and_substance_use_disorders_cap  \\\n",
       "0                    6.70856                                    7.984735   \n",
       "1                    6.70856                                    7.984735   \n",
       "2                    6.70856                                    7.984735   \n",
       "3                    6.70856                                    7.984735   \n",
       "4                    6.70856                                    7.984735   \n",
       "\n",
       "  log_cardiovascular_diseases_cap  log_road_injury_cap  \n",
       "0                        8.397782             5.340462  \n",
       "1                        8.397782             5.340462  \n",
       "2                        8.397782             5.340462  \n",
       "3                        8.397782             5.340462  \n",
       "4                        8.397782             5.340462  \n",
       "\n",
       "[5 rows x 40 columns]"
      ]
     },
     "execution_count": 16,
     "metadata": {},
     "output_type": "execute_result"
    }
   ],
   "source": [
    "FILENAME_CROSS = \"01_seg_dalys_cross.csv\"\n",
    "y = ['diabetes_mellitus_cap', 'mental_and_substance_use_disorders_cap',\n",
    "       'cardiovascular_diseases_cap', 'road_injury_cap','num_person_killed_per_lakh']\n",
    "\n",
    "crossdf = pd.read_csv(os.path.join(CURATED_FOLDER, \"c_analysis\", FILENAME_CROSS))\n",
    "crossdf['city_lower'] = crossdf['city_lower'].apply(lambda x: x.lower().replace(\" \", \"\").split(\",\")[0])\n",
    "mergedf = profiledf.merge(crossdf, on = 'city_lower', how = 'inner')\n",
    "print(mergedf['city_lower'].nunique())"
   ]
  },
  {
   "cell_type": "code",
   "execution_count": 17,
   "metadata": {},
   "outputs": [
    {
     "data": {
      "text/plain": [
       "array(['stockholm', 'dzerzhinsk', 'tyumen', 'berezniki',\n",
       "       'saintpetersburg', 'moscow', 'lemans', 'sheffield', 'manchester',\n",
       "       'london', 'brussels', 'amsterdam', 'zwolle', 'budapest', 'vienna',\n",
       "       'belgrade', 'kyiv', 'rovno', 'rome', 'palermo', 'thessaloniki',\n",
       "       'istanbul', 'athens', 'copenhagen', 'berlin', 'kaunas', 'warsaw',\n",
       "       'munich', 'milan', 'antwerp', 'paris', 'minneapolis', 'chicago',\n",
       "       'denver', 'toledo', 'sanfrancisco', 'modesto', 'victoria',\n",
       "       'portland,or', 'losangeles', 'newyork', 'philadelphia', 'boston',\n",
       "       'raleigh', 'detroit', 'cleveland', 'montreal', 'toronto',\n",
       "       'astrakhan', 'telaviv', 'jerusalem', 'nagoya', 'okayama', 'tokyo',\n",
       "       'fukuoka', 'yamaguchi', 'seoul', 'madrid', 'saidpur', 'dhaka',\n",
       "       'rajshahi', 'kanpur', 'delhi', 'jaipur', 'sitapur', 'hongkong',\n",
       "       'dubai', 'houston', 'miami', 'gainesville,fl', 'culiacan',\n",
       "       'killeen', 'reynosa', 'mexicocity', 'guadalajara', 'taipei',\n",
       "       'lagos', 'gombe', 'kozhikode', 'bangalore', 'hindupur', 'parbhani',\n",
       "       'jalna', 'pune', 'mumbai', 'malegaon', 'hyderabad', 'vijayawada',\n",
       "       'bangkok', 'kualalumpur', 'medan', 'singapore', 'valledupar',\n",
       "       'quito', 'bogotá', 'cebucity', 'bacolod', 'metromanila', 'manila',\n",
       "       'kampala', 'kigali', 'guatemalacity', 'accra', 'nairobi', 'ilheus',\n",
       "       'jequie', 'palmas', 'cochabamba', 'jakarta', 'palembang',\n",
       "       'cirebon', 'lima', 'parepare', 'curitiba', 'saopaulo',\n",
       "       'ribeiraopreto', 'florianopolis', 'belohorizonte', 'riodejaneiro',\n",
       "       'capetown', 'santiago', 'wellington', 'auckland', 'johannesburg',\n",
       "       'gaborone', 'sydney', 'buenosaires'], dtype=object)"
      ]
     },
     "execution_count": 17,
     "metadata": {},
     "output_type": "execute_result"
    }
   ],
   "source": [
    "crossdf['city_lower'].unique()"
   ]
  },
  {
   "cell_type": "markdown",
   "metadata": {},
   "source": [
    "# 2. Add Hex level information"
   ]
  },
  {
   "cell_type": "markdown",
   "metadata": {},
   "source": []
  }
 ],
 "metadata": {
  "kernelspec": {
   "display_name": "geo38",
   "language": "python",
   "name": "python3"
  },
  "language_info": {
   "codemirror_mode": {
    "name": "ipython",
    "version": 3
   },
   "file_extension": ".py",
   "mimetype": "text/x-python",
   "name": "python",
   "nbconvert_exporter": "python",
   "pygments_lexer": "ipython3",
   "version": "3.8.13"
  }
 },
 "nbformat": 4,
 "nbformat_minor": 2
}
