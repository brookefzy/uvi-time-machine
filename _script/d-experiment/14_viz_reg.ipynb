{
 "cells": [
  {
   "cell_type": "markdown",
   "metadata": {},
   "source": [
    "# Calculate the Linderman score for the regression contribution analysis."
   ]
  },
  {
   "cell_type": "code",
   "execution_count": 12,
   "metadata": {},
   "outputs": [
    {
     "name": "stderr",
     "output_type": "stream",
     "text": [
      "C:\\Users\\yuanzfan\\AppData\\Local\\Temp\\ipykernel_16760\\3921181413.py:6: SettingWithCopyWarning: \n",
      "A value is trying to be set on a copy of a slice from a DataFrame\n",
      "\n",
      "See the caveats in the documentation: https://pandas.pydata.org/pandas-docs/stable/user_guide/indexing.html#returning-a-view-versus-a-copy\n",
      "  r1_df.rename(columns = {\n"
     ]
    },
    {
     "data": {
      "text/html": [
       "<div>\n",
       "<style scoped>\n",
       "    .dataframe tbody tr th:only-of-type {\n",
       "        vertical-align: middle;\n",
       "    }\n",
       "\n",
       "    .dataframe tbody tr th {\n",
       "        vertical-align: top;\n",
       "    }\n",
       "\n",
       "    .dataframe thead th {\n",
       "        text-align: right;\n",
       "    }\n",
       "</style>\n",
       "<table border=\"1\" class=\"dataframe\">\n",
       "  <thead>\n",
       "    <tr style=\"text-align: right;\">\n",
       "      <th></th>\n",
       "      <th>demo</th>\n",
       "      <th>cluster</th>\n",
       "      <th>object</th>\n",
       "      <th>cluster_demo</th>\n",
       "      <th>cluster_object</th>\n",
       "      <th>demo_object</th>\n",
       "      <th>cluster_demo_object</th>\n",
       "    </tr>\n",
       "  </thead>\n",
       "  <tbody>\n",
       "    <tr>\n",
       "      <th>16</th>\n",
       "      <td>0.3784</td>\n",
       "      <td>0.150823</td>\n",
       "      <td>0.159234</td>\n",
       "      <td>0.49051</td>\n",
       "      <td>0.254163</td>\n",
       "      <td>0.461015</td>\n",
       "      <td>0.54729</td>\n",
       "    </tr>\n",
       "  </tbody>\n",
       "</table>\n",
       "</div>"
      ],
      "text/plain": [
       "      demo   cluster    object  cluster_demo  cluster_object  demo_object  \\\n",
       "16  0.3784  0.150823  0.159234       0.49051        0.254163     0.461015   \n",
       "\n",
       "    cluster_demo_object  \n",
       "16              0.54729  "
      ]
     },
     "execution_count": 12,
     "metadata": {},
     "output_type": "execute_result"
    }
   ],
   "source": [
    "import pandas as pd\n",
    "import numpy as np\n",
    "import os\n",
    "df = pd.read_csv(\"D:/Dropbox (Personal)/Personal Work/_Projects2023/01_city-never-was/_table/road_fatality_built_env_res=9_cluster=7.csv\")[1:]\n",
    "r1_df = df[df['Unnamed: 0']==\"R-sq\"]\n",
    "r1_df.rename(columns = {\n",
    "    \n",
    "    \"seg1\":\"demo\",\n",
    "    \"seg2\":\"cluster\",\n",
    "    \"seg3\":\"object\",\n",
    "    \"seg12\":\"cluster_demo\",\n",
    "    \"seg23\":\"cluster_object\",\n",
    "    \"seg13\":\"demo_object\",\n",
    "    \"seg123\":\"cluster_demo_object\",\n",
    "}, inplace = True)\n",
    "# remove the columns if it contains \"Unnamed\"\n",
    "r1_df = r1_df.loc[:, ~r1_df.columns.str.contains('^Unnamed')].astype(float)\n",
    "r1_df"
   ]
  },
  {
   "cell_type": "code",
   "execution_count": 14,
   "metadata": {},
   "outputs": [
    {
     "data": {
      "text/html": [
       "<div>\n",
       "<style scoped>\n",
       "    .dataframe tbody tr th:only-of-type {\n",
       "        vertical-align: middle;\n",
       "    }\n",
       "\n",
       "    .dataframe tbody tr th {\n",
       "        vertical-align: top;\n",
       "    }\n",
       "\n",
       "    .dataframe thead th {\n",
       "        text-align: right;\n",
       "    }\n",
       "</style>\n",
       "<table border=\"1\" class=\"dataframe\">\n",
       "  <thead>\n",
       "    <tr style=\"text-align: right;\">\n",
       "      <th></th>\n",
       "      <th>LMG Score (%)</th>\n",
       "    </tr>\n",
       "  </thead>\n",
       "  <tbody>\n",
       "    <tr>\n",
       "      <th>cluster</th>\n",
       "      <td>20.745694</td>\n",
       "    </tr>\n",
       "    <tr>\n",
       "      <th>demo</th>\n",
       "      <td>60.434839</td>\n",
       "    </tr>\n",
       "    <tr>\n",
       "      <th>object</th>\n",
       "      <td>18.819467</td>\n",
       "    </tr>\n",
       "  </tbody>\n",
       "</table>\n",
       "</div>"
      ],
      "text/plain": [
       "         LMG Score (%)\n",
       "cluster      20.745694\n",
       "demo         60.434839\n",
       "object       18.819467"
      ]
     },
     "execution_count": 14,
     "metadata": {},
     "output_type": "execute_result"
    }
   ],
   "source": [
    "import itertools\n",
    "\n",
    "r2_values = r1_df.to_dict('records')[0]\n",
    "# Full model R²\n",
    "r2_full = r2_values[\"cluster_demo_object\"]\n",
    "\n",
    "# Factors involved\n",
    "factors = [\"cluster\", \"demo\", \"object\"]\n",
    "\n",
    "# Compute LMG for each factor\n",
    "lmg_scores = {factor: 0 for factor in factors}\n",
    "\n",
    "# Generate all orderings of the factors\n",
    "orderings = list(itertools.permutations(factors))\n",
    "\n",
    "# Compute LMG contributions for each order\n",
    "for ordering in orderings:\n",
    "    prev_r2 = 0\n",
    "    for i, factor in enumerate(ordering):\n",
    "        included_factors = tuple(sorted(ordering[: i + 1]))\n",
    "        r2_current = r2_values[\"_\".join(included_factors)]\n",
    "        contribution = r2_current - prev_r2\n",
    "        lmg_scores[factor] += contribution\n",
    "        prev_r2 = r2_current\n",
    "\n",
    "# Average over all orderings\n",
    "num_orderings = len(orderings)\n",
    "lmg_scores = {factor: lmg / num_orderings for factor, lmg in lmg_scores.items()}\n",
    "\n",
    "# Normalize to sum to 100%\n",
    "lmg_scores = {factor: (lmg / r2_full) * 100 for factor, lmg in lmg_scores.items()}\n",
    "\n",
    "# Convert to DataFrame for display\n",
    "lmg_df = pd.DataFrame.from_dict(lmg_scores, orient=\"index\", columns=[\"LMG Score (%)\"])\n",
    "\n",
    "# Display results\n",
    "# tools.display_dataframe_to_user(name=\"LMG Scores\", dataframe=lmg_df)\n",
    "lmg_df"
   ]
  },
  {
   "cell_type": "code",
   "execution_count": null,
   "metadata": {},
   "outputs": [],
   "source": []
  }
 ],
 "metadata": {
  "kernelspec": {
   "display_name": "geo38",
   "language": "python",
   "name": "python3"
  },
  "language_info": {
   "codemirror_mode": {
    "name": "ipython",
    "version": 3
   },
   "file_extension": ".py",
   "mimetype": "text/x-python",
   "name": "python",
   "nbconvert_exporter": "python",
   "pygments_lexer": "ipython3",
   "version": "3.8.13"
  }
 },
 "nbformat": 4,
 "nbformat_minor": 2
}
