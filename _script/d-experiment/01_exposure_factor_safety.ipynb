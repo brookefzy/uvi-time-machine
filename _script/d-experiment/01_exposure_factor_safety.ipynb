{
 "cells": [
  {
   "cell_type": "markdown",
   "metadata": {},
   "source": [
    "# This notebook summarize additional features we can extract from images\n",
    "1. Exposure = sum(any indicator of exposure: people, house, building, sidewalk)/total_num_image\n",
    "2. Motorcycle = count()\n",
    "3. Sidewalk Coverage = sum(indicator of sidewalk)/total_num_image\n",
    "4. Crosswalk Coverage (later)\n",
    "5. Bikelane Coverage (later)"
   ]
  },
  {
   "cell_type": "code",
   "execution_count": 1,
   "metadata": {},
   "outputs": [],
   "source": [
    "import pandas as pd\n",
    "import numpy as np\n",
    "import os\n",
    "from glob import glob\n",
    "from sklearn.preprocessing import StandardScaler\n",
    "import h3\n",
    "from tqdm import tqdm\n",
    "\n",
    "\n",
    "ROOT = \"/lustre1/g/geog_pyloo/05_timemachine\"\n",
    "CURATED_FOLDER = f\"{ROOT}/_curated\"\n",
    "EXPORT_FOLDER = f\"{ROOT}/_curated/c_analysis\"\n",
    "\n",
    "IMG_SAMPLE_FOLDER = \"/lustre1/g/geog_pyloo/05_timemachine/_curated/c_analysis/img_sample\"\n",
    "\n",
    "PANO_PATH = \"{ROOT}/GSV/gsv_rgb/{cityabbr}/gsvmeta/gsv_pano.csv\"\n",
    "CURATED_TARGET = \"/lustre1/g/geog_pyloo/05_timemachine/_curated/c_seg_hex\"\n",
    "META_PATH = \"{ROOT}/GSV/gsv_rgb/{cityabbr}/gsvmeta/{cityabbr}_meta.csv\"\n",
    "OBJECT_DET = os.path.join(CURATED_FOLDER, \"c_object_longitudinal\")\n",
    "\n",
    "N = 8\n",
    "H3_RES = [9]\n",
    "res = H3_RES[0]"
   ]
  },
  {
   "cell_type": "code",
   "execution_count": null,
   "metadata": {},
   "outputs": [],
   "source": [
    "\n",
    "def get_std(df_seg_update, variables_remain):\n",
    "    scaler = StandardScaler().fit(df_seg_update[variables_remain])\n",
    "    data = scaler.transform(df_seg_update[variables_remain])\n",
    "    return data\n",
    "\n",
    "def load_class():\n",
    "    serviceaccount = \"/home/yuanzf/uvi-time-machine/google_drive_personal.json\"\n",
    "    import gspread\n",
    "\n",
    "    # from oauth2client.service_account import ServiceAccountCredentials\n",
    "    gc = gspread.service_account(filename=serviceaccount)\n",
    "\n",
    "    def read_url(url, SHEET_NAME):\n",
    "        SHEET_ID = url.split(\"/\")[5]\n",
    "        spreadsheet = gc.open_by_key(SHEET_ID)\n",
    "        worksheet = spreadsheet.worksheet(SHEET_NAME)\n",
    "        rows = worksheet.get_all_records()\n",
    "        df_spread = pd.DataFrame(rows)\n",
    "        return df_spread, worksheet\n",
    "\n",
    "    url = \"https://docs.google.com/spreadsheets/d/1o5gFmZPUoDwrrbfE6M26uJF3HnEZll02ivnOxP6K6Xw/edit?usp=sharing\"\n",
    "    SHEETNAME = \"object150\"\n",
    "    obj_meta, other_worksheet = read_url(url, SHEETNAME)\n",
    "    return obj_meta\n",
    "\n",
    "def get_result(cityabbr, curated_folder, f_suffixes = \"*panoptic.csv\"):\n",
    "    outfolder = f\"{curated_folder}/{cityabbr}\"\n",
    "    seg_file = glob(os.path.join(outfolder, f_suffixes))\n",
    "    panoptic_df = []\n",
    "    for p in seg_file:\n",
    "        temp = pd.read_csv(p)\n",
    "        panoptic_df.append(temp)\n",
    "    panoptic_df = pd.concat(panoptic_df).reset_index(drop = True)\n",
    "    return panoptic_df\n",
    "\n",
    "def clean_seg(seg_df, pano_df, meta_df):\n",
    "\n",
    "    seg_df_filtered = seg_df.merge(meta_df, on = 'img')\n",
    "    seg_df_filtered = seg_df_filtered[seg_df_filtered['size']>=10000].reset_index(drop = True)\n",
    "    print(\"Segmentation shape after filter: \", seg_df_filtered.shape[0])\n",
    "    # count number of unique labels per image and drop it if image has fewer than 3\n",
    "    seg_df_filtered['label_c'] = seg_df_filtered.groupby('img')['labels'].transform('nunique')\n",
    "    seg_df_filtered = seg_df_filtered[seg_df_filtered['label_c']>=3].reset_index(drop = True)\n",
    "    print(\"Segmentation shape after filter images with problems: \", seg_df_filtered.shape[0])\n",
    "    \n",
    "    seg_df_summary = seg_df_filtered.groupby([\"img\", \"labels\"]).agg({'areas':'sum'}).reset_index()\n",
    "    seg_df_summary['panoid'] = seg_df_summary['img'].apply(lambda x: x[:22])\n",
    "\n",
    "    col_cols = [\"labels\"]\n",
    "    index_cols = [\"img\", \"year\", \"h3_9\"]\n",
    "    seg_df_summary_pano = seg_df_summary.merge(pano_df, on = ['panoid'])\n",
    "    \n",
    "    \n",
    "    if seg_df_summary_pano.shape[0]<seg_df_summary.shape[0]:\n",
    "        print(\"data missing after data join.\")\n",
    "        print(\"Before join: \", seg_df_summary.shape[0])\n",
    "        print(\"After join: \",seg_df_summary_pano.shape[0])\n",
    "    else:\n",
    "        print(\"data consistent\")\n",
    "    \n",
    "    seg_df_summary = seg_df_summary_pano.drop_duplicates(index_cols+col_cols)\n",
    "    print(\"Segmentation shape: \", seg_df_summary.shape[0])\n",
    "    seg_df_pivot = seg_df_summary.pivot(\n",
    "        columns = col_cols,\n",
    "        index = index_cols,\n",
    "        values = \"areas\"\n",
    "    ).reset_index().fillna(0)\n",
    "    return seg_df_pivot\n",
    "def load_raw(city):\n",
    "    cityabbr = city.lower().replace(\" \", \"\")\n",
    "    curate_folder = CURATED_FOLDER.format(ROOTFOLDER = ROOT)\n",
    "\n",
    "    seg_df = get_result(cityabbr, CURATED_FOLDER, f_suffixes = \"*seg.csv\")\n",
    "    \n",
    "    pano_df = pd.read_csv(PANO_PATH.format(\n",
    "    ROOT = ROOT,\n",
    "    cityabbr = cityabbr\n",
    "    ))[['panoid', 'lat', 'lon', 'year', 'month']]\n",
    "\n",
    "    for res in [9]:\n",
    "        pano_df[f'h3_{res}'] = pano_df.apply(lambda x: h3.geo_to_h3(x.lat, x.lon, res), axis=1)\n",
    "        \n",
    "    meta_df = pd.read_csv(META_PATH.format(\n",
    "        ROOT = ROOT,\n",
    "        cityabbr = cityabbr\n",
    "    ))\n",
    "    meta_df['img']= meta_df['path'].apply(lambda x: x.split(\"/\")[-1].split(\".\")[0])\n",
    "    # here make sure \n",
    "    meta_df = meta_df[['img','size','path']]\n",
    "    return seg_df, meta_df, pano_df\n",
    "\n",
    "def get_seg_data(city, hex_detail_cluster):\n",
    "    cityabbr = city.lower().replace(\" \", \"\")\n",
    "    seg_df, meta_df, pano_df = load_raw(city)\n",
    "    seg_df_pivot = clean_seg(seg_df, pano_df, meta_df)\n",
    "    print(f\"city {cityabbr} saved\")\n",
    "    print(\"*\"*50)\n",
    "\n",
    "    # hex_detail_cluster_city_sel = hex_detail_cluster[hex_detail_cluster['city_lower']==cityabbr].copy()\n",
    "    # seg_df_pivot_sel = seg_df_pivot.merge(hex_detail_cluster_city_sel[['hex_id', 'cluster_8']], \n",
    "    #                                       left_on = 'h3_9', right_on = 'hex_id')\\\n",
    "    #     .drop('hex_id', axis = 1)\n",
    "    seg_df_pivot_sel = seg_df_pivot.copy()\n",
    "        \n",
    "    new_cols = []\n",
    "    for x in seg_df_pivot_sel.columns:\n",
    "        if str(x) in obj_meta[\"id\"].values:\n",
    "            new_cols.append(ADE_CATEGORIES_DICT[str(x)])\n",
    "        else:\n",
    "            new_cols.append(str(x))\n",
    "    seg_df_pivot_sel.columns = new_cols\n",
    "\n",
    "    # drop the columns if all value are 0\n",
    "    variables = set([v for v in seg_df_pivot_sel.columns if v in obj_meta[\"category\"].unique()])\n",
    "    print(\"Variables original: \", len(variables))\n",
    "    to_drop = [\"other\"]\n",
    "    variables_remain = [v for v in variables if not v in to_drop]\n",
    "    print(\"Variables kept: \", len(variables_remain))\n",
    "    seg_df_pivot_sel_stack = seg_df_pivot_sel.set_index([\"img\", \"year\", f\"h3_{res}\",\"cluster_8\"]).stack().reset_index().fillna(0)\\\n",
    "        .groupby([\"img\", \"year\", f\"h3_{res}\",\"cluster_8\",\"level_4\"]).sum().reset_index()\\\n",
    "            .pivot_table(index = [\"img\", \"year\", f\"h3_{res}\",\"cluster_8\"], columns = \"level_4\", values = 0).reset_index().fillna(0)\\\n",
    "                .drop(columns = ['other'], axis = 1)\n",
    "    # standardize the data\n",
    "    return seg_df_pivot_sel_stack, meta_df\n",
    "\n",
    "def extract_seg(seg_df_pivot_sel):\n",
    "    new_cols = []\n",
    "    for x in seg_df_pivot_sel.columns:\n",
    "        if str(x) in obj_meta[\"id\"].values:\n",
    "            new_cols.append(ADE_CATEGORIES_DICT[str(x)])\n",
    "        else:\n",
    "            new_cols.append(str(x))\n",
    "    seg_df_pivot_sel.columns = new_cols\n",
    "\n",
    "    # drop the columns if all value are 0\n",
    "    variables = set([v for v in seg_df_pivot_sel.columns if v in obj_meta[\"category\"].unique()])\n",
    "    print(\"Variables original: \", len(variables))\n",
    "    to_drop = [\"other\"]\n",
    "    variables_remain = [v for v in variables if not v in to_drop]\n",
    "    print(\"Variables kept: \", len(variables_remain))\n",
    "    seg_df_pivot_sel_stack = seg_df_pivot_sel.set_index([\"img\", \"year\", f\"h3_{res}\"]).stack().reset_index().fillna(0)\\\n",
    "        .groupby([\"img\", \"year\", f\"h3_{res}\",\"level_3\"]).sum().reset_index()\\\n",
    "            .pivot_table(index = [\"img\", \"year\", \"h3_9\"], columns = \"level_3\", values = 0).reset_index().fillna(0)\\\n",
    "                .drop(columns = ['other'], axis = 1)\n",
    "    seg_df_pivot_sel_stack['sidewalk_indicator'] = seg_df_pivot_sel_stack['sidewalk'] > 0\n",
    "    seg_df_pivot_sel_stack['exposure_indicator'] = seg_df_pivot_sel_stack[['building','house','table+chair','wall', 'window','person','bike','motorcycle','car']].sum(axis = 1) > 0\n",
    "    seg_df_pivot_sel_stack['panoid'] = seg_df_pivot_sel_stack['img'].apply(lambda x: x[:22])\n",
    "    seg_df_summary = seg_df_pivot_sel_stack\\\n",
    "        .groupby([f'h3_{res}'])\\\n",
    "            .agg({'sidewalk_indicator':'sum',\n",
    "                'exposure_indicator':'sum',\n",
    "                'img':'count',\n",
    "                'panoid':'nunique'})\\\n",
    "                .reset_index()\n",
    "    seg_df_summary['sidewalk_presence'] = seg_df_summary['sidewalk_indicator'] / seg_df_summary['img']\n",
    "    seg_df_summary['exposure_presence'] = seg_df_summary['exposure_indicator'] / seg_df_summary['img']\n",
    "    return seg_df_summary\n",
    "\n",
    "def get_object_result(cityabbr, seg_df_summary):\n",
    "    object_detect = pd.read_csv(f\"{OBJECT_DET}/c_object_res={res}_{cityabbr}.csv\")\n",
    "    # calculate the total number of panoid per hex_id across all years\n",
    "    object_detect_sum = object_detect.drop_duplicates(['year', 'hex_id','panoid_n']).groupby(['hex_id'])\\\n",
    "        .agg({'panoid_n':'sum'}).reset_index()\n",
    "    object_detect_group = object_detect.groupby(['hex_id','object_name']).agg({\n",
    "        'n':'sum'}).reset_index()\\\n",
    "            .merge(object_detect_sum, on = 'hex_id', how = 'left')\n",
    "    object_detect_group['n_per_pano'] = object_detect_group['n'] / object_detect_group['panoid_n']\n",
    "    object_detect_group_wide = object_detect_group[object_detect_group['object_name']!='0'].pivot(\n",
    "        columns = 'object_name',\n",
    "        index = 'hex_id',\n",
    "        values = 'n_per_pano'\n",
    "    ).fillna(0)\n",
    "    object_detect_group_wide.columns = ['obj_'+str(x) for x in object_detect_group_wide.columns]\n",
    "    seg_df_summary_update = seg_df_summary.merge(object_detect_group_wide, \n",
    "                                                left_on = 'h3_9', \n",
    "                                                right_index = True, \n",
    "                                                how = 'left')\n",
    "    seg_df_summary_update.to_csv(f\"{EXPORT_FOLDER}/{cityabbr}_seg_summary.csv\", index = False)\n",
    "    print(f\"city {cityabbr} saved\")\n",
    "    return seg_df_summary_update"
   ]
  },
  {
   "cell_type": "code",
   "execution_count": 55,
   "metadata": {},
   "outputs": [],
   "source": [
    "obj_meta = load_class()\n",
    "obj_meta[\"id\"] = obj_meta[\"id\"].astype(str)\n",
    "ADE_CATEGORIES_DICT = dict(zip(obj_meta[\"id\"].values, obj_meta[\"category\"].values))"
   ]
  },
  {
   "cell_type": "code",
   "execution_count": null,
   "metadata": {},
   "outputs": [
    {
     "name": "stdout",
     "output_type": "stream",
     "text": [
      "Segmentation shape after filter:  7943563\n",
      "Segmentation shape after filter images with problems:  7942738\n",
      "data consistent\n",
      "Segmentation shape:  7942738\n"
     ]
    }
   ],
   "source": [
    "city = \"New York\"\n",
    "cityabbr = city.lower().replace(\" \", \"\")\n",
    "seg_df, meta_df, pano_df = load_raw(city)\n",
    "seg_df_pivot = clean_seg(seg_df, pano_df, meta_df)\n",
    "seg_summary = extract_seg(seg_df_pivot)\n",
    "seg_summary_update = get_object_result(cityabbr, seg_summary)"
   ]
  },
  {
   "cell_type": "code",
   "execution_count": 58,
   "metadata": {},
   "outputs": [
    {
     "name": "stderr",
     "output_type": "stream",
     "text": [
      "  0%|          | 0/127 [00:00<?, ?it/s]"
     ]
    },
    {
     "name": "stdout",
     "output_type": "stream",
     "text": [
      "Processing Buenos Aires\n",
      "Segmentation shape after filter:  2544226\n",
      "Segmentation shape after filter images with problems:  2543977\n",
      "data consistent\n",
      "Segmentation shape:  2543977\n",
      "Variables original:  31\n",
      "Variables kept:  30\n"
     ]
    },
    {
     "name": "stderr",
     "output_type": "stream",
     "text": [
      "  1%|          | 1/127 [00:51<1:47:22, 51.13s/it]"
     ]
    },
    {
     "name": "stdout",
     "output_type": "stream",
     "text": [
      "city buenosaires saved\n",
      "Processing Sydney\n",
      "Segmentation shape after filter:  3246927\n",
      "Segmentation shape after filter images with problems:  3246647\n",
      "data consistent\n",
      "Segmentation shape:  3155091\n",
      "Variables original:  31\n",
      "Variables kept:  30\n"
     ]
    },
    {
     "name": "stderr",
     "output_type": "stream",
     "text": [
      "  2%|▏         | 2/127 [02:49<3:09:20, 90.88s/it]"
     ]
    },
    {
     "name": "stdout",
     "output_type": "stream",
     "text": [
      "city sydney saved\n",
      "Processing Vienna\n",
      "Segmentation shape after filter:  4833171\n",
      "Segmentation shape after filter images with problems:  4832696\n",
      "data consistent\n",
      "Segmentation shape:  3124569\n",
      "Variables original:  31\n",
      "Variables kept:  30\n"
     ]
    },
    {
     "name": "stderr",
     "output_type": "stream",
     "text": [
      "  2%|▏         | 3/127 [04:11<2:58:44, 86.49s/it]"
     ]
    },
    {
     "name": "stdout",
     "output_type": "stream",
     "text": [
      "city vienna saved\n",
      "Processing Saidpur\n",
      "Segmentation shape after filter:  191647\n",
      "Segmentation shape after filter images with problems:  191635\n",
      "data consistent\n",
      "Segmentation shape:  119103\n",
      "Variables original:  30\n",
      "Variables kept:  29\n"
     ]
    },
    {
     "name": "stderr",
     "output_type": "stream",
     "text": [
      "  3%|▎         | 4/127 [04:14<1:49:41, 53.51s/it]"
     ]
    },
    {
     "name": "stdout",
     "output_type": "stream",
     "text": [
      "city saidpur saved\n",
      "Processing Rajshahi\n",
      "Segmentation shape after filter:  2039068\n",
      "Segmentation shape after filter images with problems:  2038901\n",
      "data consistent\n",
      "Segmentation shape:  1598302\n",
      "Variables original:  30\n",
      "Variables kept:  29\n"
     ]
    },
    {
     "name": "stderr",
     "output_type": "stream",
     "text": [
      "  4%|▍         | 5/127 [04:54<1:39:17, 48.83s/it]"
     ]
    },
    {
     "name": "stdout",
     "output_type": "stream",
     "text": [
      "city rajshahi saved\n",
      "Processing Dhaka\n",
      "Segmentation shape after filter:  3966430\n",
      "Segmentation shape after filter images with problems:  3964273\n",
      "data consistent\n",
      "Segmentation shape:  3964123\n",
      "Variables original:  31\n",
      "Variables kept:  30\n"
     ]
    },
    {
     "name": "stderr",
     "output_type": "stream",
     "text": [
      "  5%|▍         | 6/127 [06:47<2:22:40, 70.75s/it]"
     ]
    },
    {
     "name": "stdout",
     "output_type": "stream",
     "text": [
      "city dhaka saved\n",
      "Processing Antwerp\n",
      "Segmentation shape after filter:  2473824\n",
      "Segmentation shape after filter images with problems:  2473423\n",
      "data consistent\n",
      "Segmentation shape:  1397228\n",
      "Variables original:  31\n",
      "Variables kept:  30\n"
     ]
    },
    {
     "name": "stderr",
     "output_type": "stream",
     "text": [
      "  6%|▌         | 7/127 [07:23<1:58:19, 59.16s/it]"
     ]
    },
    {
     "name": "stdout",
     "output_type": "stream",
     "text": [
      "city antwerp saved\n",
      "Processing Brussels\n",
      "Segmentation shape after filter:  11140084\n",
      "Segmentation shape after filter images with problems:  11138322\n",
      "data consistent\n",
      "Segmentation shape:  10477750\n",
      "Variables original:  31\n",
      "Variables kept:  30\n"
     ]
    },
    {
     "name": "stderr",
     "output_type": "stream",
     "text": [
      "  6%|▋         | 8/127 [14:27<5:47:58, 175.45s/it]"
     ]
    },
    {
     "name": "stdout",
     "output_type": "stream",
     "text": [
      "city brussels saved\n",
      "Processing Cochabamba\n",
      "Segmentation shape after filter:  1641534\n",
      "Segmentation shape after filter images with problems:  1641489\n",
      "data consistent\n",
      "Segmentation shape:  550393\n",
      "Variables original:  31\n",
      "Variables kept:  30\n"
     ]
    },
    {
     "name": "stderr",
     "output_type": "stream",
     "text": [
      "  7%|▋         | 9/127 [14:40<4:05:15, 124.71s/it]"
     ]
    },
    {
     "name": "stdout",
     "output_type": "stream",
     "text": [
      "city cochabamba saved\n",
      "Processing Gaborone\n",
      "Segmentation shape after filter:  1114504\n",
      "Segmentation shape after filter images with problems:  1114460\n",
      "data consistent\n",
      "Segmentation shape:  1114460\n",
      "Variables original:  30\n",
      "Variables kept:  29\n"
     ]
    },
    {
     "name": "stderr",
     "output_type": "stream",
     "text": [
      "  8%|▊         | 10/127 [15:08<3:04:49, 94.79s/it]"
     ]
    },
    {
     "name": "stdout",
     "output_type": "stream",
     "text": [
      "city gaborone saved\n",
      "Processing Ilheus\n",
      "Segmentation shape after filter:  501854\n",
      "Segmentation shape after filter images with problems:  501794\n",
      "data consistent\n",
      "Segmentation shape:  350007\n",
      "Variables original:  31\n",
      "Variables kept:  30\n"
     ]
    },
    {
     "name": "stderr",
     "output_type": "stream",
     "text": [
      "  9%|▊         | 11/127 [15:16<2:12:05, 68.33s/it]"
     ]
    },
    {
     "name": "stdout",
     "output_type": "stream",
     "text": [
      "city ilheus saved\n",
      "Processing Jequie\n",
      "Segmentation shape after filter:  598417\n",
      "Segmentation shape after filter images with problems:  598391\n",
      "data consistent\n",
      "Segmentation shape:  452963\n",
      "Variables original:  31\n",
      "Variables kept:  30\n"
     ]
    },
    {
     "name": "stderr",
     "output_type": "stream",
     "text": [
      "  9%|▉         | 12/127 [15:26<1:36:33, 50.38s/it]"
     ]
    },
    {
     "name": "stdout",
     "output_type": "stream",
     "text": [
      "city jequie saved\n",
      "Processing Palmas\n",
      "Segmentation shape after filter:  1478402\n",
      "Segmentation shape after filter images with problems:  1478378\n",
      "data consistent\n",
      "Segmentation shape:  1232482\n",
      "Variables original:  31\n",
      "Variables kept:  30\n"
     ]
    },
    {
     "name": "stderr",
     "output_type": "stream",
     "text": [
      " 10%|█         | 13/127 [15:54<1:22:58, 43.67s/it]"
     ]
    },
    {
     "name": "stdout",
     "output_type": "stream",
     "text": [
      "city palmas saved\n",
      "Processing Florianopolis\n",
      "Segmentation shape after filter:  2372020\n",
      "Segmentation shape after filter images with problems:  2371854\n",
      "data consistent\n",
      "Segmentation shape:  2004279\n",
      "Variables original:  31\n",
      "Variables kept:  30\n"
     ]
    },
    {
     "name": "stderr",
     "output_type": "stream",
     "text": [
      " 11%|█         | 14/127 [16:36<1:21:13, 43.13s/it]"
     ]
    },
    {
     "name": "stdout",
     "output_type": "stream",
     "text": [
      "city florianopolis saved\n",
      "Processing Ribeirao Preto\n",
      "Segmentation shape after filter:  1716434\n",
      "Segmentation shape after filter images with problems:  1715864\n",
      "data consistent\n",
      "Segmentation shape:  1715759\n",
      "Variables original:  31\n",
      "Variables kept:  30\n"
     ]
    },
    {
     "name": "stderr",
     "output_type": "stream",
     "text": [
      " 12%|█▏        | 15/127 [17:13<1:17:18, 41.41s/it]"
     ]
    },
    {
     "name": "stdout",
     "output_type": "stream",
     "text": [
      "city ribeiraopreto saved\n",
      "Processing Belo Horizonte\n",
      "Segmentation shape after filter:  2662143\n",
      "Segmentation shape after filter images with problems:  2662037\n",
      "data consistent\n",
      "Segmentation shape:  2662013\n",
      "Variables original:  31\n",
      "Variables kept:  30\n"
     ]
    },
    {
     "name": "stderr",
     "output_type": "stream",
     "text": [
      " 13%|█▎        | 16/127 [18:12<1:26:23, 46.69s/it]"
     ]
    },
    {
     "name": "stdout",
     "output_type": "stream",
     "text": [
      "city belohorizonte saved\n",
      "Processing Curitiba\n",
      "Segmentation shape after filter:  4991510\n",
      "Segmentation shape after filter images with problems:  4991244\n",
      "data consistent\n",
      "Segmentation shape:  4179965\n",
      "Variables original:  31\n",
      "Variables kept:  30\n"
     ]
    },
    {
     "name": "stderr",
     "output_type": "stream",
     "text": [
      " 13%|█▎        | 17/127 [19:42<1:49:36, 59.78s/it]"
     ]
    },
    {
     "name": "stdout",
     "output_type": "stream",
     "text": [
      "city curitiba saved\n",
      "Processing Sao Paulo\n",
      "Segmentation shape after filter:  3160720\n",
      "Segmentation shape after filter images with problems:  3160452\n",
      "data consistent\n",
      "Segmentation shape:  3160452\n",
      "Variables original:  31\n",
      "Variables kept:  30\n"
     ]
    },
    {
     "name": "stderr",
     "output_type": "stream",
     "text": [
      " 14%|█▍        | 18/127 [22:20<2:41:53, 89.12s/it]"
     ]
    },
    {
     "name": "stdout",
     "output_type": "stream",
     "text": [
      "city saopaulo saved\n",
      "Processing Rio de Janeiro\n",
      "Segmentation shape after filter:  3307951\n",
      "Segmentation shape after filter images with problems:  3306577\n",
      "data consistent\n",
      "Segmentation shape:  3306577\n",
      "Variables original:  31\n",
      "Variables kept:  30\n"
     ]
    },
    {
     "name": "stderr",
     "output_type": "stream",
     "text": [
      " 15%|█▍        | 19/127 [23:35<2:32:48, 84.89s/it]"
     ]
    },
    {
     "name": "stdout",
     "output_type": "stream",
     "text": [
      "city riodejaneiro saved\n",
      "Processing Victoria\n",
      "Segmentation shape after filter:  492539\n",
      "Segmentation shape after filter images with problems:  492503\n",
      "data consistent\n",
      "Segmentation shape:  246925\n",
      "Variables original:  31\n",
      "Variables kept:  30\n"
     ]
    },
    {
     "name": "stderr",
     "output_type": "stream",
     "text": [
      " 16%|█▌        | 20/127 [23:42<1:49:34, 61.44s/it]"
     ]
    },
    {
     "name": "stdout",
     "output_type": "stream",
     "text": [
      "city victoria saved\n",
      "Processing Montreal\n",
      "Segmentation shape after filter:  4927106\n",
      "Segmentation shape after filter images with problems:  4926930\n",
      "data consistent\n",
      "Segmentation shape:  3545678\n",
      "Variables original:  31\n",
      "Variables kept:  30\n"
     ]
    },
    {
     "name": "stderr",
     "output_type": "stream",
     "text": [
      " 17%|█▋        | 21/127 [25:30<2:13:15, 75.43s/it]"
     ]
    },
    {
     "name": "stdout",
     "output_type": "stream",
     "text": [
      "city montreal saved\n",
      "Processing Toronto\n",
      "Segmentation shape after filter:  1156620\n",
      "Segmentation shape after filter images with problems:  1156550\n",
      "data consistent\n",
      "Segmentation shape:  1156550\n",
      "Variables original:  31\n",
      "Variables kept:  30\n"
     ]
    },
    {
     "name": "stderr",
     "output_type": "stream",
     "text": [
      " 17%|█▋        | 22/127 [25:58<1:47:12, 61.26s/it]"
     ]
    },
    {
     "name": "stdout",
     "output_type": "stream",
     "text": [
      "city toronto saved\n",
      "Processing Santiago\n",
      "Segmentation shape after filter:  376849\n",
      "Segmentation shape after filter images with problems:  376746\n",
      "data consistent\n",
      "Segmentation shape:  275303\n",
      "Variables original:  30\n",
      "Variables kept:  29\n"
     ]
    },
    {
     "name": "stderr",
     "output_type": "stream",
     "text": [
      " 18%|█▊        | 23/127 [26:04<1:17:38, 44.79s/it]"
     ]
    },
    {
     "name": "stdout",
     "output_type": "stream",
     "text": [
      "city santiago saved\n",
      "Processing Taipei\n",
      "Segmentation shape after filter:  2562250\n",
      "Segmentation shape after filter images with problems:  2560597\n",
      "data consistent\n",
      "Segmentation shape:  2560597\n",
      "Variables original:  31\n",
      "Variables kept:  30\n"
     ]
    },
    {
     "name": "stderr",
     "output_type": "stream",
     "text": [
      " 19%|█▉        | 24/127 [27:04<1:24:27, 49.20s/it]"
     ]
    },
    {
     "name": "stdout",
     "output_type": "stream",
     "text": [
      "city taipei saved\n",
      "Processing Hong Kong\n",
      "Segmentation shape after filter:  4377966\n",
      "Segmentation shape after filter images with problems:  4373827\n",
      "data consistent\n",
      "Segmentation shape:  4373827\n",
      "Variables original:  31\n",
      "Variables kept:  30\n"
     ]
    },
    {
     "name": "stderr",
     "output_type": "stream",
     "text": [
      " 20%|█▉        | 25/127 [28:49<1:52:05, 65.93s/it]"
     ]
    },
    {
     "name": "stdout",
     "output_type": "stream",
     "text": [
      "city hongkong saved\n",
      "Processing Valledupar\n",
      "Segmentation shape after filter:  383795\n",
      "Segmentation shape after filter images with problems:  383785\n",
      "data consistent\n",
      "Segmentation shape:  277217\n",
      "Variables original:  31\n",
      "Variables kept:  30\n"
     ]
    },
    {
     "name": "stderr",
     "output_type": "stream",
     "text": [
      " 20%|██        | 26/127 [28:55<1:21:01, 48.14s/it]"
     ]
    },
    {
     "name": "stdout",
     "output_type": "stream",
     "text": [
      "city valledupar saved\n",
      "Processing Bogotá\n",
      "Segmentation shape after filter:  680122\n",
      "Segmentation shape after filter images with problems:  680052\n",
      "data consistent\n",
      "Segmentation shape:  680052\n",
      "Variables original:  31\n",
      "Variables kept:  30\n"
     ]
    },
    {
     "name": "stderr",
     "output_type": "stream",
     "text": [
      " 21%|██▏       | 27/127 [29:45<1:21:10, 48.71s/it]"
     ]
    },
    {
     "name": "stdout",
     "output_type": "stream",
     "text": [
      "city bogotá saved\n",
      "Processing Copenhagen\n",
      "Segmentation shape after filter:  799592\n",
      "Segmentation shape after filter images with problems:  799545\n",
      "data consistent\n",
      "Segmentation shape:  799545\n",
      "Variables original:  31\n",
      "Variables kept:  30\n"
     ]
    },
    {
     "name": "stderr",
     "output_type": "stream",
     "text": [
      " 22%|██▏       | 28/127 [30:19<1:12:38, 44.03s/it]"
     ]
    },
    {
     "name": "stdout",
     "output_type": "stream",
     "text": [
      "city copenhagen saved\n",
      "Processing Quito\n",
      "Segmentation shape after filter:  4676093\n",
      "Segmentation shape after filter images with problems:  4674679\n",
      "data consistent\n",
      "Segmentation shape:  2994061\n",
      "Variables original:  31\n",
      "Variables kept:  30\n"
     ]
    },
    {
     "name": "stderr",
     "output_type": "stream",
     "text": [
      " 23%|██▎       | 29/127 [31:28<1:24:09, 51.52s/it]"
     ]
    },
    {
     "name": "stdout",
     "output_type": "stream",
     "text": [
      "city quito saved\n",
      "Processing Le Mans\n",
      "Segmentation shape after filter:  533103\n",
      "Segmentation shape after filter images with problems:  533047\n",
      "data consistent\n",
      "Segmentation shape:  533005\n",
      "Variables original:  31\n",
      "Variables kept:  30\n"
     ]
    },
    {
     "name": "stderr",
     "output_type": "stream",
     "text": [
      " 24%|██▎       | 30/127 [31:40<1:04:23, 39.83s/it]"
     ]
    },
    {
     "name": "stdout",
     "output_type": "stream",
     "text": [
      "city lemans saved\n",
      "Processing Paris\n",
      "Segmentation shape after filter:  203202\n",
      "Segmentation shape after filter images with problems:  203154\n",
      "data consistent\n",
      "Segmentation shape:  202827\n",
      "Variables original:  31\n",
      "Variables kept:  30\n"
     ]
    },
    {
     "name": "stderr",
     "output_type": "stream",
     "text": [
      " 24%|██▍       | 31/127 [32:04<56:01, 35.01s/it]  "
     ]
    },
    {
     "name": "stdout",
     "output_type": "stream",
     "text": [
      "city paris saved\n",
      "Processing Munich\n",
      "Segmentation shape after filter:  1655495\n",
      "Segmentation shape after filter images with problems:  1655395\n",
      "data consistent\n",
      "Segmentation shape:  1655395\n",
      "Variables original:  31\n",
      "Variables kept:  30\n"
     ]
    },
    {
     "name": "stderr",
     "output_type": "stream",
     "text": [
      " 25%|██▌       | 32/127 [32:38<54:50, 34.64s/it]"
     ]
    },
    {
     "name": "stdout",
     "output_type": "stream",
     "text": [
      "city munich saved\n",
      "Processing Berlin\n",
      "Segmentation shape after filter:  6212030\n",
      "Segmentation shape after filter images with problems:  6211463\n",
      "data consistent\n",
      "Segmentation shape:  6211463\n",
      "Variables original:  31\n",
      "Variables kept:  30\n"
     ]
    },
    {
     "name": "stderr",
     "output_type": "stream",
     "text": [
      " 26%|██▌       | 33/127 [34:47<1:38:53, 63.12s/it]"
     ]
    },
    {
     "name": "stdout",
     "output_type": "stream",
     "text": [
      "city berlin saved\n",
      "Processing Accra\n",
      "Segmentation shape after filter:  1556663\n",
      "Segmentation shape after filter images with problems:  1556653\n",
      "data consistent\n",
      "Segmentation shape:  1556487\n",
      "Variables original:  31\n",
      "Variables kept:  30\n"
     ]
    },
    {
     "name": "stderr",
     "output_type": "stream",
     "text": [
      " 27%|██▋       | 34/127 [35:15<1:21:12, 52.39s/it]"
     ]
    },
    {
     "name": "stdout",
     "output_type": "stream",
     "text": [
      "city accra saved\n",
      "Processing Thessaloniki\n",
      "Segmentation shape after filter:  2848365\n",
      "Segmentation shape after filter images with problems:  2847879\n",
      "data consistent\n",
      "Segmentation shape:  2375507\n",
      "Variables original:  31\n",
      "Variables kept:  30\n"
     ]
    },
    {
     "name": "stderr",
     "output_type": "stream",
     "text": [
      " 28%|██▊       | 35/127 [36:13<1:23:19, 54.35s/it]"
     ]
    },
    {
     "name": "stdout",
     "output_type": "stream",
     "text": [
      "city thessaloniki saved\n",
      "Processing Athens\n",
      "Segmentation shape after filter:  4658181\n",
      "Segmentation shape after filter images with problems:  4657745\n",
      "data consistent\n",
      "Segmentation shape:  4105579\n",
      "Variables original:  31\n",
      "Variables kept:  30\n"
     ]
    },
    {
     "name": "stderr",
     "output_type": "stream",
     "text": [
      " 28%|██▊       | 36/127 [37:51<1:41:56, 67.21s/it]"
     ]
    },
    {
     "name": "stdout",
     "output_type": "stream",
     "text": [
      "city athens saved\n",
      "Processing Guatemala City\n",
      "Segmentation shape after filter:  516987\n",
      "Segmentation shape after filter images with problems:  516969\n",
      "data consistent\n",
      "Segmentation shape:  516669\n",
      "Variables original:  31\n",
      "Variables kept:  30\n"
     ]
    },
    {
     "name": "stderr",
     "output_type": "stream",
     "text": [
      " 29%|██▉       | 37/127 [38:00<1:14:44, 49.83s/it]"
     ]
    },
    {
     "name": "stdout",
     "output_type": "stream",
     "text": [
      "city guatemalacity saved\n",
      "Processing Budapest\n",
      "Segmentation shape after filter:  5096103\n",
      "Segmentation shape after filter images with problems:  5095789\n",
      "data consistent\n",
      "Segmentation shape:  4014627\n",
      "Variables original:  31\n",
      "Variables kept:  30\n"
     ]
    },
    {
     "name": "stderr",
     "output_type": "stream",
     "text": [
      " 30%|██▉       | 38/127 [39:29<1:31:18, 61.56s/it]"
     ]
    },
    {
     "name": "stdout",
     "output_type": "stream",
     "text": [
      "city budapest saved\n",
      "Processing Hindupur\n",
      "Segmentation shape after filter:  125634\n",
      "Segmentation shape after filter images with problems:  125628\n",
      "data consistent\n",
      "Segmentation shape:  78327\n",
      "Variables original:  30\n",
      "Variables kept:  29\n"
     ]
    },
    {
     "name": "stderr",
     "output_type": "stream",
     "text": [
      " 31%|███       | 39/127 [39:31<1:04:04, 43.69s/it]"
     ]
    },
    {
     "name": "stdout",
     "output_type": "stream",
     "text": [
      "city hindupur saved\n",
      "Processing Vijayawada\n",
      "Segmentation shape after filter:  178671\n",
      "Segmentation shape after filter images with problems:  178665\n",
      "data consistent\n",
      "Segmentation shape:  116545\n",
      "Variables original:  30\n",
      "Variables kept:  29\n"
     ]
    },
    {
     "name": "stderr",
     "output_type": "stream",
     "text": [
      " 31%|███▏      | 40/127 [39:33<45:24, 31.31s/it]  "
     ]
    },
    {
     "name": "stdout",
     "output_type": "stream",
     "text": [
      "city vijayawada saved\n",
      "Processing Delhi\n",
      "Segmentation shape after filter:  4531955\n",
      "Segmentation shape after filter images with problems:  4529020\n",
      "data consistent\n",
      "Segmentation shape:  4528772\n",
      "Variables original:  31\n",
      "Variables kept:  30\n"
     ]
    },
    {
     "name": "stderr",
     "output_type": "stream",
     "text": [
      " 32%|███▏      | 41/127 [41:23<1:18:37, 54.86s/it]"
     ]
    },
    {
     "name": "stdout",
     "output_type": "stream",
     "text": [
      "city delhi saved\n",
      "Processing Bangalore\n",
      "Segmentation shape after filter:  4223593\n",
      "Segmentation shape after filter images with problems:  4222807\n",
      "data consistent\n",
      "Segmentation shape:  4218616\n",
      "Variables original:  31\n",
      "Variables kept:  30\n"
     ]
    },
    {
     "name": "stderr",
     "output_type": "stream",
     "text": [
      " 33%|███▎      | 42/127 [42:49<1:30:43, 64.05s/it]"
     ]
    },
    {
     "name": "stdout",
     "output_type": "stream",
     "text": [
      "city bangalore saved\n",
      "Processing Kozhikode\n",
      "Segmentation shape after filter:  2916760\n",
      "Segmentation shape after filter images with problems:  2916401\n",
      "data consistent\n",
      "Segmentation shape:  1685349\n",
      "Variables original:  31\n",
      "Variables kept:  30\n"
     ]
    },
    {
     "name": "stderr",
     "output_type": "stream",
     "text": [
      " 34%|███▍      | 43/127 [43:27<1:18:53, 56.36s/it]"
     ]
    },
    {
     "name": "stdout",
     "output_type": "stream",
     "text": [
      "city kozhikode saved\n",
      "Processing Mumbai\n",
      "Segmentation shape after filter:  1042345\n",
      "Segmentation shape after filter images with problems:  1042190\n",
      "data consistent\n",
      "Segmentation shape:  510844\n",
      "Variables original:  31\n",
      "Variables kept:  30\n"
     ]
    },
    {
     "name": "stderr",
     "output_type": "stream",
     "text": [
      " 35%|███▍      | 44/127 [43:38<59:07, 42.74s/it]  "
     ]
    },
    {
     "name": "stdout",
     "output_type": "stream",
     "text": [
      "city mumbai saved\n",
      "Processing Malegaon\n",
      "Segmentation shape after filter:  2142546\n",
      "Segmentation shape after filter images with problems:  2141394\n",
      "data consistent\n",
      "Segmentation shape:  1235342\n",
      "Variables original:  30\n",
      "Variables kept:  29\n"
     ]
    },
    {
     "name": "stderr",
     "output_type": "stream",
     "text": [
      " 35%|███▌      | 45/127 [44:09<53:37, 39.24s/it]"
     ]
    },
    {
     "name": "stdout",
     "output_type": "stream",
     "text": [
      "city malegaon saved\n",
      "Processing Pune\n",
      "Segmentation shape after filter:  3819373\n",
      "Segmentation shape after filter images with problems:  3818492\n",
      "data consistent\n",
      "Segmentation shape:  1769693\n",
      "Variables original:  31\n",
      "Variables kept:  30\n"
     ]
    },
    {
     "name": "stderr",
     "output_type": "stream",
     "text": [
      " 36%|███▌      | 46/127 [44:50<53:37, 39.72s/it]"
     ]
    },
    {
     "name": "stdout",
     "output_type": "stream",
     "text": [
      "city pune saved\n",
      "Processing Parbhani\n",
      "Segmentation shape after filter:  1935978\n",
      "Segmentation shape after filter images with problems:  1935465\n",
      "data consistent\n",
      "Segmentation shape:  1423409\n",
      "Variables original:  30\n",
      "Variables kept:  29\n"
     ]
    },
    {
     "name": "stderr",
     "output_type": "stream",
     "text": [
      " 37%|███▋      | 47/127 [45:28<52:07, 39.09s/it]"
     ]
    },
    {
     "name": "stdout",
     "output_type": "stream",
     "text": [
      "city parbhani saved\n",
      "Processing Jalna\n",
      "Segmentation shape after filter:  132755\n",
      "Segmentation shape after filter images with problems:  132716\n",
      "data consistent\n",
      "Segmentation shape:  119451\n",
      "Variables original:  30\n",
      "Variables kept:  29\n"
     ]
    },
    {
     "name": "stderr",
     "output_type": "stream",
     "text": [
      " 38%|███▊      | 48/127 [45:50<44:45, 34.00s/it]"
     ]
    },
    {
     "name": "stdout",
     "output_type": "stream",
     "text": [
      "city jalna saved\n",
      "Processing Jaipur\n",
      "Segmentation shape after filter:  2971314\n",
      "Segmentation shape after filter images with problems:  2970648\n",
      "data consistent\n",
      "Segmentation shape:  2623085\n",
      "Variables original:  30\n",
      "Variables kept:  29\n"
     ]
    },
    {
     "name": "stderr",
     "output_type": "stream",
     "text": [
      " 39%|███▊      | 49/127 [46:50<54:19, 41.79s/it]"
     ]
    },
    {
     "name": "stdout",
     "output_type": "stream",
     "text": [
      "city jaipur saved\n",
      "Processing Hyderabad\n",
      "Segmentation shape after filter:  4061804\n",
      "Segmentation shape after filter images with problems:  4061031\n",
      "data consistent\n",
      "Segmentation shape:  4060650\n",
      "Variables original:  31\n",
      "Variables kept:  30\n"
     ]
    },
    {
     "name": "stderr",
     "output_type": "stream",
     "text": [
      " 39%|███▉      | 50/127 [48:17<1:11:11, 55.47s/it]"
     ]
    },
    {
     "name": "stdout",
     "output_type": "stream",
     "text": [
      "city hyderabad saved\n",
      "Processing Sitapur\n",
      "Segmentation shape after filter:  957428\n",
      "Segmentation shape after filter images with problems:  957005\n",
      "data consistent\n",
      "Segmentation shape:  523061\n",
      "Variables original:  31\n",
      "Variables kept:  30\n"
     ]
    },
    {
     "name": "stderr",
     "output_type": "stream",
     "text": [
      " 40%|████      | 51/127 [48:29<53:41, 42.39s/it]  "
     ]
    },
    {
     "name": "stdout",
     "output_type": "stream",
     "text": [
      "city sitapur saved\n",
      "Processing Kanpur\n",
      "Segmentation shape after filter:  3051027\n",
      "Segmentation shape after filter images with problems:  3050621\n",
      "data consistent\n",
      "Segmentation shape:  2320799\n",
      "Variables original:  31\n",
      "Variables kept:  30\n"
     ]
    },
    {
     "name": "stderr",
     "output_type": "stream",
     "text": [
      " 41%|████      | 52/127 [49:19<56:01, 44.83s/it]"
     ]
    },
    {
     "name": "stdout",
     "output_type": "stream",
     "text": [
      "city kanpur saved\n",
      "Processing Parepare\n",
      "Segmentation shape after filter:  401223\n",
      "Segmentation shape after filter images with problems:  401199\n",
      "data consistent\n",
      "Segmentation shape:  339921\n",
      "Variables original:  31\n",
      "Variables kept:  30\n"
     ]
    },
    {
     "name": "stderr",
     "output_type": "stream",
     "text": [
      " 42%|████▏     | 53/127 [49:27<41:27, 33.62s/it]"
     ]
    },
    {
     "name": "stdout",
     "output_type": "stream",
     "text": [
      "city parepare saved\n",
      "Processing Cirebon\n",
      "Segmentation shape after filter:  512915\n",
      "Segmentation shape after filter images with problems:  512844\n",
      "data consistent\n",
      "Segmentation shape:  393945\n",
      "Variables original:  30\n",
      "Variables kept:  29\n"
     ]
    },
    {
     "name": "stderr",
     "output_type": "stream",
     "text": [
      " 43%|████▎     | 54/127 [49:35<31:32, 25.92s/it]"
     ]
    },
    {
     "name": "stdout",
     "output_type": "stream",
     "text": [
      "city cirebon saved\n",
      "Processing Medan\n",
      "Segmentation shape after filter:  2878026\n",
      "Segmentation shape after filter images with problems:  2877165\n",
      "data consistent\n",
      "Segmentation shape:  2225972\n",
      "Variables original:  31\n",
      "Variables kept:  30\n"
     ]
    },
    {
     "name": "stderr",
     "output_type": "stream",
     "text": [
      " 43%|████▎     | 55/127 [50:21<38:31, 32.10s/it]"
     ]
    },
    {
     "name": "stdout",
     "output_type": "stream",
     "text": [
      "city medan saved\n",
      "Processing Palembang\n",
      "Segmentation shape after filter:  3057571\n",
      "Segmentation shape after filter images with problems:  3057283\n",
      "data consistent\n",
      "Segmentation shape:  2243419\n",
      "Variables original:  31\n",
      "Variables kept:  30\n"
     ]
    },
    {
     "name": "stderr",
     "output_type": "stream",
     "text": [
      " 44%|████▍     | 56/127 [51:12<44:23, 37.52s/it]"
     ]
    },
    {
     "name": "stdout",
     "output_type": "stream",
     "text": [
      "city palembang saved\n",
      "Processing Jakarta\n",
      "Segmentation shape after filter:  5325105\n",
      "Segmentation shape after filter images with problems:  5323605\n",
      "data consistent\n",
      "Segmentation shape:  5299667\n",
      "Variables original:  31\n",
      "Variables kept:  30\n"
     ]
    },
    {
     "name": "stderr",
     "output_type": "stream",
     "text": [
      " 45%|████▍     | 57/127 [53:19<1:15:24, 64.64s/it]"
     ]
    },
    {
     "name": "stdout",
     "output_type": "stream",
     "text": [
      "city jakarta saved\n",
      "Processing Tel Aviv\n",
      "Segmentation shape after filter:  462703\n",
      "Segmentation shape after filter images with problems:  462680\n",
      "data consistent\n",
      "Segmentation shape:  462491\n",
      "Variables original:  31\n",
      "Variables kept:  30\n"
     ]
    },
    {
     "name": "stderr",
     "output_type": "stream",
     "text": [
      " 46%|████▌     | 58/127 [53:28<55:02, 47.87s/it]  "
     ]
    },
    {
     "name": "stdout",
     "output_type": "stream",
     "text": [
      "city telaviv saved\n",
      "Processing Jerusalem\n",
      "Segmentation shape after filter:  2277930\n",
      "Segmentation shape after filter images with problems:  2277471\n",
      "data consistent\n",
      "Segmentation shape:  2277471\n",
      "Variables original:  31\n",
      "Variables kept:  30\n"
     ]
    },
    {
     "name": "stderr",
     "output_type": "stream",
     "text": [
      " 46%|████▋     | 59/127 [54:09<51:57, 45.85s/it]"
     ]
    },
    {
     "name": "stdout",
     "output_type": "stream",
     "text": [
      "city jerusalem saved\n",
      "Processing Palermo\n",
      "Segmentation shape after filter:  1314365\n",
      "Segmentation shape after filter images with problems:  1314214\n",
      "data consistent\n",
      "Segmentation shape:  1033484\n",
      "Variables original:  31\n",
      "Variables kept:  30\n"
     ]
    },
    {
     "name": "stderr",
     "output_type": "stream",
     "text": [
      " 47%|████▋     | 60/127 [54:33<43:36, 39.06s/it]"
     ]
    },
    {
     "name": "stdout",
     "output_type": "stream",
     "text": [
      "city palermo saved\n",
      "Processing Rome\n",
      "Segmentation shape after filter:  4622444\n",
      "Segmentation shape after filter images with problems:  4621679\n",
      "data consistent\n",
      "Segmentation shape:  4621679\n",
      "Variables original:  31\n",
      "Variables kept:  30\n"
     ]
    },
    {
     "name": "stderr",
     "output_type": "stream",
     "text": [
      " 48%|████▊     | 61/127 [57:30<1:28:32, 80.49s/it]"
     ]
    },
    {
     "name": "stdout",
     "output_type": "stream",
     "text": [
      "city rome saved\n",
      "Processing Milan\n",
      "Segmentation shape after filter:  1809439\n",
      "Segmentation shape after filter images with problems:  1809204\n",
      "data consistent\n",
      "Segmentation shape:  1798767\n",
      "Variables original:  31\n",
      "Variables kept:  30\n"
     ]
    },
    {
     "name": "stderr",
     "output_type": "stream",
     "text": [
      " 49%|████▉     | 62/127 [58:16<1:15:59, 70.15s/it]"
     ]
    },
    {
     "name": "stdout",
     "output_type": "stream",
     "text": [
      "city milan saved\n",
      "Processing Yamaguchi\n",
      "Segmentation shape after filter:  3116688\n",
      "Segmentation shape after filter images with problems:  3114508\n",
      "data consistent\n",
      "Segmentation shape:  2897948\n",
      "Variables original:  31\n",
      "Variables kept:  30\n"
     ]
    },
    {
     "name": "stderr",
     "output_type": "stream",
     "text": [
      " 50%|████▉     | 63/127 [59:20<1:12:49, 68.27s/it]"
     ]
    },
    {
     "name": "stdout",
     "output_type": "stream",
     "text": [
      "city yamaguchi saved\n",
      "Processing Tokyo\n",
      "Segmentation shape after filter:  5064465\n",
      "Segmentation shape after filter images with problems:  5063708\n",
      "data consistent\n",
      "Segmentation shape:  4976211\n",
      "Variables original:  31\n",
      "Variables kept:  30\n"
     ]
    },
    {
     "name": "stderr",
     "output_type": "stream",
     "text": [
      " 50%|█████     | 64/127 [1:02:12<1:44:29, 99.52s/it]"
     ]
    },
    {
     "name": "stdout",
     "output_type": "stream",
     "text": [
      "city tokyo saved\n",
      "Processing Okayama\n",
      "Segmentation shape after filter:  3070633\n",
      "Segmentation shape after filter images with problems:  3069391\n",
      "data consistent\n",
      "Segmentation shape:  2232387\n",
      "Variables original:  31\n",
      "Variables kept:  30\n"
     ]
    },
    {
     "name": "stderr",
     "output_type": "stream",
     "text": [
      " 51%|█████     | 65/127 [1:03:21<1:33:16, 90.26s/it]"
     ]
    },
    {
     "name": "stdout",
     "output_type": "stream",
     "text": [
      "city okayama saved\n",
      "Processing Fukuoka\n",
      "Segmentation shape after filter:  5772709\n",
      "Segmentation shape after filter images with problems:  5771367\n",
      "data consistent\n",
      "Segmentation shape:  4555754\n",
      "Variables original:  31\n",
      "Variables kept:  30\n"
     ]
    },
    {
     "name": "stderr",
     "output_type": "stream",
     "text": [
      " 52%|█████▏    | 66/127 [1:05:26<1:42:34, 100.89s/it]"
     ]
    },
    {
     "name": "stdout",
     "output_type": "stream",
     "text": [
      "city fukuoka saved\n",
      "Processing Nagoya\n",
      "Segmentation shape after filter:  4174259\n",
      "Segmentation shape after filter images with problems:  4173675\n",
      "data consistent\n",
      "Segmentation shape:  4173675\n",
      "Variables original:  31\n",
      "Variables kept:  30\n"
     ]
    },
    {
     "name": "stderr",
     "output_type": "stream",
     "text": [
      " 53%|█████▎    | 67/127 [1:07:20<1:44:51, 104.86s/it]"
     ]
    },
    {
     "name": "stdout",
     "output_type": "stream",
     "text": [
      "city nagoya saved\n",
      "Processing Nairobi\n",
      "Segmentation shape after filter:  6781470\n",
      "Segmentation shape after filter images with problems:  6780119\n",
      "data consistent\n",
      "Segmentation shape:  6780119\n",
      "Variables original:  31\n",
      "Variables kept:  30\n"
     ]
    },
    {
     "name": "stderr",
     "output_type": "stream",
     "text": [
      " 54%|█████▎    | 68/127 [1:10:13<2:03:01, 125.12s/it]"
     ]
    },
    {
     "name": "stdout",
     "output_type": "stream",
     "text": [
      "city nairobi saved\n",
      "Processing Kaunas\n",
      "Segmentation shape after filter:  2220050\n",
      "Segmentation shape after filter images with problems:  2219839\n",
      "data consistent\n",
      "Segmentation shape:  1235059\n",
      "Variables original:  31\n",
      "Variables kept:  30\n"
     ]
    },
    {
     "name": "stderr",
     "output_type": "stream",
     "text": [
      " 54%|█████▍    | 69/127 [1:10:42<1:33:14, 96.46s/it] "
     ]
    },
    {
     "name": "stdout",
     "output_type": "stream",
     "text": [
      "city kaunas saved\n",
      "Processing Kuala Lumpur\n",
      "Segmentation shape after filter:  760417\n",
      "Segmentation shape after filter images with problems:  760361\n",
      "data consistent\n",
      "Segmentation shape:  760361\n",
      "Variables original:  31\n",
      "Variables kept:  30\n"
     ]
    },
    {
     "name": "stderr",
     "output_type": "stream",
     "text": [
      " 55%|█████▌    | 70/127 [1:11:02<1:09:37, 73.30s/it]"
     ]
    },
    {
     "name": "stdout",
     "output_type": "stream",
     "text": [
      "city kualalumpur saved\n",
      "Processing Guadalajara\n",
      "Segmentation shape after filter:  1530365\n",
      "Segmentation shape after filter images with problems:  1530307\n",
      "data consistent\n",
      "Segmentation shape:  1374233\n",
      "Variables original:  31\n",
      "Variables kept:  30\n"
     ]
    },
    {
     "name": "stderr",
     "output_type": "stream",
     "text": [
      " 56%|█████▌    | 71/127 [1:11:34<56:57, 61.02s/it]  "
     ]
    },
    {
     "name": "stdout",
     "output_type": "stream",
     "text": [
      "city guadalajara saved\n",
      "Processing Reynosa\n",
      "Segmentation shape after filter:  2189409\n",
      "Segmentation shape after filter images with problems:  2189357\n",
      "data consistent\n",
      "Segmentation shape:  1211139\n",
      "Variables original:  31\n",
      "Variables kept:  30\n"
     ]
    },
    {
     "name": "stderr",
     "output_type": "stream",
     "text": [
      " 57%|█████▋    | 72/127 [1:12:04<47:30, 51.82s/it]"
     ]
    },
    {
     "name": "stdout",
     "output_type": "stream",
     "text": [
      "city reynosa saved\n",
      "Processing Culiacan\n",
      "Segmentation shape after filter:  1948226\n",
      "Segmentation shape after filter images with problems:  1948144\n",
      "data consistent\n",
      "Segmentation shape:  1452794\n",
      "Variables original:  31\n",
      "Variables kept:  30\n"
     ]
    },
    {
     "name": "stderr",
     "output_type": "stream",
     "text": [
      " 57%|█████▋    | 73/127 [1:12:35<41:01, 45.58s/it]"
     ]
    },
    {
     "name": "stdout",
     "output_type": "stream",
     "text": [
      "city culiacan saved\n",
      "Processing Mexico City\n",
      "Segmentation shape after filter:  7425145\n",
      "Segmentation shape after filter images with problems:  7423209\n",
      "data consistent\n",
      "Segmentation shape:  7423209\n",
      "Variables original:  31\n",
      "Variables kept:  30\n"
     ]
    },
    {
     "name": "stderr",
     "output_type": "stream",
     "text": [
      " 58%|█████▊    | 74/127 [1:16:08<1:24:26, 95.60s/it]"
     ]
    },
    {
     "name": "stdout",
     "output_type": "stream",
     "text": [
      "city mexicocity saved\n",
      "Processing Zwolle\n",
      "Segmentation shape after filter:  1123088\n",
      "Segmentation shape after filter images with problems:  1123006\n",
      "data consistent\n",
      "Segmentation shape:  756600\n",
      "Variables original:  31\n",
      "Variables kept:  30\n"
     ]
    },
    {
     "name": "stderr",
     "output_type": "stream",
     "text": [
      " 59%|█████▉    | 75/127 [1:16:27<1:02:59, 72.69s/it]"
     ]
    },
    {
     "name": "stdout",
     "output_type": "stream",
     "text": [
      "city zwolle saved\n",
      "Processing Amsterdam\n",
      "Segmentation shape after filter:  4719004\n",
      "Segmentation shape after filter images with problems:  4718461\n",
      "data consistent\n",
      "Segmentation shape:  4718352\n",
      "Variables original:  31\n",
      "Variables kept:  30\n"
     ]
    },
    {
     "name": "stderr",
     "output_type": "stream",
     "text": [
      " 60%|█████▉    | 76/127 [1:19:15<1:26:12, 101.43s/it]"
     ]
    },
    {
     "name": "stdout",
     "output_type": "stream",
     "text": [
      "city amsterdam saved\n",
      "Processing Wellington\n",
      "Segmentation shape after filter:  3203200\n",
      "Segmentation shape after filter images with problems:  3202592\n",
      "data consistent\n",
      "Segmentation shape:  3202592\n",
      "Variables original:  31\n",
      "Variables kept:  30\n"
     ]
    },
    {
     "name": "stderr",
     "output_type": "stream",
     "text": [
      " 61%|██████    | 77/127 [1:20:18<1:14:46, 89.74s/it] "
     ]
    },
    {
     "name": "stdout",
     "output_type": "stream",
     "text": [
      "city wellington saved\n",
      "Processing Auckland\n",
      "Segmentation shape after filter:  5766361\n",
      "Segmentation shape after filter images with problems:  5766188\n",
      "data consistent\n",
      "Segmentation shape:  4582108\n",
      "Variables original:  31\n",
      "Variables kept:  30\n"
     ]
    },
    {
     "name": "stderr",
     "output_type": "stream",
     "text": [
      " 61%|██████▏   | 78/127 [1:22:07<1:18:05, 95.61s/it]"
     ]
    },
    {
     "name": "stdout",
     "output_type": "stream",
     "text": [
      "city auckland saved\n",
      "Processing Gombe\n",
      "Segmentation shape after filter:  449672\n",
      "Segmentation shape after filter images with problems:  449577\n",
      "data consistent\n",
      "Segmentation shape:  362838\n",
      "Variables original:  30\n",
      "Variables kept:  29\n"
     ]
    },
    {
     "name": "stderr",
     "output_type": "stream",
     "text": [
      " 62%|██████▏   | 79/127 [1:22:15<55:28, 69.34s/it]  "
     ]
    },
    {
     "name": "stdout",
     "output_type": "stream",
     "text": [
      "city gombe saved\n",
      "Processing Lagos\n",
      "Segmentation shape after filter:  4676460\n",
      "Segmentation shape after filter images with problems:  4676357\n",
      "data consistent\n",
      "Segmentation shape:  4676357\n",
      "Variables original:  31\n",
      "Variables kept:  30\n"
     ]
    },
    {
     "name": "stderr",
     "output_type": "stream",
     "text": [
      " 63%|██████▎   | 80/127 [1:23:44<58:52, 75.16s/it]"
     ]
    },
    {
     "name": "stdout",
     "output_type": "stream",
     "text": [
      "city lagos saved\n",
      "Processing Lima\n",
      "Segmentation shape after filter:  4851403\n",
      "Segmentation shape after filter images with problems:  4850923\n",
      "data consistent\n",
      "Segmentation shape:  4850923\n",
      "Variables original:  31\n",
      "Variables kept:  30\n"
     ]
    },
    {
     "name": "stderr",
     "output_type": "stream",
     "text": [
      " 64%|██████▍   | 81/127 [1:25:30<1:04:46, 84.48s/it]"
     ]
    },
    {
     "name": "stdout",
     "output_type": "stream",
     "text": [
      "city lima saved\n",
      "Processing Manila\n",
      "Segmentation shape after filter:  542549\n",
      "Segmentation shape after filter images with problems:  542480\n",
      "data consistent\n",
      "Segmentation shape:  471941\n",
      "Variables original:  31\n",
      "Variables kept:  30\n"
     ]
    },
    {
     "name": "stderr",
     "output_type": "stream",
     "text": [
      " 65%|██████▍   | 82/127 [1:25:39<46:19, 61.77s/it]  "
     ]
    },
    {
     "name": "stdout",
     "output_type": "stream",
     "text": [
      "city manila saved\n",
      "Processing Bacolod\n",
      "Segmentation shape after filter:  1022292\n",
      "Segmentation shape after filter images with problems:  1021982\n",
      "data consistent\n",
      "Segmentation shape:  897583\n",
      "Variables original:  30\n",
      "Variables kept:  29\n"
     ]
    },
    {
     "name": "stderr",
     "output_type": "stream",
     "text": [
      " 65%|██████▌   | 83/127 [1:25:57<35:33, 48.49s/it]"
     ]
    },
    {
     "name": "stdout",
     "output_type": "stream",
     "text": [
      "city bacolod saved\n",
      "Processing Cebu City\n",
      "Segmentation shape after filter:  952647\n",
      "Segmentation shape after filter images with problems:  952421\n",
      "data consistent\n",
      "Segmentation shape:  952421\n",
      "Variables original:  31\n",
      "Variables kept:  30\n"
     ]
    },
    {
     "name": "stderr",
     "output_type": "stream",
     "text": [
      " 66%|██████▌   | 84/127 [1:26:17<28:41, 40.04s/it]"
     ]
    },
    {
     "name": "stdout",
     "output_type": "stream",
     "text": [
      "city cebucity saved\n",
      "Processing Metro Manila\n",
      "Segmentation shape after filter:  5390018\n",
      "Segmentation shape after filter images with problems:  5389427\n",
      "data consistent\n",
      "Segmentation shape:  5389427\n",
      "Variables original:  31\n",
      "Variables kept:  30\n"
     ]
    },
    {
     "name": "stderr",
     "output_type": "stream",
     "text": [
      " 67%|██████▋   | 85/127 [1:28:14<44:09, 63.09s/it]"
     ]
    },
    {
     "name": "stdout",
     "output_type": "stream",
     "text": [
      "city metromanila saved\n",
      "Processing Warsaw\n",
      "Segmentation shape after filter:  7853922\n",
      "Segmentation shape after filter images with problems:  7852605\n",
      "data consistent\n",
      "Segmentation shape:  3768925\n",
      "Variables original:  31\n",
      "Variables kept:  30\n"
     ]
    },
    {
     "name": "stderr",
     "output_type": "stream",
     "text": [
      " 68%|██████▊   | 86/127 [1:29:52<50:24, 73.77s/it]"
     ]
    },
    {
     "name": "stdout",
     "output_type": "stream",
     "text": [
      "city warsaw saved\n",
      "Processing Seoul\n",
      "Segmentation shape after filter:  6084830\n",
      "Segmentation shape after filter images with problems:  6083655\n",
      "data consistent\n",
      "Segmentation shape:  6081802\n",
      "Variables original:  31\n",
      "Variables kept:  30\n"
     ]
    },
    {
     "name": "stderr",
     "output_type": "stream",
     "text": [
      " 69%|██████▊   | 87/127 [1:32:00<59:58, 89.96s/it]"
     ]
    },
    {
     "name": "stdout",
     "output_type": "stream",
     "text": [
      "city seoul saved\n",
      "Processing Berezniki\n",
      "Segmentation shape after filter:  806511\n",
      "Segmentation shape after filter images with problems:  806481\n",
      "data consistent\n",
      "Segmentation shape:  283668\n",
      "Variables original:  31\n",
      "Variables kept:  30\n"
     ]
    },
    {
     "name": "stderr",
     "output_type": "stream",
     "text": [
      " 69%|██████▉   | 88/127 [1:32:07<42:20, 65.13s/it]"
     ]
    },
    {
     "name": "stdout",
     "output_type": "stream",
     "text": [
      "city berezniki saved\n",
      "Processing Dzerzhinsk\n",
      "Segmentation shape after filter:  1073048\n",
      "Segmentation shape after filter images with problems:  1072894\n",
      "data consistent\n",
      "Segmentation shape:  539923\n",
      "Variables original:  31\n",
      "Variables kept:  30\n"
     ]
    },
    {
     "name": "stderr",
     "output_type": "stream",
     "text": [
      " 70%|███████   | 89/127 [1:32:20<31:20, 49.48s/it]"
     ]
    },
    {
     "name": "stdout",
     "output_type": "stream",
     "text": [
      "city dzerzhinsk saved\n",
      "Processing Astrakhan\n",
      "Segmentation shape after filter:  1284947\n",
      "Segmentation shape after filter images with problems:  1284523\n",
      "data consistent\n",
      "Segmentation shape:  704534\n",
      "Variables original:  31\n",
      "Variables kept:  30\n"
     ]
    },
    {
     "name": "stderr",
     "output_type": "stream",
     "text": [
      " 71%|███████   | 90/127 [1:32:37<24:22, 39.53s/it]"
     ]
    },
    {
     "name": "stdout",
     "output_type": "stream",
     "text": [
      "city astrakhan saved\n",
      "Processing Tyumen\n",
      "Segmentation shape after filter:  1955965\n",
      "Segmentation shape after filter images with problems:  1955925\n",
      "data consistent\n",
      "Segmentation shape:  819983\n",
      "Variables original:  31\n",
      "Variables kept:  30\n"
     ]
    },
    {
     "name": "stderr",
     "output_type": "stream",
     "text": [
      " 72%|███████▏  | 91/127 [1:32:55<19:56, 33.24s/it]"
     ]
    },
    {
     "name": "stdout",
     "output_type": "stream",
     "text": [
      "city tyumen saved\n",
      "Processing Saint Petersburg\n",
      "Segmentation shape after filter:  4730966\n",
      "Segmentation shape after filter images with problems:  4730619\n",
      "data consistent\n",
      "Segmentation shape:  4730586\n",
      "Variables original:  31\n",
      "Variables kept:  30\n"
     ]
    },
    {
     "name": "stderr",
     "output_type": "stream",
     "text": [
      " 72%|███████▏  | 92/127 [1:35:00<35:21, 60.62s/it]"
     ]
    },
    {
     "name": "stdout",
     "output_type": "stream",
     "text": [
      "city saintpetersburg saved\n",
      "Processing Moscow\n",
      "Segmentation shape after filter:  9036352\n",
      "Segmentation shape after filter images with problems:  9035871\n",
      "data consistent\n",
      "Segmentation shape:  9035871\n",
      "Variables original:  31\n",
      "Variables kept:  30\n"
     ]
    },
    {
     "name": "stderr",
     "output_type": "stream",
     "text": [
      " 73%|███████▎  | 93/127 [1:38:45<1:02:22, 110.06s/it]"
     ]
    },
    {
     "name": "stdout",
     "output_type": "stream",
     "text": [
      "city moscow saved\n",
      "Processing Kigali\n",
      "Segmentation shape after filter:  1098656\n",
      "Segmentation shape after filter images with problems:  1098634\n",
      "data consistent\n",
      "Segmentation shape:  913738\n",
      "Variables original:  30\n",
      "Variables kept:  29\n"
     ]
    },
    {
     "name": "stderr",
     "output_type": "stream",
     "text": [
      " 74%|███████▍  | 94/127 [1:39:05<45:43, 83.13s/it]   "
     ]
    },
    {
     "name": "stdout",
     "output_type": "stream",
     "text": [
      "city kigali saved\n",
      "Processing Belgrade\n",
      "Segmentation shape after filter:  2239146\n",
      "Segmentation shape after filter images with problems:  2238860\n",
      "data consistent\n",
      "Segmentation shape:  1374581\n",
      "Variables original:  31\n",
      "Variables kept:  30\n"
     ]
    },
    {
     "name": "stderr",
     "output_type": "stream",
     "text": [
      " 75%|███████▍  | 95/127 [1:39:34<35:35, 66.75s/it]"
     ]
    },
    {
     "name": "stdout",
     "output_type": "stream",
     "text": [
      "city belgrade saved\n",
      "Processing Singapore\n",
      "Segmentation shape after filter:  7624184\n",
      "Segmentation shape after filter images with problems:  7623821\n",
      "data consistent\n",
      "Segmentation shape:  7623821\n",
      "Variables original:  31\n",
      "Variables kept:  30\n"
     ]
    },
    {
     "name": "stderr",
     "output_type": "stream",
     "text": [
      " 76%|███████▌  | 96/127 [1:42:12<48:33, 93.99s/it]"
     ]
    },
    {
     "name": "stdout",
     "output_type": "stream",
     "text": [
      "city singapore saved\n",
      "Processing Capetown\n",
      "Segmentation shape after filter:  3454380\n",
      "Segmentation shape after filter images with problems:  3453676\n",
      "data consistent\n",
      "Segmentation shape:  3453676\n",
      "Variables original:  31\n",
      "Variables kept:  30\n"
     ]
    },
    {
     "name": "stderr",
     "output_type": "stream",
     "text": [
      " 76%|███████▋  | 97/127 [1:43:42<46:24, 92.81s/it]"
     ]
    },
    {
     "name": "stdout",
     "output_type": "stream",
     "text": [
      "city capetown saved\n",
      "Processing Johannesburg\n",
      "Segmentation shape after filter:  10973546\n",
      "Segmentation shape after filter images with problems:  10973139\n",
      "data consistent\n",
      "Segmentation shape:  10970866\n",
      "Variables original:  31\n",
      "Variables kept:  30\n"
     ]
    },
    {
     "name": "stderr",
     "output_type": "stream",
     "text": [
      " 77%|███████▋  | 98/127 [1:48:08<1:10:04, 144.97s/it]"
     ]
    },
    {
     "name": "stdout",
     "output_type": "stream",
     "text": [
      "city johannesburg saved\n",
      "Processing Madrid\n",
      "Segmentation shape after filter:  2749038\n",
      "Segmentation shape after filter images with problems:  2748611\n",
      "data consistent\n",
      "Segmentation shape:  2748535\n",
      "Variables original:  31\n",
      "Variables kept:  30\n"
     ]
    },
    {
     "name": "stderr",
     "output_type": "stream",
     "text": [
      " 78%|███████▊  | 99/127 [1:49:00<54:32, 116.86s/it]  "
     ]
    },
    {
     "name": "stdout",
     "output_type": "stream",
     "text": [
      "city madrid saved\n",
      "Processing Stockholm\n",
      "Segmentation shape after filter:  2344922\n",
      "Segmentation shape after filter images with problems:  2344493\n",
      "data consistent\n",
      "Segmentation shape:  2344406\n",
      "Variables original:  31\n",
      "Variables kept:  30\n"
     ]
    },
    {
     "name": "stderr",
     "output_type": "stream",
     "text": [
      " 79%|███████▊  | 100/127 [1:49:50<43:35, 96.86s/it]"
     ]
    },
    {
     "name": "stdout",
     "output_type": "stream",
     "text": [
      "city stockholm saved\n",
      "Processing Bangkok\n",
      "Segmentation shape after filter:  5171084\n",
      "Segmentation shape after filter images with problems:  5170397\n",
      "data consistent\n",
      "Segmentation shape:  5169578\n",
      "Variables original:  31\n",
      "Variables kept:  30\n"
     ]
    },
    {
     "name": "stderr",
     "output_type": "stream",
     "text": [
      " 80%|███████▉  | 101/127 [1:52:01<46:24, 107.08s/it]"
     ]
    },
    {
     "name": "stdout",
     "output_type": "stream",
     "text": [
      "city bangkok saved\n",
      "Processing Istanbul\n",
      "Segmentation shape after filter:  10550243\n",
      "Segmentation shape after filter images with problems:  10548839\n",
      "data consistent\n",
      "Segmentation shape:  10544073\n",
      "Variables original:  31\n",
      "Variables kept:  30\n"
     ]
    },
    {
     "name": "stderr",
     "output_type": "stream",
     "text": [
      " 80%|████████  | 102/127 [1:56:29<1:04:49, 155.59s/it]"
     ]
    },
    {
     "name": "stdout",
     "output_type": "stream",
     "text": [
      "city istanbul saved\n",
      "Processing Kampala\n",
      "Segmentation shape after filter:  1213931\n",
      "Segmentation shape after filter images with problems:  1213914\n",
      "data consistent\n",
      "Segmentation shape:  1213849\n",
      "Variables original:  31\n",
      "Variables kept:  30\n"
     ]
    },
    {
     "name": "stderr",
     "output_type": "stream",
     "text": [
      " 81%|████████  | 103/127 [1:56:50<46:03, 115.17s/it]  "
     ]
    },
    {
     "name": "stdout",
     "output_type": "stream",
     "text": [
      "city kampala saved\n",
      "Processing Rovno\n",
      "Segmentation shape after filter:  872696\n",
      "Segmentation shape after filter images with problems:  872448\n",
      "data consistent\n",
      "Segmentation shape:  332486\n",
      "Variables original:  31\n",
      "Variables kept:  30\n"
     ]
    },
    {
     "name": "stderr",
     "output_type": "stream",
     "text": [
      " 82%|████████▏ | 104/127 [1:56:58<31:44, 82.80s/it] "
     ]
    },
    {
     "name": "stdout",
     "output_type": "stream",
     "text": [
      "city rovno saved\n",
      "Processing Kyiv\n",
      "Segmentation shape after filter:  3121008\n",
      "Segmentation shape after filter images with problems:  3120858\n",
      "data consistent\n",
      "Segmentation shape:  3120858\n",
      "Variables original:  31\n",
      "Variables kept:  30\n"
     ]
    },
    {
     "name": "stderr",
     "output_type": "stream",
     "text": [
      " 83%|████████▎ | 105/127 [1:57:55<27:34, 75.21s/it]"
     ]
    },
    {
     "name": "stdout",
     "output_type": "stream",
     "text": [
      "city kyiv saved\n",
      "Processing Dubai\n",
      "Segmentation shape after filter:  4037138\n",
      "Segmentation shape after filter images with problems:  4036697\n",
      "data consistent\n",
      "Segmentation shape:  4036697\n",
      "Variables original:  31\n",
      "Variables kept:  30\n"
     ]
    },
    {
     "name": "stderr",
     "output_type": "stream",
     "text": [
      " 83%|████████▎ | 106/127 [1:59:13<26:34, 75.92s/it]"
     ]
    },
    {
     "name": "stdout",
     "output_type": "stream",
     "text": [
      "city dubai saved\n",
      "Processing Manchester\n",
      "Segmentation shape after filter:  1913992\n",
      "Segmentation shape after filter images with problems:  1913918\n",
      "data consistent\n",
      "Segmentation shape:  1338161\n",
      "Variables original:  31\n",
      "Variables kept:  30\n"
     ]
    },
    {
     "name": "stderr",
     "output_type": "stream",
     "text": [
      " 84%|████████▍ | 107/127 [1:59:46<21:00, 63.02s/it]"
     ]
    },
    {
     "name": "stdout",
     "output_type": "stream",
     "text": [
      "city manchester saved\n",
      "Processing Sheffield\n",
      "Segmentation shape after filter:  2844080\n",
      "Segmentation shape after filter images with problems:  2843906\n",
      "data consistent\n",
      "Segmentation shape:  1990806\n",
      "Variables original:  31\n",
      "Variables kept:  30\n"
     ]
    },
    {
     "name": "stderr",
     "output_type": "stream",
     "text": [
      " 85%|████████▌ | 108/127 [2:00:28<18:01, 56.93s/it]"
     ]
    },
    {
     "name": "stdout",
     "output_type": "stream",
     "text": [
      "city sheffield saved\n",
      "Processing London\n",
      "Segmentation shape after filter:  15982042\n",
      "Segmentation shape after filter images with problems:  15980853\n",
      "data consistent\n",
      "Segmentation shape:  15980618\n",
      "Variables original:  31\n",
      "Variables kept:  30\n"
     ]
    },
    {
     "name": "stderr",
     "output_type": "stream",
     "text": [
      " 86%|████████▌ | 109/127 [2:07:11<48:14, 160.81s/it]"
     ]
    },
    {
     "name": "stdout",
     "output_type": "stream",
     "text": [
      "city london saved\n",
      "Processing Killeen\n",
      "Segmentation shape after filter:  1198134\n",
      "Segmentation shape after filter images with problems:  1198134\n",
      "data consistent\n",
      "Segmentation shape:  856116\n",
      "Variables original:  30\n",
      "Variables kept:  29\n"
     ]
    },
    {
     "name": "stderr",
     "output_type": "stream",
     "text": [
      " 87%|████████▋ | 110/127 [2:07:29<33:21, 117.75s/it]"
     ]
    },
    {
     "name": "stdout",
     "output_type": "stream",
     "text": [
      "city killeen saved\n",
      "Processing Modesto\n",
      "Segmentation shape after filter:  1190067\n",
      "Segmentation shape after filter images with problems:  1190057\n",
      "data consistent\n",
      "Segmentation shape:  947753\n",
      "Variables original:  30\n",
      "Variables kept:  29\n"
     ]
    },
    {
     "name": "stderr",
     "output_type": "stream",
     "text": [
      " 87%|████████▋ | 111/127 [2:07:49<23:33, 88.36s/it] "
     ]
    },
    {
     "name": "stdout",
     "output_type": "stream",
     "text": [
      "city modesto saved\n",
      "Processing Gainesville, FL\n",
      "Segmentation shape after filter:  964153\n",
      "Segmentation shape after filter images with problems:  964123\n",
      "data consistent\n",
      "Segmentation shape:  964102\n",
      "Variables original:  31\n",
      "Variables kept:  30\n"
     ]
    },
    {
     "name": "stderr",
     "output_type": "stream",
     "text": [
      " 88%|████████▊ | 112/127 [2:08:11<17:07, 68.50s/it]"
     ]
    },
    {
     "name": "stdout",
     "output_type": "stream",
     "text": [
      "city gainesville,fl saved\n",
      "Processing Minneapolis\n",
      "Segmentation shape after filter:  1773970\n",
      "Segmentation shape after filter images with problems:  1773916\n",
      "data consistent\n",
      "Segmentation shape:  1514176\n",
      "Variables original:  31\n",
      "Variables kept:  30\n"
     ]
    },
    {
     "name": "stderr",
     "output_type": "stream",
     "text": [
      " 89%|████████▉ | 113/127 [2:08:44<13:30, 57.87s/it]"
     ]
    },
    {
     "name": "stdout",
     "output_type": "stream",
     "text": [
      "city minneapolis saved\n",
      "Processing Toledo\n",
      "Segmentation shape after filter:  2471817\n",
      "Segmentation shape after filter images with problems:  2471793\n",
      "data consistent\n",
      "Segmentation shape:  1827523\n",
      "Variables original:  31\n",
      "Variables kept:  30\n"
     ]
    },
    {
     "name": "stderr",
     "output_type": "stream",
     "text": [
      " 90%|████████▉ | 114/127 [2:09:21<11:13, 51.82s/it]"
     ]
    },
    {
     "name": "stdout",
     "output_type": "stream",
     "text": [
      "city toledo saved\n",
      "Processing Cleveland\n",
      "Segmentation shape after filter:  2406930\n",
      "Segmentation shape after filter images with problems:  2406831\n",
      "data consistent\n",
      "Segmentation shape:  2049202\n",
      "Variables original:  31\n",
      "Variables kept:  30\n"
     ]
    },
    {
     "name": "stderr",
     "output_type": "stream",
     "text": [
      " 91%|█████████ | 115/127 [2:10:04<09:46, 48.91s/it]"
     ]
    },
    {
     "name": "stdout",
     "output_type": "stream",
     "text": [
      "city cleveland saved\n",
      "Processing Portland, OR\n",
      "Segmentation shape after filter:  3295830\n",
      "Segmentation shape after filter images with problems:  3295480\n",
      "data consistent\n",
      "Segmentation shape:  3295480\n",
      "Variables original:  31\n",
      "Variables kept:  30\n"
     ]
    },
    {
     "name": "stderr",
     "output_type": "stream",
     "text": [
      " 91%|█████████▏| 116/127 [2:11:10<09:55, 54.18s/it]"
     ]
    },
    {
     "name": "stdout",
     "output_type": "stream",
     "text": [
      "city portland,or saved\n",
      "Processing Raleigh\n",
      "Segmentation shape after filter:  4658351\n",
      "Segmentation shape after filter images with problems:  4658088\n",
      "data consistent\n",
      "Segmentation shape:  3120413\n",
      "Variables original:  31\n",
      "Variables kept:  30\n"
     ]
    },
    {
     "name": "stderr",
     "output_type": "stream",
     "text": [
      " 92%|█████████▏| 117/127 [2:12:23<09:56, 59.67s/it]"
     ]
    },
    {
     "name": "stdout",
     "output_type": "stream",
     "text": [
      "city raleigh saved\n",
      "Processing Miami\n",
      "Segmentation shape after filter:  1387559\n",
      "Segmentation shape after filter images with problems:  1387372\n",
      "data consistent\n",
      "Segmentation shape:  1352920\n",
      "Variables original:  31\n",
      "Variables kept:  30\n"
     ]
    },
    {
     "name": "stderr",
     "output_type": "stream",
     "text": [
      " 93%|█████████▎| 118/127 [2:12:54<07:40, 51.20s/it]"
     ]
    },
    {
     "name": "stdout",
     "output_type": "stream",
     "text": [
      "city miami saved\n",
      "Processing San Francisco\n",
      "Segmentation shape after filter:  1311181\n",
      "Segmentation shape after filter images with problems:  1311069\n",
      "data consistent\n",
      "Segmentation shape:  1279693\n",
      "Variables original:  31\n",
      "Variables kept:  30\n"
     ]
    },
    {
     "name": "stderr",
     "output_type": "stream",
     "text": [
      " 94%|█████████▎| 119/127 [2:13:32<06:17, 47.23s/it]"
     ]
    },
    {
     "name": "stdout",
     "output_type": "stream",
     "text": [
      "city sanfrancisco saved\n",
      "Processing Boston\n",
      "Segmentation shape after filter:  441140\n",
      "Segmentation shape after filter images with problems:  441120\n",
      "data consistent\n",
      "Segmentation shape:  436799\n",
      "Variables original:  31\n",
      "Variables kept:  30\n"
     ]
    },
    {
     "name": "stderr",
     "output_type": "stream",
     "text": [
      " 94%|█████████▍| 120/127 [2:13:43<04:13, 36.25s/it]"
     ]
    },
    {
     "name": "stdout",
     "output_type": "stream",
     "text": [
      "city boston saved\n",
      "Processing Denver\n",
      "Segmentation shape after filter:  3230259\n",
      "Segmentation shape after filter images with problems:  3229997\n",
      "data consistent\n",
      "Segmentation shape:  3108131\n",
      "Variables original:  31\n",
      "Variables kept:  30\n"
     ]
    },
    {
     "name": "stderr",
     "output_type": "stream",
     "text": [
      " 95%|█████████▌| 121/127 [2:14:51<04:35, 45.90s/it]"
     ]
    },
    {
     "name": "stdout",
     "output_type": "stream",
     "text": [
      "city denver saved\n",
      "Processing Detroit\n",
      "Segmentation shape after filter:  3895144\n",
      "Segmentation shape after filter images with problems:  3894982\n",
      "data consistent\n",
      "Segmentation shape:  3894952\n",
      "Variables original:  31\n",
      "Variables kept:  30\n"
     ]
    },
    {
     "name": "stderr",
     "output_type": "stream",
     "text": [
      " 96%|█████████▌| 122/127 [2:16:19<04:51, 58.40s/it]"
     ]
    },
    {
     "name": "stdout",
     "output_type": "stream",
     "text": [
      "city detroit saved\n",
      "Processing Los Angeles\n",
      "Segmentation shape after filter:  10108054\n",
      "Segmentation shape after filter images with problems:  10107621\n",
      "data consistent\n",
      "Segmentation shape:  10107621\n",
      "Variables original:  31\n",
      "Variables kept:  30\n"
     ]
    },
    {
     "name": "stderr",
     "output_type": "stream",
     "text": [
      " 98%|█████████▊| 124/127 [2:19:52<04:01, 80.65s/it]"
     ]
    },
    {
     "name": "stdout",
     "output_type": "stream",
     "text": [
      "city losangeles saved\n",
      "Processing Houston\n",
      "Segmentation shape after filter:  3269415\n",
      "Segmentation shape after filter images with problems:  3269202\n",
      "data consistent\n",
      "Segmentation shape:  2604887\n",
      "Variables original:  31\n",
      "Variables kept:  30\n"
     ]
    },
    {
     "name": "stderr",
     "output_type": "stream",
     "text": [
      " 98%|█████████▊| 125/127 [2:21:53<03:01, 90.78s/it]"
     ]
    },
    {
     "name": "stdout",
     "output_type": "stream",
     "text": [
      "city houston saved\n",
      "Processing Philadelphia\n",
      "Segmentation shape after filter:  5177748\n",
      "Segmentation shape after filter images with problems:  5177328\n",
      "data consistent\n",
      "Segmentation shape:  4964552\n",
      "Variables original:  31\n",
      "Variables kept:  30\n"
     ]
    },
    {
     "name": "stderr",
     "output_type": "stream",
     "text": [
      " 99%|█████████▉| 126/127 [2:23:39<01:34, 94.60s/it]"
     ]
    },
    {
     "name": "stdout",
     "output_type": "stream",
     "text": [
      "city philadelphia saved\n",
      "Processing Chicago\n",
      "Segmentation shape after filter:  1632887\n",
      "Segmentation shape after filter images with problems:  1632603\n",
      "data consistent\n",
      "Segmentation shape:  1159541\n",
      "Variables original:  31\n",
      "Variables kept:  30\n"
     ]
    },
    {
     "name": "stderr",
     "output_type": "stream",
     "text": [
      "100%|██████████| 127/127 [2:25:44<00:00, 68.85s/it] "
     ]
    },
    {
     "name": "stdout",
     "output_type": "stream",
     "text": [
      "city chicago saved\n"
     ]
    },
    {
     "name": "stderr",
     "output_type": "stream",
     "text": [
      "\n"
     ]
    }
   ],
   "source": [
    "# loop through all cities\n",
    "city_ls = pd.read_csv(\"../city_meta.csv\")[\"City\"].unique().tolist()\n",
    "for city in tqdm(city_ls):\n",
    "    if city == \"New York\":\n",
    "        continue\n",
    "    print(f\"Processing {city}\")\n",
    "    try:\n",
    "        cityabbr = city.lower().replace(\" \", \"\")\n",
    "        seg_df, meta_df, pano_df = load_raw(city)\n",
    "        seg_df_pivot = clean_seg(seg_df, pano_df, meta_df)\n",
    "        seg_summary = extract_seg(seg_df_pivot)\n",
    "        seg_summary_update = get_object_result(cityabbr, seg_summary)\n",
    "    except Exception as e:\n",
    "        print(city + \" failed\")\n",
    "        print(f\"Error: {e}\")\n",
    "        continue\n"
   ]
  },
  {
   "cell_type": "code",
   "execution_count": 2,
   "metadata": {},
   "outputs": [],
   "source": [
    "# check the exported data\n",
    "cityabbr = \"hongkong\"\n",
    "seg_df_summary_update = pd.read_csv(f\"{EXPORT_FOLDER}/{cityabbr}_seg_summary.csv\")"
   ]
  },
  {
   "cell_type": "code",
   "execution_count": 2,
   "metadata": {},
   "outputs": [
    {
     "name": "stderr",
     "output_type": "stream",
     "text": [
      "  0%|          | 0/127 [00:00<?, ?it/s]"
     ]
    },
    {
     "name": "stderr",
     "output_type": "stream",
     "text": [
      "100%|██████████| 127/127 [00:08<00:00, 15.49it/s]\n"
     ]
    },
    {
     "data": {
      "text/html": [
       "<div>\n",
       "<style scoped>\n",
       "    .dataframe tbody tr th:only-of-type {\n",
       "        vertical-align: middle;\n",
       "    }\n",
       "\n",
       "    .dataframe tbody tr th {\n",
       "        vertical-align: top;\n",
       "    }\n",
       "\n",
       "    .dataframe thead th {\n",
       "        text-align: right;\n",
       "    }\n",
       "</style>\n",
       "<table border=\"1\" class=\"dataframe\">\n",
       "  <thead>\n",
       "    <tr style=\"text-align: right;\">\n",
       "      <th></th>\n",
       "      <th>h3_9</th>\n",
       "      <th>sidewalk_indicator</th>\n",
       "      <th>exposure_indicator</th>\n",
       "      <th>img</th>\n",
       "      <th>panoid</th>\n",
       "      <th>sidewalk_presence</th>\n",
       "      <th>exposure_presence</th>\n",
       "      <th>obj_bench</th>\n",
       "      <th>obj_bicycle</th>\n",
       "      <th>obj_bus</th>\n",
       "      <th>obj_car</th>\n",
       "      <th>obj_chair</th>\n",
       "      <th>obj_fire hydrant</th>\n",
       "      <th>obj_motorcycle</th>\n",
       "      <th>obj_person</th>\n",
       "      <th>obj_stop sign</th>\n",
       "      <th>obj_traffic light</th>\n",
       "      <th>obj_train</th>\n",
       "      <th>obj_truck</th>\n",
       "      <th>city_lower</th>\n",
       "    </tr>\n",
       "  </thead>\n",
       "  <tbody>\n",
       "    <tr>\n",
       "      <th>0</th>\n",
       "      <td>89c2e302003ffff</td>\n",
       "      <td>87</td>\n",
       "      <td>92</td>\n",
       "      <td>92</td>\n",
       "      <td>23</td>\n",
       "      <td>0.945652</td>\n",
       "      <td>1.0</td>\n",
       "      <td>0.000000</td>\n",
       "      <td>0.142857</td>\n",
       "      <td>1.309524</td>\n",
       "      <td>25.404762</td>\n",
       "      <td>0.0</td>\n",
       "      <td>0.071429</td>\n",
       "      <td>0.428571</td>\n",
       "      <td>2.309524</td>\n",
       "      <td>0.000000</td>\n",
       "      <td>1.476190</td>\n",
       "      <td>0.000000</td>\n",
       "      <td>1.904762</td>\n",
       "      <td>buenosaires</td>\n",
       "    </tr>\n",
       "    <tr>\n",
       "      <th>1</th>\n",
       "      <td>89c2e302007ffff</td>\n",
       "      <td>107</td>\n",
       "      <td>108</td>\n",
       "      <td>108</td>\n",
       "      <td>27</td>\n",
       "      <td>0.990741</td>\n",
       "      <td>1.0</td>\n",
       "      <td>0.013289</td>\n",
       "      <td>0.172757</td>\n",
       "      <td>0.833887</td>\n",
       "      <td>26.524917</td>\n",
       "      <td>0.0</td>\n",
       "      <td>0.016611</td>\n",
       "      <td>0.750831</td>\n",
       "      <td>3.392027</td>\n",
       "      <td>0.000000</td>\n",
       "      <td>0.674419</td>\n",
       "      <td>0.006645</td>\n",
       "      <td>0.973422</td>\n",
       "      <td>buenosaires</td>\n",
       "    </tr>\n",
       "    <tr>\n",
       "      <th>2</th>\n",
       "      <td>89c2e30200bffff</td>\n",
       "      <td>109</td>\n",
       "      <td>112</td>\n",
       "      <td>112</td>\n",
       "      <td>28</td>\n",
       "      <td>0.973214</td>\n",
       "      <td>1.0</td>\n",
       "      <td>0.000000</td>\n",
       "      <td>0.018349</td>\n",
       "      <td>0.633028</td>\n",
       "      <td>21.064220</td>\n",
       "      <td>0.0</td>\n",
       "      <td>0.009174</td>\n",
       "      <td>0.137615</td>\n",
       "      <td>2.559633</td>\n",
       "      <td>0.055046</td>\n",
       "      <td>0.614679</td>\n",
       "      <td>0.018349</td>\n",
       "      <td>0.853211</td>\n",
       "      <td>buenosaires</td>\n",
       "    </tr>\n",
       "    <tr>\n",
       "      <th>3</th>\n",
       "      <td>89c2e30200fffff</td>\n",
       "      <td>118</td>\n",
       "      <td>120</td>\n",
       "      <td>120</td>\n",
       "      <td>30</td>\n",
       "      <td>0.983333</td>\n",
       "      <td>1.0</td>\n",
       "      <td>0.000000</td>\n",
       "      <td>0.000000</td>\n",
       "      <td>0.418182</td>\n",
       "      <td>26.490909</td>\n",
       "      <td>0.0</td>\n",
       "      <td>0.018182</td>\n",
       "      <td>0.163636</td>\n",
       "      <td>1.836364</td>\n",
       "      <td>0.000000</td>\n",
       "      <td>0.000000</td>\n",
       "      <td>0.000000</td>\n",
       "      <td>0.872727</td>\n",
       "      <td>buenosaires</td>\n",
       "    </tr>\n",
       "    <tr>\n",
       "      <th>4</th>\n",
       "      <td>89c2e302013ffff</td>\n",
       "      <td>106</td>\n",
       "      <td>108</td>\n",
       "      <td>108</td>\n",
       "      <td>27</td>\n",
       "      <td>0.981481</td>\n",
       "      <td>1.0</td>\n",
       "      <td>0.029340</td>\n",
       "      <td>0.112469</td>\n",
       "      <td>0.687042</td>\n",
       "      <td>24.848411</td>\n",
       "      <td>0.0</td>\n",
       "      <td>0.019560</td>\n",
       "      <td>0.616137</td>\n",
       "      <td>2.948655</td>\n",
       "      <td>0.009780</td>\n",
       "      <td>0.787286</td>\n",
       "      <td>0.017115</td>\n",
       "      <td>1.178484</td>\n",
       "      <td>buenosaires</td>\n",
       "    </tr>\n",
       "  </tbody>\n",
       "</table>\n",
       "</div>"
      ],
      "text/plain": [
       "              h3_9  sidewalk_indicator  exposure_indicator  img  panoid  \\\n",
       "0  89c2e302003ffff                  87                  92   92      23   \n",
       "1  89c2e302007ffff                 107                 108  108      27   \n",
       "2  89c2e30200bffff                 109                 112  112      28   \n",
       "3  89c2e30200fffff                 118                 120  120      30   \n",
       "4  89c2e302013ffff                 106                 108  108      27   \n",
       "\n",
       "   sidewalk_presence  exposure_presence  obj_bench  obj_bicycle   obj_bus  \\\n",
       "0           0.945652                1.0   0.000000     0.142857  1.309524   \n",
       "1           0.990741                1.0   0.013289     0.172757  0.833887   \n",
       "2           0.973214                1.0   0.000000     0.018349  0.633028   \n",
       "3           0.983333                1.0   0.000000     0.000000  0.418182   \n",
       "4           0.981481                1.0   0.029340     0.112469  0.687042   \n",
       "\n",
       "     obj_car  obj_chair  obj_fire hydrant  obj_motorcycle  obj_person  \\\n",
       "0  25.404762        0.0          0.071429        0.428571    2.309524   \n",
       "1  26.524917        0.0          0.016611        0.750831    3.392027   \n",
       "2  21.064220        0.0          0.009174        0.137615    2.559633   \n",
       "3  26.490909        0.0          0.018182        0.163636    1.836364   \n",
       "4  24.848411        0.0          0.019560        0.616137    2.948655   \n",
       "\n",
       "   obj_stop sign  obj_traffic light  obj_train  obj_truck   city_lower  \n",
       "0       0.000000           1.476190   0.000000   1.904762  buenosaires  \n",
       "1       0.000000           0.674419   0.006645   0.973422  buenosaires  \n",
       "2       0.055046           0.614679   0.018349   0.853211  buenosaires  \n",
       "3       0.000000           0.000000   0.000000   0.872727  buenosaires  \n",
       "4       0.009780           0.787286   0.017115   1.178484  buenosaires  "
      ]
     },
     "execution_count": 2,
     "metadata": {},
     "output_type": "execute_result"
    }
   ],
   "source": [
    "# load seg summary for all cities and concat\n",
    "seg_df_all_h3 = []\n",
    "city_ls = pd.read_csv(\"../city_meta.csv\")[\"City\"].unique().tolist()\n",
    "for city in tqdm(city_ls):\n",
    "    cityabbr = city.lower().replace(\" \", \"\")\n",
    "    temp = pd.read_csv(f\"{EXPORT_FOLDER}/{cityabbr}_seg_summary.csv\")\n",
    "    temp['city_lower'] = cityabbr\n",
    "    seg_df_all_h3.append(temp)\n",
    "seg_df_all_h3 = pd.concat(seg_df_all_h3).reset_index(drop = True)\n",
    "seg_df_all_h3.head()"
   ]
  },
  {
   "cell_type": "code",
   "execution_count": 5,
   "metadata": {},
   "outputs": [],
   "source": [
    "seg_df_all_h3.to_csv(os.path.join(EXPORT_FOLDER, 'c_exposure_sidewalk_h3.csv'), index = False)"
   ]
  },
  {
   "cell_type": "code",
   "execution_count": 4,
   "metadata": {},
   "outputs": [
    {
     "data": {
      "text/plain": [
       "city_lower\n",
       "accra         0.978613\n",
       "amsterdam     0.834003\n",
       "antwerp       0.906148\n",
       "astrakhan     0.915536\n",
       "athens        0.771027\n",
       "                ...   \n",
       "vijayawada    0.855779\n",
       "warsaw        0.843687\n",
       "wellington    0.653854\n",
       "yamaguchi     0.668904\n",
       "zwolle        0.829262\n",
       "Name: exposure_presence, Length: 127, dtype: float64"
      ]
     },
     "execution_count": 4,
     "metadata": {},
     "output_type": "execute_result"
    }
   ],
   "source": [
    "seg_df_all_h3.groupby(['city_lower'])['exposure_presence'].mean()"
   ]
  },
  {
   "cell_type": "code",
   "execution_count": null,
   "metadata": {},
   "outputs": [],
   "source": []
  }
 ],
 "metadata": {
  "kernelspec": {
   "display_name": "py312",
   "language": "python",
   "name": "python3"
  },
  "language_info": {
   "codemirror_mode": {
    "name": "ipython",
    "version": 3
   },
   "file_extension": ".py",
   "mimetype": "text/x-python",
   "name": "python",
   "nbconvert_exporter": "python",
   "pygments_lexer": "ipython3",
   "version": "3.12.6"
  }
 },
 "nbformat": 4,
 "nbformat_minor": 2
}
