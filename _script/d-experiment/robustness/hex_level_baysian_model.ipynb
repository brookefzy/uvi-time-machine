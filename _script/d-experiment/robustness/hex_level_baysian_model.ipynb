{
 "cells": [
  {
   "cell_type": "markdown",
   "metadata": {},
   "source": [
    "# This is to build a hexagon level estimate using the baysian model"
   ]
  },
  {
   "cell_type": "code",
   "execution_count": 1,
   "metadata": {},
   "outputs": [],
   "source": [
    "import geopandas as gpd\n",
    "import pandas as pd\n",
    "import numpy as np\n",
    "import os\n",
    "import sys\n",
    "ROOT_DIR = \"../../\"\n",
    "sys.path.append(ROOT_DIR)\n",
    "from utils.citymeta import load_all\n",
    "N = 7 # 13\n",
    "RES =res = 9 # need to test the 8 later\n",
    "N_CAT = 27\n",
    "import os\n",
    "# prefix = \"built_env\"\n",
    "# prefixfull = \"_built_environment\"\n",
    "# merge both prefix\n",
    "prefix_ls = [\"_built_environment\", \"\"]\n",
    "ROOT = \"D:/Dropbox (Personal)/Personal Work/_Projects2023\"\n",
    "CURATED_FOLDER = f\"{ROOT}/01_city-never-was/_data/_curated/\"\n",
    "EXPORT_FOLDER = f\"{ROOT}/01_city-never-was/_data/_curated/c_analysis\""
   ]
  },
  {
   "cell_type": "code",
   "execution_count": 2,
   "metadata": {},
   "outputs": [
    {
     "name": "stderr",
     "output_type": "stream",
     "text": [
      "C:\\Users\\yuanzfan\\AppData\\Local\\Temp\\ipykernel_10400\\1546773337.py:3: DtypeWarning: Columns (16) have mixed types. Specify dtype option on import or set low_memory=False.\n",
      "  hex_df = pd.read_csv(hex_path)\n"
     ]
    },
    {
     "data": {
      "text/html": [
       "<div>\n",
       "<style scoped>\n",
       "    .dataframe tbody tr th:only-of-type {\n",
       "        vertical-align: middle;\n",
       "    }\n",
       "\n",
       "    .dataframe tbody tr th {\n",
       "        vertical-align: top;\n",
       "    }\n",
       "\n",
       "    .dataframe thead th {\n",
       "        text-align: right;\n",
       "    }\n",
       "</style>\n",
       "<table border=\"1\" class=\"dataframe\">\n",
       "  <thead>\n",
       "    <tr style=\"text-align: right;\">\n",
       "      <th></th>\n",
       "      <th>hex_id</th>\n",
       "      <th>city_lower</th>\n",
       "      <th>total_flux</th>\n",
       "      <th>mean_flux</th>\n",
       "      <th>flux_n_points</th>\n",
       "      <th>City</th>\n",
       "      <th>country_clean</th>\n",
       "      <th>State/Province</th>\n",
       "      <th>urban_pop</th>\n",
       "      <th>Metro</th>\n",
       "      <th>...</th>\n",
       "      <th>obj_person</th>\n",
       "      <th>obj_train</th>\n",
       "      <th>obj_truck</th>\n",
       "      <th>person_exposure</th>\n",
       "      <th>bicycle_exposure</th>\n",
       "      <th>motorcycle_exposure</th>\n",
       "      <th>length_intersection_meter</th>\n",
       "      <th>Continent</th>\n",
       "      <th>waze_total_accident_city</th>\n",
       "      <th>include</th>\n",
       "    </tr>\n",
       "  </thead>\n",
       "  <tbody>\n",
       "    <tr>\n",
       "      <th>0</th>\n",
       "      <td>8975292c127ffff</td>\n",
       "      <td>accra</td>\n",
       "      <td>8.835611</td>\n",
       "      <td>0.883561</td>\n",
       "      <td>10</td>\n",
       "      <td>Accra</td>\n",
       "      <td>Ghana</td>\n",
       "      <td>Greater Accra</td>\n",
       "      <td>2605000</td>\n",
       "      <td>NaN</td>\n",
       "      <td>...</td>\n",
       "      <td>4.800000</td>\n",
       "      <td>0.0</td>\n",
       "      <td>3.60</td>\n",
       "      <td>1.000000</td>\n",
       "      <td>1.0</td>\n",
       "      <td>0.0</td>\n",
       "      <td>259.370082</td>\n",
       "      <td>Africa</td>\n",
       "      <td>0.0</td>\n",
       "      <td>0</td>\n",
       "    </tr>\n",
       "    <tr>\n",
       "      <th>1</th>\n",
       "      <td>8975292c803ffff</td>\n",
       "      <td>accra</td>\n",
       "      <td>8.835611</td>\n",
       "      <td>0.883561</td>\n",
       "      <td>10</td>\n",
       "      <td>Accra</td>\n",
       "      <td>Ghana</td>\n",
       "      <td>Greater Accra</td>\n",
       "      <td>2605000</td>\n",
       "      <td>NaN</td>\n",
       "      <td>...</td>\n",
       "      <td>0.300000</td>\n",
       "      <td>0.0</td>\n",
       "      <td>0.00</td>\n",
       "      <td>1.000000</td>\n",
       "      <td>0.0</td>\n",
       "      <td>0.0</td>\n",
       "      <td>2507.096480</td>\n",
       "      <td>Africa</td>\n",
       "      <td>0.0</td>\n",
       "      <td>0</td>\n",
       "    </tr>\n",
       "    <tr>\n",
       "      <th>2</th>\n",
       "      <td>8975292c80bffff</td>\n",
       "      <td>accra</td>\n",
       "      <td>8.835611</td>\n",
       "      <td>0.883561</td>\n",
       "      <td>10</td>\n",
       "      <td>Accra</td>\n",
       "      <td>Ghana</td>\n",
       "      <td>Greater Accra</td>\n",
       "      <td>2605000</td>\n",
       "      <td>NaN</td>\n",
       "      <td>...</td>\n",
       "      <td>0.950000</td>\n",
       "      <td>0.0</td>\n",
       "      <td>0.05</td>\n",
       "      <td>0.578947</td>\n",
       "      <td>0.0</td>\n",
       "      <td>0.0</td>\n",
       "      <td>2516.047969</td>\n",
       "      <td>Africa</td>\n",
       "      <td>0.0</td>\n",
       "      <td>0</td>\n",
       "    </tr>\n",
       "    <tr>\n",
       "      <th>3</th>\n",
       "      <td>8975292c817ffff</td>\n",
       "      <td>accra</td>\n",
       "      <td>8.835611</td>\n",
       "      <td>0.883561</td>\n",
       "      <td>10</td>\n",
       "      <td>Accra</td>\n",
       "      <td>Ghana</td>\n",
       "      <td>Greater Accra</td>\n",
       "      <td>2605000</td>\n",
       "      <td>NaN</td>\n",
       "      <td>...</td>\n",
       "      <td>1.285714</td>\n",
       "      <td>0.0</td>\n",
       "      <td>0.00</td>\n",
       "      <td>0.944444</td>\n",
       "      <td>1.0</td>\n",
       "      <td>0.0</td>\n",
       "      <td>2955.782641</td>\n",
       "      <td>Africa</td>\n",
       "      <td>0.0</td>\n",
       "      <td>0</td>\n",
       "    </tr>\n",
       "    <tr>\n",
       "      <th>4</th>\n",
       "      <td>8975292c81bffff</td>\n",
       "      <td>accra</td>\n",
       "      <td>8.835611</td>\n",
       "      <td>0.883561</td>\n",
       "      <td>10</td>\n",
       "      <td>Accra</td>\n",
       "      <td>Ghana</td>\n",
       "      <td>Greater Accra</td>\n",
       "      <td>2605000</td>\n",
       "      <td>NaN</td>\n",
       "      <td>...</td>\n",
       "      <td>0.875000</td>\n",
       "      <td>0.0</td>\n",
       "      <td>0.00</td>\n",
       "      <td>0.714286</td>\n",
       "      <td>0.0</td>\n",
       "      <td>0.0</td>\n",
       "      <td>2328.091908</td>\n",
       "      <td>Africa</td>\n",
       "      <td>0.0</td>\n",
       "      <td>0</td>\n",
       "    </tr>\n",
       "  </tbody>\n",
       "</table>\n",
       "<p>5 rows × 80 columns</p>\n",
       "</div>"
      ],
      "text/plain": [
       "            hex_id city_lower  total_flux  mean_flux  flux_n_points   City  \\\n",
       "0  8975292c127ffff      accra    8.835611   0.883561             10  Accra   \n",
       "1  8975292c803ffff      accra    8.835611   0.883561             10  Accra   \n",
       "2  8975292c80bffff      accra    8.835611   0.883561             10  Accra   \n",
       "3  8975292c817ffff      accra    8.835611   0.883561             10  Accra   \n",
       "4  8975292c81bffff      accra    8.835611   0.883561             10  Accra   \n",
       "\n",
       "  country_clean State/Province  urban_pop Metro  ...  obj_person  obj_train  \\\n",
       "0         Ghana  Greater Accra    2605000   NaN  ...    4.800000        0.0   \n",
       "1         Ghana  Greater Accra    2605000   NaN  ...    0.300000        0.0   \n",
       "2         Ghana  Greater Accra    2605000   NaN  ...    0.950000        0.0   \n",
       "3         Ghana  Greater Accra    2605000   NaN  ...    1.285714        0.0   \n",
       "4         Ghana  Greater Accra    2605000   NaN  ...    0.875000        0.0   \n",
       "\n",
       "   obj_truck  person_exposure  bicycle_exposure motorcycle_exposure  \\\n",
       "0       3.60         1.000000               1.0                 0.0   \n",
       "1       0.00         1.000000               0.0                 0.0   \n",
       "2       0.05         0.578947               0.0                 0.0   \n",
       "3       0.00         0.944444               1.0                 0.0   \n",
       "4       0.00         0.714286               0.0                 0.0   \n",
       "\n",
       "  length_intersection_meter Continent  waze_total_accident_city  include  \n",
       "0                259.370082    Africa                       0.0        0  \n",
       "1               2507.096480    Africa                       0.0        0  \n",
       "2               2516.047969    Africa                       0.0        0  \n",
       "3               2955.782641    Africa                       0.0        0  \n",
       "4               2328.091908    Africa                       0.0        0  \n",
       "\n",
       "[5 rows x 80 columns]"
      ]
     },
     "execution_count": 2,
     "metadata": {},
     "output_type": "execute_result"
    }
   ],
   "source": [
    "prefix = \"_built_environment\"\n",
    "hex_path = os.path.join(EXPORT_FOLDER,f\"c_hex{prefix}_full_cluster={N}_ncat={N_CAT}.csv\")\n",
    "hex_df = pd.read_csv(hex_path)\n",
    "hex_df.head()"
   ]
  },
  {
   "cell_type": "code",
   "execution_count": 3,
   "metadata": {},
   "outputs": [],
   "source": [
    "continent_sel = ['Asia', 'Europe', 'North America',  'South America']\n",
    "hex_df.columns = [x.lower() for x in hex_df.columns]"
   ]
  },
  {
   "cell_type": "code",
   "execution_count": 4,
   "metadata": {},
   "outputs": [
    {
     "name": "stdout",
     "output_type": "stream",
     "text": [
      "(49232, 80)\n"
     ]
    }
   ],
   "source": [
    "continent = \"North America\"\n",
    "df = hex_df[hex_df['continent'] == continent].copy()\n",
    "print(df.shape)"
   ]
  },
  {
   "cell_type": "code",
   "execution_count": 5,
   "metadata": {},
   "outputs": [
    {
     "name": "stdout",
     "output_type": "stream",
     "text": [
      "49232\n"
     ]
    }
   ],
   "source": [
    "import h3\n",
    "import pandas as pd\n",
    "\n",
    "# Suppose df is your dataframe\n",
    "adjacency = {\n",
    "    h: h3.k_ring(h, 1) - {h}  # immediate neighbors\n",
    "    for h in df['hex_id']\n",
    "}\n",
    "print(len(adjacency.keys()))"
   ]
  },
  {
   "cell_type": "code",
   "execution_count": 9,
   "metadata": {},
   "outputs": [
    {
     "name": "stderr",
     "output_type": "stream",
     "text": [
      "C:\\Users\\yuanzfan\\AppData\\Local\\Temp\\ipykernel_10400\\3658422626.py:12: UserWarning: The weights matrix is not fully connected: \n",
      " There are 544 disconnected components.\n",
      " There are 301 islands with ids: 17, 51, 52, 146, 149, 150, 187, 382, 399, 439, 441, 507, 537, 551, 562, 603, 651, 896, 897, 905, 914, 915, 920, 921, 922, 924, 925, 926, 933, 938, 940, 941, 942, 944, 949, 951, 954, 955, 960, 965, 969, 970, 974, 977, 980, 984, 992, 994, 1001, 1002, 1003, 1008, 1010, 1014, 1021, 1022, 1030, 1031, 1032, 1034, 1038, 1041, 1042, 1043, 1044, 1045, 1046, 1047, 1048, 1049, 1050, 1051, 1052, 1056, 1057, 1058, 1059, 1069, 1075, 1079, 1081, 1082, 1088, 1089, 1090, 1091, 1094, 1106, 1110, 1112, 1116, 1117, 1122, 1123, 1127, 1132, 1133, 1136, 1137, 1154, 1155, 1156, 1160, 1161, 1162, 1163, 1164, 1171, 1173, 1176, 1177, 1178, 1182, 1191, 1195, 1196, 1197, 1198, 1199, 1203, 1204, 1205, 1206, 1208, 1210, 1213, 1216, 1221, 1222, 1223, 1225, 1230, 1234, 1241, 1252, 1255, 1258, 1259, 1262, 1265, 1266, 1267, 1268, 1272, 1274, 1281, 1282, 1287, 1290, 1292, 1293, 1295, 1296, 1301, 1305, 1312, 1317, 1323, 1327, 1334, 1335, 1336, 1340, 1343, 1348, 1349, 1350, 1353, 1354, 1356, 1358, 1359, 1361, 1366, 1367, 1371, 1375, 1382, 1389, 1390, 1392, 1394, 1395, 1396, 1397, 1400, 1404, 1407, 1410, 1413, 1420, 1428, 1430, 1431, 1434, 1437, 1439, 1444, 1449, 1454, 1459, 1460, 1461, 1465, 1488, 1489, 1490, 1500, 1501, 1503, 1507, 1509, 1510, 1514, 1521, 1522, 1524, 1525, 1530, 1531, 1538, 1540, 1544, 1547, 1560, 1564, 1565, 1566, 1567, 1568, 1569, 1570, 1571, 1574, 1578, 1580, 1581, 1582, 1584, 1587, 1588, 1594, 1601, 1602, 1605, 1607, 1608, 1609, 1610, 1611, 1612, 1618, 1622, 1623, 1624, 1626, 1627, 1628, 1631, 1632, 1633, 1635, 1641, 1643, 1647, 1652, 1653, 1654, 1655, 1656, 1657, 1658, 1659, 1660, 1661, 1664, 1667, 1669, 1671, 1674, 1675, 1678, 1679, 1680, 1681, 1682, 1686, 1813, 6276, 10857, 11091, 11319, 11320, 11639, 11641, 11725, 11853, 13932, 24854, 43039, 43960.\n",
      "  w = W(neighbors)\n"
     ]
    }
   ],
   "source": [
    "from libpysal.weights import W\n",
    "\n",
    "# Make mapping from h3_id to row index\n",
    "h3_index = {h: i for i, h in enumerate(df['hex_id'])}\n",
    "\n",
    "# Create weight dictionary with integer indices\n",
    "neighbors = {\n",
    "    h3_index[h]: [h3_index[n] for n in adjacency[h] if n in h3_index]\n",
    "    for h in df['hex_id']\n",
    "}\n",
    "\n",
    "w = W(neighbors)"
   ]
  },
  {
   "cell_type": "code",
   "execution_count": 10,
   "metadata": {},
   "outputs": [
    {
     "ename": "ModuleNotFoundError",
     "evalue": "No module named 'pymc'",
     "output_type": "error",
     "traceback": [
      "\u001b[1;31m---------------------------------------------------------------------------\u001b[0m",
      "\u001b[1;31mModuleNotFoundError\u001b[0m                       Traceback (most recent call last)",
      "Cell \u001b[1;32mIn[10], line 1\u001b[0m\n\u001b[1;32m----> 1\u001b[0m \u001b[38;5;28;01mimport\u001b[39;00m \u001b[38;5;21;01mpymc\u001b[39;00m \u001b[38;5;28;01mas\u001b[39;00m \u001b[38;5;21;01mpm\u001b[39;00m\n\u001b[0;32m      2\u001b[0m \u001b[38;5;28;01mimport\u001b[39;00m \u001b[38;5;21;01mnumpy\u001b[39;00m \u001b[38;5;28;01mas\u001b[39;00m \u001b[38;5;21;01mnp\u001b[39;00m\n",
      "\u001b[1;31mModuleNotFoundError\u001b[0m: No module named 'pymc'"
     ]
    }
   ],
   "source": [
    "import pymc as pm\n",
    "import numpy as np"
   ]
  },
  {
   "cell_type": "code",
   "execution_count": null,
   "metadata": {},
   "outputs": [],
   "source": []
  }
 ],
 "metadata": {
  "kernelspec": {
   "display_name": "spatial311",
   "language": "python",
   "name": "python3"
  },
  "language_info": {
   "codemirror_mode": {
    "name": "ipython",
    "version": 3
   },
   "file_extension": ".py",
   "mimetype": "text/x-python",
   "name": "python",
   "nbconvert_exporter": "python",
   "pygments_lexer": "ipython3",
   "version": "3.11.9"
  }
 },
 "nbformat": 4,
 "nbformat_minor": 2
}
