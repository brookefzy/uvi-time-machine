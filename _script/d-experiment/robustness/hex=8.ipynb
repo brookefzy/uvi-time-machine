{
 "cells": [
  {
   "cell_type": "markdown",
   "metadata": {},
   "source": [
    "# hex = 8 vs. Hex = 8\n",
    "1. We need to label the cluster from hex = 8 to hex = 9\n",
    "2. Using the centroid distance comparison\n"
   ]
  },
  {
   "cell_type": "code",
   "execution_count": 85,
   "metadata": {},
   "outputs": [],
   "source": [
    "from sklearn.metrics.pairwise import euclidean_distances\n",
    "import os\n",
    "import pandas as pd\n",
    "import numpy as np\n",
    "from glob import glob\n",
    "import gspread\n",
    "import h3\n",
    "from tqdm import tqdm\n",
    "import seaborn as sns\n",
    "# from fcmeans import FCM\n",
    "import matplotlib.pyplot as plt\n",
    "from sklearn import manifold\n",
    "from sklearn.preprocessing import StandardScaler, MinMaxScaler\n",
    "from sklearn.decomposition import NMF\n",
    "from sklearn.metrics import silhouette_score, silhouette_samples\n",
    "from scipy.spatial import distance\n",
    "import os\n",
    "cluster_name_7 = {\n",
    "    0: 'Open-view Connector',\n",
    "    1: 'Urban Core - Enclosed',\n",
    "    2: 'Natural Scene-a',\n",
    "    3: 'Vegetated Community',\n",
    "    4: 'Urban Core - Open',\n",
    "    5: 'Diverse Urban Street',\n",
    "    6: 'Natural Scene-b'\n",
    "}"
   ]
  },
  {
   "cell_type": "code",
   "execution_count": 86,
   "metadata": {},
   "outputs": [
    {
     "data": {
      "text/plain": [
       "['all_city_within_boundary_res=9_cluster=13.csv',\n",
       " 'all_city_within_boundary_res=9_cluster=13.parquet',\n",
       " 'all_city_within_boundary_res=9_cluster=8.csv',\n",
       " 'all_city_within_boundary_res=9_cluster=8.parquet',\n",
       " 'c_seg_cat=27_res=8.parquet',\n",
       " 'c_seg_cat=27_res=8_withincity.parquet',\n",
       " 'c_seg_cat=27_res=8_withincity_built_environment_tsne.parquet',\n",
       " 'c_seg_cat=27_res=8_withincity_built_environment_tsne_cluster_range.csv',\n",
       " 'c_seg_cat=27_res=8_withincity_tsne.parquet',\n",
       " 'c_seg_cat=27_res=9.parquet',\n",
       " 'c_seg_cat=27_res=9_withincity.parquet',\n",
       " 'c_seg_cat=27_res=9_withincity_built_environment_tsne.parquet',\n",
       " 'c_seg_cat=27_res=9_withincity_built_environment_tsne_cluster_range.csv',\n",
       " 'c_seg_cat=27_res=9_withincity_built_environment_tsne_cluster_range_no_exposure_constrain.csv',\n",
       " 'c_seg_cat=27_res=9_withincity_tsne.parquet',\n",
       " 'c_seg_cat=27_res=9_withincity_tsne_cluster_range.csv',\n",
       " 'robustness_city_cluster_mapping.csv',\n",
       " 'robustness_h3_8.csv',\n",
       " 'version_0717_test']"
      ]
     },
     "execution_count": 86,
     "metadata": {},
     "output_type": "execute_result"
    }
   ],
   "source": [
    "ROOTFOLDER = r\"D:\\Dropbox (Personal)\\Personal Work\\_Projects2023\\01_city-never-was\"\n",
    "DATA_FOLDER = f\"{ROOTFOLDER}/_data/_curated/c_seg_hex\"\n",
    "GRAPH_FOLDER = f\"{ROOTFOLDER}/_graphic/_supplemental/_raw\"\n",
    "os.listdir(DATA_FOLDER)\n",
    "# filename = 'c_seg_cat=27_res={res}_withincity_built_environment_tsne_cluster_range.csv'\n",
    "# df = pd.read_csv(f\"{DATA_FOLDER}/{filename}\")"
   ]
  },
  {
   "cell_type": "code",
   "execution_count": 87,
   "metadata": {},
   "outputs": [
    {
     "data": {
      "text/html": [
       "<div>\n",
       "<style scoped>\n",
       "    .dataframe tbody tr th:only-of-type {\n",
       "        vertical-align: middle;\n",
       "    }\n",
       "\n",
       "    .dataframe tbody tr th {\n",
       "        vertical-align: top;\n",
       "    }\n",
       "\n",
       "    .dataframe thead th {\n",
       "        text-align: right;\n",
       "    }\n",
       "</style>\n",
       "<table border=\"1\" class=\"dataframe\">\n",
       "  <thead>\n",
       "    <tr style=\"text-align: right;\">\n",
       "      <th></th>\n",
       "      <th>city_lower</th>\n",
       "      <th>hex_id</th>\n",
       "      <th>img_count</th>\n",
       "      <th>res</th>\n",
       "      <th>tsne_1</th>\n",
       "      <th>tsne_2</th>\n",
       "    </tr>\n",
       "  </thead>\n",
       "  <tbody>\n",
       "    <tr>\n",
       "      <th>0</th>\n",
       "      <td>accra</td>\n",
       "      <td>8875292c81fffff</td>\n",
       "      <td>192</td>\n",
       "      <td>8.0</td>\n",
       "      <td>-26.529926</td>\n",
       "      <td>-26.847006</td>\n",
       "    </tr>\n",
       "    <tr>\n",
       "      <th>1</th>\n",
       "      <td>accra</td>\n",
       "      <td>8875292c83fffff</td>\n",
       "      <td>256</td>\n",
       "      <td>8.0</td>\n",
       "      <td>-9.774495</td>\n",
       "      <td>-62.520557</td>\n",
       "    </tr>\n",
       "    <tr>\n",
       "      <th>2</th>\n",
       "      <td>accra</td>\n",
       "      <td>8875292c85fffff</td>\n",
       "      <td>112</td>\n",
       "      <td>8.0</td>\n",
       "      <td>-26.428415</td>\n",
       "      <td>-26.569393</td>\n",
       "    </tr>\n",
       "    <tr>\n",
       "      <th>3</th>\n",
       "      <td>accra</td>\n",
       "      <td>8875292c87fffff</td>\n",
       "      <td>88</td>\n",
       "      <td>8.0</td>\n",
       "      <td>-10.518588</td>\n",
       "      <td>-65.302887</td>\n",
       "    </tr>\n",
       "    <tr>\n",
       "      <th>4</th>\n",
       "      <td>accra</td>\n",
       "      <td>8875292c89fffff</td>\n",
       "      <td>208</td>\n",
       "      <td>8.0</td>\n",
       "      <td>-26.535616</td>\n",
       "      <td>-26.880714</td>\n",
       "    </tr>\n",
       "  </tbody>\n",
       "</table>\n",
       "</div>"
      ],
      "text/plain": [
       "  city_lower           hex_id  img_count  res     tsne_1     tsne_2\n",
       "0      accra  8875292c81fffff        192  8.0 -26.529926 -26.847006\n",
       "1      accra  8875292c83fffff        256  8.0  -9.774495 -62.520557\n",
       "2      accra  8875292c85fffff        112  8.0 -26.428415 -26.569393\n",
       "3      accra  8875292c87fffff         88  8.0 -10.518588 -65.302887\n",
       "4      accra  8875292c89fffff        208  8.0 -26.535616 -26.880714"
      ]
     },
     "execution_count": 87,
     "metadata": {},
     "output_type": "execute_result"
    }
   ],
   "source": [
    "filename = 'c_seg_cat=27_res={res}_withincity_built_environment_tsne_cluster_range.csv'\n",
    "raw_file = 'c_seg_cat=27_res={res}_withincity_built_environment_tsne.parquet'\n",
    "df_8 = pd.read_csv(f\"{DATA_FOLDER}/{filename.format(res=8)}\")\n",
    "df_9 = pd.read_csv(f\"{DATA_FOLDER}/{filename.format(res=9)}\")\n",
    "\n",
    "# df_8_raw = pd.read_parquet(f\"{DATA_FOLDER}/{raw_file.format(res=8)}\")\n",
    "# df_9_raw = pd.read_parquet(f\"{DATA_FOLDER}/{raw_file.format(res=9)}\")\n",
    "# df_8_raw.head()"
   ]
  },
  {
   "cell_type": "code",
   "execution_count": 91,
   "metadata": {},
   "outputs": [
    {
     "data": {
      "text/html": [
       "<div>\n",
       "<style scoped>\n",
       "    .dataframe tbody tr th:only-of-type {\n",
       "        vertical-align: middle;\n",
       "    }\n",
       "\n",
       "    .dataframe tbody tr th {\n",
       "        vertical-align: top;\n",
       "    }\n",
       "\n",
       "    .dataframe thead th {\n",
       "        text-align: right;\n",
       "    }\n",
       "</style>\n",
       "<table border=\"1\" class=\"dataframe\">\n",
       "  <thead>\n",
       "    <tr style=\"text-align: right;\">\n",
       "      <th></th>\n",
       "      <th>city_lower</th>\n",
       "      <th>hex_id_8</th>\n",
       "      <th>cluster_7</th>\n",
       "      <th>count</th>\n",
       "    </tr>\n",
       "  </thead>\n",
       "  <tbody>\n",
       "    <tr>\n",
       "      <th>178913</th>\n",
       "      <td>zwolle</td>\n",
       "      <td>881f16d36dfffff</td>\n",
       "      <td>2</td>\n",
       "      <td>5</td>\n",
       "    </tr>\n",
       "    <tr>\n",
       "      <th>178912</th>\n",
       "      <td>zwolle</td>\n",
       "      <td>881f16d36bfffff</td>\n",
       "      <td>2</td>\n",
       "      <td>3</td>\n",
       "    </tr>\n",
       "    <tr>\n",
       "      <th>178910</th>\n",
       "      <td>zwolle</td>\n",
       "      <td>881f16d369fffff</td>\n",
       "      <td>0</td>\n",
       "      <td>1</td>\n",
       "    </tr>\n",
       "    <tr>\n",
       "      <th>178909</th>\n",
       "      <td>zwolle</td>\n",
       "      <td>881f16d367fffff</td>\n",
       "      <td>3</td>\n",
       "      <td>3</td>\n",
       "    </tr>\n",
       "    <tr>\n",
       "      <th>178906</th>\n",
       "      <td>zwolle</td>\n",
       "      <td>881f16d365fffff</td>\n",
       "      <td>2</td>\n",
       "      <td>2</td>\n",
       "    </tr>\n",
       "  </tbody>\n",
       "</table>\n",
       "</div>"
      ],
      "text/plain": [
       "       city_lower         hex_id_8  cluster_7  count\n",
       "178913     zwolle  881f16d36dfffff          2      5\n",
       "178912     zwolle  881f16d36bfffff          2      3\n",
       "178910     zwolle  881f16d369fffff          0      1\n",
       "178909     zwolle  881f16d367fffff          3      3\n",
       "178906     zwolle  881f16d365fffff          2      2"
      ]
     },
     "execution_count": 91,
     "metadata": {},
     "output_type": "execute_result"
    }
   ],
   "source": [
    "column_sel = 'cluster_7'\n",
    "# df_8_raw_label = df_8_raw.merge(df_8[['hex_id', column_sel]], \n",
    "#                                 on='hex_id', how='inner')\n",
    "# df_9_raw_label = df_9_raw.merge(df_9[['hex_id', column_sel]], \n",
    "#                                 on='hex_id', how='inner')\n",
    "# df_9_raw_label.head()\n",
    "# get the parent hex id for each level 9 hexes\n",
    "df_9['hex_id_8'] = df_9['hex_id'].apply(lambda x: h3.h3_to_parent(x, 8))\n",
    "df_9.head()\n",
    "# vote the cluster_7 to get the most frequent cluster_7 for each level 8 hex\n",
    "df_9_8 = df_9.groupby(['city_lower','hex_id_8', column_sel]).size().reset_index(name='count')\n",
    "df_9_8 = df_9_8.sort_values(['city_lower','hex_id_8', 'count'], ascending=False).groupby('hex_id_8').head(1)\n",
    "df_9_8.head()"
   ]
  },
  {
   "cell_type": "code",
   "execution_count": 94,
   "metadata": {},
   "outputs": [
    {
     "data": {
      "text/plain": [
       "cluster_7_name\n",
       "Diverse Urban Street      8072\n",
       "Natural Scene-a          15598\n",
       "Natural Scene-b          13336\n",
       "Open-view Connector      14460\n",
       "Urban Core - Enclosed     9774\n",
       "Urban Core - Open         6917\n",
       "Vegetated Community      11498\n",
       "dtype: int64"
      ]
     },
     "execution_count": 94,
     "metadata": {},
     "output_type": "execute_result"
    }
   ],
   "source": [
    "df_9_8['cluster_7_name'] = df_9_8[column_sel].apply(lambda x: cluster_name_7[x])\n",
    "df_9_8.groupby('cluster_7_name').size()"
   ]
  },
  {
   "cell_type": "code",
   "execution_count": 127,
   "metadata": {},
   "outputs": [
    {
     "data": {
      "text/html": [
       "<div>\n",
       "<style scoped>\n",
       "    .dataframe tbody tr th:only-of-type {\n",
       "        vertical-align: middle;\n",
       "    }\n",
       "\n",
       "    .dataframe tbody tr th {\n",
       "        vertical-align: top;\n",
       "    }\n",
       "\n",
       "    .dataframe thead th {\n",
       "        text-align: right;\n",
       "    }\n",
       "</style>\n",
       "<table border=\"1\" class=\"dataframe\">\n",
       "  <thead>\n",
       "    <tr style=\"text-align: right;\">\n",
       "      <th></th>\n",
       "      <th>hex_id</th>\n",
       "      <th>cluster_7_name</th>\n",
       "    </tr>\n",
       "  </thead>\n",
       "  <tbody>\n",
       "    <tr>\n",
       "      <th>0</th>\n",
       "      <td>8975292c127ffff</td>\n",
       "      <td>Open-view Connector</td>\n",
       "    </tr>\n",
       "    <tr>\n",
       "      <th>1</th>\n",
       "      <td>8975292c803ffff</td>\n",
       "      <td>Natural Scene-b</td>\n",
       "    </tr>\n",
       "    <tr>\n",
       "      <th>2</th>\n",
       "      <td>8975292c80bffff</td>\n",
       "      <td>Open-view Connector</td>\n",
       "    </tr>\n",
       "    <tr>\n",
       "      <th>3</th>\n",
       "      <td>8975292c817ffff</td>\n",
       "      <td>Open-view Connector</td>\n",
       "    </tr>\n",
       "    <tr>\n",
       "      <th>4</th>\n",
       "      <td>8975292c81bffff</td>\n",
       "      <td>Open-view Connector</td>\n",
       "    </tr>\n",
       "  </tbody>\n",
       "</table>\n",
       "</div>"
      ],
      "text/plain": [
       "            hex_id       cluster_7_name\n",
       "0  8975292c127ffff  Open-view Connector\n",
       "1  8975292c803ffff      Natural Scene-b\n",
       "2  8975292c80bffff  Open-view Connector\n",
       "3  8975292c817ffff  Open-view Connector\n",
       "4  8975292c81bffff  Open-view Connector"
      ]
     },
     "execution_count": 127,
     "metadata": {},
     "output_type": "execute_result"
    }
   ],
   "source": [
    "df_9['cluster_7_name'] = df_9[column_sel].apply(lambda x: cluster_name_7[x])\n",
    "df_9[['hex_id', 'cluster_7_name']].head()"
   ]
  },
  {
   "cell_type": "code",
   "execution_count": 128,
   "metadata": {},
   "outputs": [],
   "source": [
    "df_9[['city_lower','hex_id', 'cluster_7_name']]\\\n",
    "    .to_csv(f\"{DATA_FOLDER}/viz_seg_cat=27_res=9_withincity_built_environment_tsne_cluster_7.csv\", index=False)"
   ]
  },
  {
   "cell_type": "code",
   "execution_count": 97,
   "metadata": {},
   "outputs": [],
   "source": [
    "df_9_8.to_csv(os.path.join(DATA_FOLDER, 'c_seg_cat=27_res=8_withincity_built_environment_tsne_cluster=7_parent.csv'), index=False)"
   ]
  },
  {
   "cell_type": "markdown",
   "metadata": {},
   "source": [
    "## revisualize the cluster attirbutes"
   ]
  },
  {
   "cell_type": "code",
   "execution_count": null,
   "metadata": {},
   "outputs": [],
   "source": [
    "# load a city's data and visualize"
   ]
  },
  {
   "cell_type": "code",
   "execution_count": 119,
   "metadata": {},
   "outputs": [],
   "source": [
    "variables_sel_top1_order = [\n",
    "    'skyscraper',\n",
    " 'light',\n",
    "   \n",
    "    \"road\",\n",
    " 'sidewalk', \n",
    "  'traffic light', \n",
    "     # nature and open space\n",
    "      \"building\",\n",
    "     \n",
    "    'window',\n",
    "   \n",
    "    'signage',\n",
    "    'pole',\n",
    "     'trashcan',\n",
    "    'installation', \n",
    "     \"railing\",\n",
    "    \n",
    "    'shrub', \n",
    "    'grass',\n",
    "    'tree',\n",
    "    \n",
    "     'mountain+hill',\n",
    "    \n",
    "    'sportsfield',\n",
    "    'sky',\n",
    "    'lake+waterboday',\n",
    "]"
   ]
  },
  {
   "cell_type": "code",
   "execution_count": 121,
   "metadata": {},
   "outputs": [
    {
     "ename": "ValueError",
     "evalue": "Input contains NaN, infinity or a value too large for dtype('float64').",
     "output_type": "error",
     "traceback": [
      "\u001b[1;31m---------------------------------------------------------------------------\u001b[0m",
      "\u001b[1;31mValueError\u001b[0m                                Traceback (most recent call last)",
      "Input \u001b[1;32mIn [121]\u001b[0m, in \u001b[0;36m<cell line: 8>\u001b[1;34m()\u001b[0m\n\u001b[0;32m      8\u001b[0m \u001b[38;5;28;01mfor\u001b[39;00m i \u001b[38;5;129;01min\u001b[39;00m \u001b[38;5;28mrange\u001b[39m(\u001b[38;5;241m7\u001b[39m):\n\u001b[0;32m      9\u001b[0m     \u001b[38;5;28;01mfor\u001b[39;00m j \u001b[38;5;129;01min\u001b[39;00m \u001b[38;5;28mrange\u001b[39m(\u001b[38;5;241m7\u001b[39m):\n\u001b[1;32m---> 10\u001b[0m         dist_matrix[(i,j)] \u001b[38;5;241m=\u001b[39m \u001b[43meuclidean_distances\u001b[49m\u001b[43m(\u001b[49m\u001b[43mx_8\u001b[49m\u001b[43m[\u001b[49m\u001b[43mx_8\u001b[49m\u001b[43m[\u001b[49m\u001b[38;5;124;43m'\u001b[39;49m\u001b[38;5;124;43mcluster_7\u001b[39;49m\u001b[38;5;124;43m'\u001b[39;49m\u001b[43m]\u001b[49m\u001b[38;5;241;43m==\u001b[39;49m\u001b[43mi\u001b[49m\u001b[43m]\u001b[49m\u001b[43m[\u001b[49m\u001b[43mvariables_sel_top1_order\u001b[49m\u001b[43m]\u001b[49m\u001b[43m,\u001b[49m\n\u001b[0;32m     11\u001b[0m \u001b[43m                                                 \u001b[49m\u001b[43mx_9\u001b[49m\u001b[43m[\u001b[49m\u001b[43mx_9\u001b[49m\u001b[43m[\u001b[49m\u001b[38;5;124;43m'\u001b[39;49m\u001b[38;5;124;43mcluster_7\u001b[39;49m\u001b[38;5;124;43m'\u001b[39;49m\u001b[43m]\u001b[49m\u001b[38;5;241;43m==\u001b[39;49m\u001b[43mj\u001b[49m\u001b[43m]\u001b[49m\u001b[43m[\u001b[49m\u001b[43mvariables_sel_top1_order\u001b[49m\u001b[43m]\u001b[49m\u001b[43m)\u001b[49m\n\u001b[0;32m     12\u001b[0m     \u001b[38;5;66;03m# get the closest cluster\u001b[39;00m\n\u001b[0;32m     13\u001b[0m     cluster_map_8_9[i] \u001b[38;5;241m=\u001b[39m np\u001b[38;5;241m.\u001b[39margmin([dist_matrix[(i,j)]\u001b[38;5;241m.\u001b[39mmean() \u001b[38;5;28;01mfor\u001b[39;00m j \u001b[38;5;129;01min\u001b[39;00m \u001b[38;5;28mrange\u001b[39m(\u001b[38;5;241m7\u001b[39m)])\n",
      "File \u001b[1;32mc:\\Users\\yuanzfan\\Anaconda3\\envs\\geo38\\lib\\site-packages\\sklearn\\metrics\\pairwise.py:302\u001b[0m, in \u001b[0;36meuclidean_distances\u001b[1;34m(X, Y, Y_norm_squared, squared, X_norm_squared)\u001b[0m\n\u001b[0;32m    226\u001b[0m \u001b[38;5;28;01mdef\u001b[39;00m \u001b[38;5;21meuclidean_distances\u001b[39m(\n\u001b[0;32m    227\u001b[0m     X, Y\u001b[38;5;241m=\u001b[39m\u001b[38;5;28;01mNone\u001b[39;00m, \u001b[38;5;241m*\u001b[39m, Y_norm_squared\u001b[38;5;241m=\u001b[39m\u001b[38;5;28;01mNone\u001b[39;00m, squared\u001b[38;5;241m=\u001b[39m\u001b[38;5;28;01mFalse\u001b[39;00m, X_norm_squared\u001b[38;5;241m=\u001b[39m\u001b[38;5;28;01mNone\u001b[39;00m\n\u001b[0;32m    228\u001b[0m ):\n\u001b[0;32m    229\u001b[0m     \u001b[38;5;124;03m\"\"\"\u001b[39;00m\n\u001b[0;32m    230\u001b[0m \u001b[38;5;124;03m    Compute the distance matrix between each pair from a vector array X and Y.\u001b[39;00m\n\u001b[0;32m    231\u001b[0m \n\u001b[1;32m   (...)\u001b[0m\n\u001b[0;32m    300\u001b[0m \u001b[38;5;124;03m           [1.41421356]])\u001b[39;00m\n\u001b[0;32m    301\u001b[0m \u001b[38;5;124;03m    \"\"\"\u001b[39;00m\n\u001b[1;32m--> 302\u001b[0m     X, Y \u001b[38;5;241m=\u001b[39m \u001b[43mcheck_pairwise_arrays\u001b[49m\u001b[43m(\u001b[49m\u001b[43mX\u001b[49m\u001b[43m,\u001b[49m\u001b[43m \u001b[49m\u001b[43mY\u001b[49m\u001b[43m)\u001b[49m\n\u001b[0;32m    304\u001b[0m     \u001b[38;5;28;01mif\u001b[39;00m X_norm_squared \u001b[38;5;129;01mis\u001b[39;00m \u001b[38;5;129;01mnot\u001b[39;00m \u001b[38;5;28;01mNone\u001b[39;00m:\n\u001b[0;32m    305\u001b[0m         X_norm_squared \u001b[38;5;241m=\u001b[39m check_array(X_norm_squared, ensure_2d\u001b[38;5;241m=\u001b[39m\u001b[38;5;28;01mFalse\u001b[39;00m)\n",
      "File \u001b[1;32mc:\\Users\\yuanzfan\\Anaconda3\\envs\\geo38\\lib\\site-packages\\sklearn\\metrics\\pairwise.py:156\u001b[0m, in \u001b[0;36mcheck_pairwise_arrays\u001b[1;34m(X, Y, precomputed, dtype, accept_sparse, force_all_finite, copy)\u001b[0m\n\u001b[0;32m    147\u001b[0m     X \u001b[38;5;241m=\u001b[39m Y \u001b[38;5;241m=\u001b[39m check_array(\n\u001b[0;32m    148\u001b[0m         X,\n\u001b[0;32m    149\u001b[0m         accept_sparse\u001b[38;5;241m=\u001b[39maccept_sparse,\n\u001b[1;32m   (...)\u001b[0m\n\u001b[0;32m    153\u001b[0m         estimator\u001b[38;5;241m=\u001b[39mestimator,\n\u001b[0;32m    154\u001b[0m     )\n\u001b[0;32m    155\u001b[0m \u001b[38;5;28;01melse\u001b[39;00m:\n\u001b[1;32m--> 156\u001b[0m     X \u001b[38;5;241m=\u001b[39m \u001b[43mcheck_array\u001b[49m\u001b[43m(\u001b[49m\n\u001b[0;32m    157\u001b[0m \u001b[43m        \u001b[49m\u001b[43mX\u001b[49m\u001b[43m,\u001b[49m\n\u001b[0;32m    158\u001b[0m \u001b[43m        \u001b[49m\u001b[43maccept_sparse\u001b[49m\u001b[38;5;241;43m=\u001b[39;49m\u001b[43maccept_sparse\u001b[49m\u001b[43m,\u001b[49m\n\u001b[0;32m    159\u001b[0m \u001b[43m        \u001b[49m\u001b[43mdtype\u001b[49m\u001b[38;5;241;43m=\u001b[39;49m\u001b[43mdtype\u001b[49m\u001b[43m,\u001b[49m\n\u001b[0;32m    160\u001b[0m \u001b[43m        \u001b[49m\u001b[43mcopy\u001b[49m\u001b[38;5;241;43m=\u001b[39;49m\u001b[43mcopy\u001b[49m\u001b[43m,\u001b[49m\n\u001b[0;32m    161\u001b[0m \u001b[43m        \u001b[49m\u001b[43mforce_all_finite\u001b[49m\u001b[38;5;241;43m=\u001b[39;49m\u001b[43mforce_all_finite\u001b[49m\u001b[43m,\u001b[49m\n\u001b[0;32m    162\u001b[0m \u001b[43m        \u001b[49m\u001b[43mestimator\u001b[49m\u001b[38;5;241;43m=\u001b[39;49m\u001b[43mestimator\u001b[49m\u001b[43m,\u001b[49m\n\u001b[0;32m    163\u001b[0m \u001b[43m    \u001b[49m\u001b[43m)\u001b[49m\n\u001b[0;32m    164\u001b[0m     Y \u001b[38;5;241m=\u001b[39m check_array(\n\u001b[0;32m    165\u001b[0m         Y,\n\u001b[0;32m    166\u001b[0m         accept_sparse\u001b[38;5;241m=\u001b[39maccept_sparse,\n\u001b[1;32m   (...)\u001b[0m\n\u001b[0;32m    170\u001b[0m         estimator\u001b[38;5;241m=\u001b[39mestimator,\n\u001b[0;32m    171\u001b[0m     )\n\u001b[0;32m    173\u001b[0m \u001b[38;5;28;01mif\u001b[39;00m precomputed:\n",
      "File \u001b[1;32mc:\\Users\\yuanzfan\\Anaconda3\\envs\\geo38\\lib\\site-packages\\sklearn\\utils\\validation.py:800\u001b[0m, in \u001b[0;36mcheck_array\u001b[1;34m(array, accept_sparse, accept_large_sparse, dtype, order, copy, force_all_finite, ensure_2d, allow_nd, ensure_min_samples, ensure_min_features, estimator)\u001b[0m\n\u001b[0;32m    794\u001b[0m         \u001b[38;5;28;01mraise\u001b[39;00m \u001b[38;5;167;01mValueError\u001b[39;00m(\n\u001b[0;32m    795\u001b[0m             \u001b[38;5;124m\"\u001b[39m\u001b[38;5;124mFound array with dim \u001b[39m\u001b[38;5;132;01m%d\u001b[39;00m\u001b[38;5;124m. \u001b[39m\u001b[38;5;132;01m%s\u001b[39;00m\u001b[38;5;124m expected <= 2.\u001b[39m\u001b[38;5;124m\"\u001b[39m\n\u001b[0;32m    796\u001b[0m             \u001b[38;5;241m%\u001b[39m (array\u001b[38;5;241m.\u001b[39mndim, estimator_name)\n\u001b[0;32m    797\u001b[0m         )\n\u001b[0;32m    799\u001b[0m     \u001b[38;5;28;01mif\u001b[39;00m force_all_finite:\n\u001b[1;32m--> 800\u001b[0m         \u001b[43m_assert_all_finite\u001b[49m\u001b[43m(\u001b[49m\u001b[43marray\u001b[49m\u001b[43m,\u001b[49m\u001b[43m \u001b[49m\u001b[43mallow_nan\u001b[49m\u001b[38;5;241;43m=\u001b[39;49m\u001b[43mforce_all_finite\u001b[49m\u001b[43m \u001b[49m\u001b[38;5;241;43m==\u001b[39;49m\u001b[43m \u001b[49m\u001b[38;5;124;43m\"\u001b[39;49m\u001b[38;5;124;43mallow-nan\u001b[39;49m\u001b[38;5;124;43m\"\u001b[39;49m\u001b[43m)\u001b[49m\n\u001b[0;32m    802\u001b[0m \u001b[38;5;28;01mif\u001b[39;00m ensure_min_samples \u001b[38;5;241m>\u001b[39m \u001b[38;5;241m0\u001b[39m:\n\u001b[0;32m    803\u001b[0m     n_samples \u001b[38;5;241m=\u001b[39m _num_samples(array)\n",
      "File \u001b[1;32mc:\\Users\\yuanzfan\\Anaconda3\\envs\\geo38\\lib\\site-packages\\sklearn\\utils\\validation.py:114\u001b[0m, in \u001b[0;36m_assert_all_finite\u001b[1;34m(X, allow_nan, msg_dtype)\u001b[0m\n\u001b[0;32m    107\u001b[0m     \u001b[38;5;28;01mif\u001b[39;00m (\n\u001b[0;32m    108\u001b[0m         allow_nan\n\u001b[0;32m    109\u001b[0m         \u001b[38;5;129;01mand\u001b[39;00m np\u001b[38;5;241m.\u001b[39misinf(X)\u001b[38;5;241m.\u001b[39many()\n\u001b[0;32m    110\u001b[0m         \u001b[38;5;129;01mor\u001b[39;00m \u001b[38;5;129;01mnot\u001b[39;00m allow_nan\n\u001b[0;32m    111\u001b[0m         \u001b[38;5;129;01mand\u001b[39;00m \u001b[38;5;129;01mnot\u001b[39;00m np\u001b[38;5;241m.\u001b[39misfinite(X)\u001b[38;5;241m.\u001b[39mall()\n\u001b[0;32m    112\u001b[0m     ):\n\u001b[0;32m    113\u001b[0m         type_err \u001b[38;5;241m=\u001b[39m \u001b[38;5;124m\"\u001b[39m\u001b[38;5;124minfinity\u001b[39m\u001b[38;5;124m\"\u001b[39m \u001b[38;5;28;01mif\u001b[39;00m allow_nan \u001b[38;5;28;01melse\u001b[39;00m \u001b[38;5;124m\"\u001b[39m\u001b[38;5;124mNaN, infinity\u001b[39m\u001b[38;5;124m\"\u001b[39m\n\u001b[1;32m--> 114\u001b[0m         \u001b[38;5;28;01mraise\u001b[39;00m \u001b[38;5;167;01mValueError\u001b[39;00m(\n\u001b[0;32m    115\u001b[0m             msg_err\u001b[38;5;241m.\u001b[39mformat(\n\u001b[0;32m    116\u001b[0m                 type_err, msg_dtype \u001b[38;5;28;01mif\u001b[39;00m msg_dtype \u001b[38;5;129;01mis\u001b[39;00m \u001b[38;5;129;01mnot\u001b[39;00m \u001b[38;5;28;01mNone\u001b[39;00m \u001b[38;5;28;01melse\u001b[39;00m X\u001b[38;5;241m.\u001b[39mdtype\n\u001b[0;32m    117\u001b[0m             )\n\u001b[0;32m    118\u001b[0m         )\n\u001b[0;32m    119\u001b[0m \u001b[38;5;66;03m# for object dtype data, we only check for NaNs (GH-13254)\u001b[39;00m\n\u001b[0;32m    120\u001b[0m \u001b[38;5;28;01melif\u001b[39;00m X\u001b[38;5;241m.\u001b[39mdtype \u001b[38;5;241m==\u001b[39m np\u001b[38;5;241m.\u001b[39mdtype(\u001b[38;5;124m\"\u001b[39m\u001b[38;5;124mobject\u001b[39m\u001b[38;5;124m\"\u001b[39m) \u001b[38;5;129;01mand\u001b[39;00m \u001b[38;5;129;01mnot\u001b[39;00m allow_nan:\n",
      "\u001b[1;31mValueError\u001b[0m: Input contains NaN, infinity or a value too large for dtype('float64')."
     ]
    }
   ],
   "source": [
    "# use these variables to compare the distance between cluster from level 8 to level 9\n",
    "x_9 = df_9[variables_sel_top1_order+['hex_id', 'cluster_7']]\n",
    "x_8 = df_8[variables_sel_top1_order+['hex_id', 'cluster_7']]\n",
    "# for each cluster label in level 8, calculate the distance to each cluster in level 9\n",
    "# and find the closest cluster\n",
    "dist_matrix = {}\n",
    "cluster_map_8_9 = {}\n",
    "for i in range(7):\n",
    "    for j in range(7):\n",
    "        dist_matrix[(i,j)] = euclidean_distances(x_8[x_8['cluster_7']==i][variables_sel_top1_order],\n",
    "                                                 x_9[x_9['cluster_7']==j][variables_sel_top1_order])\n",
    "    # get the closest cluster\n",
    "    cluster_map_8_9[i] = np.argmin([dist_matrix[(i,j)].mean() for j in range(7)])"
   ]
  },
  {
   "cell_type": "code",
   "execution_count": 122,
   "metadata": {},
   "outputs": [],
   "source": [
    "N = 7\n",
    "def get_heat(df_8):\n",
    "    df_summary = df_8[variables_sel_top1_order+[f\"cluster_{N}\"]].fillna(0).groupby(f\"cluster_{N}\").mean().stack().reset_index()\\\n",
    "    .rename(columns = {\"level_1\":\"category\", 0:\"std_value\"})\n",
    "    df_summary_update = []\n",
    "    for v in df_summary[\"category\"].unique():\n",
    "        temp = df_summary[df_summary[\"category\"]==v].reset_index(drop = True)\n",
    "        temp[\"norm_value\"] = (temp[\"std_value\"] - temp[\"std_value\"].min())/(temp[\"std_value\"].max() - temp[\"std_value\"].min())\n",
    "        df_summary_update.append(temp)\n",
    "        \n",
    "    df_summary_update = pd.concat(df_summary_update).reset_index()\n",
    "\n",
    "\n",
    "    df_heat = df_summary_update.pivot(\n",
    "        columns= \"category\", values = \"norm_value\", index = f\"cluster_{N}\"\n",
    "    )[variables_sel_top1_order].sort_values(variables_sel_top1_order[:5], ascending = True)\n",
    "    return df_heat\n",
    "df_heat = get_heat(df_8)"
   ]
  },
  {
   "cell_type": "code",
   "execution_count": 126,
   "metadata": {},
   "outputs": [
    {
     "data": {
      "image/png": "[encoded data removed]",
      "text/plain": [
       "<Figure size 1584x324 with 2 Axes>"
      ]
     },
     "metadata": {
      "needs_background": "light"
     },
     "output_type": "display_data"
    }
   ],
   "source": [
    "# use heatmap to visualize the cluster\n",
    "fig, ax = plt.subplots(figsize = (22,4.5))\n",
    "# use a gradient color\n",
    "# cluster_order = [0,5,3,6,2,1,7,4]\n",
    "# make a new linear cmap from #543005, #AD7224, #E6CD94, #EEF1EA, #97D5CC, #25877F, #003C30\n",
    "h3_8_mapping = {\n",
    "    4: 'Urban Core - Open',\n",
    "    2: \"Diverse Urban Street\",\n",
    "    0: 'Open-view Connector-protected',\n",
    "    5: 'Vegetated Community',\n",
    "    1: 'Open-view Connector-unprotected',\n",
    "    6: 'Natural Scene-a',\n",
    "    3: 'Natural Scene-b'\n",
    "}\n",
    "cmap = sns.color_palette([\"#543005\", \"#AD7224\", \"#E6CD94\", \"#EEF1EA\", \"#97D5CC\", \"#25877F\", \"#003C30\"])\n",
    "sns.heatmap(df_heat, \n",
    "            cmap = cmap, annot = True, fmt=\".2f\",\n",
    "            square = True, \n",
    "            ax = ax)\n",
    "# show axis annotation larger\n",
    "ax.tick_params(axis='both', which='major', labelsize=12)\n",
    "# show ticks to the left\n",
    "ax.yaxis.tick_left()\n",
    "# show ticks to the bottom\n",
    "ax.xaxis.tick_top()\n",
    "# rotate the x axis\n",
    "# relabel the y-ticks\n",
    "ax.set_yticklabels([h3_8_mapping[i] for i in df_heat.index], rotation = 0)\n",
    "# remove ylabel\n",
    "ax.set_ylabel(\"\")\n",
    "plt.xticks(rotation=90)\n",
    "fig.savefig(os.path.join(GRAPH_FOLDER, 'cluster_7_level_8.png'), bbox_inches = 'tight', dpi = 300)"
   ]
  },
  {
   "cell_type": "code",
   "execution_count": 133,
   "metadata": {},
   "outputs": [],
   "source": [
    "h3_8_mapping = {\n",
    "    4: 'Urban Core - Open',\n",
    "    2: \"Diverse Street\",\n",
    "    0: 'Open-view Connector-protected',\n",
    "    5: 'Vegetated Community',\n",
    "    1: 'Open-view Connector-unprotected',\n",
    "    6: 'Natural Scene-a',\n",
    "    3: 'Natural Scene-b'\n",
    "}"
   ]
  },
  {
   "cell_type": "code",
   "execution_count": 134,
   "metadata": {},
   "outputs": [],
   "source": [
    "# df_8['cluster_7_name'] = df_8['cluster_7'].apply(lambda x: h3_8_mapping[x])\n",
    "# df_8[['city_lower', \n",
    "#       'hex_id',\n",
    "#       'cluster_7',\n",
    "#       'cluster_7_name'\n",
    "#       ]].to_csv(os.path.join(DATA_FOLDER, 'viz_seg_cat=27_res=8_withincity_built_environment_tsne_cluster=7_child.csv'), index=False)"
   ]
  },
  {
   "cell_type": "code",
   "execution_count": 135,
   "metadata": {},
   "outputs": [],
   "source": [
    "df_8['cluster_7_mapped'] = df_8['cluster_7'].map(h3_8_mapping)\n",
    "df_8_city = df_8.groupby(['city_lower','cluster_7_mapped'])['hex_id'].count().unstack().fillna(0)\n",
    "df_8_city['robustness_type'] = 'h3'\n",
    "# convert the cluster_7_mapped to proportion\n",
    "for col in df_8_city.columns[:-1]:\n",
    "    df_8_city[col] = df_8_city[col]/df_8_city[col].sum()\n",
    "\n",
    "df_8_city.to_csv(os.path.join(DATA_FOLDER, 'robustness_h3_8.csv'), index=True)"
   ]
  },
  {
   "cell_type": "code",
   "execution_count": 136,
   "metadata": {},
   "outputs": [
    {
     "data": {
      "text/plain": [
       "Index(['Diverse Street', 'Natural Scene-a', 'Natural Scene-b',\n",
       "       'Open-view Connector-protected', 'Open-view Connector-unprotected',\n",
       "       'Urban Core - Open', 'Vegetated Community', 'robustness_type'],\n",
       "      dtype='object', name='cluster_7_mapped')"
      ]
     },
     "execution_count": 136,
     "metadata": {},
     "output_type": "execute_result"
    }
   ],
   "source": [
    "df_8_city.columns"
   ]
  },
  {
   "cell_type": "markdown",
   "metadata": {},
   "source": [
    "os.listdir(DATA_FOLDER)"
   ]
  },
  {
   "cell_type": "markdown",
   "metadata": {},
   "source": []
  },
  {
   "cell_type": "markdown",
   "metadata": {},
   "source": []
  }
 ],
 "metadata": {
  "kernelspec": {
   "display_name": "geo38",
   "language": "python",
   "name": "python3"
  },
  "language_info": {
   "codemirror_mode": {
    "name": "ipython",
    "version": 3
   },
   "file_extension": ".py",
   "mimetype": "text/x-python",
   "name": "python",
   "nbconvert_exporter": "python",
   "pygments_lexer": "ipython3",
   "version": "3.8.13"
  }
 },
 "nbformat": 4,
 "nbformat_minor": 2
}
