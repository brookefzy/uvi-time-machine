{
 "cells": [
  {
   "cell_type": "code",
   "execution_count": 14,
   "metadata": {},
   "outputs": [],
   "source": [
    "import os\n",
    "import pandas as pd\n",
    "import numpy as np\n",
    "from glob import glob\n",
    "import gspread\n",
    "import h3\n",
    "from tqdm import tqdm\n",
    "import gc\n",
    "\n",
    "CURATED_FOLDER_LONG = \"/lustre1/g/geog_pyloo/05_timemachine/_curated/c_seg_longitudinal_year\"\n",
    "CURATED_TARGET = \"/lustre1/g/geog_pyloo/05_timemachine/_curated/c_seg_hex\"\n",
    "if not os.path.exists(CURATED_TARGET):\n",
    "    os.makedirs(CURATED_TARGET)\n",
    "    \n",
    "column_map = {\n",
    "    \"<2014\":[2007,   2008,   2009,   2010,   2011,   2012,   2013,],\n",
    "    # \"2014-2015\":[2014, 2015],\n",
    "    \"2014-2017\":[2014, 2015, 2016, 2017],\n",
    "    \"2018-2020\":[2018, 2019, 2020],\n",
    "    \"2021-2023\":[2021, 2022, 2023, 2024]\n",
    "}\n",
    "\n",
    "def load_class():\n",
    "    serviceaccount = \"../../google_drive_personal.json\"\n",
    "    import gspread\n",
    "\n",
    "    # from oauth2client.service_account import ServiceAccountCredentials\n",
    "    gc = gspread.service_account(filename=serviceaccount)\n",
    "\n",
    "    def read_url(url, SHEET_NAME):\n",
    "        SHEET_ID = url.split(\"/\")[5]\n",
    "        spreadsheet = gc.open_by_key(SHEET_ID)\n",
    "        worksheet = spreadsheet.worksheet(SHEET_NAME)\n",
    "        rows = worksheet.get_all_records()\n",
    "        df_spread = pd.DataFrame(rows)\n",
    "        return df_spread, worksheet\n",
    "\n",
    "    url = \"https://docs.google.com/spreadsheets/d/1o5gFmZPUoDwrrbfE6M26uJF3HnEZll02ivnOxP6K6Xw/edit?usp=sharing\"\n",
    "    SHEETNAME = \"object150\"\n",
    "    obj_meta, other_worksheet = read_url(url, SHEETNAME)\n",
    "    return obj_meta\n",
    "\n",
    "def construct_cat(df_seg, obj_meta):\n",
    "    \n",
    "    new_cols = []\n",
    "    for x in df_seg.columns:\n",
    "        if x in obj_meta[\"id\"].values:\n",
    "            new_cols.append(ADE_CATEGORIES_DICT[x])\n",
    "        else:\n",
    "            new_cols.append(x)\n",
    "    df_seg.columns = new_cols\n",
    "\n",
    "    # drop the columns if all value are 0\n",
    "    variables = set([v for v in df_seg.columns if v in obj_meta[\"category\"].unique()])\n",
    "    print(\"Variables original: \", len(variables))\n",
    "    to_drop = [\"other\"]\n",
    "    variables_remain = [v for v in variables if not v in to_drop]\n",
    "    print(\"Variables kept: \", len(variables_remain))\n",
    "    \n",
    "    # combine year to year_groups\n",
    "    df_seg['year_group'] = \"other\"\n",
    "    df_seg['year_group'] = df_seg['year'].apply(lambda x: [k for k,v in column_map.items() if x in v][0])\n",
    "    df_seg = df_seg.drop(columns = ['year']).groupby([\"city_lower\", \"hex_id\", \"img_count\", \"year_group\"]).sum().reset_index()\n",
    "\n",
    "    # combine categories and transform\n",
    "    df_long = (\n",
    "        df_seg.set_index([\"city_lower\", \"hex_id\", \"img_count\",\"year_group\"]).stack().reset_index()\n",
    "    )\n",
    "    # print(df_long.columns)\n",
    "    df_long.rename(columns={\"level_4\": \"category\", 0: \"value\"}, inplace=True)\n",
    "    df_long[\"value\"] = df_long[\"value\"].fillna(0).astype(float)\n",
    "\n",
    "    df_seg_update = (\n",
    "        df_long.groupby([\"city_lower\", \"hex_id\", \"img_count\", \"category\", \"year_group\"])[\"value\"]\n",
    "        .sum()\n",
    "        .reset_index()\n",
    "        .pivot(\n",
    "            columns=\"category\",\n",
    "            index=[\"year_group\",\"city_lower\", \"hex_id\", \"img_count\"],\n",
    "            values=\"value\",\n",
    "        )\n",
    "        .reset_index()\n",
    "    )\n",
    "    return df_seg_update, variables_remain\n",
    "def get_cross(curated_cross, obj_meta, res):\n",
    "    segfiles = glob(curated_cross + \"/*.parquet\")\n",
    "    df_seg = []\n",
    "    for f in tqdm(segfiles):\n",
    "        temp = pd.read_parquet(f)\n",
    "        temp[\"city_lower\"] = f.split(\"/\")[-1].split(\".\")[0]\n",
    "        temp_filter = temp[temp['res']==res].reset_index(drop = True)\n",
    "        temp_update, variables_remain = construct_cat(temp_filter, obj_meta)\n",
    "        print(temp_update.shape)\n",
    "        df_seg.append(temp_update)\n",
    "    df_seg = pd.concat(df_seg).reset_index(drop=True)\n",
    "    return df_seg"
   ]
  },
  {
   "cell_type": "code",
   "execution_count": 2,
   "metadata": {},
   "outputs": [
    {
     "name": "stdout",
     "output_type": "stream",
     "text": [
      "Loaded:  150\n",
      "Number of categories:  31\n"
     ]
    }
   ],
   "source": [
    "##################### EXPORT STAGING FILES FOR LATER ANALYSIS############################################################\n",
    "obj_meta = load_class()\n",
    "print(\"Loaded: \", obj_meta.shape[0])\n",
    "n_cat = len(obj_meta[\"category\"].unique())\n",
    "print(\"Number of categories: \", n_cat)\n",
    "obj_meta[\"id\"] = obj_meta[\"id\"].astype(str)\n",
    "ADE_CATEGORIES_DICT = dict(zip(obj_meta[\"id\"].values, obj_meta[\"category\"].values))"
   ]
  },
  {
   "cell_type": "code",
   "execution_count": 18,
   "metadata": {},
   "outputs": [
    {
     "name": "stderr",
     "output_type": "stream",
     "text": [
      "  1%|          | 1/127 [00:00<00:15,  8.03it/s]"
     ]
    },
    {
     "name": "stdout",
     "output_type": "stream",
     "text": [
      "Variables original:  30\n",
      "Variables kept:  29\n",
      "(1003, 35)\n",
      "Variables original:  31\n",
      "Variables kept:  30\n"
     ]
    },
    {
     "name": "stderr",
     "output_type": "stream",
     "text": [
      "  2%|▏         | 2/127 [00:00<00:34,  3.63it/s]"
     ]
    },
    {
     "name": "stdout",
     "output_type": "stream",
     "text": [
      "(4756, 36)\n",
      "Variables original:  31\n",
      "Variables kept:  30\n"
     ]
    },
    {
     "name": "stderr",
     "output_type": "stream",
     "text": [
      "  2%|▏         | 3/127 [00:00<00:40,  3.03it/s]"
     ]
    },
    {
     "name": "stdout",
     "output_type": "stream",
     "text": [
      "(4524, 36)\n",
      "Variables original:  31\n",
      "Variables kept:  30\n"
     ]
    },
    {
     "name": "stderr",
     "output_type": "stream",
     "text": [
      "  3%|▎         | 4/127 [00:01<00:48,  2.56it/s]"
     ]
    },
    {
     "name": "stdout",
     "output_type": "stream",
     "text": [
      "(6006, 36)\n",
      "Variables original:  31\n",
      "Variables kept:  30\n"
     ]
    },
    {
     "name": "stderr",
     "output_type": "stream",
     "text": [
      "  4%|▍         | 5/127 [00:02<01:04,  1.89it/s]"
     ]
    },
    {
     "name": "stdout",
     "output_type": "stream",
     "text": [
      "(10133, 36)\n",
      "Variables original:  31\n",
      "Variables kept:  30\n"
     ]
    },
    {
     "name": "stderr",
     "output_type": "stream",
     "text": [
      "  6%|▋         | 8/127 [00:02<00:34,  3.43it/s]"
     ]
    },
    {
     "name": "stdout",
     "output_type": "stream",
     "text": [
      "(5218, 36)\n",
      "Variables original:  30\n",
      "Variables kept:  29\n",
      "(344, 35)\n",
      "Variables original:  31\n",
      "Variables kept:  30\n",
      "(185, 36)\n",
      "Variables original:  31\n",
      "Variables kept:  30\n"
     ]
    },
    {
     "name": "stderr",
     "output_type": "stream",
     "text": [
      "  7%|▋         | 9/127 [00:03<00:54,  2.16it/s]"
     ]
    },
    {
     "name": "stdout",
     "output_type": "stream",
     "text": [
      "(12743, 36)\n",
      "Variables original:  31\n",
      "Variables kept:  30\n"
     ]
    },
    {
     "name": "stderr",
     "output_type": "stream",
     "text": [
      "  8%|▊         | 10/127 [00:05<01:32,  1.26it/s]"
     ]
    },
    {
     "name": "stdout",
     "output_type": "stream",
     "text": [
      "(24625, 36)\n",
      "Variables original:  31\n",
      "Variables kept:  30\n"
     ]
    },
    {
     "name": "stderr",
     "output_type": "stream",
     "text": [
      "  9%|▊         | 11/127 [00:05<01:24,  1.37it/s]"
     ]
    },
    {
     "name": "stdout",
     "output_type": "stream",
     "text": [
      "(6955, 36)\n",
      "Variables original:  31\n",
      "Variables kept:  30\n"
     ]
    },
    {
     "name": "stderr",
     "output_type": "stream",
     "text": [
      "  9%|▉         | 12/127 [00:06<01:13,  1.57it/s]"
     ]
    },
    {
     "name": "stdout",
     "output_type": "stream",
     "text": [
      "(4774, 36)\n",
      "Variables original:  31\n",
      "Variables kept:  30\n"
     ]
    },
    {
     "name": "stderr",
     "output_type": "stream",
     "text": [
      " 10%|█         | 13/127 [00:07<01:14,  1.52it/s]"
     ]
    },
    {
     "name": "stdout",
     "output_type": "stream",
     "text": [
      "(8931, 36)\n",
      "Variables original:  31\n",
      "Variables kept:  30\n"
     ]
    },
    {
     "name": "stderr",
     "output_type": "stream",
     "text": [
      " 12%|█▏        | 15/127 [00:07<00:50,  2.20it/s]"
     ]
    },
    {
     "name": "stdout",
     "output_type": "stream",
     "text": [
      "(5387, 36)\n",
      "Variables original:  31\n",
      "Variables kept:  30\n",
      "(1161, 36)\n"
     ]
    },
    {
     "name": "stderr",
     "output_type": "stream",
     "text": [
      " 13%|█▎        | 16/127 [00:07<00:42,  2.61it/s]"
     ]
    },
    {
     "name": "stdout",
     "output_type": "stream",
     "text": [
      "Variables original:  31\n",
      "Variables kept:  30\n",
      "(2184, 36)\n",
      "Variables original:  31\n",
      "Variables kept:  30\n"
     ]
    },
    {
     "name": "stderr",
     "output_type": "stream",
     "text": [
      " 14%|█▍        | 18/127 [00:08<00:28,  3.78it/s]"
     ]
    },
    {
     "name": "stdout",
     "output_type": "stream",
     "text": [
      "(233, 36)\n",
      "Variables original:  31\n",
      "Variables kept:  30\n",
      "(1604, 36)\n",
      "Variables original:  31\n",
      "Variables kept:  30\n"
     ]
    },
    {
     "name": "stderr",
     "output_type": "stream",
     "text": [
      " 15%|█▍        | 19/127 [00:08<00:37,  2.85it/s]"
     ]
    },
    {
     "name": "stdout",
     "output_type": "stream",
     "text": [
      "(7600, 36)\n",
      "Variables original:  31\n",
      "Variables kept:  30\n"
     ]
    },
    {
     "name": "stderr",
     "output_type": "stream",
     "text": [
      " 16%|█▌        | 20/127 [00:08<00:33,  3.17it/s]"
     ]
    },
    {
     "name": "stdout",
     "output_type": "stream",
     "text": [
      "(2419, 36)\n",
      "Variables original:  31\n",
      "Variables kept:  30\n",
      "(100, 36)\n",
      "Variables original:  31\n",
      "Variables kept:  30\n"
     ]
    },
    {
     "name": "stderr",
     "output_type": "stream",
     "text": [
      " 19%|█▉        | 24/127 [00:09<00:20,  4.99it/s]"
     ]
    },
    {
     "name": "stdout",
     "output_type": "stream",
     "text": [
      "(3863, 36)\n",
      "Variables original:  31\n",
      "Variables kept:  30\n",
      "(169, 36)\n",
      "Variables original:  31\n",
      "Variables kept:  30\n",
      "(176, 36)\n"
     ]
    },
    {
     "name": "stderr",
     "output_type": "stream",
     "text": [
      " 20%|█▉        | 25/127 [00:09<00:20,  4.97it/s]"
     ]
    },
    {
     "name": "stdout",
     "output_type": "stream",
     "text": [
      "Variables original:  31\n",
      "Variables kept:  30\n",
      "(1313, 36)\n",
      "Variables original:  31\n",
      "Variables kept:  30\n"
     ]
    },
    {
     "name": "stderr",
     "output_type": "stream",
     "text": [
      " 21%|██▏       | 27/127 [00:10<00:31,  3.19it/s]"
     ]
    },
    {
     "name": "stdout",
     "output_type": "stream",
     "text": [
      "(10261, 36)\n",
      "Variables original:  31\n",
      "Variables kept:  30\n",
      "(1162, 36)\n"
     ]
    },
    {
     "name": "stderr",
     "output_type": "stream",
     "text": [
      " 23%|██▎       | 29/127 [00:10<00:21,  4.50it/s]"
     ]
    },
    {
     "name": "stdout",
     "output_type": "stream",
     "text": [
      "Variables original:  31\n",
      "Variables kept:  30\n",
      "(421, 36)\n",
      "Variables original:  31\n",
      "Variables kept:  30\n",
      "(594, 36)\n",
      "Variables original:  31\n",
      "Variables kept:  30\n"
     ]
    },
    {
     "name": "stderr",
     "output_type": "stream",
     "text": [
      " 24%|██▎       | 30/127 [00:11<00:23,  4.15it/s]"
     ]
    },
    {
     "name": "stdout",
     "output_type": "stream",
     "text": [
      "(3525, 36)\n",
      "Variables original:  31\n",
      "Variables kept:  30\n",
      "(298, 36)\n",
      "Variables original:  31\n",
      "Variables kept:  30\n"
     ]
    },
    {
     "name": "stderr",
     "output_type": "stream",
     "text": [
      " 25%|██▌       | 32/127 [00:11<00:20,  4.62it/s]"
     ]
    },
    {
     "name": "stdout",
     "output_type": "stream",
     "text": [
      "(3156, 36)\n",
      "Variables original:  30\n",
      "Variables kept:  29\n",
      "(114, 35)\n",
      "Variables original:  31\n",
      "Variables kept:  30\n"
     ]
    },
    {
     "name": "stderr",
     "output_type": "stream",
     "text": [
      " 27%|██▋       | 34/127 [00:11<00:17,  5.29it/s]"
     ]
    },
    {
     "name": "stdout",
     "output_type": "stream",
     "text": [
      "(1951, 36)\n",
      "Variables original:  31\n",
      "Variables kept:  30\n"
     ]
    },
    {
     "name": "stderr",
     "output_type": "stream",
     "text": [
      " 29%|██▉       | 37/127 [00:12<00:14,  6.18it/s]"
     ]
    },
    {
     "name": "stdout",
     "output_type": "stream",
     "text": [
      "(3129, 36)\n",
      "Variables original:  31\n",
      "Variables kept:  30\n",
      "(309, 36)\n",
      "Variables original:  30\n",
      "Variables kept:  29\n",
      "(82, 35)\n"
     ]
    },
    {
     "name": "stderr",
     "output_type": "stream",
     "text": [
      " 30%|██▉       | 38/127 [00:12<00:15,  5.64it/s]"
     ]
    },
    {
     "name": "stdout",
     "output_type": "stream",
     "text": [
      "Variables original:  31\n",
      "Variables kept:  30\n",
      "(3154, 36)\n",
      "Variables original:  31\n",
      "Variables kept:  30\n",
      "(368, 36)\n",
      "Variables original:  31\n",
      "Variables kept:  30\n"
     ]
    },
    {
     "name": "stderr",
     "output_type": "stream",
     "text": [
      " 31%|███▏      | 40/127 [00:12<00:14,  5.84it/s]"
     ]
    },
    {
     "name": "stdout",
     "output_type": "stream",
     "text": [
      "(1992, 36)\n",
      "Variables original:  31\n",
      "Variables kept:  30\n"
     ]
    },
    {
     "name": "stderr",
     "output_type": "stream",
     "text": [
      " 33%|███▎      | 42/127 [00:13<00:16,  5.09it/s]"
     ]
    },
    {
     "name": "stdout",
     "output_type": "stream",
     "text": [
      "(2934, 36)\n",
      "Variables original:  31\n",
      "Variables kept:  30\n",
      "(1431, 36)\n"
     ]
    },
    {
     "name": "stderr",
     "output_type": "stream",
     "text": [
      " 35%|███▍      | 44/127 [00:13<00:13,  6.24it/s]"
     ]
    },
    {
     "name": "stdout",
     "output_type": "stream",
     "text": [
      "Variables original:  31\n",
      "Variables kept:  30\n",
      "(1007, 36)\n",
      "Variables original:  30\n",
      "Variables kept:  29\n",
      "(468, 35)\n"
     ]
    },
    {
     "name": "stderr",
     "output_type": "stream",
     "text": [
      " 35%|███▌      | 45/127 [00:13<00:11,  6.94it/s]"
     ]
    },
    {
     "name": "stdout",
     "output_type": "stream",
     "text": [
      "Variables original:  31\n",
      "Variables kept:  30\n",
      "(607, 36)\n",
      "Variables original:  31\n",
      "Variables kept:  30\n"
     ]
    },
    {
     "name": "stderr",
     "output_type": "stream",
     "text": [
      " 36%|███▌      | 46/127 [00:13<00:13,  5.95it/s]"
     ]
    },
    {
     "name": "stdout",
     "output_type": "stream",
     "text": [
      "(1054, 36)\n",
      "Variables original:  30\n",
      "Variables kept:  29\n"
     ]
    },
    {
     "name": "stderr",
     "output_type": "stream",
     "text": [
      " 37%|███▋      | 47/127 [00:14<00:14,  5.60it/s]"
     ]
    },
    {
     "name": "stdout",
     "output_type": "stream",
     "text": [
      "(1944, 35)\n",
      "Variables original:  31\n",
      "Variables kept:  30\n"
     ]
    },
    {
     "name": "stderr",
     "output_type": "stream",
     "text": [
      " 38%|███▊      | 48/127 [00:14<00:14,  5.33it/s]"
     ]
    },
    {
     "name": "stdout",
     "output_type": "stream",
     "text": [
      "(2258, 36)\n",
      "Variables original:  31\n",
      "Variables kept:  30\n"
     ]
    },
    {
     "name": "stderr",
     "output_type": "stream",
     "text": [
      " 39%|███▊      | 49/127 [00:15<00:44,  1.76it/s]"
     ]
    },
    {
     "name": "stdout",
     "output_type": "stream",
     "text": [
      "(21578, 36)\n",
      "Variables original:  31\n",
      "Variables kept:  30\n"
     ]
    },
    {
     "name": "stderr",
     "output_type": "stream",
     "text": [
      " 40%|████      | 51/127 [00:16<00:30,  2.48it/s]"
     ]
    },
    {
     "name": "stdout",
     "output_type": "stream",
     "text": [
      "(5014, 36)\n",
      "Variables original:  30\n",
      "Variables kept:  29\n",
      "(396, 35)\n",
      "Variables original:  31\n",
      "Variables kept:  30\n"
     ]
    },
    {
     "name": "stderr",
     "output_type": "stream",
     "text": [
      " 41%|████      | 52/127 [00:16<00:28,  2.64it/s]"
     ]
    },
    {
     "name": "stdout",
     "output_type": "stream",
     "text": [
      "(4263, 36)\n",
      "Variables original:  31\n",
      "Variables kept:  30\n"
     ]
    },
    {
     "name": "stderr",
     "output_type": "stream",
     "text": [
      " 42%|████▏     | 53/127 [00:17<00:30,  2.43it/s]"
     ]
    },
    {
     "name": "stdout",
     "output_type": "stream",
     "text": [
      "(5964, 36)\n",
      "Variables original:  31\n",
      "Variables kept:  30\n"
     ]
    },
    {
     "name": "stderr",
     "output_type": "stream",
     "text": [
      " 43%|████▎     | 55/127 [00:17<00:23,  3.08it/s]"
     ]
    },
    {
     "name": "stdout",
     "output_type": "stream",
     "text": [
      "(3806, 36)\n",
      "Variables original:  31\n",
      "Variables kept:  30\n",
      "(1369, 36)\n",
      "Variables original:  31\n",
      "Variables kept:  30\n"
     ]
    },
    {
     "name": "stderr",
     "output_type": "stream",
     "text": [
      " 45%|████▍     | 57/127 [00:18<00:25,  2.80it/s]"
     ]
    },
    {
     "name": "stdout",
     "output_type": "stream",
     "text": [
      "(9572, 36)\n",
      "Variables original:  31\n",
      "Variables kept:  30\n",
      "(1093, 36)\n"
     ]
    },
    {
     "name": "stderr",
     "output_type": "stream",
     "text": [
      " 46%|████▌     | 58/127 [00:18<00:21,  3.24it/s]"
     ]
    },
    {
     "name": "stdout",
     "output_type": "stream",
     "text": [
      "Variables original:  31\n",
      "Variables kept:  30\n",
      "(2052, 36)\n",
      "Variables original:  31\n",
      "Variables kept:  30\n"
     ]
    },
    {
     "name": "stderr",
     "output_type": "stream",
     "text": [
      " 47%|████▋     | 60/127 [00:20<00:36,  1.84it/s]"
     ]
    },
    {
     "name": "stdout",
     "output_type": "stream",
     "text": [
      "(24786, 36)\n",
      "Variables original:  31\n",
      "Variables kept:  30\n",
      "(1354, 36)\n"
     ]
    },
    {
     "name": "stderr",
     "output_type": "stream",
     "text": [
      " 48%|████▊     | 61/127 [00:20<00:28,  2.29it/s]"
     ]
    },
    {
     "name": "stdout",
     "output_type": "stream",
     "text": [
      "Variables original:  31\n",
      "Variables kept:  30\n",
      "(1485, 36)\n",
      "Variables original:  31\n",
      "Variables kept:  30\n"
     ]
    },
    {
     "name": "stderr",
     "output_type": "stream",
     "text": [
      " 49%|████▉     | 62/127 [00:21<00:32,  1.98it/s]"
     ]
    },
    {
     "name": "stdout",
     "output_type": "stream",
     "text": [
      "(8438, 36)\n",
      "Variables original:  31\n",
      "Variables kept:  30\n"
     ]
    },
    {
     "name": "stderr",
     "output_type": "stream",
     "text": [
      " 50%|████▉     | 63/127 [00:22<00:42,  1.52it/s]"
     ]
    },
    {
     "name": "stdout",
     "output_type": "stream",
     "text": [
      "(13189, 36)\n",
      "Variables original:  31\n",
      "Variables kept:  30\n",
      "(132, 36)\n",
      "Variables original:  31\n",
      "Variables kept:  30\n"
     ]
    },
    {
     "name": "stderr",
     "output_type": "stream",
     "text": [
      " 53%|█████▎    | 67/127 [00:23<00:20,  2.90it/s]"
     ]
    },
    {
     "name": "stdout",
     "output_type": "stream",
     "text": [
      "(7102, 36)\n",
      "Variables original:  31\n",
      "Variables kept:  30\n",
      "(387, 36)\n",
      "Variables original:  31\n",
      "Variables kept:  30\n",
      "(402, 36)\n",
      "Variables original:  30\n",
      "Variables kept:  29\n",
      "(3577, 35)\n"
     ]
    },
    {
     "name": "stderr",
     "output_type": "stream",
     "text": [
      " 54%|█████▍    | 69/127 [00:23<00:18,  3.14it/s]"
     ]
    },
    {
     "name": "stdout",
     "output_type": "stream",
     "text": [
      "Variables original:  31\n",
      "Variables kept:  30\n",
      "(3866, 36)\n"
     ]
    },
    {
     "name": "stderr",
     "output_type": "stream",
     "text": [
      " 55%|█████▌    | 70/127 [00:24<00:16,  3.48it/s]"
     ]
    },
    {
     "name": "stdout",
     "output_type": "stream",
     "text": [
      "Variables original:  31\n",
      "Variables kept:  30\n",
      "(1805, 36)\n",
      "Variables original:  30\n",
      "Variables kept:  29\n",
      "(247, 35)\n"
     ]
    },
    {
     "name": "stderr",
     "output_type": "stream",
     "text": [
      " 57%|█████▋    | 72/127 [00:24<00:11,  4.75it/s]"
     ]
    },
    {
     "name": "stdout",
     "output_type": "stream",
     "text": [
      "Variables original:  31\n",
      "Variables kept:  30\n",
      "(768, 36)\n",
      "Variables original:  31\n",
      "Variables kept:  30\n"
     ]
    },
    {
     "name": "stderr",
     "output_type": "stream",
     "text": [
      " 58%|█████▊    | 74/127 [00:25<00:22,  2.39it/s]"
     ]
    },
    {
     "name": "stdout",
     "output_type": "stream",
     "text": [
      "(16945, 36)\n",
      "Variables original:  31\n",
      "Variables kept:  30\n",
      "(825, 36)\n",
      "Variables original:  31\n",
      "Variables kept:  30\n",
      "(506, 36)\n",
      "Variables original:  31\n",
      "Variables kept:  30\n"
     ]
    },
    {
     "name": "stderr",
     "output_type": "stream",
     "text": [
      " 61%|██████    | 77/127 [00:26<00:17,  2.92it/s]"
     ]
    },
    {
     "name": "stdout",
     "output_type": "stream",
     "text": [
      "(7108, 36)\n",
      "Variables original:  31\n",
      "Variables kept:  30\n",
      "(1283, 36)\n"
     ]
    },
    {
     "name": "stderr",
     "output_type": "stream",
     "text": [
      " 61%|██████▏   | 78/127 [00:26<00:13,  3.53it/s]"
     ]
    },
    {
     "name": "stdout",
     "output_type": "stream",
     "text": [
      "Variables original:  31\n",
      "Variables kept:  30\n",
      "(161, 36)\n",
      "Variables original:  30\n",
      "Variables kept:  29\n"
     ]
    },
    {
     "name": "stderr",
     "output_type": "stream",
     "text": [
      " 62%|██████▏   | 79/127 [00:27<00:12,  3.83it/s]"
     ]
    },
    {
     "name": "stdout",
     "output_type": "stream",
     "text": [
      "(2096, 35)\n",
      "Variables original:  31\n",
      "Variables kept:  30\n"
     ]
    },
    {
     "name": "stderr",
     "output_type": "stream",
     "text": [
      " 63%|██████▎   | 80/127 [00:27<00:11,  3.96it/s]"
     ]
    },
    {
     "name": "stdout",
     "output_type": "stream",
     "text": [
      "(2460, 36)\n",
      "Variables original:  31\n",
      "Variables kept:  30\n"
     ]
    },
    {
     "name": "stderr",
     "output_type": "stream",
     "text": [
      " 64%|██████▍   | 81/127 [00:27<00:13,  3.40it/s]"
     ]
    },
    {
     "name": "stdout",
     "output_type": "stream",
     "text": [
      "(4336, 36)\n",
      "Variables original:  30\n",
      "Variables kept:  29\n"
     ]
    },
    {
     "name": "stderr",
     "output_type": "stream",
     "text": [
      " 65%|██████▌   | 83/127 [00:28<00:10,  4.29it/s]"
     ]
    },
    {
     "name": "stdout",
     "output_type": "stream",
     "text": [
      "(1595, 35)\n",
      "Variables original:  31\n",
      "Variables kept:  30\n",
      "(521, 36)\n"
     ]
    },
    {
     "name": "stderr",
     "output_type": "stream",
     "text": [
      " 66%|██████▌   | 84/127 [00:28<00:08,  5.04it/s]"
     ]
    },
    {
     "name": "stdout",
     "output_type": "stream",
     "text": [
      "Variables original:  31\n",
      "Variables kept:  30\n",
      "(424, 36)\n",
      "Variables original:  31\n",
      "Variables kept:  30\n"
     ]
    },
    {
     "name": "stderr",
     "output_type": "stream",
     "text": [
      " 68%|██████▊   | 86/127 [00:28<00:07,  5.66it/s]"
     ]
    },
    {
     "name": "stdout",
     "output_type": "stream",
     "text": [
      "(1225, 36)\n",
      "Variables original:  30\n",
      "Variables kept:  29\n",
      "(1001, 35)\n"
     ]
    },
    {
     "name": "stderr",
     "output_type": "stream",
     "text": [
      " 69%|██████▊   | 87/127 [00:28<00:06,  6.19it/s]"
     ]
    },
    {
     "name": "stdout",
     "output_type": "stream",
     "text": [
      "Variables original:  30\n",
      "Variables kept:  29\n",
      "(841, 35)\n",
      "Variables original:  31\n",
      "Variables kept:  30\n"
     ]
    },
    {
     "name": "stderr",
     "output_type": "stream",
     "text": [
      " 69%|██████▉   | 88/127 [00:29<00:11,  3.45it/s]"
     ]
    },
    {
     "name": "stdout",
     "output_type": "stream",
     "text": [
      "(7396, 36)\n",
      "Variables original:  31\n",
      "Variables kept:  30\n"
     ]
    },
    {
     "name": "stderr",
     "output_type": "stream",
     "text": [
      " 71%|███████   | 90/127 [00:30<00:12,  2.92it/s]"
     ]
    },
    {
     "name": "stdout",
     "output_type": "stream",
     "text": [
      "(8390, 36)\n",
      "Variables original:  31\n",
      "Variables kept:  30\n",
      "(1424, 36)\n"
     ]
    },
    {
     "name": "stderr",
     "output_type": "stream",
     "text": [
      " 72%|███████▏  | 91/127 [00:30<00:09,  3.67it/s]"
     ]
    },
    {
     "name": "stdout",
     "output_type": "stream",
     "text": [
      "Variables original:  31\n",
      "Variables kept:  30\n",
      "(423, 36)\n",
      "Variables original:  30\n",
      "Variables kept:  29\n",
      "(75, 35)\n",
      "Variables original:  31\n",
      "Variables kept:  30\n"
     ]
    },
    {
     "name": "stderr",
     "output_type": "stream",
     "text": [
      " 74%|███████▍  | 94/127 [00:30<00:07,  4.41it/s]"
     ]
    },
    {
     "name": "stdout",
     "output_type": "stream",
     "text": [
      "(5220, 36)\n",
      "Variables original:  31\n",
      "Variables kept:  30\n",
      "(526, 36)\n",
      "Variables original:  31\n",
      "Variables kept:  30\n"
     ]
    },
    {
     "name": "stderr",
     "output_type": "stream",
     "text": [
      " 75%|███████▍  | 95/127 [00:31<00:07,  4.04it/s]"
     ]
    },
    {
     "name": "stdout",
     "output_type": "stream",
     "text": [
      "(3600, 36)\n",
      "Variables original:  31\n",
      "Variables kept:  30\n"
     ]
    },
    {
     "name": "stderr",
     "output_type": "stream",
     "text": [
      " 76%|███████▌  | 96/127 [00:31<00:08,  3.86it/s]"
     ]
    },
    {
     "name": "stdout",
     "output_type": "stream",
     "text": [
      "(3614, 36)\n",
      "Variables original:  31\n",
      "Variables kept:  30\n"
     ]
    },
    {
     "name": "stderr",
     "output_type": "stream",
     "text": [
      " 77%|███████▋  | 98/127 [00:31<00:07,  4.02it/s]"
     ]
    },
    {
     "name": "stdout",
     "output_type": "stream",
     "text": [
      "(3611, 36)\n",
      "Variables original:  31\n",
      "Variables kept:  30\n",
      "(1494, 36)\n"
     ]
    },
    {
     "name": "stderr",
     "output_type": "stream",
     "text": [
      " 78%|███████▊  | 99/127 [00:32<00:06,  4.45it/s]"
     ]
    },
    {
     "name": "stdout",
     "output_type": "stream",
     "text": [
      "Variables original:  31\n",
      "Variables kept:  30\n",
      "(1101, 36)\n",
      "Variables original:  31\n",
      "Variables kept:  30\n"
     ]
    },
    {
     "name": "stderr",
     "output_type": "stream",
     "text": [
      " 79%|███████▊  | 100/127 [00:32<00:06,  4.46it/s]"
     ]
    },
    {
     "name": "stdout",
     "output_type": "stream",
     "text": [
      "(2199, 36)\n",
      "Variables original:  31\n",
      "Variables kept:  30\n"
     ]
    },
    {
     "name": "stderr",
     "output_type": "stream",
     "text": [
      " 80%|███████▉  | 101/127 [00:32<00:06,  4.10it/s]"
     ]
    },
    {
     "name": "stdout",
     "output_type": "stream",
     "text": [
      "(3014, 36)\n",
      "Variables original:  31\n",
      "Variables kept:  30\n"
     ]
    },
    {
     "name": "stderr",
     "output_type": "stream",
     "text": [
      " 81%|████████  | 103/127 [00:33<00:06,  3.60it/s]"
     ]
    },
    {
     "name": "stdout",
     "output_type": "stream",
     "text": [
      "(6227, 36)\n",
      "Variables original:  31\n",
      "Variables kept:  30\n",
      "(1086, 36)\n",
      "Variables original:  31\n",
      "Variables kept:  30\n"
     ]
    },
    {
     "name": "stderr",
     "output_type": "stream",
     "text": [
      " 82%|████████▏ | 104/127 [00:33<00:07,  3.07it/s]"
     ]
    },
    {
     "name": "stdout",
     "output_type": "stream",
     "text": [
      "(5977, 36)\n",
      "Variables original:  31\n",
      "Variables kept:  30\n"
     ]
    },
    {
     "name": "stderr",
     "output_type": "stream",
     "text": [
      " 83%|████████▎ | 106/127 [00:34<00:05,  3.78it/s]"
     ]
    },
    {
     "name": "stdout",
     "output_type": "stream",
     "text": [
      "(2359, 36)\n",
      "Variables original:  31\n",
      "Variables kept:  30\n",
      "(1546, 36)\n"
     ]
    },
    {
     "name": "stderr",
     "output_type": "stream",
     "text": [
      " 84%|████████▍ | 107/127 [00:34<00:05,  3.79it/s]"
     ]
    },
    {
     "name": "stdout",
     "output_type": "stream",
     "text": [
      "Variables original:  31\n",
      "Variables kept:  30\n",
      "(3038, 36)\n",
      "Variables original:  31\n",
      "Variables kept:  30\n"
     ]
    },
    {
     "name": "stderr",
     "output_type": "stream",
     "text": [
      " 85%|████████▌ | 108/127 [00:34<00:05,  3.31it/s]"
     ]
    },
    {
     "name": "stdout",
     "output_type": "stream",
     "text": [
      "(4460, 36)\n",
      "Variables original:  31\n",
      "Variables kept:  30\n"
     ]
    },
    {
     "name": "stderr",
     "output_type": "stream",
     "text": [
      " 87%|████████▋ | 110/127 [00:35<00:04,  4.07it/s]"
     ]
    },
    {
     "name": "stdout",
     "output_type": "stream",
     "text": [
      "(1540, 36)\n",
      "Variables original:  31\n",
      "Variables kept:  30\n",
      "(1653, 36)\n"
     ]
    },
    {
     "name": "stderr",
     "output_type": "stream",
     "text": [
      " 87%|████████▋ | 111/127 [00:35<00:04,  3.92it/s]"
     ]
    },
    {
     "name": "stdout",
     "output_type": "stream",
     "text": [
      "Variables original:  31\n",
      "Variables kept:  30\n",
      "(1963, 36)\n",
      "Variables original:  31\n",
      "Variables kept:  30\n"
     ]
    },
    {
     "name": "stderr",
     "output_type": "stream",
     "text": [
      " 89%|████████▉ | 113/127 [00:35<00:02,  5.46it/s]"
     ]
    },
    {
     "name": "stdout",
     "output_type": "stream",
     "text": [
      "(378, 36)\n",
      "Variables original:  31\n",
      "Variables kept:  30\n",
      "(634, 36)\n",
      "Variables original:  31\n",
      "Variables kept:  30\n"
     ]
    },
    {
     "name": "stderr",
     "output_type": "stream",
     "text": [
      " 91%|█████████ | 115/127 [00:39<00:09,  1.31it/s]"
     ]
    },
    {
     "name": "stdout",
     "output_type": "stream",
     "text": [
      "(48297, 36)\n",
      "Variables original:  30\n",
      "Variables kept:  29\n",
      "(977, 35)\n",
      "Variables original:  31\n",
      "Variables kept:  30\n"
     ]
    },
    {
     "name": "stderr",
     "output_type": "stream",
     "text": [
      " 91%|█████████▏| 116/127 [00:40<00:10,  1.08it/s]"
     ]
    },
    {
     "name": "stdout",
     "output_type": "stream",
     "text": [
      "(16799, 36)\n",
      "Variables original:  31\n",
      "Variables kept:  30\n"
     ]
    },
    {
     "name": "stderr",
     "output_type": "stream",
     "text": [
      " 92%|█████████▏| 117/127 [00:41<00:08,  1.23it/s]"
     ]
    },
    {
     "name": "stdout",
     "output_type": "stream",
     "text": [
      "(6946, 36)\n",
      "Variables original:  31\n",
      "Variables kept:  30\n"
     ]
    },
    {
     "name": "stderr",
     "output_type": "stream",
     "text": [
      " 93%|█████████▎| 118/127 [00:41<00:06,  1.48it/s]"
     ]
    },
    {
     "name": "stdout",
     "output_type": "stream",
     "text": [
      "(3419, 36)\n",
      "Variables original:  31\n",
      "Variables kept:  30\n"
     ]
    },
    {
     "name": "stderr",
     "output_type": "stream",
     "text": [
      " 94%|█████████▎| 119/127 [00:41<00:04,  1.78it/s]"
     ]
    },
    {
     "name": "stdout",
     "output_type": "stream",
     "text": [
      "(3002, 36)\n",
      "Variables original:  31\n",
      "Variables kept:  30\n"
     ]
    },
    {
     "name": "stderr",
     "output_type": "stream",
     "text": [
      " 94%|█████████▍| 120/127 [00:42<00:04,  1.49it/s]"
     ]
    },
    {
     "name": "stdout",
     "output_type": "stream",
     "text": [
      "(13009, 36)\n",
      "Variables original:  31\n",
      "Variables kept:  30\n"
     ]
    },
    {
     "name": "stderr",
     "output_type": "stream",
     "text": [
      " 95%|█████████▌| 121/127 [00:43<00:03,  1.70it/s]"
     ]
    },
    {
     "name": "stdout",
     "output_type": "stream",
     "text": [
      "(4427, 36)\n",
      "Variables original:  31\n",
      "Variables kept:  30\n"
     ]
    },
    {
     "name": "stderr",
     "output_type": "stream",
     "text": [
      " 96%|█████████▌| 122/127 [00:43<00:02,  2.03it/s]"
     ]
    },
    {
     "name": "stdout",
     "output_type": "stream",
     "text": [
      "(3244, 36)\n",
      "Variables original:  31\n",
      "Variables kept:  30\n"
     ]
    },
    {
     "name": "stderr",
     "output_type": "stream",
     "text": [
      " 98%|█████████▊| 124/127 [00:43<00:00,  3.12it/s]"
     ]
    },
    {
     "name": "stdout",
     "output_type": "stream",
     "text": [
      "(2301, 36)\n",
      "Variables original:  30\n",
      "Variables kept:  29\n",
      "(189, 35)\n",
      "Variables original:  31\n",
      "Variables kept:  30\n"
     ]
    },
    {
     "name": "stderr",
     "output_type": "stream",
     "text": [
      "100%|██████████| 127/127 [00:44<00:00,  2.87it/s]"
     ]
    },
    {
     "name": "stdout",
     "output_type": "stream",
     "text": [
      "(3981, 36)\n",
      "Variables original:  31\n",
      "Variables kept:  30\n",
      "(750, 36)\n",
      "Variables original:  31\n",
      "Variables kept:  30\n",
      "(683, 36)\n"
     ]
    },
    {
     "name": "stderr",
     "output_type": "stream",
     "text": [
      "\n"
     ]
    }
   ],
   "source": [
    "res = 8\n",
    "df_seg = get_cross(CURATED_FOLDER_LONG, obj_meta, res)\n",
    "df_seg.to_parquet(\n",
    "        CURATED_TARGET + f\"/c_seg_long_cat={n_cat}_res={res}.parquet\", index=False\n",
    "    )"
   ]
  },
  {
   "cell_type": "code",
   "execution_count": 17,
   "metadata": {},
   "outputs": [],
   "source": [
    "df_seg.to_parquet(\n",
    "        CURATED_TARGET + f\"/c_seg_long_cat={n_cat}_res={res}.parquet\", index=False\n",
    "    )"
   ]
  },
  {
   "cell_type": "code",
   "execution_count": null,
   "metadata": {},
   "outputs": [],
   "source": []
  }
 ],
 "metadata": {
  "kernelspec": {
   "display_name": "py312",
   "language": "python",
   "name": "python3"
  },
  "language_info": {
   "codemirror_mode": {
    "name": "ipython",
    "version": 3
   },
   "file_extension": ".py",
   "mimetype": "text/x-python",
   "name": "python",
   "nbconvert_exporter": "python",
   "pygments_lexer": "ipython3",
   "version": "3.12.6"
  }
 },
 "nbformat": 4,
 "nbformat_minor": 2
}
