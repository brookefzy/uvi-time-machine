{
 "cells": [
  {
   "cell_type": "code",
   "execution_count": 1,
   "metadata": {},
   "outputs": [],
   "source": [
    "import geopandas as gpd\n",
    "import pandas as pd\n",
    "import numpy as np\n",
    "import os\n",
    "import sys\n",
    "from sklearn.preprocessing import MinMaxScaler\n",
    "ROOT_DIR = \"../\"\n",
    "sys.path.append(ROOT_DIR)\n",
    "import matplotlib.pyplot as plt\n",
    "import seaborn as sns\n",
    "from utils.citymeta import load_all\n",
    "city_meta = load_all()\n",
    "plt.rcParams[\"figure.figsize\"] = [3, 4]\n",
    "plt.rcParams[\"figure.autolayout\"] = True\n",
    "plt.rcParams['svg.fonttype'] = 'none'\n"
   ]
  },
  {
   "cell_type": "code",
   "execution_count": 2,
   "metadata": {},
   "outputs": [],
   "source": [
    "# ROOT = \"/Users/yuan/Dropbox (Personal)/Personal Work/_Projects2023\"\n",
    "ROOT = \"D:/Dropbox (Personal)/Personal Work/_Projects2023\"\n",
    "TABLE_FOLDER = f\"{ROOT}/01_city-never-was/_table\"\n",
    "# ROOT = \"D:/Dropbox (Personal)/Personal Work/_Projects2023\"\n",
    "CURATED_FOLDER = f\"{ROOT}/01_city-never-was/_data/_curated\"\n",
    "\n",
    "EXPORT_FOLDER = f\"{ROOT}/01_city-never-was/_data/_curated/c_analysis\"\n",
    "DATA_FOLDER = f\"{CURATED_FOLDER}/c_seg_hex\"\n",
    "N = 8\n",
    "CITY_LEVEL_FILE = f\"c_city_full_cluster={N}.csv\"\n",
    "HEX_LEVEL_FILE = f\"c_hex_full_cluster={N}.csv\"\n",
    "\n",
    "city_df = pd.read_csv(os.path.join(EXPORT_FOLDER, CITY_LEVEL_FILE))\n",
    "hex_df = pd.read_csv(os.path.join(EXPORT_FOLDER, HEX_LEVEL_FILE))"
   ]
  },
  {
   "cell_type": "code",
   "execution_count": 3,
   "metadata": {},
   "outputs": [],
   "source": [
    "\n",
    "GRAPHIC_PATH = f\"{ROOT}/01_city-never-was/_graphic/cluster_figure\"\n",
    "if not os.path.exists(GRAPHIC_PATH):\n",
    "    os.makedirs(GRAPHIC_PATH)"
   ]
  },
  {
   "cell_type": "code",
   "execution_count": 24,
   "metadata": {},
   "outputs": [],
   "source": [
    "target_ls = [\n",
    "    'num_person_killed_per_lakh_city',\n",
    "    'num_person_killed_per_lakh_country',\n",
    "    'cardiovascular_diseases_cap',\n",
    "    'diabetes_mellitus_cap', \n",
    "    'mental_and_substance_use_disorders_cap',\n",
    "             ]\n",
    "# plot barplot by each city_group\n",
    "label_cols = {\n",
    "    \"gdp_per_cap_country_2022\":\"GDP Country-level\",\n",
    "    \"num_person_killed_per_lakh_city\":\"No. Person Killed Per Lakh\",\n",
    "    \"mean_flux\":\"CO2 Flux\"\n",
    "}\n",
    "\n",
    "color_schema = {\n",
    "    0:\"#12939A\", \n",
    "    1:\"#DDB27C\",\n",
    "    2:\"#88572C\",\n",
    "    3:\"#FF991F\",\n",
    "    4:\"#F15C17\",\n",
    "    5:\"#223F9A\",\n",
    "    6:\"#DA70BF\",\n",
    "    7:\"#125C77\"\n",
    "                }\n",
    "\n",
    "cluster_name = {\n",
    "0:\"openview highway connectors\",\n",
    "1:\"high-rise & car-oriented CBD\",\n",
    "2:\"vegetation-rich low density area\",\n",
    "3:\"scenery open space\",\n",
    "4:\"low-rise diverse street\",\n",
    "5:\"low-rise vegetated living community\",\n",
    "6:\"tunnel/bridge\",\n",
    "7:\"multi-modal traffic CBD\"\n",
    "} # need to find some example images to check the results"
   ]
  },
  {
   "cell_type": "code",
   "execution_count": null,
   "metadata": {},
   "outputs": [
    {
     "data": {
      "text/html": [
       "<div>\n",
       "<style scoped>\n",
       "    .dataframe tbody tr th:only-of-type {\n",
       "        vertical-align: middle;\n",
       "    }\n",
       "\n",
       "    .dataframe tbody tr th {\n",
       "        vertical-align: top;\n",
       "    }\n",
       "\n",
       "    .dataframe thead th {\n",
       "        text-align: right;\n",
       "    }\n",
       "</style>\n",
       "<table border=\"1\" class=\"dataframe\">\n",
       "  <thead>\n",
       "    <tr style=\"text-align: right;\">\n",
       "      <th></th>\n",
       "      <th>cluster_8</th>\n",
       "      <th>hex_count</th>\n",
       "      <th>cluster_name</th>\n",
       "    </tr>\n",
       "  </thead>\n",
       "  <tbody>\n",
       "    <tr>\n",
       "      <th>0</th>\n",
       "      <td>0</td>\n",
       "      <td>57771</td>\n",
       "      <td>openview highway connectors</td>\n",
       "    </tr>\n",
       "    <tr>\n",
       "      <th>1</th>\n",
       "      <td>1</td>\n",
       "      <td>46002</td>\n",
       "      <td>high-rise &amp; car-oriented CBD</td>\n",
       "    </tr>\n",
       "    <tr>\n",
       "      <th>2</th>\n",
       "      <td>2</td>\n",
       "      <td>41500</td>\n",
       "      <td>vegetation-rich low density area</td>\n",
       "    </tr>\n",
       "    <tr>\n",
       "      <th>3</th>\n",
       "      <td>3</td>\n",
       "      <td>40676</td>\n",
       "      <td>scenery open space</td>\n",
       "    </tr>\n",
       "    <tr>\n",
       "      <th>4</th>\n",
       "      <td>4</td>\n",
       "      <td>47746</td>\n",
       "      <td>low-rise diverse street</td>\n",
       "    </tr>\n",
       "    <tr>\n",
       "      <th>5</th>\n",
       "      <td>5</td>\n",
       "      <td>52214</td>\n",
       "      <td>low-rise vegetated living community</td>\n",
       "    </tr>\n",
       "    <tr>\n",
       "      <th>6</th>\n",
       "      <td>6</td>\n",
       "      <td>40002</td>\n",
       "      <td>tunnel/bridge</td>\n",
       "    </tr>\n",
       "    <tr>\n",
       "      <th>7</th>\n",
       "      <td>7</td>\n",
       "      <td>48690</td>\n",
       "      <td>multi-modal traffic CBD</td>\n",
       "    </tr>\n",
       "  </tbody>\n",
       "</table>\n",
       "</div>"
      ],
      "text/plain": [
       "   cluster_8  hex_count                         cluster_name\n",
       "0          0      57771          openview highway connectors\n",
       "1          1      46002         high-rise & car-oriented CBD\n",
       "2          2      41500     vegetation-rich low density area\n",
       "3          3      40676                   scenery open space\n",
       "4          4      47746              low-rise diverse street\n",
       "5          5      52214  low-rise vegetated living community\n",
       "6          6      40002                        tunnel/bridge\n",
       "7          7      48690              multi-modal traffic CBD"
      ]
     },
     "execution_count": 17,
     "metadata": {},
     "output_type": "execute_result"
    }
   ],
   "source": [
    "hex_df_summary = hex_df.groupby(\"cluster_8\").size().reset_index().rename(columns = {0: \"hex_count\"})\n",
    "hex_df_summary['cluster_name'] = hex_df_summary['cluster_8'].apply(lambda x:cluster_name[x])\n",
    "hex_df_summary"
   ]
  },
  {
   "cell_type": "code",
   "execution_count": 24,
   "metadata": {},
   "outputs": [
    {
     "data": {
      "text/plain": [
       "31340205"
      ]
     },
     "execution_count": 24,
     "metadata": {},
     "output_type": "execute_result"
    }
   ],
   "source": [
    "hex_df['img_count_city'].sum()"
   ]
  },
  {
   "cell_type": "code",
   "execution_count": 21,
   "metadata": {},
   "outputs": [],
   "source": [
    "hex_df_summary.to_csv(os.path.join(TABLE_FOLDER, \"hex_cluster.csv\"), index = False\n",
    "                      )"
   ]
  },
  {
   "cell_type": "code",
   "execution_count": 6,
   "metadata": {},
   "outputs": [],
   "source": [
    "# create ranking of target\n",
    "\n",
    "def generate_summary(target):\n",
    "    city_df[f'rank_{target}'] = city_df[target].rank(ascending=False)\n",
    "    city_df[f'rank_{target}'] = city_df[f'rank_{target}'].astype(int)\n",
    "    # city_df.sort_values(f'rank_{target}')[[f'rank_{target}', target, 'city_lower']]\n",
    "    # create quintile of the target\n",
    "    city_df[f'quintile_{target}'] = pd.qcut(city_df[target], 10, labels=False)\n",
    "    city_df[f'quintile_{target}'] = city_df[f'quintile_{target}'].astype(int)\n",
    "    city_df.sort_values(f'rank_{target}')[[f'quintile_{target}', target, 'city_lower']]\n",
    "    clustervari = [f'cluster_{i}' for i in range(N)]\n",
    "    city_df_summary = city_df[[f'quintile_{target}','city_lower']+clustervari].groupby(f'quintile_{target}')\\\n",
    "            .mean()\n",
    "    return city_df_summary\n"
   ]
  },
  {
   "cell_type": "code",
   "execution_count": 29,
   "metadata": {},
   "outputs": [],
   "source": [
    "\n",
    "cluster_column_order_num = [6,2,3,4,7,0,1,5] \n",
    "cluster_column_order = [f'cluster_{i}' for i in cluster_column_order_num]\n",
    "# city_df_summary = city_df_summary[cluster_column_order]"
   ]
  },
  {
   "cell_type": "code",
   "execution_count": 19,
   "metadata": {},
   "outputs": [
    {
     "name": "stderr",
     "output_type": "stream",
     "text": [
      "/var/folders/hw/_9ws64g138s7p677clyddq480000gn/T/ipykernel_24076/3235095235.py:27: UserWarning: FixedFormatter should only be used together with FixedLocator\n",
      "  ax.set_yticklabels(['{:,.0%}'.format(x) for x in ax.get_yticks()])\n"
     ]
    },
    {
     "data": {
      "image/png": "[encoded data removed]",
      "text/plain": [
       "<Figure size 576x216 with 1 Axes>"
      ]
     },
     "metadata": {
      "needs_background": "light"
     },
     "output_type": "display_data"
    }
   ],
   "source": [
    "# plot a stacked horizontal barchart to show the distribution of cluster in each quintile\n",
    "import matplotlib.pyplot as plt\n",
    "import seaborn as sns\n",
    "\n",
    "target = 'num_person_killed_per_lakh_city'\n",
    "# target = 'gdp_per_cap_country_2022'\n",
    "# target = 'mean_flux'\n",
    "city_df_summary = generate_summary(target)\n",
    "\n",
    "fig, ax = plt.subplots(figsize=(8,3))\n",
    "city_df_summary[cluster_column_order].plot(kind='bar', \n",
    "                                  stacked=True, \n",
    "                                    color=[color_schema[i] for i in cluster_column_order_num],\n",
    "                                  ax=ax)\n",
    "sns.despine()\n",
    "# move the legend to the right\n",
    "plt.legend(loc='center left', bbox_to_anchor=(1, 0.5),\n",
    "           # relabel the legend\n",
    "            labels=[cluster_name[i] for i in cluster_column_order_num]\n",
    "           )\n",
    "# y-axis label\n",
    "plt.xlabel(f\"10 Percentile of {label_cols[target]}\")\n",
    "# x-axis tick label horizontal\n",
    "plt.xticks(rotation=0)\n",
    "# x-axis label\n",
    "# convert x-axis to percentage\n",
    "ax.set_yticklabels(['{:,.0%}'.format(x) for x in ax.get_yticks()])\n",
    "plt.ylabel(\"Cluster Distribution\")\n",
    "\n",
    "plt.grid(axis='y', linestyle='--')\n",
    "\n",
    "plt.savefig(\n",
    "    os.path.join(GRAPHIC_PATH, f\"{target}_distribution.svg\"),\n",
    "    dpi = 200,\n",
    "    \n",
    "            )"
   ]
  },
  {
   "cell_type": "code",
   "execution_count": 21,
   "metadata": {},
   "outputs": [],
   "source": [
    "\n",
    "# sel_city = np.random.choice(city_df['City'], 30)\n",
    "# city_df['City'].unique()"
   ]
  },
  {
   "cell_type": "code",
   "execution_count": 30,
   "metadata": {},
   "outputs": [
    {
     "name": "stdout",
     "output_type": "stream",
     "text": [
      "31\n"
     ]
    }
   ],
   "source": [
    "# visualize several cities\n",
    "sel_city = [\n",
    "    'Stockholm',\n",
    "     'Munich',\n",
    "     'Milan',\n",
    "     'Madrid',\n",
    "    'Hong Kong', \n",
    "     'Singapore',\n",
    "     'Tokyo',\n",
    "            'London', \n",
    "           'Sydney',\n",
    "            'Montereal',\n",
    "            'New York',\n",
    "            'Boston', \n",
    "            'Denver',\n",
    "            'Santiago',\n",
    "            'Buenos Aires',\n",
    "            'Quito',\n",
    "            'Wellington',\n",
    "            \n",
    "            # 'Capetown',\n",
    "            'Johannesburg',\n",
    "            'Delhi',\n",
    "            'Bangalore',\n",
    "            'Medan',\n",
    "            'Lima',\n",
    "            \n",
    "            'Bangkok',\n",
    "            'Jakarta',\n",
    "            \n",
    "            'Gaborone',\n",
    "            'Accra',\n",
    "            'Capetown',\n",
    "            'Nairobi',\n",
    "            'Moscow',\n",
    "            'Palembang',\n",
    "            'Guadalajara'\n",
    "            ]\n",
    "print(len(sel_city))\n",
    "city_abbr_ls = [x.lower().replace(\" \", \"\") for x in sel_city]\n",
    "sel_df = city_df[city_df['City'].isin(sel_city)].reset_index(drop = True).sort_values(\n",
    "    'num_person_killed_per_lakh_city')\n",
    "sel_df = sel_df.set_index('City')[cluster_column_order]\n",
    "# sel_df"
   ]
  },
  {
   "cell_type": "code",
   "execution_count": 31,
   "metadata": {},
   "outputs": [
    {
     "name": "stderr",
     "output_type": "stream",
     "text": [
      "/var/folders/hw/_9ws64g138s7p677clyddq480000gn/T/ipykernel_17628/2503902679.py:16: UserWarning: FixedFormatter should only be used together with FixedLocator\n",
      "  ax.set_yticklabels(['{:,.0%}'.format(x) for x in ax.get_yticks()])\n"
     ]
    },
    {
     "data": {
      "image/png": "[encoded data removed]",
      "text/plain": [
       "<Figure size 1080x288 with 1 Axes>"
      ]
     },
     "metadata": {
      "needs_background": "light"
     },
     "output_type": "display_data"
    }
   ],
   "source": [
    "fig, ax = plt.subplots(figsize=(15,4))\n",
    "sel_df.plot(kind='bar', \n",
    "                    stacked=True, \n",
    "                      color=[color_schema[i] for i in cluster_column_order_num],\n",
    "                    ax=ax)\n",
    "sns.despine()\n",
    "# move the legend to the right\n",
    "plt.legend(loc='center left', bbox_to_anchor=(1, 0.5),\n",
    "           # relabel the legend\n",
    "            labels=[cluster_name[i] for i in cluster_column_order_num]\n",
    "           )\n",
    "# y-axis label\n",
    "# plt.xlabel(f\"10 Percentile of {label_cols[target]}\")\n",
    "# x-axis label\n",
    "# convert x-axis to percentage\n",
    "ax.set_yticklabels(['{:,.0%}'.format(x) for x in ax.get_yticks()])\n",
    "# rotate 45 degree for the x-axis\n",
    "plt.xticks(rotation=90)\n",
    "\n",
    "plt.ylabel(\"Cluster Distribution\")\n",
    "# show main grids\n",
    "plt.grid(axis='y', linestyle='--')\n",
    "\n",
    "plt.savefig(\n",
    "    os.path.join(GRAPHIC_PATH, \"cluster_distribution_selected_city.svg\"),\n",
    "    dpi = 200,\n",
    "    \n",
    "            )"
   ]
  },
  {
   "cell_type": "markdown",
   "metadata": {},
   "source": [
    "# Fig 2. Waze"
   ]
  },
  {
   "cell_type": "code",
   "execution_count": 5,
   "metadata": {},
   "outputs": [],
   "source": [
    "import numpy as np\n",
    "import pandas as pd\n",
    "import matplotlib.pyplot as plt\n",
    "from scipy.stats import binned_statistic\n"
   ]
  },
  {
   "cell_type": "code",
   "execution_count": 17,
   "metadata": {},
   "outputs": [],
   "source": [
    "city_df['log_waze'] = np.log(city_df['waze_accident_count'])\n",
    "city_df['log_road_fatality'] = np.log(city_df['num_person_killed_per_lakh_city'])\n",
    "x = 'log_waze'\n",
    "y = 'log_road_fatality'\n",
    "num_bins = 10\n",
    "statistic = 'mean'\n",
    "temp_df = city_df[[x, y]].dropna().reset_index(drop = True)\n",
    "bin_means_x, bin_edges, _ = binned_statistic(temp_df[x], temp_df[x], statistic=statistic, bins=num_bins)\n",
    "bin_means_y, _, _ = binned_statistic(temp_df[x], temp_df[y], statistic=statistic, bins=num_bins)\n",
    "bin_std_y, _, _ = binned_statistic(temp_df[x], temp_df[y], statistic='std', bins=num_bins)\n",
    "bin_count, _, _ = binned_statistic(temp_df[x], temp_df[y], statistic='count', bins=num_bins)\n",
    "bin_se_y = bin_std_y/np.sqrt(bin_count)\n"
   ]
  },
  {
   "cell_type": "code",
   "execution_count": 19,
   "metadata": {},
   "outputs": [
    {
     "data": {
      "text/plain": [
       "[<matplotlib.lines.Line2D at 0x1dc7ce85df0>]"
      ]
     },
     "execution_count": 19,
     "metadata": {},
     "output_type": "execute_result"
    },
    {
     "data": {
      "image/png": "[encoded data removed]",
      "text/plain": [
       "<Figure size 216x288 with 1 Axes>"
      ]
     },
     "metadata": {
      "needs_background": "light"
     },
     "output_type": "display_data"
    }
   ],
   "source": [
    "plt.scatter(temp_df[x], temp_df[y], alpha = 0.5)\n",
    "plt.errorbar(bin_means_x, bin_means_y, yerr=bin_se_y, fmt='o', color='red', label='Binned means')\n",
    "slope, intercept = np.polyfit(bin_means_x, bin_means_y, 1)\n",
    "plt.plot(temp_df[x], slope * temp_df[x] + intercept, color='blue', label=f'Regression line (slope={slope:.2f})')"
   ]
  },
  {
   "cell_type": "code",
   "execution_count": 25,
   "metadata": {},
   "outputs": [],
   "source": [
    "hex_df['cluster_des'] = hex_df['cluster_8'].apply(lambda x:cluster_name[x])\n",
    "hex_df['log_waze'] = np.log(hex_df['waze_accident_count']+1)"
   ]
  },
  {
   "cell_type": "code",
   "execution_count": 22,
   "metadata": {},
   "outputs": [
    {
     "data": {
      "text/html": [
       "<div>\n",
       "<style scoped>\n",
       "    .dataframe tbody tr th:only-of-type {\n",
       "        vertical-align: middle;\n",
       "    }\n",
       "\n",
       "    .dataframe tbody tr th {\n",
       "        vertical-align: top;\n",
       "    }\n",
       "\n",
       "    .dataframe thead th {\n",
       "        text-align: right;\n",
       "    }\n",
       "</style>\n",
       "<table border=\"1\" class=\"dataframe\">\n",
       "  <thead>\n",
       "    <tr style=\"text-align: right;\">\n",
       "      <th></th>\n",
       "      <th>count</th>\n",
       "      <th>mean</th>\n",
       "      <th>std</th>\n",
       "      <th>min</th>\n",
       "      <th>25%</th>\n",
       "      <th>50%</th>\n",
       "      <th>75%</th>\n",
       "      <th>max</th>\n",
       "    </tr>\n",
       "    <tr>\n",
       "      <th>cluster_8</th>\n",
       "      <th></th>\n",
       "      <th></th>\n",
       "      <th></th>\n",
       "      <th></th>\n",
       "      <th></th>\n",
       "      <th></th>\n",
       "      <th></th>\n",
       "      <th></th>\n",
       "    </tr>\n",
       "  </thead>\n",
       "  <tbody>\n",
       "    <tr>\n",
       "      <th>0</th>\n",
       "      <td>57771.0</td>\n",
       "      <td>0.050129</td>\n",
       "      <td>0.373727</td>\n",
       "      <td>0.0</td>\n",
       "      <td>0.0</td>\n",
       "      <td>0.0</td>\n",
       "      <td>0.0</td>\n",
       "      <td>16.0</td>\n",
       "    </tr>\n",
       "    <tr>\n",
       "      <th>1</th>\n",
       "      <td>46002.0</td>\n",
       "      <td>0.037651</td>\n",
       "      <td>0.314736</td>\n",
       "      <td>0.0</td>\n",
       "      <td>0.0</td>\n",
       "      <td>0.0</td>\n",
       "      <td>0.0</td>\n",
       "      <td>10.0</td>\n",
       "    </tr>\n",
       "    <tr>\n",
       "      <th>2</th>\n",
       "      <td>41500.0</td>\n",
       "      <td>0.004747</td>\n",
       "      <td>0.092368</td>\n",
       "      <td>0.0</td>\n",
       "      <td>0.0</td>\n",
       "      <td>0.0</td>\n",
       "      <td>0.0</td>\n",
       "      <td>8.0</td>\n",
       "    </tr>\n",
       "    <tr>\n",
       "      <th>3</th>\n",
       "      <td>40676.0</td>\n",
       "      <td>0.001106</td>\n",
       "      <td>0.045700</td>\n",
       "      <td>0.0</td>\n",
       "      <td>0.0</td>\n",
       "      <td>0.0</td>\n",
       "      <td>0.0</td>\n",
       "      <td>5.0</td>\n",
       "    </tr>\n",
       "    <tr>\n",
       "      <th>4</th>\n",
       "      <td>47746.0</td>\n",
       "      <td>0.007163</td>\n",
       "      <td>0.139231</td>\n",
       "      <td>0.0</td>\n",
       "      <td>0.0</td>\n",
       "      <td>0.0</td>\n",
       "      <td>0.0</td>\n",
       "      <td>8.0</td>\n",
       "    </tr>\n",
       "    <tr>\n",
       "      <th>5</th>\n",
       "      <td>52214.0</td>\n",
       "      <td>0.007469</td>\n",
       "      <td>0.129903</td>\n",
       "      <td>0.0</td>\n",
       "      <td>0.0</td>\n",
       "      <td>0.0</td>\n",
       "      <td>0.0</td>\n",
       "      <td>10.0</td>\n",
       "    </tr>\n",
       "    <tr>\n",
       "      <th>6</th>\n",
       "      <td>40002.0</td>\n",
       "      <td>0.004000</td>\n",
       "      <td>0.144857</td>\n",
       "      <td>0.0</td>\n",
       "      <td>0.0</td>\n",
       "      <td>0.0</td>\n",
       "      <td>0.0</td>\n",
       "      <td>24.0</td>\n",
       "    </tr>\n",
       "    <tr>\n",
       "      <th>7</th>\n",
       "      <td>48690.0</td>\n",
       "      <td>0.050483</td>\n",
       "      <td>0.408979</td>\n",
       "      <td>0.0</td>\n",
       "      <td>0.0</td>\n",
       "      <td>0.0</td>\n",
       "      <td>0.0</td>\n",
       "      <td>19.0</td>\n",
       "    </tr>\n",
       "  </tbody>\n",
       "</table>\n",
       "</div>"
      ],
      "text/plain": [
       "             count      mean       std  min  25%  50%  75%   max\n",
       "cluster_8                                                       \n",
       "0          57771.0  0.050129  0.373727  0.0  0.0  0.0  0.0  16.0\n",
       "1          46002.0  0.037651  0.314736  0.0  0.0  0.0  0.0  10.0\n",
       "2          41500.0  0.004747  0.092368  0.0  0.0  0.0  0.0   8.0\n",
       "3          40676.0  0.001106  0.045700  0.0  0.0  0.0  0.0   5.0\n",
       "4          47746.0  0.007163  0.139231  0.0  0.0  0.0  0.0   8.0\n",
       "5          52214.0  0.007469  0.129903  0.0  0.0  0.0  0.0  10.0\n",
       "6          40002.0  0.004000  0.144857  0.0  0.0  0.0  0.0  24.0\n",
       "7          48690.0  0.050483  0.408979  0.0  0.0  0.0  0.0  19.0"
      ]
     },
     "execution_count": 22,
     "metadata": {},
     "output_type": "execute_result"
    }
   ],
   "source": [
    "hex_df.groupby(['cluster_8'])['waze_accident_count'].describe()"
   ]
  },
  {
   "cell_type": "code",
   "execution_count": 33,
   "metadata": {},
   "outputs": [
    {
     "name": "stderr",
     "output_type": "stream",
     "text": [
      "C:\\Users\\yuanzfan\\AppData\\Local\\Temp\\ipykernel_22792\\2120151876.py:3: FutureWarning: \n",
      "\n",
      "Passing `palette` without assigning `hue` is deprecated and will be removed in v0.14.0. Assign the `x` variable to `hue` and set `legend=False` for the same effect.\n",
      "\n",
      "  sns.pointplot(\n"
     ]
    },
    {
     "data": {
      "text/plain": [
       "Text(0.5, 1.0, 'Waze Accident Count by Cluster')"
      ]
     },
     "execution_count": 33,
     "metadata": {},
     "output_type": "execute_result"
    },
    {
     "data": {
      "image/png": "[encoded data removed]",
      "text/plain": [
       "<Figure size 576x288 with 1 Axes>"
      ]
     },
     "metadata": {
      "needs_background": "light"
     },
     "output_type": "display_data"
    }
   ],
   "source": [
    "# sns.histplot(data = hex_df, x = 'log_waze', hue = 'cluster_des', bins = 50, kde = True)\n",
    "fig, ax = plt.subplots(figsize=(8,4))\n",
    "sns.pointplot(\n",
    "    data = hex_df,\n",
    "    x = 'cluster_des',\n",
    "    y = 'log_waze',\n",
    "    palette = [color_schema[i] for i in cluster_column_order_num],\n",
    "    # hide the outliers\n",
    "    # showfliers = False,\n",
    "            )\n",
    "plt.xticks(rotation=90)\n",
    "plt.ylabel(\"Log Waze Accident Count\")\n",
    "plt.xlabel(\"Cluster Description\")\n",
    "plt.title(\"Waze Accident Count by Cluster\")\n"
   ]
  },
  {
   "cell_type": "code",
   "execution_count": 42,
   "metadata": {},
   "outputs": [],
   "source": [
    "# run negative binomial regression to see the contribution of each cluster to the accident count\n",
    "import statsmodels.api as sm\n",
    "import statsmodels.formula.api as smf\n",
    "from statsmodels.discrete.discrete_model import NegativeBinomial\n",
    "from statsmodels.discrete.discrete_model import Poisson\n",
    "\n",
    "# convert the cluster to dummy variable"
   ]
  },
  {
   "cell_type": "code",
   "execution_count": 45,
   "metadata": {},
   "outputs": [
    {
     "name": "stderr",
     "output_type": "stream",
     "text": [
      "c:\\Users\\yuanzfan\\Anaconda3\\envs\\geo38\\lib\\site-packages\\statsmodels\\discrete\\discrete_model.py:2909: RuntimeWarning: overflow encountered in square\n",
      "  a = ((resid**2 / mu - 1) / mu).sum() / df_resid\n",
      "c:\\Users\\yuanzfan\\Anaconda3\\envs\\geo38\\lib\\site-packages\\statsmodels\\discrete\\discrete_model.py:2649: RuntimeWarning: invalid value encountered in subtract\n",
      "  coeff = (gamma_ln(size+endog) - gamma_ln(endog+1) -\n",
      "c:\\Users\\yuanzfan\\Anaconda3\\envs\\geo38\\lib\\site-packages\\statsmodels\\discrete\\discrete_model.py:2651: RuntimeWarning: divide by zero encountered in log\n",
      "  llf = coeff + size*np.log(prob) + endog*np.log(1-prob)\n",
      "c:\\Users\\yuanzfan\\Anaconda3\\envs\\geo38\\lib\\site-packages\\statsmodels\\discrete\\discrete_model.py:2651: RuntimeWarning: invalid value encountered in multiply\n",
      "  llf = coeff + size*np.log(prob) + endog*np.log(1-prob)\n",
      "c:\\Users\\yuanzfan\\Anaconda3\\envs\\geo38\\lib\\site-packages\\statsmodels\\discrete\\discrete_model.py:2741: RuntimeWarning: invalid value encountered in subtract\n",
      "  dgpart = digamma(y + a1) - digamma(a1)\n",
      "c:\\Users\\yuanzfan\\Anaconda3\\envs\\geo38\\lib\\site-packages\\statsmodels\\discrete\\discrete_model.py:2744: RuntimeWarning: divide by zero encountered in log\n",
      "  dalpha = (dgpart + np.log(a1)\n",
      "c:\\Users\\yuanzfan\\Anaconda3\\envs\\geo38\\lib\\site-packages\\statsmodels\\discrete\\discrete_model.py:2744: RuntimeWarning: invalid value encountered in add\n",
      "  dalpha = (dgpart + np.log(a1)\n",
      "c:\\Users\\yuanzfan\\Anaconda3\\envs\\geo38\\lib\\site-packages\\statsmodels\\discrete\\discrete_model.py:2854: RuntimeWarning: invalid value encountered in subtract\n",
      "  dgpart = digamma(a1 + y) - digamma(a1)\n",
      "c:\\Users\\yuanzfan\\Anaconda3\\envs\\geo38\\lib\\site-packages\\statsmodels\\discrete\\discrete_model.py:2859: RuntimeWarning: overflow encountered in square\n",
      "  const_arr = a1*mu*(a1+y)/(mu+a1)**2\n"
     ]
    },
    {
     "name": "stdout",
     "output_type": "stream",
     "text": [
      "Warning: NaN result encountered.\n",
      "         Current function value: nan\n",
      "         Iterations: 0\n",
      "         Function evaluations: 1\n",
      "         Gradient evaluations: 1\n"
     ]
    },
    {
     "name": "stderr",
     "output_type": "stream",
     "text": [
      "c:\\Users\\yuanzfan\\Anaconda3\\envs\\geo38\\lib\\site-packages\\statsmodels\\discrete\\discrete_model.py:2871: RuntimeWarning: overflow encountered in multiply\n",
      "  dldpda = -np.sum(mu*exog*(y-mu)*a1**2/(mu+a1)**2 , axis=0)\n",
      "c:\\Users\\yuanzfan\\Anaconda3\\envs\\geo38\\lib\\site-packages\\statsmodels\\discrete\\discrete_model.py:2871: RuntimeWarning: invalid value encountered in multiply\n",
      "  dldpda = -np.sum(mu*exog*(y-mu)*a1**2/(mu+a1)**2 , axis=0)\n",
      "c:\\Users\\yuanzfan\\Anaconda3\\envs\\geo38\\lib\\site-packages\\statsmodels\\discrete\\discrete_model.py:2871: RuntimeWarning: overflow encountered in square\n",
      "  dldpda = -np.sum(mu*exog*(y-mu)*a1**2/(mu+a1)**2 , axis=0)\n",
      "c:\\Users\\yuanzfan\\Anaconda3\\envs\\geo38\\lib\\site-packages\\statsmodels\\discrete\\discrete_model.py:2879: RuntimeWarning: divide by zero encountered in log\n",
      "  np.log(prob) - (y - mu)/(a1+mu))\n",
      "c:\\Users\\yuanzfan\\Anaconda3\\envs\\geo38\\lib\\site-packages\\statsmodels\\discrete\\discrete_model.py:2878: RuntimeWarning: invalid value encountered in add\n",
      "  dalpha = da1 * (dgpart +\n",
      "c:\\Users\\yuanzfan\\Anaconda3\\envs\\geo38\\lib\\site-packages\\statsmodels\\discrete\\discrete_model.py:2880: RuntimeWarning: invalid value encountered in subtract\n",
      "  dada = (da2 * dalpha/da1 + da1**2 * (special.polygamma(1, a1+y) -\n",
      "c:\\Users\\yuanzfan\\Anaconda3\\envs\\geo38\\lib\\site-packages\\statsmodels\\discrete\\discrete_model.py:2881: RuntimeWarning: divide by zero encountered in scalar divide\n",
      "  special.polygamma(1, a1) + 1/a1 - 1/(a1 + mu) +\n",
      "c:\\Users\\yuanzfan\\Anaconda3\\envs\\geo38\\lib\\site-packages\\statsmodels\\discrete\\discrete_model.py:2880: RuntimeWarning: invalid value encountered in add\n",
      "  dada = (da2 * dalpha/da1 + da1**2 * (special.polygamma(1, a1+y) -\n",
      "c:\\Users\\yuanzfan\\Anaconda3\\envs\\geo38\\lib\\site-packages\\statsmodels\\discrete\\discrete_model.py:2882: RuntimeWarning: overflow encountered in square\n",
      "  (y - mu)/(mu + a1)**2)).sum()\n",
      "c:\\Users\\yuanzfan\\Anaconda3\\envs\\geo38\\lib\\site-packages\\statsmodels\\base\\model.py:592: HessianInversionWarning: Inverting hessian failed, no bse or cov_params available\n",
      "  warnings.warn('Inverting hessian failed, no bse or cov_params '\n",
      "c:\\Users\\yuanzfan\\Anaconda3\\envs\\geo38\\lib\\site-packages\\statsmodels\\base\\model.py:604: ConvergenceWarning: Maximum Likelihood optimization failed to converge. Check mle_retvals\n",
      "  warnings.warn(\"Maximum Likelihood optimization failed to \"\n"
     ]
    },
    {
     "data": {
      "text/html": [
       "<table class=\"simpletable\">\n",
       "<caption>NegativeBinomial Regression Results</caption>\n",
       "<tr>\n",
       "  <th>Dep. Variable:</th>   <td>waze_accident_count</td> <th>  No. Observations:  </th>  <td>374601</td> \n",
       "</tr>\n",
       "<tr>\n",
       "  <th>Model:</th>            <td>NegativeBinomial</td>   <th>  Df Residuals:      </th>  <td>374590</td> \n",
       "</tr>\n",
       "<tr>\n",
       "  <th>Method:</th>                  <td>MLE</td>         <th>  Df Model:          </th>  <td>    10</td> \n",
       "</tr>\n",
       "<tr>\n",
       "  <th>Date:</th>             <td>Wed, 28 Aug 2024</td>   <th>  Pseudo R-squ.:     </th>  <td>   nan</td> \n",
       "</tr>\n",
       "<tr>\n",
       "  <th>Time:</th>                 <td>11:58:02</td>       <th>  Log-Likelihood:    </th> <td>     nan</td>\n",
       "</tr>\n",
       "<tr>\n",
       "  <th>converged:</th>              <td>False</td>        <th>  LL-Null:           </th> <td> -31469.</td>\n",
       "</tr>\n",
       "<tr>\n",
       "  <th>Covariance Type:</th>      <td>nonrobust</td>      <th>  LLR p-value:       </th>  <td>   nan</td> \n",
       "</tr>\n",
       "</table>\n",
       "<table class=\"simpletable\">\n",
       "<tr>\n",
       "                       <td></td>                          <th>coef</th>     <th>std err</th>      <th>z</th>      <th>P>|z|</th>  <th>[0.025</th>    <th>0.975]</th>  \n",
       "</tr>\n",
       "<tr>\n",
       "  <th>const</th>                                       <td>  -38.8193</td> <td>      nan</td> <td>      nan</td> <td>   nan</td> <td>      nan</td> <td>      nan</td>\n",
       "</tr>\n",
       "<tr>\n",
       "  <th>index</th>                                       <td>    0.0010</td> <td>      nan</td> <td>      nan</td> <td>   nan</td> <td>      nan</td> <td>      nan</td>\n",
       "</tr>\n",
       "<tr>\n",
       "  <th>cluster_high-rise & car-oriented CBD</th>        <td>    0.0010</td> <td>      nan</td> <td>      nan</td> <td>   nan</td> <td>      nan</td> <td>      nan</td>\n",
       "</tr>\n",
       "<tr>\n",
       "  <th>cluster_low-rise diverse street</th>             <td>    0.0010</td> <td>      nan</td> <td>      nan</td> <td>   nan</td> <td>      nan</td> <td>      nan</td>\n",
       "</tr>\n",
       "<tr>\n",
       "  <th>cluster_low-rise vegetated living community</th> <td>    0.0010</td> <td>      nan</td> <td>      nan</td> <td>   nan</td> <td>      nan</td> <td>      nan</td>\n",
       "</tr>\n",
       "<tr>\n",
       "  <th>cluster_multi-modal traffic CBD</th>             <td>    0.0010</td> <td>      nan</td> <td>      nan</td> <td>   nan</td> <td>      nan</td> <td>      nan</td>\n",
       "</tr>\n",
       "<tr>\n",
       "  <th>cluster_openview highway connectors</th>         <td>    0.0010</td> <td>      nan</td> <td>      nan</td> <td>   nan</td> <td>      nan</td> <td>      nan</td>\n",
       "</tr>\n",
       "<tr>\n",
       "  <th>cluster_tunnel/bridge</th>                       <td>    0.0010</td> <td>      nan</td> <td>      nan</td> <td>   nan</td> <td>      nan</td> <td>      nan</td>\n",
       "</tr>\n",
       "<tr>\n",
       "  <th>cluster_vegetation-rich low density area</th>    <td>    0.0010</td> <td>      nan</td> <td>      nan</td> <td>   nan</td> <td>      nan</td> <td>      nan</td>\n",
       "</tr>\n",
       "<tr>\n",
       "  <th>gdp_per_cap_country_2022</th>                    <td>    0.0010</td> <td>      nan</td> <td>      nan</td> <td>   nan</td> <td>      nan</td> <td>      nan</td>\n",
       "</tr>\n",
       "<tr>\n",
       "  <th>mean_flux</th>                                   <td>    0.0010</td> <td>      nan</td> <td>      nan</td> <td>   nan</td> <td>      nan</td> <td>      nan</td>\n",
       "</tr>\n",
       "<tr>\n",
       "  <th>alpha</th>                                       <td>       inf</td> <td>      nan</td> <td>      nan</td> <td>   nan</td> <td>      nan</td> <td>      nan</td>\n",
       "</tr>\n",
       "</table>"
      ],
      "text/plain": [
       "<class 'statsmodels.iolib.summary.Summary'>\n",
       "\"\"\"\n",
       "                      NegativeBinomial Regression Results                      \n",
       "===============================================================================\n",
       "Dep. Variable:     waze_accident_count   No. Observations:               374601\n",
       "Model:                NegativeBinomial   Df Residuals:                   374590\n",
       "Method:                            MLE   Df Model:                           10\n",
       "Date:                 Wed, 28 Aug 2024   Pseudo R-squ.:                     nan\n",
       "Time:                         11:58:02   Log-Likelihood:                    nan\n",
       "converged:                       False   LL-Null:                       -31469.\n",
       "Covariance Type:             nonrobust   LLR p-value:                       nan\n",
       "===============================================================================================================\n",
       "                                                  coef    std err          z      P>|z|      [0.025      0.975]\n",
       "---------------------------------------------------------------------------------------------------------------\n",
       "const                                         -38.8193        nan        nan        nan         nan         nan\n",
       "index                                           0.0010        nan        nan        nan         nan         nan\n",
       "cluster_high-rise & car-oriented CBD            0.0010        nan        nan        nan         nan         nan\n",
       "cluster_low-rise diverse street                 0.0010        nan        nan        nan         nan         nan\n",
       "cluster_low-rise vegetated living community     0.0010        nan        nan        nan         nan         nan\n",
       "cluster_multi-modal traffic CBD                 0.0010        nan        nan        nan         nan         nan\n",
       "cluster_openview highway connectors             0.0010        nan        nan        nan         nan         nan\n",
       "cluster_tunnel/bridge                           0.0010        nan        nan        nan         nan         nan\n",
       "cluster_vegetation-rich low density area        0.0010        nan        nan        nan         nan         nan\n",
       "gdp_per_cap_country_2022                        0.0010        nan        nan        nan         nan         nan\n",
       "mean_flux                                       0.0010        nan        nan        nan         nan         nan\n",
       "alpha                                              inf        nan        nan        nan         nan         nan\n",
       "===============================================================================================================\n",
       "\"\"\""
      ]
     },
     "execution_count": 45,
     "metadata": {},
     "output_type": "execute_result"
    }
   ],
   "source": [
    "# drop the scenery open space and merge back to the hex_df\n",
    "cluster_dummy = pd.get_dummies(hex_df['cluster_des'], prefix = 'cluster')\n",
    "cluster_dummy = cluster_dummy.drop(columns = ['cluster_scenery open space']).reset_index()\n",
    "data_df = pd.concat([hex_df, cluster_dummy], axis = 1)\n",
    "data = data_df[list(cluster_dummy.columns)+['gdp_per_cap_country_2022', 'mean_flux','waze_accident_count']].dropna().reset_index(drop = True)\n",
    "X = data.drop(columns = ['waze_accident_count'])\n",
    "y = data['waze_accident_count']\n",
    "X = sm.add_constant(X)\n",
    "model = NegativeBinomial(y, X)\n",
    "result = model.fit()\n",
    "result.summary()"
   ]
  },
  {
   "cell_type": "code",
   "execution_count": null,
   "metadata": {},
   "outputs": [],
   "source": []
  }
 ],
 "metadata": {
  "kernelspec": {
   "display_name": "geo38",
   "language": "python",
   "name": "python3"
  },
  "language_info": {
   "codemirror_mode": {
    "name": "ipython",
    "version": 3
   },
   "file_extension": ".py",
   "mimetype": "text/x-python",
   "name": "python",
   "nbconvert_exporter": "python",
   "pygments_lexer": "ipython3",
   "version": "3.8.13"
  }
 },
 "nbformat": 4,
 "nbformat_minor": 2
}
