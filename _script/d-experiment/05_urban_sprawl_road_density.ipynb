{
 "cells": [
  {
   "cell_type": "markdown",
   "metadata": {},
   "source": [
    "# Road density\n",
    "Calculate the length of road per h3 grid\n"
   ]
  },
  {
   "cell_type": "code",
   "execution_count": null,
   "metadata": {},
   "outputs": [],
   "source": [
    "import pandas as pd\n",
    "import numpy as np\n",
    "import matplotlib.pyplot as plt\n",
    "import os\n",
    "\n",
    "import glob\n",
    "import sys\n",
    "\n",
    "ROOT_DIR = os.path.abspath(\"../\")\n",
    "sys.path.append(ROOT_DIR)\n",
    "import h3\n",
    "import geopandas as gpd\n",
    "import argparse\n",
    "from shapely.geometry import Polygon\n",
    "import h3\n",
    "\n",
    "ROOTFOLDER = \"/lustre1/g/geog_pyloo/05_timemachine\"\n",
    "GSVROOT = \"/lustre1/g/geog_pyloo/05_timemachine/GSV/gsv_rgb\"\n",
    "ROOTFOLDER = \"/lustre1/g/geog_pyloo/05_timemachine\"\n",
    "DATA_FOLDER = f\"{ROOTFOLDER}/_curated/c_seg_hex\"\n",
    "EXPORT_FOLDER = f\"{ROOTFOLDER}/_curated/c_hex_road\"\n",
    "os.makedirs(EXPORT_FOLDER, exist_ok=True)\n",
    "\n",
    "res = 9\n",
    "N_CAT = 27\n",
    "BOUND_FOLDER = f\"{ROOTFOLDER}/_raw/r_boundary_osm\"\n",
    "FILENAME = \"c_seg_cat={n_cat}_res={res}.parquet\"\n",
    "FILENAME_WITHIN = \"c_seg_cat={n_cat}_res={res}_withincity.parquet\""
   ]
  },
  {
   "cell_type": "code",
   "execution_count": null,
   "metadata": {},
   "outputs": [],
   "source": [
    "def load_hex(res, n_cat):\n",
    "    df = pd.read_parquet(f\"{DATA_FOLDER}/{FILENAME.format(n_cat=n_cat, res=res)}\")\n",
    "    return df\n",
    "def get_road_segment_one_city(citylower):\n",
    "    road = gpd.read_file(f\"{GSVROOT}/{citylower}/road/osm.geojson\")\n",
    "    road = road.to_crs(epsg=4326)\n",
    "    # load h3 index with panoid downloaded\n",
    "    hexdf = load_hex(res, N_CAT)\n",
    "    hexdf_sel = hexdf[hexdf['city_lower']==citylower].reset_index(drop = True)[['hex_id','city_lower']]\n",
    "    hexgdf_sel = gpd.GeoDataFrame(hexdf_sel, \n",
    "                                geometry= hexdf_sel['hex_id'].apply(lambda x: Polygon(h3.h3_to_geo_boundary(x,geo_json=True))),\n",
    "                                    crs = 'EPSG:4326')\n",
    "    road_sel = gpd.overlay(road, hexgdf_sel, how='intersection')\n",
    "    # get length after intersection into meter\n",
    "    road_sel = gpd.overlay(road, hexgdf_sel[['geometry','hex_id']], how='intersection')\n",
    "    road_sel = road_sel.to_crs(epsg=3857)\n",
    "    road_sel['length_intersection_meter'] = road_sel['geometry'].length\n",
    "    # road_sel['proportion'] = road_sel['length_intersection_meter']/road_sel['length_meter']\n",
    "\n",
    "    road_sel_h3 = road_sel.groupby('hex_id').agg({'length_intersection_meter':'sum'}).reset_index()\n",
    "    road_sel_h3.to_csv(f\"{citylower}_road_length.csv\", index=False)\n",
    "\n",
    "hexdf = load_hex(res, N_CAT)\n",
    "for citylower in hexdf['city_lower'].unique():\n",
    "    get_road_segment_one_city(citylower)\n",
    "    print(citylower)"
   ]
  },
  {
   "cell_type": "markdown",
   "metadata": {},
   "source": []
  }
 ],
 "metadata": {
  "kernelspec": {
   "display_name": "py312",
   "language": "python",
   "name": "python3"
  },
  "language_info": {
   "codemirror_mode": {
    "name": "ipython",
    "version": 3
   },
   "file_extension": ".py",
   "mimetype": "text/x-python",
   "name": "python",
   "nbconvert_exporter": "python",
   "pygments_lexer": "ipython3",
   "version": "3.12.6"
  }
 },
 "nbformat": 4,
 "nbformat_minor": 2
}
