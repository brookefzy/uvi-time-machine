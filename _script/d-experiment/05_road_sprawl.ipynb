{
 "cells": [
  {
   "cell_type": "markdown",
   "metadata": {},
   "source": [
    "# This script cleans up the data from PNAS - urban sprawl paper\n",
    "https://gitlab.com/cpbl/global-sprawl-2020"
   ]
  },
  {
   "cell_type": "code",
   "execution_count": 23,
   "metadata": {},
   "outputs": [
    {
     "name": "stdout",
     "output_type": "stream",
     "text": [
      "['res=8', 'res=9']\n"
     ]
    }
   ],
   "source": [
    "import pandas as pd\n",
    "import os\n",
    "import numpy as np\n",
    "RAW_FOLDER = \"/Users/yuan/Dropbox (Personal)/Personal Work/_Projects2023/01_city-never-was/_data/_raw/r_road_sprawl_index\"\n",
    "CURATE_FOLDER_ROAD = \"/Users/yuan/Dropbox (Personal)/Personal Work/_Projects2023/01_city-never-was/_data/_curated/c_hex_road\"\n",
    "print(os.listdir(CURATE_FOLDER_ROAD))\n",
    "\n",
    "RAW_FILE = \"pnas-urban-sprawl_city.xlsx\"\n",
    "ROOT = \"/Users/yuan/Dropbox (Personal)/Personal Work/_Projects2023\"\n",
    "# ROOT = \"D:/Dropbox (Personal)/Personal Work/_Projects2023\"\n",
    "CURATED_FOLDER = f\"{ROOT}/01_city-never-was/_data/_curated/\"\n",
    "EXPORT_FOLDER = f\"{ROOT}/01_city-never-was/_data/_curated/c_analysis\"\n",
    "\n",
    "\n"
   ]
  },
  {
   "cell_type": "code",
   "execution_count": 11,
   "metadata": {},
   "outputs": [],
   "source": [
    "city_df_basics = pd.read_csv(os.path.join(EXPORT_FOLDER, \n",
    "                            f\"c_city_full_cluster=8_basics.csv\")) # these are the old data\n",
    "df = pd.read_excel(os.path.join(RAW_FOLDER, RAW_FILE), header=[0,1])\n",
    "df.columns = df.columns.map('_'.join)\n",
    "df.rename(columns={'Unnamed: 0_level_0_Unnamed: 0_level_1':'city_country'}, inplace=True)\n",
    "df.columns = [x.replace(' ', '_').replace('(', '').replace(')', '') for x in df.columns]\n",
    "df['city'] = df['city_country'].apply(lambda x: x.split(',')[0])\n",
    "df['city_lower'] = df['city'].apply(lambda x: x.lower().replace(' ', ''))"
   ]
  },
  {
   "cell_type": "code",
   "execution_count": null,
   "metadata": {},
   "outputs": [
    {
     "name": "stdout",
     "output_type": "stream",
     "text": [
      "79 111 186\n",
      "{'wellington', 'brussels', 'amsterdam', 'copenhagen', 'munich', 'jerusalem', 'boston', 'delhi', 'parbhani', 'detroit', 'bangalore', 'jalna', 'bogotá', 'kualalumpur', 'capetown', 'rome', 'kyiv', 'miami', 'riodejaneiro', 'ilheus', 'denver', 'stockholm', 'gaborone', 'nairobi', 'athens', 'toronto', 'sitapur', 'lima', 'metromanila', 'sanfrancisco', 'jakarta', 'dubai'}\n"
     ]
    }
   ],
   "source": [
    "# check city names overlap\n",
    "correct = set(city_df_basics['city_lower'].values).intersection(set(df['city_lower'].values))\n",
    "print(len(correct), len(city_df_basics), len(df))\n",
    "\n",
    "missing = set(city_df_basics['city_lower'].values).difference(set(df['city_lower'].values))\n",
    "print(missing)\n",
    "df.to_csv(os.path.join(EXPORT_FOLDER, 'c_urban_sprawl.csv'), index=False)"
   ]
  },
  {
   "cell_type": "code",
   "execution_count": 19,
   "metadata": {},
   "outputs": [],
   "source": [
    "df.to_csv(os.path.join(EXPORT_FOLDER, 'c_urban_sprawl.csv'), index=False)"
   ]
  },
  {
   "cell_type": "code",
   "execution_count": 29,
   "metadata": {},
   "outputs": [],
   "source": [
    "import glob\n",
    "all_road_hex_files = glob.glob(CURATE_FOLDER_ROAD+\"/**/*.csv\", recursive=True)\n",
    "for res in [8,9]:\n",
    "    road_df = []\n",
    "    for file in all_road_hex_files:\n",
    "        if f\"res={res}\" in file:\n",
    "            # print(file)\n",
    "            df = pd.read_csv(file)\n",
    "            df['city_lower'] = file.split('/')[-1].split('_')[0]\n",
    "            road_df.append(df)\n",
    "    road_df = pd.concat(road_df)\n",
    "    road_df.to_csv(os.path.join(EXPORT_FOLDER, f\"c_road_length_res={res}.csv\"), index=False)"
   ]
  },
  {
   "cell_type": "code",
   "execution_count": 42,
   "metadata": {},
   "outputs": [
    {
     "data": {
      "text/html": [
       "<div>\n",
       "<style scoped>\n",
       "    .dataframe tbody tr th:only-of-type {\n",
       "        vertical-align: middle;\n",
       "    }\n",
       "\n",
       "    .dataframe tbody tr th {\n",
       "        vertical-align: top;\n",
       "    }\n",
       "\n",
       "    .dataframe thead th {\n",
       "        text-align: right;\n",
       "    }\n",
       "</style>\n",
       "<table border=\"1\" class=\"dataframe\">\n",
       "  <thead>\n",
       "    <tr style=\"text-align: right;\">\n",
       "      <th></th>\n",
       "      <th>city_country</th>\n",
       "      <th>Sprawl_SNDi_&lt;1990</th>\n",
       "      <th>Sprawl_SNDi_90-99</th>\n",
       "      <th>Sprawl_SNDi_’00-13</th>\n",
       "      <th>Sprawl_SNDi_Stock</th>\n",
       "      <th>Nodal_degree_&lt;1990</th>\n",
       "      <th>Nodal_degree_90-99</th>\n",
       "      <th>Nodal_degree_’00-13</th>\n",
       "      <th>Nodal_degree_Stock</th>\n",
       "      <th>Nnodes_&lt;1990</th>\n",
       "      <th>Nnodes_90-99</th>\n",
       "      <th>Nnodes_’00-13</th>\n",
       "      <th>Nnodes_Stock</th>\n",
       "      <th>city</th>\n",
       "      <th>city_lower</th>\n",
       "      <th>length_intersection_meter</th>\n",
       "    </tr>\n",
       "  </thead>\n",
       "  <tbody>\n",
       "    <tr>\n",
       "      <th>0</th>\n",
       "      <td>Bangkok, Thailand</td>\n",
       "      <td>6.8</td>\n",
       "      <td>7.6</td>\n",
       "      <td>8.1</td>\n",
       "      <td>7.3</td>\n",
       "      <td>2.5</td>\n",
       "      <td>2.5</td>\n",
       "      <td>2.4</td>\n",
       "      <td>2.5</td>\n",
       "      <td>74k</td>\n",
       "      <td>30k</td>\n",
       "      <td>46k</td>\n",
       "      <td>150k</td>\n",
       "      <td>Bangkok</td>\n",
       "      <td>bangkok</td>\n",
       "      <td>4722.457935</td>\n",
       "    </tr>\n",
       "    <tr>\n",
       "      <th>1</th>\n",
       "      <td>Guatemala City, Guatemala</td>\n",
       "      <td>3.8</td>\n",
       "      <td>5.6</td>\n",
       "      <td>7.5</td>\n",
       "      <td>4.5</td>\n",
       "      <td>3.0</td>\n",
       "      <td>2.8</td>\n",
       "      <td>2.5</td>\n",
       "      <td>2.9</td>\n",
       "      <td>22k</td>\n",
       "      <td>7.3k</td>\n",
       "      <td>4.7k</td>\n",
       "      <td>34k</td>\n",
       "      <td>Guatemala City</td>\n",
       "      <td>guatemalacity</td>\n",
       "      <td>3572.483762</td>\n",
       "    </tr>\n",
       "    <tr>\n",
       "      <th>2</th>\n",
       "      <td>Cebu City, Philippines</td>\n",
       "      <td>6.1</td>\n",
       "      <td>6.9</td>\n",
       "      <td>7.3</td>\n",
       "      <td>6.6</td>\n",
       "      <td>2.6</td>\n",
       "      <td>2.5</td>\n",
       "      <td>2.6</td>\n",
       "      <td>2.6</td>\n",
       "      <td>5.7k</td>\n",
       "      <td>2.3k</td>\n",
       "      <td>4.5k</td>\n",
       "      <td>12k</td>\n",
       "      <td>Cebu City</td>\n",
       "      <td>cebucity</td>\n",
       "      <td>2092.986247</td>\n",
       "    </tr>\n",
       "    <tr>\n",
       "      <th>3</th>\n",
       "      <td>Los Angeles, United  States</td>\n",
       "      <td>3.6</td>\n",
       "      <td>6.2</td>\n",
       "      <td>6.3</td>\n",
       "      <td>3.9</td>\n",
       "      <td>2.9</td>\n",
       "      <td>2.6</td>\n",
       "      <td>2.6</td>\n",
       "      <td>2.9</td>\n",
       "      <td>250k</td>\n",
       "      <td>26k</td>\n",
       "      <td>9.7k</td>\n",
       "      <td>290k</td>\n",
       "      <td>Los Angeles</td>\n",
       "      <td>losangeles</td>\n",
       "      <td>5077.490044</td>\n",
       "    </tr>\n",
       "    <tr>\n",
       "      <th>4</th>\n",
       "      <td>Raleigh, United  States</td>\n",
       "      <td>4.8</td>\n",
       "      <td>5.4</td>\n",
       "      <td>6.3</td>\n",
       "      <td>5.6</td>\n",
       "      <td>2.8</td>\n",
       "      <td>2.7</td>\n",
       "      <td>2.5</td>\n",
       "      <td>2.6</td>\n",
       "      <td>11k</td>\n",
       "      <td>21k</td>\n",
       "      <td>19k</td>\n",
       "      <td>51k</td>\n",
       "      <td>Raleigh</td>\n",
       "      <td>raleigh</td>\n",
       "      <td>4796.605718</td>\n",
       "    </tr>\n",
       "  </tbody>\n",
       "</table>\n",
       "</div>"
      ],
      "text/plain": [
       "                  city_country  Sprawl_SNDi_<1990  Sprawl_SNDi_90-99  \\\n",
       "0            Bangkok, Thailand                6.8                7.6   \n",
       "1    Guatemala City, Guatemala                3.8                5.6   \n",
       "2       Cebu City, Philippines                6.1                6.9   \n",
       "3  Los Angeles, United  States                3.6                6.2   \n",
       "4      Raleigh, United  States                4.8                5.4   \n",
       "\n",
       "   Sprawl_SNDi_’00-13  Sprawl_SNDi_Stock  Nodal_degree_<1990  \\\n",
       "0                 8.1                7.3                 2.5   \n",
       "1                 7.5                4.5                 3.0   \n",
       "2                 7.3                6.6                 2.6   \n",
       "3                 6.3                3.9                 2.9   \n",
       "4                 6.3                5.6                 2.8   \n",
       "\n",
       "   Nodal_degree_90-99  Nodal_degree_’00-13  Nodal_degree_Stock Nnodes_<1990  \\\n",
       "0                 2.5                  2.4                 2.5          74k   \n",
       "1                 2.8                  2.5                 2.9          22k   \n",
       "2                 2.5                  2.6                 2.6         5.7k   \n",
       "3                 2.6                  2.6                 2.9         250k   \n",
       "4                 2.7                  2.5                 2.6          11k   \n",
       "\n",
       "  Nnodes_90-99 Nnodes_’00-13 Nnodes_Stock            city     city_lower  \\\n",
       "0          30k           46k         150k         Bangkok        bangkok   \n",
       "1         7.3k          4.7k          34k  Guatemala City  guatemalacity   \n",
       "2         2.3k          4.5k          12k       Cebu City       cebucity   \n",
       "3          26k          9.7k         290k     Los Angeles     losangeles   \n",
       "4          21k           19k          51k         Raleigh        raleigh   \n",
       "\n",
       "   length_intersection_meter  \n",
       "0                4722.457935  \n",
       "1                3572.483762  \n",
       "2                2092.986247  \n",
       "3                5077.490044  \n",
       "4                4796.605718  "
      ]
     },
     "execution_count": 42,
     "metadata": {},
     "output_type": "execute_result"
    }
   ],
   "source": [
    "spraw_df = pd.read_csv(os.path.join(EXPORT_FOLDER, 'c_urban_sprawl.csv'))\n",
    "road_df = pd.read_csv(os.path.join(EXPORT_FOLDER, 'c_road_length_res=9.csv'))\\\n",
    "    .groupby('city_lower')['length_intersection_meter'].mean().reset_index()\n",
    "spraw_merge = spraw_df.merge(road_df, on='city_lower', how='inner')\n",
    "\n",
    "spraw_merge.head()\n"
   ]
  },
  {
   "cell_type": "code",
   "execution_count": 44,
   "metadata": {},
   "outputs": [
    {
     "data": {
      "text/plain": [
       "<AxesSubplot:xlabel='Sprawl_SNDi_’00-13', ylabel='length_intersection_meter'>"
      ]
     },
     "execution_count": 44,
     "metadata": {},
     "output_type": "execute_result"
    },
    {
     "data": {
      "image/png": "[encoded data removed]",
      "text/plain": [
       "<Figure size 432x288 with 1 Axes>"
      ]
     },
     "metadata": {
      "needs_background": "light"
     },
     "output_type": "display_data"
    }
   ],
   "source": [
    "import seaborn as sns\n",
    "sns.scatterplot(data=spraw_merge, \n",
    "                x=\"\"\"Sprawl_SNDi_’00-13\"\"\", \n",
    "                y='length_intersection_meter')"
   ]
  },
  {
   "cell_type": "code",
   "execution_count": 45,
   "metadata": {},
   "outputs": [
    {
     "data": {
      "text/plain": [
       "<AxesSubplot:xlabel='Sprawl_SNDi_Stock', ylabel='length_intersection_meter'>"
      ]
     },
     "execution_count": 45,
     "metadata": {},
     "output_type": "execute_result"
    },
    {
     "data": {
      "image/png": "[encoded data removed]",
      "text/plain": [
       "<Figure size 432x288 with 1 Axes>"
      ]
     },
     "metadata": {
      "needs_background": "light"
     },
     "output_type": "display_data"
    }
   ],
   "source": [
    "import seaborn as sns\n",
    "sns.scatterplot(data=spraw_merge, \n",
    "                x=\"\"\"Sprawl_SNDi_Stock\"\"\", \n",
    "                y='length_intersection_meter')"
   ]
  },
  {
   "cell_type": "code",
   "execution_count": 34,
   "metadata": {},
   "outputs": [
    {
     "data": {
      "text/plain": [
       "city_lower\n",
       "saintpetersburg    11695.529841\n",
       "paris              11628.683254\n",
       "moscow             10907.578599\n",
       "toronto            10890.838069\n",
       "sydney             10243.754998\n",
       "minneapolis        10012.230456\n",
       "boston              9982.716545\n",
       "milan               9349.543984\n",
       "warsaw              9195.720892\n",
       "tyumen              8977.170551\n",
       "chicago             8790.172930\n",
       "montreal            8532.239631\n",
       "newyork             8512.692879\n",
       "detroit             8512.040168\n",
       "stockholm           8461.372896\n",
       "munich              8242.651250\n",
       "berlin              8101.848434\n",
       "denver              8089.794709\n",
       "tokyo               7788.597632\n",
       "kyiv                7627.092475\n",
       "madrid              7507.553966\n",
       "copenhagen          7479.950311\n",
       "vienna              7203.150044\n",
       "manchester          7062.212583\n",
       "amsterdam           7002.665047\n",
       "Name: length_intersection_meter, dtype: float64"
      ]
     },
     "execution_count": 34,
     "metadata": {},
     "output_type": "execute_result"
    }
   ],
   "source": [
    "road_df.groupby('city_lower')['length_intersection_meter'].mean().sort_values(ascending=False).head(25)"
   ]
  },
  {
   "cell_type": "markdown",
   "metadata": {},
   "source": [
    "\n"
   ]
  }
 ],
 "metadata": {
  "kernelspec": {
   "display_name": "geo38",
   "language": "python",
   "name": "python3"
  },
  "language_info": {
   "codemirror_mode": {
    "name": "ipython",
    "version": 3
   },
   "file_extension": ".py",
   "mimetype": "text/x-python",
   "name": "python",
   "nbconvert_exporter": "python",
   "pygments_lexer": "ipython3",
   "version": "3.8.13"
  }
 },
 "nbformat": 4,
 "nbformat_minor": 2
}
