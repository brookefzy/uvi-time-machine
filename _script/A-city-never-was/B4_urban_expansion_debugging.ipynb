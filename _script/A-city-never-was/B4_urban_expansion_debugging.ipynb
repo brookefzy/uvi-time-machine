{
 "cells": [
  {
   "cell_type": "code",
   "execution_count": 1,
   "id": "8770bb29-932b-475c-8390-68b2c5119364",
   "metadata": {},
   "outputs": [],
   "source": [
    "import tqdm\n",
    "import geopandas as gpd\n",
    "import os\n",
    "import tqdm\n",
    "import numpy as np\n",
    "import pandas as pd\n",
    "import sys\n",
    "ROOT_DIR = os.path.abspath(\"../\")\n",
    "sys.path.append(ROOT_DIR)\n",
    "from utils.gsvload import GSVSummary\n",
    "from shapely.geometry import Point\n",
    "\n",
    "PFOLDER = \"/lustre1/g/geog_pyloo/05_timemachine/_transformed/t_urban_expansion/t_urban_expansion\"\n",
    "ALLFILES = os.listdir(PFOLDER)\n",
    "RAW_FOLDER_ROOT = \"/lustre1/g/geog_pyloo/05_timemachine/_raw\"\n",
    "# TGT_FILE = \"gsv_pano_label.csv\" \n",
    "TGT_FILE = \"{cityabbrlower}_meta.csv\""
   ]
  },
  {
   "cell_type": "code",
   "execution_count": 10,
   "id": "7a040a07-bca4-4916-9827-98033d7c60e3",
   "metadata": {
    "tags": []
   },
   "outputs": [],
   "source": [
    "def load_data(city):\n",
    "    cityabbr = city.replace(\" \", \"\").lower()\n",
    "    meta_file = META_FILE.format(cityabbr=cityabbr)\n",
    "    meta_file_path = os.path.join(ROOTFOLDER, cityabbr, meta_folder, meta_file)\n",
    "    df = pd.read_csv(meta_file_path)\n",
    "    df = df[df['lat'].notnull()].reset_index(drop = True)\n",
    "    \n",
    "    return df, meta_file_path"
   ]
  },
  {
   "cell_type": "code",
   "execution_count": 17,
   "id": "097c7a2d-2dab-4f29-9c50-51f8635519aa",
   "metadata": {},
   "outputs": [],
   "source": [
    "ROOTFOLDER = \"/lustre1/g/geog_pyloo/05_timemachine/GSV/gsv_rgb/\"\n",
    "meta_folder = \"gsvmeta\"\n",
    "META_FILE = \"{cityabbr}_meta.csv\""
   ]
  },
  {
   "cell_type": "code",
   "execution_count": 23,
   "id": "3a6106d7-120c-47d8-8581-9bbb0f2ae9c5",
   "metadata": {},
   "outputs": [],
   "source": [
    "city = 'gombe'\n",
    "df, meta_file_path = load_data(city)"
   ]
  },
  {
   "cell_type": "code",
   "execution_count": 24,
   "id": "77146461-c762-4dc3-9f39-e1c52287d8f4",
   "metadata": {},
   "outputs": [
    {
     "data": {
      "text/plain": [
       "year\n",
       "2022.0    54653\n",
       "dtype: int64"
      ]
     },
     "execution_count": 24,
     "metadata": {},
     "output_type": "execute_result"
    }
   ],
   "source": [
    "df.groupby('year').size()"
   ]
  },
  {
   "cell_type": "code",
   "execution_count": 25,
   "id": "eb4e16c5-5bb2-4413-99f2-788162640676",
   "metadata": {},
   "outputs": [
    {
     "data": {
      "text/plain": [
       "year\n",
       "2022.0    17001\n",
       "dtype: int64"
      ]
     },
     "execution_count": 25,
     "metadata": {},
     "output_type": "execute_result"
    }
   ],
   "source": [
    "cityabbr = city.replace(\" \", \"\").lower()\n",
    "df = pd.read_csv(f\"/lustre1/g/geog_pyloo/05_timemachine/GSV/gsv_rgb/{cityabbr}/gsvmeta/gsv_pano.csv\")\n",
    "df.groupby('year').size()"
   ]
  },
  {
   "cell_type": "code",
   "execution_count": null,
   "id": "fcb34df1-57ca-4c45-8e2d-2df3c4a49020",
   "metadata": {},
   "outputs": [],
   "source": []
  }
 ],
 "metadata": {
  "kernelspec": {
   "display_name": "geo311",
   "language": "python",
   "name": "geo311"
  },
  "language_info": {
   "codemirror_mode": {
    "name": "ipython",
    "version": 3
   },
   "file_extension": ".py",
   "mimetype": "text/x-python",
   "name": "python",
   "nbconvert_exporter": "python",
   "pygments_lexer": "ipython3",
   "version": "3.11.8"
  }
 },
 "nbformat": 4,
 "nbformat_minor": 5
}
