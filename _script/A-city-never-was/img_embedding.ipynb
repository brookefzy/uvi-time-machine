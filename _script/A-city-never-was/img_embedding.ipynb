{
 "cells": [
  {
   "cell_type": "code",
   "execution_count": 7,
   "id": "0c174f70-f0de-4a6c-b51f-366b289aa233",
   "metadata": {},
   "outputs": [],
   "source": [
    "import os\n",
    "import clip\n",
    "import torch\n",
    "from sklearn.manifold import TSNE\n",
    "import glob\n",
    "import pandas as pd"
   ]
  },
  {
   "cell_type": "markdown",
   "id": "f45ea6d7-ba52-4e0a-8500-ee5a1cc60725",
   "metadata": {
    "tags": []
   },
   "source": [
    "# Tutorial list:\n",
    "* https://blog.roboflow.com/embeddings-clustering-computer-vision-clip-umap/\n",
    "* https://blog.roboflow.com/roboflow-inference-server-clip/\n",
    "* https://github.com/openai/CLIP?ref=blog.roboflow.com"
   ]
  },
  {
   "cell_type": "code",
   "execution_count": 4,
   "id": "741f7aca-3e58-4c0d-9526-69462bb8c575",
   "metadata": {},
   "outputs": [
    {
     "name": "stderr",
     "output_type": "stream",
     "text": [
      "100%|████████████████████████████████████████| 338M/338M [00:03<00:00, 117MiB/s]\n"
     ]
    }
   ],
   "source": [
    "device = \"cuda\" if torch.cuda.is_available() else \"cpu\"\n",
    "model, preprocess = clip.load('ViT-B/32', device)"
   ]
  },
  {
   "cell_type": "markdown",
   "id": "41a5bb3a-24a5-417e-8860-5faceabf996a",
   "metadata": {},
   "source": [
    "## 1. Create embeddings with Clip"
   ]
  },
  {
   "cell_type": "code",
   "execution_count": 10,
   "id": "b0854d52-330f-42e6-b036-ca47fd81c6e6",
   "metadata": {
    "collapsed": true,
    "jupyter": {
     "outputs_hidden": true
    },
    "tags": []
   },
   "outputs": [
    {
     "data": {
      "text/plain": [
       "['Dubai',\n",
       " 'Le Mans',\n",
       " 'Buenos Aires',\n",
       " 'Miami',\n",
       " 'Stockholm',\n",
       " 'Denver',\n",
       " 'Chicago',\n",
       " 'Palembang',\n",
       " 'Auckland',\n",
       " 'Gainesville, FL',\n",
       " 'Medan',\n",
       " 'Jerusalem',\n",
       " 'Berlin',\n",
       " 'Palmas',\n",
       " 'Toronto',\n",
       " 'Astrakhan',\n",
       " 'Minneapolis',\n",
       " 'Jaipur',\n",
       " 'Kampala',\n",
       " 'Gombe',\n",
       " 'Curitiba',\n",
       " 'Warsaw',\n",
       " 'Kozhikode',\n",
       " 'Santiago',\n",
       " 'Zwolle',\n",
       " 'Istanbul',\n",
       " 'Lagos',\n",
       " 'Singapore',\n",
       " 'Bogotá',\n",
       " 'Modesto',\n",
       " 'Mumbai',\n",
       " 'Copenhagen',\n",
       " 'Guatemala City',\n",
       " 'Taipei',\n",
       " 'Ilheus',\n",
       " 'Okayama',\n",
       " 'Rio de Janeiro',\n",
       " 'Raleigh',\n",
       " 'Boston',\n",
       " 'Cebu City',\n",
       " 'Vijayawada',\n",
       " 'Belo Horizonte',\n",
       " 'Bangkok',\n",
       " 'Florianopolis',\n",
       " 'Nagoya',\n",
       " 'Rajshahi',\n",
       " 'Amsterdam',\n",
       " 'Rovno',\n",
       " 'Hong Kong',\n",
       " 'Nairobi',\n",
       " 'Sheffield',\n",
       " 'Dzerzhinsk',\n",
       " 'Parbhani',\n",
       " 'Johannesburg',\n",
       " 'Budapest',\n",
       " 'Los Angeles',\n",
       " 'Wellington',\n",
       " 'Thessaloniki',\n",
       " 'Capetown',\n",
       " 'Pune',\n",
       " 'Palermo',\n",
       " 'Philadelphia',\n",
       " 'Saidpur',\n",
       " 'Reynosa',\n",
       " 'Tokyo',\n",
       " 'San Francisco',\n",
       " 'Hyderabad',\n",
       " 'Delhi',\n",
       " 'Culiacan',\n",
       " 'Bacolod',\n",
       " 'Killeen',\n",
       " 'Kyiv',\n",
       " 'London',\n",
       " 'Fukuoka',\n",
       " 'Kaunas',\n",
       " 'Toledo',\n",
       " 'Guadalajara',\n",
       " 'Vienna',\n",
       " 'Detroit',\n",
       " 'Antwerp',\n",
       " 'Seoul',\n",
       " 'Quito',\n",
       " 'Kanpur',\n",
       " 'Jakarta',\n",
       " 'Brussels',\n",
       " 'Saint Petersburg',\n",
       " 'Kuala Lumpur',\n",
       " 'Jalna',\n",
       " 'Ribeirao Preto',\n",
       " 'Belgrade',\n",
       " 'Portland, OR',\n",
       " 'Athens',\n",
       " 'Berezniki',\n",
       " 'Milan',\n",
       " 'Montreal',\n",
       " 'Munich',\n",
       " 'Houston',\n",
       " 'Mexico City',\n",
       " 'Valledupar',\n",
       " 'Rome',\n",
       " 'Manila',\n",
       " 'Cirebon',\n",
       " 'Parepare',\n",
       " 'Paris',\n",
       " 'Madrid',\n",
       " 'Sao Paulo',\n",
       " 'Moscow',\n",
       " 'Kigali',\n",
       " 'Jequie',\n",
       " 'Cochabamba',\n",
       " 'Dhaka',\n",
       " 'New York',\n",
       " 'Victoria',\n",
       " 'Manchester',\n",
       " 'Hindupur',\n",
       " 'Cleveland',\n",
       " 'Malegaon',\n",
       " 'Gaborone',\n",
       " 'Accra',\n",
       " 'Sitapur',\n",
       " 'Metro Manila',\n",
       " 'Bangalore',\n",
       " 'Yamaguchi',\n",
       " 'Tel Aviv',\n",
       " 'Tyumen',\n",
       " 'Lima',\n",
       " 'Sydney']"
      ]
     },
     "execution_count": 10,
     "metadata": {},
     "output_type": "execute_result"
    }
   ],
   "source": [
    "YOLOFOLDER = \"/lustre1/g/geog_pyloo/05_timemachine/_transformed/t_classifier_img_yolo8\"\n",
    "os.listdir(YOLOFOLDER+'/train')"
   ]
  },
  {
   "cell_type": "code",
   "execution_count": 11,
   "id": "93806c48-dc62-4432-a2b4-f9aa8c35d968",
   "metadata": {},
   "outputs": [],
   "source": [
    "allfiles = glob.glob(YOLOFOLDER+\"/*/*/*.jpg\")\n",
    "df = pd.DataFrame({'path':allfiles})\n",
    "df['file_type'] = df['path'].apply(lambda x: x.split(\"/\")[-1].split(\".\")[-1])\n",
    "df['folder'] = df['path'].apply(lambda x: x.split(\"/\")[-2])\n",
    "df['group'] = df['path'].apply(lambda x: x.split(\"/\")[-3])\n",
    "df['name'] = df['path'].apply(lambda x: x.split(\"/\")[-1])"
   ]
  },
  {
   "cell_type": "code",
   "execution_count": 14,
   "id": "0bc207d2-8849-42f0-9535-3f5eef212fe5",
   "metadata": {},
   "outputs": [
    {
     "data": {
      "text/html": [
       "<div>\n",
       "<style scoped>\n",
       "    .dataframe tbody tr th:only-of-type {\n",
       "        vertical-align: middle;\n",
       "    }\n",
       "\n",
       "    .dataframe tbody tr th {\n",
       "        vertical-align: top;\n",
       "    }\n",
       "\n",
       "    .dataframe thead th {\n",
       "        text-align: right;\n",
       "    }\n",
       "</style>\n",
       "<table border=\"1\" class=\"dataframe\">\n",
       "  <thead>\n",
       "    <tr style=\"text-align: right;\">\n",
       "      <th></th>\n",
       "      <th>path</th>\n",
       "      <th>file_type</th>\n",
       "      <th>folder</th>\n",
       "      <th>group</th>\n",
       "      <th>name</th>\n",
       "    </tr>\n",
       "  </thead>\n",
       "  <tbody>\n",
       "    <tr>\n",
       "      <th>0</th>\n",
       "      <td>/lustre1/g/geog_pyloo/05_timemachine/_transfor...</td>\n",
       "      <td>jpg</td>\n",
       "      <td>Dubai</td>\n",
       "      <td>test</td>\n",
       "      <td>Em5axXAMIjieffkKr7El8Q_0.jpg</td>\n",
       "    </tr>\n",
       "    <tr>\n",
       "      <th>1</th>\n",
       "      <td>/lustre1/g/geog_pyloo/05_timemachine/_transfor...</td>\n",
       "      <td>jpg</td>\n",
       "      <td>Dubai</td>\n",
       "      <td>test</td>\n",
       "      <td>jUCY2Ol_aPHaC_wN6z01sA_180.jpg</td>\n",
       "    </tr>\n",
       "    <tr>\n",
       "      <th>2</th>\n",
       "      <td>/lustre1/g/geog_pyloo/05_timemachine/_transfor...</td>\n",
       "      <td>jpg</td>\n",
       "      <td>Dubai</td>\n",
       "      <td>test</td>\n",
       "      <td>5WF1x7V2aDPUP17iPIQX8Q_90.jpg</td>\n",
       "    </tr>\n",
       "    <tr>\n",
       "      <th>3</th>\n",
       "      <td>/lustre1/g/geog_pyloo/05_timemachine/_transfor...</td>\n",
       "      <td>jpg</td>\n",
       "      <td>Dubai</td>\n",
       "      <td>test</td>\n",
       "      <td>YtE0_yXt_UvuGk1_8TSjiA_180.jpg</td>\n",
       "    </tr>\n",
       "    <tr>\n",
       "      <th>4</th>\n",
       "      <td>/lustre1/g/geog_pyloo/05_timemachine/_transfor...</td>\n",
       "      <td>jpg</td>\n",
       "      <td>Dubai</td>\n",
       "      <td>test</td>\n",
       "      <td>kKC8-7LSjWL3kv54L9WPtA_90.jpg</td>\n",
       "    </tr>\n",
       "  </tbody>\n",
       "</table>\n",
       "</div>"
      ],
      "text/plain": [
       "                                                path file_type folder group   \n",
       "0  /lustre1/g/geog_pyloo/05_timemachine/_transfor...       jpg  Dubai  test  \\\n",
       "1  /lustre1/g/geog_pyloo/05_timemachine/_transfor...       jpg  Dubai  test   \n",
       "2  /lustre1/g/geog_pyloo/05_timemachine/_transfor...       jpg  Dubai  test   \n",
       "3  /lustre1/g/geog_pyloo/05_timemachine/_transfor...       jpg  Dubai  test   \n",
       "4  /lustre1/g/geog_pyloo/05_timemachine/_transfor...       jpg  Dubai  test   \n",
       "\n",
       "                             name  \n",
       "0    Em5axXAMIjieffkKr7El8Q_0.jpg  \n",
       "1  jUCY2Ol_aPHaC_wN6z01sA_180.jpg  \n",
       "2   5WF1x7V2aDPUP17iPIQX8Q_90.jpg  \n",
       "3  YtE0_yXt_UvuGk1_8TSjiA_180.jpg  \n",
       "4   kKC8-7LSjWL3kv54L9WPtA_90.jpg  "
      ]
     },
     "execution_count": 14,
     "metadata": {},
     "output_type": "execute_result"
    }
   ],
   "source": [
    "# test getting embedding for one image\n",
    "df.head()"
   ]
  },
  {
   "cell_type": "code",
   "execution_count": null,
   "id": "79330f45-3edd-47cd-9d9b-df210360ad7b",
   "metadata": {},
   "outputs": [],
   "source": []
  }
 ],
 "metadata": {
  "kernelspec": {
   "display_name": "yolo5",
   "language": "python",
   "name": "yolo5"
  },
  "language_info": {
   "codemirror_mode": {
    "name": "ipython",
    "version": 3
   },
   "file_extension": ".py",
   "mimetype": "text/x-python",
   "name": "python",
   "nbconvert_exporter": "python",
   "pygments_lexer": "ipython3",
   "version": "3.9.16"
  }
 },
 "nbformat": 4,
 "nbformat_minor": 5
}
