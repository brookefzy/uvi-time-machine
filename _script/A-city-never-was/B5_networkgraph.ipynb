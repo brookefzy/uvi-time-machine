{
 "cells": [
  {
   "cell_type": "code",
   "execution_count": 1,
   "id": "83e2b29a-78b0-42a2-9d8b-44620f373fb6",
   "metadata": {},
   "outputs": [
    {
     "data": {
      "text/plain": [
       "'Build a network graph from the inference data'"
      ]
     },
     "execution_count": 1,
     "metadata": {},
     "output_type": "execute_result"
    }
   ],
   "source": [
    "\"\"\"Build a network graph from the inference data\"\"\""
   ]
  },
  {
   "cell_type": "code",
   "execution_count": null,
   "id": "45aee1f9-ad2c-4622-92e9-d39f6a9ad6aa",
   "metadata": {},
   "outputs": [],
   "source": []
  }
 ],
 "metadata": {
  "kernelspec": {
   "display_name": "geo311",
   "language": "python",
   "name": "geo311"
  },
  "language_info": {
   "codemirror_mode": {
    "name": "ipython",
    "version": 3
   },
   "file_extension": ".py",
   "mimetype": "text/x-python",
   "name": "python",
   "nbconvert_exporter": "python",
   "pygments_lexer": "ipython3",
   "version": "3.11.8"
  }
 },
 "nbformat": 4,
 "nbformat_minor": 5
}
