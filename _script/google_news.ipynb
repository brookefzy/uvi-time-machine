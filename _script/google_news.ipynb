{
 "cells": [
  {
   "cell_type": "code",
   "execution_count": 1,
   "id": "4082012b-6777-47a6-94a9-ec085062c438",
   "metadata": {},
   "outputs": [
    {
     "name": "stdout",
     "output_type": "stream",
     "text": [
      "1.6.14\n"
     ]
    }
   ],
   "source": [
    "# https://github.com/Iceloof/GoogleNews\n",
    "import pandas as pd\n",
    "from GoogleNews import GoogleNews\n",
    "googlenews = GoogleNews()\n",
    "print(googlenews.getVersion())"
   ]
  },
  {
   "cell_type": "code",
   "execution_count": 2,
   "id": "eeeeea03-9ad9-4893-b59e-f7e711788d59",
   "metadata": {},
   "outputs": [],
   "source": [
    "googlenews.enableException(True)"
   ]
  },
  {
   "cell_type": "code",
   "execution_count": 43,
   "id": "565e5aaf-6e9c-4c96-96ca-01bdcde04edb",
   "metadata": {},
   "outputs": [],
   "source": [
    "googlenews = GoogleNews(lang='en', region='Hong Kong')"
   ]
  },
  {
   "cell_type": "code",
   "execution_count": 44,
   "id": "ad6e0e0a-4472-4a74-a85f-be2de0fb5234",
   "metadata": {},
   "outputs": [],
   "source": [
    "googlenews = GoogleNews(start='02/01/2020',end='02/28/2024')"
   ]
  },
  {
   "cell_type": "code",
   "execution_count": 45,
   "id": "49359967-e783-4dd2-861e-f6500cf52279",
   "metadata": {},
   "outputs": [],
   "source": [
    "googlenews = GoogleNews(encode='utf-8')"
   ]
  },
  {
   "cell_type": "code",
   "execution_count": 46,
   "id": "375306be-5880-4e30-b4bb-63db5b285481",
   "metadata": {},
   "outputs": [],
   "source": [
    "googlenews.search('ROAD CRASH')"
   ]
  },
  {
   "cell_type": "code",
   "execution_count": 47,
   "id": "6b836b7a-5a6e-4333-af15-652ff615a152",
   "metadata": {},
   "outputs": [],
   "source": [
    "result = googlenews.get_page(1)"
   ]
  },
  {
   "cell_type": "code",
   "execution_count": 48,
   "id": "a2026299-e888-477c-b429-62a8ee882024",
   "metadata": {},
   "outputs": [],
   "source": [
    "googlenews.total_count()"
   ]
  },
  {
   "cell_type": "code",
   "execution_count": 49,
   "id": "cefaf3de-1da4-4115-8c20-4bed72c00fed",
   "metadata": {
    "tags": []
   },
   "outputs": [
    {
     "data": {
      "text/plain": [
       "[{'title': 'Two people hurt in crash on Indiana Toll Road in South Bend',\n",
       "  'media': '95.3 MNC',\n",
       "  'date': '1 minutes ago',\n",
       "  'datetime': datetime.datetime(2024, 4, 23, 17, 11, 8, 868679),\n",
       "  'desc': 'Westbound traffic was stopped for two hours on the Indiana Toll Road after a crash between a minivan and a box truck. The collision happened around 8 p.m....',\n",
       "  'link': 'https://www.953mnc.com/2024/04/23/two-people-hurt-in-crash-on-indiana-toll-road-in-south-bend/&ved=2ahUKEwjYn76W_9eFAxVHg68BHT3gBSoQxfQBegQICBAC&usg=AOvVaw09IZo4RNmbkbuG--skLlzw',\n",
       "  'img': 'data:image/gif;base64,R0lGODlhAQABAIAAAP///////yH5BAEKAAEALAAAAAABAAEAAAICTAEAOw=='},\n",
       " {'title': 'Yelverton car crash driver seriously hurt | tavistock-today.co.uk',\n",
       "  'media': 'Tavistock Times Gazette',\n",
       "  'date': '4 minutes ago',\n",
       "  'datetime': datetime.datetime(2024, 4, 23, 17, 8, 8, 870476),\n",
       "  'desc': 'A driver was take to hospital with serious injuries after a two-car collision at Yelverton last night which closed roads for more than three hours yesterday...',\n",
       "  'link': 'https://www.tavistock-today.co.uk/news/yelverton-car-crash-driver-seriously-hurt-682336&ved=2ahUKEwjYn76W_9eFAxVHg68BHT3gBSoQxfQBegQICRAC&usg=AOvVaw3ULb3gEv-03Fm45oDCOwbQ',\n",
       "  'img': 'data:image/gif;base64,R0lGODlhAQABAIAAAP///////yH5BAEKAAEALAAAAAABAAEAAAICTAEAOw=='},\n",
       " {'title': 'Two injured in Toll Road crash',\n",
       "  'media': 'WSBT',\n",
       "  'date': '7 minutes ago',\n",
       "  'datetime': datetime.datetime(2024, 4, 23, 17, 5, 8, 872142),\n",
       "  'desc': 'The Toll Road is back open after a crash shut part of it down for more than an hour Monday night.It happened just after 8 p.m. east of the Notre Dame exit.',\n",
       "  'link': 'https://wsbt.com/news/local/crash-accident-injuries-two-people-toll-road-shut-down-closed-traffic-police-investigation-ambulance-hospital-notre-dame-exit-south-bend-st-joseph-county-indiana&ved=2ahUKEwjYn76W_9eFAxVHg68BHT3gBSoQxfQBegQIAhAC&usg=AOvVaw2xY9VntpzDE664MrEVT51O',\n",
       "  'img': 'data:image/gif;base64,R0lGODlhAQABAIAAAP///////yH5BAEKAAEALAAAAAABAAEAAAICTAEAOw=='},\n",
       " {'title': 'Serious crash on Kings Highway',\n",
       "  'media': 'The Canberra Times',\n",
       "  'date': '3 minutes ago',\n",
       "  'datetime': datetime.datetime(2024, 4, 23, 17, 9, 8, 873916),\n",
       "  'desc': 'Breaking news: Eastbound lanes closed after a serious crash near Braidwood involving a car and a truck. Stay updated with live traffic information.',\n",
       "  'link': 'https://www.canberratimes.com.au/story/8602428/serious-crash-on-kings-highway/&ved=2ahUKEwjYn76W_9eFAxVHg68BHT3gBSoQxfQBegQIBBAC&usg=AOvVaw2mXaB_misEG0SbvWiw_BjL',\n",
       "  'img': 'data:image/gif;base64,R0lGODlhAQABAIAAAP///////yH5BAEKAAEALAAAAAABAAEAAAICTAEAOw=='},\n",
       " {'title': 'Rider critical, lanes closed, after serious motorbike crash',\n",
       "  'media': 'Gold Coast Bulletin',\n",
       "  'date': '1 hour ago',\n",
       "  'datetime': datetime.datetime(2024, 4, 23, 16, 12, 8, 882228),\n",
       "  'desc': 'A motorbike rider is reported to be in critical condition after a serious accident on Smith St in Southport that has seen part of the road closed.',\n",
       "  'link': 'https://www.goldcoastbulletin.com.au/truecrimeaustralia/police-courts-gold-coast/smith-st-crash-road-closed-motorbike-rider-in-critical-condition/news-story/5e5ba0fabfe91f8c1ded10a1dadfa674&ved=2ahUKEwjYn76W_9eFAxVHg68BHT3gBSoQxfQBegQIABAC&usg=AOvVaw0P-Hwp_PMN9Phl3IM9VgPU',\n",
       "  'img': 'data:image/gif;base64,R0lGODlhAQABAIAAAP///////yH5BAEKAAEALAAAAAABAAEAAAICTAEAOw=='},\n",
       " {'title': 'Two Indian Students Die in Tragic Arizona Car Crash',\n",
       "  'media': 'Northlines',\n",
       "  'date': '1 hour ago',\n",
       "  'datetime': datetime.datetime(2024, 4, 23, 16, 12, 8, 890048),\n",
       "  'desc': 'Nivesh Mukka and Goutham Kumar Parsi, two nineteen-year-old Indian students at Arizona State University, were killed after the vehicle they were traveling...',\n",
       "  'link': 'https://thenorthlines.com/two-indian-students-die-in-tragic-arizona-car-crash/&ved=2ahUKEwjYn76W_9eFAxVHg68BHT3gBSoQxfQBegQIBxAC&usg=AOvVaw3GTiJQy_4hHSqBvcQ13rkY',\n",
       "  'img': 'data:image/gif;base64,R0lGODlhAQABAIAAAP///////yH5BAEKAAEALAAAAAABAAEAAAICTAEAOw=='},\n",
       " {'title': \"Woman suffers 'life-changing' injuries as BMW and Honda crash in Devon\",\n",
       "  'media': 'Devon Live',\n",
       "  'date': '1 hour ago',\n",
       "  'datetime': datetime.datetime(2024, 4, 23, 16, 12, 8, 897837),\n",
       "  'desc': 'Two people were trapped in one car and had to be cut free by the fire service.',\n",
       "  'link': 'https://www.devonlive.com/news/devon-news/woman-suffers-life-changing-injuries-9240851&ved=2ahUKEwjYn76W_9eFAxVHg68BHT3gBSoQxfQBegQIAxAC&usg=AOvVaw38dlHUHv6lzpnjwT0x3SAr',\n",
       "  'img': 'data:image/gif;base64,R0lGODlhAQABAIAAAP///////yH5BAEKAAEALAAAAAABAAEAAAICTAEAOw=='},\n",
       " {'title': 'Live: A50 gridlock as police called to lorry crash',\n",
       "  'media': 'Stoke on Trent Live',\n",
       "  'date': '1 hour ago',\n",
       "  'datetime': datetime.datetime(2024, 4, 23, 16, 12, 8, 905555),\n",
       "  'desc': 'Police have closed off a stretch of the A50 this morning following a collision. The incident has seen the westbound carriageway between Uttoxeter and Blythe...',\n",
       "  'link': 'https://www.stokesentinel.co.uk/news/stoke-on-trent-news/live-police-scene-crash-shuts-9240720&ved=2ahUKEwjYn76W_9eFAxVHg68BHT3gBSoQxfQBegQIBRAC&usg=AOvVaw1LJLY9mjIJgrimZYQ9Ajpf',\n",
       "  'img': 'data:image/gif;base64,R0lGODlhAQABAIAAAP///////yH5BAEKAAEALAAAAAABAAEAAAICTAEAOw=='},\n",
       " {'title': 'M54 crash sees woman hospitalised after car hits barrier',\n",
       "  'media': 'Birmingham Live',\n",
       "  'date': '1 hour ago',\n",
       "  'datetime': datetime.datetime(2024, 4, 23, 16, 12, 8, 913234),\n",
       "  'desc': 'A woman has been injured after a car crashed into a barrier on the M54 near Telford. A stretch of the eastbound carriageway was closed following the smash,...',\n",
       "  'link': 'https://www.birminghammail.co.uk/black-country/m54-crash-sees-woman-hospitalised-29042546&ved=2ahUKEwjYn76W_9eFAxVHg68BHT3gBSoQxfQBegQIBhAC&usg=AOvVaw2xFNwdK-Za32WAX_bGxaFm',\n",
       "  'img': 'data:image/gif;base64,R0lGODlhAQABAIAAAP///////yH5BAEKAAEALAAAAAABAAEAAAICTAEAOw=='},\n",
       " {'title': 'Winchester Road, Ampfield: Fatal crash sparks police appeal',\n",
       "  'media': 'Hampshire Chronicle',\n",
       "  'date': '1 hour ago',\n",
       "  'datetime': datetime.datetime(2024, 4, 23, 16, 12, 8, 920959),\n",
       "  'desc': 'The A3090 was closed yesterday morning after the crash between Hursley Road and Hook Road. Police have confirmed that a man in his 30s from Crookhill died...',\n",
       "  'link': 'https://www.hampshirechronicle.co.uk/news/24271484.winchester-road-ampfield-fatal-crash-sparks-police-appeal/&ved=2ahUKEwjYn76W_9eFAxVHg68BHT3gBSoQxfQBegQIARAC&usg=AOvVaw2cNWyh-BwzJFLe1rmwyToE',\n",
       "  'img': 'data:image/gif;base64,R0lGODlhAQABAIAAAP///////yH5BAEKAAEALAAAAAABAAEAAAICTAEAOw=='},\n",
       " {'title': 'Two people hurt in crash on Indiana Toll Road in South Bend',\n",
       "  'media': '95.3 MNC',\n",
       "  'date': '1 minutes ago',\n",
       "  'datetime': datetime.datetime(2024, 4, 23, 17, 11, 10, 147579),\n",
       "  'desc': 'Westbound traffic was stopped for two hours on the Indiana Toll Road after a crash between a minivan and a box truck. The collision happened around 8 p.m....',\n",
       "  'link': 'https://www.953mnc.com/2024/04/23/two-people-hurt-in-crash-on-indiana-toll-road-in-south-bend/&ved=2ahUKEwjavISX_9eFAxUcga8BHZayCb4QxfQBegQIBRAC&usg=AOvVaw0166krquV0P_V1aWlHoTwC',\n",
       "  'img': 'data:image/gif;base64,R0lGODlhAQABAIAAAP///////yH5BAEKAAEALAAAAAABAAEAAAICTAEAOw=='},\n",
       " {'title': 'Yelverton car crash driver seriously hurt | tavistock-today.co.uk',\n",
       "  'media': 'Tavistock Times Gazette',\n",
       "  'date': '4 minutes ago',\n",
       "  'datetime': datetime.datetime(2024, 4, 23, 17, 8, 10, 149284),\n",
       "  'desc': 'A driver was take to hospital with serious injuries after a two-car collision at Yelverton last night which closed roads for more than three hours yesterday...',\n",
       "  'link': 'https://www.tavistock-today.co.uk/news/yelverton-car-crash-driver-seriously-hurt-682336&ved=2ahUKEwjavISX_9eFAxUcga8BHZayCb4QxfQBegQICRAC&usg=AOvVaw2u6On5T2VRvo6vwskCS9Ks',\n",
       "  'img': 'data:image/gif;base64,R0lGODlhAQABAIAAAP///////yH5BAEKAAEALAAAAAABAAEAAAICTAEAOw=='},\n",
       " {'title': 'Two injured in Toll Road crash',\n",
       "  'media': 'WSBT',\n",
       "  'date': '8 minutes ago',\n",
       "  'datetime': datetime.datetime(2024, 4, 23, 17, 4, 10, 150806),\n",
       "  'desc': 'The Toll Road is back open after a crash shut part of it down for more than an hour Monday night.It happened just after 8 p.m. east of the Notre Dame exit.',\n",
       "  'link': 'https://wsbt.com/news/local/crash-accident-injuries-two-people-toll-road-shut-down-closed-traffic-police-investigation-ambulance-hospital-notre-dame-exit-south-bend-st-joseph-county-indiana&ved=2ahUKEwjavISX_9eFAxUcga8BHZayCb4QxfQBegQIBBAC&usg=AOvVaw10I98E0bN1qrMKtgha3KNQ',\n",
       "  'img': 'data:image/gif;base64,R0lGODlhAQABAIAAAP///////yH5BAEKAAEALAAAAAABAAEAAAICTAEAOw=='},\n",
       " {'title': 'Serious crash on Kings Highway',\n",
       "  'media': 'The Canberra Times',\n",
       "  'date': '3 minutes ago',\n",
       "  'datetime': datetime.datetime(2024, 4, 23, 17, 9, 10, 152206),\n",
       "  'desc': 'Breaking news: Eastbound lanes closed after a serious crash near Braidwood involving a car and a truck. Stay updated with live traffic information.',\n",
       "  'link': 'https://www.canberratimes.com.au/story/8602428/serious-crash-on-kings-highway/&ved=2ahUKEwjavISX_9eFAxUcga8BHZayCb4QxfQBegQIBhAC&usg=AOvVaw1ONs4PR6JIPEIlM6tutJ89',\n",
       "  'img': 'data:image/gif;base64,R0lGODlhAQABAIAAAP///////yH5BAEKAAEALAAAAAABAAEAAAICTAEAOw=='},\n",
       " {'title': 'Rider critical, lanes closed, after serious motorbike crash',\n",
       "  'media': 'Gold Coast Bulletin',\n",
       "  'date': '1 hour ago',\n",
       "  'datetime': datetime.datetime(2024, 4, 23, 16, 12, 10, 159776),\n",
       "  'desc': 'A motorbike rider is reported to be in critical condition after a serious accident on Smith St in Southport that has seen part of the road closed.',\n",
       "  'link': 'https://www.goldcoastbulletin.com.au/truecrimeaustralia/police-courts-gold-coast/smith-st-crash-road-closed-motorbike-rider-in-critical-condition/news-story/5e5ba0fabfe91f8c1ded10a1dadfa674&ved=2ahUKEwjavISX_9eFAxUcga8BHZayCb4QxfQBegQIABAC&usg=AOvVaw2R9n_73Q7GARYCkTfIIFRt',\n",
       "  'img': 'data:image/gif;base64,R0lGODlhAQABAIAAAP///////yH5BAEKAAEALAAAAAABAAEAAAICTAEAOw=='},\n",
       " {'title': 'Two Indian Students Die in Tragic Arizona Car Crash',\n",
       "  'media': 'Northlines',\n",
       "  'date': '1 hour ago',\n",
       "  'datetime': datetime.datetime(2024, 4, 23, 16, 12, 10, 167486),\n",
       "  'desc': 'Nivesh Mukka and Goutham Kumar Parsi, two nineteen-year-old Indian students at Arizona State University, were killed after the vehicle they were traveling...',\n",
       "  'link': 'https://thenorthlines.com/two-indian-students-die-in-tragic-arizona-car-crash/&ved=2ahUKEwjavISX_9eFAxUcga8BHZayCb4QxfQBegQIBxAC&usg=AOvVaw2vlN8Fsg6uxaYHpTGQc3zp',\n",
       "  'img': 'data:image/gif;base64,R0lGODlhAQABAIAAAP///////yH5BAEKAAEALAAAAAABAAEAAAICTAEAOw=='},\n",
       " {'title': \"Woman suffers 'life-changing' injuries as BMW and Honda crash in Devon\",\n",
       "  'media': 'Devon Live',\n",
       "  'date': '1 hour ago',\n",
       "  'datetime': datetime.datetime(2024, 4, 23, 16, 12, 10, 175252),\n",
       "  'desc': 'Two people were trapped in one car and had to be cut free by the fire service.',\n",
       "  'link': 'https://www.devonlive.com/news/devon-news/woman-suffers-life-changing-injuries-9240851&ved=2ahUKEwjavISX_9eFAxUcga8BHZayCb4QxfQBegQIAhAC&usg=AOvVaw1NeK3CxxTk3OlKTdsKgQI6',\n",
       "  'img': 'data:image/gif;base64,R0lGODlhAQABAIAAAP///////yH5BAEKAAEALAAAAAABAAEAAAICTAEAOw=='},\n",
       " {'title': 'Live: A50 gridlock as police called to lorry crash',\n",
       "  'media': 'Stoke on Trent Live',\n",
       "  'date': '1 hour ago',\n",
       "  'datetime': datetime.datetime(2024, 4, 23, 16, 12, 10, 182941),\n",
       "  'desc': 'Police have closed off a stretch of the A50 this morning following a collision. The incident has seen the westbound carriageway between Uttoxeter and Blythe...',\n",
       "  'link': 'https://www.stokesentinel.co.uk/news/stoke-on-trent-news/live-police-scene-crash-shuts-9240720&ved=2ahUKEwjavISX_9eFAxUcga8BHZayCb4QxfQBegQIAxAC&usg=AOvVaw1NAkO08ZwGbOPT1hAGxdCx',\n",
       "  'img': 'data:image/gif;base64,R0lGODlhAQABAIAAAP///////yH5BAEKAAEALAAAAAABAAEAAAICTAEAOw=='},\n",
       " {'title': 'M54 crash sees woman hospitalised after car hits barrier',\n",
       "  'media': 'Birmingham Live',\n",
       "  'date': '1 hour ago',\n",
       "  'datetime': datetime.datetime(2024, 4, 23, 16, 12, 10, 190651),\n",
       "  'desc': 'A woman has been injured after a car crashed into a barrier on the M54 near Telford. A stretch of the eastbound carriageway was closed following the smash,...',\n",
       "  'link': 'https://www.birminghammail.co.uk/black-country/m54-crash-sees-woman-hospitalised-29042546&ved=2ahUKEwjavISX_9eFAxUcga8BHZayCb4QxfQBegQIARAC&usg=AOvVaw18f1v-Zb8nDmAq_IMhpYxM',\n",
       "  'img': 'data:image/gif;base64,R0lGODlhAQABAIAAAP///////yH5BAEKAAEALAAAAAABAAEAAAICTAEAOw=='},\n",
       " {'title': 'Winchester Road, Ampfield: Fatal crash sparks police appeal',\n",
       "  'media': 'Hampshire Chronicle',\n",
       "  'date': '1 hour ago',\n",
       "  'datetime': datetime.datetime(2024, 4, 23, 16, 12, 10, 198511),\n",
       "  'desc': 'The A3090 was closed yesterday morning after the crash between Hursley Road and Hook Road. Police have confirmed that a man in his 30s from Crookhill died...',\n",
       "  'link': 'https://www.hampshirechronicle.co.uk/news/24271484.winchester-road-ampfield-fatal-crash-sparks-police-appeal/&ved=2ahUKEwjavISX_9eFAxUcga8BHZayCb4QxfQBegQICBAC&usg=AOvVaw24jya-xUgoiXkZFEyKlyl8',\n",
       "  'img': 'data:image/gif;base64,R0lGODlhAQABAIAAAP///////yH5BAEKAAEALAAAAAABAAEAAAICTAEAOw=='}]"
      ]
     },
     "execution_count": 49,
     "metadata": {},
     "output_type": "execute_result"
    }
   ],
   "source": [
    "googlenews.results()"
   ]
  },
  {
   "cell_type": "code",
   "execution_count": 42,
   "id": "5a396211-7b99-4fe5-bda7-42a76d7903e5",
   "metadata": {},
   "outputs": [],
   "source": [
    "googlenews.clear()"
   ]
  },
  {
   "cell_type": "code",
   "execution_count": null,
   "id": "6b9cb049-dc30-4abf-bcee-852b96cf3e30",
   "metadata": {},
   "outputs": [],
   "source": []
  }
 ],
 "metadata": {
  "kernelspec": {
   "display_name": "geo311",
   "language": "python",
   "name": "geo311"
  },
  "language_info": {
   "codemirror_mode": {
    "name": "ipython",
    "version": 3
   },
   "file_extension": ".py",
   "mimetype": "text/x-python",
   "name": "python",
   "nbconvert_exporter": "python",
   "pygments_lexer": "ipython3",
   "version": "3.11.8"
  }
 },
 "nbformat": 4,
 "nbformat_minor": 5
}
