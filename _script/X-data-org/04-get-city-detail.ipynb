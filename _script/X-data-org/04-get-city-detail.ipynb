{
 "cells": [
  {
   "cell_type": "code",
   "execution_count": 2,
   "metadata": {},
   "outputs": [],
   "source": [
    "import pandas as pd\n",
    "import openai\n",
    "import os\n",
    "import gspread\n",
    "import numpy as np\n",
    "from dotenv import load_dotenv, find_dotenv\n",
    "_ = load_dotenv(find_dotenv()) # read local .env file\n",
    "\n",
    "openai.api_key  = os.getenv('OPENAIKEY')"
   ]
  },
  {
   "cell_type": "markdown",
   "metadata": {},
   "source": [
    "# Goal:\n",
    "1. Add all state of province detail to each city\n",
    "2. population\n",
    "3. download standard city boundary from openstreetmap\n",
    "4. CO2 emission or Gastro usage\n",
    "5. GPD per capita"
   ]
  },
  {
   "cell_type": "code",
   "execution_count": 15,
   "metadata": {},
   "outputs": [],
   "source": [
    "import os\n",
    "import gspread\n",
    "import numpy as np\n",
    "import pandas as pd\n",
    "\n",
    "def read_url(url, SHEET_NAME):\n",
    "    SHEET_ID = url.split(\"/\")[5]\n",
    "    spreadsheet = gc.open_by_key(SHEET_ID)\n",
    "    worksheet = spreadsheet.worksheet(SHEET_NAME)\n",
    "    rows = worksheet.get_all_records()\n",
    "    df_spread = pd.DataFrame(rows)\n",
    "    return df_spread, worksheet\n",
    "\n",
    "serviceaccount = \"../../google_drive_personal.json\"\n",
    "gc = gspread.service_account(filename=serviceaccount)\n",
    "GC_URL = \"https://docs.google.com/spreadsheets/d/1o5gFmZPUoDwrrbfE6M26uJF3HnEZll02ivnOxP6K6Xw/edit?usp=sharing\"\n",
    "\n",
    "SHEETNAME = \"select_city_classifier\"\n",
    "city_meta, other_worksheet = read_url(GC_URL, SHEETNAME)\n",
    "city_meta = city_meta[city_meta['City']!=''].reset_index(drop = True)\n",
    "city_meta[\"country_clean\"] = np.where(city_meta[\"Country\"].isin([\"USA\", \"United States\"]), \n",
    "                                      \"United States of America\",\n",
    "                                      city_meta[\"Country\"]\n",
    "                                     )"
   ]
  },
  {
   "cell_type": "markdown",
   "metadata": {},
   "source": [
    "## 1. ADD all state names use chatgpt "
   ]
  },
  {
   "cell_type": "code",
   "execution_count": 7,
   "metadata": {},
   "outputs": [],
   "source": [
    "\n",
    "def get_completion(messages, model=\"gpt-3.5-turbo\"): # Andrew mentioned that the prompt/ completion paradigm is preferable for this class\n",
    "    # messages = [{\"role\": \"user\", \"content\": prompt}]\n",
    "    response = openai.chat.completions.create(\n",
    "        model=model,\n",
    "        messages=messages,\n",
    "        temperature=0, # this is the degree of randomness of the model's output\n",
    "    )\n",
    "    return response.choices[0].message.content"
   ]
  },
  {
   "cell_type": "code",
   "execution_count": 22,
   "metadata": {},
   "outputs": [
    {
     "data": {
      "text/plain": [
       "'Hindupur, India;Vijayawada, India'"
      ]
     },
     "execution_count": 22,
     "metadata": {},
     "output_type": "execute_result"
    }
   ],
   "source": [
    "city_meta_str = city_meta.apply(lambda x: f\"{x['City']}, {x['country_clean']}\", axis=1).tolist()\n",
    "\n",
    "input_city = \";\".join(city_meta_str[:2])\n",
    "input_city"
   ]
  },
  {
   "cell_type": "code",
   "execution_count": 42,
   "metadata": {},
   "outputs": [],
   "source": [
    "prompt = \"\"\"\n",
    "Your task is to:\n",
    "Read a city and country combinations below inside the triple backquote. \\\n",
    "The city and country are separated by a comma. \\\n",
    "Input examples is: \"city_1, country_1\".\n",
    "Given the input city and country combination, you should return the state or province of the city and country combination in the format like:\\\n",
    "\"state: returned state or province\".\\\n",
    "Input city and country combinations:```{input_city}```\n",
    "\"\"\"\n",
    "# messages = [{\"role\": \"user\", \"content\": prompt}]\n",
    "# answer = get_completion(messages)\n",
    "# # # messages.append({\"role\": \"assistant\", \"content\": answer})\n",
    "# answer"
   ]
  },
  {
   "cell_type": "code",
   "execution_count": 47,
   "metadata": {
    "collapsed": true,
    "jupyter": {
     "outputs_hidden": true
    },
    "tags": []
   },
   "outputs": [
    {
     "name": "stderr",
     "output_type": "stream",
     "text": [
      "  1%|          | 1/127 [00:00<01:42,  1.22it/s]"
     ]
    },
    {
     "name": "stdout",
     "output_type": "stream",
     "text": [
      "Output: state: Andhra Pradesh\n"
     ]
    },
    {
     "name": "stderr",
     "output_type": "stream",
     "text": [
      "  2%|▏         | 2/127 [00:01<01:43,  1.21it/s]"
     ]
    },
    {
     "name": "stdout",
     "output_type": "stream",
     "text": [
      "Output: state: Andhra Pradesh\n"
     ]
    },
    {
     "name": "stderr",
     "output_type": "stream",
     "text": [
      "  2%|▏         | 3/127 [00:02<01:27,  1.41it/s]"
     ]
    },
    {
     "name": "stdout",
     "output_type": "stream",
     "text": [
      "state: Rangpur Division\n"
     ]
    },
    {
     "name": "stderr",
     "output_type": "stream",
     "text": [
      "  3%|▎         | 4/127 [00:02<01:16,  1.61it/s]"
     ]
    },
    {
     "name": "stdout",
     "output_type": "stream",
     "text": [
      "state: British Columbia\n"
     ]
    },
    {
     "name": "stderr",
     "output_type": "stream",
     "text": [
      "  4%|▍         | 5/127 [00:03<01:05,  1.85it/s]"
     ]
    },
    {
     "name": "stdout",
     "output_type": "stream",
     "text": [
      "state: Santiago\n"
     ]
    },
    {
     "name": "stderr",
     "output_type": "stream",
     "text": [
      "  5%|▍         | 6/127 [00:03<01:03,  1.91it/s]"
     ]
    },
    {
     "name": "stdout",
     "output_type": "stream",
     "text": [
      "state: Cesar\n"
     ]
    },
    {
     "name": "stderr",
     "output_type": "stream",
     "text": [
      "  6%|▌         | 7/127 [00:04<01:11,  1.68it/s]"
     ]
    },
    {
     "name": "stdout",
     "output_type": "stream",
     "text": [
      "state: Perm Krai\n"
     ]
    },
    {
     "name": "stderr",
     "output_type": "stream",
     "text": [
      "  6%|▋         | 8/127 [00:04<01:09,  1.72it/s]"
     ]
    },
    {
     "name": "stdout",
     "output_type": "stream",
     "text": [
      "state: Rivne\n"
     ]
    },
    {
     "name": "stderr",
     "output_type": "stream",
     "text": [
      "  7%|▋         | 9/127 [00:05<01:02,  1.88it/s]"
     ]
    },
    {
     "name": "stdout",
     "output_type": "stream",
     "text": [
      "state: West Java\n"
     ]
    },
    {
     "name": "stderr",
     "output_type": "stream",
     "text": [
      "  8%|▊         | 10/127 [00:05<01:00,  1.92it/s]"
     ]
    },
    {
     "name": "stdout",
     "output_type": "stream",
     "text": [
      "state: West Java\n"
     ]
    },
    {
     "name": "stderr",
     "output_type": "stream",
     "text": [
      "  9%|▊         | 11/127 [00:06<01:11,  1.61it/s]"
     ]
    },
    {
     "name": "stdout",
     "output_type": "stream",
     "text": [
      "Output: state: Tel Aviv District\n"
     ]
    },
    {
     "name": "stderr",
     "output_type": "stream",
     "text": [
      "  9%|▉         | 12/127 [00:07<01:05,  1.75it/s]"
     ]
    },
    {
     "name": "stdout",
     "output_type": "stream",
     "text": [
      "state: Bahia\n"
     ]
    },
    {
     "name": "stderr",
     "output_type": "stream",
     "text": [
      " 10%|█         | 13/127 [00:07<01:01,  1.85it/s]"
     ]
    },
    {
     "name": "stdout",
     "output_type": "stream",
     "text": [
      "Output:\n",
      "state: Metro Manila\n"
     ]
    },
    {
     "name": "stderr",
     "output_type": "stream",
     "text": [
      " 11%|█         | 14/127 [00:09<01:53,  1.01s/it]"
     ]
    },
    {
     "name": "stdout",
     "output_type": "stream",
     "text": [
      "Output: state: Gombe\n"
     ]
    },
    {
     "name": "stderr",
     "output_type": "stream",
     "text": [
      " 12%|█▏        | 15/127 [00:10<01:38,  1.14it/s]"
     ]
    },
    {
     "name": "stdout",
     "output_type": "stream",
     "text": [
      "Output:\n",
      "state: Guatemala\n"
     ]
    },
    {
     "name": "stderr",
     "output_type": "stream",
     "text": [
      " 13%|█▎        | 16/127 [00:10<01:24,  1.32it/s]"
     ]
    },
    {
     "name": "stdout",
     "output_type": "stream",
     "text": [
      "state: Maharashtra\n"
     ]
    },
    {
     "name": "stderr",
     "output_type": "stream",
     "text": [
      " 13%|█▎        | 17/127 [00:11<01:29,  1.23it/s]"
     ]
    },
    {
     "name": "stdout",
     "output_type": "stream",
     "text": [
      "state: Pays de la Loire\n"
     ]
    },
    {
     "name": "stderr",
     "output_type": "stream",
     "text": [
      " 14%|█▍        | 18/127 [00:12<01:17,  1.41it/s]"
     ]
    },
    {
     "name": "stdout",
     "output_type": "stream",
     "text": [
      "state: Cochabamba\n"
     ]
    },
    {
     "name": "stderr",
     "output_type": "stream",
     "text": [
      " 15%|█▍        | 19/127 [00:12<01:08,  1.57it/s]"
     ]
    },
    {
     "name": "stdout",
     "output_type": "stream",
     "text": [
      "state: Bahia\n"
     ]
    },
    {
     "name": "stderr",
     "output_type": "stream",
     "text": [
      " 16%|█▌        | 20/127 [00:13<01:06,  1.61it/s]"
     ]
    },
    {
     "name": "stdout",
     "output_type": "stream",
     "text": [
      "Output: state: Nizhny Novgorod Oblast\n"
     ]
    },
    {
     "name": "stderr",
     "output_type": "stream",
     "text": [
      " 17%|█▋        | 21/127 [00:13<01:00,  1.74it/s]"
     ]
    },
    {
     "name": "stdout",
     "output_type": "stream",
     "text": [
      "Output: state: Uttar Pradesh\n"
     ]
    },
    {
     "name": "stderr",
     "output_type": "stream",
     "text": [
      " 17%|█▋        | 22/127 [00:14<00:56,  1.85it/s]"
     ]
    },
    {
     "name": "stdout",
     "output_type": "stream",
     "text": [
      "state: Astrakhan Oblast\n"
     ]
    },
    {
     "name": "stderr",
     "output_type": "stream",
     "text": [
      " 18%|█▊        | 23/127 [00:14<00:53,  1.94it/s]"
     ]
    },
    {
     "name": "stdout",
     "output_type": "stream",
     "text": [
      "Output: state: Overijssel\n"
     ]
    },
    {
     "name": "stderr",
     "output_type": "stream",
     "text": [
      " 19%|█▉        | 24/127 [00:15<00:53,  1.91it/s]"
     ]
    },
    {
     "name": "stdout",
     "output_type": "stream",
     "text": [
      "Output: state: Tyumen Oblast\n"
     ]
    },
    {
     "name": "stderr",
     "output_type": "stream",
     "text": [
      " 20%|█▉        | 25/127 [00:15<00:50,  2.01it/s]"
     ]
    },
    {
     "name": "stdout",
     "output_type": "stream",
     "text": [
      "state: Texas\n"
     ]
    },
    {
     "name": "stderr",
     "output_type": "stream",
     "text": [
      " 20%|██        | 26/127 [00:15<00:47,  2.14it/s]"
     ]
    },
    {
     "name": "stdout",
     "output_type": "stream",
     "text": [
      "state: California\n"
     ]
    },
    {
     "name": "stderr",
     "output_type": "stream",
     "text": [
      " 21%|██▏       | 27/127 [00:16<00:49,  2.04it/s]"
     ]
    },
    {
     "name": "stdout",
     "output_type": "stream",
     "text": [
      "state: Negros Occidental\n"
     ]
    },
    {
     "name": "stderr",
     "output_type": "stream",
     "text": [
      " 22%|██▏       | 28/127 [00:17<00:49,  1.99it/s]"
     ]
    },
    {
     "name": "stdout",
     "output_type": "stream",
     "text": [
      "Output: state: Sicily\n"
     ]
    },
    {
     "name": "stderr",
     "output_type": "stream",
     "text": [
      " 23%|██▎       | 29/127 [00:17<00:48,  2.03it/s]"
     ]
    },
    {
     "name": "stdout",
     "output_type": "stream",
     "text": [
      "Output: state: Cebu\n"
     ]
    },
    {
     "name": "stderr",
     "output_type": "stream",
     "text": [
      " 24%|██▎       | 30/127 [00:17<00:45,  2.13it/s]"
     ]
    },
    {
     "name": "stdout",
     "output_type": "stream",
     "text": [
      "state: Florida\n"
     ]
    },
    {
     "name": "stderr",
     "output_type": "stream",
     "text": [
      " 24%|██▍       | 31/127 [00:18<00:55,  1.72it/s]"
     ]
    },
    {
     "name": "stdout",
     "output_type": "stream",
     "text": [
      "Output: state: Central Region\n"
     ]
    },
    {
     "name": "stderr",
     "output_type": "stream",
     "text": [
      " 25%|██▌       | 32/127 [00:19<00:54,  1.73it/s]"
     ]
    },
    {
     "name": "stdout",
     "output_type": "stream",
     "text": [
      "Output: state: Florida\n"
     ]
    },
    {
     "name": "stderr",
     "output_type": "stream",
     "text": [
      " 26%|██▌       | 33/127 [00:19<00:52,  1.79it/s]"
     ]
    },
    {
     "name": "stdout",
     "output_type": "stream",
     "text": [
      "state: Kaunas County\n"
     ]
    },
    {
     "name": "stderr",
     "output_type": "stream",
     "text": [
      " 27%|██▋       | 34/127 [00:20<00:49,  1.87it/s]"
     ]
    },
    {
     "name": "stdout",
     "output_type": "stream",
     "text": [
      "state: California\n"
     ]
    },
    {
     "name": "stderr",
     "output_type": "stream",
     "text": [
      " 28%|██▊       | 35/127 [00:20<00:52,  1.75it/s]"
     ]
    },
    {
     "name": "stdout",
     "output_type": "stream",
     "text": [
      "state: Greater Manchester\n"
     ]
    },
    {
     "name": "stderr",
     "output_type": "stream",
     "text": [
      " 28%|██▊       | 36/127 [00:21<00:49,  1.85it/s]"
     ]
    },
    {
     "name": "stdout",
     "output_type": "stream",
     "text": [
      "state: Île-de-France\n"
     ]
    },
    {
     "name": "stderr",
     "output_type": "stream",
     "text": [
      " 29%|██▉       | 37/127 [00:22<01:15,  1.20it/s]"
     ]
    },
    {
     "name": "stdout",
     "output_type": "stream",
     "text": [
      "state: Jalisco\n"
     ]
    },
    {
     "name": "stderr",
     "output_type": "stream",
     "text": [
      " 30%|██▉       | 38/127 [00:23<01:06,  1.34it/s]"
     ]
    },
    {
     "name": "stdout",
     "output_type": "stream",
     "text": [
      "state: Tamaulipas\n"
     ]
    },
    {
     "name": "stderr",
     "output_type": "stream",
     "text": [
      " 31%|███       | 39/127 [00:23<00:59,  1.49it/s]"
     ]
    },
    {
     "name": "stdout",
     "output_type": "stream",
     "text": [
      "Output: state: Belgrade\n"
     ]
    },
    {
     "name": "stderr",
     "output_type": "stream",
     "text": [
      " 31%|███▏      | 40/127 [00:24<00:54,  1.58it/s]"
     ]
    },
    {
     "name": "stdout",
     "output_type": "stream",
     "text": [
      "State: Minnesota\n"
     ]
    },
    {
     "name": "stderr",
     "output_type": "stream",
     "text": [
      " 32%|███▏      | 41/127 [00:24<00:48,  1.78it/s]"
     ]
    },
    {
     "name": "stdout",
     "output_type": "stream",
     "text": [
      "state: Antwerp\n"
     ]
    },
    {
     "name": "stderr",
     "output_type": "stream",
     "text": [
      " 33%|███▎      | 42/127 [00:25<00:54,  1.57it/s]"
     ]
    },
    {
     "name": "stdout",
     "output_type": "stream",
     "text": [
      "state: Greater Accra\n"
     ]
    },
    {
     "name": "stderr",
     "output_type": "stream",
     "text": [
      " 34%|███▍      | 43/127 [00:26<00:51,  1.63it/s]"
     ]
    },
    {
     "name": "stdout",
     "output_type": "stream",
     "text": [
      "Output:\n",
      "state: Tocantins\n"
     ]
    },
    {
     "name": "stderr",
     "output_type": "stream",
     "text": [
      " 35%|███▍      | 44/127 [00:27<00:55,  1.50it/s]"
     ]
    },
    {
     "name": "stdout",
     "output_type": "stream",
     "text": [
      "Output: state: Sinaloa\n"
     ]
    },
    {
     "name": "stderr",
     "output_type": "stream",
     "text": [
      " 35%|███▌      | 45/127 [00:27<00:50,  1.61it/s]"
     ]
    },
    {
     "name": "stdout",
     "output_type": "stream",
     "text": [
      "Output:\n",
      "state: Ohio\n"
     ]
    },
    {
     "name": "stderr",
     "output_type": "stream",
     "text": [
      " 36%|███▌      | 46/127 [00:28<00:45,  1.77it/s]"
     ]
    },
    {
     "name": "stdout",
     "output_type": "stream",
     "text": [
      "state: Maharashtra\n"
     ]
    },
    {
     "name": "stderr",
     "output_type": "stream",
     "text": [
      " 37%|███▋      | 47/127 [00:28<00:41,  1.94it/s]"
     ]
    },
    {
     "name": "stdout",
     "output_type": "stream",
     "text": [
      "Output: state: Maharashtra\n"
     ]
    },
    {
     "name": "stderr",
     "output_type": "stream",
     "text": [
      " 38%|███▊      | 48/127 [00:29<00:50,  1.56it/s]"
     ]
    },
    {
     "name": "stdout",
     "output_type": "stream",
     "text": [
      "Output: state: Rajshahi\n"
     ]
    },
    {
     "name": "stderr",
     "output_type": "stream",
     "text": [
      " 39%|███▊      | 49/127 [00:29<00:44,  1.74it/s]"
     ]
    },
    {
     "name": "stdout",
     "output_type": "stream",
     "text": [
      "Output: state: Kerala\n"
     ]
    },
    {
     "name": "stderr",
     "output_type": "stream",
     "text": [
      " 39%|███▉      | 50/127 [00:30<00:40,  1.89it/s]"
     ]
    },
    {
     "name": "stdout",
     "output_type": "stream",
     "text": [
      "Output: state: Ohio\n"
     ]
    },
    {
     "name": "stderr",
     "output_type": "stream",
     "text": [
      " 40%|████      | 51/127 [00:30<00:42,  1.80it/s]"
     ]
    },
    {
     "name": "stdout",
     "output_type": "stream",
     "text": [
      "Output: state: Santa Catarina\n"
     ]
    },
    {
     "name": "stderr",
     "output_type": "stream",
     "text": [
      " 41%|████      | 52/127 [00:31<00:44,  1.68it/s]"
     ]
    },
    {
     "name": "stdout",
     "output_type": "stream",
     "text": [
      "Output: state: Wellington\n"
     ]
    },
    {
     "name": "stderr",
     "output_type": "stream",
     "text": [
      " 42%|████▏     | 53/127 [00:32<00:49,  1.51it/s]"
     ]
    },
    {
     "name": "stdout",
     "output_type": "stream",
     "text": [
      "state: Massachusetts\n"
     ]
    },
    {
     "name": "stderr",
     "output_type": "stream",
     "text": [
      " 43%|████▎     | 54/127 [00:33<00:52,  1.40it/s]"
     ]
    },
    {
     "name": "stdout",
     "output_type": "stream",
     "text": [
      "Output: state: England\n"
     ]
    },
    {
     "name": "stderr",
     "output_type": "stream",
     "text": [
      " 43%|████▎     | 55/127 [00:33<00:51,  1.41it/s]"
     ]
    },
    {
     "name": "stdout",
     "output_type": "stream",
     "text": [
      "Output:\n",
      "state: Sao Paulo\n"
     ]
    },
    {
     "name": "stderr",
     "output_type": "stream",
     "text": [
      " 44%|████▍     | 56/127 [00:34<00:48,  1.45it/s]"
     ]
    },
    {
     "name": "stdout",
     "output_type": "stream",
     "text": [
      "Output: state: North Sumatra\n"
     ]
    },
    {
     "name": "stderr",
     "output_type": "stream",
     "text": [
      " 45%|████▍     | 57/127 [00:35<00:49,  1.41it/s]"
     ]
    },
    {
     "name": "stdout",
     "output_type": "stream",
     "text": [
      "state: Bavaria\n"
     ]
    },
    {
     "name": "stderr",
     "output_type": "stream",
     "text": [
      " 46%|████▌     | 58/127 [00:35<00:45,  1.50it/s]"
     ]
    },
    {
     "name": "stdout",
     "output_type": "stream",
     "text": [
      "state: South-East\n"
     ]
    },
    {
     "name": "stderr",
     "output_type": "stream",
     "text": [
      " 46%|████▋     | 59/127 [00:36<00:44,  1.54it/s]"
     ]
    },
    {
     "name": "stdout",
     "output_type": "stream",
     "text": [
      "state: Jerusalem District\n"
     ]
    },
    {
     "name": "stderr",
     "output_type": "stream",
     "text": [
      " 47%|████▋     | 60/127 [00:36<00:39,  1.68it/s]"
     ]
    },
    {
     "name": "stdout",
     "output_type": "stream",
     "text": [
      "state: South Sumatra\n"
     ]
    },
    {
     "name": "stderr",
     "output_type": "stream",
     "text": [
      " 48%|████▊     | 61/127 [00:37<00:37,  1.74it/s]"
     ]
    },
    {
     "name": "stdout",
     "output_type": "stream",
     "text": [
      "Output: state: Maharashtra\n"
     ]
    },
    {
     "name": "stderr",
     "output_type": "stream",
     "text": [
      " 49%|████▉     | 62/127 [00:37<00:35,  1.83it/s]"
     ]
    },
    {
     "name": "stdout",
     "output_type": "stream",
     "text": [
      "state: Madrid\n"
     ]
    },
    {
     "name": "stderr",
     "output_type": "stream",
     "text": [
      " 50%|████▉     | 63/127 [00:38<00:36,  1.75it/s]"
     ]
    },
    {
     "name": "stdout",
     "output_type": "stream",
     "text": [
      "Output: state: Stockholm County\n"
     ]
    },
    {
     "name": "stderr",
     "output_type": "stream",
     "text": [
      " 50%|█████     | 64/127 [00:39<00:35,  1.78it/s]"
     ]
    },
    {
     "name": "stdout",
     "output_type": "stream",
     "text": [
      "Output: state: Kyiv City\n"
     ]
    },
    {
     "name": "stderr",
     "output_type": "stream",
     "text": [
      " 51%|█████     | 65/127 [00:39<00:32,  1.92it/s]"
     ]
    },
    {
     "name": "stdout",
     "output_type": "stream",
     "text": [
      "state: Taipei City\n"
     ]
    },
    {
     "name": "stderr",
     "output_type": "stream",
     "text": [
      " 52%|█████▏    | 66/127 [00:40<00:32,  1.88it/s]"
     ]
    },
    {
     "name": "stdout",
     "output_type": "stream",
     "text": [
      "state: Uttar Pradesh\n"
     ]
    },
    {
     "name": "stderr",
     "output_type": "stream",
     "text": [
      " 53%|█████▎    | 67/127 [00:40<00:34,  1.74it/s]"
     ]
    },
    {
     "name": "stdout",
     "output_type": "stream",
     "text": [
      "state: Capital Region\n"
     ]
    },
    {
     "name": "stderr",
     "output_type": "stream",
     "text": [
      " 54%|█████▎    | 68/127 [00:41<00:33,  1.78it/s]"
     ]
    },
    {
     "name": "stdout",
     "output_type": "stream",
     "text": [
      "Output:\n",
      "state: Minas Gerais\n"
     ]
    },
    {
     "name": "stderr",
     "output_type": "stream",
     "text": [
      " 54%|█████▍    | 69/127 [00:41<00:31,  1.83it/s]"
     ]
    },
    {
     "name": "stdout",
     "output_type": "stream",
     "text": [
      "state: Kigali\n"
     ]
    },
    {
     "name": "stderr",
     "output_type": "stream",
     "text": [
      " 55%|█████▌    | 70/127 [00:42<00:28,  2.02it/s]"
     ]
    },
    {
     "name": "stdout",
     "output_type": "stream",
     "text": [
      "state: Colorado\n"
     ]
    },
    {
     "name": "stderr",
     "output_type": "stream",
     "text": [
      " 56%|█████▌    | 71/127 [00:42<00:27,  2.06it/s]"
     ]
    },
    {
     "name": "stdout",
     "output_type": "stream",
     "text": [
      "state: Dubai\n"
     ]
    },
    {
     "name": "stderr",
     "output_type": "stream",
     "text": [
      " 57%|█████▋    | 72/127 [00:43<00:26,  2.08it/s]"
     ]
    },
    {
     "name": "stdout",
     "output_type": "stream",
     "text": [
      "state: Vienna\n"
     ]
    },
    {
     "name": "stderr",
     "output_type": "stream",
     "text": [
      " 57%|█████▋    | 73/127 [00:43<00:25,  2.12it/s]"
     ]
    },
    {
     "name": "stdout",
     "output_type": "stream",
     "text": [
      "state: Oregon\n"
     ]
    },
    {
     "name": "stderr",
     "output_type": "stream",
     "text": [
      " 58%|█████▊    | 74/127 [00:44<00:25,  2.06it/s]"
     ]
    },
    {
     "name": "stdout",
     "output_type": "stream",
     "text": [
      "Output: state: North Carolina\n"
     ]
    },
    {
     "name": "stderr",
     "output_type": "stream",
     "text": [
      " 59%|█████▉    | 75/127 [00:44<00:27,  1.92it/s]"
     ]
    },
    {
     "name": "stdout",
     "output_type": "stream",
     "text": [
      "Output: state: Pichincha\n"
     ]
    },
    {
     "name": "stderr",
     "output_type": "stream",
     "text": [
      " 60%|█████▉    | 76/127 [00:45<00:24,  2.07it/s]"
     ]
    },
    {
     "name": "stdout",
     "output_type": "stream",
     "text": [
      "state: Karnataka\n"
     ]
    },
    {
     "name": "stderr",
     "output_type": "stream",
     "text": [
      " 61%|██████    | 77/127 [00:45<00:24,  2.03it/s]"
     ]
    },
    {
     "name": "stdout",
     "output_type": "stream",
     "text": [
      "state: Quebec\n"
     ]
    },
    {
     "name": "stderr",
     "output_type": "stream",
     "text": [
      " 61%|██████▏   | 78/127 [00:46<00:23,  2.09it/s]"
     ]
    },
    {
     "name": "stdout",
     "output_type": "stream",
     "text": [
      "state: Maharashtra\n"
     ]
    },
    {
     "name": "stderr",
     "output_type": "stream",
     "text": [
      " 62%|██████▏   | 79/127 [00:46<00:24,  1.99it/s]"
     ]
    },
    {
     "name": "stdout",
     "output_type": "stream",
     "text": [
      "state: Brussels Capital Region\n"
     ]
    },
    {
     "name": "stderr",
     "output_type": "stream",
     "text": [
      " 63%|██████▎   | 80/127 [00:47<00:23,  2.01it/s]"
     ]
    },
    {
     "name": "stdout",
     "output_type": "stream",
     "text": [
      "Output: state: Rajasthan\n"
     ]
    },
    {
     "name": "stderr",
     "output_type": "stream",
     "text": [
      " 64%|██████▍   | 81/127 [00:52<01:33,  2.04s/it]"
     ]
    },
    {
     "name": "stdout",
     "output_type": "stream",
     "text": [
      "Output: state: Cundinamarca\n"
     ]
    },
    {
     "name": "stderr",
     "output_type": "stream",
     "text": [
      " 65%|██████▍   | 82/127 [00:53<01:10,  1.56s/it]"
     ]
    },
    {
     "name": "stdout",
     "output_type": "stream",
     "text": [
      "state: Michigan\n"
     ]
    },
    {
     "name": "stderr",
     "output_type": "stream",
     "text": [
      " 65%|██████▌   | 83/127 [00:53<00:54,  1.23s/it]"
     ]
    },
    {
     "name": "stdout",
     "output_type": "stream",
     "text": [
      "state: N/A\n"
     ]
    },
    {
     "name": "stderr",
     "output_type": "stream",
     "text": [
      " 66%|██████▌   | 84/127 [00:54<00:47,  1.11s/it]"
     ]
    },
    {
     "name": "stdout",
     "output_type": "stream",
     "text": [
      "state: Parana\n"
     ]
    },
    {
     "name": "stderr",
     "output_type": "stream",
     "text": [
      " 67%|██████▋   | 85/127 [00:55<00:41,  1.00it/s]"
     ]
    },
    {
     "name": "stdout",
     "output_type": "stream",
     "text": [
      "Output: state: Central Macedonia\n"
     ]
    },
    {
     "name": "stderr",
     "output_type": "stream",
     "text": [
      " 68%|██████▊   | 86/127 [00:55<00:34,  1.18it/s]"
     ]
    },
    {
     "name": "stdout",
     "output_type": "stream",
     "text": [
      "state: Budapest\n"
     ]
    },
    {
     "name": "stderr",
     "output_type": "stream",
     "text": [
      " 69%|██████▊   | 87/127 [00:56<00:30,  1.33it/s]"
     ]
    },
    {
     "name": "stdout",
     "output_type": "stream",
     "text": [
      "state: Masovian Voivodeship\n"
     ]
    },
    {
     "name": "stderr",
     "output_type": "stream",
     "text": [
      " 69%|██████▉   | 88/127 [00:57<00:31,  1.23it/s]"
     ]
    },
    {
     "name": "stdout",
     "output_type": "stream",
     "text": [
      "state: N/A\n"
     ]
    },
    {
     "name": "stderr",
     "output_type": "stream",
     "text": [
      " 70%|███████   | 89/127 [00:57<00:29,  1.27it/s]"
     ]
    },
    {
     "name": "stdout",
     "output_type": "stream",
     "text": [
      "Output: state: Delhi\n"
     ]
    },
    {
     "name": "stderr",
     "output_type": "stream",
     "text": [
      " 71%|███████   | 90/127 [00:58<00:24,  1.49it/s]"
     ]
    },
    {
     "name": "stdout",
     "output_type": "stream",
     "text": [
      "state: Lazio\n"
     ]
    },
    {
     "name": "stderr",
     "output_type": "stream",
     "text": [
      " 72%|███████▏  | 91/127 [00:58<00:22,  1.57it/s]"
     ]
    },
    {
     "name": "stdout",
     "output_type": "stream",
     "text": [
      "state: Berlin\n"
     ]
    },
    {
     "name": "stderr",
     "output_type": "stream",
     "text": [
      " 72%|███████▏  | 92/127 [00:59<00:20,  1.74it/s]"
     ]
    },
    {
     "name": "stdout",
     "output_type": "stream",
     "text": [
      "state: Seoul\n"
     ]
    },
    {
     "name": "stderr",
     "output_type": "stream",
     "text": [
      " 73%|███████▎  | 93/127 [00:59<00:18,  1.81it/s]"
     ]
    },
    {
     "name": "stdout",
     "output_type": "stream",
     "text": [
      "Output: state: Yamaguchi\n"
     ]
    },
    {
     "name": "stderr",
     "output_type": "stream",
     "text": [
      " 74%|███████▍  | 94/127 [01:00<00:16,  1.97it/s]"
     ]
    },
    {
     "name": "stdout",
     "output_type": "stream",
     "text": [
      "state: Western Cape\n"
     ]
    },
    {
     "name": "stderr",
     "output_type": "stream",
     "text": [
      " 75%|███████▍  | 95/127 [01:00<00:16,  1.97it/s]"
     ]
    },
    {
     "name": "stdout",
     "output_type": "stream",
     "text": [
      "state: Nairobi\n"
     ]
    },
    {
     "name": "stderr",
     "output_type": "stream",
     "text": [
      " 76%|███████▌  | 96/127 [01:01<00:15,  2.02it/s]"
     ]
    },
    {
     "name": "stdout",
     "output_type": "stream",
     "text": [
      "state: Lagos\n"
     ]
    },
    {
     "name": "stderr",
     "output_type": "stream",
     "text": [
      " 76%|███████▋  | 97/127 [01:01<00:14,  2.01it/s]"
     ]
    },
    {
     "name": "stdout",
     "output_type": "stream",
     "text": [
      "Output: state: Telangana\n"
     ]
    },
    {
     "name": "stderr",
     "output_type": "stream",
     "text": [
      " 77%|███████▋  | 98/127 [01:02<00:14,  1.94it/s]"
     ]
    },
    {
     "name": "stdout",
     "output_type": "stream",
     "text": [
      "state: New York\n"
     ]
    },
    {
     "name": "stderr",
     "output_type": "stream",
     "text": [
      " 78%|███████▊  | 99/127 [01:02<00:14,  1.95it/s]"
     ]
    },
    {
     "name": "stdout",
     "output_type": "stream",
     "text": [
      "state: Attica\n"
     ]
    },
    {
     "name": "stderr",
     "output_type": "stream",
     "text": [
      " 79%|███████▊  | 100/127 [01:03<00:15,  1.74it/s]"
     ]
    },
    {
     "name": "stdout",
     "output_type": "stream",
     "text": [
      "state: Mexico City\n"
     ]
    },
    {
     "name": "stderr",
     "output_type": "stream",
     "text": [
      " 80%|███████▉  | 101/127 [01:04<00:14,  1.75it/s]"
     ]
    },
    {
     "name": "stdout",
     "output_type": "stream",
     "text": [
      "Output: state: Saint Petersburg\n"
     ]
    },
    {
     "name": "stderr",
     "output_type": "stream",
     "text": [
      " 80%|████████  | 102/127 [01:04<00:15,  1.59it/s]"
     ]
    },
    {
     "name": "stdout",
     "output_type": "stream",
     "text": [
      "state: Auckland\n"
     ]
    },
    {
     "name": "stderr",
     "output_type": "stream",
     "text": [
      " 81%|████████  | 103/127 [01:05<00:13,  1.80it/s]"
     ]
    },
    {
     "name": "stdout",
     "output_type": "stream",
     "text": [
      "state: Moscow\n"
     ]
    },
    {
     "name": "stderr",
     "output_type": "stream",
     "text": [
      " 82%|████████▏ | 104/127 [01:05<00:12,  1.91it/s]"
     ]
    },
    {
     "name": "stdout",
     "output_type": "stream",
     "text": [
      "state: California\n"
     ]
    },
    {
     "name": "stderr",
     "output_type": "stream",
     "text": [
      " 83%|████████▎ | 105/127 [01:06<00:10,  2.02it/s]"
     ]
    },
    {
     "name": "stdout",
     "output_type": "stream",
     "text": [
      "Output:\n",
      "state: Istanbul\n"
     ]
    },
    {
     "name": "stderr",
     "output_type": "stream",
     "text": [
      " 83%|████████▎ | 106/127 [01:06<00:12,  1.68it/s]"
     ]
    },
    {
     "name": "stdout",
     "output_type": "stream",
     "text": [
      "Output: state: Tokyo\n"
     ]
    },
    {
     "name": "stderr",
     "output_type": "stream",
     "text": [
      " 84%|████████▍ | 107/127 [01:07<00:11,  1.69it/s]"
     ]
    },
    {
     "name": "stdout",
     "output_type": "stream",
     "text": [
      "Output: state: New South Wales\n"
     ]
    },
    {
     "name": "stderr",
     "output_type": "stream",
     "text": [
      " 85%|████████▌ | 108/127 [01:07<00:10,  1.80it/s]"
     ]
    },
    {
     "name": "stdout",
     "output_type": "stream",
     "text": [
      "state: England\n"
     ]
    },
    {
     "name": "stderr",
     "output_type": "stream",
     "text": [
      " 86%|████████▌ | 109/127 [01:08<00:09,  1.92it/s]"
     ]
    },
    {
     "name": "stdout",
     "output_type": "stream",
     "text": [
      "Output: state: Okayama\n"
     ]
    },
    {
     "name": "stderr",
     "output_type": "stream",
     "text": [
      " 87%|████████▋ | 110/127 [01:08<00:09,  1.88it/s]"
     ]
    },
    {
     "name": "stdout",
     "output_type": "stream",
     "text": [
      "Output: state: Gauteng\n"
     ]
    },
    {
     "name": "stderr",
     "output_type": "stream",
     "text": [
      " 87%|████████▋ | 111/127 [01:09<00:08,  1.91it/s]"
     ]
    },
    {
     "name": "stdout",
     "output_type": "stream",
     "text": [
      "Output: state: Fukuoka Prefecture\n"
     ]
    },
    {
     "name": "stderr",
     "output_type": "stream",
     "text": [
      " 88%|████████▊ | 112/127 [01:09<00:07,  1.94it/s]"
     ]
    },
    {
     "name": "stdout",
     "output_type": "stream",
     "text": [
      "state: Dhaka\n"
     ]
    },
    {
     "name": "stderr",
     "output_type": "stream",
     "text": [
      " 89%|████████▉ | 113/127 [01:10<00:07,  1.93it/s]"
     ]
    },
    {
     "name": "stdout",
     "output_type": "stream",
     "text": [
      "state: Federal Territory of Kuala Lumpur\n"
     ]
    },
    {
     "name": "stderr",
     "output_type": "stream",
     "text": [
      " 90%|████████▉ | 114/127 [01:11<00:10,  1.21it/s]"
     ]
    },
    {
     "name": "stdout",
     "output_type": "stream",
     "text": [
      "state: Texas\n"
     ]
    },
    {
     "name": "stderr",
     "output_type": "stream",
     "text": [
      " 91%|█████████ | 115/127 [01:12<00:08,  1.42it/s]"
     ]
    },
    {
     "name": "stdout",
     "output_type": "stream",
     "text": [
      "Output: state: Buenos Aires\n"
     ]
    },
    {
     "name": "stderr",
     "output_type": "stream",
     "text": [
      " 91%|█████████▏| 116/127 [01:12<00:06,  1.58it/s]"
     ]
    },
    {
     "name": "stdout",
     "output_type": "stream",
     "text": [
      "state: North Holland\n"
     ]
    },
    {
     "name": "stderr",
     "output_type": "stream",
     "text": [
      " 92%|█████████▏| 117/127 [01:13<00:05,  1.71it/s]"
     ]
    },
    {
     "name": "stdout",
     "output_type": "stream",
     "text": [
      "state: Pennsylvania\n"
     ]
    },
    {
     "name": "stderr",
     "output_type": "stream",
     "text": [
      " 93%|█████████▎| 118/127 [01:14<00:05,  1.63it/s]"
     ]
    },
    {
     "name": "stdout",
     "output_type": "stream",
     "text": [
      "Output:\n",
      "state: Metro Manila\n"
     ]
    },
    {
     "name": "stderr",
     "output_type": "stream",
     "text": [
      " 94%|█████████▎| 119/127 [01:14<00:04,  1.80it/s]"
     ]
    },
    {
     "name": "stdout",
     "output_type": "stream",
     "text": [
      "state: Ontario\n"
     ]
    },
    {
     "name": "stderr",
     "output_type": "stream",
     "text": [
      " 94%|█████████▍| 120/127 [01:15<00:03,  1.76it/s]"
     ]
    },
    {
     "name": "stdout",
     "output_type": "stream",
     "text": [
      "Output: state: Sao Paulo\n"
     ]
    },
    {
     "name": "stderr",
     "output_type": "stream",
     "text": [
      " 95%|█████████▌| 121/127 [01:15<00:03,  1.78it/s]"
     ]
    },
    {
     "name": "stdout",
     "output_type": "stream",
     "text": [
      "Output: state: Lima\n"
     ]
    },
    {
     "name": "stderr",
     "output_type": "stream",
     "text": [
      " 96%|█████████▌| 122/127 [01:16<00:02,  1.84it/s]"
     ]
    },
    {
     "name": "stdout",
     "output_type": "stream",
     "text": [
      "Output:\n",
      "state: Lombardy\n"
     ]
    },
    {
     "name": "stderr",
     "output_type": "stream",
     "text": [
      " 97%|█████████▋| 123/127 [01:16<00:02,  1.89it/s]"
     ]
    },
    {
     "name": "stdout",
     "output_type": "stream",
     "text": [
      "Output: state: Aichi\n"
     ]
    },
    {
     "name": "stderr",
     "output_type": "stream",
     "text": [
      " 98%|█████████▊| 124/127 [01:17<00:01,  1.95it/s]"
     ]
    },
    {
     "name": "stdout",
     "output_type": "stream",
     "text": [
      "state: Rio de Janeiro\n"
     ]
    },
    {
     "name": "stderr",
     "output_type": "stream",
     "text": [
      " 98%|█████████▊| 125/127 [01:17<00:00,  2.00it/s]"
     ]
    },
    {
     "name": "stdout",
     "output_type": "stream",
     "text": [
      "Output:\n",
      "state: Jakarta\n"
     ]
    },
    {
     "name": "stderr",
     "output_type": "stream",
     "text": [
      " 99%|█████████▉| 126/127 [01:18<00:00,  2.02it/s]"
     ]
    },
    {
     "name": "stdout",
     "output_type": "stream",
     "text": [
      "Output: state: Bangkok\n"
     ]
    },
    {
     "name": "stderr",
     "output_type": "stream",
     "text": [
      "100%|██████████| 127/127 [01:18<00:00,  1.61it/s]"
     ]
    },
    {
     "name": "stdout",
     "output_type": "stream",
     "text": [
      "state: Illinois\n"
     ]
    },
    {
     "name": "stderr",
     "output_type": "stream",
     "text": [
      "\n"
     ]
    }
   ],
   "source": [
    "from tqdm import tqdm\n",
    "allstates = []\n",
    "for input_city in tqdm(city_meta_str):\n",
    "    # prompt.format(input_city = input_city)\n",
    "    messages = [{\"role\": \"user\", \"content\": prompt.format(input_city = input_city)}]\n",
    "    answer = get_completion(messages)\n",
    "    print(answer)\n",
    "    allstates.append(answer)"
   ]
  },
  {
   "cell_type": "code",
   "execution_count": 49,
   "metadata": {
    "collapsed": true,
    "jupyter": {
     "outputs_hidden": true
    },
    "tags": []
   },
   "outputs": [
    {
     "data": {
      "text/plain": [
       "['Andhra Pradesh',\n",
       " 'Andhra Pradesh',\n",
       " 'Rangpur Division',\n",
       " 'British Columbia',\n",
       " 'Santiago',\n",
       " 'Cesar',\n",
       " 'Perm Krai',\n",
       " 'Rivne',\n",
       " 'West Java',\n",
       " 'West Java',\n",
       " 'Tel Aviv District',\n",
       " 'Bahia',\n",
       " 'Metro Manila',\n",
       " 'Gombe',\n",
       " 'Guatemala',\n",
       " 'Maharashtra',\n",
       " 'Pays de la Loire',\n",
       " 'Cochabamba',\n",
       " 'Bahia',\n",
       " 'Nizhny Novgorod Oblast',\n",
       " 'Uttar Pradesh',\n",
       " 'Astrakhan Oblast',\n",
       " 'Overijssel',\n",
       " 'Tyumen Oblast',\n",
       " 'Texas',\n",
       " 'California',\n",
       " 'Negros Occidental',\n",
       " 'Sicily',\n",
       " 'Cebu',\n",
       " 'Florida',\n",
       " 'Central Region',\n",
       " 'Florida',\n",
       " 'Kaunas County',\n",
       " 'California',\n",
       " 'Greater Manchester',\n",
       " 'Île-de-France',\n",
       " 'Jalisco',\n",
       " 'Tamaulipas',\n",
       " 'Belgrade',\n",
       " 'Minnesota',\n",
       " 'Antwerp',\n",
       " 'Greater Accra',\n",
       " 'Tocantins',\n",
       " 'Sinaloa',\n",
       " 'Ohio',\n",
       " 'Maharashtra',\n",
       " 'Maharashtra',\n",
       " 'Rajshahi',\n",
       " 'Kerala',\n",
       " 'Ohio',\n",
       " 'Santa Catarina',\n",
       " 'Wellington',\n",
       " 'Massachusetts',\n",
       " 'England',\n",
       " 'Sao Paulo',\n",
       " 'North Sumatra',\n",
       " 'Bavaria',\n",
       " 'South-East',\n",
       " 'Jerusalem District',\n",
       " 'South Sumatra',\n",
       " 'Maharashtra',\n",
       " 'Madrid',\n",
       " 'Stockholm County',\n",
       " 'Kyiv City',\n",
       " 'Taipei City',\n",
       " 'Uttar Pradesh',\n",
       " 'Capital Region',\n",
       " 'Minas Gerais',\n",
       " 'Kigali',\n",
       " 'Colorado',\n",
       " 'Dubai',\n",
       " 'Vienna',\n",
       " 'Oregon',\n",
       " 'North Carolina',\n",
       " 'Pichincha',\n",
       " 'Karnataka',\n",
       " 'Quebec',\n",
       " 'Maharashtra',\n",
       " 'Brussels Capital Region',\n",
       " 'Rajasthan',\n",
       " 'Cundinamarca',\n",
       " 'Michigan',\n",
       " 'N/A',\n",
       " 'Parana',\n",
       " 'Central Macedonia',\n",
       " 'Budapest',\n",
       " 'Masovian Voivodeship',\n",
       " 'N/A',\n",
       " 'Delhi',\n",
       " 'Lazio',\n",
       " 'Berlin',\n",
       " 'Seoul',\n",
       " 'Yamaguchi',\n",
       " 'Western Cape',\n",
       " 'Nairobi',\n",
       " 'Lagos',\n",
       " 'Telangana',\n",
       " 'New York',\n",
       " 'Attica',\n",
       " 'Mexico City',\n",
       " 'Saint Petersburg',\n",
       " 'Auckland',\n",
       " 'Moscow',\n",
       " 'California',\n",
       " 'Istanbul',\n",
       " 'Tokyo',\n",
       " 'New South Wales',\n",
       " 'England',\n",
       " 'Okayama',\n",
       " 'Gauteng',\n",
       " 'Fukuoka Prefecture',\n",
       " 'Dhaka',\n",
       " 'Federal Territory of Kuala Lumpur',\n",
       " 'Texas',\n",
       " 'Buenos Aires',\n",
       " 'North Holland',\n",
       " 'Pennsylvania',\n",
       " 'Metro Manila',\n",
       " 'Ontario',\n",
       " 'Sao Paulo',\n",
       " 'Lima',\n",
       " 'Lombardy',\n",
       " 'Aichi',\n",
       " 'Rio de Janeiro',\n",
       " 'Jakarta',\n",
       " 'Bangkok',\n",
       " 'Illinois']"
      ]
     },
     "execution_count": 49,
     "metadata": {},
     "output_type": "execute_result"
    }
   ],
   "source": [
    "allstates_clean = [x.split(\":\")[-1].strip() for x in allstates]\n",
    "city_meta[\"State/Province\"] = allstates_clean"
   ]
  },
  {
   "cell_type": "code",
   "execution_count": 52,
   "metadata": {},
   "outputs": [
    {
     "data": {
      "text/plain": [
       "{'spreadsheetId': '1o5gFmZPUoDwrrbfE6M26uJF3HnEZll02ivnOxP6K6Xw',\n",
       " 'updatedRange': 'select_city_classifier!A1:V128',\n",
       " 'updatedRows': 128,\n",
       " 'updatedColumns': 22,\n",
       " 'updatedCells': 2816}"
      ]
     },
     "execution_count": 52,
     "metadata": {},
     "output_type": "execute_result"
    }
   ],
   "source": [
    "other_worksheet.update([city_meta.columns.values.tolist()] + city_meta.values.tolist())"
   ]
  },
  {
   "cell_type": "code",
   "execution_count": 66,
   "metadata": {},
   "outputs": [],
   "source": [
    "# for US city, get associated county name\n",
    "prompt = \"\"\"\n",
    "Your task is to:\n",
    "Read a city and state combinations below inside the triple backquote. \\\n",
    "The city and state are separated by a comma. \\\n",
    "Input examples is: \"city_1, state_1\".\n",
    "Given the input city and state combination, \\\n",
    "you should return a list of counties that the city intersects with combination in the format like:\\\n",
    "\"county: [county_1, county_2, county_3]\".\\\n",
    "Input city and country combinations:```{input_city}```\n",
    "\"\"\"\n",
    "us_city = city_meta[city_meta[\"country_clean\"]=='United States of America'].reset_index(drop = True)\n",
    "other_city = city_meta[city_meta[\"country_clean\"]!='United States of America'].reset_index(drop = True)\n",
    "us_city_str = us_city.apply(lambda x: f\"{x['City']}, {x['State/Province']}\", axis=1).tolist()"
   ]
  },
  {
   "cell_type": "code",
   "execution_count": 59,
   "metadata": {
    "collapsed": true,
    "jupyter": {
     "outputs_hidden": true
    },
    "tags": []
   },
   "outputs": [
    {
     "name": "stderr",
     "output_type": "stream",
     "text": [
      "  6%|▌         | 1/18 [00:01<00:20,  1.18s/it]"
     ]
    },
    {
     "name": "stdout",
     "output_type": "stream",
     "text": [
      "county: [Bell]\n"
     ]
    },
    {
     "name": "stderr",
     "output_type": "stream",
     "text": [
      " 11%|█         | 2/18 [00:01<00:13,  1.19it/s]"
     ]
    },
    {
     "name": "stdout",
     "output_type": "stream",
     "text": [
      "county: [Stanislaus]\n"
     ]
    },
    {
     "name": "stderr",
     "output_type": "stream",
     "text": [
      " 17%|█▋        | 3/18 [00:02<00:11,  1.26it/s]"
     ]
    },
    {
     "name": "stdout",
     "output_type": "stream",
     "text": [
      "county: [Alachua]\n"
     ]
    },
    {
     "name": "stderr",
     "output_type": "stream",
     "text": [
      " 22%|██▏       | 4/18 [00:03<00:10,  1.28it/s]"
     ]
    },
    {
     "name": "stdout",
     "output_type": "stream",
     "text": [
      "county: [Miami-Dade]\n"
     ]
    },
    {
     "name": "stderr",
     "output_type": "stream",
     "text": [
      " 28%|██▊       | 5/18 [00:03<00:08,  1.46it/s]"
     ]
    },
    {
     "name": "stdout",
     "output_type": "stream",
     "text": [
      "county: [San Francisco]\n"
     ]
    },
    {
     "name": "stderr",
     "output_type": "stream",
     "text": [
      " 33%|███▎      | 6/18 [00:04<00:08,  1.45it/s]"
     ]
    },
    {
     "name": "stdout",
     "output_type": "stream",
     "text": [
      "county: [Hennepin, Ramsey]\n"
     ]
    },
    {
     "name": "stderr",
     "output_type": "stream",
     "text": [
      " 39%|███▉      | 7/18 [00:05<00:06,  1.58it/s]"
     ]
    },
    {
     "name": "stdout",
     "output_type": "stream",
     "text": [
      "county: [Lucas]\n"
     ]
    },
    {
     "name": "stderr",
     "output_type": "stream",
     "text": [
      " 44%|████▍     | 8/18 [00:05<00:06,  1.47it/s]"
     ]
    },
    {
     "name": "stdout",
     "output_type": "stream",
     "text": [
      "county: [Cuyahoga]\n"
     ]
    },
    {
     "name": "stderr",
     "output_type": "stream",
     "text": [
      " 50%|█████     | 9/18 [00:06<00:06,  1.42it/s]"
     ]
    },
    {
     "name": "stdout",
     "output_type": "stream",
     "text": [
      "county: [Suffolk]\n"
     ]
    },
    {
     "name": "stderr",
     "output_type": "stream",
     "text": [
      " 56%|█████▌    | 10/18 [00:07<00:05,  1.57it/s]"
     ]
    },
    {
     "name": "stdout",
     "output_type": "stream",
     "text": [
      "county: [Denver County]\n"
     ]
    },
    {
     "name": "stderr",
     "output_type": "stream",
     "text": [
      " 61%|██████    | 11/18 [00:07<00:04,  1.44it/s]"
     ]
    },
    {
     "name": "stdout",
     "output_type": "stream",
     "text": [
      "county: [Multnomah, Washington, Clackamas]\n"
     ]
    },
    {
     "name": "stderr",
     "output_type": "stream",
     "text": [
      " 67%|██████▋   | 12/18 [00:08<00:03,  1.60it/s]"
     ]
    },
    {
     "name": "stdout",
     "output_type": "stream",
     "text": [
      "county: [Wake]\n"
     ]
    },
    {
     "name": "stderr",
     "output_type": "stream",
     "text": [
      " 72%|███████▏  | 13/18 [00:08<00:03,  1.65it/s]"
     ]
    },
    {
     "name": "stdout",
     "output_type": "stream",
     "text": [
      "county: [Wayne]\n"
     ]
    },
    {
     "name": "stderr",
     "output_type": "stream",
     "text": [
      " 78%|███████▊  | 14/18 [00:09<00:02,  1.66it/s]"
     ]
    },
    {
     "name": "stdout",
     "output_type": "stream",
     "text": [
      "county: [New York]\n"
     ]
    },
    {
     "name": "stderr",
     "output_type": "stream",
     "text": [
      " 83%|████████▎ | 15/18 [00:10<00:01,  1.66it/s]"
     ]
    },
    {
     "name": "stdout",
     "output_type": "stream",
     "text": [
      "county: [Los Angeles County]\n"
     ]
    },
    {
     "name": "stderr",
     "output_type": "stream",
     "text": [
      " 89%|████████▉ | 16/18 [00:10<00:01,  1.61it/s]"
     ]
    },
    {
     "name": "stdout",
     "output_type": "stream",
     "text": [
      "county: [Harris]\n"
     ]
    },
    {
     "name": "stderr",
     "output_type": "stream",
     "text": [
      " 94%|█████████▍| 17/18 [00:11<00:00,  1.70it/s]"
     ]
    },
    {
     "name": "stdout",
     "output_type": "stream",
     "text": [
      "county: [Philadelphia County]\n"
     ]
    },
    {
     "name": "stderr",
     "output_type": "stream",
     "text": [
      "100%|██████████| 18/18 [00:11<00:00,  1.50it/s]"
     ]
    },
    {
     "name": "stdout",
     "output_type": "stream",
     "text": [
      "county: [Cook]\n"
     ]
    },
    {
     "name": "stderr",
     "output_type": "stream",
     "text": [
      "\n"
     ]
    }
   ],
   "source": [
    "allcounties = []\n",
    "for input_city in tqdm(us_city_str):\n",
    "    messages = [{\"role\": \"user\", \"content\": prompt.format(input_city = input_city)}]\n",
    "    answer = get_completion(messages)\n",
    "    print(answer)\n",
    "    allcounties.append(answer)"
   ]
  },
  {
   "cell_type": "code",
   "execution_count": 67,
   "metadata": {},
   "outputs": [
    {
     "name": "stderr",
     "output_type": "stream",
     "text": [
      "C:\\Users\\yuanzfan\\AppData\\Local\\Temp\\ipykernel_26912\\637539880.py:2: SettingWithCopyWarning: \n",
      "A value is trying to be set on a copy of a slice from a DataFrame.\n",
      "Try using .loc[row_indexer,col_indexer] = value instead\n",
      "\n",
      "See the caveats in the documentation: https://pandas.pydata.org/pandas-docs/stable/user_guide/indexing.html#returning-a-view-versus-a-copy\n",
      "  us_city[\"county_ls\"] = allcounties_clean\n"
     ]
    },
    {
     "data": {
      "text/html": [
       "<div>\n",
       "<style scoped>\n",
       "    .dataframe tbody tr th:only-of-type {\n",
       "        vertical-align: middle;\n",
       "    }\n",
       "\n",
       "    .dataframe tbody tr th {\n",
       "        vertical-align: top;\n",
       "    }\n",
       "\n",
       "    .dataframe thead th {\n",
       "        text-align: right;\n",
       "    }\n",
       "</style>\n",
       "<table border=\"1\" class=\"dataframe\">\n",
       "  <thead>\n",
       "    <tr style=\"text-align: right;\">\n",
       "      <th></th>\n",
       "      <th>City</th>\n",
       "      <th>Country</th>\n",
       "      <th>State/Province</th>\n",
       "      <th>center_lat</th>\n",
       "      <th>center_lng</th>\n",
       "      <th>label</th>\n",
       "      <th>num_panoid</th>\n",
       "      <th>GSV Downloaded</th>\n",
       "      <th>Road Injury literature</th>\n",
       "      <th>Road injury data</th>\n",
       "      <th>...</th>\n",
       "      <th>top</th>\n",
       "      <th>pop_country</th>\n",
       "      <th>Diabetes mellitus</th>\n",
       "      <th>Mental and substance use disorders</th>\n",
       "      <th>Cardiovascular diseases</th>\n",
       "      <th>Road injury</th>\n",
       "      <th>urban_pop</th>\n",
       "      <th>pop source</th>\n",
       "      <th>country_clean</th>\n",
       "      <th>county_ls</th>\n",
       "    </tr>\n",
       "  </thead>\n",
       "  <tbody>\n",
       "    <tr>\n",
       "      <th>0</th>\n",
       "      <td>Killeen</td>\n",
       "      <td>United States</td>\n",
       "      <td>Texas</td>\n",
       "      <td>31.117119</td>\n",
       "      <td>-97.727796</td>\n",
       "      <td>57</td>\n",
       "      <td>182310</td>\n",
       "      <td>87621</td>\n",
       "      <td></td>\n",
       "      <td></td>\n",
       "      <td>...</td>\n",
       "      <td>31.140409</td>\n",
       "      <td>329065</td>\n",
       "      <td>4275.074871</td>\n",
       "      <td>15385.702740</td>\n",
       "      <td>16900.440260</td>\n",
       "      <td>2376.142369</td>\n",
       "      <td>159172</td>\n",
       "      <td>2022</td>\n",
       "      <td>United States of America</td>\n",
       "      <td>[Bell]</td>\n",
       "    </tr>\n",
       "    <tr>\n",
       "      <th>1</th>\n",
       "      <td>Modesto</td>\n",
       "      <td>United States</td>\n",
       "      <td>California</td>\n",
       "      <td>37.639260</td>\n",
       "      <td>-120.997001</td>\n",
       "      <td>76</td>\n",
       "      <td>363968</td>\n",
       "      <td>90716</td>\n",
       "      <td></td>\n",
       "      <td></td>\n",
       "      <td>...</td>\n",
       "      <td>37.711337</td>\n",
       "      <td>329065</td>\n",
       "      <td>4275.074871</td>\n",
       "      <td>15385.702740</td>\n",
       "      <td>16900.440260</td>\n",
       "      <td>2376.142369</td>\n",
       "      <td>218069</td>\n",
       "      <td>2022</td>\n",
       "      <td>United States of America</td>\n",
       "      <td>[Stanislaus]</td>\n",
       "    </tr>\n",
       "    <tr>\n",
       "      <th>2</th>\n",
       "      <td>Gainesville, FL</td>\n",
       "      <td>United States</td>\n",
       "      <td>Florida</td>\n",
       "      <td>29.651956</td>\n",
       "      <td>-82.324998</td>\n",
       "      <td>37</td>\n",
       "      <td>411255</td>\n",
       "      <td>105991</td>\n",
       "      <td></td>\n",
       "      <td></td>\n",
       "      <td>...</td>\n",
       "      <td>29.767622</td>\n",
       "      <td>329065</td>\n",
       "      <td>4275.074871</td>\n",
       "      <td>15385.702740</td>\n",
       "      <td>16900.440260</td>\n",
       "      <td>2376.142369</td>\n",
       "      <td>145214</td>\n",
       "      <td>2022</td>\n",
       "      <td>United States of America</td>\n",
       "      <td>[Alachua]</td>\n",
       "    </tr>\n",
       "    <tr>\n",
       "      <th>3</th>\n",
       "      <td>Miami</td>\n",
       "      <td>USA</td>\n",
       "      <td>Florida</td>\n",
       "      <td>25.761700</td>\n",
       "      <td>-80.191800</td>\n",
       "      <td>73</td>\n",
       "      <td>806659</td>\n",
       "      <td>123133</td>\n",
       "      <td>1</td>\n",
       "      <td></td>\n",
       "      <td>...</td>\n",
       "      <td>25.855475</td>\n",
       "      <td>329065</td>\n",
       "      <td>4275.074871</td>\n",
       "      <td>15385.702740</td>\n",
       "      <td>16900.440260</td>\n",
       "      <td>2376.142369</td>\n",
       "      <td>449514</td>\n",
       "      <td>2022</td>\n",
       "      <td>United States of America</td>\n",
       "      <td>[Miami-Dade]</td>\n",
       "    </tr>\n",
       "    <tr>\n",
       "      <th>4</th>\n",
       "      <td>San Francisco</td>\n",
       "      <td>USA</td>\n",
       "      <td>California</td>\n",
       "      <td>37.774900</td>\n",
       "      <td>-122.419400</td>\n",
       "      <td>104</td>\n",
       "      <td>1346152</td>\n",
       "      <td>129104</td>\n",
       "      <td>1</td>\n",
       "      <td></td>\n",
       "      <td>...</td>\n",
       "      <td>37.832246</td>\n",
       "      <td>329065</td>\n",
       "      <td>4275.074871</td>\n",
       "      <td>15385.702740</td>\n",
       "      <td>16900.440260</td>\n",
       "      <td>2376.142369</td>\n",
       "      <td>808437</td>\n",
       "      <td>2022</td>\n",
       "      <td>United States of America</td>\n",
       "      <td>[San Francisco]</td>\n",
       "    </tr>\n",
       "    <tr>\n",
       "      <th>...</th>\n",
       "      <td>...</td>\n",
       "      <td>...</td>\n",
       "      <td>...</td>\n",
       "      <td>...</td>\n",
       "      <td>...</td>\n",
       "      <td>...</td>\n",
       "      <td>...</td>\n",
       "      <td>...</td>\n",
       "      <td>...</td>\n",
       "      <td>...</td>\n",
       "      <td>...</td>\n",
       "      <td>...</td>\n",
       "      <td>...</td>\n",
       "      <td>...</td>\n",
       "      <td>...</td>\n",
       "      <td>...</td>\n",
       "      <td>...</td>\n",
       "      <td>...</td>\n",
       "      <td>...</td>\n",
       "      <td>...</td>\n",
       "      <td>...</td>\n",
       "    </tr>\n",
       "    <tr>\n",
       "      <th>122</th>\n",
       "      <td>Milan</td>\n",
       "      <td>Italy</td>\n",
       "      <td>Lombardy</td>\n",
       "      <td>45.465776</td>\n",
       "      <td>9.187412</td>\n",
       "      <td>74</td>\n",
       "      <td>1161816</td>\n",
       "      <td>4646129</td>\n",
       "      <td></td>\n",
       "      <td></td>\n",
       "      <td>...</td>\n",
       "      <td>45.535152</td>\n",
       "      <td>60550</td>\n",
       "      <td>800.455308</td>\n",
       "      <td>1545.910775</td>\n",
       "      <td>3014.821275</td>\n",
       "      <td>198.249616</td>\n",
       "      <td>1352000</td>\n",
       "      <td>2017</td>\n",
       "      <td>Italy</td>\n",
       "      <td>NaN</td>\n",
       "    </tr>\n",
       "    <tr>\n",
       "      <th>123</th>\n",
       "      <td>Nagoya</td>\n",
       "      <td>Japan</td>\n",
       "      <td>Aichi</td>\n",
       "      <td>35.174745</td>\n",
       "      <td>136.907539</td>\n",
       "      <td>81</td>\n",
       "      <td>1399215</td>\n",
       "      <td>5595654</td>\n",
       "      <td></td>\n",
       "      <td></td>\n",
       "      <td>...</td>\n",
       "      <td>35.259008</td>\n",
       "      <td>126860</td>\n",
       "      <td>869.184816</td>\n",
       "      <td>2071.935431</td>\n",
       "      <td>5627.788661</td>\n",
       "      <td>263.580055</td>\n",
       "      <td>2296000</td>\n",
       "      <td>2020</td>\n",
       "      <td>Japan</td>\n",
       "      <td>NaN</td>\n",
       "    </tr>\n",
       "    <tr>\n",
       "      <th>124</th>\n",
       "      <td>Rio de Janeiro</td>\n",
       "      <td>Brazil</td>\n",
       "      <td>Rio de Janeiro</td>\n",
       "      <td>-22.911502</td>\n",
       "      <td>-43.181365</td>\n",
       "      <td>99</td>\n",
       "      <td>1452099</td>\n",
       "      <td>5806835</td>\n",
       "      <td></td>\n",
       "      <td></td>\n",
       "      <td>...</td>\n",
       "      <td>-22.783303</td>\n",
       "      <td>211050</td>\n",
       "      <td>2455.225443</td>\n",
       "      <td>6523.384896</td>\n",
       "      <td>8693.866543</td>\n",
       "      <td>1936.841720</td>\n",
       "      <td>6748000</td>\n",
       "      <td>2020</td>\n",
       "      <td>Brazil</td>\n",
       "      <td>NaN</td>\n",
       "    </tr>\n",
       "    <tr>\n",
       "      <th>125</th>\n",
       "      <td>Jakarta</td>\n",
       "      <td>Indonesia</td>\n",
       "      <td>Jakarta</td>\n",
       "      <td>-6.193973</td>\n",
       "      <td>106.822511</td>\n",
       "      <td>48</td>\n",
       "      <td>1675418</td>\n",
       "      <td>6701389</td>\n",
       "      <td></td>\n",
       "      <td></td>\n",
       "      <td>...</td>\n",
       "      <td>-6.074263</td>\n",
       "      <td>270626</td>\n",
       "      <td>3960.127149</td>\n",
       "      <td>4018.564483</td>\n",
       "      <td>17247.421460</td>\n",
       "      <td>1965.946502</td>\n",
       "      <td>10560000</td>\n",
       "      <td>2020</td>\n",
       "      <td>Indonesia</td>\n",
       "      <td>NaN</td>\n",
       "    </tr>\n",
       "    <tr>\n",
       "      <th>126</th>\n",
       "      <td>Bangkok</td>\n",
       "      <td>Thailand</td>\n",
       "      <td>Bangkok</td>\n",
       "      <td>13.756300</td>\n",
       "      <td>100.501800</td>\n",
       "      <td>9</td>\n",
       "      <td>2462549</td>\n",
       "      <td>9848301</td>\n",
       "      <td></td>\n",
       "      <td></td>\n",
       "      <td>...</td>\n",
       "      <td>13.954986</td>\n",
       "      <td>69626</td>\n",
       "      <td>836.475491</td>\n",
       "      <td>1359.001276</td>\n",
       "      <td>2541.613306</td>\n",
       "      <td>1212.092788</td>\n",
       "      <td>11070000</td>\n",
       "      <td>2023</td>\n",
       "      <td>Thailand</td>\n",
       "      <td>NaN</td>\n",
       "    </tr>\n",
       "  </tbody>\n",
       "</table>\n",
       "<p>127 rows × 23 columns</p>\n",
       "</div>"
      ],
      "text/plain": [
       "                City        Country  State/Province  center_lat  center_lng  \\\n",
       "0            Killeen  United States           Texas   31.117119  -97.727796   \n",
       "1            Modesto  United States      California   37.639260 -120.997001   \n",
       "2    Gainesville, FL  United States         Florida   29.651956  -82.324998   \n",
       "3              Miami            USA         Florida   25.761700  -80.191800   \n",
       "4      San Francisco            USA      California   37.774900 -122.419400   \n",
       "..               ...            ...             ...         ...         ...   \n",
       "122            Milan          Italy        Lombardy   45.465776    9.187412   \n",
       "123           Nagoya          Japan           Aichi   35.174745  136.907539   \n",
       "124   Rio de Janeiro         Brazil  Rio de Janeiro  -22.911502  -43.181365   \n",
       "125          Jakarta      Indonesia         Jakarta   -6.193973  106.822511   \n",
       "126          Bangkok       Thailand         Bangkok   13.756300  100.501800   \n",
       "\n",
       "     label  num_panoid  GSV Downloaded Road Injury literature  \\\n",
       "0       57      182310           87621                          \n",
       "1       76      363968           90716                          \n",
       "2       37      411255          105991                          \n",
       "3       73      806659          123133                      1   \n",
       "4      104     1346152          129104                      1   \n",
       "..     ...         ...             ...                    ...   \n",
       "122     74     1161816         4646129                          \n",
       "123     81     1399215         5595654                          \n",
       "124     99     1452099         5806835                          \n",
       "125     48     1675418         6701389                          \n",
       "126      9     2462549         9848301                          \n",
       "\n",
       "    Road injury data  ...        top  pop_country  Diabetes mellitus  \\\n",
       "0                     ...  31.140409       329065        4275.074871   \n",
       "1                     ...  37.711337       329065        4275.074871   \n",
       "2                     ...  29.767622       329065        4275.074871   \n",
       "3                     ...  25.855475       329065        4275.074871   \n",
       "4                     ...  37.832246       329065        4275.074871   \n",
       "..               ...  ...        ...          ...                ...   \n",
       "122                   ...  45.535152        60550         800.455308   \n",
       "123                   ...  35.259008       126860         869.184816   \n",
       "124                   ... -22.783303       211050        2455.225443   \n",
       "125                   ...  -6.074263       270626        3960.127149   \n",
       "126                   ...  13.954986        69626         836.475491   \n",
       "\n",
       "     Mental and substance use disorders  Cardiovascular diseases  Road injury  \\\n",
       "0                          15385.702740             16900.440260  2376.142369   \n",
       "1                          15385.702740             16900.440260  2376.142369   \n",
       "2                          15385.702740             16900.440260  2376.142369   \n",
       "3                          15385.702740             16900.440260  2376.142369   \n",
       "4                          15385.702740             16900.440260  2376.142369   \n",
       "..                                  ...                      ...          ...   \n",
       "122                         1545.910775              3014.821275   198.249616   \n",
       "123                         2071.935431              5627.788661   263.580055   \n",
       "124                         6523.384896              8693.866543  1936.841720   \n",
       "125                         4018.564483             17247.421460  1965.946502   \n",
       "126                         1359.001276              2541.613306  1212.092788   \n",
       "\n",
       "     urban_pop  pop source             country_clean        county_ls  \n",
       "0       159172        2022  United States of America           [Bell]  \n",
       "1       218069        2022  United States of America     [Stanislaus]  \n",
       "2       145214        2022  United States of America        [Alachua]  \n",
       "3       449514        2022  United States of America     [Miami-Dade]  \n",
       "4       808437        2022  United States of America  [San Francisco]  \n",
       "..         ...         ...                       ...              ...  \n",
       "122    1352000        2017                     Italy              NaN  \n",
       "123    2296000        2020                     Japan              NaN  \n",
       "124    6748000        2020                    Brazil              NaN  \n",
       "125   10560000        2020                 Indonesia              NaN  \n",
       "126   11070000        2023                  Thailand              NaN  \n",
       "\n",
       "[127 rows x 23 columns]"
      ]
     },
     "execution_count": 67,
     "metadata": {},
     "output_type": "execute_result"
    }
   ],
   "source": [
    "allcounties_clean = [x.split(\":\")[-1].strip() for x in allcounties]\n",
    "us_city[\"county_ls\"] = allcounties_clean\n",
    "\n",
    "city_meta = pd.concat([us_city, other_city]).reset_index(drop=True)\n",
    "city_meta[\"county_ls\"] = city_meta[\"county_ls\"].fillna(\"[]\")"
   ]
  },
  {
   "cell_type": "code",
   "execution_count": 70,
   "metadata": {},
   "outputs": [
    {
     "data": {
      "text/plain": [
       "{'spreadsheetId': '1o5gFmZPUoDwrrbfE6M26uJF3HnEZll02ivnOxP6K6Xw',\n",
       " 'updatedRange': 'select_city_classifier!A1:W128',\n",
       " 'updatedRows': 128,\n",
       " 'updatedColumns': 23,\n",
       " 'updatedCells': 2944}"
      ]
     },
     "execution_count": 70,
     "metadata": {},
     "output_type": "execute_result"
    }
   ],
   "source": [
    "other_worksheet.update([city_meta.columns.values.tolist()] + city_meta.values.tolist())"
   ]
  },
  {
   "cell_type": "markdown",
   "metadata": {},
   "source": [
    "## 3. Download all city boundary \n",
    "Use script"
   ]
  },
  {
   "cell_type": "code",
   "execution_count": 29,
   "metadata": {},
   "outputs": [],
   "source": [
    "# conda activate geo311\n",
    "import osmnx as ox\n",
    "import geopandas as gpd\n",
    "\n",
    "RAW_FOLDER = \"/lustre1/g/geog_pyloo/05_timemachine/_raw/r_boundary_osm\"\n",
    "if not os.path.exists(RAW_FOLDER):\n",
    "    os.makedirs(RAW_FOLDER)\n",
    "    \n",
    "    \n",
    "# construct queries from the csv\n",
    "city_meta[\"city_clean\"] = city_meta[\"City\"].apply(lambda x: x.split(\",\")[0])\n",
    "city_meta[\"level_0_admin\"] = np.where(city_meta[\"city_clean\"]==\"Taipei\", \"Taiwan\", city_meta[\"country_clean\"])\n",
    "city_meta[\"level_0_admin\"] = np.where(city_meta[\"country_clean\"]==\"United States of America\", \n",
    "                                      city_meta[\"State/Province\"], \n",
    "                                      city_meta[\"level_0_admin\"])\n",
    "\n",
    "city_meta[\"city_query\"] = city_meta.apply(lambda x: x[\"city_clean\"]+\", \" + x[\"level_0_admin\"], axis = 1)\n",
    "city_meta[\"city_query\"] = np.where(city_meta[\"country_clean\"]==\"United States of America\", \n",
    "                                   city_meta[\"city_query\"]+\", USA\",\n",
    "                                   city_meta[\"city_query\"])\n",
    "\n",
    "for i, q in enumearte(city_meta[\"city_query\"].values):\n",
    "    cityabbrlower = city_meta.at[i, \"city_clean\"].lower().replace(\" \", \"\")\n",
    "    boundary = ox.geocoder.geocode_to_gdf(q)\n",
    "    print(boundary.crs)\n",
    "    boundary = boundary.to_crs(\"EPSG:4326\")\n",
    "    boundary.to_file(os.path.join(RAW_FOLDER, f\"{cityabbrlower}.geojson\"), \n",
    "                        driver = \"GeoJSON\")\n",
    "    print(cityabbrlower, \" DONE\")"
   ]
  },
  {
   "cell_type": "code",
   "execution_count": 33,
   "metadata": {},
   "outputs": [],
   "source": [
    "def get_finished():\n",
    "    files = os.listdir(RAW_FOLDER)\n",
    "    city_finished = [x.split(\".\")[0] for x in files]\n",
    "    return city_finished\n",
    "\n",
    "city_finished = get_finished()"
   ]
  },
  {
   "cell_type": "code",
   "execution_count": 38,
   "metadata": {},
   "outputs": [
    {
     "data": {
      "text/plain": [
       "['sydney', 'antwerp', 'belohorizonte', 'athens', 'johannesburg']"
      ]
     },
     "execution_count": 38,
     "metadata": {},
     "output_type": "execute_result"
    }
   ],
   "source": [
    "citylowerls = [x.lower().replace(\" \", \"\") for x in city_meta[\"city_clean\"].values]\n",
    "remain = [x for x in citylowerls if x not in city_finished]\n",
    "remain"
   ]
  },
  {
   "cell_type": "code",
   "execution_count": null,
   "metadata": {},
   "outputs": [],
   "source": [
    "for i, q in enumearte(remain):\n",
    "    query = city_meta[city_meta[\"city_clean\"]]\n",
    "    boundary = ox.geocoder.geocode_to_gdf(q)\n",
    "    print(boundary.crs)\n",
    "    boundary = boundary.to_crs(\"EPSG:4326\")\n",
    "    boundary.to_file(os.path.join(RAW_FOLDER, f\"{cityabbrlower}.geojson\"), \n",
    "                        driver = \"GeoJSON\")\n",
    "    print(cityabbrlower, \" DONE\")"
   ]
  },
  {
   "cell_type": "code",
   "execution_count": 8,
   "metadata": {},
   "outputs": [
    {
     "data": {
      "text/plain": [
       "196"
      ]
     },
     "execution_count": 8,
     "metadata": {},
     "output_type": "execute_result"
    }
   ],
   "source": [
    "# check the city boundary from the urban expansion project\n",
    "PFOLDER = \"/lustre1/g/geog_pyloo/05_timemachine/_transformed/t_urban_expansion/t_urban_expansion\"\n",
    "ALLFILES = os.listdir(PFOLDER)\n",
    "len(ALLFILES)"
   ]
  },
  {
   "cell_type": "code",
   "execution_count": 13,
   "metadata": {},
   "outputs": [
    {
     "data": {
      "text/html": [
       "<div>\n",
       "<style scoped>\n",
       "    .dataframe tbody tr th:only-of-type {\n",
       "        vertical-align: middle;\n",
       "    }\n",
       "\n",
       "    .dataframe tbody tr th {\n",
       "        vertical-align: top;\n",
       "    }\n",
       "\n",
       "    .dataframe thead th {\n",
       "        text-align: right;\n",
       "    }\n",
       "</style>\n",
       "<table border=\"1\" class=\"dataframe\">\n",
       "  <thead>\n",
       "    <tr style=\"text-align: right;\">\n",
       "      <th></th>\n",
       "      <th>u</th>\n",
       "      <th>v</th>\n",
       "      <th>osmid</th>\n",
       "      <th>name</th>\n",
       "      <th>length</th>\n",
       "      <th>length_meter</th>\n",
       "      <th>newID</th>\n",
       "      <th>geometry</th>\n",
       "    </tr>\n",
       "  </thead>\n",
       "  <tbody>\n",
       "    <tr>\n",
       "      <th>0</th>\n",
       "      <td>24486579</td>\n",
       "      <td>9609040608</td>\n",
       "      <td>757840170</td>\n",
       "      <td>nan</td>\n",
       "      <td>17.149</td>\n",
       "      <td>18.555190</td>\n",
       "      <td>757840170_0</td>\n",
       "      <td>LINESTRING (12709356.338 2546749.204, 12709374...</td>\n",
       "    </tr>\n",
       "    <tr>\n",
       "      <th>1</th>\n",
       "      <td>24486579</td>\n",
       "      <td>9609016882</td>\n",
       "      <td>757843562</td>\n",
       "      <td>nan</td>\n",
       "      <td>39.161</td>\n",
       "      <td>42.372030</td>\n",
       "      <td>757843562_1</td>\n",
       "      <td>LINESTRING (12709356.338 2546749.204, 12709324...</td>\n",
       "    </tr>\n",
       "    <tr>\n",
       "      <th>2</th>\n",
       "      <td>24486579</td>\n",
       "      <td>9609016880</td>\n",
       "      <td>757840168</td>\n",
       "      <td>nan</td>\n",
       "      <td>40.035</td>\n",
       "      <td>43.318413</td>\n",
       "      <td>757840168_2</td>\n",
       "      <td>LINESTRING (12709356.338 2546749.204, 12709349...</td>\n",
       "    </tr>\n",
       "    <tr>\n",
       "      <th>3</th>\n",
       "      <td>24533064</td>\n",
       "      <td>2498627453</td>\n",
       "      <td>567856161</td>\n",
       "      <td>莊士敦道 Johnston Road</td>\n",
       "      <td>15.458</td>\n",
       "      <td>16.723251</td>\n",
       "      <td>567856161_3</td>\n",
       "      <td>LINESTRING (12709699.403 2544758.143, 12709716...</td>\n",
       "    </tr>\n",
       "    <tr>\n",
       "      <th>4</th>\n",
       "      <td>24533064</td>\n",
       "      <td>1618530627</td>\n",
       "      <td>743072632</td>\n",
       "      <td>莊士敦道 Johnston Road</td>\n",
       "      <td>38.526</td>\n",
       "      <td>41.680014</td>\n",
       "      <td>743072632_4</td>\n",
       "      <td>LINESTRING (12709699.403 2544758.143, 12709657...</td>\n",
       "    </tr>\n",
       "  </tbody>\n",
       "</table>\n",
       "</div>"
      ],
      "text/plain": [
       "          u           v      osmid                name  length  length_meter   \n",
       "0  24486579  9609040608  757840170                 nan  17.149     18.555190  \\\n",
       "1  24486579  9609016882  757843562                 nan  39.161     42.372030   \n",
       "2  24486579  9609016880  757840168                 nan  40.035     43.318413   \n",
       "3  24533064  2498627453  567856161  莊士敦道 Johnston Road  15.458     16.723251   \n",
       "4  24533064  1618530627  743072632  莊士敦道 Johnston Road  38.526     41.680014   \n",
       "\n",
       "         newID                                           geometry  \n",
       "0  757840170_0  LINESTRING (12709356.338 2546749.204, 12709374...  \n",
       "1  757843562_1  LINESTRING (12709356.338 2546749.204, 12709324...  \n",
       "2  757840168_2  LINESTRING (12709356.338 2546749.204, 12709349...  \n",
       "3  567856161_3  LINESTRING (12709699.403 2544758.143, 12709716...  \n",
       "4  743072632_4  LINESTRING (12709699.403 2544758.143, 12709657...  "
      ]
     },
     "execution_count": 13,
     "metadata": {},
     "output_type": "execute_result"
    }
   ],
   "source": [
    "# load roadnetwork of Hong Kong to check\n",
    "GSV_FOLDER = \"/lustre1/g/geog_pyloo/05_timemachine/GSV/gsv_rgb/{citylowerabbr}/road/osm.geojson\"\n",
    "road_gdf = gpd.read_file(GSV_FOLDER.format(citylowerabbr = \"hongkong\"))\n",
    "road_gdf.head()\n"
   ]
  },
  {
   "cell_type": "code",
   "execution_count": 14,
   "metadata": {},
   "outputs": [
    {
     "data": {
      "text/plain": [
       "<Axes: >"
      ]
     },
     "execution_count": 14,
     "metadata": {},
     "output_type": "execute_result"
    },
    {
     "data": {
      "image/png": "[encoded data removed]",
      "text/plain": [
       "<Figure size 500x500 with 1 Axes>"
      ]
     },
     "metadata": {},
     "output_type": "display_data"
    }
   ],
   "source": [
    "road_gdf.plot(figsize = (5,5), linewidth = 0.5)"
   ]
  },
  {
   "cell_type": "code",
   "execution_count": 10,
   "metadata": {},
   "outputs": [],
   "source": [
    "def get_bound(city_abbr):\n",
    "    if city_abbr == \"hong_kong\":\n",
    "                geofilename = 'hong_kong,_hong_kong.geojson' # edge case\n",
    "    elif city_abbr == \"taipei\":\n",
    "        geofilename = 'taipei,_taiwan.geojson'\n",
    "    else:\n",
    "        geofilename = city_abbr + \".geojson\"\n",
    "    area = gpd.read_file(os.path.join(PFOLDER, geofilename))\n",
    "    return area\n",
    "\n",
    "area = get_bound(\"hong_kong\")"
   ]
  },
  {
   "cell_type": "code",
   "execution_count": 11,
   "metadata": {},
   "outputs": [
    {
     "data": {
      "text/plain": [
       "<Axes: >"
      ]
     },
     "execution_count": 11,
     "metadata": {},
     "output_type": "execute_result"
    },
    {
     "data": {
      "image/png": "[encoded data removed]",
      "text/plain": [
       "<Figure size 640x480 with 1 Axes>"
      ]
     },
     "metadata": {},
     "output_type": "display_data"
    }
   ],
   "source": [
    "area.plot()"
   ]
  },
  {
   "cell_type": "code",
   "execution_count": null,
   "metadata": {},
   "outputs": [],
   "source": []
  }
 ],
 "metadata": {
  "kernelspec": {
   "display_name": "geo311",
   "language": "python",
   "name": "geo311"
  },
  "language_info": {
   "codemirror_mode": {
    "name": "ipython",
    "version": 3
   },
   "file_extension": ".py",
   "mimetype": "text/x-python",
   "name": "python",
   "nbconvert_exporter": "python",
   "pygments_lexer": "ipython3",
   "version": "3.11.8"
  }
 },
 "nbformat": 4,
 "nbformat_minor": 4
}
