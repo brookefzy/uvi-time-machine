{
 "cells": [
  {
   "cell_type": "code",
   "execution_count": 32,
   "metadata": {},
   "outputs": [],
   "source": [
    "import geopandas as gpd\n",
    "import os\n",
    "import pandas as pd\n",
    "from scipy.io import netcdf\n",
    "import netCDF4\n",
    "ROOTFOLDER = \"D:/Dropbox (Personal)/Personal Work/_Projects2023/01_city-never-was/_data\"\n",
    "RAW_PATH = \"D:/Dropbox (Personal)/Personal Work/_commondata/_world_data/01_carbon_emission_ffdas/ffdas_flux_2013_2015.nc.gz/ffdas_flux_2015b.nc/ffdas_flux_2015.nc\"\n",
    "TRANSFORM_FOLDER = \"D:/Dropbox (Personal)/Personal Work/_Projects2023/01_city-never-was/_data/_transformed/t_city_profiles\""
   ]
  },
  {
   "cell_type": "code",
   "execution_count": 2,
   "metadata": {},
   "outputs": [
    {
     "data": {
      "text/plain": [
       "dict_keys(['latitude', 'latitude_edge', 'longitude', 'longitude_edge', 'flux'])"
      ]
     },
     "execution_count": 2,
     "metadata": {},
     "output_type": "execute_result"
    }
   ],
   "source": [
    "nc = netCDF4.Dataset(RAW_PATH)\n",
    "nc.variables.keys()"
   ]
  },
  {
   "cell_type": "code",
   "execution_count": 3,
   "metadata": {},
   "outputs": [],
   "source": [
    "# convert the netcdf to a pandas dataframe\n",
    "df = pd.DataFrame(nc.variables[\"flux\"][:])\n",
    "df[\"latitude\"] = nc.variables[\"latitude\"][:]\n",
    "df.set_index('latitude', inplace=True)\n",
    "df.columns = nc.variables[\"longitude\"][:]\n",
    "# df[\"longitude\"] = nc.variables[\"longitude\"][:]\n",
    "df = df.stack().reset_index().rename(columns={0: 'flux','level_1':'longitude'})"
   ]
  },
  {
   "cell_type": "code",
   "execution_count": 4,
   "metadata": {},
   "outputs": [],
   "source": [
    "RAW_FOLDER = f\"{ROOTFOLDER}/_raw/_city_profiles\"\n",
    "df.to_csv(os.path.join(RAW_FOLDER, \"r_ffdas_flux_2015.csv\"), index=False)"
   ]
  },
  {
   "cell_type": "markdown",
   "metadata": {},
   "source": [
    "## Aggregate to each city"
   ]
  },
  {
   "cell_type": "code",
   "execution_count": 8,
   "metadata": {},
   "outputs": [
    {
     "name": "stdout",
     "output_type": "stream",
     "text": [
      "loading boundary files:  127\n"
     ]
    }
   ],
   "source": [
    "# load all zone area for selected city\n",
    "ROOTFOLDER = \"D:/Dropbox (Personal)/Personal Work/_Projects2023/01_city-never-was/_data\"\n",
    "RAW_BOUND_FOLDER = f\"{ROOTFOLDER}/_raw/r_boundary_osm\"\n",
    "TRANSFORM_FOLDER = f\"{ROOTFOLDER}/_transformed/t_city_profiles/\"\n",
    "boundfiles = [f for f in os.listdir(RAW_BOUND_FOLDER) if f.endswith('.geojson')]\n",
    "print(\"loading boundary files: \", len(boundfiles))"
   ]
  },
  {
   "cell_type": "code",
   "execution_count": 16,
   "metadata": {},
   "outputs": [
    {
     "data": {
      "text/html": [
       "<div>\n",
       "<style scoped>\n",
       "    .dataframe tbody tr th:only-of-type {\n",
       "        vertical-align: middle;\n",
       "    }\n",
       "\n",
       "    .dataframe tbody tr th {\n",
       "        vertical-align: top;\n",
       "    }\n",
       "\n",
       "    .dataframe thead th {\n",
       "        text-align: right;\n",
       "    }\n",
       "</style>\n",
       "<table border=\"1\" class=\"dataframe\">\n",
       "  <thead>\n",
       "    <tr style=\"text-align: right;\">\n",
       "      <th></th>\n",
       "      <th>city_lower</th>\n",
       "      <th>geometry</th>\n",
       "    </tr>\n",
       "  </thead>\n",
       "  <tbody>\n",
       "    <tr>\n",
       "      <th>0</th>\n",
       "      <td>accra</td>\n",
       "      <td>POLYGON ((-0.28413 5.57195, -0.28386 5.57090, ...</td>\n",
       "    </tr>\n",
       "    <tr>\n",
       "      <th>1</th>\n",
       "      <td>amsterdam</td>\n",
       "      <td>MULTIPOLYGON (((4.72878 52.40071, 4.75607 52.3...</td>\n",
       "    </tr>\n",
       "    <tr>\n",
       "      <th>2</th>\n",
       "      <td>antwerp</td>\n",
       "      <td>POLYGON ((4.21758 51.37389, 4.21826 51.37221, ...</td>\n",
       "    </tr>\n",
       "    <tr>\n",
       "      <th>3</th>\n",
       "      <td>astrakhan</td>\n",
       "      <td>POLYGON ((47.87112 46.26966, 47.87152 46.26632...</td>\n",
       "    </tr>\n",
       "    <tr>\n",
       "      <th>4</th>\n",
       "      <td>athens</td>\n",
       "      <td>MULTIPOLYGON (((22.89876 36.19485, 22.89888 36...</td>\n",
       "    </tr>\n",
       "  </tbody>\n",
       "</table>\n",
       "</div>"
      ],
      "text/plain": [
       "  city_lower                                           geometry\n",
       "0      accra  POLYGON ((-0.28413 5.57195, -0.28386 5.57090, ...\n",
       "1  amsterdam  MULTIPOLYGON (((4.72878 52.40071, 4.75607 52.3...\n",
       "2    antwerp  POLYGON ((4.21758 51.37389, 4.21826 51.37221, ...\n",
       "3  astrakhan  POLYGON ((47.87112 46.26966, 47.87152 46.26632...\n",
       "4     athens  MULTIPOLYGON (((22.89876 36.19485, 22.89888 36..."
      ]
     },
     "execution_count": 16,
     "metadata": {},
     "output_type": "execute_result"
    }
   ],
   "source": [
    "allbound = []\n",
    "for f in boundfiles:\n",
    "    temp = gpd.read_file(os.path.join(RAW_BOUND_FOLDER, f))\n",
    "    temp['city_lower'] = f.split(\".\")[0]\n",
    "    temp = temp[['city_lower','geometry']].to_crs(\"EPSG:4326\")\n",
    "    allbound.append(temp)\n",
    "allbound = pd.concat(allbound).reset_index(drop = True)\n",
    "allbound.head()\n",
    "    "
   ]
  },
  {
   "cell_type": "code",
   "execution_count": 14,
   "metadata": {},
   "outputs": [],
   "source": [
    "# fix the data\n",
    "# temp = gpd.read_file(os.path.join(RAW_BOUND_FOLDER, \"athens.geojson\"))\n",
    "# temp.crs = \"EPSG:2100\"\n",
    "# temp = temp.to_crs(\"EPSG:4326\")\n",
    "# temp.to_file(os.path.join(RAW_BOUND_FOLDER, \"athens.geojson\"), driver='GeoJSON')"
   ]
  },
  {
   "cell_type": "code",
   "execution_count": 18,
   "metadata": {},
   "outputs": [],
   "source": [
    "allbound.to_file(os.path.join(TRANSFORM_FOLDER, \"t_city_boundary.geojson\"), driver='GeoJSON')"
   ]
  },
  {
   "cell_type": "code",
   "execution_count": 21,
   "metadata": {},
   "outputs": [
    {
     "data": {
      "text/html": [
       "<div>\n",
       "<style scoped>\n",
       "    .dataframe tbody tr th:only-of-type {\n",
       "        vertical-align: middle;\n",
       "    }\n",
       "\n",
       "    .dataframe tbody tr th {\n",
       "        vertical-align: top;\n",
       "    }\n",
       "\n",
       "    .dataframe thead th {\n",
       "        text-align: right;\n",
       "    }\n",
       "</style>\n",
       "<table border=\"1\" class=\"dataframe\">\n",
       "  <thead>\n",
       "    <tr style=\"text-align: right;\">\n",
       "      <th></th>\n",
       "      <th>latitude</th>\n",
       "      <th>longitude</th>\n",
       "      <th>flux</th>\n",
       "      <th>geometry</th>\n",
       "    </tr>\n",
       "  </thead>\n",
       "  <tbody>\n",
       "    <tr>\n",
       "      <th>0</th>\n",
       "      <td>89.949997</td>\n",
       "      <td>33.750000</td>\n",
       "      <td>0.146428</td>\n",
       "      <td>POINT (33.75000 89.95000)</td>\n",
       "    </tr>\n",
       "    <tr>\n",
       "      <th>1</th>\n",
       "      <td>89.849998</td>\n",
       "      <td>-26.450001</td>\n",
       "      <td>0.283811</td>\n",
       "      <td>POINT (-26.45000 89.85000)</td>\n",
       "    </tr>\n",
       "    <tr>\n",
       "      <th>2</th>\n",
       "      <td>89.650002</td>\n",
       "      <td>37.849998</td>\n",
       "      <td>0.020916</td>\n",
       "      <td>POINT (37.85000 89.65000)</td>\n",
       "    </tr>\n",
       "    <tr>\n",
       "      <th>3</th>\n",
       "      <td>89.550003</td>\n",
       "      <td>-68.150002</td>\n",
       "      <td>0.054575</td>\n",
       "      <td>POINT (-68.15000 89.55000)</td>\n",
       "    </tr>\n",
       "    <tr>\n",
       "      <th>4</th>\n",
       "      <td>89.550003</td>\n",
       "      <td>-23.049999</td>\n",
       "      <td>0.064624</td>\n",
       "      <td>POINT (-23.05000 89.55000)</td>\n",
       "    </tr>\n",
       "    <tr>\n",
       "      <th>...</th>\n",
       "      <td>...</td>\n",
       "      <td>...</td>\n",
       "      <td>...</td>\n",
       "      <td>...</td>\n",
       "    </tr>\n",
       "    <tr>\n",
       "      <th>2257684</th>\n",
       "      <td>-77.750000</td>\n",
       "      <td>165.449997</td>\n",
       "      <td>0.006441</td>\n",
       "      <td>POINT (165.45000 -77.75000)</td>\n",
       "    </tr>\n",
       "    <tr>\n",
       "      <th>2257685</th>\n",
       "      <td>-77.750000</td>\n",
       "      <td>165.949997</td>\n",
       "      <td>0.006441</td>\n",
       "      <td>POINT (165.95000 -77.75000)</td>\n",
       "    </tr>\n",
       "    <tr>\n",
       "      <th>2257686</th>\n",
       "      <td>-77.750000</td>\n",
       "      <td>166.050003</td>\n",
       "      <td>0.006441</td>\n",
       "      <td>POINT (166.05000 -77.75000)</td>\n",
       "    </tr>\n",
       "    <tr>\n",
       "      <th>2257687</th>\n",
       "      <td>-77.750000</td>\n",
       "      <td>166.149994</td>\n",
       "      <td>0.006441</td>\n",
       "      <td>POINT (166.14999 -77.75000)</td>\n",
       "    </tr>\n",
       "    <tr>\n",
       "      <th>2257688</th>\n",
       "      <td>-77.750000</td>\n",
       "      <td>166.250000</td>\n",
       "      <td>0.019322</td>\n",
       "      <td>POINT (166.25000 -77.75000)</td>\n",
       "    </tr>\n",
       "  </tbody>\n",
       "</table>\n",
       "<p>2257689 rows × 4 columns</p>\n",
       "</div>"
      ],
      "text/plain": [
       "          latitude   longitude      flux                     geometry\n",
       "0        89.949997   33.750000  0.146428    POINT (33.75000 89.95000)\n",
       "1        89.849998  -26.450001  0.283811   POINT (-26.45000 89.85000)\n",
       "2        89.650002   37.849998  0.020916    POINT (37.85000 89.65000)\n",
       "3        89.550003  -68.150002  0.054575   POINT (-68.15000 89.55000)\n",
       "4        89.550003  -23.049999  0.064624   POINT (-23.05000 89.55000)\n",
       "...            ...         ...       ...                          ...\n",
       "2257684 -77.750000  165.449997  0.006441  POINT (165.45000 -77.75000)\n",
       "2257685 -77.750000  165.949997  0.006441  POINT (165.95000 -77.75000)\n",
       "2257686 -77.750000  166.050003  0.006441  POINT (166.05000 -77.75000)\n",
       "2257687 -77.750000  166.149994  0.006441  POINT (166.14999 -77.75000)\n",
       "2257688 -77.750000  166.250000  0.019322  POINT (166.25000 -77.75000)\n",
       "\n",
       "[2257689 rows x 4 columns]"
      ]
     },
     "execution_count": 21,
     "metadata": {},
     "output_type": "execute_result"
    }
   ],
   "source": [
    "df = pd.read_csv(os.path.join(RAW_FOLDER, \"r_ffdas_flux_2015.csv\"))\n",
    "df = df[df['flux']>0].reset_index(drop = True)\n",
    "df = gpd.GeoDataFrame(df, geometry=gpd.points_from_xy(df.longitude, df.latitude), crs=\"EPSG:4326\")\n",
    "df"
   ]
  },
  {
   "cell_type": "code",
   "execution_count": 22,
   "metadata": {},
   "outputs": [
    {
     "name": "stderr",
     "output_type": "stream",
     "text": [
      "c:\\Users\\yuanzfan\\Anaconda3\\envs\\geo38\\lib\\site-packages\\IPython\\core\\interactiveshell.py:3309: FutureWarning: The `op` parameter is deprecated and will be removed in a future release. Please use the `predicate` parameter instead.\n",
      "  if await self.run_code(code, result, async_=asy):\n"
     ]
    },
    {
     "data": {
      "text/html": [
       "<div>\n",
       "<style scoped>\n",
       "    .dataframe tbody tr th:only-of-type {\n",
       "        vertical-align: middle;\n",
       "    }\n",
       "\n",
       "    .dataframe tbody tr th {\n",
       "        vertical-align: top;\n",
       "    }\n",
       "\n",
       "    .dataframe thead th {\n",
       "        text-align: right;\n",
       "    }\n",
       "</style>\n",
       "<table border=\"1\" class=\"dataframe\">\n",
       "  <thead>\n",
       "    <tr style=\"text-align: right;\">\n",
       "      <th></th>\n",
       "      <th>flux</th>\n",
       "      <th>geometry</th>\n",
       "      <th>index_right</th>\n",
       "      <th>city_lower</th>\n",
       "    </tr>\n",
       "  </thead>\n",
       "  <tbody>\n",
       "    <tr>\n",
       "      <th>294779</th>\n",
       "      <td>1.472036</td>\n",
       "      <td>POINT (30.15000 60.05000)</td>\n",
       "      <td>102</td>\n",
       "      <td>saintpetersburg</td>\n",
       "    </tr>\n",
       "    <tr>\n",
       "      <th>294780</th>\n",
       "      <td>5.579766</td>\n",
       "      <td>POINT (30.25000 60.05000)</td>\n",
       "      <td>102</td>\n",
       "      <td>saintpetersburg</td>\n",
       "    </tr>\n",
       "    <tr>\n",
       "      <th>294781</th>\n",
       "      <td>7.247790</td>\n",
       "      <td>POINT (30.35000 60.05000)</td>\n",
       "      <td>102</td>\n",
       "      <td>saintpetersburg</td>\n",
       "    </tr>\n",
       "    <tr>\n",
       "      <th>297275</th>\n",
       "      <td>10.190162</td>\n",
       "      <td>POINT (30.25000 59.95000)</td>\n",
       "      <td>102</td>\n",
       "      <td>saintpetersburg</td>\n",
       "    </tr>\n",
       "    <tr>\n",
       "      <th>297276</th>\n",
       "      <td>21.470198</td>\n",
       "      <td>POINT (30.35000 59.95000)</td>\n",
       "      <td>102</td>\n",
       "      <td>saintpetersburg</td>\n",
       "    </tr>\n",
       "  </tbody>\n",
       "</table>\n",
       "</div>"
      ],
      "text/plain": [
       "             flux                   geometry  index_right       city_lower\n",
       "294779   1.472036  POINT (30.15000 60.05000)          102  saintpetersburg\n",
       "294780   5.579766  POINT (30.25000 60.05000)          102  saintpetersburg\n",
       "294781   7.247790  POINT (30.35000 60.05000)          102  saintpetersburg\n",
       "297275  10.190162  POINT (30.25000 59.95000)          102  saintpetersburg\n",
       "297276  21.470198  POINT (30.35000 59.95000)          102  saintpetersburg"
      ]
     },
     "execution_count": 22,
     "metadata": {},
     "output_type": "execute_result"
    }
   ],
   "source": [
    "seldf = gpd.sjoin(df[['flux','geometry']], allbound, how=\"inner\", op='intersects')\n",
    "seldf.head()"
   ]
  },
  {
   "cell_type": "code",
   "execution_count": 30,
   "metadata": {},
   "outputs": [],
   "source": [
    "seldfagg = seldf.groupby('city_lower').agg({'flux':['sum', 'mean','count']}).reset_index().rename(\n",
    "    columns = {'sum':'total_flux', 'mean':'mean_flux','count':'n_points'})\n",
    "\n",
    "seldfagg.columns = seldfagg.columns.droplevel(0)\n",
    "seldfagg.columns = ['city_lower', 'total_flux', 'mean_flux','flux_n_points']"
   ]
  },
  {
   "cell_type": "code",
   "execution_count": 33,
   "metadata": {},
   "outputs": [],
   "source": [
    "seldfagg.sort_values(\"total_flux\", ascending=False).to_csv(os.path.join(TRANSFORM_FOLDER, \"t_ffdas_flux_2015.csv\"), index=False)"
   ]
  },
  {
   "cell_type": "code",
   "execution_count": null,
   "metadata": {},
   "outputs": [],
   "source": []
  }
 ],
 "metadata": {
  "kernelspec": {
   "display_name": "geo38",
   "language": "python",
   "name": "python3"
  },
  "language_info": {
   "codemirror_mode": {
    "name": "ipython",
    "version": 3
   },
   "file_extension": ".py",
   "mimetype": "text/x-python",
   "name": "python",
   "nbconvert_exporter": "python",
   "pygments_lexer": "ipython3",
   "version": "3.8.13"
  }
 },
 "nbformat": 4,
 "nbformat_minor": 2
}
