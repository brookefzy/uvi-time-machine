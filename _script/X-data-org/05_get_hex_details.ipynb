{
 "cells": [
  {
   "cell_type": "markdown",
   "id": "75412188-88a8-4d93-ba9f-49a66a673a7a",
   "metadata": {},
   "source": [
    "# Goal:\n",
    "1. dist_center\n",
    "2. ring\n",
    "3. classification (likelihood of being another country)\n",
    "4. Carbon Flux"
   ]
  },
  {
   "cell_type": "code",
   "execution_count": null,
   "id": "b04b1973-cd44-4810-9df2-a358d7e18d89",
   "metadata": {},
   "outputs": [],
   "source": []
  }
 ],
 "metadata": {
  "kernelspec": {
   "display_name": "geo311",
   "language": "python",
   "name": "geo311"
  },
  "language_info": {
   "codemirror_mode": {
    "name": "ipython",
    "version": 3
   },
   "file_extension": ".py",
   "mimetype": "text/x-python",
   "name": "python",
   "nbconvert_exporter": "python",
   "pygments_lexer": "ipython3",
   "version": "3.11.8"
  }
 },
 "nbformat": 4,
 "nbformat_minor": 5
}
