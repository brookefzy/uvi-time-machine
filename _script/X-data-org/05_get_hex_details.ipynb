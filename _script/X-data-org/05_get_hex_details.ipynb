{
 "cells": [
  {
   "cell_type": "markdown",
   "id": "75412188-88a8-4d93-ba9f-49a66a673a7a",
   "metadata": {},
   "source": [
    "# Goal:\n",
    "1. dist_center\n",
    "2. ring\n",
    "3. classification (likelihood of being another country)\n",
    "4. Carbon Flux"
   ]
  },
  {
   "cell_type": "code",
   "execution_count": 3,
   "id": "29f2b717-cb1a-4d83-90c9-e112c70873ac",
   "metadata": {},
   "outputs": [],
   "source": [
    "import os\n",
    "import gspread\n",
    "import numpy as np\n",
    "import pandas as pd\n",
    "import geopandas as gpd\n",
    "def read_url(url, SHEET_NAME):\n",
    "    SHEET_ID = url.split(\"/\")[5]\n",
    "    spreadsheet = gc.open_by_key(SHEET_ID)\n",
    "    worksheet = spreadsheet.worksheet(SHEET_NAME)\n",
    "    rows = worksheet.get_all_records()\n",
    "    df_spread = pd.DataFrame(rows)\n",
    "    return df_spread, worksheet"
   ]
  },
  {
   "cell_type": "code",
   "execution_count": 4,
   "id": "b04b1973-cd44-4810-9df2-a358d7e18d89",
   "metadata": {},
   "outputs": [],
   "source": [
    "GC_URL = \"https://docs.google.com/spreadsheets/d/1o5gFmZPUoDwrrbfE6M26uJF3HnEZll02ivnOxP6K6Xw/edit?usp=sharing\"\n",
    "SHEETNAME = \"select_city_classifier\"\n",
    "RAW_FOLDER = \"/lustre1/g/geog_pyloo/05_timemachine/_raw/r_boundary_osm\"\n",
    "serviceaccount = \"../../google_drive_personal.json\"\n",
    "\n",
    "gc = gspread.service_account(filename=serviceaccount)\n",
    "city_meta, other_worksheet = read_url(GC_URL, SHEETNAME)\n",
    "city_meta = city_meta[city_meta['City']!=''].reset_index(drop = True)\n",
    "city_meta[\"country_clean\"] = np.where(city_meta[\"Country\"].isin([\"USA\", \"United States\"]), \n",
    "                                      \"United States of America\",\n",
    "                                      city_meta[\"Country\"]\n",
    "                                     )"
   ]
  },
  {
   "cell_type": "code",
   "execution_count": null,
   "id": "01de195c-200e-427d-a490-5cde62ccc593",
   "metadata": {},
   "outputs": [],
   "source": [
    "# For all hexagons generated from the segmentation model, calculate their distance from the city center, and assign development ring to them\n"
   ]
  }
 ],
 "metadata": {
  "kernelspec": {
   "display_name": "geo311",
   "language": "python",
   "name": "geo311"
  },
  "language_info": {
   "codemirror_mode": {
    "name": "ipython",
    "version": 3
   },
   "file_extension": ".py",
   "mimetype": "text/x-python",
   "name": "python",
   "nbconvert_exporter": "python",
   "pygments_lexer": "ipython3",
   "version": "3.11.8"
  }
 },
 "nbformat": 4,
 "nbformat_minor": 5
}
