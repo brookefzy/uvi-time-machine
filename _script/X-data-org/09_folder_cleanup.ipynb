{
 "cells": [
  {
   "cell_type": "code",
   "execution_count": 2,
   "metadata": {},
   "outputs": [],
   "source": [
    "# to delete all the panoptics prediction results since they are not trust worthy\n",
    "import pandas as pd\n",
    "import numpy as np\n",
    "import matplotlib.pyplot as plt\n",
    "import os\n",
    "import shutil\n",
    "from math import sin, cos, sqrt, atan2, radians\n",
    "import random\n",
    "from tqdm import tqdm\n",
    "import multiprocessing\n",
    "from multiprocessing import Pool\n",
    "import glob\n",
    "import sys\n",
    "ROOT_DIR = os.path.abspath(\"../\")\n",
    "sys.path.append(ROOT_DIR)\n",
    "from utils.gsvload import GSVSummary\n",
    "import concurrent.futures\n",
    "\n",
    "ROOTFOLDER = \"/lustre1/g/geog_pyloo/05_timemachine\"\n",
    "PANO_PATH = \"{ROOTFOLDER}/GSV/gsv_rgb/{cityabbr}/gsvmeta/gsv_pano.csv\"\n",
    "CURATED_FOLDER = f\"{ROOTFOLDER}/_curated\"\n",
    "META_PATH = \"{ROOTFOLDER}/GSV/gsv_rgb/{cityabbr}/gsvmeta/{cityabbr}_meta.csv\"\n",
    "\n",
    "EXFOLDER = os.path.join(CURATED_FOLDER, \"c_pano_crossectional\")\n",
    "if not os.path.exists(EXFOLDER):\n",
    "    os.makedirs(EXFOLDER)\n",
    "\n",
    "EXFOLDER_LONG = os.path.join(CURATED_FOLDER, \"c_pano_longitudinal\")"
   ]
  },
  {
   "cell_type": "code",
   "execution_count": 3,
   "metadata": {},
   "outputs": [],
   "source": [
    "# remove the two EXPFOLDER and all files inside\n",
    "for f in [EXFOLDER, EXFOLDER_LONG]:\n",
    "    if os.path.exists(f):\n",
    "        shutil.rmtree(f)"
   ]
  },
  {
   "cell_type": "code",
   "execution_count": 5,
   "metadata": {},
   "outputs": [
    {
     "name": "stdout",
     "output_type": "stream",
     "text": [
      "1000\n",
      "2000\n",
      "3000\n",
      "4000\n",
      "5000\n",
      "6000\n",
      "7000\n",
      "8000\n",
      "9000\n",
      "10000\n",
      "11000\n",
      "12000\n",
      "13000\n",
      "14000\n",
      "15000\n",
      "16000\n",
      "17000\n",
      "18000\n",
      "19000\n",
      "20000\n",
      "21000\n",
      "22000\n",
      "23000\n",
      "24000\n",
      "25000\n",
      "26000\n",
      "27000\n",
      "28000\n",
      "29000\n",
      "30000\n",
      "31000\n",
      "32000\n",
      "33000\n",
      "34000\n",
      "35000\n",
      "36000\n",
      "37000\n",
      "38000\n",
      "39000\n",
      "40000\n"
     ]
    }
   ],
   "source": [
    "# remove files in the _curated folder if it ends with \"*panoptic.csv\"\n",
    "count = 0\n",
    "for f in glob.glob(f\"{CURATED_FOLDER}/**/*panoptic.csv\", recursive=True):\n",
    "    os.remove(f)\n",
    "    count += 1\n",
    "    if count % 1000 == 0:\n",
    "        print(count)"
   ]
  },
  {
   "cell_type": "code",
   "execution_count": 6,
   "metadata": {},
   "outputs": [],
   "source": [
    "seg_folder_archive = \"/lustre1/g/geog_pyloo/05_timemachine/_curated/c_seg_crossectional\"\n",
    "shutil.rmtree(seg_folder_archive)"
   ]
  },
  {
   "cell_type": "code",
   "execution_count": null,
   "metadata": {},
   "outputs": [],
   "source": []
  }
 ],
 "metadata": {
  "kernelspec": {
   "display_name": "py311",
   "language": "python",
   "name": "python3"
  },
  "language_info": {
   "codemirror_mode": {
    "name": "ipython",
    "version": 3
   },
   "file_extension": ".py",
   "mimetype": "text/x-python",
   "name": "python",
   "nbconvert_exporter": "python",
   "pygments_lexer": "ipython3",
   "version": "3.11.9"
  }
 },
 "nbformat": 4,
 "nbformat_minor": 2
}
