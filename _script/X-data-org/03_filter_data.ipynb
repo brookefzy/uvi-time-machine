{
 "cells": [
  {
   "cell_type": "markdown",
   "id": "719ff73c-350f-4c48-9ce1-3d08ad1e0df9",
   "metadata": {},
   "source": [
    "# Goal:\n",
    "This notebook further filter the data by criteria:\n",
    "1. Calculate the image sizes. smaller than 2000 b is not considered (too few information)\n",
    "2. Assign the road class to each panoid. Remove the highway only ones\n",
    "3. Use the segmentation results to find the ones that with at least one building. Label the ones without any building as outlier"
   ]
  },
  {
   "cell_type": "code",
   "execution_count": 1,
   "id": "5199b282-9d51-427c-8537-60d0cb75bd54",
   "metadata": {},
   "outputs": [],
   "source": [
    "import tqdm\n",
    "import geopandas as gpd\n",
    "import os\n",
    "import tqdm\n",
    "import numpy as np\n",
    "import pandas as pd\n",
    "import sys\n",
    "ROOT_DIR = os.path.abspath(\"../\")\n",
    "sys.path.append(ROOT_DIR)\n",
    "from utils.gsvload import GSVSummary\n",
    "from shapely.geometry import Point\n",
    "from multiprocessing import Pool\n",
    "import concurrent.futures\n",
    "\n",
    "RAW_FOLDER_ROOT = \"/lustre1/g/geog_pyloo/05_timemachine/GSV/gsv_rgb\"\n",
    "ROAD_PTH = \"{RAW_FOLDER_ROOT}/{cityabbrlower}/road/osm.geojson\"\n",
    "# TGT_FILE = \"gsv_pano_label.csv\" \n",
    "TGT_FILE = \"{cityabbrlower}_meta.csv\""
   ]
  },
  {
   "cell_type": "code",
   "execution_count": 4,
   "id": "effa0935-a6a5-4105-9d8f-0667f2fff264",
   "metadata": {
    "collapsed": true,
    "jupyter": {
     "outputs_hidden": true
    },
    "tags": []
   },
   "outputs": [
    {
     "name": "stderr",
     "output_type": "stream",
     "text": [
      "ERROR 1: PROJ: proj_create_from_database: Open of /lustre1/u/yuanzf/anaconda3/envs/geo311/share/proj failed\n"
     ]
    },
    {
     "data": {
      "text/html": [
       "<div>\n",
       "<style scoped>\n",
       "    .dataframe tbody tr th:only-of-type {\n",
       "        vertical-align: middle;\n",
       "    }\n",
       "\n",
       "    .dataframe tbody tr th {\n",
       "        vertical-align: top;\n",
       "    }\n",
       "\n",
       "    .dataframe thead th {\n",
       "        text-align: right;\n",
       "    }\n",
       "</style>\n",
       "<table border=\"1\" class=\"dataframe\">\n",
       "  <thead>\n",
       "    <tr style=\"text-align: right;\">\n",
       "      <th></th>\n",
       "      <th>u</th>\n",
       "      <th>v</th>\n",
       "      <th>osmid</th>\n",
       "      <th>name</th>\n",
       "      <th>length</th>\n",
       "      <th>length_meter</th>\n",
       "      <th>newID</th>\n",
       "      <th>geometry</th>\n",
       "    </tr>\n",
       "  </thead>\n",
       "  <tbody>\n",
       "    <tr>\n",
       "      <th>0</th>\n",
       "      <td>10371529</td>\n",
       "      <td>743371634</td>\n",
       "      <td>274433644</td>\n",
       "      <td>Via Novara</td>\n",
       "      <td>154.435</td>\n",
       "      <td>220.533621</td>\n",
       "      <td>274433644_0</td>\n",
       "      <td>LINESTRING (1010405.229 5698607.719, 1010189.6...</td>\n",
       "    </tr>\n",
       "    <tr>\n",
       "      <th>1</th>\n",
       "      <td>10371529</td>\n",
       "      <td>743371622</td>\n",
       "      <td>26703159</td>\n",
       "      <td>Via Novara</td>\n",
       "      <td>150.466</td>\n",
       "      <td>214.866824</td>\n",
       "      <td>26703159_1</td>\n",
       "      <td>LINESTRING (1010405.229 5698607.719, 1010347.7...</td>\n",
       "    </tr>\n",
       "    <tr>\n",
       "      <th>2</th>\n",
       "      <td>10371530</td>\n",
       "      <td>2754112526</td>\n",
       "      <td>270390223</td>\n",
       "      <td>Via Novara</td>\n",
       "      <td>29.791</td>\n",
       "      <td>42.535290</td>\n",
       "      <td>270390223_2</td>\n",
       "      <td>LINESTRING (1013236.094 5697377.256, 1013196.4...</td>\n",
       "    </tr>\n",
       "    <tr>\n",
       "      <th>3</th>\n",
       "      <td>13595397</td>\n",
       "      <td>10694405410</td>\n",
       "      <td>195654893</td>\n",
       "      <td>Viale Certosa</td>\n",
       "      <td>10.544</td>\n",
       "      <td>15.059787</td>\n",
       "      <td>195654893_3</td>\n",
       "      <td>LINESTRING (1016420.500 5700507.562, 1016433.1...</td>\n",
       "    </tr>\n",
       "    <tr>\n",
       "      <th>4</th>\n",
       "      <td>13595397</td>\n",
       "      <td>271096577</td>\n",
       "      <td>195654896</td>\n",
       "      <td>Viale Certosa</td>\n",
       "      <td>41.593</td>\n",
       "      <td>59.408124</td>\n",
       "      <td>195654896_4</td>\n",
       "      <td>LINESTRING (1016420.500 5700507.562, 1016370.6...</td>\n",
       "    </tr>\n",
       "    <tr>\n",
       "      <th>...</th>\n",
       "      <td>...</td>\n",
       "      <td>...</td>\n",
       "      <td>...</td>\n",
       "      <td>...</td>\n",
       "      <td>...</td>\n",
       "      <td>...</td>\n",
       "      <td>...</td>\n",
       "      <td>...</td>\n",
       "    </tr>\n",
       "    <tr>\n",
       "      <th>259962</th>\n",
       "      <td>11748228776</td>\n",
       "      <td>2162724465</td>\n",
       "      <td>1138284089_206271098_1138284090</td>\n",
       "      <td>nan</td>\n",
       "      <td>7.729</td>\n",
       "      <td>11.042054</td>\n",
       "      <td>1138284089_206271098_1138284090_259962</td>\n",
       "      <td>LINESTRING (1022453.671 5702740.790, 1022454.4...</td>\n",
       "    </tr>\n",
       "    <tr>\n",
       "      <th>259963</th>\n",
       "      <td>11748228776</td>\n",
       "      <td>2162688055</td>\n",
       "      <td>206271098_1138284102_1138284103</td>\n",
       "      <td>nan</td>\n",
       "      <td>13.096</td>\n",
       "      <td>18.709031</td>\n",
       "      <td>206271098_1138284102_1138284103_259963</td>\n",
       "      <td>LINESTRING (1022453.671 5702740.790, 1022453.0...</td>\n",
       "    </tr>\n",
       "    <tr>\n",
       "      <th>259964</th>\n",
       "      <td>11748228777</td>\n",
       "      <td>11748228776</td>\n",
       "      <td>135032696</td>\n",
       "      <td>Via Ettore Majorana</td>\n",
       "      <td>3.585</td>\n",
       "      <td>5.121567</td>\n",
       "      <td>135032696_259964</td>\n",
       "      <td>LINESTRING (1022458.502 5702739.090, 1022453.6...</td>\n",
       "    </tr>\n",
       "    <tr>\n",
       "      <th>259965</th>\n",
       "      <td>11748228777</td>\n",
       "      <td>2951516015</td>\n",
       "      <td>1016889293</td>\n",
       "      <td>nan</td>\n",
       "      <td>7.755</td>\n",
       "      <td>11.079938</td>\n",
       "      <td>1016889293_259965</td>\n",
       "      <td>LINESTRING (1022458.502 5702739.090, 1022462.3...</td>\n",
       "    </tr>\n",
       "    <tr>\n",
       "      <th>259966</th>\n",
       "      <td>11748228777</td>\n",
       "      <td>2951516014</td>\n",
       "      <td>1016889293</td>\n",
       "      <td>nan</td>\n",
       "      <td>13.086</td>\n",
       "      <td>18.696058</td>\n",
       "      <td>1016889293_259966</td>\n",
       "      <td>LINESTRING (1022458.502 5702739.090, 1022452.0...</td>\n",
       "    </tr>\n",
       "  </tbody>\n",
       "</table>\n",
       "<p>259967 rows × 8 columns</p>\n",
       "</div>"
      ],
      "text/plain": [
       "                  u            v                            osmid   \n",
       "0          10371529    743371634                        274433644  \\\n",
       "1          10371529    743371622                         26703159   \n",
       "2          10371530   2754112526                        270390223   \n",
       "3          13595397  10694405410                        195654893   \n",
       "4          13595397    271096577                        195654896   \n",
       "...             ...          ...                              ...   \n",
       "259962  11748228776   2162724465  1138284089_206271098_1138284090   \n",
       "259963  11748228776   2162688055  206271098_1138284102_1138284103   \n",
       "259964  11748228777  11748228776                        135032696   \n",
       "259965  11748228777   2951516015                       1016889293   \n",
       "259966  11748228777   2951516014                       1016889293   \n",
       "\n",
       "                       name   length  length_meter   \n",
       "0                Via Novara  154.435    220.533621  \\\n",
       "1                Via Novara  150.466    214.866824   \n",
       "2                Via Novara   29.791     42.535290   \n",
       "3             Viale Certosa   10.544     15.059787   \n",
       "4             Viale Certosa   41.593     59.408124   \n",
       "...                     ...      ...           ...   \n",
       "259962                  nan    7.729     11.042054   \n",
       "259963                  nan   13.096     18.709031   \n",
       "259964  Via Ettore Majorana    3.585      5.121567   \n",
       "259965                  nan    7.755     11.079938   \n",
       "259966                  nan   13.086     18.696058   \n",
       "\n",
       "                                         newID   \n",
       "0                                  274433644_0  \\\n",
       "1                                   26703159_1   \n",
       "2                                  270390223_2   \n",
       "3                                  195654893_3   \n",
       "4                                  195654896_4   \n",
       "...                                        ...   \n",
       "259962  1138284089_206271098_1138284090_259962   \n",
       "259963  206271098_1138284102_1138284103_259963   \n",
       "259964                        135032696_259964   \n",
       "259965                       1016889293_259965   \n",
       "259966                       1016889293_259966   \n",
       "\n",
       "                                                 geometry  \n",
       "0       LINESTRING (1010405.229 5698607.719, 1010189.6...  \n",
       "1       LINESTRING (1010405.229 5698607.719, 1010347.7...  \n",
       "2       LINESTRING (1013236.094 5697377.256, 1013196.4...  \n",
       "3       LINESTRING (1016420.500 5700507.562, 1016433.1...  \n",
       "4       LINESTRING (1016420.500 5700507.562, 1016370.6...  \n",
       "...                                                   ...  \n",
       "259962  LINESTRING (1022453.671 5702740.790, 1022454.4...  \n",
       "259963  LINESTRING (1022453.671 5702740.790, 1022453.0...  \n",
       "259964  LINESTRING (1022458.502 5702739.090, 1022453.6...  \n",
       "259965  LINESTRING (1022458.502 5702739.090, 1022462.3...  \n",
       "259966  LINESTRING (1022458.502 5702739.090, 1022452.0...  \n",
       "\n",
       "[259967 rows x 8 columns]"
      ]
     },
     "execution_count": 4,
     "metadata": {},
     "output_type": "execute_result"
    }
   ],
   "source": [
    "# city = \"Milan\"\n",
    "# roaddf = gpd.read_file(ROAD_PTH.format(\n",
    "#     RAW_FOLDER_ROOT = RAW_FOLDER_ROOT,\n",
    "#     cityabbrlower = city.lower().replace(\" \", \"\")\n",
    "# ))\n",
    "# roaddf"
   ]
  },
  {
   "cell_type": "code",
   "execution_count": 2,
   "id": "3518cd75-4fc2-4dfd-be53-c1ca27ff7431",
   "metadata": {},
   "outputs": [],
   "source": [
    "serviceaccount = \"../../google_drive_personal.json\"\n",
    "import gspread\n",
    "\n",
    "# from oauth2client.service_account import ServiceAccountCredentials\n",
    "gc = gspread.service_account(filename=serviceaccount)\n",
    "\n",
    "\n",
    "def read_url(url, SHEET_NAME):\n",
    "    SHEET_ID = url.split(\"/\")[5]\n",
    "    spreadsheet = gc.open_by_key(SHEET_ID)\n",
    "    worksheet = spreadsheet.worksheet(SHEET_NAME)\n",
    "    rows = worksheet.get_all_records()\n",
    "    df_spread = pd.DataFrame(rows)\n",
    "    return df_spread, worksheet\n",
    "\n",
    "\n",
    "url = \"https://docs.google.com/spreadsheets/d/1o5gFmZPUoDwrrbfE6M26uJF3HnEZll02ivnOxP6K6Xw/edit?usp=sharing\"\n",
    "SHEETNAME = \"select_city\"\n",
    "city_meta, other_worksheet = read_url(url, SHEETNAME)\n",
    "city_meta = city_meta[city_meta['City']!=''].reset_index(drop = True)"
   ]
  },
  {
   "cell_type": "markdown",
   "id": "3afa5bf2-8dc5-453d-a0dd-7015f40e9134",
   "metadata": {},
   "source": [
    "## 1. Check image sizes"
   ]
  },
  {
   "cell_type": "code",
   "execution_count": 21,
   "id": "aa3d6141-304d-4a09-9717-420ff263997f",
   "metadata": {},
   "outputs": [],
   "source": [
    "def get_gsv_file_size(city):\n",
    "    citylower = city.lower().replace(\" \", \"\")\n",
    "    meta_path = \"{RAW_FOLDER_ROOT}/{cityabbrlower}/gsvmeta/{tgt_tile}\".format(\n",
    "        RAW_FOLDER_ROOT = RAW_FOLDER_ROOT,\n",
    "        cityabbrlower = citylower,\n",
    "        tgt_tile = TGT_FILE.format(cityabbrlower = citylower)\n",
    "    )\n",
    "\n",
    "    metadf = pd.read_csv(meta_path)\n",
    "    \n",
    "    def get_file_size(file):\n",
    "        try:\n",
    "            return file, os.path.getsize(file)\n",
    "        except OSError as e:\n",
    "            print(f\"Error: {e}\")\n",
    "            return file, None\n",
    "\n",
    "    if './data/' in metadf[\"path\"].values[0]:\n",
    "        metadf['path'] = metadf['path'].apply(lambda x: x.replace(\"./data/\", \"/lustre1/g/geog_pyloo/05_timemachine/GSV/\"))\n",
    "        print(\"path fixed\")\n",
    "    files = metadf[\"path\"].values\n",
    "    if \"size\" in metadf.columns:\n",
    "        print(\"size finished, no need to calculate. continue next\")\n",
    "        return None\n",
    "    else:\n",
    "        \n",
    "        # Store file sizes in a dictionary\n",
    "        file_sizes = {}\n",
    "        with concurrent.futures.ThreadPoolExecutor(max_workers=4) as executor:\n",
    "            # The map method helps maintain the order of results\n",
    "            results = executor.map(get_file_size, files)\n",
    "\n",
    "            for file, size in results:\n",
    "                if size is not None:\n",
    "                    file_sizes[file] = size\n",
    "                else:\n",
    "                    file_sizes[file] = 0  # the file is removed\n",
    "\n",
    "        metadf[\"size\"] = metadf[\"path\"].apply(lambda x: file_sizes[x])\n",
    "        metadf_update.to_csv(meta_path, index = False)\n",
    "        return metadf"
   ]
  },
  {
   "cell_type": "code",
   "execution_count": 4,
   "id": "93325043-3f63-43b3-a5ec-33bc66aef25d",
   "metadata": {},
   "outputs": [
    {
     "data": {
      "text/plain": [
       "127"
      ]
     },
     "execution_count": 4,
     "metadata": {},
     "output_type": "execute_result"
    }
   ],
   "source": [
    "cityls = city_meta[city_meta['GSV Downloaded']>0]['City'].unique()\n",
    "len(cityls)"
   ]
  },
  {
   "cell_type": "code",
   "execution_count": null,
   "id": "781d0622-6f8e-43e3-b26c-7fdd9bea5798",
   "metadata": {},
   "outputs": [],
   "source": [
    "city = \"Accra\""
   ]
  },
  {
   "cell_type": "code",
   "execution_count": 20,
   "id": "82bf9448-9523-49f4-8d85-0a79e5dd476a",
   "metadata": {},
   "outputs": [
    {
     "data": {
      "text/plain": [
       "'Nagoya'"
      ]
     },
     "execution_count": 20,
     "metadata": {},
     "output_type": "execute_result"
    }
   ],
   "source": [
    "list(cityls)[65]"
   ]
  },
  {
   "cell_type": "code",
   "execution_count": null,
   "id": "9ba51121-6fb5-41ae-ac5a-d52c5b400ca6",
   "metadata": {},
   "outputs": [
    {
     "name": "stderr",
     "output_type": "stream",
     "text": [
      "  4%|▍         | 5/125 [1:25:10<32:59:08, 989.57s/it] "
     ]
    },
    {
     "name": "stdout",
     "output_type": "stream",
     "text": [
      "size finished, no need to calculate. continue next\n"
     ]
    },
    {
     "name": "stderr",
     "output_type": "stream",
     "text": [
      "  6%|▋         | 8/125 [1:41:54<15:28:49, 476.32s/it]"
     ]
    },
    {
     "name": "stdout",
     "output_type": "stream",
     "text": [
      "size finished, no need to calculate. continue next\n"
     ]
    },
    {
     "name": "stderr",
     "output_type": "stream",
     "text": [
      " 28%|██▊       | 35/125 [6:12:46<14:41:25, 587.61s/it]"
     ]
    }
   ],
   "source": [
    "from tqdm import tqdm\n",
    "for city in tqdm(cityls[2:]):\n",
    "    get_gsv_file_size(city)"
   ]
  },
  {
   "cell_type": "code",
   "execution_count": null,
   "id": "354188cc-fbb1-4f3d-8b93-4150ae2d4914",
   "metadata": {},
   "outputs": [],
   "source": [
    "city"
   ]
  },
  {
   "cell_type": "code",
   "execution_count": null,
   "id": "340fd914-b7f1-4358-b621-2ff69df92cb3",
   "metadata": {},
   "outputs": [],
   "source": []
  }
 ],
 "metadata": {
  "kernelspec": {
   "display_name": "geo311",
   "language": "python",
   "name": "geo311"
  },
  "language_info": {
   "codemirror_mode": {
    "name": "ipython",
    "version": 3
   },
   "file_extension": ".py",
   "mimetype": "text/x-python",
   "name": "python",
   "nbconvert_exporter": "python",
   "pygments_lexer": "ipython3",
   "version": "3.11.8"
  }
 },
 "nbformat": 4,
 "nbformat_minor": 5
}
