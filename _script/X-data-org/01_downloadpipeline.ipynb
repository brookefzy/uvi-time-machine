{
 "cells": [
  {
   "cell_type": "code",
   "execution_count": 2,
   "metadata": {},
   "outputs": [
    {
     "name": "stderr",
     "output_type": "stream",
     "text": [
      "ERROR 1: PROJ: proj_create_from_database: Open of /lustre1/u/yuanzf/anaconda3/envs/geo311/share/proj failed\n"
     ]
    }
   ],
   "source": [
    "# import networkx as nx\n",
    "# import osmnx as ox\n",
    "import pandas as pd\n",
    "import numpy as np\n",
    "import geopandas as gpd\n",
    "import matplotlib.pyplot as plt\n",
    "from shapely.geometry import Point\n",
    "from fiona.crs import from_epsg\n",
    "import os\n",
    "from scipy import spatial\n",
    "import shutil\n",
    "from math import sin, cos, sqrt, atan2, radians\n",
    "import random\n",
    "import shapely"
   ]
  },
  {
   "cell_type": "code",
   "execution_count": 3,
   "metadata": {},
   "outputs": [],
   "source": [
    "import networkx as nx\n",
    "import osmnx as ox"
   ]
  },
  {
   "cell_type": "markdown",
   "metadata": {},
   "source": [
    "# Download pipeline\n",
    "1. download panoids\n",
    "2. filter the panoid by sample locations\n",
    "3. selective download images\n",
    "- after or in 2015"
   ]
  },
  {
   "cell_type": "code",
   "execution_count": null,
   "metadata": {},
   "outputs": [],
   "source": [
    "# Project Tracking: https://docs.google.com/spreadsheets/d/1o5gFmZPUoDwrrbfE6M26uJF3HnEZll02ivnOxP6K6Xw/edit?usp=sharing"
   ]
  },
  {
   "cell_type": "code",
   "execution_count": 4,
   "metadata": {},
   "outputs": [
    {
     "data": {
      "text/plain": [
       "['gsv_rgb',\n",
       " 'classifier_trainset_update.csv',\n",
       " 'classifier_trainset_update_1.csv',\n",
       " 'bound',\n",
       " 'gsv_rgb_permission']"
      ]
     },
     "execution_count": 4,
     "metadata": {},
     "output_type": "execute_result"
    }
   ],
   "source": [
    "boundfolder = \"/lustre1/g/geog_pyloo/05_timemachine/GSV/bound\"\n",
    "metafolder = \"/lustre1/g/geog_pyloo/05_timemachine/GSV\"\n",
    "os.listdir(metafolder)"
   ]
  },
  {
   "cell_type": "code",
   "execution_count": 5,
   "metadata": {},
   "outputs": [
    {
     "data": {
      "text/html": [
       "<div>\n",
       "<style scoped>\n",
       "    .dataframe tbody tr th:only-of-type {\n",
       "        vertical-align: middle;\n",
       "    }\n",
       "\n",
       "    .dataframe tbody tr th {\n",
       "        vertical-align: top;\n",
       "    }\n",
       "\n",
       "    .dataframe thead th {\n",
       "        text-align: right;\n",
       "    }\n",
       "</style>\n",
       "<table border=\"1\" class=\"dataframe\">\n",
       "  <thead>\n",
       "    <tr style=\"text-align: right;\">\n",
       "      <th></th>\n",
       "      <th>Country</th>\n",
       "      <th>center_lat</th>\n",
       "      <th>center_lng</th>\n",
       "      <th>GSV Pair (15-18, 20-23)</th>\n",
       "      <th>label</th>\n",
       "      <th>h3_9_count</th>\n",
       "      <th>h3_8_count</th>\n",
       "      <th>num_panoid</th>\n",
       "      <th>road</th>\n",
       "      <th>GSV Downloaded</th>\n",
       "      <th>Transfer Progress</th>\n",
       "      <th>Encoding Progress</th>\n",
       "      <th>oneformer Segmentation</th>\n",
       "    </tr>\n",
       "    <tr>\n",
       "      <th>City</th>\n",
       "      <th></th>\n",
       "      <th></th>\n",
       "      <th></th>\n",
       "      <th></th>\n",
       "      <th></th>\n",
       "      <th></th>\n",
       "      <th></th>\n",
       "      <th></th>\n",
       "      <th></th>\n",
       "      <th></th>\n",
       "      <th></th>\n",
       "      <th></th>\n",
       "      <th></th>\n",
       "    </tr>\n",
       "  </thead>\n",
       "  <tbody>\n",
       "    <tr>\n",
       "      <th>Mumbai</th>\n",
       "      <td>India</td>\n",
       "      <td>19.076</td>\n",
       "      <td>72.8777</td>\n",
       "      <td></td>\n",
       "      <td>35</td>\n",
       "      <td></td>\n",
       "      <td></td>\n",
       "      <td>21640</td>\n",
       "      <td>1</td>\n",
       "      <td>49301</td>\n",
       "      <td>TRUE</td>\n",
       "      <td>FALSE</td>\n",
       "      <td>FALSE</td>\n",
       "    </tr>\n",
       "    <tr>\n",
       "      <th>Kampala</th>\n",
       "      <td>Uganda</td>\n",
       "      <td>0.347596</td>\n",
       "      <td>32.58252</td>\n",
       "      <td>0</td>\n",
       "      <td>10</td>\n",
       "      <td>1390</td>\n",
       "      <td>215</td>\n",
       "      <td>38839</td>\n",
       "      <td>1</td>\n",
       "      <td>116248</td>\n",
       "      <td>TRUE</td>\n",
       "      <td>FALSE</td>\n",
       "      <td>FALSE</td>\n",
       "    </tr>\n",
       "    <tr>\n",
       "      <th>Miami</th>\n",
       "      <td>USA</td>\n",
       "      <td>25.7617</td>\n",
       "      <td>-80.1918</td>\n",
       "      <td></td>\n",
       "      <td>39</td>\n",
       "      <td></td>\n",
       "      <td></td>\n",
       "      <td>806659</td>\n",
       "      <td>1</td>\n",
       "      <td>123133</td>\n",
       "      <td>TRUE</td>\n",
       "      <td>FALSE</td>\n",
       "      <td>FALSE</td>\n",
       "    </tr>\n",
       "    <tr>\n",
       "      <th>San Francisco</th>\n",
       "      <td>USA</td>\n",
       "      <td>37.7749</td>\n",
       "      <td>-122.4194</td>\n",
       "      <td></td>\n",
       "      <td>37</td>\n",
       "      <td></td>\n",
       "      <td></td>\n",
       "      <td>1346152</td>\n",
       "      <td>1</td>\n",
       "      <td>129104</td>\n",
       "      <td>TRUE</td>\n",
       "      <td>FALSE</td>\n",
       "      <td>FALSE</td>\n",
       "    </tr>\n",
       "    <tr>\n",
       "      <th>Paris</th>\n",
       "      <td>France</td>\n",
       "      <td>48.864716</td>\n",
       "      <td>2.349014</td>\n",
       "      <td>4256</td>\n",
       "      <td>13</td>\n",
       "      <td>1151</td>\n",
       "      <td>170</td>\n",
       "      <td>864312</td>\n",
       "      <td>1</td>\n",
       "      <td>133100</td>\n",
       "      <td>TRUE</td>\n",
       "      <td>FALSE</td>\n",
       "      <td>FALSE</td>\n",
       "    </tr>\n",
       "    <tr>\n",
       "      <th>...</th>\n",
       "      <td>...</td>\n",
       "      <td>...</td>\n",
       "      <td>...</td>\n",
       "      <td>...</td>\n",
       "      <td>...</td>\n",
       "      <td>...</td>\n",
       "      <td>...</td>\n",
       "      <td>...</td>\n",
       "      <td>...</td>\n",
       "      <td>...</td>\n",
       "      <td>...</td>\n",
       "      <td>...</td>\n",
       "      <td>...</td>\n",
       "    </tr>\n",
       "    <tr>\n",
       "      <th>Minneapolis</th>\n",
       "      <td>United States</td>\n",
       "      <td></td>\n",
       "      <td></td>\n",
       "      <td></td>\n",
       "      <td></td>\n",
       "      <td></td>\n",
       "      <td></td>\n",
       "      <td></td>\n",
       "      <td></td>\n",
       "      <td></td>\n",
       "      <td>FALSE</td>\n",
       "      <td></td>\n",
       "      <td></td>\n",
       "    </tr>\n",
       "    <tr>\n",
       "      <th>Modesto</th>\n",
       "      <td>United States</td>\n",
       "      <td></td>\n",
       "      <td></td>\n",
       "      <td></td>\n",
       "      <td></td>\n",
       "      <td></td>\n",
       "      <td></td>\n",
       "      <td></td>\n",
       "      <td></td>\n",
       "      <td></td>\n",
       "      <td>FALSE</td>\n",
       "      <td></td>\n",
       "      <td></td>\n",
       "    </tr>\n",
       "    <tr>\n",
       "      <th>Portland, OR</th>\n",
       "      <td>United States</td>\n",
       "      <td></td>\n",
       "      <td></td>\n",
       "      <td></td>\n",
       "      <td></td>\n",
       "      <td></td>\n",
       "      <td></td>\n",
       "      <td></td>\n",
       "      <td></td>\n",
       "      <td></td>\n",
       "      <td>FALSE</td>\n",
       "      <td></td>\n",
       "      <td></td>\n",
       "    </tr>\n",
       "    <tr>\n",
       "      <th>Raleigh</th>\n",
       "      <td>United States</td>\n",
       "      <td></td>\n",
       "      <td></td>\n",
       "      <td></td>\n",
       "      <td></td>\n",
       "      <td></td>\n",
       "      <td></td>\n",
       "      <td></td>\n",
       "      <td></td>\n",
       "      <td></td>\n",
       "      <td>FALSE</td>\n",
       "      <td></td>\n",
       "      <td></td>\n",
       "    </tr>\n",
       "    <tr>\n",
       "      <th>Toledo</th>\n",
       "      <td>United States</td>\n",
       "      <td></td>\n",
       "      <td></td>\n",
       "      <td></td>\n",
       "      <td></td>\n",
       "      <td></td>\n",
       "      <td></td>\n",
       "      <td></td>\n",
       "      <td></td>\n",
       "      <td></td>\n",
       "      <td>FALSE</td>\n",
       "      <td></td>\n",
       "      <td></td>\n",
       "    </tr>\n",
       "  </tbody>\n",
       "</table>\n",
       "<p>162 rows × 13 columns</p>\n",
       "</div>"
      ],
      "text/plain": [
       "                     Country center_lat center_lng GSV Pair (15-18, 20-23)   \n",
       "City                                                                         \n",
       "Mumbai                 India     19.076    72.8777                          \\\n",
       "Kampala               Uganda   0.347596   32.58252                       0   \n",
       "Miami                    USA    25.7617   -80.1918                           \n",
       "San Francisco            USA    37.7749  -122.4194                           \n",
       "Paris                 France  48.864716   2.349014                    4256   \n",
       "...                      ...        ...        ...                     ...   \n",
       "Minneapolis    United States                                                 \n",
       "Modesto        United States                                                 \n",
       "Portland, OR   United States                                                 \n",
       "Raleigh        United States                                                 \n",
       "Toledo         United States                                                 \n",
       "\n",
       "              label h3_9_count h3_8_count num_panoid road GSV Downloaded   \n",
       "City                                                                       \n",
       "Mumbai           35                            21640    1          49301  \\\n",
       "Kampala          10       1390        215      38839    1         116248   \n",
       "Miami            39                           806659    1         123133   \n",
       "San Francisco    37                          1346152    1         129104   \n",
       "Paris            13       1151        170     864312    1         133100   \n",
       "...             ...        ...        ...        ...  ...            ...   \n",
       "Minneapolis                                                                \n",
       "Modesto                                                                    \n",
       "Portland, OR                                                               \n",
       "Raleigh                                                                    \n",
       "Toledo                                                                     \n",
       "\n",
       "              Transfer Progress Encoding Progress oneformer Segmentation  \n",
       "City                                                                      \n",
       "Mumbai                     TRUE             FALSE                  FALSE  \n",
       "Kampala                    TRUE             FALSE                  FALSE  \n",
       "Miami                      TRUE             FALSE                  FALSE  \n",
       "San Francisco              TRUE             FALSE                  FALSE  \n",
       "Paris                      TRUE             FALSE                  FALSE  \n",
       "...                         ...               ...                    ...  \n",
       "Minneapolis               FALSE                                           \n",
       "Modesto                   FALSE                                           \n",
       "Portland, OR              FALSE                                           \n",
       "Raleigh                   FALSE                                           \n",
       "Toledo                    FALSE                                           \n",
       "\n",
       "[162 rows x 13 columns]"
      ]
     },
     "execution_count": 5,
     "metadata": {},
     "output_type": "execute_result"
    }
   ],
   "source": [
    "\n",
    "serviceaccount = \"../../google_drive_personal.json\"\n",
    "import gspread\n",
    "# from oauth2client.service_account import ServiceAccountCredentials\n",
    "gc = gspread.service_account(filename = serviceaccount)\n",
    "def read_url(url, SHEET_NAME):\n",
    "    SHEET_ID = url.split('/')[5]\n",
    "    spreadsheet = gc.open_by_key(SHEET_ID)\n",
    "    worksheet = spreadsheet.worksheet(SHEET_NAME)\n",
    "    rows = worksheet.get_all_records()\n",
    "    df_spread = pd.DataFrame(rows)\n",
    "    return df_spread, worksheet\n",
    "\n",
    "url = \"https://docs.google.com/spreadsheets/d/1o5gFmZPUoDwrrbfE6M26uJF3HnEZll02ivnOxP6K6Xw/edit?usp=sharing\"\n",
    "SHEETNAME = \"select_city\"\n",
    "city_meta, other_worksheet = read_url( url, SHEETNAME)\n",
    "city_meta = city_meta[city_meta['City']!=''].reset_index(drop = True)\n",
    "city_country_name = dict(zip(city_meta['City'], city_meta['Country']))\n",
    "city_meta.set_index('City', inplace = True)\n",
    "city_meta\n",
    "# import json\n",
    "# with open('city_country_name.json', 'w') as fp:\n",
    "#     json.dump(city_country_name, fp, indent=4)"
   ]
  },
  {
   "cell_type": "markdown",
   "metadata": {},
   "source": [
    "# 1. Get pts to send to get the panoid"
   ]
  },
  {
   "cell_type": "code",
   "execution_count": 7,
   "metadata": {},
   "outputs": [],
   "source": [
    "GSVROOT = \"/lustre1/g/geog_pyloo/05_timemachine/GSV/gsv_rgb\""
   ]
  },
  {
   "cell_type": "code",
   "execution_count": 8,
   "metadata": {},
   "outputs": [],
   "source": [
    "def get_folder(cityabbr):\n",
    "    generalgsv = f'{GSVROOT}/{cityabbr}'\n",
    "    imgfolder = os.path.join(generalgsv, 'img_rgb')\n",
    "    metafolder = os.path.join(generalgsv, 'gsvmeta')\n",
    "    if not os.path.exists(metafolder):\n",
    "        os.makedirs(metafolder)\n",
    "    if not os.path.exists(imgfolder):\n",
    "        os.makedirs(imgfolder)\n",
    "    return imgfolder, generalgsv, metafolder\n",
    "\n",
    "def convert_3D_2D(geometry):\n",
    "    from shapely.geometry import Polygon, MultiPolygon\n",
    "    '''\n",
    "    Takes a GeoSeries of 3D Multi/Polygons (has_z) and returns a list of 2D Multi/Polygons\n",
    "    '''\n",
    "    new_geo = []\n",
    "    for p in geometry:\n",
    "        if p.has_z:\n",
    "            if p.geom_type == 'Polygon':\n",
    "                lines = [xy[:2] for xy in list(p.exterior.coords)]\n",
    "                new_p = Polygon(lines)\n",
    "                new_geo.append(new_p)\n",
    "            elif p.geom_type == 'MultiPolygon':\n",
    "                new_multi_p = []\n",
    "                for ap in p:\n",
    "                    lines = [xy[:2] for xy in list(ap.exterior.coords)]\n",
    "                    new_p = Polygon(lines)\n",
    "                    new_multi_p.append(new_p)\n",
    "                new_geo.append(MultiPolygon(new_multi_p))\n",
    "        else:\n",
    "            new_geo.append(p)\n",
    "    return new_geo\n",
    "\n",
    "def cleanosmid(x):\n",
    "    if type(x)==list:\n",
    "        x = [str(t) for t in x]\n",
    "        return \"_\".join(x)\n",
    "    else:\n",
    "        return str(x)\n",
    "    \n",
    "def get_city_bound(city):\n",
    "    bound = gpd.read_file(os.path.join(boundfolder, boundfile[city]))\n",
    "    bound['city'] = city\n",
    "    bound = bound.to_crs(\"EPSG:4326\")\n",
    "    # flatten the geometry by removing z axis\n",
    "    bound['geometry'] = convert_3D_2D(bound['geometry'])\n",
    "    bound['geometry'] = bound['geometry'].simplify(tolerance=0.001, preserve_topology=True)\n",
    "    bound = bound.to_crs(\"EPSG:4326\")\n",
    "    bound = bound.dissolve(by= 'city')\n",
    "    return bound\n",
    "\n",
    "def get_road(bound, generalgsv):\n",
    "    G = ox.graph_from_polygon(bound['geometry'].values[0], \n",
    "                            network_type='all', \n",
    "                            simplify=True, \n",
    "                            retain_all=False, \n",
    "                            truncate_by_edge=False, \n",
    "                            clean_periphery=None, \n",
    "                            custom_filter=None)\n",
    "\n",
    "    gdf_edges = ox.graph_to_gdfs(G, nodes=False, edges=True, node_geometry=False, fill_edge_geometry=True)\n",
    "    g_proj = gdf_edges.copy()\n",
    "    g_proj['osmid'] = g_proj['osmid'].apply(lambda x: cleanosmid(x))\n",
    "    g_proj['name'] = g_proj['name'].apply(lambda x: cleanosmid(x))\n",
    "    g_proj = g_proj.reset_index()\n",
    "\n",
    "    roadfolder = os.path.join(generalgsv, 'road')\n",
    "    if not os.path.exists(roadfolder):\n",
    "        os.makedirs(roadfolder)\n",
    "    \n",
    "    g_proj['newID'] = g_proj.index\n",
    "    g_proj['newID'] = g_proj['osmid']+'_'+ g_proj['newID'].astype(str)\n",
    "    g_proj = g_proj.to_crs(\"EPSG:3857\")\n",
    "    g_proj['length_meter'] = g_proj.geometry.length\n",
    "    g_proj[['u','v','osmid','name','geometry','length','length_meter','newID']].to_file(os.path.join(generalgsv, 'road','osm.geojson'), \n",
    "                                                                driver = 'GeoJSON')\n",
    "    return g_proj\n",
    "\n",
    "def get_road_place(city_country, generalgsv):\n",
    "    G = ox.graph_from_place(city_country, \n",
    "                            network_type='all', \n",
    "                            simplify=True, \n",
    "                            retain_all=False, \n",
    "                            truncate_by_edge=False, \n",
    "                            clean_periphery=None, \n",
    "                            custom_filter=None)\n",
    "\n",
    "    gdf_edges = ox.graph_to_gdfs(G, nodes=False, edges=True, node_geometry=False, fill_edge_geometry=True)\n",
    "    g_proj = gdf_edges.copy()\n",
    "    g_proj['osmid'] = g_proj['osmid'].apply(lambda x: cleanosmid(x))\n",
    "    g_proj['name'] = g_proj['name'].apply(lambda x: cleanosmid(x))\n",
    "    g_proj = g_proj.reset_index()\n",
    "\n",
    "    roadfolder = os.path.join(generalgsv, 'road')\n",
    "    if not os.path.exists(roadfolder):\n",
    "        os.makedirs(roadfolder)\n",
    "    \n",
    "    g_proj['newID'] = g_proj.index\n",
    "    g_proj['newID'] = g_proj['osmid']+'_'+ g_proj['newID'].astype(str)\n",
    "    g_proj = g_proj.to_crs(\"EPSG:3857\")\n",
    "    g_proj['length_meter'] = g_proj.geometry.length\n",
    "    g_proj[['u','v','osmid','name','geometry','length','length_meter','newID']].to_file(os.path.join(generalgsv, 'road','osm.geojson'), \n",
    "                                                                driver = 'GeoJSON')\n",
    "    return g_proj\n",
    "\n",
    "class BoundingBox(object):\n",
    "    def __init__(self, *args, **kwargs):\n",
    "        self.lat_min = None\n",
    "        self.lon_min = None\n",
    "        self.lat_max = None\n",
    "        self.lon_max = None\n",
    "    def get_bounding_box(latitude_in_degrees, longitude_in_degrees, half_side_in_km):\n",
    "        import math\n",
    "        assert half_side_in_km > 0\n",
    "        assert latitude_in_degrees >= -90.0 and latitude_in_degrees  <= 90.0\n",
    "        assert longitude_in_degrees >= -180.0 and longitude_in_degrees <= 180.0\n",
    "\n",
    "        lat = math.radians(latitude_in_degrees)\n",
    "        lon = math.radians(longitude_in_degrees)\n",
    "\n",
    "        radius  = 6371\n",
    "        # Radius of the parallel at given latitude\n",
    "        parallel_radius = radius*math.cos(lat)\n",
    "\n",
    "        lat_min = lat - half_side_in_km/radius\n",
    "        lat_max = lat + half_side_in_km/radius\n",
    "        lon_min = lon - half_side_in_km/parallel_radius\n",
    "        lon_max = lon + half_side_in_km/parallel_radius\n",
    "        rad2deg = math.degrees\n",
    "\n",
    "        box = BoundingBox()\n",
    "        box.lat_min = rad2deg(lat_min)\n",
    "        box.lon_min = rad2deg(lon_min)\n",
    "        box.lat_max = rad2deg(lat_max)\n",
    "        box.lon_max = rad2deg(lon_max)\n",
    "\n",
    "        return (box)\n",
    "\n",
    "\n",
    "\n",
    "def get_road_bbox(bbox, generalgsv):\n",
    "    G = ox.graph_from_bbox(bbox[0], bbox[1], bbox[2], bbox[3],\n",
    "                            network_type='all', \n",
    "                            simplify=True, \n",
    "                            retain_all=False, \n",
    "                            truncate_by_edge=False, \n",
    "                            clean_periphery=None, \n",
    "                            custom_filter=None)\n",
    "    gdf_edges = ox.graph_to_gdfs(G, nodes=False, edges=True, node_geometry=False, fill_edge_geometry=True)\n",
    "    g_proj = gdf_edges.copy()\n",
    "    g_proj['osmid'] = g_proj['osmid'].apply(lambda x: cleanosmid(x))\n",
    "    g_proj['name'] = g_proj['name'].apply(lambda x: cleanosmid(x))\n",
    "    g_proj = g_proj.reset_index()\n",
    "\n",
    "    roadfolder = os.path.join(generalgsv, 'road')\n",
    "    if not os.path.exists(roadfolder):\n",
    "        os.makedirs(roadfolder)\n",
    "    \n",
    "    g_proj['newID'] = g_proj.index\n",
    "    g_proj['newID'] = g_proj['osmid']+'_'+ g_proj['newID'].astype(str)\n",
    "    g_proj = g_proj.to_crs(\"EPSG:3857\")\n",
    "    g_proj['length_meter'] = g_proj.geometry.length\n",
    "    g_proj[['u','v','osmid','name','geometry','length','length_meter','newID']].to_file(os.path.join(generalgsv, 'road','osm.geojson'), \n",
    "                                                                driver = 'GeoJSON')\n",
    "    return g_proj\n",
    "\n",
    "def get_pt(road, metafolder):\n",
    "    pointList=[]\n",
    "    roadlist =[]\n",
    "\n",
    "    interval = 60\n",
    "    sec = interval/2\n",
    "\n",
    "    for i,length in enumerate(road.length_meter):\n",
    "        if length<=interval:\n",
    "            pointList.append(road.geometry[i].interpolate(0.5, normalized = True))\n",
    "            roadlist.append(road.at[i,\"newID\"])\n",
    "        else:\n",
    "            for dist in np.arange(sec/length,1-sec/length, interval/length):\n",
    "                pointList.append(road.geometry[i].interpolate(dist, normalized = True)) \n",
    "                roadlist.append(road.at[i,\"newID\"])\n",
    "            \n",
    "    pointDF = gpd.GeoDataFrame(pd.DataFrame(dict(geometry = pointList, newID=roadlist)))\n",
    "\n",
    "    pointDF.crs = from_epsg(3857)\n",
    "    pointDF = pointDF.to_crs('EPSG:4326')\n",
    "\n",
    "    # pointDF.to_file('../output/shp/reqPoints.shp')\n",
    "    pointDF['lat'] = pointDF.geometry.y\n",
    "    pointDF['lon'] = pointDF.geometry.x\n",
    "\n",
    "    pointDF = pointDF.drop_duplicates(subset=['lon','lat']).reset_index(drop=True)\n",
    "\n",
    "    pointDF = pointDF.assign(id = pointDF.index)\n",
    "    pointDF.to_pickle(os.path.join(metafolder, 'sentPt.p'))\n",
    "    # pointDF.sample(0.1).plot(figsize=(15,15), markersize=0.5)\n",
    "    return pointDF\n",
    "\n",
    "def get_bbox(bound):\n",
    "    # change the bound to a simple bounding box\n",
    "    bbox = bound['geometry'].values[0].bounds\n",
    "    # construct a rectangle from the bounding box\n",
    "    rect = shapely.geometry.box(*bbox)\n",
    "    # convert the rectangle to a polygon\n",
    "    poly = shapely.geometry.Polygon(rect.exterior)\n",
    "    # convert the polygon to a geodataframe\n",
    "    poly_gdf = gpd.GeoDataFrame([poly], columns=['geometry'])\n",
    "    return poly_gdf"
   ]
  },
  {
   "cell_type": "code",
   "execution_count": 9,
   "metadata": {},
   "outputs": [],
   "source": [
    "# check which city already finished roadnetwork downloading\n",
    "def check_city():\n",
    "    citylist = []\n",
    "    remain = []\n",
    "    for city in city_country_name.keys():\n",
    "        citylower = city.lower().replace(\" \",\"\")\n",
    "        generalgsv = f'{GSVROOT}/{citylower}'\n",
    "        if os.path.exists(os.path.join(generalgsv, 'gsvmeta','sentPt.p')):\n",
    "            citylist.append(city)\n",
    "        else:\n",
    "            remain.append(city)\n",
    "            \n",
    "    return citylist, remain\n"
   ]
  },
  {
   "cell_type": "code",
   "execution_count": 52,
   "metadata": {},
   "outputs": [],
   "source": [
    "city = 'Ho Chi Minh City'\n",
    "citylower = city.lower().replace(\" \",\"\")\n",
    "imgfolder, generalgsv, metafolder = get_folder(citylower)\n",
    "center_lat, center_lon = city_meta.loc[city, ['center_lat','center_lng']]\n",
    "# bbox = BoundingBox.get_bounding_box(center_lat, center_lon, 20)\n",
    "# bbox_result = bbox.lon_min, bbox.lat_min, bbox.lon_max, bbox.lat_max\n",
    "# # form a bbox shape\n",
    "# rect = shapely.geometry.box(*bbox_result)\n",
    "#     # convert the rectangle to a polygon\n",
    "# poly = shapely.geometry.Polygon(rect.exterior)\n",
    "# # convert the polygon to a geodataframe\n",
    "# poly_gdf = gpd.GeoDataFrame([poly], \n",
    "#                             columns=['geometry'])\n",
    "# road = get_road(poly_gdf, generalgsv)\n",
    "# pointDF = get_pt(road, metafolder)\n",
    "# # road = get_road_bbox(bbox_result, generalgsv)\n",
    "# load the road network\n",
    "road = gpd.read_file(f\"/lustre1/g/geog_pyloo/05_timemachine/GSV/gsv_rgb/{citylower}/road/osm.geojson\")\n",
    "sentpt = pd.read_pickle(f\"/lustre1/g/geog_pyloo/05_timemachine/GSV/gsv_rgb/{citylower}/gsvmeta/sentPt.p\")\n",
    "sentpt.head()"
   ]
  },
  {
   "cell_type": "code",
   "execution_count": null,
   "metadata": {},
   "outputs": [],
   "source": [
    "# road.plot(line)"
   ]
  },
  {
   "cell_type": "code",
   "execution_count": 10,
   "metadata": {},
   "outputs": [],
   "source": [
    "# image folder:\n",
    "\n",
    "def run_all(city):\n",
    "    cityabbr = city.replace(\" \", \"\").lower()\n",
    "    # Set up folders\n",
    "    imgfolder, generalgsv, metafolder = get_folder(cityabbr)\n",
    "    city_country_str = city + \", \" + city_country_name[city]\n",
    "    road = get_road_place(city_country_str, generalgsv)\n",
    "    print(\"Number of road rows downloaded: \", road.shape[0])\n",
    "    # road.plot(linewidth = 0.2, \n",
    "    #         figsize=(15,15))\n",
    "    pointDF = get_pt(road, metafolder)\n",
    "    print(\"Number of points downloaded: \", pointDF.shape[0])"
   ]
  },
  {
   "cell_type": "code",
   "execution_count": 11,
   "metadata": {
    "collapsed": true,
    "jupyter": {
     "outputs_hidden": true
    },
    "tags": []
   },
   "outputs": [
    {
     "name": "stdout",
     "output_type": "stream",
     "text": [
      "Number of cities remained to be processed:  94\n"
     ]
    },
    {
     "name": "stderr",
     "output_type": "stream",
     "text": [
      "  0%|          | 0/94 [00:00<?, ?it/s]"
     ]
    },
    {
     "name": "stdout",
     "output_type": "stream",
     "text": [
      "Lahore\n",
      "An exception occurred: Nominatim could not geocode query 'Lahore, Pakistan' to a geometry of type (Multi)Polygon\n",
      "Osaka\n"
     ]
    },
    {
     "name": "stderr",
     "output_type": "stream",
     "text": [
      "  2%|▏         | 2/94 [00:00<00:26,  3.45it/s]"
     ]
    },
    {
     "name": "stdout",
     "output_type": "stream",
     "text": [
      "An exception occurred: Nominatim could not geocode query 'Osaka, Japan' to a geometry of type (Multi)Polygon\n",
      "Cordoba\n",
      "Number of road rows downloaded:  116562\n"
     ]
    },
    {
     "name": "stderr",
     "output_type": "stream",
     "text": [
      "/tmp/jobtmp-yuanzf-1598270/ipykernel_1386653/3315329807.py:12: FionaDeprecationWarning: This function will be removed in version 2.0. Please use CRS.from_epsg() instead.\n",
      "  pointDF = get_pt(road, metafolder)\n",
      "  3%|▎         | 3/94 [01:42<1:04:39, 42.63s/it]"
     ]
    },
    {
     "name": "stdout",
     "output_type": "stream",
     "text": [
      "Number of points downloaded:  182409\n",
      "Vienna\n",
      "Number of road rows downloaded:  362665\n"
     ]
    },
    {
     "name": "stderr",
     "output_type": "stream",
     "text": [
      "/tmp/jobtmp-yuanzf-1598270/ipykernel_1386653/3315329807.py:12: FionaDeprecationWarning: This function will be removed in version 2.0. Please use CRS.from_epsg() instead.\n",
      "  pointDF = get_pt(road, metafolder)\n",
      "  4%|▍         | 4/94 [04:35<2:16:46, 91.18s/it]"
     ]
    },
    {
     "name": "stdout",
     "output_type": "stream",
     "text": [
      "Number of points downloaded:  398613\n",
      "Baku\n",
      "Number of road rows downloaded:  92552\n"
     ]
    },
    {
     "name": "stderr",
     "output_type": "stream",
     "text": [
      "/tmp/jobtmp-yuanzf-1598270/ipykernel_1386653/3315329807.py:12: FionaDeprecationWarning: This function will be removed in version 2.0. Please use CRS.from_epsg() instead.\n",
      "  pointDF = get_pt(road, metafolder)\n",
      "  5%|▌         | 5/94 [05:20<1:51:35, 75.23s/it]"
     ]
    },
    {
     "name": "stdout",
     "output_type": "stream",
     "text": [
      "Number of points downloaded:  113036\n",
      "Rajshahi\n",
      "Number of road rows downloaded:  62631\n"
     ]
    },
    {
     "name": "stderr",
     "output_type": "stream",
     "text": [
      "/tmp/jobtmp-yuanzf-1598270/ipykernel_1386653/3315329807.py:12: FionaDeprecationWarning: This function will be removed in version 2.0. Please use CRS.from_epsg() instead.\n",
      "  pointDF = get_pt(road, metafolder)\n",
      "  6%|▋         | 6/94 [07:29<2:16:17, 92.93s/it]"
     ]
    },
    {
     "name": "stdout",
     "output_type": "stream",
     "text": [
      "Number of points downloaded:  444317\n",
      "Saidpur\n",
      "Number of road rows downloaded:  4362\n"
     ]
    },
    {
     "name": "stderr",
     "output_type": "stream",
     "text": [
      "/tmp/jobtmp-yuanzf-1598270/ipykernel_1386653/3315329807.py:12: FionaDeprecationWarning: This function will be removed in version 2.0. Please use CRS.from_epsg() instead.\n",
      "  pointDF = get_pt(road, metafolder)\n",
      "  7%|▋         | 7/94 [07:41<1:37:05, 66.96s/it]"
     ]
    },
    {
     "name": "stdout",
     "output_type": "stream",
     "text": [
      "Number of points downloaded:  13061\n",
      "Antwerp\n",
      "Number of road rows downloaded:  69812\n"
     ]
    },
    {
     "name": "stderr",
     "output_type": "stream",
     "text": [
      "/tmp/jobtmp-yuanzf-1598270/ipykernel_1386653/3315329807.py:12: FionaDeprecationWarning: This function will be removed in version 2.0. Please use CRS.from_epsg() instead.\n",
      "  pointDF = get_pt(road, metafolder)\n",
      "  9%|▊         | 8/94 [08:36<1:30:52, 63.40s/it]"
     ]
    },
    {
     "name": "stdout",
     "output_type": "stream",
     "text": [
      "Number of points downloaded:  112750\n",
      "Cochabamba\n",
      "Number of road rows downloaded:  101649\n"
     ]
    },
    {
     "name": "stderr",
     "output_type": "stream",
     "text": [
      "/tmp/jobtmp-yuanzf-1598270/ipykernel_1386653/3315329807.py:12: FionaDeprecationWarning: This function will be removed in version 2.0. Please use CRS.from_epsg() instead.\n",
      "  pointDF = get_pt(road, metafolder)\n",
      " 10%|▉         | 9/94 [09:32<1:26:30, 61.06s/it]"
     ]
    },
    {
     "name": "stdout",
     "output_type": "stream",
     "text": [
      "Number of points downloaded:  112445\n",
      "Belo Horizonte\n",
      "Number of road rows downloaded:  119304\n"
     ]
    },
    {
     "name": "stderr",
     "output_type": "stream",
     "text": [
      "/tmp/jobtmp-yuanzf-1598270/ipykernel_1386653/3315329807.py:12: FionaDeprecationWarning: This function will be removed in version 2.0. Please use CRS.from_epsg() instead.\n",
      "  pointDF = get_pt(road, metafolder)\n",
      " 11%|█         | 10/94 [11:15<1:43:15, 73.76s/it]"
     ]
    },
    {
     "name": "stdout",
     "output_type": "stream",
     "text": [
      "Number of points downloaded:  155248\n",
      "Curitiba\n",
      "Number of road rows downloaded:  173876\n"
     ]
    },
    {
     "name": "stderr",
     "output_type": "stream",
     "text": [
      "/tmp/jobtmp-yuanzf-1598270/ipykernel_1386653/3315329807.py:12: FionaDeprecationWarning: This function will be removed in version 2.0. Please use CRS.from_epsg() instead.\n",
      "  pointDF = get_pt(road, metafolder)\n",
      " 12%|█▏        | 11/94 [13:48<2:15:32, 97.99s/it]"
     ]
    },
    {
     "name": "stdout",
     "output_type": "stream",
     "text": [
      "Number of points downloaded:  203868\n",
      "Florianopolis\n",
      "Number of road rows downloaded:  57967\n"
     ]
    },
    {
     "name": "stderr",
     "output_type": "stream",
     "text": [
      "/tmp/jobtmp-yuanzf-1598270/ipykernel_1386653/3315329807.py:12: FionaDeprecationWarning: This function will be removed in version 2.0. Please use CRS.from_epsg() instead.\n",
      "  pointDF = get_pt(road, metafolder)\n",
      " 13%|█▎        | 12/94 [14:30<1:50:46, 81.06s/it]"
     ]
    },
    {
     "name": "stdout",
     "output_type": "stream",
     "text": [
      "Number of points downloaded:  87952\n",
      "Ilheus\n",
      "Number of road rows downloaded:  13888\n"
     ]
    },
    {
     "name": "stderr",
     "output_type": "stream",
     "text": [
      "/tmp/jobtmp-yuanzf-1598270/ipykernel_1386653/3315329807.py:12: FionaDeprecationWarning: This function will be removed in version 2.0. Please use CRS.from_epsg() instead.\n",
      "  pointDF = get_pt(road, metafolder)\n",
      " 14%|█▍        | 13/94 [14:53<1:25:41, 63.47s/it]"
     ]
    },
    {
     "name": "stdout",
     "output_type": "stream",
     "text": [
      "Number of points downloaded:  55052\n",
      "Jequie\n",
      "Number of road rows downloaded:  18147\n"
     ]
    },
    {
     "name": "stderr",
     "output_type": "stream",
     "text": [
      "/tmp/jobtmp-yuanzf-1598270/ipykernel_1386653/3315329807.py:12: FionaDeprecationWarning: This function will be removed in version 2.0. Please use CRS.from_epsg() instead.\n",
      "  pointDF = get_pt(road, metafolder)\n",
      " 15%|█▍        | 14/94 [15:35<1:15:49, 56.87s/it]"
     ]
    },
    {
     "name": "stdout",
     "output_type": "stream",
     "text": [
      "Number of points downloaded:  54302\n",
      "Palmas\n",
      "Number of road rows downloaded:  42575\n"
     ]
    },
    {
     "name": "stderr",
     "output_type": "stream",
     "text": [
      "/tmp/jobtmp-yuanzf-1598270/ipykernel_1386653/3315329807.py:12: FionaDeprecationWarning: This function will be removed in version 2.0. Please use CRS.from_epsg() instead.\n",
      "  pointDF = get_pt(road, metafolder)\n",
      " 16%|█▌        | 15/94 [16:14<1:07:53, 51.57s/it]"
     ]
    },
    {
     "name": "stdout",
     "output_type": "stream",
     "text": [
      "Number of points downloaded:  107057\n",
      "Ribeirao Preto\n",
      "Number of road rows downloaded:  66961\n"
     ]
    },
    {
     "name": "stderr",
     "output_type": "stream",
     "text": [
      "/tmp/jobtmp-yuanzf-1598270/ipykernel_1386653/3315329807.py:12: FionaDeprecationWarning: This function will be removed in version 2.0. Please use CRS.from_epsg() instead.\n",
      "  pointDF = get_pt(road, metafolder)\n",
      " 17%|█▋        | 16/94 [16:55<1:02:48, 48.31s/it]"
     ]
    },
    {
     "name": "stdout",
     "output_type": "stream",
     "text": [
      "Number of points downloaded:  116625\n",
      "Montreal\n",
      "Number of road rows downloaded:  460242\n"
     ]
    },
    {
     "name": "stderr",
     "output_type": "stream",
     "text": [
      "/tmp/jobtmp-yuanzf-1598270/ipykernel_1386653/3315329807.py:12: FionaDeprecationWarning: This function will be removed in version 2.0. Please use CRS.from_epsg() instead.\n",
      "  pointDF = get_pt(road, metafolder)\n",
      " 18%|█▊        | 17/94 [22:30<2:52:55, 134.75s/it]"
     ]
    },
    {
     "name": "stdout",
     "output_type": "stream",
     "text": [
      "Number of points downloaded:  468664\n",
      "Victoria\n",
      "Number of road rows downloaded:  16796\n"
     ]
    },
    {
     "name": "stderr",
     "output_type": "stream",
     "text": [
      "/tmp/jobtmp-yuanzf-1598270/ipykernel_1386653/3315329807.py:12: FionaDeprecationWarning: This function will be removed in version 2.0. Please use CRS.from_epsg() instead.\n",
      "  pointDF = get_pt(road, metafolder)\n",
      " 19%|█▉        | 18/94 [22:50<2:06:54, 100.20s/it]"
     ]
    },
    {
     "name": "stdout",
     "output_type": "stream",
     "text": [
      "Number of points downloaded:  20230\n",
      "Santiago\n",
      "Number of road rows downloaded:  14147\n"
     ]
    },
    {
     "name": "stderr",
     "output_type": "stream",
     "text": [
      "/tmp/jobtmp-yuanzf-1598270/ipykernel_1386653/3315329807.py:12: FionaDeprecationWarning: This function will be removed in version 2.0. Please use CRS.from_epsg() instead.\n",
      "  pointDF = get_pt(road, metafolder)\n",
      " 20%|██        | 19/94 [23:10<1:35:01, 76.02s/it] "
     ]
    },
    {
     "name": "stdout",
     "output_type": "stream",
     "text": [
      "Number of points downloaded:  14603\n",
      "Valledupar\n",
      "Number of road rows downloaded:  29643\n"
     ]
    },
    {
     "name": "stderr",
     "output_type": "stream",
     "text": [
      "/tmp/jobtmp-yuanzf-1598270/ipykernel_1386653/3315329807.py:12: FionaDeprecationWarning: This function will be removed in version 2.0. Please use CRS.from_epsg() instead.\n",
      "  pointDF = get_pt(road, metafolder)\n",
      " 21%|██▏       | 20/94 [23:50<1:20:19, 65.12s/it]"
     ]
    },
    {
     "name": "stdout",
     "output_type": "stream",
     "text": [
      "Number of points downloaded:  83576\n",
      "Quito\n",
      "Number of road rows downloaded:  286488\n"
     ]
    },
    {
     "name": "stderr",
     "output_type": "stream",
     "text": [
      "/tmp/jobtmp-yuanzf-1598270/ipykernel_1386653/3315329807.py:12: FionaDeprecationWarning: This function will be removed in version 2.0. Please use CRS.from_epsg() instead.\n",
      "  pointDF = get_pt(road, metafolder)\n"
     ]
    },
    {
     "name": "stdout",
     "output_type": "stream",
     "text": [
      "Number of points downloaded:  426721\n"
     ]
    },
    {
     "name": "stderr",
     "output_type": "stream",
     "text": [
      " 22%|██▏       | 21/94 [28:31<2:38:12, 130.03s/it]"
     ]
    },
    {
     "name": "stdout",
     "output_type": "stream",
     "text": [
      "San Salvador\n",
      "Number of road rows downloaded:  23266\n"
     ]
    },
    {
     "name": "stderr",
     "output_type": "stream",
     "text": [
      "/tmp/jobtmp-yuanzf-1598270/ipykernel_1386653/3315329807.py:12: FionaDeprecationWarning: This function will be removed in version 2.0. Please use CRS.from_epsg() instead.\n",
      "  pointDF = get_pt(road, metafolder)\n",
      " 23%|██▎       | 22/94 [29:15<2:04:54, 104.08s/it]"
     ]
    },
    {
     "name": "stdout",
     "output_type": "stream",
     "text": [
      "Number of points downloaded:  25603\n",
      "Suva\n"
     ]
    },
    {
     "name": "stderr",
     "output_type": "stream",
     "text": [
      " 24%|██▍       | 23/94 [29:16<1:26:50, 73.39s/it] "
     ]
    },
    {
     "name": "stdout",
     "output_type": "stream",
     "text": [
      "An exception occurred: Nominatim could not geocode query 'Suva, Fiji' to a geometry of type (Multi)Polygon\n",
      "Le Mans\n",
      "Number of road rows downloaded:  42437\n"
     ]
    },
    {
     "name": "stderr",
     "output_type": "stream",
     "text": [
      "/tmp/jobtmp-yuanzf-1598270/ipykernel_1386653/3315329807.py:12: FionaDeprecationWarning: This function will be removed in version 2.0. Please use CRS.from_epsg() instead.\n",
      "  pointDF = get_pt(road, metafolder)\n",
      " 26%|██▌       | 24/94 [29:54<1:13:05, 62.65s/it]"
     ]
    },
    {
     "name": "stdout",
     "output_type": "stream",
     "text": [
      "Number of points downloaded:  48033\n",
      "Thessaloniki\n",
      "Number of road rows downloaded:  204084\n"
     ]
    },
    {
     "name": "stderr",
     "output_type": "stream",
     "text": [
      "/tmp/jobtmp-yuanzf-1598270/ipykernel_1386653/3315329807.py:12: FionaDeprecationWarning: This function will be removed in version 2.0. Please use CRS.from_epsg() instead.\n",
      "  pointDF = get_pt(road, metafolder)\n",
      " 27%|██▋       | 25/94 [37:09<3:20:25, 174.28s/it]"
     ]
    },
    {
     "name": "stdout",
     "output_type": "stream",
     "text": [
      "Number of points downloaded:  629235\n",
      "Guatemala City\n",
      "Number of road rows downloaded:  64268\n"
     ]
    },
    {
     "name": "stderr",
     "output_type": "stream",
     "text": [
      "/tmp/jobtmp-yuanzf-1598270/ipykernel_1386653/3315329807.py:12: FionaDeprecationWarning: This function will be removed in version 2.0. Please use CRS.from_epsg() instead.\n",
      "  pointDF = get_pt(road, metafolder)\n",
      " 28%|██▊       | 26/94 [38:00<2:35:39, 137.35s/it]"
     ]
    },
    {
     "name": "stdout",
     "output_type": "stream",
     "text": [
      "Number of points downloaded:  72457\n",
      "Budapest\n",
      "Number of road rows downloaded:  289579\n"
     ]
    },
    {
     "name": "stderr",
     "output_type": "stream",
     "text": [
      "/tmp/jobtmp-yuanzf-1598270/ipykernel_1386653/3315329807.py:12: FionaDeprecationWarning: This function will be removed in version 2.0. Please use CRS.from_epsg() instead.\n",
      "  pointDF = get_pt(road, metafolder)\n",
      " 29%|██▊       | 27/94 [45:43<4:22:21, 234.95s/it]"
     ]
    },
    {
     "name": "stdout",
     "output_type": "stream",
     "text": [
      "Number of points downloaded:  390900\n",
      "Ahmedabad\n"
     ]
    },
    {
     "name": "stderr",
     "output_type": "stream",
     "text": [
      " 30%|██▉       | 28/94 [45:45<3:01:52, 165.35s/it]"
     ]
    },
    {
     "name": "stdout",
     "output_type": "stream",
     "text": [
      "An exception occurred: Nominatim could not geocode query 'Ahmedabad, India' to a geometry of type (Multi)Polygon\n",
      "Belgaum\n"
     ]
    },
    {
     "name": "stderr",
     "output_type": "stream",
     "text": [
      " 31%|███       | 29/94 [45:47<2:06:00, 116.32s/it]"
     ]
    },
    {
     "name": "stdout",
     "output_type": "stream",
     "text": [
      "An exception occurred: Nominatim could not geocode query 'Belgaum, India' to a geometry of type (Multi)Polygon\n",
      "Coimbatore\n"
     ]
    },
    {
     "name": "stderr",
     "output_type": "stream",
     "text": [
      " 32%|███▏      | 30/94 [45:49<1:27:26, 81.98s/it] "
     ]
    },
    {
     "name": "stdout",
     "output_type": "stream",
     "text": [
      "An exception occurred: Nominatim could not geocode query 'Coimbatore, India' to a geometry of type (Multi)Polygon\n",
      "Hindupur\n",
      "Number of road rows downloaded:  2903\n"
     ]
    },
    {
     "name": "stderr",
     "output_type": "stream",
     "text": [
      "/tmp/jobtmp-yuanzf-1598270/ipykernel_1386653/3315329807.py:12: FionaDeprecationWarning: This function will be removed in version 2.0. Please use CRS.from_epsg() instead.\n",
      "  pointDF = get_pt(road, metafolder)\n",
      " 33%|███▎      | 31/94 [46:32<1:13:49, 70.31s/it]"
     ]
    },
    {
     "name": "stdout",
     "output_type": "stream",
     "text": [
      "Number of points downloaded:  7683\n",
      "Jaipur\n",
      "Number of road rows downloaded:  63771\n"
     ]
    },
    {
     "name": "stderr",
     "output_type": "stream",
     "text": [
      "/tmp/jobtmp-yuanzf-1598270/ipykernel_1386653/3315329807.py:12: FionaDeprecationWarning: This function will be removed in version 2.0. Please use CRS.from_epsg() instead.\n",
      "  pointDF = get_pt(road, metafolder)\n",
      " 34%|███▍      | 32/94 [56:17<3:51:58, 224.49s/it]"
     ]
    },
    {
     "name": "stdout",
     "output_type": "stream",
     "text": [
      "Number of points downloaded:  277354\n",
      "Jalna\n",
      "Number of road rows downloaded:  54742\n"
     ]
    },
    {
     "name": "stderr",
     "output_type": "stream",
     "text": [
      "/tmp/jobtmp-yuanzf-1598270/ipykernel_1386653/3315329807.py:12: FionaDeprecationWarning: This function will be removed in version 2.0. Please use CRS.from_epsg() instead.\n",
      "  pointDF = get_pt(road, metafolder)\n",
      " 35%|███▌      | 33/94 [1:02:14<4:28:39, 264.25s/it]"
     ]
    },
    {
     "name": "stdout",
     "output_type": "stream",
     "text": [
      "Number of points downloaded:  256017\n",
      "Kanpur\n",
      "Number of road rows downloaded:  181103\n"
     ]
    },
    {
     "name": "stderr",
     "output_type": "stream",
     "text": [
      "/tmp/jobtmp-yuanzf-1598270/ipykernel_1386653/3315329807.py:12: FionaDeprecationWarning: This function will be removed in version 2.0. Please use CRS.from_epsg() instead.\n",
      "  pointDF = get_pt(road, metafolder)\n"
     ]
    },
    {
     "name": "stdout",
     "output_type": "stream",
     "text": [
      "Number of points downloaded:  235114\n"
     ]
    },
    {
     "name": "stderr",
     "output_type": "stream",
     "text": [
      " 36%|███▌      | 34/94 [1:06:48<4:27:20, 267.35s/it]"
     ]
    },
    {
     "name": "stdout",
     "output_type": "stream",
     "text": [
      "Kozhikode\n",
      "Number of road rows downloaded:  44323\n"
     ]
    },
    {
     "name": "stderr",
     "output_type": "stream",
     "text": [
      "/tmp/jobtmp-yuanzf-1598270/ipykernel_1386653/3315329807.py:12: FionaDeprecationWarning: This function will be removed in version 2.0. Please use CRS.from_epsg() instead.\n",
      "  pointDF = get_pt(road, metafolder)\n",
      " 37%|███▋      | 35/94 [1:07:45<3:20:40, 204.08s/it]"
     ]
    },
    {
     "name": "stdout",
     "output_type": "stream",
     "text": [
      "Number of points downloaded:  94119\n",
      "Malegaon\n",
      "Number of road rows downloaded:  60861\n"
     ]
    },
    {
     "name": "stderr",
     "output_type": "stream",
     "text": [
      "/tmp/jobtmp-yuanzf-1598270/ipykernel_1386653/3315329807.py:12: FionaDeprecationWarning: This function will be removed in version 2.0. Please use CRS.from_epsg() instead.\n",
      "  pointDF = get_pt(road, metafolder)\n",
      " 38%|███▊      | 36/94 [1:08:37<2:33:13, 158.51s/it]"
     ]
    },
    {
     "name": "stdout",
     "output_type": "stream",
     "text": [
      "Number of points downloaded:  156474\n",
      "Parbhani\n",
      "Number of road rows downloaded:  54285\n"
     ]
    },
    {
     "name": "stderr",
     "output_type": "stream",
     "text": [
      "/tmp/jobtmp-yuanzf-1598270/ipykernel_1386653/3315329807.py:12: FionaDeprecationWarning: This function will be removed in version 2.0. Please use CRS.from_epsg() instead.\n",
      "  pointDF = get_pt(road, metafolder)\n",
      " 39%|███▉      | 37/94 [1:09:54<2:07:22, 134.07s/it]"
     ]
    },
    {
     "name": "stdout",
     "output_type": "stream",
     "text": [
      "Number of points downloaded:  187710\n",
      "Pune\n",
      "Number of road rows downloaded:  106583\n"
     ]
    },
    {
     "name": "stderr",
     "output_type": "stream",
     "text": [
      "/tmp/jobtmp-yuanzf-1598270/ipykernel_1386653/3315329807.py:12: FionaDeprecationWarning: This function will be removed in version 2.0. Please use CRS.from_epsg() instead.\n",
      "  pointDF = get_pt(road, metafolder)\n",
      " 40%|████      | 38/94 [1:10:49<1:42:57, 110.32s/it]"
     ]
    },
    {
     "name": "stdout",
     "output_type": "stream",
     "text": [
      "Number of points downloaded:  121012\n",
      "Singrauli\n"
     ]
    },
    {
     "name": "stderr",
     "output_type": "stream",
     "text": [
      " 41%|████▏     | 39/94 [1:10:54<1:12:09, 78.72s/it] "
     ]
    },
    {
     "name": "stdout",
     "output_type": "stream",
     "text": [
      "An exception occurred: 'name'\n",
      "Sitapur\n",
      "Number of road rows downloaded:  54175\n"
     ]
    },
    {
     "name": "stderr",
     "output_type": "stream",
     "text": [
      "/tmp/jobtmp-yuanzf-1598270/ipykernel_1386653/3315329807.py:12: FionaDeprecationWarning: This function will be removed in version 2.0. Please use CRS.from_epsg() instead.\n",
      "  pointDF = get_pt(road, metafolder)\n",
      " 43%|████▎     | 40/94 [1:12:07<1:09:19, 77.03s/it]"
     ]
    },
    {
     "name": "stdout",
     "output_type": "stream",
     "text": [
      "Number of points downloaded:  114341\n",
      "Vijayawada\n",
      "Number of road rows downloaded:  7839\n"
     ]
    },
    {
     "name": "stderr",
     "output_type": "stream",
     "text": [
      "/tmp/jobtmp-yuanzf-1598270/ipykernel_1386653/3315329807.py:12: FionaDeprecationWarning: This function will be removed in version 2.0. Please use CRS.from_epsg() instead.\n",
      "  pointDF = get_pt(road, metafolder)\n",
      " 44%|████▎     | 41/94 [1:12:17<50:16, 56.91s/it]  "
     ]
    },
    {
     "name": "stdout",
     "output_type": "stream",
     "text": [
      "Number of points downloaded:  12809\n",
      "Cirebon\n",
      "Number of road rows downloaded:  25295\n"
     ]
    },
    {
     "name": "stderr",
     "output_type": "stream",
     "text": [
      "/tmp/jobtmp-yuanzf-1598270/ipykernel_1386653/3315329807.py:12: FionaDeprecationWarning: This function will be removed in version 2.0. Please use CRS.from_epsg() instead.\n",
      "  pointDF = get_pt(road, metafolder)\n",
      " 45%|████▍     | 42/94 [1:12:44<41:36, 48.01s/it]"
     ]
    },
    {
     "name": "stdout",
     "output_type": "stream",
     "text": [
      "Number of points downloaded:  20640\n",
      "Medan\n",
      "Number of road rows downloaded:  141481\n"
     ]
    },
    {
     "name": "stderr",
     "output_type": "stream",
     "text": [
      "/tmp/jobtmp-yuanzf-1598270/ipykernel_1386653/3315329807.py:12: FionaDeprecationWarning: This function will be removed in version 2.0. Please use CRS.from_epsg() instead.\n",
      "  pointDF = get_pt(road, metafolder)\n",
      " 46%|████▌     | 43/94 [1:15:04<1:04:22, 75.74s/it]"
     ]
    },
    {
     "name": "stdout",
     "output_type": "stream",
     "text": [
      "Number of points downloaded:  127670\n",
      "Palembang\n",
      "Number of road rows downloaded:  132345\n"
     ]
    },
    {
     "name": "stderr",
     "output_type": "stream",
     "text": [
      "/tmp/jobtmp-yuanzf-1598270/ipykernel_1386653/3315329807.py:12: FionaDeprecationWarning: This function will be removed in version 2.0. Please use CRS.from_epsg() instead.\n",
      "  pointDF = get_pt(road, metafolder)\n",
      " 47%|████▋     | 44/94 [1:16:43<1:08:41, 82.44s/it]"
     ]
    },
    {
     "name": "stdout",
     "output_type": "stream",
     "text": [
      "Number of points downloaded:  118598\n",
      "Parepare\n",
      "Number of road rows downloaded:  12692\n"
     ]
    },
    {
     "name": "stderr",
     "output_type": "stream",
     "text": [
      "/tmp/jobtmp-yuanzf-1598270/ipykernel_1386653/3315329807.py:12: FionaDeprecationWarning: This function will be removed in version 2.0. Please use CRS.from_epsg() instead.\n",
      "  pointDF = get_pt(road, metafolder)\n",
      " 48%|████▊     | 45/94 [1:16:57<50:45, 62.15s/it]  "
     ]
    },
    {
     "name": "stdout",
     "output_type": "stream",
     "text": [
      "Number of points downloaded:  13624\n",
      "Pematangtiantar\n"
     ]
    },
    {
     "name": "stderr",
     "output_type": "stream",
     "text": [
      " 49%|████▉     | 46/94 [1:16:59<35:14, 44.05s/it]"
     ]
    },
    {
     "name": "stdout",
     "output_type": "stream",
     "text": [
      "An exception occurred: Nominatim geocoder returned 0 results for query 'Pematangtiantar, Indonesia'\n",
      "Tel Aviv\n",
      "Number of road rows downloaded:  49627\n"
     ]
    },
    {
     "name": "stderr",
     "output_type": "stream",
     "text": [
      "/tmp/jobtmp-yuanzf-1598270/ipykernel_1386653/3315329807.py:12: FionaDeprecationWarning: This function will be removed in version 2.0. Please use CRS.from_epsg() instead.\n",
      "  pointDF = get_pt(road, metafolder)\n",
      " 50%|█████     | 47/94 [1:17:37<33:01, 42.16s/it]"
     ]
    },
    {
     "name": "stdout",
     "output_type": "stream",
     "text": [
      "Number of points downloaded:  47680\n",
      "Palermo\n",
      "Number of road rows downloaded:  34676\n"
     ]
    },
    {
     "name": "stderr",
     "output_type": "stream",
     "text": [
      "/tmp/jobtmp-yuanzf-1598270/ipykernel_1386653/3315329807.py:12: FionaDeprecationWarning: This function will be removed in version 2.0. Please use CRS.from_epsg() instead.\n",
      "  pointDF = get_pt(road, metafolder)\n",
      " 51%|█████     | 48/94 [1:18:14<31:04, 40.54s/it]"
     ]
    },
    {
     "name": "stdout",
     "output_type": "stream",
     "text": [
      "Number of points downloaded:  56856\n",
      "Fukuoka\n",
      "Number of road rows downloaded:  940677\n"
     ]
    },
    {
     "name": "stderr",
     "output_type": "stream",
     "text": [
      "/tmp/jobtmp-yuanzf-1598270/ipykernel_1386653/3315329807.py:12: FionaDeprecationWarning: This function will be removed in version 2.0. Please use CRS.from_epsg() instead.\n",
      "  pointDF = get_pt(road, metafolder)\n",
      " 52%|█████▏    | 49/94 [1:28:16<2:36:48, 209.08s/it]"
     ]
    },
    {
     "name": "stdout",
     "output_type": "stream",
     "text": [
      "Number of points downloaded:  1659114\n",
      "Okayama\n",
      "Number of road rows downloaded:  558304\n"
     ]
    },
    {
     "name": "stderr",
     "output_type": "stream",
     "text": [
      "/tmp/jobtmp-yuanzf-1598270/ipykernel_1386653/3315329807.py:12: FionaDeprecationWarning: This function will be removed in version 2.0. Please use CRS.from_epsg() instead.\n",
      "  pointDF = get_pt(road, metafolder)\n",
      " 53%|█████▎    | 50/94 [1:35:23<3:21:20, 274.56s/it]"
     ]
    },
    {
     "name": "stdout",
     "output_type": "stream",
     "text": [
      "Number of points downloaded:  1393526\n",
      "Yamaguchi\n",
      "Number of road rows downloaded:  371087\n"
     ]
    },
    {
     "name": "stderr",
     "output_type": "stream",
     "text": [
      "/tmp/jobtmp-yuanzf-1598270/ipykernel_1386653/3315329807.py:12: FionaDeprecationWarning: This function will be removed in version 2.0. Please use CRS.from_epsg() instead.\n",
      "  pointDF = get_pt(road, metafolder)\n",
      " 54%|█████▍    | 51/94 [1:41:15<3:33:19, 297.67s/it]"
     ]
    },
    {
     "name": "stdout",
     "output_type": "stream",
     "text": [
      "Number of points downloaded:  1034736\n",
      "Shymkent\n",
      "Number of road rows downloaded:  67759\n"
     ]
    },
    {
     "name": "stderr",
     "output_type": "stream",
     "text": [
      "/tmp/jobtmp-yuanzf-1598270/ipykernel_1386653/3315329807.py:12: FionaDeprecationWarning: This function will be removed in version 2.0. Please use CRS.from_epsg() instead.\n",
      "  pointDF = get_pt(road, metafolder)\n",
      " 55%|█████▌    | 52/94 [1:41:57<2:34:41, 220.99s/it]"
     ]
    },
    {
     "name": "stdout",
     "output_type": "stream",
     "text": [
      "Number of points downloaded:  181888\n",
      "Nakuru\n",
      "Number of road rows downloaded:  20178\n"
     ]
    },
    {
     "name": "stderr",
     "output_type": "stream",
     "text": [
      "/tmp/jobtmp-yuanzf-1598270/ipykernel_1386653/3315329807.py:12: FionaDeprecationWarning: This function will be removed in version 2.0. Please use CRS.from_epsg() instead.\n",
      "  pointDF = get_pt(road, metafolder)\n",
      " 56%|█████▋    | 53/94 [1:42:11<1:48:28, 158.74s/it]"
     ]
    },
    {
     "name": "stdout",
     "output_type": "stream",
     "text": [
      "Number of points downloaded:  34359\n",
      "Busan\n"
     ]
    },
    {
     "name": "stderr",
     "output_type": "stream",
     "text": [
      " 57%|█████▋    | 54/94 [1:42:12<1:14:25, 111.65s/it]"
     ]
    },
    {
     "name": "stdout",
     "output_type": "stream",
     "text": [
      "An exception occurred: Nominatim geocoder returned 0 results for query 'Busan, Korea Rep.'\n",
      "Cheonan\n"
     ]
    },
    {
     "name": "stderr",
     "output_type": "stream",
     "text": [
      " 59%|█████▊    | 55/94 [1:42:14<51:09, 78.70s/it]   "
     ]
    },
    {
     "name": "stdout",
     "output_type": "stream",
     "text": [
      "An exception occurred: Nominatim geocoder returned 0 results for query 'Cheonan, Korea Rep.'\n",
      "Gwangju\n"
     ]
    },
    {
     "name": "stderr",
     "output_type": "stream",
     "text": [
      " 60%|█████▉    | 56/94 [1:42:16<35:13, 55.63s/it]"
     ]
    },
    {
     "name": "stdout",
     "output_type": "stream",
     "text": [
      "An exception occurred: Nominatim geocoder returned 0 results for query 'Gwangju, Korea Rep.'\n",
      "Jinju\n"
     ]
    },
    {
     "name": "stderr",
     "output_type": "stream",
     "text": [
      " 61%|██████    | 57/94 [1:42:18<24:20, 39.46s/it]"
     ]
    },
    {
     "name": "stdout",
     "output_type": "stream",
     "text": [
      "An exception occurred: Nominatim geocoder returned 0 results for query 'Jinju, Korea Rep.'\n",
      "Kaunas\n",
      "Number of road rows downloaded:  100977\n"
     ]
    },
    {
     "name": "stderr",
     "output_type": "stream",
     "text": [
      "/tmp/jobtmp-yuanzf-1598270/ipykernel_1386653/3315329807.py:12: FionaDeprecationWarning: This function will be removed in version 2.0. Please use CRS.from_epsg() instead.\n",
      "  pointDF = get_pt(road, metafolder)\n",
      " 62%|██████▏   | 58/94 [1:43:20<27:51, 46.42s/it]"
     ]
    },
    {
     "name": "stdout",
     "output_type": "stream",
     "text": [
      "Number of points downloaded:  134579\n",
      "Ipoh\n"
     ]
    },
    {
     "name": "stderr",
     "output_type": "stream",
     "text": [
      " 63%|██████▎   | 59/94 [1:43:22<19:17, 33.08s/it]"
     ]
    },
    {
     "name": "stdout",
     "output_type": "stream",
     "text": [
      "An exception occurred: Nominatim could not geocode query 'Ipoh, Malaysia' to a geometry of type (Multi)Polygon\n",
      "Rawang\n"
     ]
    },
    {
     "name": "stderr",
     "output_type": "stream",
     "text": [
      " 64%|██████▍   | 60/94 [1:43:27<13:50, 24.43s/it]"
     ]
    },
    {
     "name": "stdout",
     "output_type": "stream",
     "text": [
      "An exception occurred: Found no graph nodes within the requested polygon\n",
      "Culiacan\n",
      "Number of road rows downloaded:  124375\n"
     ]
    },
    {
     "name": "stderr",
     "output_type": "stream",
     "text": [
      "/tmp/jobtmp-yuanzf-1598270/ipykernel_1386653/3315329807.py:12: FionaDeprecationWarning: This function will be removed in version 2.0. Please use CRS.from_epsg() instead.\n",
      "  pointDF = get_pt(road, metafolder)\n",
      " 65%|██████▍   | 61/94 [1:44:55<23:58, 43.59s/it]"
     ]
    },
    {
     "name": "stdout",
     "output_type": "stream",
     "text": [
      "Number of points downloaded:  266826\n",
      "Guadalajara\n",
      "Number of road rows downloaded:  74737\n"
     ]
    },
    {
     "name": "stderr",
     "output_type": "stream",
     "text": [
      "/tmp/jobtmp-yuanzf-1598270/ipykernel_1386653/3315329807.py:12: FionaDeprecationWarning: This function will be removed in version 2.0. Please use CRS.from_epsg() instead.\n",
      "  pointDF = get_pt(road, metafolder)\n",
      " 66%|██████▌   | 62/94 [1:45:34<22:29, 42.18s/it]"
     ]
    },
    {
     "name": "stdout",
     "output_type": "stream",
     "text": [
      "Number of points downloaded:  79477\n",
      "Reynosa\n",
      "Number of road rows downloaded:  83822\n"
     ]
    },
    {
     "name": "stderr",
     "output_type": "stream",
     "text": [
      "/tmp/jobtmp-yuanzf-1598270/ipykernel_1386653/3315329807.py:12: FionaDeprecationWarning: This function will be removed in version 2.0. Please use CRS.from_epsg() instead.\n",
      "  pointDF = get_pt(road, metafolder)\n",
      " 67%|██████▋   | 63/94 [1:46:23<22:51, 44.23s/it]"
     ]
    },
    {
     "name": "stdout",
     "output_type": "stream",
     "text": [
      "Number of points downloaded:  176263\n",
      "Tijuana\n"
     ]
    },
    {
     "name": "stderr",
     "output_type": "stream",
     "text": [
      " 68%|██████▊   | 64/94 [1:46:25<15:48, 31.62s/it]"
     ]
    },
    {
     "name": "stdout",
     "output_type": "stream",
     "text": [
      "An exception occurred: Nominatim could not geocode query 'Tijuana, Mexico' to a geometry of type (Multi)Polygon\n",
      "Pokhara\n",
      "Number of road rows downloaded:  30315\n"
     ]
    },
    {
     "name": "stderr",
     "output_type": "stream",
     "text": [
      "/tmp/jobtmp-yuanzf-1598270/ipykernel_1386653/3315329807.py:12: FionaDeprecationWarning: This function will be removed in version 2.0. Please use CRS.from_epsg() instead.\n",
      "  pointDF = get_pt(road, metafolder)\n",
      " 69%|██████▉   | 65/94 [1:47:00<15:50, 32.79s/it]"
     ]
    },
    {
     "name": "stdout",
     "output_type": "stream",
     "text": [
      "Number of points downloaded:  82191\n",
      "Zwolle\n",
      "Number of road rows downloaded:  56326\n"
     ]
    },
    {
     "name": "stderr",
     "output_type": "stream",
     "text": [
      "/tmp/jobtmp-yuanzf-1598270/ipykernel_1386653/3315329807.py:12: FionaDeprecationWarning: This function will be removed in version 2.0. Please use CRS.from_epsg() instead.\n",
      "  pointDF = get_pt(road, metafolder)\n",
      " 70%|███████   | 66/94 [1:47:39<16:04, 34.44s/it]"
     ]
    },
    {
     "name": "stdout",
     "output_type": "stream",
     "text": [
      "Number of points downloaded:  73604\n",
      "Auckland\n",
      "Number of road rows downloaded:  487411\n"
     ]
    },
    {
     "name": "stderr",
     "output_type": "stream",
     "text": [
      "/tmp/jobtmp-yuanzf-1598270/ipykernel_1386653/3315329807.py:12: FionaDeprecationWarning: This function will be removed in version 2.0. Please use CRS.from_epsg() instead.\n",
      "  pointDF = get_pt(road, metafolder)\n",
      " 71%|███████▏  | 67/94 [1:52:46<52:22, 116.40s/it]"
     ]
    },
    {
     "name": "stdout",
     "output_type": "stream",
     "text": [
      "Number of points downloaded:  738919\n",
      "Gombe\n",
      "Number of road rows downloaded:  97221\n"
     ]
    },
    {
     "name": "stderr",
     "output_type": "stream",
     "text": [
      "/tmp/jobtmp-yuanzf-1598270/ipykernel_1386653/3315329807.py:12: FionaDeprecationWarning: This function will be removed in version 2.0. Please use CRS.from_epsg() instead.\n",
      "  pointDF = get_pt(road, metafolder)\n",
      " 72%|███████▏  | 68/94 [1:55:04<53:12, 122.78s/it]"
     ]
    },
    {
     "name": "stdout",
     "output_type": "stream",
     "text": [
      "Number of points downloaded:  368700\n",
      "Ibadan\n"
     ]
    },
    {
     "name": "stderr",
     "output_type": "stream",
     "text": [
      " 73%|███████▎  | 69/94 [1:55:06<36:02, 86.50s/it] "
     ]
    },
    {
     "name": "stdout",
     "output_type": "stream",
     "text": [
      "An exception occurred: Nominatim could not geocode query 'Ibadan, Nigeria' to a geometry of type (Multi)Polygon\n",
      "Bacolod\n",
      "Number of road rows downloaded:  45681\n"
     ]
    },
    {
     "name": "stderr",
     "output_type": "stream",
     "text": [
      "/tmp/jobtmp-yuanzf-1598270/ipykernel_1386653/3315329807.py:12: FionaDeprecationWarning: This function will be removed in version 2.0. Please use CRS.from_epsg() instead.\n",
      "  pointDF = get_pt(road, metafolder)\n",
      " 74%|███████▍  | 70/94 [1:55:41<28:27, 71.14s/it]"
     ]
    },
    {
     "name": "stdout",
     "output_type": "stream",
     "text": [
      "Number of points downloaded:  56152\n",
      "Cebu City\n",
      "Number of road rows downloaded:  34064\n"
     ]
    },
    {
     "name": "stderr",
     "output_type": "stream",
     "text": [
      "/tmp/jobtmp-yuanzf-1598270/ipykernel_1386653/3315329807.py:12: FionaDeprecationWarning: This function will be removed in version 2.0. Please use CRS.from_epsg() instead.\n",
      "  pointDF = get_pt(road, metafolder)\n",
      " 76%|███████▌  | 71/94 [1:56:07<22:06, 57.66s/it]"
     ]
    },
    {
     "name": "stdout",
     "output_type": "stream",
     "text": [
      "Number of points downloaded:  43652\n",
      "Manila\n",
      "Number of road rows downloaded:  31453\n"
     ]
    },
    {
     "name": "stderr",
     "output_type": "stream",
     "text": [
      "/tmp/jobtmp-yuanzf-1598270/ipykernel_1386653/3315329807.py:12: FionaDeprecationWarning: This function will be removed in version 2.0. Please use CRS.from_epsg() instead.\n",
      "  pointDF = get_pt(road, metafolder)\n",
      " 77%|███████▋  | 72/94 [1:57:10<21:40, 59.12s/it]"
     ]
    },
    {
     "name": "stdout",
     "output_type": "stream",
     "text": [
      "Number of points downloaded:  28452\n",
      "Warsaw\n",
      "Number of road rows downloaded:  779938\n"
     ]
    },
    {
     "name": "stderr",
     "output_type": "stream",
     "text": [
      "/tmp/jobtmp-yuanzf-1598270/ipykernel_1386653/3315329807.py:12: FionaDeprecationWarning: This function will be removed in version 2.0. Please use CRS.from_epsg() instead.\n",
      "  pointDF = get_pt(road, metafolder)\n",
      " 78%|███████▊  | 73/94 [2:02:36<48:43, 139.22s/it]"
     ]
    },
    {
     "name": "stdout",
     "output_type": "stream",
     "text": [
      "Number of points downloaded:  725313\n",
      "Astrakhan\n",
      "Number of road rows downloaded:  40089\n"
     ]
    },
    {
     "name": "stderr",
     "output_type": "stream",
     "text": [
      "/tmp/jobtmp-yuanzf-1598270/ipykernel_1386653/3315329807.py:12: FionaDeprecationWarning: This function will be removed in version 2.0. Please use CRS.from_epsg() instead.\n",
      "  pointDF = get_pt(road, metafolder)\n",
      " 79%|███████▊  | 74/94 [2:03:08<35:40, 107.04s/it]"
     ]
    },
    {
     "name": "stdout",
     "output_type": "stream",
     "text": [
      "Number of points downloaded:  77401\n",
      "Berezniki\n",
      "Number of road rows downloaded:  27836\n"
     ]
    },
    {
     "name": "stderr",
     "output_type": "stream",
     "text": [
      "/tmp/jobtmp-yuanzf-1598270/ipykernel_1386653/3315329807.py:12: FionaDeprecationWarning: This function will be removed in version 2.0. Please use CRS.from_epsg() instead.\n",
      "  pointDF = get_pt(road, metafolder)\n",
      " 80%|███████▉  | 75/94 [2:03:25<25:20, 80.03s/it] "
     ]
    },
    {
     "name": "stdout",
     "output_type": "stream",
     "text": [
      "Number of points downloaded:  76778\n",
      "Dzerzhinsk\n",
      "Number of road rows downloaded:  29232\n"
     ]
    },
    {
     "name": "stderr",
     "output_type": "stream",
     "text": [
      "/tmp/jobtmp-yuanzf-1598270/ipykernel_1386653/3315329807.py:12: FionaDeprecationWarning: This function will be removed in version 2.0. Please use CRS.from_epsg() instead.\n",
      "  pointDF = get_pt(road, metafolder)\n",
      " 81%|████████  | 76/94 [2:03:44<18:32, 61.82s/it]"
     ]
    },
    {
     "name": "stdout",
     "output_type": "stream",
     "text": [
      "Number of points downloaded:  88535\n",
      "Saint Petersburg\n",
      "Number of road rows downloaded:  1113444\n"
     ]
    },
    {
     "name": "stderr",
     "output_type": "stream",
     "text": [
      "/tmp/jobtmp-yuanzf-1598270/ipykernel_1386653/3315329807.py:12: FionaDeprecationWarning: This function will be removed in version 2.0. Please use CRS.from_epsg() instead.\n",
      "  pointDF = get_pt(road, metafolder)\n",
      " 82%|████████▏ | 77/94 [2:11:17<50:42, 178.98s/it]"
     ]
    },
    {
     "name": "stdout",
     "output_type": "stream",
     "text": [
      "Number of points downloaded:  1420685\n",
      "Tyumen\n",
      "Number of road rows downloaded:  126515\n"
     ]
    },
    {
     "name": "stderr",
     "output_type": "stream",
     "text": [
      "/tmp/jobtmp-yuanzf-1598270/ipykernel_1386653/3315329807.py:12: FionaDeprecationWarning: This function will be removed in version 2.0. Please use CRS.from_epsg() instead.\n",
      "  pointDF = get_pt(road, metafolder)\n",
      " 83%|████████▎ | 78/94 [2:12:17<38:13, 143.34s/it]"
     ]
    },
    {
     "name": "stdout",
     "output_type": "stream",
     "text": [
      "Number of points downloaded:  275839\n",
      "Kigali\n",
      "Number of road rows downloaded:  70823\n"
     ]
    },
    {
     "name": "stderr",
     "output_type": "stream",
     "text": [
      "/tmp/jobtmp-yuanzf-1598270/ipykernel_1386653/3315329807.py:12: FionaDeprecationWarning: This function will be removed in version 2.0. Please use CRS.from_epsg() instead.\n",
      "  pointDF = get_pt(road, metafolder)\n",
      " 84%|████████▍ | 79/94 [2:13:10<29:02, 116.13s/it]"
     ]
    },
    {
     "name": "stdout",
     "output_type": "stream",
     "text": [
      "Number of points downloaded:  144160\n",
      "Riyadh\n"
     ]
    },
    {
     "name": "stderr",
     "output_type": "stream",
     "text": [
      "/lustre1/u/yuanzf/anaconda3/envs/geo311/lib/python3.11/site-packages/osmnx/_overpass.py:211: UserWarning: This area is 180 times your configured Overpass max query area size. It will automatically be divided up into multiple sub-queries accordingly. This may take a long time.\n",
      "  multi_poly_proj = utils_geo._consolidate_subdivide_geometry(poly_proj)\n"
     ]
    },
    {
     "name": "stdout",
     "output_type": "stream",
     "text": [
      "Number of road rows downloaded:  776569\n"
     ]
    },
    {
     "name": "stderr",
     "output_type": "stream",
     "text": [
      "/tmp/jobtmp-yuanzf-1598270/ipykernel_1386653/3315329807.py:12: FionaDeprecationWarning: This function will be removed in version 2.0. Please use CRS.from_epsg() instead.\n",
      "  pointDF = get_pt(road, metafolder)\n",
      " 85%|████████▌ | 80/94 [2:27:09<1:17:44, 333.19s/it]"
     ]
    },
    {
     "name": "stdout",
     "output_type": "stream",
     "text": [
      "Number of points downloaded:  3006401\n",
      "Belgrade\n",
      "Number of road rows downloaded:  145501\n"
     ]
    },
    {
     "name": "stderr",
     "output_type": "stream",
     "text": [
      "/tmp/jobtmp-yuanzf-1598270/ipykernel_1386653/3315329807.py:12: FionaDeprecationWarning: This function will be removed in version 2.0. Please use CRS.from_epsg() instead.\n",
      "  pointDF = get_pt(road, metafolder)\n",
      " 86%|████████▌ | 81/94 [2:28:37<56:14, 259.57s/it]  "
     ]
    },
    {
     "name": "stdout",
     "output_type": "stream",
     "text": [
      "Number of points downloaded:  198284\n",
      "Port Elizabeth\n"
     ]
    },
    {
     "name": "stderr",
     "output_type": "stream",
     "text": [
      " 87%|████████▋ | 82/94 [2:28:39<36:26, 182.24s/it]"
     ]
    },
    {
     "name": "stdout",
     "output_type": "stream",
     "text": [
      "An exception occurred: Nominatim could not geocode query 'Port Elizabeth, South Africa' to a geometry of type (Multi)Polygon\n",
      "Lausanne\n",
      "Number of road rows downloaded:  41051\n"
     ]
    },
    {
     "name": "stderr",
     "output_type": "stream",
     "text": [
      "/tmp/jobtmp-yuanzf-1598270/ipykernel_1386653/3315329807.py:12: FionaDeprecationWarning: This function will be removed in version 2.0. Please use CRS.from_epsg() instead.\n",
      "  pointDF = get_pt(road, metafolder)\n",
      " 88%|████████▊ | 83/94 [2:29:06<24:52, 135.72s/it]"
     ]
    },
    {
     "name": "stdout",
     "output_type": "stream",
     "text": [
      "Number of points downloaded:  37976\n",
      "Rovno\n",
      "Number of road rows downloaded:  25083\n"
     ]
    },
    {
     "name": "stderr",
     "output_type": "stream",
     "text": [
      "/tmp/jobtmp-yuanzf-1598270/ipykernel_1386653/3315329807.py:12: FionaDeprecationWarning: This function will be removed in version 2.0. Please use CRS.from_epsg() instead.\n",
      "  pointDF = get_pt(road, metafolder)\n",
      " 89%|████████▉ | 84/94 [2:29:21<16:36, 99.63s/it] "
     ]
    },
    {
     "name": "stdout",
     "output_type": "stream",
     "text": [
      "Number of points downloaded:  37816\n",
      "Manchester\n",
      "Number of road rows downloaded:  112792\n"
     ]
    },
    {
     "name": "stderr",
     "output_type": "stream",
     "text": [
      "/tmp/jobtmp-yuanzf-1598270/ipykernel_1386653/3315329807.py:12: FionaDeprecationWarning: This function will be removed in version 2.0. Please use CRS.from_epsg() instead.\n",
      "  pointDF = get_pt(road, metafolder)\n",
      " 90%|█████████ | 85/94 [2:30:26<13:20, 89.00s/it]"
     ]
    },
    {
     "name": "stdout",
     "output_type": "stream",
     "text": [
      "Number of points downloaded:  128568\n",
      "Sheffield\n",
      "Number of road rows downloaded:  144881\n"
     ]
    },
    {
     "name": "stderr",
     "output_type": "stream",
     "text": [
      "/tmp/jobtmp-yuanzf-1598270/ipykernel_1386653/3315329807.py:12: FionaDeprecationWarning: This function will be removed in version 2.0. Please use CRS.from_epsg() instead.\n",
      "  pointDF = get_pt(road, metafolder)\n",
      " 91%|█████████▏| 86/94 [2:31:54<11:51, 88.95s/it]"
     ]
    },
    {
     "name": "stdout",
     "output_type": "stream",
     "text": [
      "Number of points downloaded:  215455\n",
      "Cleveland\n",
      "Number of road rows downloaded:  91045\n"
     ]
    },
    {
     "name": "stderr",
     "output_type": "stream",
     "text": [
      "/tmp/jobtmp-yuanzf-1598270/ipykernel_1386653/3315329807.py:12: FionaDeprecationWarning: This function will be removed in version 2.0. Please use CRS.from_epsg() instead.\n",
      "  pointDF = get_pt(road, metafolder)\n",
      " 93%|█████████▎| 87/94 [2:32:50<09:12, 78.94s/it]"
     ]
    },
    {
     "name": "stdout",
     "output_type": "stream",
     "text": [
      "Number of points downloaded:  128585\n",
      "Gainesville, FL\n",
      "Number of road rows downloaded:  86569\n"
     ]
    },
    {
     "name": "stderr",
     "output_type": "stream",
     "text": [
      "/tmp/jobtmp-yuanzf-1598270/ipykernel_1386653/3315329807.py:12: FionaDeprecationWarning: This function will be removed in version 2.0. Please use CRS.from_epsg() instead.\n",
      "  pointDF = get_pt(road, metafolder)\n",
      " 94%|█████████▎| 88/94 [2:33:57<07:32, 75.45s/it]"
     ]
    },
    {
     "name": "stdout",
     "output_type": "stream",
     "text": [
      "Number of points downloaded:  82682\n",
      "Killeen\n",
      "Number of road rows downloaded:  31678\n"
     ]
    },
    {
     "name": "stderr",
     "output_type": "stream",
     "text": [
      "/tmp/jobtmp-yuanzf-1598270/ipykernel_1386653/3315329807.py:12: FionaDeprecationWarning: This function will be removed in version 2.0. Please use CRS.from_epsg() instead.\n",
      "  pointDF = get_pt(road, metafolder)\n",
      " 95%|█████████▍| 89/94 [2:34:19<04:56, 59.36s/it]"
     ]
    },
    {
     "name": "stdout",
     "output_type": "stream",
     "text": [
      "Number of points downloaded:  44533\n",
      "Minneapolis\n",
      "Number of road rows downloaded:  200448\n"
     ]
    },
    {
     "name": "stderr",
     "output_type": "stream",
     "text": [
      "/tmp/jobtmp-yuanzf-1598270/ipykernel_1386653/3315329807.py:12: FionaDeprecationWarning: This function will be removed in version 2.0. Please use CRS.from_epsg() instead.\n",
      "  pointDF = get_pt(road, metafolder)\n",
      " 96%|█████████▌| 90/94 [2:35:47<04:32, 68.06s/it]"
     ]
    },
    {
     "name": "stdout",
     "output_type": "stream",
     "text": [
      "Number of points downloaded:  227689\n",
      "Modesto\n",
      "Number of road rows downloaded:  43548\n"
     ]
    },
    {
     "name": "stderr",
     "output_type": "stream",
     "text": [
      "/tmp/jobtmp-yuanzf-1598270/ipykernel_1386653/3315329807.py:12: FionaDeprecationWarning: This function will be removed in version 2.0. Please use CRS.from_epsg() instead.\n",
      "  pointDF = get_pt(road, metafolder)\n",
      " 97%|█████████▋| 91/94 [2:36:13<02:46, 55.44s/it]"
     ]
    },
    {
     "name": "stdout",
     "output_type": "stream",
     "text": [
      "Number of points downloaded:  58305\n",
      "Portland, OR\n",
      "Number of road rows downloaded:  188565\n"
     ]
    },
    {
     "name": "stderr",
     "output_type": "stream",
     "text": [
      "/tmp/jobtmp-yuanzf-1598270/ipykernel_1386653/3315329807.py:12: FionaDeprecationWarning: This function will be removed in version 2.0. Please use CRS.from_epsg() instead.\n",
      "  pointDF = get_pt(road, metafolder)\n",
      " 98%|█████████▊| 92/94 [2:38:12<02:29, 74.51s/it]"
     ]
    },
    {
     "name": "stdout",
     "output_type": "stream",
     "text": [
      "Number of points downloaded:  243785\n",
      "Raleigh\n",
      "Number of road rows downloaded:  264765\n"
     ]
    },
    {
     "name": "stderr",
     "output_type": "stream",
     "text": [
      "/tmp/jobtmp-yuanzf-1598270/ipykernel_1386653/3315329807.py:12: FionaDeprecationWarning: This function will be removed in version 2.0. Please use CRS.from_epsg() instead.\n",
      "  pointDF = get_pt(road, metafolder)\n",
      " 99%|█████████▉| 93/94 [2:40:37<01:35, 95.64s/it]"
     ]
    },
    {
     "name": "stdout",
     "output_type": "stream",
     "text": [
      "Number of points downloaded:  274610\n",
      "Toledo\n",
      "Number of road rows downloaded:  107205\n"
     ]
    },
    {
     "name": "stderr",
     "output_type": "stream",
     "text": [
      "/tmp/jobtmp-yuanzf-1598270/ipykernel_1386653/3315329807.py:12: FionaDeprecationWarning: This function will be removed in version 2.0. Please use CRS.from_epsg() instead.\n",
      "  pointDF = get_pt(road, metafolder)\n",
      "100%|██████████| 94/94 [2:41:30<00:00, 103.09s/it]"
     ]
    },
    {
     "name": "stdout",
     "output_type": "stream",
     "text": [
      "Number of points downloaded:  145001\n"
     ]
    },
    {
     "name": "stderr",
     "output_type": "stream",
     "text": [
      "\n"
     ]
    }
   ],
   "source": [
    "from tqdm import tqdm\n",
    "finished, remain = check_city()\n",
    "print(\"Number of cities remained to be processed: \", len(remain))\n",
    "for city in tqdm(remain):\n",
    "    print(city)\n",
    "    try:\n",
    "        run_all(city)\n",
    "    except Exception as error:\n",
    "    # handle the exception\n",
    "        print(\"An exception occurred:\", error) # An exception occurred: division by zero"
   ]
  },
  {
   "cell_type": "markdown",
   "metadata": {},
   "source": [
    "# 1. Use the point DF to get all panoid as of today"
   ]
  },
  {
   "cell_type": "code",
   "execution_count": null,
   "metadata": {},
   "outputs": [],
   "source": [
    "./Reqeust_GSV_panoid.py\n",
    "./Request_GSV_panoid_pl.py"
   ]
  },
  {
   "cell_type": "code",
   "execution_count": 13,
   "metadata": {
    "collapsed": true,
    "jupyter": {
     "outputs_hidden": true
    },
    "tags": []
   },
   "outputs": [
    {
     "data": {
      "text/plain": [
       "['Lahore',\n",
       " 'Osaka',\n",
       " 'Cordoba',\n",
       " 'Vienna',\n",
       " 'Baku',\n",
       " 'Rajshahi',\n",
       " 'Saidpur',\n",
       " 'Antwerp',\n",
       " 'Cochabamba',\n",
       " 'Belo Horizonte',\n",
       " 'Curitiba',\n",
       " 'Florianopolis',\n",
       " 'Ilheus',\n",
       " 'Jequie',\n",
       " 'Palmas',\n",
       " 'Ribeirao Preto',\n",
       " 'Montreal',\n",
       " 'Victoria',\n",
       " 'Santiago',\n",
       " 'Valledupar',\n",
       " 'Quito',\n",
       " 'San Salvador',\n",
       " 'Suva',\n",
       " 'Le Mans',\n",
       " 'Thessaloniki',\n",
       " 'Guatemala City',\n",
       " 'Budapest',\n",
       " 'Ahmedabad',\n",
       " 'Belgaum',\n",
       " 'Coimbatore',\n",
       " 'Hindupur',\n",
       " 'Jaipur',\n",
       " 'Jalna',\n",
       " 'Kanpur',\n",
       " 'Kozhikode',\n",
       " 'Malegaon',\n",
       " 'Parbhani',\n",
       " 'Pune',\n",
       " 'Singrauli',\n",
       " 'Sitapur',\n",
       " 'Vijayawada',\n",
       " 'Cirebon',\n",
       " 'Medan',\n",
       " 'Palembang',\n",
       " 'Parepare',\n",
       " 'Pematangtiantar',\n",
       " 'Tel Aviv',\n",
       " 'Palermo',\n",
       " 'Fukuoka',\n",
       " 'Okayama',\n",
       " 'Yamaguchi',\n",
       " 'Shymkent',\n",
       " 'Nakuru',\n",
       " 'Busan',\n",
       " 'Cheonan',\n",
       " 'Gwangju',\n",
       " 'Jinju',\n",
       " 'Kaunas',\n",
       " 'Ipoh',\n",
       " 'Rawang',\n",
       " 'Culiacan',\n",
       " 'Guadalajara',\n",
       " 'Reynosa',\n",
       " 'Tijuana',\n",
       " 'Pokhara',\n",
       " 'Zwolle',\n",
       " 'Auckland',\n",
       " 'Gombe',\n",
       " 'Ibadan',\n",
       " 'Bacolod',\n",
       " 'Cebu City',\n",
       " 'Manila',\n",
       " 'Warsaw',\n",
       " 'Astrakhan',\n",
       " 'Berezniki',\n",
       " 'Dzerzhinsk',\n",
       " 'Saint Petersburg',\n",
       " 'Tyumen',\n",
       " 'Kigali',\n",
       " 'Riyadh',\n",
       " 'Belgrade',\n",
       " 'Port Elizabeth',\n",
       " 'Lausanne',\n",
       " 'Rovno',\n",
       " 'Manchester',\n",
       " 'Sheffield',\n",
       " 'Cleveland',\n",
       " 'Gainesville, FL',\n",
       " 'Killeen',\n",
       " 'Minneapolis',\n",
       " 'Modesto',\n",
       " 'Portland, OR',\n",
       " 'Raleigh',\n",
       " 'Toledo']"
      ]
     },
     "execution_count": 13,
     "metadata": {},
     "output_type": "execute_result"
    }
   ],
   "source": [
    "remain"
   ]
  },
  {
   "cell_type": "code",
   "execution_count": 14,
   "metadata": {
    "collapsed": true,
    "jupyter": {
     "outputs_hidden": true
    },
    "tags": []
   },
   "outputs": [
    {
     "data": {
      "text/plain": [
       "['Cordoba',\n",
       " 'Vienna',\n",
       " 'Baku',\n",
       " 'Rajshahi',\n",
       " 'Saidpur',\n",
       " 'Antwerp',\n",
       " 'Cochabamba',\n",
       " 'Belo Horizonte',\n",
       " 'Curitiba',\n",
       " 'Florianopolis',\n",
       " 'Ilheus',\n",
       " 'Jequie',\n",
       " 'Palmas',\n",
       " 'Ribeirao Preto',\n",
       " 'Montreal',\n",
       " 'Victoria',\n",
       " 'Santiago',\n",
       " 'Valledupar',\n",
       " 'Quito',\n",
       " 'San Salvador',\n",
       " 'Suva',\n",
       " 'Le Mans',\n",
       " 'Thessaloniki',\n",
       " 'Guatemala City',\n",
       " 'Budapest',\n",
       " 'Ahmedabad',\n",
       " 'Belgaum',\n",
       " 'Coimbatore',\n",
       " 'Hindupur',\n",
       " 'Jaipur',\n",
       " 'Jalna',\n",
       " 'Kanpur',\n",
       " 'Kozhikode',\n",
       " 'Malegaon',\n",
       " 'Parbhani',\n",
       " 'Pune',\n",
       " 'Singrauli',\n",
       " 'Sitapur',\n",
       " 'Vijayawada',\n",
       " 'Cirebon',\n",
       " 'Medan',\n",
       " 'Palembang',\n",
       " 'Parepare',\n",
       " 'Pematangtiantar',\n",
       " 'Tel Aviv',\n",
       " 'Palermo',\n",
       " 'Fukuoka',\n",
       " 'Okayama',\n",
       " 'Yamaguchi',\n",
       " 'Shymkent',\n",
       " 'Nakuru',\n",
       " 'Busan',\n",
       " 'Cheonan',\n",
       " 'Gwangju',\n",
       " 'Jinju',\n",
       " 'Kaunas',\n",
       " 'Ipoh',\n",
       " 'Rawang',\n",
       " 'Culiacan',\n",
       " 'Guadalajara',\n",
       " 'Reynosa',\n",
       " 'Tijuana',\n",
       " 'Pokhara',\n",
       " 'Zwolle',\n",
       " 'Auckland',\n",
       " 'Gombe',\n",
       " 'Ibadan',\n",
       " 'Bacolod',\n",
       " 'Cebu City',\n",
       " 'Manila',\n",
       " 'Warsaw',\n",
       " 'Astrakhan',\n",
       " 'Berezniki',\n",
       " 'Dzerzhinsk',\n",
       " 'Saint Petersburg',\n",
       " 'Tyumen',\n",
       " 'Kigali',\n",
       " 'Riyadh',\n",
       " 'Belgrade',\n",
       " 'Port Elizabeth',\n",
       " 'Lausanne',\n",
       " 'Rovno',\n",
       " 'Manchester',\n",
       " 'Sheffield',\n",
       " 'Cleveland',\n",
       " 'Gainesville, FL',\n",
       " 'Killeen',\n",
       " 'Minneapolis',\n",
       " 'Modesto',\n",
       " 'Portland, OR',\n",
       " 'Raleigh',\n",
       " 'Toledo']"
      ]
     },
     "execution_count": 14,
     "metadata": {},
     "output_type": "execute_result"
    }
   ],
   "source": [
    "exceptions = ['Lahore', 'Osaka']\n",
    "cityls = [x for x in remain if not x in exceptions]\n",
    "cityls"
   ]
  },
  {
   "cell_type": "code",
   "execution_count": 15,
   "metadata": {
    "collapsed": true,
    "jupyter": {
     "outputs_hidden": true
    },
    "tags": []
   },
   "outputs": [
    {
     "name": "stdout",
     "output_type": "stream",
     "text": [
      "92\n",
      "1\n",
      "/lustre1/g/geog_pyloo/05_timemachine/GSV/gsv_rgb/vienna/gsvmeta\n",
      "/lustre1/g/geog_pyloo/05_timemachine/GSV/gsv_rgb/baku/gsvmeta\n",
      "/lustre1/g/geog_pyloo/05_timemachine/GSV/gsv_rgb/rajshahi/gsvmeta\n",
      "/lustre1/g/geog_pyloo/05_timemachine/GSV/gsv_rgb/saidpur/gsvmeta\n",
      "/lustre1/g/geog_pyloo/05_timemachine/GSV/gsv_rgb/antwerp/gsvmeta\n",
      "6\n",
      "/lustre1/g/geog_pyloo/05_timemachine/GSV/gsv_rgb/cochabamba/gsvmeta\n",
      "/lustre1/g/geog_pyloo/05_timemachine/GSV/gsv_rgb/belohorizonte/gsvmeta\n",
      "/lustre1/g/geog_pyloo/05_timemachine/GSV/gsv_rgb/curitiba/gsvmeta\n",
      "/lustre1/g/geog_pyloo/05_timemachine/GSV/gsv_rgb/florianopolis/gsvmeta\n",
      "/lustre1/g/geog_pyloo/05_timemachine/GSV/gsv_rgb/ilheus/gsvmeta\n",
      "11\n",
      "/lustre1/g/geog_pyloo/05_timemachine/GSV/gsv_rgb/jequie/gsvmeta\n",
      "/lustre1/g/geog_pyloo/05_timemachine/GSV/gsv_rgb/palmas/gsvmeta\n",
      "/lustre1/g/geog_pyloo/05_timemachine/GSV/gsv_rgb/ribeiraopreto/gsvmeta\n",
      "/lustre1/g/geog_pyloo/05_timemachine/GSV/gsv_rgb/montreal/gsvmeta\n",
      "/lustre1/g/geog_pyloo/05_timemachine/GSV/gsv_rgb/victoria/gsvmeta\n",
      "16\n",
      "/lustre1/g/geog_pyloo/05_timemachine/GSV/gsv_rgb/santiago/gsvmeta\n",
      "/lustre1/g/geog_pyloo/05_timemachine/GSV/gsv_rgb/valledupar/gsvmeta\n",
      "/lustre1/g/geog_pyloo/05_timemachine/GSV/gsv_rgb/quito/gsvmeta\n",
      "/lustre1/g/geog_pyloo/05_timemachine/GSV/gsv_rgb/sansalvador/gsvmeta\n",
      "/lustre1/g/geog_pyloo/05_timemachine/GSV/gsv_rgb/suva/gsvmeta\n",
      "21\n",
      "/lustre1/g/geog_pyloo/05_timemachine/GSV/gsv_rgb/lemans/gsvmeta\n",
      "/lustre1/g/geog_pyloo/05_timemachine/GSV/gsv_rgb/thessaloniki/gsvmeta\n",
      "/lustre1/g/geog_pyloo/05_timemachine/GSV/gsv_rgb/guatemalacity/gsvmeta\n",
      "/lustre1/g/geog_pyloo/05_timemachine/GSV/gsv_rgb/budapest/gsvmeta\n",
      "/lustre1/g/geog_pyloo/05_timemachine/GSV/gsv_rgb/ahmedabad/gsvmeta\n",
      "26\n",
      "/lustre1/g/geog_pyloo/05_timemachine/GSV/gsv_rgb/belgaum/gsvmeta\n",
      "/lustre1/g/geog_pyloo/05_timemachine/GSV/gsv_rgb/coimbatore/gsvmeta\n",
      "/lustre1/g/geog_pyloo/05_timemachine/GSV/gsv_rgb/hindupur/gsvmeta\n",
      "/lustre1/g/geog_pyloo/05_timemachine/GSV/gsv_rgb/jaipur/gsvmeta\n",
      "/lustre1/g/geog_pyloo/05_timemachine/GSV/gsv_rgb/jalna/gsvmeta\n",
      "31\n",
      "/lustre1/g/geog_pyloo/05_timemachine/GSV/gsv_rgb/kanpur/gsvmeta\n",
      "/lustre1/g/geog_pyloo/05_timemachine/GSV/gsv_rgb/kozhikode/gsvmeta\n",
      "/lustre1/g/geog_pyloo/05_timemachine/GSV/gsv_rgb/malegaon/gsvmeta\n",
      "/lustre1/g/geog_pyloo/05_timemachine/GSV/gsv_rgb/parbhani/gsvmeta\n",
      "/lustre1/g/geog_pyloo/05_timemachine/GSV/gsv_rgb/pune/gsvmeta\n",
      "36\n",
      "/lustre1/g/geog_pyloo/05_timemachine/GSV/gsv_rgb/singrauli/gsvmeta\n",
      "/lustre1/g/geog_pyloo/05_timemachine/GSV/gsv_rgb/sitapur/gsvmeta\n",
      "/lustre1/g/geog_pyloo/05_timemachine/GSV/gsv_rgb/vijayawada/gsvmeta\n",
      "/lustre1/g/geog_pyloo/05_timemachine/GSV/gsv_rgb/cirebon/gsvmeta\n",
      "/lustre1/g/geog_pyloo/05_timemachine/GSV/gsv_rgb/medan/gsvmeta\n",
      "41\n",
      "/lustre1/g/geog_pyloo/05_timemachine/GSV/gsv_rgb/palembang/gsvmeta\n",
      "/lustre1/g/geog_pyloo/05_timemachine/GSV/gsv_rgb/parepare/gsvmeta\n",
      "/lustre1/g/geog_pyloo/05_timemachine/GSV/gsv_rgb/pematangtiantar/gsvmeta\n",
      "/lustre1/g/geog_pyloo/05_timemachine/GSV/gsv_rgb/telaviv/gsvmeta\n",
      "/lustre1/g/geog_pyloo/05_timemachine/GSV/gsv_rgb/palermo/gsvmeta\n",
      "46\n",
      "/lustre1/g/geog_pyloo/05_timemachine/GSV/gsv_rgb/fukuoka/gsvmeta\n",
      "/lustre1/g/geog_pyloo/05_timemachine/GSV/gsv_rgb/okayama/gsvmeta\n",
      "/lustre1/g/geog_pyloo/05_timemachine/GSV/gsv_rgb/yamaguchi/gsvmeta\n",
      "/lustre1/g/geog_pyloo/05_timemachine/GSV/gsv_rgb/shymkent/gsvmeta\n",
      "/lustre1/g/geog_pyloo/05_timemachine/GSV/gsv_rgb/nakuru/gsvmeta\n",
      "51\n",
      "/lustre1/g/geog_pyloo/05_timemachine/GSV/gsv_rgb/busan/gsvmeta\n",
      "/lustre1/g/geog_pyloo/05_timemachine/GSV/gsv_rgb/cheonan/gsvmeta\n",
      "/lustre1/g/geog_pyloo/05_timemachine/GSV/gsv_rgb/gwangju/gsvmeta\n",
      "/lustre1/g/geog_pyloo/05_timemachine/GSV/gsv_rgb/jinju/gsvmeta\n",
      "/lustre1/g/geog_pyloo/05_timemachine/GSV/gsv_rgb/kaunas/gsvmeta\n",
      "56\n",
      "/lustre1/g/geog_pyloo/05_timemachine/GSV/gsv_rgb/ipoh/gsvmeta\n",
      "/lustre1/g/geog_pyloo/05_timemachine/GSV/gsv_rgb/rawang/gsvmeta\n",
      "/lustre1/g/geog_pyloo/05_timemachine/GSV/gsv_rgb/culiacan/gsvmeta\n",
      "/lustre1/g/geog_pyloo/05_timemachine/GSV/gsv_rgb/guadalajara/gsvmeta\n",
      "/lustre1/g/geog_pyloo/05_timemachine/GSV/gsv_rgb/reynosa/gsvmeta\n",
      "61\n",
      "/lustre1/g/geog_pyloo/05_timemachine/GSV/gsv_rgb/tijuana/gsvmeta\n",
      "/lustre1/g/geog_pyloo/05_timemachine/GSV/gsv_rgb/pokhara/gsvmeta\n",
      "/lustre1/g/geog_pyloo/05_timemachine/GSV/gsv_rgb/zwolle/gsvmeta\n",
      "/lustre1/g/geog_pyloo/05_timemachine/GSV/gsv_rgb/auckland/gsvmeta\n",
      "/lustre1/g/geog_pyloo/05_timemachine/GSV/gsv_rgb/gombe/gsvmeta\n",
      "66\n",
      "/lustre1/g/geog_pyloo/05_timemachine/GSV/gsv_rgb/ibadan/gsvmeta\n",
      "/lustre1/g/geog_pyloo/05_timemachine/GSV/gsv_rgb/bacolod/gsvmeta\n",
      "/lustre1/g/geog_pyloo/05_timemachine/GSV/gsv_rgb/cebucity/gsvmeta\n",
      "/lustre1/g/geog_pyloo/05_timemachine/GSV/gsv_rgb/manila/gsvmeta\n",
      "/lustre1/g/geog_pyloo/05_timemachine/GSV/gsv_rgb/warsaw/gsvmeta\n",
      "71\n",
      "/lustre1/g/geog_pyloo/05_timemachine/GSV/gsv_rgb/astrakhan/gsvmeta\n",
      "/lustre1/g/geog_pyloo/05_timemachine/GSV/gsv_rgb/berezniki/gsvmeta\n",
      "/lustre1/g/geog_pyloo/05_timemachine/GSV/gsv_rgb/dzerzhinsk/gsvmeta\n",
      "/lustre1/g/geog_pyloo/05_timemachine/GSV/gsv_rgb/saintpetersburg/gsvmeta\n",
      "/lustre1/g/geog_pyloo/05_timemachine/GSV/gsv_rgb/tyumen/gsvmeta\n",
      "76\n",
      "/lustre1/g/geog_pyloo/05_timemachine/GSV/gsv_rgb/kigali/gsvmeta\n",
      "/lustre1/g/geog_pyloo/05_timemachine/GSV/gsv_rgb/riyadh/gsvmeta\n",
      "/lustre1/g/geog_pyloo/05_timemachine/GSV/gsv_rgb/belgrade/gsvmeta\n",
      "/lustre1/g/geog_pyloo/05_timemachine/GSV/gsv_rgb/portelizabeth/gsvmeta\n",
      "/lustre1/g/geog_pyloo/05_timemachine/GSV/gsv_rgb/lausanne/gsvmeta\n",
      "81\n",
      "/lustre1/g/geog_pyloo/05_timemachine/GSV/gsv_rgb/rovno/gsvmeta\n",
      "/lustre1/g/geog_pyloo/05_timemachine/GSV/gsv_rgb/manchester/gsvmeta\n",
      "/lustre1/g/geog_pyloo/05_timemachine/GSV/gsv_rgb/sheffield/gsvmeta\n",
      "/lustre1/g/geog_pyloo/05_timemachine/GSV/gsv_rgb/cleveland/gsvmeta\n",
      "/lustre1/g/geog_pyloo/05_timemachine/GSV/gsv_rgb/gainesville,fl/gsvmeta\n",
      "86\n",
      "/lustre1/g/geog_pyloo/05_timemachine/GSV/gsv_rgb/killeen/gsvmeta\n",
      "/lustre1/g/geog_pyloo/05_timemachine/GSV/gsv_rgb/minneapolis/gsvmeta\n",
      "/lustre1/g/geog_pyloo/05_timemachine/GSV/gsv_rgb/modesto/gsvmeta\n",
      "/lustre1/g/geog_pyloo/05_timemachine/GSV/gsv_rgb/portland,or/gsvmeta\n",
      "/lustre1/g/geog_pyloo/05_timemachine/GSV/gsv_rgb/raleigh/gsvmeta\n",
      "91\n",
      "/lustre1/g/geog_pyloo/05_timemachine/GSV/gsv_rgb/toledo/gsvmeta\n"
     ]
    }
   ],
   "source": [
    "line = \"\"\"\n",
    "python ./Request_GSV_panoid_pl.py --city={cityabbr}\n",
    "\"\"\"\n",
    "print(len(cityls))\n",
    "# check whether they all have the pt data\n",
    "PTFILE = 'sentPt.p'\n",
    "\n",
    "\n",
    "for i in range(1, len(cityls), 5):\n",
    "    print(i)\n",
    "    with open(f'./downloadGSV/gsv_panoid_download_{i}.sh', 'w') as the_file:\n",
    "        for city in cityls[i:i+5]:\n",
    "            cityabbr = city.lower().replace(\" \", \"\")\n",
    "            generalgsv = f'{GSVROOT}/{cityabbr}'\n",
    "            imgfolder = os.path.join(generalgsv, 'img_rgb')\n",
    "            metafolder = os.path.join(generalgsv, 'gsvmeta')\n",
    "            print(metafolder)\n",
    "            PATH_PT = os.path.join(metafolder, PTFILE)\n",
    "            if os.path.exists(PATH_PT):\n",
    "                the_file.write(\n",
    "                    line.format(cityabbr = cityabbr)+'\\n'\n",
    "                )"
   ]
  },
  {
   "cell_type": "markdown",
   "metadata": {},
   "source": [
    "### Transfer these new gsvmeta file to ai-research for fast panoid downloading"
   ]
  },
  {
   "cell_type": "code",
   "execution_count": 18,
   "metadata": {
    "collapsed": true,
    "jupyter": {
     "outputs_hidden": true
    },
    "tags": []
   },
   "outputs": [
    {
     "name": "stdout",
     "output_type": "stream",
     "text": [
      "rsync -a /lustre1/g/geog_pyloo/05_timemachine/GSV/gsv_rgb/cordoba/gsvmeta yuanzf@ai-research:/group/geog_pyloo/08_GSV/data/gsv_rgb/cordoba\n",
      "rsync -a /lustre1/g/geog_pyloo/05_timemachine/GSV/gsv_rgb/vienna/gsvmeta yuanzf@ai-research:/group/geog_pyloo/08_GSV/data/gsv_rgb/vienna\n",
      "rsync -a /lustre1/g/geog_pyloo/05_timemachine/GSV/gsv_rgb/baku/gsvmeta yuanzf@ai-research:/group/geog_pyloo/08_GSV/data/gsv_rgb/baku\n",
      "rsync -a /lustre1/g/geog_pyloo/05_timemachine/GSV/gsv_rgb/rajshahi/gsvmeta yuanzf@ai-research:/group/geog_pyloo/08_GSV/data/gsv_rgb/rajshahi\n",
      "rsync -a /lustre1/g/geog_pyloo/05_timemachine/GSV/gsv_rgb/saidpur/gsvmeta yuanzf@ai-research:/group/geog_pyloo/08_GSV/data/gsv_rgb/saidpur\n",
      "rsync -a /lustre1/g/geog_pyloo/05_timemachine/GSV/gsv_rgb/antwerp/gsvmeta yuanzf@ai-research:/group/geog_pyloo/08_GSV/data/gsv_rgb/antwerp\n",
      "rsync -a /lustre1/g/geog_pyloo/05_timemachine/GSV/gsv_rgb/cochabamba/gsvmeta yuanzf@ai-research:/group/geog_pyloo/08_GSV/data/gsv_rgb/cochabamba\n",
      "rsync -a /lustre1/g/geog_pyloo/05_timemachine/GSV/gsv_rgb/belohorizonte/gsvmeta yuanzf@ai-research:/group/geog_pyloo/08_GSV/data/gsv_rgb/belohorizonte\n",
      "rsync -a /lustre1/g/geog_pyloo/05_timemachine/GSV/gsv_rgb/curitiba/gsvmeta yuanzf@ai-research:/group/geog_pyloo/08_GSV/data/gsv_rgb/curitiba\n",
      "rsync -a /lustre1/g/geog_pyloo/05_timemachine/GSV/gsv_rgb/florianopolis/gsvmeta yuanzf@ai-research:/group/geog_pyloo/08_GSV/data/gsv_rgb/florianopolis\n",
      "rsync -a /lustre1/g/geog_pyloo/05_timemachine/GSV/gsv_rgb/ilheus/gsvmeta yuanzf@ai-research:/group/geog_pyloo/08_GSV/data/gsv_rgb/ilheus\n",
      "rsync -a /lustre1/g/geog_pyloo/05_timemachine/GSV/gsv_rgb/jequie/gsvmeta yuanzf@ai-research:/group/geog_pyloo/08_GSV/data/gsv_rgb/jequie\n",
      "rsync -a /lustre1/g/geog_pyloo/05_timemachine/GSV/gsv_rgb/palmas/gsvmeta yuanzf@ai-research:/group/geog_pyloo/08_GSV/data/gsv_rgb/palmas\n",
      "rsync -a /lustre1/g/geog_pyloo/05_timemachine/GSV/gsv_rgb/ribeiraopreto/gsvmeta yuanzf@ai-research:/group/geog_pyloo/08_GSV/data/gsv_rgb/ribeiraopreto\n",
      "rsync -a /lustre1/g/geog_pyloo/05_timemachine/GSV/gsv_rgb/montreal/gsvmeta yuanzf@ai-research:/group/geog_pyloo/08_GSV/data/gsv_rgb/montreal\n",
      "rsync -a /lustre1/g/geog_pyloo/05_timemachine/GSV/gsv_rgb/victoria/gsvmeta yuanzf@ai-research:/group/geog_pyloo/08_GSV/data/gsv_rgb/victoria\n",
      "rsync -a /lustre1/g/geog_pyloo/05_timemachine/GSV/gsv_rgb/santiago/gsvmeta yuanzf@ai-research:/group/geog_pyloo/08_GSV/data/gsv_rgb/santiago\n",
      "rsync -a /lustre1/g/geog_pyloo/05_timemachine/GSV/gsv_rgb/valledupar/gsvmeta yuanzf@ai-research:/group/geog_pyloo/08_GSV/data/gsv_rgb/valledupar\n",
      "rsync -a /lustre1/g/geog_pyloo/05_timemachine/GSV/gsv_rgb/quito/gsvmeta yuanzf@ai-research:/group/geog_pyloo/08_GSV/data/gsv_rgb/quito\n",
      "rsync -a /lustre1/g/geog_pyloo/05_timemachine/GSV/gsv_rgb/sansalvador/gsvmeta yuanzf@ai-research:/group/geog_pyloo/08_GSV/data/gsv_rgb/sansalvador\n",
      "rsync -a /lustre1/g/geog_pyloo/05_timemachine/GSV/gsv_rgb/suva/gsvmeta yuanzf@ai-research:/group/geog_pyloo/08_GSV/data/gsv_rgb/suva\n",
      "rsync -a /lustre1/g/geog_pyloo/05_timemachine/GSV/gsv_rgb/lemans/gsvmeta yuanzf@ai-research:/group/geog_pyloo/08_GSV/data/gsv_rgb/lemans\n",
      "rsync -a /lustre1/g/geog_pyloo/05_timemachine/GSV/gsv_rgb/thessaloniki/gsvmeta yuanzf@ai-research:/group/geog_pyloo/08_GSV/data/gsv_rgb/thessaloniki\n",
      "rsync -a /lustre1/g/geog_pyloo/05_timemachine/GSV/gsv_rgb/guatemalacity/gsvmeta yuanzf@ai-research:/group/geog_pyloo/08_GSV/data/gsv_rgb/guatemalacity\n",
      "rsync -a /lustre1/g/geog_pyloo/05_timemachine/GSV/gsv_rgb/budapest/gsvmeta yuanzf@ai-research:/group/geog_pyloo/08_GSV/data/gsv_rgb/budapest\n",
      "rsync -a /lustre1/g/geog_pyloo/05_timemachine/GSV/gsv_rgb/ahmedabad/gsvmeta yuanzf@ai-research:/group/geog_pyloo/08_GSV/data/gsv_rgb/ahmedabad\n",
      "rsync -a /lustre1/g/geog_pyloo/05_timemachine/GSV/gsv_rgb/belgaum/gsvmeta yuanzf@ai-research:/group/geog_pyloo/08_GSV/data/gsv_rgb/belgaum\n",
      "rsync -a /lustre1/g/geog_pyloo/05_timemachine/GSV/gsv_rgb/coimbatore/gsvmeta yuanzf@ai-research:/group/geog_pyloo/08_GSV/data/gsv_rgb/coimbatore\n",
      "rsync -a /lustre1/g/geog_pyloo/05_timemachine/GSV/gsv_rgb/hindupur/gsvmeta yuanzf@ai-research:/group/geog_pyloo/08_GSV/data/gsv_rgb/hindupur\n",
      "rsync -a /lustre1/g/geog_pyloo/05_timemachine/GSV/gsv_rgb/jaipur/gsvmeta yuanzf@ai-research:/group/geog_pyloo/08_GSV/data/gsv_rgb/jaipur\n",
      "rsync -a /lustre1/g/geog_pyloo/05_timemachine/GSV/gsv_rgb/jalna/gsvmeta yuanzf@ai-research:/group/geog_pyloo/08_GSV/data/gsv_rgb/jalna\n",
      "rsync -a /lustre1/g/geog_pyloo/05_timemachine/GSV/gsv_rgb/kanpur/gsvmeta yuanzf@ai-research:/group/geog_pyloo/08_GSV/data/gsv_rgb/kanpur\n",
      "rsync -a /lustre1/g/geog_pyloo/05_timemachine/GSV/gsv_rgb/kozhikode/gsvmeta yuanzf@ai-research:/group/geog_pyloo/08_GSV/data/gsv_rgb/kozhikode\n",
      "rsync -a /lustre1/g/geog_pyloo/05_timemachine/GSV/gsv_rgb/malegaon/gsvmeta yuanzf@ai-research:/group/geog_pyloo/08_GSV/data/gsv_rgb/malegaon\n",
      "rsync -a /lustre1/g/geog_pyloo/05_timemachine/GSV/gsv_rgb/parbhani/gsvmeta yuanzf@ai-research:/group/geog_pyloo/08_GSV/data/gsv_rgb/parbhani\n",
      "rsync -a /lustre1/g/geog_pyloo/05_timemachine/GSV/gsv_rgb/pune/gsvmeta yuanzf@ai-research:/group/geog_pyloo/08_GSV/data/gsv_rgb/pune\n",
      "rsync -a /lustre1/g/geog_pyloo/05_timemachine/GSV/gsv_rgb/singrauli/gsvmeta yuanzf@ai-research:/group/geog_pyloo/08_GSV/data/gsv_rgb/singrauli\n",
      "rsync -a /lustre1/g/geog_pyloo/05_timemachine/GSV/gsv_rgb/sitapur/gsvmeta yuanzf@ai-research:/group/geog_pyloo/08_GSV/data/gsv_rgb/sitapur\n",
      "rsync -a /lustre1/g/geog_pyloo/05_timemachine/GSV/gsv_rgb/vijayawada/gsvmeta yuanzf@ai-research:/group/geog_pyloo/08_GSV/data/gsv_rgb/vijayawada\n",
      "rsync -a /lustre1/g/geog_pyloo/05_timemachine/GSV/gsv_rgb/cirebon/gsvmeta yuanzf@ai-research:/group/geog_pyloo/08_GSV/data/gsv_rgb/cirebon\n",
      "rsync -a /lustre1/g/geog_pyloo/05_timemachine/GSV/gsv_rgb/medan/gsvmeta yuanzf@ai-research:/group/geog_pyloo/08_GSV/data/gsv_rgb/medan\n",
      "rsync -a /lustre1/g/geog_pyloo/05_timemachine/GSV/gsv_rgb/palembang/gsvmeta yuanzf@ai-research:/group/geog_pyloo/08_GSV/data/gsv_rgb/palembang\n",
      "rsync -a /lustre1/g/geog_pyloo/05_timemachine/GSV/gsv_rgb/parepare/gsvmeta yuanzf@ai-research:/group/geog_pyloo/08_GSV/data/gsv_rgb/parepare\n",
      "rsync -a /lustre1/g/geog_pyloo/05_timemachine/GSV/gsv_rgb/pematangtiantar/gsvmeta yuanzf@ai-research:/group/geog_pyloo/08_GSV/data/gsv_rgb/pematangtiantar\n",
      "rsync -a /lustre1/g/geog_pyloo/05_timemachine/GSV/gsv_rgb/telaviv/gsvmeta yuanzf@ai-research:/group/geog_pyloo/08_GSV/data/gsv_rgb/telaviv\n",
      "rsync -a /lustre1/g/geog_pyloo/05_timemachine/GSV/gsv_rgb/palermo/gsvmeta yuanzf@ai-research:/group/geog_pyloo/08_GSV/data/gsv_rgb/palermo\n",
      "rsync -a /lustre1/g/geog_pyloo/05_timemachine/GSV/gsv_rgb/fukuoka/gsvmeta yuanzf@ai-research:/group/geog_pyloo/08_GSV/data/gsv_rgb/fukuoka\n",
      "rsync -a /lustre1/g/geog_pyloo/05_timemachine/GSV/gsv_rgb/okayama/gsvmeta yuanzf@ai-research:/group/geog_pyloo/08_GSV/data/gsv_rgb/okayama\n",
      "rsync -a /lustre1/g/geog_pyloo/05_timemachine/GSV/gsv_rgb/yamaguchi/gsvmeta yuanzf@ai-research:/group/geog_pyloo/08_GSV/data/gsv_rgb/yamaguchi\n",
      "rsync -a /lustre1/g/geog_pyloo/05_timemachine/GSV/gsv_rgb/shymkent/gsvmeta yuanzf@ai-research:/group/geog_pyloo/08_GSV/data/gsv_rgb/shymkent\n",
      "rsync -a /lustre1/g/geog_pyloo/05_timemachine/GSV/gsv_rgb/nakuru/gsvmeta yuanzf@ai-research:/group/geog_pyloo/08_GSV/data/gsv_rgb/nakuru\n",
      "rsync -a /lustre1/g/geog_pyloo/05_timemachine/GSV/gsv_rgb/busan/gsvmeta yuanzf@ai-research:/group/geog_pyloo/08_GSV/data/gsv_rgb/busan\n",
      "rsync -a /lustre1/g/geog_pyloo/05_timemachine/GSV/gsv_rgb/cheonan/gsvmeta yuanzf@ai-research:/group/geog_pyloo/08_GSV/data/gsv_rgb/cheonan\n",
      "rsync -a /lustre1/g/geog_pyloo/05_timemachine/GSV/gsv_rgb/gwangju/gsvmeta yuanzf@ai-research:/group/geog_pyloo/08_GSV/data/gsv_rgb/gwangju\n",
      "rsync -a /lustre1/g/geog_pyloo/05_timemachine/GSV/gsv_rgb/jinju/gsvmeta yuanzf@ai-research:/group/geog_pyloo/08_GSV/data/gsv_rgb/jinju\n",
      "rsync -a /lustre1/g/geog_pyloo/05_timemachine/GSV/gsv_rgb/kaunas/gsvmeta yuanzf@ai-research:/group/geog_pyloo/08_GSV/data/gsv_rgb/kaunas\n",
      "rsync -a /lustre1/g/geog_pyloo/05_timemachine/GSV/gsv_rgb/ipoh/gsvmeta yuanzf@ai-research:/group/geog_pyloo/08_GSV/data/gsv_rgb/ipoh\n",
      "rsync -a /lustre1/g/geog_pyloo/05_timemachine/GSV/gsv_rgb/rawang/gsvmeta yuanzf@ai-research:/group/geog_pyloo/08_GSV/data/gsv_rgb/rawang\n",
      "rsync -a /lustre1/g/geog_pyloo/05_timemachine/GSV/gsv_rgb/culiacan/gsvmeta yuanzf@ai-research:/group/geog_pyloo/08_GSV/data/gsv_rgb/culiacan\n",
      "rsync -a /lustre1/g/geog_pyloo/05_timemachine/GSV/gsv_rgb/guadalajara/gsvmeta yuanzf@ai-research:/group/geog_pyloo/08_GSV/data/gsv_rgb/guadalajara\n",
      "rsync -a /lustre1/g/geog_pyloo/05_timemachine/GSV/gsv_rgb/reynosa/gsvmeta yuanzf@ai-research:/group/geog_pyloo/08_GSV/data/gsv_rgb/reynosa\n",
      "rsync -a /lustre1/g/geog_pyloo/05_timemachine/GSV/gsv_rgb/tijuana/gsvmeta yuanzf@ai-research:/group/geog_pyloo/08_GSV/data/gsv_rgb/tijuana\n",
      "rsync -a /lustre1/g/geog_pyloo/05_timemachine/GSV/gsv_rgb/pokhara/gsvmeta yuanzf@ai-research:/group/geog_pyloo/08_GSV/data/gsv_rgb/pokhara\n",
      "rsync -a /lustre1/g/geog_pyloo/05_timemachine/GSV/gsv_rgb/zwolle/gsvmeta yuanzf@ai-research:/group/geog_pyloo/08_GSV/data/gsv_rgb/zwolle\n",
      "rsync -a /lustre1/g/geog_pyloo/05_timemachine/GSV/gsv_rgb/auckland/gsvmeta yuanzf@ai-research:/group/geog_pyloo/08_GSV/data/gsv_rgb/auckland\n",
      "rsync -a /lustre1/g/geog_pyloo/05_timemachine/GSV/gsv_rgb/gombe/gsvmeta yuanzf@ai-research:/group/geog_pyloo/08_GSV/data/gsv_rgb/gombe\n",
      "rsync -a /lustre1/g/geog_pyloo/05_timemachine/GSV/gsv_rgb/ibadan/gsvmeta yuanzf@ai-research:/group/geog_pyloo/08_GSV/data/gsv_rgb/ibadan\n",
      "rsync -a /lustre1/g/geog_pyloo/05_timemachine/GSV/gsv_rgb/bacolod/gsvmeta yuanzf@ai-research:/group/geog_pyloo/08_GSV/data/gsv_rgb/bacolod\n",
      "rsync -a /lustre1/g/geog_pyloo/05_timemachine/GSV/gsv_rgb/cebucity/gsvmeta yuanzf@ai-research:/group/geog_pyloo/08_GSV/data/gsv_rgb/cebucity\n",
      "rsync -a /lustre1/g/geog_pyloo/05_timemachine/GSV/gsv_rgb/manila/gsvmeta yuanzf@ai-research:/group/geog_pyloo/08_GSV/data/gsv_rgb/manila\n",
      "rsync -a /lustre1/g/geog_pyloo/05_timemachine/GSV/gsv_rgb/warsaw/gsvmeta yuanzf@ai-research:/group/geog_pyloo/08_GSV/data/gsv_rgb/warsaw\n",
      "rsync -a /lustre1/g/geog_pyloo/05_timemachine/GSV/gsv_rgb/astrakhan/gsvmeta yuanzf@ai-research:/group/geog_pyloo/08_GSV/data/gsv_rgb/astrakhan\n",
      "rsync -a /lustre1/g/geog_pyloo/05_timemachine/GSV/gsv_rgb/berezniki/gsvmeta yuanzf@ai-research:/group/geog_pyloo/08_GSV/data/gsv_rgb/berezniki\n",
      "rsync -a /lustre1/g/geog_pyloo/05_timemachine/GSV/gsv_rgb/dzerzhinsk/gsvmeta yuanzf@ai-research:/group/geog_pyloo/08_GSV/data/gsv_rgb/dzerzhinsk\n",
      "rsync -a /lustre1/g/geog_pyloo/05_timemachine/GSV/gsv_rgb/saintpetersburg/gsvmeta yuanzf@ai-research:/group/geog_pyloo/08_GSV/data/gsv_rgb/saintpetersburg\n",
      "rsync -a /lustre1/g/geog_pyloo/05_timemachine/GSV/gsv_rgb/tyumen/gsvmeta yuanzf@ai-research:/group/geog_pyloo/08_GSV/data/gsv_rgb/tyumen\n",
      "rsync -a /lustre1/g/geog_pyloo/05_timemachine/GSV/gsv_rgb/kigali/gsvmeta yuanzf@ai-research:/group/geog_pyloo/08_GSV/data/gsv_rgb/kigali\n",
      "rsync -a /lustre1/g/geog_pyloo/05_timemachine/GSV/gsv_rgb/riyadh/gsvmeta yuanzf@ai-research:/group/geog_pyloo/08_GSV/data/gsv_rgb/riyadh\n",
      "rsync -a /lustre1/g/geog_pyloo/05_timemachine/GSV/gsv_rgb/belgrade/gsvmeta yuanzf@ai-research:/group/geog_pyloo/08_GSV/data/gsv_rgb/belgrade\n",
      "rsync -a /lustre1/g/geog_pyloo/05_timemachine/GSV/gsv_rgb/portelizabeth/gsvmeta yuanzf@ai-research:/group/geog_pyloo/08_GSV/data/gsv_rgb/portelizabeth\n",
      "rsync -a /lustre1/g/geog_pyloo/05_timemachine/GSV/gsv_rgb/lausanne/gsvmeta yuanzf@ai-research:/group/geog_pyloo/08_GSV/data/gsv_rgb/lausanne\n",
      "rsync -a /lustre1/g/geog_pyloo/05_timemachine/GSV/gsv_rgb/rovno/gsvmeta yuanzf@ai-research:/group/geog_pyloo/08_GSV/data/gsv_rgb/rovno\n",
      "rsync -a /lustre1/g/geog_pyloo/05_timemachine/GSV/gsv_rgb/manchester/gsvmeta yuanzf@ai-research:/group/geog_pyloo/08_GSV/data/gsv_rgb/manchester\n",
      "rsync -a /lustre1/g/geog_pyloo/05_timemachine/GSV/gsv_rgb/sheffield/gsvmeta yuanzf@ai-research:/group/geog_pyloo/08_GSV/data/gsv_rgb/sheffield\n",
      "rsync -a /lustre1/g/geog_pyloo/05_timemachine/GSV/gsv_rgb/cleveland/gsvmeta yuanzf@ai-research:/group/geog_pyloo/08_GSV/data/gsv_rgb/cleveland\n",
      "rsync -a /lustre1/g/geog_pyloo/05_timemachine/GSV/gsv_rgb/gainesville,fl/gsvmeta yuanzf@ai-research:/group/geog_pyloo/08_GSV/data/gsv_rgb/gainesville,fl\n",
      "rsync -a /lustre1/g/geog_pyloo/05_timemachine/GSV/gsv_rgb/killeen/gsvmeta yuanzf@ai-research:/group/geog_pyloo/08_GSV/data/gsv_rgb/killeen\n",
      "rsync -a /lustre1/g/geog_pyloo/05_timemachine/GSV/gsv_rgb/minneapolis/gsvmeta yuanzf@ai-research:/group/geog_pyloo/08_GSV/data/gsv_rgb/minneapolis\n",
      "rsync -a /lustre1/g/geog_pyloo/05_timemachine/GSV/gsv_rgb/modesto/gsvmeta yuanzf@ai-research:/group/geog_pyloo/08_GSV/data/gsv_rgb/modesto\n",
      "rsync -a /lustre1/g/geog_pyloo/05_timemachine/GSV/gsv_rgb/portland,or/gsvmeta yuanzf@ai-research:/group/geog_pyloo/08_GSV/data/gsv_rgb/portland,or\n",
      "rsync -a /lustre1/g/geog_pyloo/05_timemachine/GSV/gsv_rgb/raleigh/gsvmeta yuanzf@ai-research:/group/geog_pyloo/08_GSV/data/gsv_rgb/raleigh\n",
      "rsync -a /lustre1/g/geog_pyloo/05_timemachine/GSV/gsv_rgb/toledo/gsvmeta yuanzf@ai-research:/group/geog_pyloo/08_GSV/data/gsv_rgb/toledo\n"
     ]
    }
   ],
   "source": [
    "for city in cityls:\n",
    "    cityabbr = city.lower().replace(\" \", \"\")\n",
    "    generalgsv = f'{GSVROOT}/{cityabbr}'\n",
    "    metafolder = os.path.join(generalgsv, 'gsvmeta')\n",
    "    line = f\"\"\"rsync -a {metafolder} yuanzf@ai-research:/group/geog_pyloo/08_GSV/data/gsv_rgb/{cityabbr}\"\"\"\n",
    "    print(line)"
   ]
  },
  {
   "cell_type": "code",
   "execution_count": 12,
   "metadata": {},
   "outputs": [
    {
     "data": {
      "text/plain": [
       "['road', 'gsvmeta', 'img_rgb']"
      ]
     },
     "execution_count": 12,
     "metadata": {},
     "output_type": "execute_result"
    }
   ],
   "source": [
    "test = '/lustre1/g/geog_pyloo/05_timemachine/GSV/gsv_rgb/jakarta'\n",
    "os.listdir(test)"
   ]
  },
  {
   "cell_type": "code",
   "execution_count": 28,
   "metadata": {
    "collapsed": true,
    "jupyter": {
     "outputs_hidden": true
    },
    "tags": []
   },
   "outputs": [
    {
     "data": {
      "text/html": [
       "<div>\n",
       "<style scoped>\n",
       "    .dataframe tbody tr th:only-of-type {\n",
       "        vertical-align: middle;\n",
       "    }\n",
       "\n",
       "    .dataframe tbody tr th {\n",
       "        vertical-align: top;\n",
       "    }\n",
       "\n",
       "    .dataframe thead th {\n",
       "        text-align: right;\n",
       "    }\n",
       "</style>\n",
       "<table border=\"1\" class=\"dataframe\">\n",
       "  <thead>\n",
       "    <tr style=\"text-align: right;\">\n",
       "      <th></th>\n",
       "      <th>0</th>\n",
       "      <th>1</th>\n",
       "      <th>2</th>\n",
       "      <th>3</th>\n",
       "      <th>4</th>\n",
       "      <th>5</th>\n",
       "    </tr>\n",
       "  </thead>\n",
       "  <tbody>\n",
       "    <tr>\n",
       "      <th>0</th>\n",
       "      <td>93784</td>\n",
       "      <td>Ww8ZNYXoEYgDOgd4tD9pVA</td>\n",
       "      <td>-6.259615</td>\n",
       "      <td>106.764077</td>\n",
       "      <td>2023.0</td>\n",
       "      <td>3.0</td>\n",
       "    </tr>\n",
       "    <tr>\n",
       "      <th>1</th>\n",
       "      <td>93784</td>\n",
       "      <td>heEamXbHw-uS-0br6RSh9g</td>\n",
       "      <td>-6.259624</td>\n",
       "      <td>106.764071</td>\n",
       "      <td>2022.0</td>\n",
       "      <td>11.0</td>\n",
       "    </tr>\n",
       "    <tr>\n",
       "      <th>2</th>\n",
       "      <td>93784</td>\n",
       "      <td>uQIcL699DH6eXfNnzPPQvA</td>\n",
       "      <td>-6.259598</td>\n",
       "      <td>106.764070</td>\n",
       "      <td>2022.0</td>\n",
       "      <td>6.0</td>\n",
       "    </tr>\n",
       "    <tr>\n",
       "      <th>3</th>\n",
       "      <td>93784</td>\n",
       "      <td>U27B7Ag7Hkq2NIxUNIhsaQ</td>\n",
       "      <td>-6.259620</td>\n",
       "      <td>106.764065</td>\n",
       "      <td>2020.0</td>\n",
       "      <td>12.0</td>\n",
       "    </tr>\n",
       "    <tr>\n",
       "      <th>4</th>\n",
       "      <td>93784</td>\n",
       "      <td>h0G41_Zn0YiDvUaJr9Emmg</td>\n",
       "      <td>-6.259661</td>\n",
       "      <td>106.764065</td>\n",
       "      <td>2020.0</td>\n",
       "      <td>2.0</td>\n",
       "    </tr>\n",
       "    <tr>\n",
       "      <th>...</th>\n",
       "      <td>...</td>\n",
       "      <td>...</td>\n",
       "      <td>...</td>\n",
       "      <td>...</td>\n",
       "      <td>...</td>\n",
       "      <td>...</td>\n",
       "    </tr>\n",
       "    <tr>\n",
       "      <th>6356</th>\n",
       "      <td>117168</td>\n",
       "      <td>jTZizKJVD4hfy8rZj-Eo8Q</td>\n",
       "      <td>-6.151157</td>\n",
       "      <td>106.728843</td>\n",
       "      <td>2015.0</td>\n",
       "      <td>5.0</td>\n",
       "    </tr>\n",
       "    <tr>\n",
       "      <th>6357</th>\n",
       "      <td>117168</td>\n",
       "      <td>lNkaFNRL6M_OIkHDLEB-qw</td>\n",
       "      <td>-6.151147</td>\n",
       "      <td>106.728843</td>\n",
       "      <td>2022.0</td>\n",
       "      <td>11.0</td>\n",
       "    </tr>\n",
       "    <tr>\n",
       "      <th>6358</th>\n",
       "      <td>145408</td>\n",
       "      <td>tZOt0hu9LeEJNUW1qBeScg</td>\n",
       "      <td>-6.283411</td>\n",
       "      <td>106.873294</td>\n",
       "      <td>2018.0</td>\n",
       "      <td>4.0</td>\n",
       "    </tr>\n",
       "    <tr>\n",
       "      <th>6359</th>\n",
       "      <td>145408</td>\n",
       "      <td>5-E9ch-hSomH_qHPOiPQeQ</td>\n",
       "      <td>-6.283418</td>\n",
       "      <td>106.873314</td>\n",
       "      <td>2013.0</td>\n",
       "      <td>4.0</td>\n",
       "    </tr>\n",
       "    <tr>\n",
       "      <th>6360</th>\n",
       "      <td>145408</td>\n",
       "      <td>f3_Ipe2-TJhpz7-mZjnqcg</td>\n",
       "      <td>-6.283407</td>\n",
       "      <td>106.873295</td>\n",
       "      <td>2018.0</td>\n",
       "      <td>12.0</td>\n",
       "    </tr>\n",
       "  </tbody>\n",
       "</table>\n",
       "<p>6361 rows × 6 columns</p>\n",
       "</div>"
      ],
      "text/plain": [
       "           0                       1         2           3       4     5\n",
       "0      93784  Ww8ZNYXoEYgDOgd4tD9pVA -6.259615  106.764077  2023.0   3.0\n",
       "1      93784  heEamXbHw-uS-0br6RSh9g -6.259624  106.764071  2022.0  11.0\n",
       "2      93784  uQIcL699DH6eXfNnzPPQvA -6.259598  106.764070  2022.0   6.0\n",
       "3      93784  U27B7Ag7Hkq2NIxUNIhsaQ -6.259620  106.764065  2020.0  12.0\n",
       "4      93784  h0G41_Zn0YiDvUaJr9Emmg -6.259661  106.764065  2020.0   2.0\n",
       "...      ...                     ...       ...         ...     ...   ...\n",
       "6356  117168  jTZizKJVD4hfy8rZj-Eo8Q -6.151157  106.728843  2015.0   5.0\n",
       "6357  117168  lNkaFNRL6M_OIkHDLEB-qw -6.151147  106.728843  2022.0  11.0\n",
       "6358  145408  tZOt0hu9LeEJNUW1qBeScg -6.283411  106.873294  2018.0   4.0\n",
       "6359  145408  5-E9ch-hSomH_qHPOiPQeQ -6.283418  106.873314  2013.0   4.0\n",
       "6360  145408  f3_Ipe2-TJhpz7-mZjnqcg -6.283407  106.873295  2018.0  12.0\n",
       "\n",
       "[6361 rows x 6 columns]"
      ]
     },
     "execution_count": 28,
     "metadata": {},
     "output_type": "execute_result"
    }
   ],
   "source": [
    "testdf = pd.read_csv(os.path.join(test, 'gsv_pano.csv'), header = None)\n",
    "testdf"
   ]
  },
  {
   "cell_type": "markdown",
   "metadata": {},
   "source": [
    "# 2. Load and clean the Panoid (continue in 01b_download2.ipynb)\n",
    "* Here revise the columns when there are shifted column names"
   ]
  },
  {
   "cell_type": "code",
   "execution_count": 8,
   "metadata": {
    "tags": []
   },
   "outputs": [],
   "source": [
    "\n",
    "def clean_panoid(city):\n",
    "    cityabbr = city.replace(\" \", \"\").lower()\n",
    "    dirsave = f'{GSVROOT}/{cityabbr}/gsvmeta'\n",
    "    imgGDF = pd.read_csv(os.path.join(dirsave,'gsv_pano.csv'), header = None)\n",
    "\n",
    "    imgGDF.columns = ['panoid', 'lat', 'lon', 'year', 'month','id']\n",
    "    imgerr = imgGDF[imgGDF['year']<2000].reset_index(drop = True)\n",
    "    imgerr.columns = ['id', 'panoid', 'lat', 'lon', 'year', 'month']\n",
    "    \n",
    "    imgother = imgGDF[imgGDF['year']>=2000].reset_index(drop = True)\n",
    "    imgGDF2 = pd.concat([imgerr, imgother], axis = 0).reset_index(drop = True)\n",
    "    imgGDF2['lat'] = imgGDF2['lat'].astype(float)\n",
    "    imgGDF2['lon'] = imgGDF2['lon'].astype(float)\n",
    "    # imgGDF2.to_csv(os.path.join(dirsave+\"_2\",'gsv_pano_updated.csv'), \n",
    "    #                index = False)\n",
    "    imgGDF2['id'] = imgGDF2['id'].astype(float).astype(int)\n",
    "    imgGDF2.drop_duplicates('panoid')[['panoid', 'lat', 'lon', 'year', 'month','id']].to_csv(os.path.join(dirsave,'gsv_pano.csv'), \n",
    "               index = False)\n",
    "    print(city, \": DONE\")"
   ]
  },
  {
   "cell_type": "code",
   "execution_count": 21,
   "metadata": {
    "collapsed": true,
    "jupyter": {
     "outputs_hidden": true
    },
    "tags": []
   },
   "outputs": [
    {
     "name": "stderr",
     "output_type": "stream",
     "text": [
      "  0%|          | 0/21 [00:00<?, ?it/s]"
     ]
    },
    {
     "name": "stdout",
     "output_type": "stream",
     "text": [
      "Error with:  Bangkok\n"
     ]
    },
    {
     "name": "stderr",
     "output_type": "stream",
     "text": [
      "/tmp/jobtmp-yuanzf-1593279/ipykernel_489566/1495169434.py:4: DtypeWarning: Columns (1) have mixed types. Specify dtype option on import or set low_memory=False.\n",
      "  imgGDF = pd.read_csv(os.path.join(dirsave,'gsv_pano.csv'), header = None)\n",
      " 14%|█▍        | 3/21 [00:04<00:22,  1.28s/it]"
     ]
    },
    {
     "name": "stdout",
     "output_type": "stream",
     "text": [
      "Buenos Aires : DONE\n",
      "Cairo : DONE\n"
     ]
    },
    {
     "name": "stderr",
     "output_type": "stream",
     "text": [
      " 19%|█▉        | 4/21 [00:07<00:36,  2.14s/it]"
     ]
    },
    {
     "name": "stdout",
     "output_type": "stream",
     "text": [
      "Dhaka : DONE\n"
     ]
    },
    {
     "name": "stderr",
     "output_type": "stream",
     "text": [
      " 24%|██▍       | 5/21 [00:10<00:38,  2.40s/it]"
     ]
    },
    {
     "name": "stdout",
     "output_type": "stream",
     "text": [
      "Error with:  Ho Chi Minh City\n"
     ]
    },
    {
     "name": "stderr",
     "output_type": "stream",
     "text": [
      " 29%|██▊       | 6/21 [00:13<00:35,  2.35s/it]"
     ]
    },
    {
     "name": "stdout",
     "output_type": "stream",
     "text": [
      "Hyderabad : DONE\n"
     ]
    },
    {
     "name": "stderr",
     "output_type": "stream",
     "text": [
      "/tmp/jobtmp-yuanzf-1593279/ipykernel_489566/1495169434.py:4: DtypeWarning: Columns (1) have mixed types. Specify dtype option on import or set low_memory=False.\n",
      "  imgGDF = pd.read_csv(os.path.join(dirsave,'gsv_pano.csv'), header = None)\n",
      " 43%|████▎     | 9/21 [00:24<00:34,  2.84s/it]"
     ]
    },
    {
     "name": "stdout",
     "output_type": "stream",
     "text": [
      "Jakarta : DONE\n",
      "Error with:  Karachi\n",
      "Error with:  Kinshasa\n",
      "Error with:  Kolkata\n",
      "Error with:  Lahore\n"
     ]
    },
    {
     "name": "stderr",
     "output_type": "stream",
     "text": [
      " 57%|█████▋    | 12/21 [00:33<00:24,  2.77s/it]"
     ]
    },
    {
     "name": "stdout",
     "output_type": "stream",
     "text": [
      "Lima : DONE\n"
     ]
    },
    {
     "name": "stderr",
     "output_type": "stream",
     "text": [
      " 62%|██████▏   | 13/21 [00:33<00:18,  2.37s/it]"
     ]
    },
    {
     "name": "stdout",
     "output_type": "stream",
     "text": [
      "Error with:  Luanda\n"
     ]
    },
    {
     "name": "stderr",
     "output_type": "stream",
     "text": [
      " 67%|██████▋   | 14/21 [00:38<00:20,  2.91s/it]"
     ]
    },
    {
     "name": "stdout",
     "output_type": "stream",
     "text": [
      "Metro Manila : DONE\n"
     ]
    },
    {
     "name": "stderr",
     "output_type": "stream",
     "text": [
      "/tmp/jobtmp-yuanzf-1593279/ipykernel_489566/1495169434.py:4: DtypeWarning: Columns (1) have mixed types. Specify dtype option on import or set low_memory=False.\n",
      "  imgGDF = pd.read_csv(os.path.join(dirsave,'gsv_pano.csv'), header = None)\n",
      " 71%|███████▏  | 15/21 [00:46<00:24,  4.16s/it]"
     ]
    },
    {
     "name": "stdout",
     "output_type": "stream",
     "text": [
      "Nagoya : DONE\n",
      "Error with:  Osaka\n"
     ]
    },
    {
     "name": "stderr",
     "output_type": "stream",
     "text": [
      " 81%|████████  | 17/21 [00:56<00:17,  4.37s/it]"
     ]
    },
    {
     "name": "stdout",
     "output_type": "stream",
     "text": [
      "Rio de Janeiro : DONE\n",
      "Error with:  Tehran\n"
     ]
    },
    {
     "name": "stderr",
     "output_type": "stream",
     "text": [
      "/tmp/jobtmp-yuanzf-1593279/ipykernel_489566/1495169434.py:4: DtypeWarning: Columns (1) have mixed types. Specify dtype option on import or set low_memory=False.\n",
      "  imgGDF = pd.read_csv(os.path.join(dirsave,'gsv_pano.csv'), header = None)\n",
      " 90%|█████████ | 19/21 [01:04<00:08,  4.26s/it]"
     ]
    },
    {
     "name": "stdout",
     "output_type": "stream",
     "text": [
      "Milan : DONE\n"
     ]
    },
    {
     "name": "stderr",
     "output_type": "stream",
     "text": [
      "/tmp/jobtmp-yuanzf-1593279/ipykernel_489566/1495169434.py:4: DtypeWarning: Columns (1,2,3,4,5) have mixed types. Specify dtype option on import or set low_memory=False.\n",
      "  imgGDF = pd.read_csv(os.path.join(dirsave,'gsv_pano.csv'), header = None)\n",
      " 95%|█████████▌| 20/21 [01:04<00:03,  3.50s/it]"
     ]
    },
    {
     "name": "stdout",
     "output_type": "stream",
     "text": [
      "Error with:  Kuala Lumpur\n"
     ]
    },
    {
     "name": "stderr",
     "output_type": "stream",
     "text": [
      "/tmp/jobtmp-yuanzf-1593279/ipykernel_489566/1495169434.py:4: DtypeWarning: Columns (1) have mixed types. Specify dtype option on import or set low_memory=False.\n",
      "  imgGDF = pd.read_csv(os.path.join(dirsave,'gsv_pano.csv'), header = None)\n",
      "100%|██████████| 21/21 [01:13<00:00,  3.48s/it]"
     ]
    },
    {
     "name": "stdout",
     "output_type": "stream",
     "text": [
      "Toronto : DONE\n"
     ]
    },
    {
     "name": "stderr",
     "output_type": "stream",
     "text": [
      "\n"
     ]
    }
   ],
   "source": [
    "from tqdm import tqdm\n",
    "todo = city_meta[city_meta['GSV Downloaded']==''].index\n",
    "for city in tqdm(todo):\n",
    "    try:\n",
    "        clean_panoid(city)\n",
    "    except:\n",
    "        print(\"Error with: \", city)"
   ]
  },
  {
   "cell_type": "code",
   "execution_count": 27,
   "metadata": {},
   "outputs": [],
   "source": [
    "# Check data validaty, if no panoid return then mark the city as unavailable\n",
    "todo = city_meta[city_meta['GSV Downloaded']==''].index\n",
    "city_pano_size = {}\n",
    "for city in todo:\n",
    "    cityabbr = city.replace(\" \", \"\").lower()\n",
    "    dirsave = f'{GSVROOT}/{cityabbr}/gsvmeta'\n",
    "    try:\n",
    "        imgGDF = pd.read_csv(os.path.join(dirsave,'gsv_pano.csv'))\n",
    "        city_pano_size[city] = imgGDF.shape[0]\n",
    "    except:\n",
    "        city_pano_size[city] = 0"
   ]
  },
  {
   "cell_type": "code",
   "execution_count": 9,
   "metadata": {},
   "outputs": [],
   "source": [
    "# Plot the distribution of all points\n",
    "gdf = gpd.GeoDataFrame(\n",
    "    imgGDF2, geometry=gpd.points_from_xy(imgGDF2.lon, imgGDF2.lat))\n",
    "gdf.crs = \"EPSG:4326\""
   ]
  },
  {
   "cell_type": "code",
   "execution_count": 10,
   "metadata": {
    "collapsed": true,
    "jupyter": {
     "outputs_hidden": true
    },
    "tags": []
   },
   "outputs": [
    {
     "data": {
      "text/plain": [
       "<Axes: >"
      ]
     },
     "execution_count": 10,
     "metadata": {},
     "output_type": "execute_result"
    },
    {
     "data": {
      "image/png": "[encoded data removed]",
      "text/plain": [
       "<Figure size 1000x1000 with 2 Axes>"
      ]
     },
     "metadata": {},
     "output_type": "display_data"
    }
   ],
   "source": [
    "gdf.plot(figsize = (10,10), \n",
    "         column = 'year', \n",
    "         markersize = 0.1, \n",
    "         legend = True)"
   ]
  },
  {
   "cell_type": "markdown",
   "metadata": {},
   "source": [
    "# 3. label the Panoid Selectively for reducing data download size (continue in 01b_download2.ipynb)"
   ]
  },
  {
   "cell_type": "code",
   "execution_count": null,
   "metadata": {},
   "outputs": [],
   "source": []
  },
  {
   "cell_type": "markdown",
   "metadata": {},
   "source": [
    "# 4.Download images"
   ]
  },
  {
   "cell_type": "code",
   "execution_count": 41,
   "metadata": {},
   "outputs": [
    {
     "name": "stdout",
     "output_type": "stream",
     "text": [
      "1\n",
      "4\n",
      "7\n",
      "10\n"
     ]
    }
   ],
   "source": [
    "line = \"\"\"python ./Request_GSV_images_pl.py --city={cityabbr}\"\"\"\n",
    "cityls = [city for city, v in city_pano_size.items() if v>5000]\n",
    "for i in range(1, len(cityls), 3):\n",
    "    print(i)\n",
    "    with open(f'./downloadGSV/gsv_img_download_{i}.sh', 'w') as the_file:\n",
    "        for city in cityls[i:i+3]:\n",
    "            cityabbr = city.lower().replace(\" \", \"\")\n",
    "            the_file.write(\n",
    "                line.format(cityabbr = cityabbr)+'\\n'\n",
    "            )"
   ]
  },
  {
   "cell_type": "code",
   "execution_count": 10,
   "metadata": {
    "tags": []
   },
   "outputs": [
    {
     "name": "stdout",
     "output_type": "stream",
     "text": [
      "\n",
      "    rsync -aP /lustre1/g/geog_pyloo/05_timemachine/GSV/gsv_rgb/bangkok yuanzf@ai-research:/group/geog_pyloo/08_GSV/data/gsv_rgb/\n",
      "    \n"
     ]
    }
   ],
   "source": [
    "# Send these cities to ai-research for batch downloading\n",
    "to_transfer = [\n",
    "    # 'kualalumpur','toronto','nagoya', 'milan', 'riodejaneiro', 'jakarta', 'lima', 'metromanila'\n",
    "    'bangkok'\n",
    "]\n",
    "for city in to_transfer:\n",
    "    cityabbr = city.replace(\" \", \"\").lower()\n",
    "    dirsave = f'{GSVROOT}/{cityabbr}'\n",
    "    rsyncline = \"\"\"\n",
    "    rsync -aP {dirsave} yuanzf@ai-research:/group/geog_pyloo/08_GSV/data/gsv_rgb/\n",
    "    \"\"\".format(dirsave = dirsave)\n",
    "    print(rsyncline) # IlmfaMf100y"
   ]
  },
  {
   "cell_type": "code",
   "execution_count": 15,
   "metadata": {},
   "outputs": [
    {
     "data": {
      "text/html": [
       "<div>\n",
       "<style scoped>\n",
       "    .dataframe tbody tr th:only-of-type {\n",
       "        vertical-align: middle;\n",
       "    }\n",
       "\n",
       "    .dataframe tbody tr th {\n",
       "        vertical-align: top;\n",
       "    }\n",
       "\n",
       "    .dataframe thead th {\n",
       "        text-align: right;\n",
       "    }\n",
       "</style>\n",
       "<table border=\"1\" class=\"dataframe\">\n",
       "  <thead>\n",
       "    <tr style=\"text-align: right;\">\n",
       "      <th></th>\n",
       "      <th>geometry</th>\n",
       "      <th>newID</th>\n",
       "      <th>lat</th>\n",
       "      <th>lon</th>\n",
       "      <th>id</th>\n",
       "    </tr>\n",
       "  </thead>\n",
       "  <tbody>\n",
       "    <tr>\n",
       "      <th>0</th>\n",
       "      <td>POINT (-70.75601 41.96089)</td>\n",
       "      <td>8826674_0</td>\n",
       "      <td>41.960888</td>\n",
       "      <td>-70.756013</td>\n",
       "      <td>0</td>\n",
       "    </tr>\n",
       "    <tr>\n",
       "      <th>1</th>\n",
       "      <td>POINT (-70.75606 41.96110)</td>\n",
       "      <td>8826674_1</td>\n",
       "      <td>41.961097</td>\n",
       "      <td>-70.756059</td>\n",
       "      <td>1</td>\n",
       "    </tr>\n",
       "    <tr>\n",
       "      <th>2</th>\n",
       "      <td>POINT (-70.75580 41.96078)</td>\n",
       "      <td>1127937227_2</td>\n",
       "      <td>41.960777</td>\n",
       "      <td>-70.755805</td>\n",
       "      <td>2</td>\n",
       "    </tr>\n",
       "    <tr>\n",
       "      <th>3</th>\n",
       "      <td>POINT (-70.75531 41.96069)</td>\n",
       "      <td>1127937227_2</td>\n",
       "      <td>41.960693</td>\n",
       "      <td>-70.755310</td>\n",
       "      <td>3</td>\n",
       "    </tr>\n",
       "    <tr>\n",
       "      <th>4</th>\n",
       "      <td>POINT (-70.71657 41.96705)</td>\n",
       "      <td>8826704_3</td>\n",
       "      <td>41.967052</td>\n",
       "      <td>-70.716567</td>\n",
       "      <td>4</td>\n",
       "    </tr>\n",
       "  </tbody>\n",
       "</table>\n",
       "</div>"
      ],
      "text/plain": [
       "                     geometry         newID        lat        lon  id\n",
       "0  POINT (-70.75601 41.96089)     8826674_0  41.960888 -70.756013   0\n",
       "1  POINT (-70.75606 41.96110)     8826674_1  41.961097 -70.756059   1\n",
       "2  POINT (-70.75580 41.96078)  1127937227_2  41.960777 -70.755805   2\n",
       "3  POINT (-70.75531 41.96069)  1127937227_2  41.960693 -70.755310   3\n",
       "4  POINT (-70.71657 41.96705)     8826704_3  41.967052 -70.716567   4"
      ]
     },
     "execution_count": 15,
     "metadata": {},
     "output_type": "execute_result"
    }
   ],
   "source": [
    "pointDF = pd.read_pickle(os.path.join(dirsave,'sentPt.p'))\n",
    "pointDF.head()"
   ]
  },
  {
   "cell_type": "code",
   "execution_count": 50,
   "metadata": {},
   "outputs": [],
   "source": [
    "imgGDF2['id'] = imgGDF2['id'].astype(float).astype(int)"
   ]
  },
  {
   "cell_type": "code",
   "execution_count": 52,
   "metadata": {},
   "outputs": [
    {
     "data": {
      "text/plain": [
       "(2790970, 5)"
      ]
     },
     "execution_count": 52,
     "metadata": {},
     "output_type": "execute_result"
    }
   ],
   "source": [
    "pointDF = pointDF[~pointDF['id'].isin(finished['id'])].reset_index(drop=True)\n",
    "pointDF.shape"
   ]
  },
  {
   "cell_type": "code",
   "execution_count": 51,
   "metadata": {},
   "outputs": [],
   "source": [
    "finished = pd.read_csv(os.path.join(dirsave+\"_2\",'gsv_pano.csv'))\n"
   ]
  },
  {
   "cell_type": "code",
   "execution_count": 16,
   "metadata": {
    "collapsed": true,
    "jupyter": {
     "outputs_hidden": true
    },
    "tags": []
   },
   "outputs": [
    {
     "ename": "TypeError",
     "evalue": "must be real number, not str",
     "output_type": "error",
     "traceback": [
      "\u001b[0;31m---------------------------------------------------------------------------\u001b[0m",
      "\u001b[0;31mTypeError\u001b[0m                                 Traceback (most recent call last)",
      "\u001b[0;32m/tmp/ipykernel_654971/1241897686.py\u001b[0m in \u001b[0;36m<module>\u001b[0;34m\u001b[0m\n\u001b[1;32m      2\u001b[0m \u001b[0;32mimport\u001b[0m \u001b[0mh3\u001b[0m\u001b[0;34m\u001b[0m\u001b[0;34m\u001b[0m\u001b[0m\n\u001b[1;32m      3\u001b[0m \u001b[0mres\u001b[0m \u001b[0;34m=\u001b[0m \u001b[0;36m9\u001b[0m\u001b[0;34m\u001b[0m\u001b[0;34m\u001b[0m\u001b[0m\n\u001b[0;32m----> 4\u001b[0;31m \u001b[0mimgGDF\u001b[0m\u001b[0;34m[\u001b[0m\u001b[0;34mf'h3_{res}'\u001b[0m\u001b[0;34m]\u001b[0m \u001b[0;34m=\u001b[0m \u001b[0mimgGDF\u001b[0m\u001b[0;34m.\u001b[0m\u001b[0mapply\u001b[0m\u001b[0;34m(\u001b[0m\u001b[0;32mlambda\u001b[0m \u001b[0mx\u001b[0m\u001b[0;34m:\u001b[0m \u001b[0mh3\u001b[0m\u001b[0;34m.\u001b[0m\u001b[0mgeo_to_h3\u001b[0m\u001b[0;34m(\u001b[0m\u001b[0mx\u001b[0m\u001b[0;34m.\u001b[0m\u001b[0mlat\u001b[0m\u001b[0;34m,\u001b[0m \u001b[0mx\u001b[0m\u001b[0;34m.\u001b[0m\u001b[0mlon\u001b[0m\u001b[0;34m,\u001b[0m \u001b[0;36m9\u001b[0m\u001b[0;34m)\u001b[0m\u001b[0;34m,\u001b[0m \u001b[0maxis\u001b[0m\u001b[0;34m=\u001b[0m\u001b[0;36m1\u001b[0m\u001b[0;34m)\u001b[0m\u001b[0;34m\u001b[0m\u001b[0;34m\u001b[0m\u001b[0m\n\u001b[0m\u001b[1;32m      5\u001b[0m \u001b[0msummary\u001b[0m \u001b[0;34m=\u001b[0m \u001b[0mimgGDF\u001b[0m\u001b[0;34m.\u001b[0m\u001b[0mgroupby\u001b[0m\u001b[0;34m(\u001b[0m\u001b[0;34m[\u001b[0m\u001b[0;34mf'h3_{res}'\u001b[0m\u001b[0;34m,\u001b[0m \u001b[0;34m'year'\u001b[0m\u001b[0;34m]\u001b[0m\u001b[0;34m)\u001b[0m\u001b[0;34m.\u001b[0m\u001b[0msize\u001b[0m\u001b[0;34m(\u001b[0m\u001b[0;34m)\u001b[0m\u001b[0;34m.\u001b[0m\u001b[0mreset_index\u001b[0m\u001b[0;34m(\u001b[0m\u001b[0mname\u001b[0m\u001b[0;34m=\u001b[0m\u001b[0;34m'counts'\u001b[0m\u001b[0;34m)\u001b[0m\u001b[0;34m\u001b[0m\u001b[0;34m\u001b[0m\u001b[0m\n\u001b[1;32m      6\u001b[0m \u001b[0msummary\u001b[0m\u001b[0;34m.\u001b[0m\u001b[0mhead\u001b[0m\u001b[0;34m(\u001b[0m\u001b[0;34m)\u001b[0m\u001b[0;34m\u001b[0m\u001b[0;34m\u001b[0m\u001b[0m\n",
      "\u001b[0;32m~/anaconda3/envs/geo38/lib/python3.8/site-packages/pandas/core/frame.py\u001b[0m in \u001b[0;36mapply\u001b[0;34m(self, func, axis, raw, result_type, args, **kwargs)\u001b[0m\n\u001b[1;32m   8739\u001b[0m             \u001b[0mkwargs\u001b[0m\u001b[0;34m=\u001b[0m\u001b[0mkwargs\u001b[0m\u001b[0;34m,\u001b[0m\u001b[0;34m\u001b[0m\u001b[0;34m\u001b[0m\u001b[0m\n\u001b[1;32m   8740\u001b[0m         )\n\u001b[0;32m-> 8741\u001b[0;31m         \u001b[0;32mreturn\u001b[0m \u001b[0mop\u001b[0m\u001b[0;34m.\u001b[0m\u001b[0mapply\u001b[0m\u001b[0;34m(\u001b[0m\u001b[0;34m)\u001b[0m\u001b[0;34m\u001b[0m\u001b[0;34m\u001b[0m\u001b[0m\n\u001b[0m\u001b[1;32m   8742\u001b[0m \u001b[0;34m\u001b[0m\u001b[0m\n\u001b[1;32m   8743\u001b[0m     def applymap(\n",
      "\u001b[0;32m~/anaconda3/envs/geo38/lib/python3.8/site-packages/pandas/core/apply.py\u001b[0m in \u001b[0;36mapply\u001b[0;34m(self)\u001b[0m\n\u001b[1;32m    686\u001b[0m             \u001b[0;32mreturn\u001b[0m \u001b[0mself\u001b[0m\u001b[0;34m.\u001b[0m\u001b[0mapply_raw\u001b[0m\u001b[0;34m(\u001b[0m\u001b[0;34m)\u001b[0m\u001b[0;34m\u001b[0m\u001b[0;34m\u001b[0m\u001b[0m\n\u001b[1;32m    687\u001b[0m \u001b[0;34m\u001b[0m\u001b[0m\n\u001b[0;32m--> 688\u001b[0;31m         \u001b[0;32mreturn\u001b[0m \u001b[0mself\u001b[0m\u001b[0;34m.\u001b[0m\u001b[0mapply_standard\u001b[0m\u001b[0;34m(\u001b[0m\u001b[0;34m)\u001b[0m\u001b[0;34m\u001b[0m\u001b[0;34m\u001b[0m\u001b[0m\n\u001b[0m\u001b[1;32m    689\u001b[0m \u001b[0;34m\u001b[0m\u001b[0m\n\u001b[1;32m    690\u001b[0m     \u001b[0;32mdef\u001b[0m \u001b[0magg\u001b[0m\u001b[0;34m(\u001b[0m\u001b[0mself\u001b[0m\u001b[0;34m)\u001b[0m\u001b[0;34m:\u001b[0m\u001b[0;34m\u001b[0m\u001b[0;34m\u001b[0m\u001b[0m\n",
      "\u001b[0;32m~/anaconda3/envs/geo38/lib/python3.8/site-packages/pandas/core/apply.py\u001b[0m in \u001b[0;36mapply_standard\u001b[0;34m(self)\u001b[0m\n\u001b[1;32m    810\u001b[0m \u001b[0;34m\u001b[0m\u001b[0m\n\u001b[1;32m    811\u001b[0m     \u001b[0;32mdef\u001b[0m \u001b[0mapply_standard\u001b[0m\u001b[0;34m(\u001b[0m\u001b[0mself\u001b[0m\u001b[0;34m)\u001b[0m\u001b[0;34m:\u001b[0m\u001b[0;34m\u001b[0m\u001b[0;34m\u001b[0m\u001b[0m\n\u001b[0;32m--> 812\u001b[0;31m         \u001b[0mresults\u001b[0m\u001b[0;34m,\u001b[0m \u001b[0mres_index\u001b[0m \u001b[0;34m=\u001b[0m \u001b[0mself\u001b[0m\u001b[0;34m.\u001b[0m\u001b[0mapply_series_generator\u001b[0m\u001b[0;34m(\u001b[0m\u001b[0;34m)\u001b[0m\u001b[0;34m\u001b[0m\u001b[0;34m\u001b[0m\u001b[0m\n\u001b[0m\u001b[1;32m    813\u001b[0m \u001b[0;34m\u001b[0m\u001b[0m\n\u001b[1;32m    814\u001b[0m         \u001b[0;31m# wrap results\u001b[0m\u001b[0;34m\u001b[0m\u001b[0;34m\u001b[0m\u001b[0;34m\u001b[0m\u001b[0m\n",
      "\u001b[0;32m~/anaconda3/envs/geo38/lib/python3.8/site-packages/pandas/core/apply.py\u001b[0m in \u001b[0;36mapply_series_generator\u001b[0;34m(self)\u001b[0m\n\u001b[1;32m    826\u001b[0m             \u001b[0;32mfor\u001b[0m \u001b[0mi\u001b[0m\u001b[0;34m,\u001b[0m \u001b[0mv\u001b[0m \u001b[0;32min\u001b[0m \u001b[0menumerate\u001b[0m\u001b[0;34m(\u001b[0m\u001b[0mseries_gen\u001b[0m\u001b[0;34m)\u001b[0m\u001b[0;34m:\u001b[0m\u001b[0;34m\u001b[0m\u001b[0;34m\u001b[0m\u001b[0m\n\u001b[1;32m    827\u001b[0m                 \u001b[0;31m# ignore SettingWithCopy here in case the user mutates\u001b[0m\u001b[0;34m\u001b[0m\u001b[0;34m\u001b[0m\u001b[0;34m\u001b[0m\u001b[0m\n\u001b[0;32m--> 828\u001b[0;31m                 \u001b[0mresults\u001b[0m\u001b[0;34m[\u001b[0m\u001b[0mi\u001b[0m\u001b[0;34m]\u001b[0m \u001b[0;34m=\u001b[0m \u001b[0mself\u001b[0m\u001b[0;34m.\u001b[0m\u001b[0mf\u001b[0m\u001b[0;34m(\u001b[0m\u001b[0mv\u001b[0m\u001b[0;34m)\u001b[0m\u001b[0;34m\u001b[0m\u001b[0;34m\u001b[0m\u001b[0m\n\u001b[0m\u001b[1;32m    829\u001b[0m                 \u001b[0;32mif\u001b[0m \u001b[0misinstance\u001b[0m\u001b[0;34m(\u001b[0m\u001b[0mresults\u001b[0m\u001b[0;34m[\u001b[0m\u001b[0mi\u001b[0m\u001b[0;34m]\u001b[0m\u001b[0;34m,\u001b[0m \u001b[0mABCSeries\u001b[0m\u001b[0;34m)\u001b[0m\u001b[0;34m:\u001b[0m\u001b[0;34m\u001b[0m\u001b[0;34m\u001b[0m\u001b[0m\n\u001b[1;32m    830\u001b[0m                     \u001b[0;31m# If we have a view on v, we need to make a copy because\u001b[0m\u001b[0;34m\u001b[0m\u001b[0;34m\u001b[0m\u001b[0;34m\u001b[0m\u001b[0m\n",
      "\u001b[0;32m/tmp/ipykernel_654971/1241897686.py\u001b[0m in \u001b[0;36m<lambda>\u001b[0;34m(x)\u001b[0m\n\u001b[1;32m      2\u001b[0m \u001b[0;32mimport\u001b[0m \u001b[0mh3\u001b[0m\u001b[0;34m\u001b[0m\u001b[0;34m\u001b[0m\u001b[0m\n\u001b[1;32m      3\u001b[0m \u001b[0mres\u001b[0m \u001b[0;34m=\u001b[0m \u001b[0;36m9\u001b[0m\u001b[0;34m\u001b[0m\u001b[0;34m\u001b[0m\u001b[0m\n\u001b[0;32m----> 4\u001b[0;31m \u001b[0mimgGDF\u001b[0m\u001b[0;34m[\u001b[0m\u001b[0;34mf'h3_{res}'\u001b[0m\u001b[0;34m]\u001b[0m \u001b[0;34m=\u001b[0m \u001b[0mimgGDF\u001b[0m\u001b[0;34m.\u001b[0m\u001b[0mapply\u001b[0m\u001b[0;34m(\u001b[0m\u001b[0;32mlambda\u001b[0m \u001b[0mx\u001b[0m\u001b[0;34m:\u001b[0m \u001b[0mh3\u001b[0m\u001b[0;34m.\u001b[0m\u001b[0mgeo_to_h3\u001b[0m\u001b[0;34m(\u001b[0m\u001b[0mx\u001b[0m\u001b[0;34m.\u001b[0m\u001b[0mlat\u001b[0m\u001b[0;34m,\u001b[0m \u001b[0mx\u001b[0m\u001b[0;34m.\u001b[0m\u001b[0mlon\u001b[0m\u001b[0;34m,\u001b[0m \u001b[0;36m9\u001b[0m\u001b[0;34m)\u001b[0m\u001b[0;34m,\u001b[0m \u001b[0maxis\u001b[0m\u001b[0;34m=\u001b[0m\u001b[0;36m1\u001b[0m\u001b[0;34m)\u001b[0m\u001b[0;34m\u001b[0m\u001b[0;34m\u001b[0m\u001b[0m\n\u001b[0m\u001b[1;32m      5\u001b[0m \u001b[0msummary\u001b[0m \u001b[0;34m=\u001b[0m \u001b[0mimgGDF\u001b[0m\u001b[0;34m.\u001b[0m\u001b[0mgroupby\u001b[0m\u001b[0;34m(\u001b[0m\u001b[0;34m[\u001b[0m\u001b[0;34mf'h3_{res}'\u001b[0m\u001b[0;34m,\u001b[0m \u001b[0;34m'year'\u001b[0m\u001b[0;34m]\u001b[0m\u001b[0;34m)\u001b[0m\u001b[0;34m.\u001b[0m\u001b[0msize\u001b[0m\u001b[0;34m(\u001b[0m\u001b[0;34m)\u001b[0m\u001b[0;34m.\u001b[0m\u001b[0mreset_index\u001b[0m\u001b[0;34m(\u001b[0m\u001b[0mname\u001b[0m\u001b[0;34m=\u001b[0m\u001b[0;34m'counts'\u001b[0m\u001b[0;34m)\u001b[0m\u001b[0;34m\u001b[0m\u001b[0;34m\u001b[0m\u001b[0m\n\u001b[1;32m      6\u001b[0m \u001b[0msummary\u001b[0m\u001b[0;34m.\u001b[0m\u001b[0mhead\u001b[0m\u001b[0;34m(\u001b[0m\u001b[0;34m)\u001b[0m\u001b[0;34m\u001b[0m\u001b[0;34m\u001b[0m\u001b[0m\n",
      "\u001b[0;32m~/anaconda3/envs/geo38/lib/python3.8/site-packages/h3/api/_api_template.py\u001b[0m in \u001b[0;36mgeo_to_h3\u001b[0;34m(self, lat, lng, resolution)\u001b[0m\n\u001b[1;32m    192\u001b[0m \u001b[0;34m\u001b[0m\u001b[0m\n\u001b[1;32m    193\u001b[0m         \"\"\"\n\u001b[0;32m--> 194\u001b[0;31m         \u001b[0;32mreturn\u001b[0m \u001b[0mself\u001b[0m\u001b[0;34m.\u001b[0m\u001b[0m_out_scalar\u001b[0m\u001b[0;34m(\u001b[0m\u001b[0m_cy\u001b[0m\u001b[0;34m.\u001b[0m\u001b[0mgeo_to_h3\u001b[0m\u001b[0;34m(\u001b[0m\u001b[0mlat\u001b[0m\u001b[0;34m,\u001b[0m \u001b[0mlng\u001b[0m\u001b[0;34m,\u001b[0m \u001b[0mresolution\u001b[0m\u001b[0;34m)\u001b[0m\u001b[0;34m)\u001b[0m\u001b[0;34m\u001b[0m\u001b[0;34m\u001b[0m\u001b[0m\n\u001b[0m\u001b[1;32m    195\u001b[0m \u001b[0;34m\u001b[0m\u001b[0m\n\u001b[1;32m    196\u001b[0m     \u001b[0;32mdef\u001b[0m \u001b[0mh3_to_geo\u001b[0m\u001b[0;34m(\u001b[0m\u001b[0mself\u001b[0m\u001b[0;34m,\u001b[0m \u001b[0mh\u001b[0m\u001b[0;34m)\u001b[0m\u001b[0;34m:\u001b[0m\u001b[0;34m\u001b[0m\u001b[0;34m\u001b[0m\u001b[0m\n",
      "\u001b[0;32mgeo.pyx\u001b[0m in \u001b[0;36mh3._cy.geo.geo_to_h3\u001b[0;34m()\u001b[0m\n",
      "\u001b[0;31mTypeError\u001b[0m: must be real number, not str"
     ]
    }
   ],
   "source": [
    "# check the panoid's distribution by h3 index\n",
    "import h3\n",
    "res = 9\n",
    "imgGDF[f'h3_{res}'] = imgGDF.apply(lambda x: h3.geo_to_h3(x.lat, x.lon, 9), axis=1)\n",
    "summary = imgGDF.groupby([f'h3_{res}', 'year']).size().reset_index(name='counts')\n",
    "summary.head()"
   ]
  },
  {
   "cell_type": "code",
   "execution_count": 79,
   "metadata": {},
   "outputs": [
    {
     "data": {
      "text/plain": [
       "5"
      ]
     },
     "execution_count": 79,
     "metadata": {},
     "output_type": "execute_result"
    }
   ],
   "source": [
    "# group the years by every 3 years\n",
    "imgGDF['year_group'] = imgGDF['year'].apply(lambda x: int(x/3)*3)\n",
    "imgGDF['year_group'].nunique()"
   ]
  },
  {
   "cell_type": "code",
   "execution_count": 88,
   "metadata": {},
   "outputs": [
    {
     "data": {
      "text/plain": [
       "(834288, 8)"
      ]
     },
     "execution_count": 88,
     "metadata": {},
     "output_type": "execute_result"
    }
   ],
   "source": [
    "# summary['counts'].describe()\n",
    "# each h3 index we sample 10 image per year, if the population is less than 10, we sample all\n",
    "imgGDF_sample = imgGDF.groupby([f'h3_{res}', 'year_group']).apply(lambda x: x.sample(10) if len(x)>10 else x)\\\n",
    "    .reset_index(drop = True)\n",
    "imgGDF_sample.shape"
   ]
  },
  {
   "cell_type": "code",
   "execution_count": 95,
   "metadata": {},
   "outputs": [],
   "source": [
    "imgGDF_sample.to_pickle(os.path.join(dirsave,'gsv_pano_sampled.p'))"
   ]
  },
  {
   "cell_type": "markdown",
   "metadata": {},
   "source": [
    "# 2. Check progress of all"
   ]
  },
  {
   "cell_type": "markdown",
   "metadata": {},
   "source": [
    "# 2. Write a script to tar archive data and transfer to hpc"
   ]
  },
  {
   "cell_type": "code",
   "execution_count": 2,
   "metadata": {
    "collapsed": true,
    "jupyter": {
     "outputs_hidden": true
    },
    "tags": []
   },
   "outputs": [
    {
     "name": "stdout",
     "output_type": "stream",
     "text": [
      "\n",
      "cd 08_GSV/data/gsv_rgb\n",
      "tar -czvf saopaulo.tar.gz ./saopaulo\n",
      "rsync -azP saopaulo.tar.gz yuanzf@hpc2021.hku.hk:/lustre1/g/geog_pyloo/05_timemachine/GSV/gsv_rgb/\n",
      "rm saopaulo.tar.gz\n",
      "\n",
      "\n",
      "cd 08_GSV/data/gsv_rgb\n",
      "tar -czvf hongkong.tar.gz ./hongkong\n",
      "rsync -azP hongkong.tar.gz yuanzf@hpc2021.hku.hk:/lustre1/g/geog_pyloo/05_timemachine/GSV/gsv_rgb/\n",
      "rm hongkong.tar.gz\n",
      "\n",
      "\n",
      "cd 08_GSV/data/gsv_rgb\n",
      "tar -czvf london.tar.gz ./london\n",
      "rsync -azP london.tar.gz yuanzf@hpc2021.hku.hk:/lustre1/g/geog_pyloo/05_timemachine/GSV/gsv_rgb/\n",
      "rm london.tar.gz\n",
      "\n",
      "\n",
      "cd 08_GSV/data/gsv_rgb\n",
      "tar -czvf boston.tar.gz ./boston\n",
      "rsync -azP boston.tar.gz yuanzf@hpc2021.hku.hk:/lustre1/g/geog_pyloo/05_timemachine/GSV/gsv_rgb/\n",
      "rm boston.tar.gz\n",
      "\n",
      "\n",
      "cd 08_GSV/data/gsv_rgb\n",
      "tar -czvf chicago.tar.gz ./chicago\n",
      "rsync -azP chicago.tar.gz yuanzf@hpc2021.hku.hk:/lustre1/g/geog_pyloo/05_timemachine/GSV/gsv_rgb/\n",
      "rm chicago.tar.gz\n",
      "\n",
      "\n",
      "cd 08_GSV/data/gsv_rgb\n",
      "tar -czvf worcester.tar.gz ./worcester\n",
      "rsync -azP worcester.tar.gz yuanzf@hpc2021.hku.hk:/lustre1/g/geog_pyloo/05_timemachine/GSV/gsv_rgb/\n",
      "rm worcester.tar.gz\n",
      "\n",
      "\n",
      "cd 08_GSV/data/gsv_rgb\n",
      "tar -czvf springfield.tar.gz ./springfield\n",
      "rsync -azP springfield.tar.gz yuanzf@hpc2021.hku.hk:/lustre1/g/geog_pyloo/05_timemachine/GSV/gsv_rgb/\n",
      "rm springfield.tar.gz\n",
      "\n",
      "\n",
      "cd 08_GSV/data/gsv_rgb\n",
      "tar -czvf pittsfield.tar.gz ./pittsfield\n",
      "rsync -azP pittsfield.tar.gz yuanzf@hpc2021.hku.hk:/lustre1/g/geog_pyloo/05_timemachine/GSV/gsv_rgb/\n",
      "rm pittsfield.tar.gz\n",
      "\n",
      "\n",
      "cd 08_GSV/data/gsv_rgb\n",
      "tar -czvf gaborone.tar.gz ./gaborone\n",
      "rsync -azP gaborone.tar.gz yuanzf@hpc2021.hku.hk:/lustre1/g/geog_pyloo/05_timemachine/GSV/gsv_rgb/\n",
      "rm gaborone.tar.gz\n",
      "\n",
      "\n",
      "cd 08_GSV/data/gsv_rgb\n",
      "tar -czvf bangalore.tar.gz ./bangalore\n",
      "rsync -azP bangalore.tar.gz yuanzf@hpc2021.hku.hk:/lustre1/g/geog_pyloo/05_timemachine/GSV/gsv_rgb/\n",
      "rm bangalore.tar.gz\n",
      "\n",
      "\n",
      "cd 08_GSV/data/gsv_rgb\n",
      "tar -czvf jerusalem.tar.gz ./jerusalem\n",
      "rsync -azP jerusalem.tar.gz yuanzf@hpc2021.hku.hk:/lustre1/g/geog_pyloo/05_timemachine/GSV/gsv_rgb/\n",
      "rm jerusalem.tar.gz\n",
      "\n",
      "\n",
      "cd 08_GSV/data/gsv_rgb\n",
      "tar -czvf mexicocity.tar.gz ./mexicocity\n",
      "rsync -azP mexicocity.tar.gz yuanzf@hpc2021.hku.hk:/lustre1/g/geog_pyloo/05_timemachine/GSV/gsv_rgb/\n",
      "rm mexicocity.tar.gz\n",
      "\n",
      "\n",
      "cd 08_GSV/data/gsv_rgb\n",
      "tar -czvf caymanislands.tar.gz ./caymanislands\n",
      "rsync -azP caymanislands.tar.gz yuanzf@hpc2021.hku.hk:/lustre1/g/geog_pyloo/05_timemachine/GSV/gsv_rgb/\n",
      "rm caymanislands.tar.gz\n",
      "\n",
      "\n",
      "cd 08_GSV/data/gsv_rgb\n",
      "tar -czvf moscow.tar.gz ./moscow\n",
      "rsync -azP moscow.tar.gz yuanzf@hpc2021.hku.hk:/lustre1/g/geog_pyloo/05_timemachine/GSV/gsv_rgb/\n",
      "rm moscow.tar.gz\n",
      "\n",
      "\n",
      "cd 08_GSV/data/gsv_rgb\n",
      "tar -czvf istanbul.tar.gz ./istanbul\n",
      "rsync -azP istanbul.tar.gz yuanzf@hpc2021.hku.hk:/lustre1/g/geog_pyloo/05_timemachine/GSV/gsv_rgb/\n",
      "rm istanbul.tar.gz\n",
      "\n",
      "\n",
      "cd 08_GSV/data/gsv_rgb\n",
      "tar -czvf nairobi.tar.gz ./nairobi\n",
      "rsync -azP nairobi.tar.gz yuanzf@hpc2021.hku.hk:/lustre1/g/geog_pyloo/05_timemachine/GSV/gsv_rgb/\n",
      "rm nairobi.tar.gz\n",
      "\n",
      "\n",
      "cd 08_GSV/data/gsv_rgb\n",
      "tar -czvf capetown.tar.gz ./capetown\n",
      "rsync -azP capetown.tar.gz yuanzf@hpc2021.hku.hk:/lustre1/g/geog_pyloo/05_timemachine/GSV/gsv_rgb/\n",
      "rm capetown.tar.gz\n",
      "\n",
      "\n",
      "cd 08_GSV/data/gsv_rgb\n",
      "tar -czvf johannesburg.tar.gz ./johannesburg\n",
      "rsync -azP johannesburg.tar.gz yuanzf@hpc2021.hku.hk:/lustre1/g/geog_pyloo/05_timemachine/GSV/gsv_rgb/\n",
      "rm johannesburg.tar.gz\n",
      "\n",
      "\n",
      "cd 08_GSV/data/gsv_rgb\n",
      "tar -czvf seoul.tar.gz ./seoul\n",
      "rsync -azP seoul.tar.gz yuanzf@hpc2021.hku.hk:/lustre1/g/geog_pyloo/05_timemachine/GSV/gsv_rgb/\n",
      "rm seoul.tar.gz\n",
      "\n",
      "\n",
      "cd 08_GSV/data/gsv_rgb\n",
      "tar -czvf tokyo.tar.gz ./tokyo\n",
      "rsync -azP tokyo.tar.gz yuanzf@hpc2021.hku.hk:/lustre1/g/geog_pyloo/05_timemachine/GSV/gsv_rgb/\n",
      "rm tokyo.tar.gz\n",
      "\n",
      "\n",
      "cd 08_GSV/data/gsv_rgb\n",
      "tar -czvf sydney.tar.gz ./sydney\n",
      "rsync -azP sydney.tar.gz yuanzf@hpc2021.hku.hk:/lustre1/g/geog_pyloo/05_timemachine/GSV/gsv_rgb/\n",
      "rm sydney.tar.gz\n",
      "\n",
      "\n",
      "cd 08_GSV/data/gsv_rgb\n",
      "tar -czvf rome.tar.gz ./rome\n",
      "rsync -azP rome.tar.gz yuanzf@hpc2021.hku.hk:/lustre1/g/geog_pyloo/05_timemachine/GSV/gsv_rgb/\n",
      "rm rome.tar.gz\n",
      "\n",
      "\n",
      "cd 08_GSV/data/gsv_rgb\n",
      "tar -czvf berlin.tar.gz ./berlin\n",
      "rsync -azP berlin.tar.gz yuanzf@hpc2021.hku.hk:/lustre1/g/geog_pyloo/05_timemachine/GSV/gsv_rgb/\n",
      "rm berlin.tar.gz\n",
      "\n",
      "\n",
      "cd 08_GSV/data/gsv_rgb\n",
      "tar -czvf newyork.tar.gz ./newyork\n",
      "rsync -azP newyork.tar.gz yuanzf@hpc2021.hku.hk:/lustre1/g/geog_pyloo/05_timemachine/GSV/gsv_rgb/\n",
      "rm newyork.tar.gz\n",
      "\n",
      "\n",
      "cd 08_GSV/data/gsv_rgb\n",
      "tar -czvf paris.tar.gz ./paris\n",
      "rsync -azP paris.tar.gz yuanzf@hpc2021.hku.hk:/lustre1/g/geog_pyloo/05_timemachine/GSV/gsv_rgb/\n",
      "rm paris.tar.gz\n",
      "\n",
      "\n",
      "cd 08_GSV/data/gsv_rgb\n",
      "tar -czvf madrid.tar.gz ./madrid\n",
      "rsync -azP madrid.tar.gz yuanzf@hpc2021.hku.hk:/lustre1/g/geog_pyloo/05_timemachine/GSV/gsv_rgb/\n",
      "rm madrid.tar.gz\n",
      "\n",
      "\n",
      "cd 08_GSV/data/gsv_rgb\n",
      "tar -czvf singapore.tar.gz ./singapore\n",
      "rsync -azP singapore.tar.gz yuanzf@hpc2021.hku.hk:/lustre1/g/geog_pyloo/05_timemachine/GSV/gsv_rgb/\n",
      "rm singapore.tar.gz\n",
      "\n",
      "\n",
      "cd 08_GSV/data/gsv_rgb\n",
      "tar -czvf munich.tar.gz ./munich\n",
      "rsync -azP munich.tar.gz yuanzf@hpc2021.hku.hk:/lustre1/g/geog_pyloo/05_timemachine/GSV/gsv_rgb/\n",
      "rm munich.tar.gz\n",
      "\n",
      "\n",
      "cd 08_GSV/data/gsv_rgb\n",
      "tar -czvf kyiv.tar.gz ./kyiv\n",
      "rsync -azP kyiv.tar.gz yuanzf@hpc2021.hku.hk:/lustre1/g/geog_pyloo/05_timemachine/GSV/gsv_rgb/\n",
      "rm kyiv.tar.gz\n",
      "\n",
      "\n",
      "cd 08_GSV/data/gsv_rgb\n",
      "tar -czvf kampala.tar.gz ./kampala\n",
      "rsync -azP kampala.tar.gz yuanzf@hpc2021.hku.hk:/lustre1/g/geog_pyloo/05_timemachine/GSV/gsv_rgb/\n",
      "rm kampala.tar.gz\n",
      "\n",
      "\n",
      "cd 08_GSV/data/gsv_rgb\n",
      "tar -czvf lagos.tar.gz ./lagos\n",
      "rsync -azP lagos.tar.gz yuanzf@hpc2021.hku.hk:/lustre1/g/geog_pyloo/05_timemachine/GSV/gsv_rgb/\n",
      "rm lagos.tar.gz\n",
      "\n",
      "\n",
      "cd 08_GSV/data/gsv_rgb\n",
      "tar -czvf wellington.tar.gz ./wellington\n",
      "rsync -azP wellington.tar.gz yuanzf@hpc2021.hku.hk:/lustre1/g/geog_pyloo/05_timemachine/GSV/gsv_rgb/\n",
      "rm wellington.tar.gz\n",
      "\n",
      "\n",
      "cd 08_GSV/data/gsv_rgb\n",
      "tar -czvf copenhagen.tar.gz ./copenhagen\n",
      "rsync -azP copenhagen.tar.gz yuanzf@hpc2021.hku.hk:/lustre1/g/geog_pyloo/05_timemachine/GSV/gsv_rgb/\n",
      "rm copenhagen.tar.gz\n",
      "\n",
      "\n",
      "cd 08_GSV/data/gsv_rgb\n",
      "tar -czvf philadelphia.tar.gz ./philadelphia\n",
      "rsync -azP philadelphia.tar.gz yuanzf@hpc2021.hku.hk:/lustre1/g/geog_pyloo/05_timemachine/GSV/gsv_rgb/\n",
      "rm philadelphia.tar.gz\n",
      "\n",
      "\n",
      "cd 08_GSV/data/gsv_rgb\n",
      "tar -czvf losangeles.tar.gz ./losangeles\n",
      "rsync -azP losangeles.tar.gz yuanzf@hpc2021.hku.hk:/lustre1/g/geog_pyloo/05_timemachine/GSV/gsv_rgb/\n",
      "rm losangeles.tar.gz\n",
      "\n",
      "\n",
      "cd 08_GSV/data/gsv_rgb\n",
      "tar -czvf dubai.tar.gz ./dubai\n",
      "rsync -azP dubai.tar.gz yuanzf@hpc2021.hku.hk:/lustre1/g/geog_pyloo/05_timemachine/GSV/gsv_rgb/\n",
      "rm dubai.tar.gz\n",
      "\n",
      "\n",
      "cd 08_GSV/data/gsv_rgb\n",
      "tar -czvf mumbai.tar.gz ./mumbai\n",
      "rsync -azP mumbai.tar.gz yuanzf@hpc2021.hku.hk:/lustre1/g/geog_pyloo/05_timemachine/GSV/gsv_rgb/\n",
      "rm mumbai.tar.gz\n",
      "\n",
      "\n",
      "cd 08_GSV/data/gsv_rgb\n",
      "tar -czvf houston.tar.gz ./houston\n",
      "rsync -azP houston.tar.gz yuanzf@hpc2021.hku.hk:/lustre1/g/geog_pyloo/05_timemachine/GSV/gsv_rgb/\n",
      "rm houston.tar.gz\n",
      "\n",
      "\n",
      "cd 08_GSV/data/gsv_rgb\n",
      "tar -czvf sanfrancisco.tar.gz ./sanfrancisco\n",
      "rsync -azP sanfrancisco.tar.gz yuanzf@hpc2021.hku.hk:/lustre1/g/geog_pyloo/05_timemachine/GSV/gsv_rgb/\n",
      "rm sanfrancisco.tar.gz\n",
      "\n",
      "\n",
      "cd 08_GSV/data/gsv_rgb\n",
      "tar -czvf denver.tar.gz ./denver\n",
      "rsync -azP denver.tar.gz yuanzf@hpc2021.hku.hk:/lustre1/g/geog_pyloo/05_timemachine/GSV/gsv_rgb/\n",
      "rm denver.tar.gz\n",
      "\n",
      "\n",
      "cd 08_GSV/data/gsv_rgb\n",
      "tar -czvf miami.tar.gz ./miami\n",
      "rsync -azP miami.tar.gz yuanzf@hpc2021.hku.hk:/lustre1/g/geog_pyloo/05_timemachine/GSV/gsv_rgb/\n",
      "rm miami.tar.gz\n",
      "\n",
      "\n",
      "cd 08_GSV/data/gsv_rgb\n",
      "tar -czvf stockholm.tar.gz ./stockholm\n",
      "rsync -azP stockholm.tar.gz yuanzf@hpc2021.hku.hk:/lustre1/g/geog_pyloo/05_timemachine/GSV/gsv_rgb/\n",
      "rm stockholm.tar.gz\n",
      "\n",
      "\n",
      "cd 08_GSV/data/gsv_rgb\n",
      "tar -czvf delhi.tar.gz ./delhi\n",
      "rsync -azP delhi.tar.gz yuanzf@hpc2021.hku.hk:/lustre1/g/geog_pyloo/05_timemachine/GSV/gsv_rgb/\n",
      "rm delhi.tar.gz\n",
      "\n",
      "\n",
      "cd 08_GSV/data/gsv_rgb\n",
      "tar -czvf brussels.tar.gz ./brussels\n",
      "rsync -azP brussels.tar.gz yuanzf@hpc2021.hku.hk:/lustre1/g/geog_pyloo/05_timemachine/GSV/gsv_rgb/\n",
      "rm brussels.tar.gz\n",
      "\n",
      "\n",
      "cd 08_GSV/data/gsv_rgb\n",
      "tar -czvf detroit.tar.gz ./detroit\n",
      "rsync -azP detroit.tar.gz yuanzf@hpc2021.hku.hk:/lustre1/g/geog_pyloo/05_timemachine/GSV/gsv_rgb/\n",
      "rm detroit.tar.gz\n",
      "\n",
      "\n",
      "cd 08_GSV/data/gsv_rgb\n",
      "tar -czvf amsterdam.tar.gz ./amsterdam\n",
      "rsync -azP amsterdam.tar.gz yuanzf@hpc2021.hku.hk:/lustre1/g/geog_pyloo/05_timemachine/GSV/gsv_rgb/\n",
      "rm amsterdam.tar.gz\n",
      "\n",
      "\n",
      "cd 08_GSV/data/gsv_rgb\n",
      "tar -czvf athens.tar.gz ./athens\n",
      "rsync -azP athens.tar.gz yuanzf@hpc2021.hku.hk:/lustre1/g/geog_pyloo/05_timemachine/GSV/gsv_rgb/\n",
      "rm athens.tar.gz\n",
      "\n",
      "\n",
      "cd 08_GSV/data/gsv_rgb\n",
      "tar -czvf saopaulo.tar.gz.tar.gz ./saopaulo.tar.gz\n",
      "rsync -azP saopaulo.tar.gz.tar.gz yuanzf@hpc2021.hku.hk:/lustre1/g/geog_pyloo/05_timemachine/GSV/gsv_rgb/\n",
      "rm saopaulo.tar.gz.tar.gz\n",
      "\n"
     ]
    }
   ],
   "source": [
    "import os\n",
    "text = \"\"\"\n",
    "cd 08_GSV/data/gsv_rgb\n",
    "tar -czvf {city}.tar.gz ./{city}\n",
    "rsync -azP {city}.tar.gz yuanzf@hpc2021.hku.hk:/lustre1/g/geog_pyloo/05_timemachine/GSV/gsv_rgb/\n",
    "rm {city}.tar.gz\n",
    "\"\"\"\n",
    "folder = \"/group/geog_pyloo/08_GSV/data/gsv_rgb\"\n",
    "cities = os.listdir(folder)\n",
    "skip = ['virginia_random', 'bogota.tar.gz', '.DS_Store', 'bogotá', 'taipei', 'accra']\n",
    "cities = [x for x in cities if x not in skip]\n",
    "len(cities)\n",
    "with open(\"tar.sh\", \"w\") as f:\n",
    "    for city in cities:\n",
    "        print(text.format(city = city))\n",
    "        f.write(text.format(city = city))"
   ]
  },
  {
   "cell_type": "markdown",
   "metadata": {},
   "source": [
    "# 2. Load the image"
   ]
  },
  {
   "cell_type": "markdown",
   "metadata": {},
   "source": [
    "def tiles_info(panoid):\n",
    "    \"\"\"\n",
    "    Generate a list of a panorama's tiles and their position.\n",
    "\n",
    "    The format is (x, y, filename, fileurl)\n",
    "    \"\"\"\n",
    "\n",
    "    image_url = \"http://cbk0.google.com/cbk?output=tile&panoid={0:}&zoom=5&x={1:}&y={2:}\"\n",
    "\n",
    "    # The tiles positions\n",
    "    coord = list(itertools.product(range(26),range(13)))\n",
    "\n",
    "    tiles = [(x, y, \"%s_%dx%d.jpg\" % (panoid, x, y), image_url.format(panoid, x, y)) for x,y in coord]\n",
    "\n",
    "    return tiles"
   ]
  }
 ],
 "metadata": {
  "kernelspec": {
   "display_name": "geo311",
   "language": "python",
   "name": "geo311"
  },
  "language_info": {
   "codemirror_mode": {
    "name": "ipython",
    "version": 3
   },
   "file_extension": ".py",
   "mimetype": "text/x-python",
   "name": "python",
   "nbconvert_exporter": "python",
   "pygments_lexer": "ipython3",
   "version": "3.11.8"
  }
 },
 "nbformat": 4,
 "nbformat_minor": 4
}
