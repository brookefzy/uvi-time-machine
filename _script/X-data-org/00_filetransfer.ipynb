{
 "cells": [
  {
   "cell_type": "code",
   "execution_count": 1,
   "id": "fff50108-eb2b-4158-bcb3-869a35ea5ffc",
   "metadata": {},
   "outputs": [],
   "source": [
    "import os\n",
    "import numpy as np\n",
    "import glob\n",
    "import pandas as pd"
   ]
  },
  {
   "cell_type": "code",
   "execution_count": 2,
   "id": "0658b2cd-da9c-4ad2-a5da-8c2c49eb8c94",
   "metadata": {},
   "outputs": [],
   "source": [
    "folder = \"/lustre1/g/geog_pyloo/05_timemachine/GSV/gsv_rgb/\"\n",
    "subs = os.listdir(folder)"
   ]
  },
  {
   "cell_type": "code",
   "execution_count": 38,
   "id": "3fd0496a-ba6a-47f4-ab86-533d21f278ed",
   "metadata": {
    "tags": []
   },
   "outputs": [],
   "source": [
    "subfiles = glob.glob(folder +\"/*/*\")\n",
    "df = pd.DataFrame({\"city\":subs})\n",
    "df= df[~df['city'].isin(['amsterdam.tar.gz', \n",
    "                         'saopaulo.tar.gz',\n",
    "                        'gsvmeta',\n",
    "                         'virginia_random',\n",
    "                         'gsv_rgb'\n",
    "                        ])].reset_index(drop = True)\n",
    "subfiles_city = set([x.split('/')[7] for x in subfiles])"
   ]
  },
  {
   "cell_type": "code",
   "execution_count": 40,
   "id": "b0534f2f-ffa3-407d-ab65-9fdcce236aca",
   "metadata": {},
   "outputs": [
    {
     "data": {
      "text/plain": [
       "array(['springfield', 'caymanislands', 'pittsfield', 'brussels'],\n",
       "      dtype=object)"
      ]
     },
     "execution_count": 40,
     "metadata": {},
     "output_type": "execute_result"
    }
   ],
   "source": [
    "df['transfered'] = df['city'].apply(lambda x: x in subfiles_city)\n",
    "df_todo = df[df['transfered']==False]['city'].unique()\n",
    "df_todo"
   ]
  },
  {
   "cell_type": "code",
   "execution_count": 33,
   "id": "109c85a2-b623-4bc3-9d16-6104f4a325e6",
   "metadata": {
    "tags": []
   },
   "outputs": [
    {
     "name": "stdout",
     "output_type": "stream",
     "text": [
      "1\n",
      "7\n",
      "13\n",
      "19\n",
      "25\n"
     ]
    }
   ],
   "source": [
    "line = \"\"\"rsync -a /air_group/geog_pyloo/08_GSV/data/gsv_rgb/{city} /lustre1/g/geog_pyloo/05_timemachine/GSV/gsv_rgb/\"\"\"\n",
    "n = len(df_todo)//6\n",
    "for i in range(1, len(df_todo), 6):\n",
    "    print(i)\n",
    "    with open(f'./filetransfer_{i}.sh', 'w') as the_file:\n",
    "        for city in df_todo[i:i+6]:\n",
    "            the_file.write(\n",
    "                line.format(city = city)+'\\n'\n",
    "            )\n"
   ]
  },
  {
   "cell_type": "code",
   "execution_count": 34,
   "id": "329b3a1a-3b75-4528-9d04-b4cbb366a19b",
   "metadata": {},
   "outputs": [
    {
     "name": "stdout",
     "output_type": "stream",
     "text": [
      "/home/yuanzf/uvi-time-machine/_script/X-data-org\n"
     ]
    }
   ],
   "source": [
    "!pwd"
   ]
  },
  {
   "cell_type": "code",
   "execution_count": null,
   "id": "67fef793-289c-4103-b1fb-688fec54e8b0",
   "metadata": {},
   "outputs": [],
   "source": [
    "/home/yuanzf/uvi-time-machine/_script/X-data-org/uvi-time-machine/_script/X-data-org/filetransfer_7.sh"
   ]
  },
  {
   "cell_type": "markdown",
   "id": "2a073720-06b7-49f9-87a2-0980a8552b51",
   "metadata": {
    "tags": []
   },
   "source": [
    "### Transfer March 31st\n",
    "Direct rsync is too slow. Use tar gz first"
   ]
  },
  {
   "cell_type": "code",
   "execution_count": 7,
   "id": "b2278dda-dd35-4ca0-8fa7-fccd4beb8a8e",
   "metadata": {
    "tags": []
   },
   "outputs": [
    {
     "name": "stdout",
     "output_type": "stream",
     "text": [
      "\n",
      "tar -czvf /group/geog_pyloo/08_GSV/data/gsv_rgb/jakarta/img_rgb.tar.gz /group/geog_pyloo/08_GSV/data/gsv_rgb/jakarta/img_rgb\n",
      "rsync -avzP /group/geog_pyloo/08_GSV/data/gsv_rgb/jakarta/img_rgb.tar.gz yuanzf@hpc2021-io2.hku.hk:/lustre1/g/geog_pyloo/05_timemachine/GSV/gsv_rgb/jakarta/\n",
      "tar -xvf /lustre1/g/geog_pyloo/05_timemachine/GSV/gsv_rgb/jakarta/img_rgb.tar.gz -C /lustre1/g/geog_pyloo/05_timemachine/GSV/gsv_rgb/jakarta/\n",
      "\n",
      "\n",
      "tar -czvf /group/geog_pyloo/08_GSV/data/gsv_rgb/lima/img_rgb.tar.gz /group/geog_pyloo/08_GSV/data/gsv_rgb/lima/img_rgb\n",
      "rsync -avzP /group/geog_pyloo/08_GSV/data/gsv_rgb/lima/img_rgb.tar.gz yuanzf@hpc2021-io2.hku.hk:/lustre1/g/geog_pyloo/05_timemachine/GSV/gsv_rgb/lima/\n",
      "tar -xvf /lustre1/g/geog_pyloo/05_timemachine/GSV/gsv_rgb/lima/img_rgb.tar.gz -C /lustre1/g/geog_pyloo/05_timemachine/GSV/gsv_rgb/lima/\n",
      "\n",
      "\n",
      "tar -czvf /group/geog_pyloo/08_GSV/data/gsv_rgb/metromanila/img_rgb.tar.gz /group/geog_pyloo/08_GSV/data/gsv_rgb/metromanila/img_rgb\n",
      "rsync -avzP /group/geog_pyloo/08_GSV/data/gsv_rgb/metromanila/img_rgb.tar.gz yuanzf@hpc2021-io2.hku.hk:/lustre1/g/geog_pyloo/05_timemachine/GSV/gsv_rgb/metromanila/\n",
      "tar -xvf /lustre1/g/geog_pyloo/05_timemachine/GSV/gsv_rgb/metromanila/img_rgb.tar.gz -C /lustre1/g/geog_pyloo/05_timemachine/GSV/gsv_rgb/metromanila/\n",
      "\n",
      "\n",
      "tar -czvf /group/geog_pyloo/08_GSV/data/gsv_rgb/nagoya/img_rgb.tar.gz /group/geog_pyloo/08_GSV/data/gsv_rgb/nagoya/img_rgb\n",
      "rsync -avzP /group/geog_pyloo/08_GSV/data/gsv_rgb/nagoya/img_rgb.tar.gz yuanzf@hpc2021-io2.hku.hk:/lustre1/g/geog_pyloo/05_timemachine/GSV/gsv_rgb/nagoya/\n",
      "tar -xvf /lustre1/g/geog_pyloo/05_timemachine/GSV/gsv_rgb/nagoya/img_rgb.tar.gz -C /lustre1/g/geog_pyloo/05_timemachine/GSV/gsv_rgb/nagoya/\n",
      "\n",
      "\n",
      "tar -czvf /group/geog_pyloo/08_GSV/data/gsv_rgb/riodejaneiro/img_rgb.tar.gz /group/geog_pyloo/08_GSV/data/gsv_rgb/riodejaneiro/img_rgb\n",
      "rsync -avzP /group/geog_pyloo/08_GSV/data/gsv_rgb/riodejaneiro/img_rgb.tar.gz yuanzf@hpc2021-io2.hku.hk:/lustre1/g/geog_pyloo/05_timemachine/GSV/gsv_rgb/riodejaneiro/\n",
      "tar -xvf /lustre1/g/geog_pyloo/05_timemachine/GSV/gsv_rgb/riodejaneiro/img_rgb.tar.gz -C /lustre1/g/geog_pyloo/05_timemachine/GSV/gsv_rgb/riodejaneiro/\n",
      "\n",
      "\n",
      "tar -czvf /group/geog_pyloo/08_GSV/data/gsv_rgb/milan/img_rgb.tar.gz /group/geog_pyloo/08_GSV/data/gsv_rgb/milan/img_rgb\n",
      "rsync -avzP /group/geog_pyloo/08_GSV/data/gsv_rgb/milan/img_rgb.tar.gz yuanzf@hpc2021-io2.hku.hk:/lustre1/g/geog_pyloo/05_timemachine/GSV/gsv_rgb/milan/\n",
      "tar -xvf /lustre1/g/geog_pyloo/05_timemachine/GSV/gsv_rgb/milan/img_rgb.tar.gz -C /lustre1/g/geog_pyloo/05_timemachine/GSV/gsv_rgb/milan/\n",
      "\n",
      "\n",
      "tar -czvf /group/geog_pyloo/08_GSV/data/gsv_rgb/bangkok/img_rgb.tar.gz /group/geog_pyloo/08_GSV/data/gsv_rgb/bangkok/img_rgb\n",
      "rsync -avzP /group/geog_pyloo/08_GSV/data/gsv_rgb/bangkok/img_rgb.tar.gz yuanzf@hpc2021-io2.hku.hk:/lustre1/g/geog_pyloo/05_timemachine/GSV/gsv_rgb/bangkok/\n",
      "tar -xvf /lustre1/g/geog_pyloo/05_timemachine/GSV/gsv_rgb/bangkok/img_rgb.tar.gz -C /lustre1/g/geog_pyloo/05_timemachine/GSV/gsv_rgb/bangkok/\n",
      "\n",
      "\n",
      "tar -czvf /group/geog_pyloo/08_GSV/data/gsv_rgb/toronto/img_rgb.tar.gz /group/geog_pyloo/08_GSV/data/gsv_rgb/toronto/img_rgb\n",
      "rsync -avzP /group/geog_pyloo/08_GSV/data/gsv_rgb/toronto/img_rgb.tar.gz yuanzf@hpc2021-io2.hku.hk:/lustre1/g/geog_pyloo/05_timemachine/GSV/gsv_rgb/toronto/\n",
      "tar -xvf /lustre1/g/geog_pyloo/05_timemachine/GSV/gsv_rgb/toronto/img_rgb.tar.gz -C /lustre1/g/geog_pyloo/05_timemachine/GSV/gsv_rgb/toronto/\n",
      "\n",
      "\n",
      "tar -czvf /group/geog_pyloo/08_GSV/data/gsv_rgb/kualalumpur/img_rgb.tar.gz /group/geog_pyloo/08_GSV/data/gsv_rgb/kualalumpur/img_rgb\n",
      "rsync -avzP /group/geog_pyloo/08_GSV/data/gsv_rgb/kualalumpur/img_rgb.tar.gz yuanzf@hpc2021-io2.hku.hk:/lustre1/g/geog_pyloo/05_timemachine/GSV/gsv_rgb/kualalumpur/\n",
      "tar -xvf /lustre1/g/geog_pyloo/05_timemachine/GSV/gsv_rgb/kualalumpur/img_rgb.tar.gz -C /lustre1/g/geog_pyloo/05_timemachine/GSV/gsv_rgb/kualalumpur/\n",
      "\n"
     ]
    }
   ],
   "source": [
    "line = \"\"\"\n",
    "tar -czvf /group/geog_pyloo/08_GSV/data/gsv_rgb/{city}/img_rgb.tar.gz /group/geog_pyloo/08_GSV/data/gsv_rgb/{city}/img_rgb\n",
    "rsync -avzP /group/geog_pyloo/08_GSV/data/gsv_rgb/{city}/img_rgb.tar.gz yuanzf@hpc2021-io2.hku.hk:/lustre1/g/geog_pyloo/05_timemachine/GSV/gsv_rgb/{city}/\n",
    "tar -xvf /lustre1/g/geog_pyloo/05_timemachine/GSV/gsv_rgb/{city}/img_rgb.tar.gz -C /lustre1/g/geog_pyloo/05_timemachine/GSV/gsv_rgb/{city}/\n",
    "\"\"\"\n",
    "city_to_transfer = [\n",
    "    'jakarta', # tar - outside\n",
    "                    'lima', # direct transfer\n",
    "                    'metromanila', # direct transfer\n",
    "                    'nagoya', # direct transfer\n",
    "                    'riodejaneiro', # direct transfer\n",
    "    # for these four cities. Data too large, no need to do full transfer, only transfer the ones that are selected in the gsv_pano_label.csv\n",
    "                    'milan', # tar - 3572 \n",
    "                    'bangkok', # transfered -3573 - suspect of data not fully transfered\n",
    "                    'toronto', # tar - 3574\n",
    "                    'kualalumpur' # tar - 3575\n",
    "                   ]\n",
    "\n",
    "for city in city_to_transfer:\n",
    "    print(line.format(city = city))"
   ]
  },
  {
   "cell_type": "markdown",
   "id": "55d3c1ee-1dcf-45e8-94db-8d48dcde330f",
   "metadata": {},
   "source": [
    "# Transfer files back to ai-research"
   ]
  },
  {
   "cell_type": "code",
   "execution_count": null,
   "id": "e5af9e1f-ce0c-4112-99db-edd11ea61232",
   "metadata": {},
   "outputs": [],
   "source": []
  }
 ],
 "metadata": {
  "kernelspec": {
   "display_name": "oneformer",
   "language": "python",
   "name": "oneformer"
  },
  "language_info": {
   "codemirror_mode": {
    "name": "ipython",
    "version": 3
   },
   "file_extension": ".py",
   "mimetype": "text/x-python",
   "name": "python",
   "nbconvert_exporter": "python",
   "pygments_lexer": "ipython3",
   "version": "3.8.18"
  }
 },
 "nbformat": 4,
 "nbformat_minor": 5
}
