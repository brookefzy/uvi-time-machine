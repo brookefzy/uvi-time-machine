{
 "cells": [
  {
   "cell_type": "code",
   "execution_count": 1,
   "metadata": {},
   "outputs": [],
   "source": [
    "import pandas as pd\n",
    "import numpy as np\n",
    "import matplotlib.pyplot as plt\n",
    "import os\n",
    "import shutil\n",
    "from math import sin, cos, sqrt, atan2, radians\n",
    "import random\n",
    "from tqdm import tqdm\n",
    "import multiprocessing\n",
    "from multiprocessing import Pool\n",
    "import glob\n",
    "import sys\n",
    "ROOT_DIR = os.path.abspath(\"../\")\n",
    "sys.path.append(ROOT_DIR)\n",
    "from utils.gsvload import GSVSummary\n",
    "import concurrent.futures"
   ]
  },
  {
   "cell_type": "markdown",
   "metadata": {},
   "source": [
    "# Goal:\n",
    "1. Check downloaded data\n",
    "2. Create the updated {city}_meta.csv file for each city \n",
    "3. the {city}_meta.csv should only include the downloade gsv and selected data in gsv_pano_label.csv\n",
    "4. this meta file is used for segmentation and city never was project. Remaining downloaded data will stay in the gsv_path.csv file\n",
    "5. Check total number available data per year per city"
   ]
  },
  {
   "cell_type": "code",
   "execution_count": 2,
   "metadata": {},
   "outputs": [],
   "source": [
    "META_FILE = \"{citylower}_meta.csv\"\n",
    "city = \"New York\"\n",
    "city_abbr = city.lower().replace(\" \", \"_\")\n",
    "meta_file= META_FILE.format(citylower = city_abbr.replace(\"_\", \"\"))\n",
    "citysummary = GSVSummary(city)\n",
    "GSV_META_FOLDER = citysummary.metafolder\n",
    "\n",
    "meta_df = pd.read_csv(os.path.join(citysummary.metafolder, meta_file), nrows= 1)"
   ]
  },
  {
   "cell_type": "code",
   "execution_count": 2,
   "metadata": {},
   "outputs": [],
   "source": [
    "meta = {\n",
    "    \"path\":\"path to the gsv\",\n",
    "    \"panoid\":\"unique identifier\",\n",
    "    \"angle\":\"image angle\",\n",
    "    \"size\":\"image size\",\n",
    "    \"lat\":\"latitude\",\n",
    "    \"lon\":\"longitude\",\n",
    "    \"year\":\"year taken\",\n",
    "    \"month\":\"month\",\n",
    "    \"id\":\"image id\",\n",
    "    \"dist_hav\":\"distance from the city center\", \n",
    "    \"h3_res8\":\"h3 level 8\",\n",
    "    \"h3_res9\":\"h3 level 9\"\n",
    "}"
   ]
  },
  {
   "cell_type": "markdown",
   "metadata": {},
   "source": [
    "# 1. Check all data availability"
   ]
  },
  {
   "cell_type": "code",
   "execution_count": 9,
   "metadata": {
    "tags": []
   },
   "outputs": [
    {
     "data": {
      "text/html": [
       "<div>\n",
       "<style scoped>\n",
       "    .dataframe tbody tr th:only-of-type {\n",
       "        vertical-align: middle;\n",
       "    }\n",
       "\n",
       "    .dataframe tbody tr th {\n",
       "        vertical-align: top;\n",
       "    }\n",
       "\n",
       "    .dataframe thead th {\n",
       "        text-align: right;\n",
       "    }\n",
       "</style>\n",
       "<table border=\"1\" class=\"dataframe\">\n",
       "  <thead>\n",
       "    <tr style=\"text-align: right;\">\n",
       "      <th></th>\n",
       "      <th>City</th>\n",
       "      <th>Country</th>\n",
       "      <th>Continent</th>\n",
       "      <th>State/Province</th>\n",
       "      <th>center_lat</th>\n",
       "      <th>center_lng</th>\n",
       "      <th>label</th>\n",
       "      <th>num_panoid</th>\n",
       "      <th>GSV Downloaded</th>\n",
       "      <th>Drink &amp; Drive Imprison</th>\n",
       "      <th>Annual Raindrop</th>\n",
       "      <th>left</th>\n",
       "      <th>bottom</th>\n",
       "      <th>right</th>\n",
       "      <th>top</th>\n",
       "      <th>urban_pop</th>\n",
       "      <th>pop source</th>\n",
       "      <th>country_clean</th>\n",
       "      <th>county_ls</th>\n",
       "    </tr>\n",
       "  </thead>\n",
       "  <tbody>\n",
       "    <tr>\n",
       "      <th>0</th>\n",
       "      <td>Buenos Aires</td>\n",
       "      <td>Argentina</td>\n",
       "      <td>South America</td>\n",
       "      <td>Buenos Aires</td>\n",
       "      <td>-34.599589</td>\n",
       "      <td>-58.380564</td>\n",
       "      <td>18</td>\n",
       "      <td>606938</td>\n",
       "      <td>2365132</td>\n",
       "      <td></td>\n",
       "      <td></td>\n",
       "      <td>-58.531449</td>\n",
       "      <td>-34.705181</td>\n",
       "      <td>-58.335352</td>\n",
       "      <td>-34.526573</td>\n",
       "      <td>3120612</td>\n",
       "      <td>2022</td>\n",
       "      <td>Argentina</td>\n",
       "      <td>[]</td>\n",
       "    </tr>\n",
       "    <tr>\n",
       "      <th>1</th>\n",
       "      <td>Sydney</td>\n",
       "      <td>Australia</td>\n",
       "      <td>Australia</td>\n",
       "      <td>New South Wales</td>\n",
       "      <td>-33.870453</td>\n",
       "      <td>151.208755</td>\n",
       "      <td>112</td>\n",
       "      <td>3411953</td>\n",
       "      <td>1413083</td>\n",
       "      <td></td>\n",
       "      <td></td>\n",
       "      <td>150.264995</td>\n",
       "      <td>-34.171875</td>\n",
       "      <td>151.341577</td>\n",
       "      <td>-33.378928</td>\n",
       "      <td>5312000</td>\n",
       "      <td>2019</td>\n",
       "      <td>Australia</td>\n",
       "      <td>[]</td>\n",
       "    </tr>\n",
       "    <tr>\n",
       "      <th>2</th>\n",
       "      <td>Vienna</td>\n",
       "      <td>Austria</td>\n",
       "      <td>Europe</td>\n",
       "      <td>Vienna</td>\n",
       "      <td>48.208166</td>\n",
       "      <td>16.371864</td>\n",
       "      <td>122</td>\n",
       "      <td>1166126</td>\n",
       "      <td>319435</td>\n",
       "      <td></td>\n",
       "      <td></td>\n",
       "      <td>16.182084</td>\n",
       "      <td>48.118545</td>\n",
       "      <td>16.577249</td>\n",
       "      <td>48.320919</td>\n",
       "      <td>1897000</td>\n",
       "      <td>2019</td>\n",
       "      <td>Austria</td>\n",
       "      <td>[]</td>\n",
       "    </tr>\n",
       "    <tr>\n",
       "      <th>3</th>\n",
       "      <td>Saidpur</td>\n",
       "      <td>Bangladesh</td>\n",
       "      <td>Asia</td>\n",
       "      <td>Rangpur Division</td>\n",
       "      <td>25.778031</td>\n",
       "      <td>88.897626</td>\n",
       "      <td>102</td>\n",
       "      <td>4442</td>\n",
       "      <td>12721</td>\n",
       "      <td></td>\n",
       "      <td></td>\n",
       "      <td>88.851607</td>\n",
       "      <td>25.740739</td>\n",
       "      <td>88.995211</td>\n",
       "      <td>25.863039</td>\n",
       "      <td>24338</td>\n",
       "      <td>2011</td>\n",
       "      <td>Bangladesh</td>\n",
       "      <td>[]</td>\n",
       "    </tr>\n",
       "    <tr>\n",
       "      <th>4</th>\n",
       "      <td>Rajshahi</td>\n",
       "      <td>Bangladesh</td>\n",
       "      <td>Asia</td>\n",
       "      <td>Rajshahi</td>\n",
       "      <td>24.374650</td>\n",
       "      <td>88.600367</td>\n",
       "      <td>95</td>\n",
       "      <td>240371</td>\n",
       "      <td>186022</td>\n",
       "      <td></td>\n",
       "      <td></td>\n",
       "      <td>88.017099</td>\n",
       "      <td>23.812853</td>\n",
       "      <td>89.754481</td>\n",
       "      <td>25.270728</td>\n",
       "      <td>984000</td>\n",
       "      <td>2024</td>\n",
       "      <td>Bangladesh</td>\n",
       "      <td>[]</td>\n",
       "    </tr>\n",
       "  </tbody>\n",
       "</table>\n",
       "</div>"
      ],
      "text/plain": [
       "           City     Country      Continent    State/Province  center_lat  \\\n",
       "0  Buenos Aires   Argentina  South America      Buenos Aires  -34.599589   \n",
       "1        Sydney   Australia      Australia   New South Wales  -33.870453   \n",
       "2        Vienna     Austria         Europe            Vienna   48.208166   \n",
       "3       Saidpur  Bangladesh           Asia  Rangpur Division   25.778031   \n",
       "4      Rajshahi  Bangladesh           Asia          Rajshahi   24.374650   \n",
       "\n",
       "   center_lng  label  num_panoid  GSV Downloaded Drink & Drive Imprison  \\\n",
       "0  -58.380564     18      606938         2365132                          \n",
       "1  151.208755    112     3411953         1413083                          \n",
       "2   16.371864    122     1166126          319435                          \n",
       "3   88.897626    102        4442           12721                          \n",
       "4   88.600367     95      240371          186022                          \n",
       "\n",
       "  Annual Raindrop        left     bottom       right        top  urban_pop  \\\n",
       "0                  -58.531449 -34.705181  -58.335352 -34.526573    3120612   \n",
       "1                  150.264995 -34.171875  151.341577 -33.378928    5312000   \n",
       "2                   16.182084  48.118545   16.577249  48.320919    1897000   \n",
       "3                   88.851607  25.740739   88.995211  25.863039      24338   \n",
       "4                   88.017099  23.812853   89.754481  25.270728     984000   \n",
       "\n",
       "   pop source country_clean county_ls  \n",
       "0        2022     Argentina        []  \n",
       "1        2019     Australia        []  \n",
       "2        2019       Austria        []  \n",
       "3        2011    Bangladesh        []  \n",
       "4        2024    Bangladesh        []  "
      ]
     },
     "execution_count": 9,
     "metadata": {},
     "output_type": "execute_result"
    }
   ],
   "source": [
    "ROOT = \"/lustre1/g/geog_pyloo\"\n",
    "serviceaccount = \"../../google_drive_personal.json\"\n",
    "import gspread\n",
    "\n",
    "# from oauth2client.service_account import ServiceAccountCredentials\n",
    "gc = gspread.service_account(filename=serviceaccount)\n",
    "\n",
    "\n",
    "def read_url(url, SHEET_NAME):\n",
    "    SHEET_ID = url.split(\"/\")[5]\n",
    "    spreadsheet = gc.open_by_key(SHEET_ID)\n",
    "    worksheet = spreadsheet.worksheet(SHEET_NAME)\n",
    "    rows = worksheet.get_all_records()\n",
    "    df_spread = pd.DataFrame(rows)\n",
    "    return df_spread, worksheet\n",
    "\n",
    "\n",
    "url = \"https://docs.google.com/spreadsheets/d/1o5gFmZPUoDwrrbfE6M26uJF3HnEZll02ivnOxP6K6Xw/edit?usp=sharing\"\n",
    "SHEETNAME = \"select_city_classifier\"\n",
    "city_meta, other_worksheet = read_url(url, SHEETNAME)\n",
    "city_meta = city_meta[city_meta['City']!=''].reset_index(drop = True)\n",
    "city_meta.head()\n"
   ]
  },
  {
   "cell_type": "code",
   "execution_count": 6,
   "metadata": {},
   "outputs": [],
   "source": [
    "def get_path(subfolder):\n",
    "    files = glob.glob(os.path.join(subfolder, \"*/*/*.jpg\"))\n",
    "    return files\n",
    "\n",
    "\n",
    "def get_file_size(file):\n",
    "    try:\n",
    "        return file, os.path.getsize(file)\n",
    "    except OSError as e:\n",
    "        print(f\"Error: {e}\")\n",
    "        return file, None\n",
    "\n",
    "\n",
    "class GSVnew(GSVSummary):\n",
    "    def __init__(self, city):\n",
    "        super().__init__(city)\n",
    "\n",
    "    def get_gsv_file_size(self, gsv_meta_df):\n",
    "        gsvpath = gsv_meta_df.copy()\n",
    "        files = gsvpath[\"path\"].values\n",
    "        # Store file sizes in a dictionary\n",
    "        file_sizes = {}\n",
    "        with concurrent.futures.ThreadPoolExecutor(max_workers=4) as executor:\n",
    "            # The map method helps maintain the order of results\n",
    "            results = executor.map(get_file_size, files)\n",
    "\n",
    "            for file, size in results:\n",
    "                if size is not None:\n",
    "                    file_sizes[file] = size\n",
    "                else:\n",
    "                    file_sizes[file] = 0  # the file is removed\n",
    "\n",
    "        gsvpath[\"size\"] = gsvpath[\"path\"].apply(lambda x: file_sizes[x])\n",
    "        # gsvpath.to_csv(os.path.join(self.metafolder, \"gsv_path.csv\"), index=False)\n",
    "        return gsvpath"
   ]
  },
  {
   "cell_type": "markdown",
   "metadata": {},
   "source": [
    "## 2.Check all downloaded GSV\n",
    "1. Count number of GSV downloaded\n",
    "2. Generate the gsv_path.csv file for all downloaded gsv"
   ]
  },
  {
   "cell_type": "code",
   "execution_count": 4,
   "metadata": {},
   "outputs": [],
   "source": [
    "import datetime\n",
    "\n",
    "today = datetime.datetime.today().strftime(\"%Y-%m-%d\")\n",
    "gsv_path_file = \"gsv_path.csv\""
   ]
  },
  {
   "cell_type": "code",
   "execution_count": 17,
   "metadata": {},
   "outputs": [],
   "source": [
    "# current being transfered, can summarize later\n",
    "city_to_transfer = ['jakarta', \n",
    "                    'lima', # fully transfered\n",
    "                    'metromanila', # fully transfered\n",
    "                    'nagoya',# fully transfered\n",
    "                    'riodejaneiro',# fully transfered\n",
    "                    'milan', # \n",
    "                    'bangkok',\n",
    "                    'toronto',\n",
    "                    'kualalumpur'\n",
    "                   ]\n",
    "new_cities = city_meta[city_meta[\"GSV Downloaded\"]==\"\"][\"City\"].unique()"
   ]
  },
  {
   "cell_type": "code",
   "execution_count": 11,
   "metadata": {
    "collapsed": true,
    "jupyter": {
     "outputs_hidden": true
    },
    "tags": []
   },
   "outputs": [
    {
     "name": "stderr",
     "output_type": "stream",
     "text": [
      "  0%|          | 0/2 [00:00<?, ?it/s]"
     ]
    },
    {
     "name": "stdout",
     "output_type": "stream",
     "text": [
      "Toronto\n"
     ]
    },
    {
     "name": "stderr",
     "output_type": "stream",
     "text": [
      "\n",
      "  0%|          | 0/29 [00:00<?, ?it/s]\u001b[A\n",
      "  7%|▋         | 2/29 [00:08<02:00,  4.48s/it]\u001b[A\n",
      " 52%|█████▏    | 15/29 [00:11<00:08,  1.61it/s]\u001b[A\n",
      " 66%|██████▌   | 19/29 [00:13<00:05,  1.69it/s]\u001b[A\n",
      " 72%|███████▏  | 21/29 [00:14<00:04,  1.88it/s]\u001b[A\n",
      "100%|██████████| 29/29 [00:15<00:00,  1.85it/s]\u001b[A\n",
      " 50%|█████     | 1/2 [00:18<00:18, 18.07s/it]"
     ]
    },
    {
     "name": "stdout",
     "output_type": "stream",
     "text": [
      "Kualalumpur\n"
     ]
    },
    {
     "name": "stderr",
     "output_type": "stream",
     "text": [
      "\n",
      "  0%|          | 0/16 [00:00<?, ?it/s]\u001b[A\n",
      "  6%|▋         | 1/16 [00:07<01:50,  7.40s/it]\u001b[A\n",
      " 50%|█████     | 8/16 [00:10<00:08,  1.08s/it]\u001b[A\n",
      " 56%|█████▋    | 9/16 [00:10<00:06,  1.05it/s]\u001b[A\n",
      " 75%|███████▌  | 12/16 [00:10<00:02,  1.69it/s]\u001b[A\n",
      " 88%|████████▊ | 14/16 [00:11<00:00,  2.01it/s]\u001b[A\n",
      "100%|██████████| 16/16 [00:14<00:00,  1.08it/s]\u001b[A\n",
      "100%|██████████| 2/2 [00:34<00:00, 17.33s/it]\n"
     ]
    }
   ],
   "source": [
    "# This function checks whether there are more gsv downloaded but not included in the gsv_path file\n",
    "noimage = []\n",
    "for city in tqdm(new_cities):\n",
    "    print(city)\n",
    "    citysummary = GSVnew(city)\n",
    "    gsvpath = citysummary.load_finshed_gsv()\n",
    "    # gsvpath.to_csv(os.path.join(citysummary.metafolder, \"gsv_path_revise.csv\"), index = False)\n",
    "    # if gsvpath.shape[0]>0:\n",
    "#         # load previous gsv path\n",
    "#         try:\n",
    "#             gsvpath_original = pd.read_csv(os.path.join(citysummary.metafolder, \"gsv_path.csv\"))\n",
    "#             print(gsvpath_original.shape[0], \": original\")\n",
    "#             remain = gsvpath[\n",
    "#                 gsvpath[\"panoid\"].isin(gsvpath_original[\"panoid\"]) == False\n",
    "#             ].reset_index(drop=True)\n",
    "#             if remain.shape[0] > 0:\n",
    "#                 gsvpath_update = citysummary.get_gsv_file_size(remain)\n",
    "\n",
    "#                 gsvpath_new = pd.concat([gsvpath_original, gsvpath_update], axis=0)\n",
    "#                 print(gsvpath_new.shape[0], \": original+new\")\n",
    "#                 gsvpath_new.to_csv(\n",
    "#                     os.path.join(citysummary.metafolder, \"gsv_path.csv\"), index=False\n",
    "#                 )\n",
    "#             else:\n",
    "#                 print(\"no new gsv\")\n",
    "#             # os.remove(os.path.join(citysummary.metafolder, gsv_path_file))\n",
    "#         except:\n",
    "#             print(\"no path file exists\")\n",
    "#         gsvpath_update = citysummary.get_gsv_file_size(remain) # then it will include the file size\n",
    "#         gsvpath_update.to_csv(\n",
    "#                 os.path.join(citysummary.metafolder, \"gsv_path.csv\"), index=False\n",
    "#             )\n",
    "#     else:\n",
    "#         print(city, \" has no images downloaded\")\n",
    "#         noimage.append(city)\n",
    "\n",
    "    gsvpath['panoid'] = gsvpath['path'].apply(lambda x: x.split(\"/\"))\n",
    "    gsvpath.to_csv(\n",
    "                    os.path.join(citysummary.metafolder, \"gsv_path.csv\"), index=False\n",
    "                )\n"
   ]
  },
  {
   "cell_type": "code",
   "execution_count": null,
   "metadata": {},
   "outputs": [],
   "source": [
    "gsvpath['panoid'] = gsvpath['path'].apply(lambda x: x.split(\"/\"))\n",
    "gsvpath.to_csv(\n",
    "                os.path.join(citysummary.metafolder, \"gsv_path.csv\"), index=False\n",
    "            )\n",
    "                                          "
   ]
  },
  {
   "cell_type": "code",
   "execution_count": 8,
   "metadata": {},
   "outputs": [
    {
     "name": "stderr",
     "output_type": "stream",
     "text": [
      "100%|██████████| 1/1 [00:02<00:00,  2.48s/it]\n"
     ]
    }
   ],
   "source": [
    "road_result = []\n",
    "pano_result = []\n",
    "gsv_result = []\n",
    "\n",
    "for city in tqdm(new_cities):\n",
    "    result = GSVnew(city)\n",
    "    try:\n",
    "        road_result.append(result.check_road())\n",
    "    except:\n",
    "        road_result.append(0)\n",
    "    try:\n",
    "        pano_result.append(result.check_pano()[1])\n",
    "    except:\n",
    "        pano_result.append(0)\n",
    "    try:\n",
    "        gsvdf = result.load_gsv_path()\n",
    "        n = gsvdf.shape[0]\n",
    "        gsv_result.append(n)\n",
    "    except:\n",
    "        gsv_result.append(0)"
   ]
  },
  {
   "cell_type": "code",
   "execution_count": 9,
   "metadata": {
    "tags": []
   },
   "outputs": [
    {
     "data": {
      "text/html": [
       "<div>\n",
       "<style scoped>\n",
       "    .dataframe tbody tr th:only-of-type {\n",
       "        vertical-align: middle;\n",
       "    }\n",
       "\n",
       "    .dataframe tbody tr th {\n",
       "        vertical-align: top;\n",
       "    }\n",
       "\n",
       "    .dataframe thead th {\n",
       "        text-align: right;\n",
       "    }\n",
       "</style>\n",
       "<table border=\"1\" class=\"dataframe\">\n",
       "  <thead>\n",
       "    <tr style=\"text-align: right;\">\n",
       "      <th></th>\n",
       "      <th>city</th>\n",
       "      <th>num_panoid</th>\n",
       "      <th>road</th>\n",
       "      <th>GSV Downloaded</th>\n",
       "    </tr>\n",
       "  </thead>\n",
       "  <tbody>\n",
       "    <tr>\n",
       "      <th>0</th>\n",
       "      <td>Vienna</td>\n",
       "      <td>1166126</td>\n",
       "      <td>1</td>\n",
       "      <td>319435</td>\n",
       "    </tr>\n",
       "  </tbody>\n",
       "</table>\n",
       "</div>"
      ],
      "text/plain": [
       "     city  num_panoid  road  GSV Downloaded\n",
       "0  Vienna     1166126     1          319435"
      ]
     },
     "execution_count": 9,
     "metadata": {},
     "output_type": "execute_result"
    }
   ],
   "source": [
    "inspectdf = pd.DataFrame(\n",
    "    {\n",
    "        \"city\": new_cities,\n",
    "        \"num_panoid\": pano_result,\n",
    "        \"road\": road_result,\n",
    "        \"GSV Downloaded\": gsv_result,\n",
    "    }\n",
    ")\n",
    "inspectdf"
   ]
  },
  {
   "cell_type": "code",
   "execution_count": 10,
   "metadata": {},
   "outputs": [],
   "source": [
    "\n",
    "city_meta = city_meta.set_index('City')\n",
    "for city in inspectdf.city.unique():\n",
    "    temp = inspectdf[inspectdf['city']==city].reset_index(drop = True)\n",
    "    city_meta.at[city, 'num_panoid'] = temp['num_panoid'].values[0]\n",
    "    city_meta.at[city,  'road'] = temp['road'].values[0]\n",
    "    city_meta.at[city,  'GSV Downloaded'] = temp['GSV Downloaded'].values[0]"
   ]
  },
  {
   "cell_type": "code",
   "execution_count": 11,
   "metadata": {
    "tags": []
   },
   "outputs": [],
   "source": [
    "city_meta = city_meta.reset_index()\n",
    "city_meta = city_meta.astype(str)\n",
    "city_meta = city_meta[city_meta['City']!='nan'].reset_index(drop = True)"
   ]
  },
  {
   "cell_type": "code",
   "execution_count": 12,
   "metadata": {},
   "outputs": [
    {
     "data": {
      "text/plain": [
       "{'spreadsheetId': '1o5gFmZPUoDwrrbfE6M26uJF3HnEZll02ivnOxP6K6Xw',\n",
       " 'updatedRange': 'select_city!A1:M160',\n",
       " 'updatedRows': 160,\n",
       " 'updatedColumns': 13,\n",
       " 'updatedCells': 2080}"
      ]
     },
     "execution_count": 12,
     "metadata": {},
     "output_type": "execute_result"
    }
   ],
   "source": [
    "# write to google sheet\n",
    "other_worksheet.update(\n",
    "    [city_meta.columns.values.tolist()] + city_meta.values.tolist()\n",
    ")"
   ]
  },
  {
   "cell_type": "markdown",
   "metadata": {},
   "source": [
    "# Check Chicago data distribution"
   ]
  },
  {
   "cell_type": "code",
   "execution_count": 44,
   "metadata": {},
   "outputs": [],
   "source": [
    "city = 'Hong Kong'\n",
    "cityabbrlower = city.lower().replace(\" \", \"\")\n",
    "citysummary = GSVnew(city)\n",
    "df = pd.read_csv(os.path.join(citysummary.metafolder, \"gsv_path.csv\"))"
   ]
  },
  {
   "cell_type": "code",
   "execution_count": 11,
   "metadata": {},
   "outputs": [
    {
     "data": {
      "text/plain": [
       "(8780030, 6)"
      ]
     },
     "execution_count": 11,
     "metadata": {},
     "output_type": "execute_result"
    }
   ],
   "source": [
    "df_pano = pd.read_csv(os.path.join(citysummary.metafolder, \"gsv_pano.csv\"))\n",
    "df_pano.shape"
   ]
  },
  {
   "cell_type": "code",
   "execution_count": 24,
   "metadata": {},
   "outputs": [
    {
     "data": {
      "text/html": [
       "<div>\n",
       "<style scoped>\n",
       "    .dataframe tbody tr th:only-of-type {\n",
       "        vertical-align: middle;\n",
       "    }\n",
       "\n",
       "    .dataframe tbody tr th {\n",
       "        vertical-align: top;\n",
       "    }\n",
       "\n",
       "    .dataframe thead th {\n",
       "        text-align: right;\n",
       "    }\n",
       "</style>\n",
       "<table border=\"1\" class=\"dataframe\">\n",
       "  <thead>\n",
       "    <tr style=\"text-align: right;\">\n",
       "      <th></th>\n",
       "      <th>bbox_north</th>\n",
       "      <th>bbox_south</th>\n",
       "      <th>bbox_east</th>\n",
       "      <th>bbox_west</th>\n",
       "      <th>place_id</th>\n",
       "      <th>osm_type</th>\n",
       "      <th>osm_id</th>\n",
       "      <th>lat</th>\n",
       "      <th>lon</th>\n",
       "      <th>class</th>\n",
       "      <th>type</th>\n",
       "      <th>place_rank</th>\n",
       "      <th>importance</th>\n",
       "      <th>addresstype</th>\n",
       "      <th>name</th>\n",
       "      <th>display_name</th>\n",
       "      <th>geometry</th>\n",
       "    </tr>\n",
       "  </thead>\n",
       "  <tbody>\n",
       "    <tr>\n",
       "      <th>0</th>\n",
       "      <td>42.02304</td>\n",
       "      <td>41.644531</td>\n",
       "      <td>-87.524081</td>\n",
       "      <td>-87.940088</td>\n",
       "      <td>324747941</td>\n",
       "      <td>relation</td>\n",
       "      <td>122604</td>\n",
       "      <td>41.875562</td>\n",
       "      <td>-87.624421</td>\n",
       "      <td>boundary</td>\n",
       "      <td>administrative</td>\n",
       "      <td>16</td>\n",
       "      <td>0.75153</td>\n",
       "      <td>city</td>\n",
       "      <td>Chicago</td>\n",
       "      <td>Chicago, Cook County, Illinois, United States</td>\n",
       "      <td>POLYGON ((-87.94009 42.00080, -87.94003 41.998...</td>\n",
       "    </tr>\n",
       "  </tbody>\n",
       "</table>\n",
       "</div>"
      ],
      "text/plain": [
       "   bbox_north  bbox_south  bbox_east  bbox_west   place_id  osm_type  osm_id   \n",
       "0    42.02304   41.644531 -87.524081 -87.940088  324747941  relation  122604  \\\n",
       "\n",
       "         lat        lon     class            type  place_rank  importance   \n",
       "0  41.875562 -87.624421  boundary  administrative          16     0.75153  \\\n",
       "\n",
       "  addresstype     name                                   display_name   \n",
       "0        city  Chicago  Chicago, Cook County, Illinois, United States  \\\n",
       "\n",
       "                                            geometry  \n",
       "0  POLYGON ((-87.94009 42.00080, -87.94003 41.998...  "
      ]
     },
     "execution_count": 24,
     "metadata": {},
     "output_type": "execute_result"
    }
   ],
   "source": [
    "# select all panos within the city of chicago first\n",
    "# load chicago boundary\n",
    "import geopandas as gpd\n",
    "boundary_root = \"/lustre1/g/geog_pyloo/05_timemachine/_raw/r_boundary_osm\"\n",
    "chicago_boundary = gpd.read_file(os.path.join(boundary_root, f\"{cityabbrlower}.geojson\"))\n",
    "chicago_boundary"
   ]
  },
  {
   "cell_type": "code",
   "execution_count": 32,
   "metadata": {},
   "outputs": [
    {
     "data": {
      "text/plain": [
       "(2549263, 8)"
      ]
     },
     "execution_count": 32,
     "metadata": {},
     "output_type": "execute_result"
    }
   ],
   "source": [
    "# df_pano = gpd.GeoDataFrame(df_pano, geometry=gpd.points_from_xy(df_pano.lon, df_pano.lat))\n",
    "# df_pano.crs = \"EPSG:4326\"\n",
    "df_pano_within = gpd.sjoin(df_pano, chicago_boundary[['geometry']])\n",
    "df_pano_within.shape"
   ]
  },
  {
   "cell_type": "code",
   "execution_count": 43,
   "metadata": {},
   "outputs": [
    {
     "data": {
      "text/html": [
       "<div>\n",
       "<style scoped>\n",
       "    .dataframe tbody tr th:only-of-type {\n",
       "        vertical-align: middle;\n",
       "    }\n",
       "\n",
       "    .dataframe tbody tr th {\n",
       "        vertical-align: top;\n",
       "    }\n",
       "\n",
       "    .dataframe thead th {\n",
       "        text-align: right;\n",
       "    }\n",
       "</style>\n",
       "<table border=\"1\" class=\"dataframe\">\n",
       "  <thead>\n",
       "    <tr style=\"text-align: right;\">\n",
       "      <th></th>\n",
       "      <th>path</th>\n",
       "      <th>panoid</th>\n",
       "      <th>size</th>\n",
       "      <th>angle</th>\n",
       "    </tr>\n",
       "  </thead>\n",
       "  <tbody>\n",
       "    <tr>\n",
       "      <th>0</th>\n",
       "      <td>/lustre1/g/geog_pyloo/05_timemachine/GSV/gsv_r...</td>\n",
       "      <td>l_9OQZv7XQRXgO9rjnPa9w</td>\n",
       "      <td>13353</td>\n",
       "      <td>0</td>\n",
       "    </tr>\n",
       "    <tr>\n",
       "      <th>1</th>\n",
       "      <td>/lustre1/g/geog_pyloo/05_timemachine/GSV/gsv_r...</td>\n",
       "      <td>vTIkHjzUa30fO-PgTrzHzw</td>\n",
       "      <td>45386</td>\n",
       "      <td>270</td>\n",
       "    </tr>\n",
       "    <tr>\n",
       "      <th>2</th>\n",
       "      <td>/lustre1/g/geog_pyloo/05_timemachine/GSV/gsv_r...</td>\n",
       "      <td>jcPNvZzJYlzNmqqe96W1IQ</td>\n",
       "      <td>49434</td>\n",
       "      <td>180</td>\n",
       "    </tr>\n",
       "    <tr>\n",
       "      <th>3</th>\n",
       "      <td>/lustre1/g/geog_pyloo/05_timemachine/GSV/gsv_r...</td>\n",
       "      <td>r93gVzbIS5kQdKUSkVB6UA</td>\n",
       "      <td>27795</td>\n",
       "      <td>90</td>\n",
       "    </tr>\n",
       "    <tr>\n",
       "      <th>4</th>\n",
       "      <td>/lustre1/g/geog_pyloo/05_timemachine/GSV/gsv_r...</td>\n",
       "      <td>RiB5NFYF4Z2YXGzRtdYZ1A</td>\n",
       "      <td>43184</td>\n",
       "      <td>180</td>\n",
       "    </tr>\n",
       "  </tbody>\n",
       "</table>\n",
       "</div>"
      ],
      "text/plain": [
       "                                                path                  panoid   \n",
       "0  /lustre1/g/geog_pyloo/05_timemachine/GSV/gsv_r...  l_9OQZv7XQRXgO9rjnPa9w  \\\n",
       "1  /lustre1/g/geog_pyloo/05_timemachine/GSV/gsv_r...  vTIkHjzUa30fO-PgTrzHzw   \n",
       "2  /lustre1/g/geog_pyloo/05_timemachine/GSV/gsv_r...  jcPNvZzJYlzNmqqe96W1IQ   \n",
       "3  /lustre1/g/geog_pyloo/05_timemachine/GSV/gsv_r...  r93gVzbIS5kQdKUSkVB6UA   \n",
       "4  /lustre1/g/geog_pyloo/05_timemachine/GSV/gsv_r...  RiB5NFYF4Z2YXGzRtdYZ1A   \n",
       "\n",
       "    size  angle  \n",
       "0  13353      0  \n",
       "1  45386    270  \n",
       "2  49434    180  \n",
       "3  27795     90  \n",
       "4  43184    180  "
      ]
     },
     "execution_count": 43,
     "metadata": {},
     "output_type": "execute_result"
    }
   ],
   "source": [
    "df.head()"
   ]
  },
  {
   "cell_type": "code",
   "execution_count": 37,
   "metadata": {},
   "outputs": [
    {
     "data": {
      "text/plain": [
       "array([2021., 2019., 2018., 2015., 2014., 2012., 2011., 2007., 2022.,\n",
       "       2017., 2009., 2008., 2016., 2013., 2023., 2010., 2020.])"
      ]
     },
     "execution_count": 37,
     "metadata": {},
     "output_type": "execute_result"
    }
   ],
   "source": [
    "df_pano_within['year'].unique()"
   ]
  },
  {
   "cell_type": "code",
   "execution_count": 40,
   "metadata": {},
   "outputs": [],
   "source": [
    "todownload = df_pano_within[df_pano_within['year']>=2011][df_pano.columns].reset_index(drop = True)\n",
    "# save the data into 4 parts\n",
    "n = 4\n",
    "l = len(todownload)\n",
    "step = l//n\n",
    "for i in range(n):\n",
    "    if i<n-1:\n",
    "        temp = todownload.iloc[i*step:(i+1)*step]\n",
    "    else:\n",
    "        temp = todownload.iloc[i*step:]\n",
    "    temp.to_csv(os.path.join(citysummary.metafolder, f\"gsv_pano_within_{i}.csv\"), index = False)"
   ]
  },
  {
   "cell_type": "code",
   "execution_count": 33,
   "metadata": {},
   "outputs": [],
   "source": [
    "df_pano_within[df_pano_within['year']>=2011][df_pano.columns].to_csv(os.path.join(citysummary.metafolder, \"gsv_pano_within.csv\"), index = False)"
   ]
  },
  {
   "cell_type": "code",
   "execution_count": 42,
   "metadata": {},
   "outputs": [
    {
     "data": {
      "text/plain": [
       "0"
      ]
     },
     "execution_count": 42,
     "metadata": {},
     "output_type": "execute_result"
    }
   ],
   "source": [
    "import gc\n",
    "gc.collect()"
   ]
  },
  {
   "cell_type": "code",
   "execution_count": 34,
   "metadata": {},
   "outputs": [
    {
     "data": {
      "text/plain": [
       "(2549263, 8)"
      ]
     },
     "execution_count": 34,
     "metadata": {},
     "output_type": "execute_result"
    }
   ],
   "source": [
    "df_pano_within.shape"
   ]
  },
  {
   "cell_type": "code",
   "execution_count": 25,
   "metadata": {},
   "outputs": [
    {
     "data": {
      "text/plain": [
       "<Axes: >"
      ]
     },
     "execution_count": 25,
     "metadata": {},
     "output_type": "execute_result"
    },
    {
     "data": {
      "image/png": "[encoded data removed]",
      "text/plain": [
       "<Figure size 640x480 with 1 Axes>"
      ]
     },
     "metadata": {},
     "output_type": "display_data"
    }
   ],
   "source": [
    "chicago_boundary.plot()"
   ]
  },
  {
   "cell_type": "code",
   "execution_count": 20,
   "metadata": {},
   "outputs": [
    {
     "data": {
      "text/plain": [
       "(2997840, 4)"
      ]
     },
     "execution_count": 20,
     "metadata": {},
     "output_type": "execute_result"
    }
   ],
   "source": [
    "df.shape"
   ]
  },
  {
   "cell_type": "code",
   "execution_count": null,
   "metadata": {},
   "outputs": [],
   "source": []
  },
  {
   "cell_type": "markdown",
   "metadata": {},
   "source": [
    "# Create final pano meta file for analysis\n"
   ]
  },
  {
   "cell_type": "code",
   "execution_count": 14,
   "metadata": {
    "tags": []
   },
   "outputs": [],
   "source": [
    "# cityabbr = city.lower().replace(\" \", \"\")\n",
    "META_FILE = '{cityabbr}_meta.csv'\n",
    "META_FOLDER = \"gsvmeta\"\n",
    "GSVROOT = \"/lustre1/g/geog_pyloo/05_timemachine/GSV/gsv_rgb/\"\n",
    "# city_meta['GSV Downloaded'] = city_meta['GSV Downloaded'].astype(int)\n",
    "# cityls = city_meta[city_meta['GSV Downloaded']>0]['City'].unique()\n"
   ]
  },
  {
   "cell_type": "code",
   "execution_count": 14,
   "metadata": {
    "tags": []
   },
   "outputs": [
    {
     "name": "stderr",
     "output_type": "stream",
     "text": [
      "  0%|          | 0/1 [00:00<?, ?it/s]"
     ]
    },
    {
     "name": "stdout",
     "output_type": "stream",
     "text": [
      "                                                path                  panoid\n",
      "0  /lustre1/g/geog_pyloo/05_timemachine/GSV/gsv_r...  gQwGknUmHhpaulRLzw_1AQ\n",
      "Path is already correct\n",
      "319435 : original\n",
      "Meta file missing, now processing:  Vienna\n"
     ]
    },
    {
     "name": "stderr",
     "output_type": "stream",
     "text": [
      "100%|██████████| 1/1 [00:06<00:00,  6.79s/it]"
     ]
    },
    {
     "name": "stdout",
     "output_type": "stream",
     "text": [
      "final saved file number of rows:  347836\n"
     ]
    },
    {
     "name": "stderr",
     "output_type": "stream",
     "text": [
      "\n"
     ]
    }
   ],
   "source": [
    "for city in tqdm(['Vienna']): \n",
    "    # Step 0: check whether the meta data already exists\n",
    "    cityabbr = city.lower().replace(\" \", \"\")\n",
    "    metafiles = os.listdir(os.path.join(GSVROOT, cityabbr, META_FOLDER))\n",
    "    meta_file = META_FILE.format(cityabbr = cityabbr)\n",
    "    \n",
    "        # Step 1: check remaining data to add to the path\n",
    "    citysummary = GSVSummary(city)\n",
    "    gsvpath = pd.read_csv(os.path.join(citysummary.metafolder, \"gsv_path.csv\"))\n",
    "    print(gsvpath.head(1))\n",
    "    path_sample = gsvpath['path'].values[0]\n",
    "    if \"/data/\" in path_sample:\n",
    "        print(path_sample)\n",
    "        print(\"need to correct the path\")\n",
    "        gsvpath['path'] = gsvpath['path'].apply(lambda x: x.replace(\"./data/\", \"/lustre1/g/geog_pyloo/05_timemachine/GSV/\"))\n",
    "        gsvpath.to_csv(os.path.join(citysummary.metafolder, \"gsv_path.csv\"), index = False)\n",
    "\n",
    "    else:\n",
    "        print(\"Path is already correct\")\n",
    "        print(gsvpath.shape[0], \": original\")\n",
    "    \n",
    "    if meta_file in metafiles:\n",
    "        print(f\"CITY {city} meta file already exists\")\n",
    "\n",
    "    else:\n",
    "        print(\"Meta file missing, now processing: \", city)\n",
    "        \n",
    "        # Step 2: merge the meta file and save file\n",
    "        metadf_update = citysummary.merge_meta(sel = True)\n",
    "        metadf_update.drop(\"geometry\", axis = 1).to_csv(os.path.join(GSVROOT, cityabbr, META_FOLDER, meta_file), index = False)\n",
    "        print(\"final saved file number of rows: \", metadf_update.shape[0])\n",
    "        import gc\n",
    "        gc.collect()\n"
   ]
  },
  {
   "cell_type": "code",
   "execution_count": 15,
   "metadata": {},
   "outputs": [],
   "source": [
    "metadf_update.drop(\"geometry\", axis = 1).drop_duplicates(\"path\").to_csv(os.path.join(GSVROOT, cityabbr, META_FOLDER, meta_file), index = False)"
   ]
  },
  {
   "cell_type": "code",
   "execution_count": 87,
   "metadata": {
    "collapsed": true,
    "jupyter": {
     "outputs_hidden": true
    },
    "tags": []
   },
   "outputs": [
    {
     "name": "stderr",
     "output_type": "stream",
     "text": [
      "  1%|          | 1/126 [00:02<04:37,  2.22s/it]"
     ]
    },
    {
     "name": "stdout",
     "output_type": "stream",
     "text": [
      "data fixed, continue\n"
     ]
    },
    {
     "name": "stderr",
     "output_type": "stream",
     "text": [
      "  2%|▏         | 2/126 [00:04<04:57,  2.40s/it]"
     ]
    },
    {
     "name": "stdout",
     "output_type": "stream",
     "text": [
      "data fixed, continue\n"
     ]
    },
    {
     "name": "stderr",
     "output_type": "stream",
     "text": [
      "  2%|▏         | 3/126 [00:05<03:09,  1.54s/it]"
     ]
    },
    {
     "name": "stdout",
     "output_type": "stream",
     "text": [
      "data fixed, continue\n"
     ]
    },
    {
     "name": "stderr",
     "output_type": "stream",
     "text": [
      "  3%|▎         | 4/126 [00:05<02:17,  1.13s/it]"
     ]
    },
    {
     "name": "stdout",
     "output_type": "stream",
     "text": [
      "data fixed, continue\n"
     ]
    },
    {
     "name": "stderr",
     "output_type": "stream",
     "text": [
      "  4%|▍         | 5/126 [00:10<04:48,  2.38s/it]"
     ]
    },
    {
     "name": "stdout",
     "output_type": "stream",
     "text": [
      "data fixed, continue\n"
     ]
    },
    {
     "name": "stderr",
     "output_type": "stream",
     "text": [
      "  5%|▍         | 6/126 [00:11<03:34,  1.79s/it]"
     ]
    },
    {
     "name": "stdout",
     "output_type": "stream",
     "text": [
      "data fixed, continue\n"
     ]
    },
    {
     "name": "stderr",
     "output_type": "stream",
     "text": [
      "  6%|▌         | 7/126 [00:11<02:33,  1.29s/it]"
     ]
    },
    {
     "name": "stdout",
     "output_type": "stream",
     "text": [
      "data fixed, continue\n"
     ]
    },
    {
     "name": "stderr",
     "output_type": "stream",
     "text": [
      "  6%|▋         | 8/126 [00:14<03:54,  1.99s/it]"
     ]
    },
    {
     "name": "stdout",
     "output_type": "stream",
     "text": [
      "data fixed, continue\n"
     ]
    },
    {
     "name": "stderr",
     "output_type": "stream",
     "text": [
      "  7%|▋         | 9/126 [00:15<03:11,  1.64s/it]"
     ]
    },
    {
     "name": "stdout",
     "output_type": "stream",
     "text": [
      "data fixed, continue\n"
     ]
    },
    {
     "name": "stderr",
     "output_type": "stream",
     "text": [
      "  8%|▊         | 10/126 [00:15<02:18,  1.20s/it]"
     ]
    },
    {
     "name": "stdout",
     "output_type": "stream",
     "text": [
      "data fixed, continue\n"
     ]
    },
    {
     "name": "stderr",
     "output_type": "stream",
     "text": [
      "  9%|▊         | 11/126 [00:16<01:49,  1.05it/s]"
     ]
    },
    {
     "name": "stdout",
     "output_type": "stream",
     "text": [
      "data fixed, continue\n"
     ]
    },
    {
     "name": "stderr",
     "output_type": "stream",
     "text": [
      " 10%|▉         | 12/126 [00:16<01:32,  1.24it/s]"
     ]
    },
    {
     "name": "stdout",
     "output_type": "stream",
     "text": [
      "data fixed, continue\n"
     ]
    },
    {
     "name": "stderr",
     "output_type": "stream",
     "text": [
      " 10%|█         | 13/126 [00:17<01:21,  1.39it/s]"
     ]
    },
    {
     "name": "stdout",
     "output_type": "stream",
     "text": [
      "data fixed, continue\n"
     ]
    },
    {
     "name": "stderr",
     "output_type": "stream",
     "text": [
      " 11%|█         | 14/126 [00:17<01:11,  1.56it/s]"
     ]
    },
    {
     "name": "stdout",
     "output_type": "stream",
     "text": [
      "data fixed, continue\n"
     ]
    },
    {
     "name": "stderr",
     "output_type": "stream",
     "text": [
      " 12%|█▏        | 15/126 [00:18<01:06,  1.66it/s]"
     ]
    },
    {
     "name": "stdout",
     "output_type": "stream",
     "text": [
      "data fixed, continue\n"
     ]
    },
    {
     "name": "stderr",
     "output_type": "stream",
     "text": [
      " 13%|█▎        | 16/126 [00:18<01:04,  1.72it/s]"
     ]
    },
    {
     "name": "stdout",
     "output_type": "stream",
     "text": [
      "data fixed, continue\n"
     ]
    },
    {
     "name": "stderr",
     "output_type": "stream",
     "text": [
      " 13%|█▎        | 17/126 [00:19<01:02,  1.74it/s]"
     ]
    },
    {
     "name": "stdout",
     "output_type": "stream",
     "text": [
      "data fixed, continue\n"
     ]
    },
    {
     "name": "stderr",
     "output_type": "stream",
     "text": [
      " 14%|█▍        | 18/126 [00:24<03:24,  1.89s/it]"
     ]
    },
    {
     "name": "stdout",
     "output_type": "stream",
     "text": [
      "data fixed, continue\n"
     ]
    },
    {
     "name": "stderr",
     "output_type": "stream",
     "text": [
      " 15%|█▌        | 19/126 [00:24<02:39,  1.49s/it]"
     ]
    },
    {
     "name": "stdout",
     "output_type": "stream",
     "text": [
      "data fixed, continue\n"
     ]
    },
    {
     "name": "stderr",
     "output_type": "stream",
     "text": [
      " 16%|█▌        | 20/126 [00:25<02:06,  1.20s/it]"
     ]
    },
    {
     "name": "stdout",
     "output_type": "stream",
     "text": [
      "data fixed, continue\n"
     ]
    },
    {
     "name": "stderr",
     "output_type": "stream",
     "text": [
      " 17%|█▋        | 21/126 [00:25<01:48,  1.03s/it]"
     ]
    },
    {
     "name": "stdout",
     "output_type": "stream",
     "text": [
      "data fixed, continue\n"
     ]
    },
    {
     "name": "stderr",
     "output_type": "stream",
     "text": [
      " 17%|█▋        | 22/126 [00:29<03:19,  1.92s/it]"
     ]
    },
    {
     "name": "stdout",
     "output_type": "stream",
     "text": [
      "data fixed, continue\n"
     ]
    },
    {
     "name": "stderr",
     "output_type": "stream",
     "text": [
      " 18%|█▊        | 23/126 [00:34<04:40,  2.73s/it]"
     ]
    },
    {
     "name": "stdout",
     "output_type": "stream",
     "text": [
      "data fixed, continue\n"
     ]
    },
    {
     "name": "stderr",
     "output_type": "stream",
     "text": [
      " 19%|█▉        | 24/126 [00:35<03:39,  2.15s/it]"
     ]
    },
    {
     "name": "stdout",
     "output_type": "stream",
     "text": [
      "data fixed, continue\n"
     ]
    },
    {
     "name": "stderr",
     "output_type": "stream",
     "text": [
      " 20%|█▉        | 25/126 [00:36<02:57,  1.76s/it]"
     ]
    },
    {
     "name": "stdout",
     "output_type": "stream",
     "text": [
      "data fixed, continue\n"
     ]
    },
    {
     "name": "stderr",
     "output_type": "stream",
     "text": [
      " 21%|██        | 26/126 [00:40<04:18,  2.58s/it]"
     ]
    },
    {
     "name": "stdout",
     "output_type": "stream",
     "text": [
      "data fixed, continue\n"
     ]
    },
    {
     "name": "stderr",
     "output_type": "stream",
     "text": [
      " 21%|██▏       | 27/126 [00:41<03:19,  2.01s/it]"
     ]
    },
    {
     "name": "stdout",
     "output_type": "stream",
     "text": [
      "data fixed, continue\n"
     ]
    },
    {
     "name": "stderr",
     "output_type": "stream",
     "text": [
      " 22%|██▏       | 28/126 [00:42<02:55,  1.79s/it]"
     ]
    },
    {
     "name": "stdout",
     "output_type": "stream",
     "text": [
      "data fixed, continue\n"
     ]
    },
    {
     "name": "stderr",
     "output_type": "stream",
     "text": [
      " 23%|██▎       | 29/126 [00:44<02:52,  1.78s/it]"
     ]
    },
    {
     "name": "stdout",
     "output_type": "stream",
     "text": [
      "data fixed, continue\n"
     ]
    },
    {
     "name": "stderr",
     "output_type": "stream",
     "text": [
      " 24%|██▍       | 30/126 [00:45<02:21,  1.47s/it]"
     ]
    },
    {
     "name": "stdout",
     "output_type": "stream",
     "text": [
      "data fixed, continue\n"
     ]
    },
    {
     "name": "stderr",
     "output_type": "stream",
     "text": [
      " 25%|██▍       | 31/126 [00:45<01:58,  1.25s/it]"
     ]
    },
    {
     "name": "stdout",
     "output_type": "stream",
     "text": [
      "data fixed, continue\n"
     ]
    },
    {
     "name": "stderr",
     "output_type": "stream",
     "text": [
      " 25%|██▌       | 32/126 [00:46<01:43,  1.10s/it]"
     ]
    },
    {
     "name": "stdout",
     "output_type": "stream",
     "text": [
      "data fixed, continue\n"
     ]
    },
    {
     "name": "stderr",
     "output_type": "stream",
     "text": [
      " 26%|██▌       | 33/126 [00:47<01:32,  1.01it/s]"
     ]
    },
    {
     "name": "stdout",
     "output_type": "stream",
     "text": [
      "data fixed, continue\n"
     ]
    },
    {
     "name": "stderr",
     "output_type": "stream",
     "text": [
      " 27%|██▋       | 34/126 [00:48<01:26,  1.06it/s]"
     ]
    },
    {
     "name": "stdout",
     "output_type": "stream",
     "text": [
      "data fixed, continue\n"
     ]
    },
    {
     "name": "stderr",
     "output_type": "stream",
     "text": [
      " 28%|██▊       | 35/126 [00:53<03:16,  2.16s/it]"
     ]
    },
    {
     "name": "stdout",
     "output_type": "stream",
     "text": [
      "data fixed, continue\n"
     ]
    },
    {
     "name": "stderr",
     "output_type": "stream",
     "text": [
      " 29%|██▊       | 36/126 [00:54<02:45,  1.83s/it]"
     ]
    },
    {
     "name": "stdout",
     "output_type": "stream",
     "text": [
      "data fixed, continue\n"
     ]
    },
    {
     "name": "stderr",
     "output_type": "stream",
     "text": [
      " 29%|██▉       | 37/126 [02:08<35:04, 23.65s/it]"
     ]
    },
    {
     "name": "stdout",
     "output_type": "stream",
     "text": [
      "data fixed, continue\n"
     ]
    },
    {
     "name": "stderr",
     "output_type": "stream",
     "text": [
      " 30%|███       | 38/126 [02:13<26:23, 17.99s/it]"
     ]
    },
    {
     "name": "stdout",
     "output_type": "stream",
     "text": [
      "data fixed, continue\n"
     ]
    },
    {
     "name": "stderr",
     "output_type": "stream",
     "text": [
      " 31%|███       | 39/126 [02:14<18:51, 13.01s/it]"
     ]
    },
    {
     "name": "stdout",
     "output_type": "stream",
     "text": [
      "data fixed, continue\n"
     ]
    },
    {
     "name": "stderr",
     "output_type": "stream",
     "text": [
      " 32%|███▏      | 40/126 [02:18<14:35, 10.18s/it]"
     ]
    },
    {
     "name": "stdout",
     "output_type": "stream",
     "text": [
      "data fixed, continue\n"
     ]
    },
    {
     "name": "stderr",
     "output_type": "stream",
     "text": [
      " 33%|███▎      | 41/126 [02:19<10:38,  7.51s/it]"
     ]
    },
    {
     "name": "stdout",
     "output_type": "stream",
     "text": [
      "data fixed, continue\n"
     ]
    },
    {
     "name": "stderr",
     "output_type": "stream",
     "text": [
      " 33%|███▎      | 42/126 [02:21<08:01,  5.73s/it]"
     ]
    },
    {
     "name": "stdout",
     "output_type": "stream",
     "text": [
      "data fixed, continue\n"
     ]
    },
    {
     "name": "stderr",
     "output_type": "stream",
     "text": [
      " 34%|███▍      | 43/126 [02:22<06:06,  4.41s/it]"
     ]
    },
    {
     "name": "stdout",
     "output_type": "stream",
     "text": [
      "data fixed, continue\n"
     ]
    },
    {
     "name": "stderr",
     "output_type": "stream",
     "text": [
      " 35%|███▍      | 44/126 [02:24<04:46,  3.49s/it]"
     ]
    },
    {
     "name": "stdout",
     "output_type": "stream",
     "text": [
      "data fixed, continue\n"
     ]
    },
    {
     "name": "stderr",
     "output_type": "stream",
     "text": [
      " 36%|███▌      | 45/126 [02:25<03:53,  2.88s/it]"
     ]
    },
    {
     "name": "stdout",
     "output_type": "stream",
     "text": [
      "data fixed, continue\n"
     ]
    },
    {
     "name": "stderr",
     "output_type": "stream",
     "text": [
      " 37%|███▋      | 46/126 [02:26<03:15,  2.44s/it]"
     ]
    },
    {
     "name": "stdout",
     "output_type": "stream",
     "text": [
      "data fixed, continue\n"
     ]
    },
    {
     "name": "stderr",
     "output_type": "stream",
     "text": [
      " 37%|███▋      | 47/126 [02:27<02:38,  2.00s/it]"
     ]
    },
    {
     "name": "stdout",
     "output_type": "stream",
     "text": [
      "data fixed, continue\n"
     ]
    },
    {
     "name": "stderr",
     "output_type": "stream",
     "text": [
      " 38%|███▊      | 48/126 [02:38<06:05,  4.68s/it]"
     ]
    },
    {
     "name": "stdout",
     "output_type": "stream",
     "text": [
      "data fixed, continue\n"
     ]
    },
    {
     "name": "stderr",
     "output_type": "stream",
     "text": [
      " 39%|███▉      | 49/126 [02:39<04:20,  3.38s/it]"
     ]
    },
    {
     "name": "stdout",
     "output_type": "stream",
     "text": [
      "data fixed, continue\n"
     ]
    },
    {
     "name": "stderr",
     "output_type": "stream",
     "text": [
      " 40%|███▉      | 50/126 [02:40<03:32,  2.79s/it]"
     ]
    },
    {
     "name": "stdout",
     "output_type": "stream",
     "text": [
      "data fixed, continue\n"
     ]
    },
    {
     "name": "stderr",
     "output_type": "stream",
     "text": [
      " 40%|████      | 51/126 [02:41<02:50,  2.28s/it]"
     ]
    },
    {
     "name": "stdout",
     "output_type": "stream",
     "text": [
      "data fixed, continue\n"
     ]
    },
    {
     "name": "stderr",
     "output_type": "stream",
     "text": [
      " 41%|████▏     | 52/126 [02:43<02:34,  2.09s/it]"
     ]
    },
    {
     "name": "stdout",
     "output_type": "stream",
     "text": [
      "data fixed, continue\n"
     ]
    },
    {
     "name": "stderr",
     "output_type": "stream",
     "text": [
      " 42%|████▏     | 53/126 [02:50<04:26,  3.65s/it]"
     ]
    },
    {
     "name": "stdout",
     "output_type": "stream",
     "text": [
      "data fixed, continue\n"
     ]
    },
    {
     "name": "stderr",
     "output_type": "stream",
     "text": [
      " 43%|████▎     | 54/126 [02:51<03:32,  2.95s/it]"
     ]
    },
    {
     "name": "stdout",
     "output_type": "stream",
     "text": [
      "data fixed, continue\n"
     ]
    },
    {
     "name": "stderr",
     "output_type": "stream",
     "text": [
      " 44%|████▎     | 55/126 [02:52<02:38,  2.23s/it]"
     ]
    },
    {
     "name": "stdout",
     "output_type": "stream",
     "text": [
      "data fixed, continue\n"
     ]
    },
    {
     "name": "stderr",
     "output_type": "stream",
     "text": [
      " 44%|████▍     | 56/126 [02:55<02:56,  2.52s/it]"
     ]
    },
    {
     "name": "stdout",
     "output_type": "stream",
     "text": [
      "data fixed, continue\n"
     ]
    },
    {
     "name": "stderr",
     "output_type": "stream",
     "text": [
      " 45%|████▌     | 57/126 [02:56<02:20,  2.04s/it]"
     ]
    },
    {
     "name": "stdout",
     "output_type": "stream",
     "text": [
      "data fixed, continue\n"
     ]
    },
    {
     "name": "stderr",
     "output_type": "stream",
     "text": [
      " 46%|████▌     | 58/126 [02:57<01:57,  1.73s/it]"
     ]
    },
    {
     "name": "stdout",
     "output_type": "stream",
     "text": [
      "data fixed, continue\n"
     ]
    },
    {
     "name": "stderr",
     "output_type": "stream",
     "text": [
      " 47%|████▋     | 59/126 [02:57<01:27,  1.30s/it]"
     ]
    },
    {
     "name": "stdout",
     "output_type": "stream",
     "text": [
      "data fixed, continue\n"
     ]
    },
    {
     "name": "stderr",
     "output_type": "stream",
     "text": [
      " 48%|████▊     | 60/126 [02:58<01:18,  1.19s/it]"
     ]
    },
    {
     "name": "stdout",
     "output_type": "stream",
     "text": [
      "data fixed, continue\n"
     ]
    },
    {
     "name": "stderr",
     "output_type": "stream",
     "text": [
      " 48%|████▊     | 61/126 [03:06<03:26,  3.18s/it]"
     ]
    },
    {
     "name": "stdout",
     "output_type": "stream",
     "text": [
      "data fixed, continue\n"
     ]
    },
    {
     "name": "stderr",
     "output_type": "stream",
     "text": [
      " 49%|████▉     | 62/126 [03:07<02:40,  2.50s/it]"
     ]
    },
    {
     "name": "stdout",
     "output_type": "stream",
     "text": [
      "data fixed, continue\n"
     ]
    },
    {
     "name": "stderr",
     "output_type": "stream",
     "text": [
      " 50%|█████     | 63/126 [03:09<02:20,  2.23s/it]"
     ]
    },
    {
     "name": "stdout",
     "output_type": "stream",
     "text": [
      "data fixed, continue\n"
     ]
    },
    {
     "name": "stderr",
     "output_type": "stream",
     "text": [
      " 51%|█████     | 64/126 [03:11<02:17,  2.21s/it]"
     ]
    },
    {
     "name": "stdout",
     "output_type": "stream",
     "text": [
      "data fixed, continue\n"
     ]
    },
    {
     "name": "stderr",
     "output_type": "stream",
     "text": [
      " 52%|█████▏    | 65/126 [03:11<01:41,  1.66s/it]"
     ]
    },
    {
     "name": "stdout",
     "output_type": "stream",
     "text": [
      "data fixed, continue\n"
     ]
    },
    {
     "name": "stderr",
     "output_type": "stream",
     "text": [
      " 52%|█████▏    | 66/126 [03:12<01:26,  1.44s/it]"
     ]
    },
    {
     "name": "stdout",
     "output_type": "stream",
     "text": [
      "data fixed, continue\n"
     ]
    },
    {
     "name": "stderr",
     "output_type": "stream",
     "text": [
      " 53%|█████▎    | 67/126 [03:14<01:25,  1.45s/it]"
     ]
    },
    {
     "name": "stdout",
     "output_type": "stream",
     "text": [
      "data fixed, continue\n"
     ]
    },
    {
     "name": "stderr",
     "output_type": "stream",
     "text": [
      " 54%|█████▍    | 68/126 [03:15<01:15,  1.30s/it]"
     ]
    },
    {
     "name": "stdout",
     "output_type": "stream",
     "text": [
      "data fixed, continue\n"
     ]
    },
    {
     "name": "stderr",
     "output_type": "stream",
     "text": [
      " 55%|█████▍    | 69/126 [03:16<01:11,  1.26s/it]"
     ]
    },
    {
     "name": "stdout",
     "output_type": "stream",
     "text": [
      "data fixed, continue\n"
     ]
    },
    {
     "name": "stderr",
     "output_type": "stream",
     "text": [
      " 56%|█████▌    | 70/126 [03:25<03:16,  3.51s/it]"
     ]
    },
    {
     "name": "stdout",
     "output_type": "stream",
     "text": [
      "data fixed, continue\n"
     ]
    },
    {
     "name": "stderr",
     "output_type": "stream",
     "text": [
      " 56%|█████▋    | 71/126 [03:25<02:20,  2.56s/it]"
     ]
    },
    {
     "name": "stdout",
     "output_type": "stream",
     "text": [
      "data fixed, continue\n"
     ]
    },
    {
     "name": "stderr",
     "output_type": "stream",
     "text": [
      " 57%|█████▋    | 72/126 [03:26<01:57,  2.18s/it]"
     ]
    },
    {
     "name": "stdout",
     "output_type": "stream",
     "text": [
      "data fixed, continue\n"
     ]
    },
    {
     "name": "stderr",
     "output_type": "stream",
     "text": [
      " 58%|█████▊    | 73/126 [03:26<01:24,  1.60s/it]"
     ]
    },
    {
     "name": "stdout",
     "output_type": "stream",
     "text": [
      "data fixed, continue\n"
     ]
    },
    {
     "name": "stderr",
     "output_type": "stream",
     "text": [
      " 59%|█████▊    | 74/126 [03:37<03:40,  4.23s/it]"
     ]
    },
    {
     "name": "stdout",
     "output_type": "stream",
     "text": [
      "data fixed, continue\n"
     ]
    },
    {
     "name": "stderr",
     "output_type": "stream",
     "text": [
      " 60%|█████▉    | 75/126 [03:38<02:42,  3.18s/it]"
     ]
    },
    {
     "name": "stdout",
     "output_type": "stream",
     "text": [
      "data fixed, continue\n"
     ]
    },
    {
     "name": "stderr",
     "output_type": "stream",
     "text": [
      " 60%|██████    | 76/126 [03:39<02:06,  2.52s/it]"
     ]
    },
    {
     "name": "stdout",
     "output_type": "stream",
     "text": [
      "data fixed, continue\n"
     ]
    },
    {
     "name": "stderr",
     "output_type": "stream",
     "text": [
      " 61%|██████    | 77/126 [03:40<01:41,  2.08s/it]"
     ]
    },
    {
     "name": "stdout",
     "output_type": "stream",
     "text": [
      "data fixed, continue\n"
     ]
    },
    {
     "name": "stderr",
     "output_type": "stream",
     "text": [
      " 62%|██████▏   | 78/126 [03:40<01:15,  1.58s/it]"
     ]
    },
    {
     "name": "stdout",
     "output_type": "stream",
     "text": [
      "data fixed, continue\n"
     ]
    },
    {
     "name": "stderr",
     "output_type": "stream",
     "text": [
      " 63%|██████▎   | 79/126 [03:41<01:09,  1.48s/it]"
     ]
    },
    {
     "name": "stdout",
     "output_type": "stream",
     "text": [
      "data fixed, continue\n"
     ]
    },
    {
     "name": "stderr",
     "output_type": "stream",
     "text": [
      " 63%|██████▎   | 80/126 [03:42<01:03,  1.38s/it]"
     ]
    },
    {
     "name": "stdout",
     "output_type": "stream",
     "text": [
      "data fixed, continue\n"
     ]
    },
    {
     "name": "stderr",
     "output_type": "stream",
     "text": [
      " 64%|██████▍   | 81/126 [03:43<00:46,  1.04s/it]"
     ]
    },
    {
     "name": "stdout",
     "output_type": "stream",
     "text": [
      "data fixed, continue\n"
     ]
    },
    {
     "name": "stderr",
     "output_type": "stream",
     "text": [
      " 65%|██████▌   | 82/126 [03:44<00:46,  1.05s/it]"
     ]
    },
    {
     "name": "stdout",
     "output_type": "stream",
     "text": [
      "data fixed, continue\n"
     ]
    },
    {
     "name": "stderr",
     "output_type": "stream",
     "text": [
      " 66%|██████▌   | 83/126 [03:45<00:46,  1.09s/it]"
     ]
    },
    {
     "name": "stdout",
     "output_type": "stream",
     "text": [
      "data fixed, continue\n"
     ]
    },
    {
     "name": "stderr",
     "output_type": "stream",
     "text": [
      " 67%|██████▋   | 84/126 [03:46<00:46,  1.12s/it]"
     ]
    },
    {
     "name": "stdout",
     "output_type": "stream",
     "text": [
      "data fixed, continue\n"
     ]
    },
    {
     "name": "stderr",
     "output_type": "stream",
     "text": [
      " 67%|██████▋   | 85/126 [03:47<00:45,  1.12s/it]"
     ]
    },
    {
     "name": "stdout",
     "output_type": "stream",
     "text": [
      "data fixed, continue\n"
     ]
    },
    {
     "name": "stderr",
     "output_type": "stream",
     "text": [
      " 68%|██████▊   | 86/126 [03:49<00:56,  1.42s/it]"
     ]
    },
    {
     "name": "stdout",
     "output_type": "stream",
     "text": [
      "data fixed, continue\n"
     ]
    },
    {
     "name": "stderr",
     "output_type": "stream",
     "text": [
      " 69%|██████▉   | 87/126 [03:50<00:48,  1.24s/it]"
     ]
    },
    {
     "name": "stdout",
     "output_type": "stream",
     "text": [
      "data fixed, continue\n"
     ]
    },
    {
     "name": "stderr",
     "output_type": "stream",
     "text": [
      " 70%|██████▉   | 88/126 [03:50<00:35,  1.07it/s]"
     ]
    },
    {
     "name": "stdout",
     "output_type": "stream",
     "text": [
      "data fixed, continue\n"
     ]
    },
    {
     "name": "stderr",
     "output_type": "stream",
     "text": [
      " 71%|███████   | 89/126 [03:51<00:26,  1.39it/s]"
     ]
    },
    {
     "name": "stdout",
     "output_type": "stream",
     "text": [
      "data fixed, continue\n"
     ]
    },
    {
     "name": "stderr",
     "output_type": "stream",
     "text": [
      " 71%|███████▏  | 90/126 [03:51<00:20,  1.75it/s]"
     ]
    },
    {
     "name": "stdout",
     "output_type": "stream",
     "text": [
      "data fixed, continue\n"
     ]
    },
    {
     "name": "stderr",
     "output_type": "stream",
     "text": [
      " 72%|███████▏  | 91/126 [03:51<00:19,  1.76it/s]"
     ]
    },
    {
     "name": "stdout",
     "output_type": "stream",
     "text": [
      "data fixed, continue\n"
     ]
    },
    {
     "name": "stderr",
     "output_type": "stream",
     "text": [
      " 73%|███████▎  | 92/126 [03:52<00:24,  1.38it/s]"
     ]
    },
    {
     "name": "stdout",
     "output_type": "stream",
     "text": [
      "data fixed, continue\n"
     ]
    },
    {
     "name": "stderr",
     "output_type": "stream",
     "text": [
      " 74%|███████▍  | 93/126 [03:53<00:20,  1.61it/s]"
     ]
    },
    {
     "name": "stdout",
     "output_type": "stream",
     "text": [
      "data fixed, continue\n"
     ]
    },
    {
     "name": "stderr",
     "output_type": "stream",
     "text": [
      " 75%|███████▍  | 94/126 [03:53<00:17,  1.78it/s]"
     ]
    },
    {
     "name": "stdout",
     "output_type": "stream",
     "text": [
      "data fixed, continue\n"
     ]
    },
    {
     "name": "stderr",
     "output_type": "stream",
     "text": [
      " 75%|███████▌  | 95/126 [03:54<00:15,  1.99it/s]"
     ]
    },
    {
     "name": "stdout",
     "output_type": "stream",
     "text": [
      "data fixed, continue\n"
     ]
    },
    {
     "name": "stderr",
     "output_type": "stream",
     "text": [
      " 76%|███████▌  | 96/126 [03:55<00:21,  1.43it/s]"
     ]
    },
    {
     "name": "stdout",
     "output_type": "stream",
     "text": [
      "data fixed, continue\n"
     ]
    },
    {
     "name": "stderr",
     "output_type": "stream",
     "text": [
      " 77%|███████▋  | 97/126 [03:55<00:16,  1.75it/s]"
     ]
    },
    {
     "name": "stdout",
     "output_type": "stream",
     "text": [
      "data fixed, continue\n"
     ]
    },
    {
     "name": "stderr",
     "output_type": "stream",
     "text": [
      " 78%|███████▊  | 98/126 [03:57<00:26,  1.08it/s]"
     ]
    },
    {
     "name": "stdout",
     "output_type": "stream",
     "text": [
      "data fixed, continue\n"
     ]
    },
    {
     "name": "stderr",
     "output_type": "stream",
     "text": [
      " 79%|███████▊  | 99/126 [03:58<00:30,  1.11s/it]"
     ]
    },
    {
     "name": "stdout",
     "output_type": "stream",
     "text": [
      "data fixed, continue\n"
     ]
    },
    {
     "name": "stderr",
     "output_type": "stream",
     "text": [
      " 79%|███████▉  | 100/126 [03:59<00:22,  1.15it/s]"
     ]
    },
    {
     "name": "stdout",
     "output_type": "stream",
     "text": [
      "data fixed, continue\n"
     ]
    },
    {
     "name": "stderr",
     "output_type": "stream",
     "text": [
      " 80%|████████  | 101/126 [04:00<00:27,  1.08s/it]"
     ]
    },
    {
     "name": "stdout",
     "output_type": "stream",
     "text": [
      "data fixed, continue\n"
     ]
    },
    {
     "name": "stderr",
     "output_type": "stream",
     "text": [
      " 81%|████████  | 102/126 [04:02<00:29,  1.25s/it]"
     ]
    },
    {
     "name": "stdout",
     "output_type": "stream",
     "text": [
      "data fixed, continue\n"
     ]
    },
    {
     "name": "stderr",
     "output_type": "stream",
     "text": [
      " 82%|████████▏ | 103/126 [04:04<00:33,  1.45s/it]"
     ]
    },
    {
     "name": "stdout",
     "output_type": "stream",
     "text": [
      "data fixed, continue\n"
     ]
    },
    {
     "name": "stderr",
     "output_type": "stream",
     "text": [
      " 83%|████████▎ | 104/126 [04:06<00:33,  1.54s/it]"
     ]
    },
    {
     "name": "stdout",
     "output_type": "stream",
     "text": [
      "data fixed, continue\n"
     ]
    },
    {
     "name": "stderr",
     "output_type": "stream",
     "text": [
      " 83%|████████▎ | 105/126 [04:07<00:33,  1.57s/it]"
     ]
    },
    {
     "name": "stdout",
     "output_type": "stream",
     "text": [
      "data fixed, continue\n"
     ]
    },
    {
     "name": "stderr",
     "output_type": "stream",
     "text": [
      " 84%|████████▍ | 106/126 [04:09<00:32,  1.63s/it]"
     ]
    },
    {
     "name": "stdout",
     "output_type": "stream",
     "text": [
      "data fixed, continue\n"
     ]
    },
    {
     "name": "stderr",
     "output_type": "stream",
     "text": [
      " 85%|████████▍ | 107/126 [04:12<00:36,  1.91s/it]"
     ]
    },
    {
     "name": "stdout",
     "output_type": "stream",
     "text": [
      "data fixed, continue\n"
     ]
    },
    {
     "name": "stderr",
     "output_type": "stream",
     "text": [
      " 86%|████████▌ | 108/126 [04:13<00:33,  1.84s/it]"
     ]
    },
    {
     "name": "stdout",
     "output_type": "stream",
     "text": [
      "data fixed, continue\n"
     ]
    },
    {
     "name": "stderr",
     "output_type": "stream",
     "text": [
      " 87%|████████▋ | 109/126 [04:16<00:33,  1.98s/it]"
     ]
    },
    {
     "name": "stdout",
     "output_type": "stream",
     "text": [
      "data fixed, continue\n"
     ]
    },
    {
     "name": "stderr",
     "output_type": "stream",
     "text": [
      " 87%|████████▋ | 110/126 [04:16<00:23,  1.50s/it]"
     ]
    },
    {
     "name": "stdout",
     "output_type": "stream",
     "text": [
      "data fixed, continue\n"
     ]
    },
    {
     "name": "stderr",
     "output_type": "stream",
     "text": [
      " 88%|████████▊ | 111/126 [04:17<00:21,  1.42s/it]"
     ]
    },
    {
     "name": "stdout",
     "output_type": "stream",
     "text": [
      "data fixed, continue\n"
     ]
    },
    {
     "name": "stderr",
     "output_type": "stream",
     "text": [
      " 89%|████████▉ | 112/126 [04:19<00:22,  1.61s/it]"
     ]
    },
    {
     "name": "stdout",
     "output_type": "stream",
     "text": [
      "data fixed, continue\n"
     ]
    },
    {
     "name": "stderr",
     "output_type": "stream",
     "text": [
      " 90%|████████▉ | 113/126 [04:22<00:24,  1.89s/it]"
     ]
    },
    {
     "name": "stdout",
     "output_type": "stream",
     "text": [
      "data fixed, continue\n"
     ]
    },
    {
     "name": "stderr",
     "output_type": "stream",
     "text": [
      " 90%|█████████ | 114/126 [04:24<00:24,  2.01s/it]"
     ]
    },
    {
     "name": "stdout",
     "output_type": "stream",
     "text": [
      "data fixed, continue\n"
     ]
    },
    {
     "name": "stderr",
     "output_type": "stream",
     "text": [
      " 91%|█████████▏| 115/126 [04:26<00:22,  2.04s/it]"
     ]
    },
    {
     "name": "stdout",
     "output_type": "stream",
     "text": [
      "data fixed, continue\n"
     ]
    },
    {
     "name": "stderr",
     "output_type": "stream",
     "text": [
      " 92%|█████████▏| 116/126 [04:27<00:15,  1.58s/it]"
     ]
    },
    {
     "name": "stdout",
     "output_type": "stream",
     "text": [
      "data fixed, continue\n"
     ]
    },
    {
     "name": "stderr",
     "output_type": "stream",
     "text": [
      " 93%|█████████▎| 117/126 [04:27<00:10,  1.19s/it]"
     ]
    },
    {
     "name": "stdout",
     "output_type": "stream",
     "text": [
      "data fixed, continue\n"
     ]
    },
    {
     "name": "stderr",
     "output_type": "stream",
     "text": [
      " 94%|█████████▎| 118/126 [04:29<00:11,  1.49s/it]"
     ]
    },
    {
     "name": "stdout",
     "output_type": "stream",
     "text": [
      "data fixed, continue\n"
     ]
    },
    {
     "name": "stderr",
     "output_type": "stream",
     "text": [
      " 94%|█████████▍| 119/126 [04:31<00:10,  1.54s/it]"
     ]
    },
    {
     "name": "stdout",
     "output_type": "stream",
     "text": [
      "data fixed, continue\n"
     ]
    },
    {
     "name": "stderr",
     "output_type": "stream",
     "text": [
      " 96%|█████████▌| 121/126 [04:31<00:04,  1.11it/s]"
     ]
    },
    {
     "name": "stdout",
     "output_type": "stream",
     "text": [
      "data fixed, continue\n",
      "data fixed, continue\n"
     ]
    },
    {
     "name": "stderr",
     "output_type": "stream",
     "text": [
      " 97%|█████████▋| 122/126 [04:32<00:02,  1.36it/s]"
     ]
    },
    {
     "name": "stdout",
     "output_type": "stream",
     "text": [
      "data fixed, continue\n"
     ]
    },
    {
     "name": "stderr",
     "output_type": "stream",
     "text": [
      " 98%|█████████▊| 123/126 [04:34<00:03,  1.23s/it]"
     ]
    },
    {
     "name": "stdout",
     "output_type": "stream",
     "text": [
      "data fixed, continue\n"
     ]
    },
    {
     "name": "stderr",
     "output_type": "stream",
     "text": [
      " 98%|█████████▊| 124/126 [04:38<00:03,  1.99s/it]"
     ]
    },
    {
     "name": "stdout",
     "output_type": "stream",
     "text": [
      "data fixed, continue\n"
     ]
    },
    {
     "name": "stderr",
     "output_type": "stream",
     "text": [
      " 99%|█████████▉| 125/126 [04:38<00:01,  1.52s/it]"
     ]
    },
    {
     "name": "stdout",
     "output_type": "stream",
     "text": [
      "data fixed, continue\n"
     ]
    },
    {
     "name": "stderr",
     "output_type": "stream",
     "text": [
      "100%|██████████| 126/126 [04:41<00:00,  2.23s/it]"
     ]
    },
    {
     "name": "stdout",
     "output_type": "stream",
     "text": [
      "data fixed, continue\n"
     ]
    },
    {
     "name": "stderr",
     "output_type": "stream",
     "text": [
      "\n"
     ]
    }
   ],
   "source": [
    "# clean all the meta file to drop geometry and drop duplicates\n",
    "for city in tqdm(cityls):\n",
    "    cityabbr = city.lower().replace(\" \", \"\")\n",
    "    metafiles = os.listdir(os.path.join(GSVROOT, cityabbr, META_FOLDER))\n",
    "    meta_file = META_FILE.format(cityabbr = cityabbr)\n",
    "    \n",
    "        # Step 1: check remaining data to add to the path\n",
    "    citysummary = GSVSummary(city)\n",
    "    metadf = pd.read_csv(os.path.join(GSVROOT, cityabbr, META_FOLDER, meta_file))\n",
    "    if 'geometry' in metadf.columns:\n",
    "        metadf.drop('geometry', axis = 1).drop_duplicates(\"path\").to_csv(os.path.join(GSVROOT, cityabbr, META_FOLDER, meta_file), index = False)\n",
    "    else:\n",
    "        print(\"data fixed, continue\")\n",
    "        continue"
   ]
  },
  {
   "cell_type": "markdown",
   "metadata": {},
   "source": [
    "# Check all data year distribution"
   ]
  },
  {
   "cell_type": "code",
   "execution_count": 16,
   "metadata": {},
   "outputs": [
    {
     "name": "stderr",
     "output_type": "stream",
     "text": [
      "100%|██████████| 111/111 [08:32<00:00,  4.62s/it]\n"
     ]
    }
   ],
   "source": [
    "# ROOTFOLDER = \"/lustre1/g/geog_pyloo/05_timemachine\"\n",
    "# PANO_PATH = \"{ROOTFOLDER}/GSV/gsv_rgb/{cityabbr}/gsvmeta/gsv_path.csv\"\n",
    "# META_FOLDER = \"gsvmeta\"\n",
    "# GSVROOT = \"/lustre1/g/geog_pyloo/05_timemachine/GSV/gsv_rgb/\"\n",
    "\n",
    "year_summary = []\n",
    "for city in tqdm(city_meta[\"City\"].unique()[16:]):\n",
    "    try:\n",
    "        cityabbr = city.lower().replace(\" \", \"\")\n",
    "        df = pd.read_csv(PANO_PATH.format(ROOTFOLDER = ROOTFOLDER, cityabbr = cityabbr))\n",
    "        df[\"panoid\"] = df[\"path\"].apply(lambda x: x.split(\"/\")[-1][:22])\n",
    "        \n",
    "        df_pano = pd.read_csv(os.path.join(GSVROOT, cityabbr, META_FOLDER, \"gsv_pano.csv\"))\n",
    "        df_merge = df.merge(df_pano, on = \"panoid\")\n",
    "        \n",
    "        df_summary = df_merge.groupby(\"year\")['panoid'].nunique().reset_index().rename(columns = {0:\"count\"})\n",
    "        df_summary[\"city\"] = city\n",
    "        year_summary.append(df_summary)\n",
    "    except:\n",
    "        print(city, \" has no data\")\n",
    "year_summary = pd.concat(year_summary).reset_index(drop = True)\n",
    "# year_summary.to_csv(\"annual_summary.csv\")\n",
    "\n"
   ]
  },
  {
   "cell_type": "code",
   "execution_count": 20,
   "metadata": {},
   "outputs": [],
   "source": [
    "year_summary = year_summary.drop_duplicates()"
   ]
  },
  {
   "cell_type": "code",
   "execution_count": 24,
   "metadata": {},
   "outputs": [],
   "source": [
    "year_summary.to_csv(\"annual_summary.csv\", index = False)"
   ]
  },
  {
   "cell_type": "code",
   "execution_count": 2,
   "metadata": {},
   "outputs": [
    {
     "data": {
      "text/html": [
       "<div>\n",
       "<style scoped>\n",
       "    .dataframe tbody tr th:only-of-type {\n",
       "        vertical-align: middle;\n",
       "    }\n",
       "\n",
       "    .dataframe tbody tr th {\n",
       "        vertical-align: top;\n",
       "    }\n",
       "\n",
       "    .dataframe thead th {\n",
       "        text-align: right;\n",
       "    }\n",
       "</style>\n",
       "<table border=\"1\" class=\"dataframe\">\n",
       "  <thead>\n",
       "    <tr style=\"text-align: right;\">\n",
       "      <th>year</th>\n",
       "      <th>city</th>\n",
       "      <th>2007</th>\n",
       "      <th>2008</th>\n",
       "      <th>2009</th>\n",
       "      <th>2010</th>\n",
       "      <th>2011</th>\n",
       "      <th>2012</th>\n",
       "      <th>2013</th>\n",
       "      <th>2014</th>\n",
       "      <th>2015</th>\n",
       "      <th>2016</th>\n",
       "      <th>2017</th>\n",
       "      <th>2018</th>\n",
       "      <th>2019</th>\n",
       "      <th>2020</th>\n",
       "      <th>2021</th>\n",
       "      <th>2022</th>\n",
       "      <th>2023</th>\n",
       "      <th>2024</th>\n",
       "    </tr>\n",
       "  </thead>\n",
       "  <tbody>\n",
       "    <tr>\n",
       "      <th>0</th>\n",
       "      <td>Accra</td>\n",
       "      <td>0.0</td>\n",
       "      <td>0.0</td>\n",
       "      <td>0.0</td>\n",
       "      <td>0.0</td>\n",
       "      <td>0.0</td>\n",
       "      <td>0.0</td>\n",
       "      <td>0.0</td>\n",
       "      <td>0.0</td>\n",
       "      <td>0.0</td>\n",
       "      <td>37503.0</td>\n",
       "      <td>0.0</td>\n",
       "      <td>0.0</td>\n",
       "      <td>0.0</td>\n",
       "      <td>0.0</td>\n",
       "      <td>0.0</td>\n",
       "      <td>0.0</td>\n",
       "      <td>0.0</td>\n",
       "      <td>0.0</td>\n",
       "    </tr>\n",
       "    <tr>\n",
       "      <th>1</th>\n",
       "      <td>Amsterdam</td>\n",
       "      <td>0.0</td>\n",
       "      <td>29620.0</td>\n",
       "      <td>119571.0</td>\n",
       "      <td>53622.0</td>\n",
       "      <td>7322.0</td>\n",
       "      <td>0.0</td>\n",
       "      <td>1.0</td>\n",
       "      <td>58608.0</td>\n",
       "      <td>70424.0</td>\n",
       "      <td>85169.0</td>\n",
       "      <td>58077.0</td>\n",
       "      <td>57593.0</td>\n",
       "      <td>68362.0</td>\n",
       "      <td>88354.0</td>\n",
       "      <td>115590.0</td>\n",
       "      <td>141438.0</td>\n",
       "      <td>75710.0</td>\n",
       "      <td>0.0</td>\n",
       "    </tr>\n",
       "    <tr>\n",
       "      <th>2</th>\n",
       "      <td>Antwerp</td>\n",
       "      <td>0.0</td>\n",
       "      <td>0.0</td>\n",
       "      <td>0.0</td>\n",
       "      <td>0.0</td>\n",
       "      <td>0.0</td>\n",
       "      <td>0.0</td>\n",
       "      <td>0.0</td>\n",
       "      <td>0.0</td>\n",
       "      <td>0.0</td>\n",
       "      <td>0.0</td>\n",
       "      <td>4442.0</td>\n",
       "      <td>3896.0</td>\n",
       "      <td>5351.0</td>\n",
       "      <td>8593.0</td>\n",
       "      <td>5139.0</td>\n",
       "      <td>3542.0</td>\n",
       "      <td>6278.0</td>\n",
       "      <td>0.0</td>\n",
       "    </tr>\n",
       "    <tr>\n",
       "      <th>3</th>\n",
       "      <td>Astrakhan</td>\n",
       "      <td>0.0</td>\n",
       "      <td>0.0</td>\n",
       "      <td>0.0</td>\n",
       "      <td>0.0</td>\n",
       "      <td>0.0</td>\n",
       "      <td>0.0</td>\n",
       "      <td>0.0</td>\n",
       "      <td>0.0</td>\n",
       "      <td>1161.0</td>\n",
       "      <td>1993.0</td>\n",
       "      <td>2068.0</td>\n",
       "      <td>652.0</td>\n",
       "      <td>2769.0</td>\n",
       "      <td>0.0</td>\n",
       "      <td>11851.0</td>\n",
       "      <td>0.0</td>\n",
       "      <td>0.0</td>\n",
       "      <td>0.0</td>\n",
       "    </tr>\n",
       "    <tr>\n",
       "      <th>4</th>\n",
       "      <td>Athens</td>\n",
       "      <td>0.0</td>\n",
       "      <td>0.0</td>\n",
       "      <td>13627.0</td>\n",
       "      <td>92.0</td>\n",
       "      <td>91442.0</td>\n",
       "      <td>16642.0</td>\n",
       "      <td>0.0</td>\n",
       "      <td>75533.0</td>\n",
       "      <td>8.0</td>\n",
       "      <td>0.0</td>\n",
       "      <td>0.0</td>\n",
       "      <td>0.0</td>\n",
       "      <td>15846.0</td>\n",
       "      <td>0.0</td>\n",
       "      <td>10247.0</td>\n",
       "      <td>80589.0</td>\n",
       "      <td>17942.0</td>\n",
       "      <td>0.0</td>\n",
       "    </tr>\n",
       "    <tr>\n",
       "      <th>...</th>\n",
       "      <td>...</td>\n",
       "      <td>...</td>\n",
       "      <td>...</td>\n",
       "      <td>...</td>\n",
       "      <td>...</td>\n",
       "      <td>...</td>\n",
       "      <td>...</td>\n",
       "      <td>...</td>\n",
       "      <td>...</td>\n",
       "      <td>...</td>\n",
       "      <td>...</td>\n",
       "      <td>...</td>\n",
       "      <td>...</td>\n",
       "      <td>...</td>\n",
       "      <td>...</td>\n",
       "      <td>...</td>\n",
       "      <td>...</td>\n",
       "      <td>...</td>\n",
       "      <td>...</td>\n",
       "    </tr>\n",
       "    <tr>\n",
       "      <th>122</th>\n",
       "      <td>Vijayawada</td>\n",
       "      <td>0.0</td>\n",
       "      <td>0.0</td>\n",
       "      <td>0.0</td>\n",
       "      <td>0.0</td>\n",
       "      <td>0.0</td>\n",
       "      <td>0.0</td>\n",
       "      <td>0.0</td>\n",
       "      <td>0.0</td>\n",
       "      <td>0.0</td>\n",
       "      <td>0.0</td>\n",
       "      <td>0.0</td>\n",
       "      <td>0.0</td>\n",
       "      <td>0.0</td>\n",
       "      <td>0.0</td>\n",
       "      <td>0.0</td>\n",
       "      <td>3011.0</td>\n",
       "      <td>0.0</td>\n",
       "      <td>0.0</td>\n",
       "    </tr>\n",
       "    <tr>\n",
       "      <th>123</th>\n",
       "      <td>Warsaw</td>\n",
       "      <td>0.0</td>\n",
       "      <td>0.0</td>\n",
       "      <td>0.0</td>\n",
       "      <td>0.0</td>\n",
       "      <td>0.0</td>\n",
       "      <td>0.0</td>\n",
       "      <td>0.0</td>\n",
       "      <td>0.0</td>\n",
       "      <td>0.0</td>\n",
       "      <td>74.0</td>\n",
       "      <td>16804.0</td>\n",
       "      <td>19297.0</td>\n",
       "      <td>26109.0</td>\n",
       "      <td>5834.0</td>\n",
       "      <td>11670.0</td>\n",
       "      <td>21848.0</td>\n",
       "      <td>0.0</td>\n",
       "      <td>0.0</td>\n",
       "    </tr>\n",
       "    <tr>\n",
       "      <th>124</th>\n",
       "      <td>Wellington</td>\n",
       "      <td>0.0</td>\n",
       "      <td>14650.0</td>\n",
       "      <td>15425.0</td>\n",
       "      <td>450.0</td>\n",
       "      <td>5.0</td>\n",
       "      <td>66.0</td>\n",
       "      <td>14190.0</td>\n",
       "      <td>896.0</td>\n",
       "      <td>19339.0</td>\n",
       "      <td>0.0</td>\n",
       "      <td>6194.0</td>\n",
       "      <td>3512.0</td>\n",
       "      <td>16411.0</td>\n",
       "      <td>4043.0</td>\n",
       "      <td>3504.0</td>\n",
       "      <td>12140.0</td>\n",
       "      <td>281.0</td>\n",
       "      <td>0.0</td>\n",
       "    </tr>\n",
       "    <tr>\n",
       "      <th>125</th>\n",
       "      <td>Yamaguchi</td>\n",
       "      <td>0.0</td>\n",
       "      <td>0.0</td>\n",
       "      <td>0.0</td>\n",
       "      <td>0.0</td>\n",
       "      <td>0.0</td>\n",
       "      <td>0.0</td>\n",
       "      <td>0.0</td>\n",
       "      <td>0.0</td>\n",
       "      <td>4916.0</td>\n",
       "      <td>0.0</td>\n",
       "      <td>6370.0</td>\n",
       "      <td>15764.0</td>\n",
       "      <td>12912.0</td>\n",
       "      <td>4449.0</td>\n",
       "      <td>13601.0</td>\n",
       "      <td>23589.0</td>\n",
       "      <td>81054.0</td>\n",
       "      <td>0.0</td>\n",
       "    </tr>\n",
       "    <tr>\n",
       "      <th>126</th>\n",
       "      <td>Zwolle</td>\n",
       "      <td>0.0</td>\n",
       "      <td>0.0</td>\n",
       "      <td>0.0</td>\n",
       "      <td>0.0</td>\n",
       "      <td>0.0</td>\n",
       "      <td>0.0</td>\n",
       "      <td>0.0</td>\n",
       "      <td>0.0</td>\n",
       "      <td>1345.0</td>\n",
       "      <td>1869.0</td>\n",
       "      <td>1490.0</td>\n",
       "      <td>1370.0</td>\n",
       "      <td>1431.0</td>\n",
       "      <td>1834.0</td>\n",
       "      <td>4909.0</td>\n",
       "      <td>5624.0</td>\n",
       "      <td>634.0</td>\n",
       "      <td>0.0</td>\n",
       "    </tr>\n",
       "  </tbody>\n",
       "</table>\n",
       "<p>127 rows × 19 columns</p>\n",
       "</div>"
      ],
      "text/plain": [
       "year        city  2007     2008      2009     2010     2011     2012     2013  \\\n",
       "0          Accra   0.0      0.0       0.0      0.0      0.0      0.0      0.0   \n",
       "1      Amsterdam   0.0  29620.0  119571.0  53622.0   7322.0      0.0      1.0   \n",
       "2        Antwerp   0.0      0.0       0.0      0.0      0.0      0.0      0.0   \n",
       "3      Astrakhan   0.0      0.0       0.0      0.0      0.0      0.0      0.0   \n",
       "4         Athens   0.0      0.0   13627.0     92.0  91442.0  16642.0      0.0   \n",
       "..           ...   ...      ...       ...      ...      ...      ...      ...   \n",
       "122   Vijayawada   0.0      0.0       0.0      0.0      0.0      0.0      0.0   \n",
       "123       Warsaw   0.0      0.0       0.0      0.0      0.0      0.0      0.0   \n",
       "124   Wellington   0.0  14650.0   15425.0    450.0      5.0     66.0  14190.0   \n",
       "125    Yamaguchi   0.0      0.0       0.0      0.0      0.0      0.0      0.0   \n",
       "126       Zwolle   0.0      0.0       0.0      0.0      0.0      0.0      0.0   \n",
       "\n",
       "year     2014     2015     2016     2017     2018     2019     2020      2021  \\\n",
       "0         0.0      0.0  37503.0      0.0      0.0      0.0      0.0       0.0   \n",
       "1     58608.0  70424.0  85169.0  58077.0  57593.0  68362.0  88354.0  115590.0   \n",
       "2         0.0      0.0      0.0   4442.0   3896.0   5351.0   8593.0    5139.0   \n",
       "3         0.0   1161.0   1993.0   2068.0    652.0   2769.0      0.0   11851.0   \n",
       "4     75533.0      8.0      0.0      0.0      0.0  15846.0      0.0   10247.0   \n",
       "..        ...      ...      ...      ...      ...      ...      ...       ...   \n",
       "122       0.0      0.0      0.0      0.0      0.0      0.0      0.0       0.0   \n",
       "123       0.0      0.0     74.0  16804.0  19297.0  26109.0   5834.0   11670.0   \n",
       "124     896.0  19339.0      0.0   6194.0   3512.0  16411.0   4043.0    3504.0   \n",
       "125       0.0   4916.0      0.0   6370.0  15764.0  12912.0   4449.0   13601.0   \n",
       "126       0.0   1345.0   1869.0   1490.0   1370.0   1431.0   1834.0    4909.0   \n",
       "\n",
       "year      2022     2023  2024  \n",
       "0          0.0      0.0   0.0  \n",
       "1     141438.0  75710.0   0.0  \n",
       "2       3542.0   6278.0   0.0  \n",
       "3          0.0      0.0   0.0  \n",
       "4      80589.0  17942.0   0.0  \n",
       "..         ...      ...   ...  \n",
       "122     3011.0      0.0   0.0  \n",
       "123    21848.0      0.0   0.0  \n",
       "124    12140.0    281.0   0.0  \n",
       "125    23589.0  81054.0   0.0  \n",
       "126     5624.0    634.0   0.0  \n",
       "\n",
       "[127 rows x 19 columns]"
      ]
     },
     "execution_count": 2,
     "metadata": {},
     "output_type": "execute_result"
    }
   ],
   "source": [
    "year_summary = pd.read_csv(\"annual_summary.csv\")\n",
    "year_summary[\"year\"] = year_summary[\"year\"].astype(int)\n",
    "to_update = year_summary.pivot(columns = [\"year\"], index = \"city\", values = \"panoid\").reset_index().fillna(0)\n",
    "to_update"
   ]
  },
  {
   "cell_type": "code",
   "execution_count": 8,
   "metadata": {},
   "outputs": [],
   "source": [
    "url = \"https://docs.google.com/spreadsheets/d/1o5gFmZPUoDwrrbfE6M26uJF3HnEZll02ivnOxP6K6Xw/edit?usp=sharing\"\n",
    "SHEETNAME = \"data distribution by year\"\n",
    "_, other_worksheet = read_url(url, SHEETNAME)\n",
    "# city_meta = city_meta[city_meta['City']!=''].reset_index(drop = True)\n",
    "# city_meta.head()"
   ]
  },
  {
   "cell_type": "code",
   "execution_count": 23,
   "metadata": {},
   "outputs": [
    {
     "data": {
      "text/plain": [
       "{'spreadsheetId': '1o5gFmZPUoDwrrbfE6M26uJF3HnEZll02ivnOxP6K6Xw',\n",
       " 'updatedRange': \"'data distribution by year'!A1:S128\",\n",
       " 'updatedRows': 128,\n",
       " 'updatedColumns': 19,\n",
       " 'updatedCells': 2432}"
      ]
     },
     "execution_count": 23,
     "metadata": {},
     "output_type": "execute_result"
    }
   ],
   "source": [
    "other_worksheet.update(\n",
    "    [to_update.columns.values.tolist()] + to_update.values.tolist()\n",
    ")"
   ]
  },
  {
   "cell_type": "code",
   "execution_count": 3,
   "metadata": {},
   "outputs": [
    {
     "data": {
      "text/plain": [
       "Index(['city',   2007,   2008,   2009,   2010,   2011,   2012,   2013,   2014,\n",
       "         2015,   2016,   2017,   2018,   2019,   2020,   2021,   2022,   2023,\n",
       "         2024],\n",
       "      dtype='object', name='year')"
      ]
     },
     "execution_count": 3,
     "metadata": {},
     "output_type": "execute_result"
    }
   ],
   "source": [
    "to_update.columns"
   ]
  },
  {
   "cell_type": "code",
   "execution_count": 4,
   "metadata": {},
   "outputs": [],
   "source": [
    "# check data before 2014\n",
    "year_group = ['<2014','2014-2015','2016-2017','2018-2019', '2020-2021','2022-2023']\n",
    "column_map = {\n",
    "    \"<2014\":[2007,   2008,   2009,   2010,   2011,   2012,   2013,],\n",
    "    \"2014-2015\":[2014, 2015],\n",
    "    \"2016-2017\":[2016, 2017],\n",
    "    \"2018-2019\":[2018, 2019],\n",
    "    \"2020-2021\":[2020, 2021],\n",
    "    \"2022-2023\":[2022, 2023]\n",
    "    \n",
    "}\n",
    "to_update_simp = to_update.copy()\n",
    "\n",
    "for key, value in column_map.items():\n",
    "    to_update_simp[key] = to_update_simp[value].sum(axis = 1)\n",
    "to_update_simp = to_update_simp[['city'] +year_group ]\n"
   ]
  },
  {
   "cell_type": "code",
   "execution_count": 25,
   "metadata": {},
   "outputs": [
    {
     "data": {
      "text/html": [
       "<div>\n",
       "<style scoped>\n",
       "    .dataframe tbody tr th:only-of-type {\n",
       "        vertical-align: middle;\n",
       "    }\n",
       "\n",
       "    .dataframe tbody tr th {\n",
       "        vertical-align: top;\n",
       "    }\n",
       "\n",
       "    .dataframe thead th {\n",
       "        text-align: right;\n",
       "    }\n",
       "</style>\n",
       "<table border=\"1\" class=\"dataframe\">\n",
       "  <thead>\n",
       "    <tr style=\"text-align: right;\">\n",
       "      <th>year</th>\n",
       "      <th>city</th>\n",
       "      <th>&lt;2014</th>\n",
       "      <th>2015-2018</th>\n",
       "      <th>2020-2023</th>\n",
       "    </tr>\n",
       "  </thead>\n",
       "  <tbody>\n",
       "    <tr>\n",
       "      <th>0</th>\n",
       "      <td>Accra</td>\n",
       "      <td>0.0</td>\n",
       "      <td>37503.0</td>\n",
       "      <td>0.0</td>\n",
       "    </tr>\n",
       "    <tr>\n",
       "      <th>1</th>\n",
       "      <td>Amsterdam</td>\n",
       "      <td>60945.0</td>\n",
       "      <td>271263.0</td>\n",
       "      <td>421092.0</td>\n",
       "    </tr>\n",
       "    <tr>\n",
       "      <th>2</th>\n",
       "      <td>Antwerp</td>\n",
       "      <td>0.0</td>\n",
       "      <td>8338.0</td>\n",
       "      <td>23552.0</td>\n",
       "    </tr>\n",
       "    <tr>\n",
       "      <th>3</th>\n",
       "      <td>Astrakhan</td>\n",
       "      <td>0.0</td>\n",
       "      <td>5874.0</td>\n",
       "      <td>11851.0</td>\n",
       "    </tr>\n",
       "    <tr>\n",
       "      <th>4</th>\n",
       "      <td>Athens</td>\n",
       "      <td>108176.0</td>\n",
       "      <td>8.0</td>\n",
       "      <td>108778.0</td>\n",
       "    </tr>\n",
       "    <tr>\n",
       "      <th>...</th>\n",
       "      <td>...</td>\n",
       "      <td>...</td>\n",
       "      <td>...</td>\n",
       "      <td>...</td>\n",
       "    </tr>\n",
       "    <tr>\n",
       "      <th>122</th>\n",
       "      <td>Vijayawada</td>\n",
       "      <td>0.0</td>\n",
       "      <td>0.0</td>\n",
       "      <td>3011.0</td>\n",
       "    </tr>\n",
       "    <tr>\n",
       "      <th>123</th>\n",
       "      <td>Warsaw</td>\n",
       "      <td>0.0</td>\n",
       "      <td>36175.0</td>\n",
       "      <td>39352.0</td>\n",
       "    </tr>\n",
       "    <tr>\n",
       "      <th>124</th>\n",
       "      <td>Wellington</td>\n",
       "      <td>14711.0</td>\n",
       "      <td>29045.0</td>\n",
       "      <td>19968.0</td>\n",
       "    </tr>\n",
       "    <tr>\n",
       "      <th>125</th>\n",
       "      <td>Yamaguchi</td>\n",
       "      <td>0.0</td>\n",
       "      <td>27050.0</td>\n",
       "      <td>122693.0</td>\n",
       "    </tr>\n",
       "    <tr>\n",
       "      <th>126</th>\n",
       "      <td>Zwolle</td>\n",
       "      <td>0.0</td>\n",
       "      <td>6074.0</td>\n",
       "      <td>13001.0</td>\n",
       "    </tr>\n",
       "  </tbody>\n",
       "</table>\n",
       "<p>127 rows × 4 columns</p>\n",
       "</div>"
      ],
      "text/plain": [
       "year        city     <2014  2015-2018  2020-2023\n",
       "0          Accra       0.0    37503.0        0.0\n",
       "1      Amsterdam   60945.0   271263.0   421092.0\n",
       "2        Antwerp       0.0     8338.0    23552.0\n",
       "3      Astrakhan       0.0     5874.0    11851.0\n",
       "4         Athens  108176.0        8.0   108778.0\n",
       "..           ...       ...        ...        ...\n",
       "122   Vijayawada       0.0        0.0     3011.0\n",
       "123       Warsaw       0.0    36175.0    39352.0\n",
       "124   Wellington   14711.0    29045.0    19968.0\n",
       "125    Yamaguchi       0.0    27050.0   122693.0\n",
       "126       Zwolle       0.0     6074.0    13001.0\n",
       "\n",
       "[127 rows x 4 columns]"
      ]
     },
     "execution_count": 25,
     "metadata": {},
     "output_type": "execute_result"
    }
   ],
   "source": [
    "# check data before 2014\n",
    "year_group = ['<2014','2015-2018', '2020-2023']\n",
    "to_update['<2014'] = to_update[[2010, 2011, 2012, 2013]].sum(axis = 1)\n",
    "to_update['2015-2018'] = to_update[[2015, 2016, 2017, 2018]].sum(axis = 1)\n",
    "to_update['2020-2023'] = to_update[[2020, 2021, 2022, 2023]].sum(axis = 1)\n",
    "to_update_simp = to_update[[\"city\", \"<2014\", \"2015-2018\", \"2020-2023\"]]\n",
    "to_update_simp"
   ]
  },
  {
   "cell_type": "code",
   "execution_count": 11,
   "metadata": {},
   "outputs": [
    {
     "data": {
      "text/plain": [
       "{'spreadsheetId': '1o5gFmZPUoDwrrbfE6M26uJF3HnEZll02ivnOxP6K6Xw',\n",
       " 'updatedRange': \"'data-year group'!A1:G128\",\n",
       " 'updatedRows': 128,\n",
       " 'updatedColumns': 7,\n",
       " 'updatedCells': 896}"
      ]
     },
     "execution_count": 11,
     "metadata": {},
     "output_type": "execute_result"
    }
   ],
   "source": [
    "# create a new sheet\n",
    "url = \"https://docs.google.com/spreadsheets/d/1o5gFmZPUoDwrrbfE6M26uJF3HnEZll02ivnOxP6K6Xw/edit?usp=sharing\"\n",
    "sheet_name = \"data-year group\"\n",
    "spreadsheet = gc.open_by_url(url)\n",
    "worksheet = spreadsheet.add_worksheet(title = sheet_name, rows = 120, cols = 4)\n",
    "worksheet.update([to_update_simp.columns.values.tolist()] + to_update_simp.values.tolist())"
   ]
  },
  {
   "cell_type": "code",
   "execution_count": null,
   "metadata": {},
   "outputs": [],
   "source": []
  }
 ],
 "metadata": {
  "kernelspec": {
   "display_name": "py312",
   "language": "python",
   "name": "python3"
  },
  "language_info": {
   "codemirror_mode": {
    "name": "ipython",
    "version": 3
   },
   "file_extension": ".py",
   "mimetype": "text/x-python",
   "name": "python",
   "nbconvert_exporter": "python",
   "pygments_lexer": "ipython3",
   "version": "3.12.6"
  }
 },
 "nbformat": 4,
 "nbformat_minor": 4
}
