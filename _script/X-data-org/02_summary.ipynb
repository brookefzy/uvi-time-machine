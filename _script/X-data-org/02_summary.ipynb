{
 "cells": [
  {
   "cell_type": "code",
   "execution_count": 7,
   "metadata": {},
   "outputs": [],
   "source": [
    "import pandas as pd\n",
    "import numpy as np\n",
    "import matplotlib.pyplot as plt\n",
    "import os\n",
    "import shutil\n",
    "from math import sin, cos, sqrt, atan2, radians\n",
    "import random\n",
    "from tqdm import tqdm\n",
    "import multiprocessing\n",
    "from multiprocessing import Pool\n",
    "import glob\n",
    "import sys\n",
    "ROOT_DIR = os.path.abspath(\"../\")\n",
    "sys.path.append(ROOT_DIR)\n",
    "from utils.gsvload import GSVSummary\n",
    "import concurrent.futures"
   ]
  },
  {
   "cell_type": "markdown",
   "metadata": {},
   "source": [
    "# Goal:\n",
    "1. Check downloaded data\n",
    "2. Create the updated {city}_meta.csv file for each city \n",
    "3. the {city}_meta.csv should only include the downloade gsv and selected data in gsv_pano_label.csv\n",
    "4. this meta file is used for segmentation and city never was project. Remaining downloaded data will stay in the gsv_path.csv file"
   ]
  },
  {
   "cell_type": "code",
   "execution_count": 3,
   "metadata": {},
   "outputs": [],
   "source": [
    "META_FILE = \"{citylower}_meta.csv\"\n",
    "city = \"New York\"\n",
    "city_abbr = city.lower().replace(\" \", \"_\")\n",
    "meta_file= META_FILE.format(citylower = city_abbr.replace(\"_\", \"\"))\n",
    "citysummary = GSVSummary(city)\n",
    "GSV_META_FOLDER = citysummary.metafolder\n",
    "\n",
    "meta_df = pd.read_csv(os.path.join(citysummary.metafolder, meta_file), nrows= 1)"
   ]
  },
  {
   "cell_type": "code",
   "execution_count": 4,
   "metadata": {},
   "outputs": [],
   "source": [
    "meta = {\n",
    "    \"path\":\"path to the gsv\",\n",
    "    \"panoid\":\"unique identifier\",\n",
    "    \"angle\":\"image angle\",\n",
    "    \"size\":\"image size\",\n",
    "    \"lat\":\"latitude\",\n",
    "    \"lon\":\"longitude\",\n",
    "    \"year\":\"year taken\",\n",
    "    \"month\":\"month\",\n",
    "    \"id\":\"image id\",\n",
    "    \"dist_hav\":\"distance from the city center\", \n",
    "    \"h3_res8\":\"h3 level 8\",\n",
    "    \"h3_res9\":\"h3 level 9\"\n",
    "}"
   ]
  },
  {
   "cell_type": "markdown",
   "metadata": {},
   "source": [
    "# 1. Check all data availability"
   ]
  },
  {
   "cell_type": "code",
   "execution_count": 5,
   "metadata": {
    "tags": []
   },
   "outputs": [],
   "source": [
    "\n",
    "serviceaccount = \"../../google_drive_personal.json\"\n",
    "import gspread\n",
    "\n",
    "# from oauth2client.service_account import ServiceAccountCredentials\n",
    "gc = gspread.service_account(filename=serviceaccount)\n",
    "\n",
    "\n",
    "def read_url(url, SHEET_NAME):\n",
    "    SHEET_ID = url.split(\"/\")[5]\n",
    "    spreadsheet = gc.open_by_key(SHEET_ID)\n",
    "    worksheet = spreadsheet.worksheet(SHEET_NAME)\n",
    "    rows = worksheet.get_all_records()\n",
    "    df_spread = pd.DataFrame(rows)\n",
    "    return df_spread, worksheet\n",
    "\n",
    "\n",
    "url = \"https://docs.google.com/spreadsheets/d/1o5gFmZPUoDwrrbfE6M26uJF3HnEZll02ivnOxP6K6Xw/edit?usp=sharing\"\n",
    "SHEETNAME = \"select_city\"\n",
    "city_meta, other_worksheet = read_url(url, SHEETNAME)\n",
    "city_meta = city_meta[city_meta['City']!=''].reset_index(drop = True)"
   ]
  },
  {
   "cell_type": "code",
   "execution_count": 6,
   "metadata": {
    "tags": []
   },
   "outputs": [],
   "source": [
    "ROOT = \"/lustre1/g/geog_pyloo\"\n"
   ]
  },
  {
   "cell_type": "code",
   "execution_count": 8,
   "metadata": {},
   "outputs": [],
   "source": [
    "def get_path(subfolder):\n",
    "    files = glob.glob(os.path.join(subfolder, \"*/*/*.jpg\"))\n",
    "    return files\n",
    "\n",
    "\n",
    "def get_file_size(file):\n",
    "    try:\n",
    "        return file, os.path.getsize(file)\n",
    "    except OSError as e:\n",
    "        print(f\"Error: {e}\")\n",
    "        return file, None\n",
    "\n",
    "\n",
    "class GSVnew(GSVSummary):\n",
    "    def __init__(self, city):\n",
    "        super().__init__(city)\n",
    "\n",
    "    def get_gsv_file_size(self, gsv_meta_df):\n",
    "        gsvpath = gsv_meta_df.copy()\n",
    "        files = gsvpath[\"path\"].values\n",
    "        # Store file sizes in a dictionary\n",
    "        file_sizes = {}\n",
    "        with concurrent.futures.ThreadPoolExecutor(max_workers=4) as executor:\n",
    "            # The map method helps maintain the order of results\n",
    "            results = executor.map(get_file_size, files)\n",
    "\n",
    "            for file, size in results:\n",
    "                if size is not None:\n",
    "                    file_sizes[file] = size\n",
    "                else:\n",
    "                    file_sizes[file] = 0  # the file is removed\n",
    "\n",
    "        gsvpath[\"size\"] = gsvpath[\"path\"].apply(lambda x: file_sizes[x])\n",
    "        # gsvpath.to_csv(os.path.join(self.metafolder, \"gsv_path.csv\"), index=False)\n",
    "        return gsvpath"
   ]
  },
  {
   "cell_type": "markdown",
   "metadata": {},
   "source": [
    "## 2.Check all downloaded GSV\n",
    "1. Count number of GSV downloaded\n",
    "2. Generate the gsv_path.csv file for all downloaded gsv"
   ]
  },
  {
   "cell_type": "code",
   "execution_count": 9,
   "metadata": {},
   "outputs": [],
   "source": [
    "import datetime\n",
    "\n",
    "today = datetime.datetime.today().strftime(\"%Y-%m-%d\")\n",
    "gsv_path_file = \"gsv_path.csv\""
   ]
  },
  {
   "cell_type": "code",
   "execution_count": null,
   "metadata": {},
   "outputs": [],
   "source": [
    "# current being transfered, can summarize later\n",
    "city_to_transfer = ['jakarta', \n",
    "                    'lima', # fully transfered\n",
    "                    'metromanila', # fully transfered\n",
    "                    'nagoya',# fully transfered\n",
    "                    'riodejaneiro',# fully transfered\n",
    "                    'milan', # \n",
    "                    'bangkok',\n",
    "                    'toronto',\n",
    "                    'kualalumpur'\n",
    "                   ]"
   ]
  },
  {
   "cell_type": "code",
   "execution_count": 6,
   "metadata": {
    "collapsed": true,
    "jupyter": {
     "outputs_hidden": true
    },
    "tags": []
   },
   "outputs": [
    {
     "name": "stderr",
     "output_type": "stream",
     "text": [
      "  0%|          | 0/3 [00:00<?, ?it/s]"
     ]
    },
    {
     "name": "stdout",
     "output_type": "stream",
     "text": [
      "buenosaires\n"
     ]
    },
    {
     "name": "stderr",
     "output_type": "stream",
     "text": [
      "\n",
      "  0%|          | 0/16 [00:00<?, ?it/s]\u001b[A\n",
      "  6%|▋         | 1/16 [00:29<07:14, 28.94s/it]\u001b[A\n",
      " 12%|█▎        | 2/16 [00:29<02:54, 12.46s/it]\u001b[A\n",
      " 56%|█████▋    | 9/16 [00:55<00:34,  4.89s/it]\u001b[A\n",
      " 62%|██████▎   | 10/16 [00:56<00:25,  4.32s/it]\u001b[A\n",
      " 94%|█████████▍| 15/16 [00:56<00:02,  2.12s/it]\u001b[A\n",
      "100%|██████████| 16/16 [00:56<00:00,  3.54s/it]\u001b[A\n"
     ]
    },
    {
     "name": "stdout",
     "output_type": "stream",
     "text": [
      "no path file exists\n"
     ]
    },
    {
     "name": "stderr",
     "output_type": "stream",
     "text": [
      " 33%|███▎      | 1/3 [01:37<03:14, 97.04s/it]"
     ]
    },
    {
     "name": "stdout",
     "output_type": "stream",
     "text": [
      "dhaka\n"
     ]
    },
    {
     "name": "stderr",
     "output_type": "stream",
     "text": [
      "\n",
      "  0%|          | 0/16 [00:00<?, ?it/s]\u001b[A\n",
      "  6%|▋         | 1/16 [00:01<00:15,  1.02s/it]\u001b[A\n",
      " 25%|██▌       | 4/16 [00:01<00:02,  4.24it/s]\u001b[A\n",
      " 56%|█████▋    | 9/16 [00:01<00:00,  7.81it/s]\u001b[A\n",
      "100%|██████████| 16/16 [00:01<00:00,  8.33it/s]\u001b[A\n"
     ]
    },
    {
     "name": "stdout",
     "output_type": "stream",
     "text": [
      "no path file exists\n"
     ]
    },
    {
     "name": "stderr",
     "output_type": "stream",
     "text": [
      " 67%|██████▋   | 2/3 [01:58<00:52, 52.52s/it]"
     ]
    },
    {
     "name": "stdout",
     "output_type": "stream",
     "text": [
      "hyderabad\n"
     ]
    },
    {
     "name": "stderr",
     "output_type": "stream",
     "text": [
      "\n",
      "  0%|          | 0/16 [00:00<?, ?it/s]\u001b[A\n",
      "  6%|▋         | 1/16 [00:00<00:08,  1.86it/s]\u001b[A\n",
      " 62%|██████▎   | 10/16 [00:00<00:00, 17.28it/s]\u001b[A\n",
      "100%|██████████| 16/16 [00:00<00:00, 19.31it/s]\u001b[A\n"
     ]
    },
    {
     "name": "stdout",
     "output_type": "stream",
     "text": [
      "no path file exists\n"
     ]
    },
    {
     "name": "stderr",
     "output_type": "stream",
     "text": [
      "100%|██████████| 3/3 [02:15<00:00, 45.09s/it]\n"
     ]
    }
   ],
   "source": [
    "# This function checks whether there are more gsv downloaded but not included in the gsv_path file\n",
    "for city in tqdm(['lima']):\n",
    "    print(city)\n",
    "    citysummary = GSVnew(city)\n",
    "    gsvpath = citysummary.load_finshed_gsv()\n",
    "    # load previous gsv path\n",
    "    try:\n",
    "        gsvpath_original = pd.read_csv(os.path.join(citysummary.metafolder, \"gsv_path.csv\"))\n",
    "        print(gsvpath_original.shape[0], \": original\")\n",
    "        remain = gsvpath[\n",
    "            gsvpath[\"panoid\"].isin(gsvpath_original[\"panoid\"]) == False\n",
    "        ].reset_index(drop=True)\n",
    "        if remain.shape[0] > 0:\n",
    "            gsvpath_update = citysummary.get_gsv_file_size(remain)\n",
    "\n",
    "            gsvpath_new = pd.concat([gsvpath_original, gsvpath_update], axis=0)\n",
    "            print(gsvpath_new.shape[0], \": original+new\")\n",
    "            gsvpath_new.to_csv(\n",
    "                os.path.join(citysummary.metafolder, \"gsv_path.csv\"), index=False\n",
    "            )\n",
    "        else:\n",
    "            print(\"no new gsv\")\n",
    "        os.remove(os.path.join(citysummary.metafolder, gsv_path_file))\n",
    "    except:\n",
    "        print(\"no path file exists\")\n",
    "        gsvpath.to_csv(\n",
    "                os.path.join(citysummary.metafolder, \"gsv_path.csv\"), index=False\n",
    "            )"
   ]
  },
  {
   "cell_type": "code",
   "execution_count": null,
   "metadata": {},
   "outputs": [],
   "source": [
    "# recalculate the number of images per city\n",
    "# count = []\n",
    "# for city in tqdm(city_meta[\"City\"].values.tolist()):\n",
    "#     print(city)\n",
    "#     citysummary = GSVnew(city)\n",
    "#     gsvpath = pd.read_csv(os.path.join(citysummary.metafolder, \"gsv_path.csv\"))\n",
    "#     count.append(gsvpath.shape[0])"
   ]
  },
  {
   "cell_type": "code",
   "execution_count": 19,
   "metadata": {},
   "outputs": [],
   "source": [
    "new_cities = ['buenosaires', \n",
    "                  'dhaka',\n",
    "                 'hyderabad']"
   ]
  },
  {
   "cell_type": "code",
   "execution_count": 8,
   "metadata": {},
   "outputs": [
    {
     "name": "stderr",
     "output_type": "stream",
     "text": [
      "100%|██████████| 3/3 [00:49<00:00, 16.46s/it]\n"
     ]
    }
   ],
   "source": [
    "road_result = []\n",
    "pano_result = []\n",
    "gsv_result = []\n",
    "\n",
    "for city in tqdm(new_cities):\n",
    "    result = GSVnew(city)\n",
    "    try:\n",
    "        road_result.append(result.check_road())\n",
    "    except:\n",
    "        road_result.append(0)\n",
    "    try:\n",
    "        pano_result.append(result.check_pano()[1])\n",
    "    except:\n",
    "        pano_result.append(0)\n",
    "    try:\n",
    "        gsvdf = result.load_gsv_path()\n",
    "        n = gsvdf.shape[0]\n",
    "        gsv_result.append(n)\n",
    "    except:\n",
    "        gsv_result.append(0)"
   ]
  },
  {
   "cell_type": "code",
   "execution_count": 11,
   "metadata": {
    "tags": []
   },
   "outputs": [
    {
     "data": {
      "text/html": [
       "<div>\n",
       "<style scoped>\n",
       "    .dataframe tbody tr th:only-of-type {\n",
       "        vertical-align: middle;\n",
       "    }\n",
       "\n",
       "    .dataframe tbody tr th {\n",
       "        vertical-align: top;\n",
       "    }\n",
       "\n",
       "    .dataframe thead th {\n",
       "        text-align: right;\n",
       "    }\n",
       "</style>\n",
       "<table border=\"1\" class=\"dataframe\">\n",
       "  <thead>\n",
       "    <tr style=\"text-align: right;\">\n",
       "      <th></th>\n",
       "      <th>city</th>\n",
       "      <th>num_panoid</th>\n",
       "      <th>road</th>\n",
       "      <th>GSV Downloaded</th>\n",
       "    </tr>\n",
       "  </thead>\n",
       "  <tbody>\n",
       "    <tr>\n",
       "      <th>0</th>\n",
       "      <td>buenosaires</td>\n",
       "      <td>606938</td>\n",
       "      <td>1</td>\n",
       "      <td>2365132</td>\n",
       "    </tr>\n",
       "    <tr>\n",
       "      <th>1</th>\n",
       "      <td>dhaka</td>\n",
       "      <td>515490</td>\n",
       "      <td>1</td>\n",
       "      <td>2054805</td>\n",
       "    </tr>\n",
       "    <tr>\n",
       "      <th>2</th>\n",
       "      <td>hyderabad</td>\n",
       "      <td>183285</td>\n",
       "      <td>1</td>\n",
       "      <td>732376</td>\n",
       "    </tr>\n",
       "  </tbody>\n",
       "</table>\n",
       "</div>"
      ],
      "text/plain": [
       "          city  num_panoid  road  GSV Downloaded\n",
       "0  buenosaires      606938     1         2365132\n",
       "1        dhaka      515490     1         2054805\n",
       "2    hyderabad      183285     1          732376"
      ]
     },
     "execution_count": 11,
     "metadata": {},
     "output_type": "execute_result"
    }
   ],
   "source": [
    "inspectdf = pd.DataFrame(\n",
    "    {\n",
    "        \"city\": new_cities,\n",
    "        \"num_panoid\": pano_result,\n",
    "        \"road\": road_result,\n",
    "        \"GSV Downloaded\": gsv_result,\n",
    "    }\n",
    ")\n",
    "inspectdf"
   ]
  },
  {
   "cell_type": "code",
   "execution_count": 20,
   "metadata": {},
   "outputs": [],
   "source": [
    "city_meta['city'] = city_meta['City'].apply(lambda x: x.lower().replace(\" \", \"\"))\n",
    "city_meta = city_meta.set_index('city')\n",
    "for city in inspectdf.city.unique():\n",
    "    temp = inspectdf[inspectdf['city']==city].reset_index(drop = True)\n",
    "    city_meta.at[city, 'num_panoid'] = temp['num_panoid'].values[0]\n",
    "    city_meta.at[city,  'road'] = temp['road'].values[0]\n",
    "    city_meta.at[city,  'GSV Downloaded'] = temp['GSV Downloaded'].values[0]"
   ]
  },
  {
   "cell_type": "code",
   "execution_count": 22,
   "metadata": {
    "collapsed": true,
    "jupyter": {
     "outputs_hidden": true
    },
    "tags": []
   },
   "outputs": [
    {
     "data": {
      "text/html": [
       "<div>\n",
       "<style scoped>\n",
       "    .dataframe tbody tr th:only-of-type {\n",
       "        vertical-align: middle;\n",
       "    }\n",
       "\n",
       "    .dataframe tbody tr th {\n",
       "        vertical-align: top;\n",
       "    }\n",
       "\n",
       "    .dataframe thead th {\n",
       "        text-align: right;\n",
       "    }\n",
       "</style>\n",
       "<table border=\"1\" class=\"dataframe\">\n",
       "  <thead>\n",
       "    <tr style=\"text-align: right;\">\n",
       "      <th></th>\n",
       "      <th>City</th>\n",
       "      <th>Country</th>\n",
       "      <th>center_lat</th>\n",
       "      <th>center_lng</th>\n",
       "      <th>GSV Pair (15-18, 20-23)</th>\n",
       "      <th>label</th>\n",
       "      <th>h3_9_count</th>\n",
       "      <th>h3_8_count</th>\n",
       "      <th>num_panoid</th>\n",
       "      <th>road</th>\n",
       "      <th>GSV Downloaded</th>\n",
       "      <th>Transfer Progress</th>\n",
       "      <th>Encoding Progress</th>\n",
       "      <th>oneformer Segmentation</th>\n",
       "    </tr>\n",
       "  </thead>\n",
       "  <tbody>\n",
       "    <tr>\n",
       "      <th>0</th>\n",
       "      <td>Mumbai</td>\n",
       "      <td>India</td>\n",
       "      <td>19.076</td>\n",
       "      <td>72.8777</td>\n",
       "      <td></td>\n",
       "      <td>35</td>\n",
       "      <td></td>\n",
       "      <td></td>\n",
       "      <td>21640</td>\n",
       "      <td>1</td>\n",
       "      <td>49301</td>\n",
       "      <td>TRUE</td>\n",
       "      <td>FALSE</td>\n",
       "      <td>FALSE</td>\n",
       "    </tr>\n",
       "    <tr>\n",
       "      <th>1</th>\n",
       "      <td>Kampala</td>\n",
       "      <td>Uganda</td>\n",
       "      <td>0.347596</td>\n",
       "      <td>32.58252</td>\n",
       "      <td>0</td>\n",
       "      <td>10</td>\n",
       "      <td>1390</td>\n",
       "      <td>215</td>\n",
       "      <td>38839</td>\n",
       "      <td>1</td>\n",
       "      <td>116248</td>\n",
       "      <td>TRUE</td>\n",
       "      <td>FALSE</td>\n",
       "      <td>FALSE</td>\n",
       "    </tr>\n",
       "    <tr>\n",
       "      <th>2</th>\n",
       "      <td>Miami</td>\n",
       "      <td>USA</td>\n",
       "      <td>25.7617</td>\n",
       "      <td>-80.1918</td>\n",
       "      <td></td>\n",
       "      <td>39</td>\n",
       "      <td></td>\n",
       "      <td></td>\n",
       "      <td>806659</td>\n",
       "      <td>1</td>\n",
       "      <td>123133</td>\n",
       "      <td>TRUE</td>\n",
       "      <td>FALSE</td>\n",
       "      <td>FALSE</td>\n",
       "    </tr>\n",
       "    <tr>\n",
       "      <th>3</th>\n",
       "      <td>San Francisco</td>\n",
       "      <td>USA</td>\n",
       "      <td>37.7749</td>\n",
       "      <td>-122.4194</td>\n",
       "      <td></td>\n",
       "      <td>37</td>\n",
       "      <td></td>\n",
       "      <td></td>\n",
       "      <td>1346152</td>\n",
       "      <td>1</td>\n",
       "      <td>129104</td>\n",
       "      <td>TRUE</td>\n",
       "      <td>FALSE</td>\n",
       "      <td>FALSE</td>\n",
       "    </tr>\n",
       "    <tr>\n",
       "      <th>4</th>\n",
       "      <td>Paris</td>\n",
       "      <td>France</td>\n",
       "      <td>48.864716</td>\n",
       "      <td>2.349014</td>\n",
       "      <td>4256</td>\n",
       "      <td>13</td>\n",
       "      <td>1151</td>\n",
       "      <td>170</td>\n",
       "      <td>864312</td>\n",
       "      <td>1</td>\n",
       "      <td>133100</td>\n",
       "      <td>TRUE</td>\n",
       "      <td>FALSE</td>\n",
       "      <td>FALSE</td>\n",
       "    </tr>\n",
       "    <tr>\n",
       "      <th>...</th>\n",
       "      <td>...</td>\n",
       "      <td>...</td>\n",
       "      <td>...</td>\n",
       "      <td>...</td>\n",
       "      <td>...</td>\n",
       "      <td>...</td>\n",
       "      <td>...</td>\n",
       "      <td>...</td>\n",
       "      <td>...</td>\n",
       "      <td>...</td>\n",
       "      <td>...</td>\n",
       "      <td>...</td>\n",
       "      <td>...</td>\n",
       "      <td>...</td>\n",
       "    </tr>\n",
       "    <tr>\n",
       "      <th>62</th>\n",
       "      <td>Rio de Janeiro</td>\n",
       "      <td>Brazil</td>\n",
       "      <td>-22.911502</td>\n",
       "      <td>-43.181365</td>\n",
       "      <td></td>\n",
       "      <td></td>\n",
       "      <td></td>\n",
       "      <td></td>\n",
       "      <td></td>\n",
       "      <td></td>\n",
       "      <td></td>\n",
       "      <td>TRUE</td>\n",
       "      <td></td>\n",
       "      <td></td>\n",
       "    </tr>\n",
       "    <tr>\n",
       "      <th>63</th>\n",
       "      <td>Tehran</td>\n",
       "      <td>Iran</td>\n",
       "      <td>35.721568</td>\n",
       "      <td>51.335854</td>\n",
       "      <td></td>\n",
       "      <td></td>\n",
       "      <td></td>\n",
       "      <td></td>\n",
       "      <td></td>\n",
       "      <td></td>\n",
       "      <td></td>\n",
       "      <td>TRUE</td>\n",
       "      <td></td>\n",
       "      <td></td>\n",
       "    </tr>\n",
       "    <tr>\n",
       "      <th>64</th>\n",
       "      <td>Milan</td>\n",
       "      <td>Italy</td>\n",
       "      <td>45.465776</td>\n",
       "      <td>9.187412</td>\n",
       "      <td></td>\n",
       "      <td></td>\n",
       "      <td></td>\n",
       "      <td></td>\n",
       "      <td></td>\n",
       "      <td></td>\n",
       "      <td></td>\n",
       "      <td>TRUE</td>\n",
       "      <td></td>\n",
       "      <td></td>\n",
       "    </tr>\n",
       "    <tr>\n",
       "      <th>65</th>\n",
       "      <td>Kuala Lumpur</td>\n",
       "      <td>Malaysia</td>\n",
       "      <td>3.1495</td>\n",
       "      <td>101.694178</td>\n",
       "      <td></td>\n",
       "      <td></td>\n",
       "      <td></td>\n",
       "      <td></td>\n",
       "      <td></td>\n",
       "      <td></td>\n",
       "      <td></td>\n",
       "      <td>TRUE</td>\n",
       "      <td></td>\n",
       "      <td></td>\n",
       "    </tr>\n",
       "    <tr>\n",
       "      <th>66</th>\n",
       "      <td>Toronto</td>\n",
       "      <td>Canada</td>\n",
       "      <td>43.65837</td>\n",
       "      <td>-79.381684</td>\n",
       "      <td></td>\n",
       "      <td></td>\n",
       "      <td></td>\n",
       "      <td></td>\n",
       "      <td></td>\n",
       "      <td></td>\n",
       "      <td></td>\n",
       "      <td>TRUE</td>\n",
       "      <td></td>\n",
       "      <td></td>\n",
       "    </tr>\n",
       "  </tbody>\n",
       "</table>\n",
       "<p>67 rows × 14 columns</p>\n",
       "</div>"
      ],
      "text/plain": [
       "              City   Country center_lat  center_lng GSV Pair (15-18, 20-23)   \n",
       "0           Mumbai     India     19.076     72.8777                          \\\n",
       "1          Kampala    Uganda   0.347596    32.58252                       0   \n",
       "2            Miami       USA    25.7617    -80.1918                           \n",
       "3    San Francisco       USA    37.7749   -122.4194                           \n",
       "4            Paris    France  48.864716    2.349014                    4256   \n",
       "..             ...       ...        ...         ...                     ...   \n",
       "62  Rio de Janeiro    Brazil -22.911502  -43.181365                           \n",
       "63          Tehran      Iran  35.721568   51.335854                           \n",
       "64           Milan     Italy  45.465776    9.187412                           \n",
       "65    Kuala Lumpur  Malaysia     3.1495  101.694178                           \n",
       "66         Toronto    Canada   43.65837  -79.381684                           \n",
       "\n",
       "   label h3_9_count h3_8_count num_panoid road GSV Downloaded   \n",
       "0     35                            21640    1          49301  \\\n",
       "1     10       1390        215      38839    1         116248   \n",
       "2     39                           806659    1         123133   \n",
       "3     37                          1346152    1         129104   \n",
       "4     13       1151        170     864312    1         133100   \n",
       "..   ...        ...        ...        ...  ...            ...   \n",
       "62                                                              \n",
       "63                                                              \n",
       "64                                                              \n",
       "65                                                              \n",
       "66                                                              \n",
       "\n",
       "   Transfer Progress Encoding Progress oneformer Segmentation  \n",
       "0               TRUE             FALSE                  FALSE  \n",
       "1               TRUE             FALSE                  FALSE  \n",
       "2               TRUE             FALSE                  FALSE  \n",
       "3               TRUE             FALSE                  FALSE  \n",
       "4               TRUE             FALSE                  FALSE  \n",
       "..               ...               ...                    ...  \n",
       "62              TRUE                                           \n",
       "63              TRUE                                           \n",
       "64              TRUE                                           \n",
       "65              TRUE                                           \n",
       "66              TRUE                                           \n",
       "\n",
       "[67 rows x 14 columns]"
      ]
     },
     "execution_count": 22,
     "metadata": {},
     "output_type": "execute_result"
    }
   ],
   "source": [
    "city_meta = city_meta.reset_index(drop = True)\n",
    "city_meta = city_meta.astype(str)"
   ]
  },
  {
   "cell_type": "code",
   "execution_count": 27,
   "metadata": {},
   "outputs": [
    {
     "data": {
      "text/plain": [
       "{'spreadsheetId': '1o5gFmZPUoDwrrbfE6M26uJF3HnEZll02ivnOxP6K6Xw',\n",
       " 'updatedRange': 'select_city!A1:N68',\n",
       " 'updatedRows': 68,\n",
       " 'updatedColumns': 14,\n",
       " 'updatedCells': 952}"
      ]
     },
     "execution_count": 27,
     "metadata": {},
     "output_type": "execute_result"
    }
   ],
   "source": [
    "# write to google sheet\n",
    "other_worksheet.update(\n",
    "    [city_meta.columns.values.tolist()] + city_meta.values.tolist()\n",
    ")"
   ]
  },
  {
   "cell_type": "markdown",
   "metadata": {},
   "source": [
    "# Create final pano meta file for analysis\n"
   ]
  },
  {
   "cell_type": "code",
   "execution_count": 13,
   "metadata": {},
   "outputs": [],
   "source": [
    "# cityabbr = city.lower().replace(\" \", \"\")\n",
    "META_FILE = '{cityabbr}_meta.csv'\n",
    "META_FOLDER = \"gsvmeta\"\n",
    "GSVROOT = \"/lustre1/g/geog_pyloo/05_timemachine/GSV/gsv_rgb/\""
   ]
  },
  {
   "cell_type": "code",
   "execution_count": 20,
   "metadata": {
    "collapsed": true,
    "jupyter": {
     "outputs_hidden": true
    },
    "tags": []
   },
   "outputs": [
    {
     "name": "stderr",
     "output_type": "stream",
     "text": [
      "  0%|          | 0/5 [00:00<?, ?it/s]"
     ]
    },
    {
     "name": "stdout",
     "output_type": "stream",
     "text": [
      "Meta file missing, now processing:  milan\n",
      "                                                path                  panoid\n",
      "0  ./data/gsv_rgb/milan/img_rgb/4_1/1/3/TM0lPn6MA...  TM0lPn6MAec85C0miWWYbQ\n",
      "./data/gsv_rgb/milan/img_rgb/4_1/1/3/TM0lPn6MAec85C0miWWYbQ_0.jpg\n",
      "need to correct the path\n",
      "4646129 : original\n",
      "Total number of panos: 4646129\n"
     ]
    },
    {
     "name": "stderr",
     "output_type": "stream",
     "text": [
      " 20%|██        | 1/5 [00:38<02:33, 38.48s/it]"
     ]
    },
    {
     "name": "stdout",
     "output_type": "stream",
     "text": [
      "final saved file number of rows:  179964\n",
      "Meta file missing, now processing:  bangkok\n",
      "                                                path                  panoid\n",
      "0  ./data/gsv_rgb/bangkok/img_rgb/8_1/9/1/6qce74X...  6qce74XwW42RGAWKneaFXQ\n",
      "./data/gsv_rgb/bangkok/img_rgb/8_1/9/1/6qce74XwW42RGAWKneaFXQ_0.jpg\n",
      "need to correct the path\n",
      "9848301 : original\n",
      "Total number of panos: 9848301\n"
     ]
    },
    {
     "name": "stderr",
     "output_type": "stream",
     "text": [
      " 40%|████      | 2/5 [02:11<03:30, 70.28s/it]"
     ]
    },
    {
     "name": "stdout",
     "output_type": "stream",
     "text": [
      "final saved file number of rows:  1147829\n",
      "Meta file missing, now processing:  toronto\n",
      "                                                path                  panoid\n",
      "0  ./data/gsv_rgb/toronto/img_rgb/3_1/8/e/wILWhGp...  wILWhGpMSITo6VPxWQmJ1g\n",
      "./data/gsv_rgb/toronto/img_rgb/3_1/8/e/wILWhGpMSITo6VPxWQmJ1g_0.jpg\n",
      "need to correct the path\n",
      "3226919 : original\n",
      "Total number of panos: 3226919\n"
     ]
    },
    {
     "name": "stderr",
     "output_type": "stream",
     "text": [
      " 60%|██████    | 3/5 [02:36<01:39, 49.97s/it]"
     ]
    },
    {
     "name": "stdout",
     "output_type": "stream",
     "text": [
      "final saved file number of rows:  104557\n",
      "Meta file missing, now processing:  kualalumpur\n",
      "                                                path                  panoid\n",
      "0  ./data/gsv_rgb/kualalumpur/img_rgb/7_1/3/f/mDH...  mDHR3xS7nQAjgsTOlOymwQ\n",
      "./data/gsv_rgb/kualalumpur/img_rgb/7_1/3/f/mDHR3xS7nQAjgsTOlOymwQ_0.jpg\n",
      "need to correct the path\n",
      "2252334 : original\n",
      "Total number of panos: 2252334\n"
     ]
    },
    {
     "name": "stderr",
     "output_type": "stream",
     "text": [
      " 80%|████████  | 4/5 [02:54<00:37, 37.38s/it]"
     ]
    },
    {
     "name": "stdout",
     "output_type": "stream",
     "text": [
      "final saved file number of rows:  208340\n",
      "Meta file missing, now processing:  jakarta\n",
      "                                                path                  panoid\n",
      "0  ./data/gsv_rgb/jakarta/img_rgb/b_1/2/6/uQIcL69...  uQIcL699DH6eXfNnzPPQvA\n",
      "./data/gsv_rgb/jakarta/img_rgb/b_1/2/6/uQIcL699DH6eXfNnzPPQvA_0.jpg\n",
      "need to correct the path\n",
      "6701389 : original\n",
      "Total number of panos: 6701389\n"
     ]
    },
    {
     "name": "stderr",
     "output_type": "stream",
     "text": [
      "100%|██████████| 5/5 [03:49<00:00, 45.97s/it]"
     ]
    },
    {
     "name": "stdout",
     "output_type": "stream",
     "text": [
      "final saved file number of rows:  659418\n"
     ]
    },
    {
     "name": "stderr",
     "output_type": "stream",
     "text": [
      "\n"
     ]
    }
   ],
   "source": [
    "for city in tqdm([\n",
    "    # 'buenosaires','dhaka',\n",
    "                 # 'lima', # direct transfer\n",
    "                 #    'metromanila', # direct transfer\n",
    "                 #    'nagoya', # direct transfer\n",
    "                 #    'riodejaneiro', # direct transfer\n",
    "                    'milan', # tar - 3572 \n",
    "                    'bangkok', # transfered -3573 - suspect of data not fully transfered\n",
    "                    'toronto', # tar - 3574\n",
    "                    'kualalumpur', # tar - 3575\n",
    "                     'jakarta'\n",
    "]): \n",
    "    # Step 0: check whether the meta data already exists\n",
    "    cityabbr = city.lower().replace(\" \", \"\")\n",
    "    metafiles = os.listdir(os.path.join(GSVROOT, cityabbr, META_FOLDER))\n",
    "    meta_file = META_FILE.format(cityabbr = cityabbr)\n",
    "    \n",
    "    if META_FILE in metafiles:\n",
    "        print(f\"CITY {city} meta file already exists\")\n",
    "\n",
    "    else:\n",
    "        print(\"Meta file missing, now processing: \", city)\n",
    "        # Step 1: check remaining data to add to the path\n",
    "        citysummary = GSVSummary(city)\n",
    "        gsvpath = pd.read_csv(os.path.join(citysummary.metafolder, \"gsv_path.csv\"))\n",
    "        print(gsvpath.head(1))\n",
    "        path_sample = gsvpath['path'].values[0]\n",
    "        if \"/data/\" in path_sample:\n",
    "            print(path_sample)\n",
    "            print(\"need to correct the path\")\n",
    "            gsvpath['path'] = gsvpath['path'].apply(lambda x: x.replace(\"./data/\", \"/lustre1/g/geog_pyloo/05_timemachine/GSV/\"))\n",
    "        else:\n",
    "            print(\"Path is already correct\")\n",
    "        print(gsvpath.shape[0], \": original\")\n",
    "        \n",
    "        # Step 2: merge the meta file and save file\n",
    "        metadf_update = citysummary.merge_meta(sel = True)\n",
    "        print(\"final saved file number of rows: \", metadf_update.shape[0])\n",
    "        import gc\n",
    "        gc.collect()\n"
   ]
  },
  {
   "cell_type": "code",
   "execution_count": 18,
   "metadata": {},
   "outputs": [
    {
     "data": {
      "text/plain": [
       "(854825, 13)"
      ]
     },
     "execution_count": 18,
     "metadata": {},
     "output_type": "execute_result"
    }
   ],
   "source": [
    "metadf_update.shape"
   ]
  },
  {
   "cell_type": "code",
   "execution_count": null,
   "metadata": {},
   "outputs": [],
   "source": []
  }
 ],
 "metadata": {
  "kernelspec": {
   "display_name": "geo311",
   "language": "python",
   "name": "geo311"
  },
  "language_info": {
   "codemirror_mode": {
    "name": "ipython",
    "version": 3
   },
   "file_extension": ".py",
   "mimetype": "text/x-python",
   "name": "python",
   "nbconvert_exporter": "python",
   "pygments_lexer": "ipython3",
   "version": "3.11.8"
  }
 },
 "nbformat": 4,
 "nbformat_minor": 4
}
